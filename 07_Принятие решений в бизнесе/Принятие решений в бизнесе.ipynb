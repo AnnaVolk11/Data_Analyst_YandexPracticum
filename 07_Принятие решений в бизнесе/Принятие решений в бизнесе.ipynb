{
 "cells": [
  {
   "cell_type": "markdown",
   "metadata": {},
   "source": [
    "**ПРИНЯТИЕ РЕШЕНИЙ В БИЗНЕСЕ.** \n",
    "\n",
    "Анализируем крупный интернет-магазин. "
   ]
  },
  {
   "cell_type": "markdown",
   "metadata": {},
   "source": [
    "**Задача проекта:** подготовить список гипотез для увеличения выручки.\n",
    "Приоритизировать гипотезы, запустить A/B-тест и проанализировать результаты. "
   ]
  },
  {
   "cell_type": "code",
   "execution_count": 1,
   "metadata": {},
   "outputs": [],
   "source": [
    "# библиотеки\n",
    "import pandas as pd\n",
    "import numpy as np\n",
    "import matplotlib.pyplot as plt\n",
    "import plotly.express as px\n",
    "import seaborn as sns\n",
    "import math\n",
    "from IPython.display import display\n",
    "from scipy import stats as st"
   ]
  },
  {
   "cell_type": "markdown",
   "metadata": {},
   "source": [
    "Изучим данные и информацию"
   ]
  },
  {
   "cell_type": "code",
   "execution_count": 2,
   "metadata": {},
   "outputs": [],
   "source": [
    "hypothesis = pd.read_csv('https://code.s3.yandex.net/datasets/hypothesis.csv')"
   ]
  },
  {
   "cell_type": "code",
   "execution_count": 3,
   "metadata": {
    "scrolled": true
   },
   "outputs": [
    {
     "name": "stdout",
     "output_type": "stream",
     "text": [
      "<class 'pandas.core.frame.DataFrame'>\n",
      "RangeIndex: 9 entries, 0 to 8\n",
      "Data columns (total 5 columns):\n",
      " #   Column      Non-Null Count  Dtype \n",
      "---  ------      --------------  ----- \n",
      " 0   Hypothesis  9 non-null      object\n",
      " 1   Reach       9 non-null      int64 \n",
      " 2   Impact      9 non-null      int64 \n",
      " 3   Confidence  9 non-null      int64 \n",
      " 4   Efforts     9 non-null      int64 \n",
      "dtypes: int64(4), object(1)\n",
      "memory usage: 492.0+ bytes\n"
     ]
    }
   ],
   "source": [
    "hypothesis.info()"
   ]
  },
  {
   "cell_type": "code",
   "execution_count": 4,
   "metadata": {},
   "outputs": [],
   "source": [
    "# приведем столбцы к одному формату\n",
    "\n",
    "hypothesis = hypothesis.rename(columns={'Hypothesis': 'hypothesis','Reach': 'reach','Impact': 'impact', 'Confidence': 'confidence', 'Efforts': 'efforts'})"
   ]
  },
  {
   "cell_type": "code",
   "execution_count": 5,
   "metadata": {},
   "outputs": [
    {
     "data": {
      "text/html": [
       "<div>\n",
       "<style scoped>\n",
       "    .dataframe tbody tr th:only-of-type {\n",
       "        vertical-align: middle;\n",
       "    }\n",
       "\n",
       "    .dataframe tbody tr th {\n",
       "        vertical-align: top;\n",
       "    }\n",
       "\n",
       "    .dataframe thead th {\n",
       "        text-align: right;\n",
       "    }\n",
       "</style>\n",
       "<table border=\"1\" class=\"dataframe\">\n",
       "  <thead>\n",
       "    <tr style=\"text-align: right;\">\n",
       "      <th></th>\n",
       "      <th>hypothesis</th>\n",
       "      <th>reach</th>\n",
       "      <th>impact</th>\n",
       "      <th>confidence</th>\n",
       "      <th>efforts</th>\n",
       "    </tr>\n",
       "  </thead>\n",
       "  <tbody>\n",
       "    <tr>\n",
       "      <th>0</th>\n",
       "      <td>Добавить два новых канала привлечения трафика, что позволит привлекать на 30% больше пользователей</td>\n",
       "      <td>3</td>\n",
       "      <td>10</td>\n",
       "      <td>8</td>\n",
       "      <td>6</td>\n",
       "    </tr>\n",
       "    <tr>\n",
       "      <th>1</th>\n",
       "      <td>Запустить собственную службу доставки, что сократит срок доставки заказов</td>\n",
       "      <td>2</td>\n",
       "      <td>5</td>\n",
       "      <td>4</td>\n",
       "      <td>10</td>\n",
       "    </tr>\n",
       "    <tr>\n",
       "      <th>2</th>\n",
       "      <td>Добавить блоки рекомендаций товаров на сайт интернет магазина, чтобы повысить конверсию и средний чек заказа</td>\n",
       "      <td>8</td>\n",
       "      <td>3</td>\n",
       "      <td>7</td>\n",
       "      <td>3</td>\n",
       "    </tr>\n",
       "    <tr>\n",
       "      <th>3</th>\n",
       "      <td>Изменить структура категорий, что увеличит конверсию, т.к. пользователи быстрее найдут нужный товар</td>\n",
       "      <td>8</td>\n",
       "      <td>3</td>\n",
       "      <td>3</td>\n",
       "      <td>8</td>\n",
       "    </tr>\n",
       "    <tr>\n",
       "      <th>4</th>\n",
       "      <td>Изменить цвет фона главной страницы, чтобы увеличить вовлеченность пользователей</td>\n",
       "      <td>3</td>\n",
       "      <td>1</td>\n",
       "      <td>1</td>\n",
       "      <td>1</td>\n",
       "    </tr>\n",
       "    <tr>\n",
       "      <th>5</th>\n",
       "      <td>Добавить страницу отзывов клиентов о магазине, что позволит увеличить количество заказов</td>\n",
       "      <td>3</td>\n",
       "      <td>2</td>\n",
       "      <td>2</td>\n",
       "      <td>3</td>\n",
       "    </tr>\n",
       "    <tr>\n",
       "      <th>6</th>\n",
       "      <td>Показать на главной странице баннеры с актуальными акциями и распродажами, чтобы увеличить конверсию</td>\n",
       "      <td>5</td>\n",
       "      <td>3</td>\n",
       "      <td>8</td>\n",
       "      <td>3</td>\n",
       "    </tr>\n",
       "    <tr>\n",
       "      <th>7</th>\n",
       "      <td>Добавить форму подписки на все основные страницы, чтобы собрать базу клиентов для email-рассылок</td>\n",
       "      <td>10</td>\n",
       "      <td>7</td>\n",
       "      <td>8</td>\n",
       "      <td>5</td>\n",
       "    </tr>\n",
       "    <tr>\n",
       "      <th>8</th>\n",
       "      <td>Запустить акцию, дающую скидку на товар в день рождения</td>\n",
       "      <td>1</td>\n",
       "      <td>9</td>\n",
       "      <td>9</td>\n",
       "      <td>5</td>\n",
       "    </tr>\n",
       "  </tbody>\n",
       "</table>\n",
       "</div>"
      ],
      "text/plain": [
       "                                                                                                     hypothesis  \\\n",
       "0            Добавить два новых канала привлечения трафика, что позволит привлекать на 30% больше пользователей   \n",
       "1                                     Запустить собственную службу доставки, что сократит срок доставки заказов   \n",
       "2  Добавить блоки рекомендаций товаров на сайт интернет магазина, чтобы повысить конверсию и средний чек заказа   \n",
       "3           Изменить структура категорий, что увеличит конверсию, т.к. пользователи быстрее найдут нужный товар   \n",
       "4                              Изменить цвет фона главной страницы, чтобы увеличить вовлеченность пользователей   \n",
       "5                      Добавить страницу отзывов клиентов о магазине, что позволит увеличить количество заказов   \n",
       "6          Показать на главной странице баннеры с актуальными акциями и распродажами, чтобы увеличить конверсию   \n",
       "7              Добавить форму подписки на все основные страницы, чтобы собрать базу клиентов для email-рассылок   \n",
       "8                                                       Запустить акцию, дающую скидку на товар в день рождения   \n",
       "\n",
       "   reach  impact  confidence  efforts  \n",
       "0      3      10           8        6  \n",
       "1      2       5           4       10  \n",
       "2      8       3           7        3  \n",
       "3      8       3           3        8  \n",
       "4      3       1           1        1  \n",
       "5      3       2           2        3  \n",
       "6      5       3           8        3  \n",
       "7     10       7           8        5  \n",
       "8      1       9           9        5  "
      ]
     },
     "execution_count": 5,
     "metadata": {},
     "output_type": "execute_result"
    }
   ],
   "source": [
    "pd.set_option('max_colwidth', 150)\n",
    "hypothesis.head(10)"
   ]
  },
  {
   "cell_type": "markdown",
   "metadata": {},
   "source": [
    "**ЧАСТЬ 1-ая. Приоритизация гипотез.**\n",
    "- **Задача:** Применить фреймворк ICE для приоритизации гипотез. Отсортировать их по убыванию приоритета."
   ]
  },
  {
   "cell_type": "code",
   "execution_count": 6,
   "metadata": {},
   "outputs": [],
   "source": [
    "hypothesis['ICE'] = round (hypothesis['impact']*hypothesis['confidence']/hypothesis['efforts'], 2)"
   ]
  },
  {
   "cell_type": "code",
   "execution_count": 7,
   "metadata": {},
   "outputs": [],
   "source": [
    "pd.set_option('max_colwidth', 150)"
   ]
  },
  {
   "cell_type": "code",
   "execution_count": 8,
   "metadata": {},
   "outputs": [
    {
     "data": {
      "text/html": [
       "<div>\n",
       "<style scoped>\n",
       "    .dataframe tbody tr th:only-of-type {\n",
       "        vertical-align: middle;\n",
       "    }\n",
       "\n",
       "    .dataframe tbody tr th {\n",
       "        vertical-align: top;\n",
       "    }\n",
       "\n",
       "    .dataframe thead th {\n",
       "        text-align: right;\n",
       "    }\n",
       "</style>\n",
       "<table border=\"1\" class=\"dataframe\">\n",
       "  <thead>\n",
       "    <tr style=\"text-align: right;\">\n",
       "      <th></th>\n",
       "      <th>hypothesis</th>\n",
       "      <th>ICE</th>\n",
       "    </tr>\n",
       "  </thead>\n",
       "  <tbody>\n",
       "    <tr>\n",
       "      <th>8</th>\n",
       "      <td>Запустить акцию, дающую скидку на товар в день рождения</td>\n",
       "      <td>16.20</td>\n",
       "    </tr>\n",
       "    <tr>\n",
       "      <th>0</th>\n",
       "      <td>Добавить два новых канала привлечения трафика, что позволит привлекать на 30% больше пользователей</td>\n",
       "      <td>13.33</td>\n",
       "    </tr>\n",
       "    <tr>\n",
       "      <th>7</th>\n",
       "      <td>Добавить форму подписки на все основные страницы, чтобы собрать базу клиентов для email-рассылок</td>\n",
       "      <td>11.20</td>\n",
       "    </tr>\n",
       "    <tr>\n",
       "      <th>6</th>\n",
       "      <td>Показать на главной странице баннеры с актуальными акциями и распродажами, чтобы увеличить конверсию</td>\n",
       "      <td>8.00</td>\n",
       "    </tr>\n",
       "    <tr>\n",
       "      <th>2</th>\n",
       "      <td>Добавить блоки рекомендаций товаров на сайт интернет магазина, чтобы повысить конверсию и средний чек заказа</td>\n",
       "      <td>7.00</td>\n",
       "    </tr>\n",
       "    <tr>\n",
       "      <th>1</th>\n",
       "      <td>Запустить собственную службу доставки, что сократит срок доставки заказов</td>\n",
       "      <td>2.00</td>\n",
       "    </tr>\n",
       "    <tr>\n",
       "      <th>5</th>\n",
       "      <td>Добавить страницу отзывов клиентов о магазине, что позволит увеличить количество заказов</td>\n",
       "      <td>1.33</td>\n",
       "    </tr>\n",
       "    <tr>\n",
       "      <th>3</th>\n",
       "      <td>Изменить структура категорий, что увеличит конверсию, т.к. пользователи быстрее найдут нужный товар</td>\n",
       "      <td>1.12</td>\n",
       "    </tr>\n",
       "    <tr>\n",
       "      <th>4</th>\n",
       "      <td>Изменить цвет фона главной страницы, чтобы увеличить вовлеченность пользователей</td>\n",
       "      <td>1.00</td>\n",
       "    </tr>\n",
       "  </tbody>\n",
       "</table>\n",
       "</div>"
      ],
      "text/plain": [
       "                                                                                                     hypothesis  \\\n",
       "8                                                       Запустить акцию, дающую скидку на товар в день рождения   \n",
       "0            Добавить два новых канала привлечения трафика, что позволит привлекать на 30% больше пользователей   \n",
       "7              Добавить форму подписки на все основные страницы, чтобы собрать базу клиентов для email-рассылок   \n",
       "6          Показать на главной странице баннеры с актуальными акциями и распродажами, чтобы увеличить конверсию   \n",
       "2  Добавить блоки рекомендаций товаров на сайт интернет магазина, чтобы повысить конверсию и средний чек заказа   \n",
       "1                                     Запустить собственную службу доставки, что сократит срок доставки заказов   \n",
       "5                      Добавить страницу отзывов клиентов о магазине, что позволит увеличить количество заказов   \n",
       "3           Изменить структура категорий, что увеличит конверсию, т.к. пользователи быстрее найдут нужный товар   \n",
       "4                              Изменить цвет фона главной страницы, чтобы увеличить вовлеченность пользователей   \n",
       "\n",
       "     ICE  \n",
       "8  16.20  \n",
       "0  13.33  \n",
       "7  11.20  \n",
       "6   8.00  \n",
       "2   7.00  \n",
       "1   2.00  \n",
       "5   1.33  \n",
       "3   1.12  \n",
       "4   1.00  "
      ]
     },
     "execution_count": 8,
     "metadata": {},
     "output_type": "execute_result"
    }
   ],
   "source": [
    "hypothesis[['hypothesis', 'ICE']].sort_values(by='ICE', ascending=False)"
   ]
  },
  {
   "cell_type": "markdown",
   "metadata": {},
   "source": [
    "**Задача:** Применить фреймворк RICE для приоритизации гипотез. Отсортировать их по убыванию приоритета. "
   ]
  },
  {
   "cell_type": "code",
   "execution_count": 9,
   "metadata": {},
   "outputs": [],
   "source": [
    "hypothesis['RICE'] = (\n",
    "    (hypothesis['reach']*hypothesis['impact']*hypothesis['confidence'])/hypothesis['efforts'])"
   ]
  },
  {
   "cell_type": "code",
   "execution_count": 10,
   "metadata": {},
   "outputs": [],
   "source": [
    "pd.set_option('max_colwidth', 150)"
   ]
  },
  {
   "cell_type": "code",
   "execution_count": 11,
   "metadata": {},
   "outputs": [
    {
     "data": {
      "text/html": [
       "<div>\n",
       "<style scoped>\n",
       "    .dataframe tbody tr th:only-of-type {\n",
       "        vertical-align: middle;\n",
       "    }\n",
       "\n",
       "    .dataframe tbody tr th {\n",
       "        vertical-align: top;\n",
       "    }\n",
       "\n",
       "    .dataframe thead th {\n",
       "        text-align: right;\n",
       "    }\n",
       "</style>\n",
       "<table border=\"1\" class=\"dataframe\">\n",
       "  <thead>\n",
       "    <tr style=\"text-align: right;\">\n",
       "      <th></th>\n",
       "      <th>hypothesis</th>\n",
       "      <th>RICE</th>\n",
       "    </tr>\n",
       "  </thead>\n",
       "  <tbody>\n",
       "    <tr>\n",
       "      <th>7</th>\n",
       "      <td>Добавить форму подписки на все основные страницы, чтобы собрать базу клиентов для email-рассылок</td>\n",
       "      <td>112.0</td>\n",
       "    </tr>\n",
       "    <tr>\n",
       "      <th>2</th>\n",
       "      <td>Добавить блоки рекомендаций товаров на сайт интернет магазина, чтобы повысить конверсию и средний чек заказа</td>\n",
       "      <td>56.0</td>\n",
       "    </tr>\n",
       "    <tr>\n",
       "      <th>0</th>\n",
       "      <td>Добавить два новых канала привлечения трафика, что позволит привлекать на 30% больше пользователей</td>\n",
       "      <td>40.0</td>\n",
       "    </tr>\n",
       "    <tr>\n",
       "      <th>6</th>\n",
       "      <td>Показать на главной странице баннеры с актуальными акциями и распродажами, чтобы увеличить конверсию</td>\n",
       "      <td>40.0</td>\n",
       "    </tr>\n",
       "    <tr>\n",
       "      <th>8</th>\n",
       "      <td>Запустить акцию, дающую скидку на товар в день рождения</td>\n",
       "      <td>16.2</td>\n",
       "    </tr>\n",
       "    <tr>\n",
       "      <th>3</th>\n",
       "      <td>Изменить структура категорий, что увеличит конверсию, т.к. пользователи быстрее найдут нужный товар</td>\n",
       "      <td>9.0</td>\n",
       "    </tr>\n",
       "    <tr>\n",
       "      <th>1</th>\n",
       "      <td>Запустить собственную службу доставки, что сократит срок доставки заказов</td>\n",
       "      <td>4.0</td>\n",
       "    </tr>\n",
       "    <tr>\n",
       "      <th>5</th>\n",
       "      <td>Добавить страницу отзывов клиентов о магазине, что позволит увеличить количество заказов</td>\n",
       "      <td>4.0</td>\n",
       "    </tr>\n",
       "    <tr>\n",
       "      <th>4</th>\n",
       "      <td>Изменить цвет фона главной страницы, чтобы увеличить вовлеченность пользователей</td>\n",
       "      <td>3.0</td>\n",
       "    </tr>\n",
       "  </tbody>\n",
       "</table>\n",
       "</div>"
      ],
      "text/plain": [
       "                                                                                                     hypothesis  \\\n",
       "7              Добавить форму подписки на все основные страницы, чтобы собрать базу клиентов для email-рассылок   \n",
       "2  Добавить блоки рекомендаций товаров на сайт интернет магазина, чтобы повысить конверсию и средний чек заказа   \n",
       "0            Добавить два новых канала привлечения трафика, что позволит привлекать на 30% больше пользователей   \n",
       "6          Показать на главной странице баннеры с актуальными акциями и распродажами, чтобы увеличить конверсию   \n",
       "8                                                       Запустить акцию, дающую скидку на товар в день рождения   \n",
       "3           Изменить структура категорий, что увеличит конверсию, т.к. пользователи быстрее найдут нужный товар   \n",
       "1                                     Запустить собственную службу доставки, что сократит срок доставки заказов   \n",
       "5                      Добавить страницу отзывов клиентов о магазине, что позволит увеличить количество заказов   \n",
       "4                              Изменить цвет фона главной страницы, чтобы увеличить вовлеченность пользователей   \n",
       "\n",
       "    RICE  \n",
       "7  112.0  \n",
       "2   56.0  \n",
       "0   40.0  \n",
       "6   40.0  \n",
       "8   16.2  \n",
       "3    9.0  \n",
       "1    4.0  \n",
       "5    4.0  \n",
       "4    3.0  "
      ]
     },
     "execution_count": 11,
     "metadata": {},
     "output_type": "execute_result"
    }
   ],
   "source": [
    "hypothesis[['hypothesis', 'RICE']].sort_values(by='RICE', ascending=False)"
   ]
  },
  {
   "cell_type": "markdown",
   "metadata": {},
   "source": [
    "**Задача:** Указать, как изменилась приоритизация гипотез при применении RICE вместо ICE. Объяснить, почему так произошло:\n",
    "- При применении RICE вместо ICE с третьего места на первое вышла гипотеза \"Добавить форму подписки на все основные страницы, чтобы собрать базу клиентов для email-рассылок\", потому что она с достаточной силой повлияет на всех пользователей. Гипотеза \"Запустить акцию, дающую скидку на товар в день рождения\" опустилась на пятое место из-за низкого охвата: чтобы затронуть всех пользователей потребуется целый год."
   ]
  },
  {
   "cell_type": "markdown",
   "metadata": {},
   "source": [
    "**ЧАСТЬ 2-ая. Анализ A/B-теста.**"
   ]
  },
  {
   "cell_type": "markdown",
   "metadata": {},
   "source": [
    "Загрузим данные и изучим информацию"
   ]
  },
  {
   "cell_type": "code",
   "execution_count": 14,
   "metadata": {},
   "outputs": [],
   "source": [
    "orders = pd.read_csv('https://code.s3.yandex.net/datasets/orders.csv')"
   ]
  },
  {
   "cell_type": "code",
   "execution_count": 15,
   "metadata": {},
   "outputs": [
    {
     "data": {
      "text/html": [
       "<div>\n",
       "<style scoped>\n",
       "    .dataframe tbody tr th:only-of-type {\n",
       "        vertical-align: middle;\n",
       "    }\n",
       "\n",
       "    .dataframe tbody tr th {\n",
       "        vertical-align: top;\n",
       "    }\n",
       "\n",
       "    .dataframe thead th {\n",
       "        text-align: right;\n",
       "    }\n",
       "</style>\n",
       "<table border=\"1\" class=\"dataframe\">\n",
       "  <thead>\n",
       "    <tr style=\"text-align: right;\">\n",
       "      <th></th>\n",
       "      <th>transactionId</th>\n",
       "      <th>visitorId</th>\n",
       "      <th>date</th>\n",
       "      <th>revenue</th>\n",
       "      <th>group</th>\n",
       "    </tr>\n",
       "  </thead>\n",
       "  <tbody>\n",
       "    <tr>\n",
       "      <th>0</th>\n",
       "      <td>3667963787</td>\n",
       "      <td>3312258926</td>\n",
       "      <td>2019-08-15</td>\n",
       "      <td>1650</td>\n",
       "      <td>B</td>\n",
       "    </tr>\n",
       "    <tr>\n",
       "      <th>1</th>\n",
       "      <td>2804400009</td>\n",
       "      <td>3642806036</td>\n",
       "      <td>2019-08-15</td>\n",
       "      <td>730</td>\n",
       "      <td>B</td>\n",
       "    </tr>\n",
       "    <tr>\n",
       "      <th>2</th>\n",
       "      <td>2961555356</td>\n",
       "      <td>4069496402</td>\n",
       "      <td>2019-08-15</td>\n",
       "      <td>400</td>\n",
       "      <td>A</td>\n",
       "    </tr>\n",
       "    <tr>\n",
       "      <th>3</th>\n",
       "      <td>3797467345</td>\n",
       "      <td>1196621759</td>\n",
       "      <td>2019-08-15</td>\n",
       "      <td>9759</td>\n",
       "      <td>B</td>\n",
       "    </tr>\n",
       "    <tr>\n",
       "      <th>4</th>\n",
       "      <td>2282983706</td>\n",
       "      <td>2322279887</td>\n",
       "      <td>2019-08-15</td>\n",
       "      <td>2308</td>\n",
       "      <td>B</td>\n",
       "    </tr>\n",
       "    <tr>\n",
       "      <th>5</th>\n",
       "      <td>182168103</td>\n",
       "      <td>935554773</td>\n",
       "      <td>2019-08-15</td>\n",
       "      <td>2210</td>\n",
       "      <td>B</td>\n",
       "    </tr>\n",
       "    <tr>\n",
       "      <th>6</th>\n",
       "      <td>398296753</td>\n",
       "      <td>2900797465</td>\n",
       "      <td>2019-08-15</td>\n",
       "      <td>1860</td>\n",
       "      <td>B</td>\n",
       "    </tr>\n",
       "    <tr>\n",
       "      <th>7</th>\n",
       "      <td>2626614568</td>\n",
       "      <td>78758296</td>\n",
       "      <td>2019-08-15</td>\n",
       "      <td>1044</td>\n",
       "      <td>A</td>\n",
       "    </tr>\n",
       "    <tr>\n",
       "      <th>8</th>\n",
       "      <td>1576988021</td>\n",
       "      <td>295230930</td>\n",
       "      <td>2019-08-15</td>\n",
       "      <td>13710</td>\n",
       "      <td>A</td>\n",
       "    </tr>\n",
       "    <tr>\n",
       "      <th>9</th>\n",
       "      <td>1506739906</td>\n",
       "      <td>1882260405</td>\n",
       "      <td>2019-08-15</td>\n",
       "      <td>1855</td>\n",
       "      <td>B</td>\n",
       "    </tr>\n",
       "  </tbody>\n",
       "</table>\n",
       "</div>"
      ],
      "text/plain": [
       "   transactionId   visitorId        date  revenue group\n",
       "0     3667963787  3312258926  2019-08-15     1650     B\n",
       "1     2804400009  3642806036  2019-08-15      730     B\n",
       "2     2961555356  4069496402  2019-08-15      400     A\n",
       "3     3797467345  1196621759  2019-08-15     9759     B\n",
       "4     2282983706  2322279887  2019-08-15     2308     B\n",
       "5      182168103   935554773  2019-08-15     2210     B\n",
       "6      398296753  2900797465  2019-08-15     1860     B\n",
       "7     2626614568    78758296  2019-08-15     1044     A\n",
       "8     1576988021   295230930  2019-08-15    13710     A\n",
       "9     1506739906  1882260405  2019-08-15     1855     B"
      ]
     },
     "execution_count": 15,
     "metadata": {},
     "output_type": "execute_result"
    }
   ],
   "source": [
    "orders.head(10)"
   ]
  },
  {
   "cell_type": "code",
   "execution_count": 16,
   "metadata": {},
   "outputs": [],
   "source": [
    "orders = orders.rename(columns={'transactionId': 'transaction_id','visitorId': 'visitor_id'})"
   ]
  },
  {
   "cell_type": "code",
   "execution_count": 17,
   "metadata": {},
   "outputs": [
    {
     "name": "stdout",
     "output_type": "stream",
     "text": [
      "<class 'pandas.core.frame.DataFrame'>\n",
      "RangeIndex: 1197 entries, 0 to 1196\n",
      "Data columns (total 5 columns):\n",
      " #   Column          Non-Null Count  Dtype \n",
      "---  ------          --------------  ----- \n",
      " 0   transaction_id  1197 non-null   int64 \n",
      " 1   visitor_id      1197 non-null   int64 \n",
      " 2   date            1197 non-null   object\n",
      " 3   revenue         1197 non-null   int64 \n",
      " 4   group           1197 non-null   object\n",
      "dtypes: int64(3), object(2)\n",
      "memory usage: 46.9+ KB\n"
     ]
    }
   ],
   "source": [
    "orders.info()"
   ]
  },
  {
   "cell_type": "code",
   "execution_count": 21,
   "metadata": {},
   "outputs": [],
   "source": [
    "visitors = pd.read_csv('https://code.s3.yandex.net/datasets/visitors.csv')"
   ]
  },
  {
   "cell_type": "code",
   "execution_count": 22,
   "metadata": {},
   "outputs": [
    {
     "data": {
      "text/html": [
       "<div>\n",
       "<style scoped>\n",
       "    .dataframe tbody tr th:only-of-type {\n",
       "        vertical-align: middle;\n",
       "    }\n",
       "\n",
       "    .dataframe tbody tr th {\n",
       "        vertical-align: top;\n",
       "    }\n",
       "\n",
       "    .dataframe thead th {\n",
       "        text-align: right;\n",
       "    }\n",
       "</style>\n",
       "<table border=\"1\" class=\"dataframe\">\n",
       "  <thead>\n",
       "    <tr style=\"text-align: right;\">\n",
       "      <th></th>\n",
       "      <th>date</th>\n",
       "      <th>group</th>\n",
       "      <th>visitors</th>\n",
       "    </tr>\n",
       "  </thead>\n",
       "  <tbody>\n",
       "    <tr>\n",
       "      <th>0</th>\n",
       "      <td>2019-08-01</td>\n",
       "      <td>A</td>\n",
       "      <td>719</td>\n",
       "    </tr>\n",
       "    <tr>\n",
       "      <th>1</th>\n",
       "      <td>2019-08-02</td>\n",
       "      <td>A</td>\n",
       "      <td>619</td>\n",
       "    </tr>\n",
       "    <tr>\n",
       "      <th>2</th>\n",
       "      <td>2019-08-03</td>\n",
       "      <td>A</td>\n",
       "      <td>507</td>\n",
       "    </tr>\n",
       "    <tr>\n",
       "      <th>3</th>\n",
       "      <td>2019-08-04</td>\n",
       "      <td>A</td>\n",
       "      <td>717</td>\n",
       "    </tr>\n",
       "    <tr>\n",
       "      <th>4</th>\n",
       "      <td>2019-08-05</td>\n",
       "      <td>A</td>\n",
       "      <td>756</td>\n",
       "    </tr>\n",
       "    <tr>\n",
       "      <th>5</th>\n",
       "      <td>2019-08-06</td>\n",
       "      <td>A</td>\n",
       "      <td>667</td>\n",
       "    </tr>\n",
       "    <tr>\n",
       "      <th>6</th>\n",
       "      <td>2019-08-07</td>\n",
       "      <td>A</td>\n",
       "      <td>644</td>\n",
       "    </tr>\n",
       "    <tr>\n",
       "      <th>7</th>\n",
       "      <td>2019-08-08</td>\n",
       "      <td>A</td>\n",
       "      <td>610</td>\n",
       "    </tr>\n",
       "    <tr>\n",
       "      <th>8</th>\n",
       "      <td>2019-08-09</td>\n",
       "      <td>A</td>\n",
       "      <td>617</td>\n",
       "    </tr>\n",
       "    <tr>\n",
       "      <th>9</th>\n",
       "      <td>2019-08-10</td>\n",
       "      <td>A</td>\n",
       "      <td>406</td>\n",
       "    </tr>\n",
       "  </tbody>\n",
       "</table>\n",
       "</div>"
      ],
      "text/plain": [
       "         date group  visitors\n",
       "0  2019-08-01     A       719\n",
       "1  2019-08-02     A       619\n",
       "2  2019-08-03     A       507\n",
       "3  2019-08-04     A       717\n",
       "4  2019-08-05     A       756\n",
       "5  2019-08-06     A       667\n",
       "6  2019-08-07     A       644\n",
       "7  2019-08-08     A       610\n",
       "8  2019-08-09     A       617\n",
       "9  2019-08-10     A       406"
      ]
     },
     "execution_count": 22,
     "metadata": {},
     "output_type": "execute_result"
    }
   ],
   "source": [
    "visitors.head(10)"
   ]
  },
  {
   "cell_type": "code",
   "execution_count": 23,
   "metadata": {},
   "outputs": [
    {
     "name": "stdout",
     "output_type": "stream",
     "text": [
      "<class 'pandas.core.frame.DataFrame'>\n",
      "RangeIndex: 62 entries, 0 to 61\n",
      "Data columns (total 3 columns):\n",
      " #   Column    Non-Null Count  Dtype \n",
      "---  ------    --------------  ----- \n",
      " 0   date      62 non-null     object\n",
      " 1   group     62 non-null     object\n",
      " 2   visitors  62 non-null     int64 \n",
      "dtypes: int64(1), object(2)\n",
      "memory usage: 1.6+ KB\n"
     ]
    }
   ],
   "source": [
    "visitors.info()"
   ]
  },
  {
   "cell_type": "code",
   "execution_count": 24,
   "metadata": {},
   "outputs": [
    {
     "data": {
      "text/plain": [
       "0"
      ]
     },
     "execution_count": 24,
     "metadata": {},
     "output_type": "execute_result"
    }
   ],
   "source": [
    "# проверим наличие дубликатов \n",
    "orders.duplicated().sum()"
   ]
  },
  {
   "cell_type": "code",
   "execution_count": 25,
   "metadata": {},
   "outputs": [
    {
     "name": "stdout",
     "output_type": "stream",
     "text": [
      "<class 'pandas.core.frame.DataFrame'>\n",
      "RangeIndex: 1197 entries, 0 to 1196\n",
      "Data columns (total 5 columns):\n",
      " #   Column          Non-Null Count  Dtype         \n",
      "---  ------          --------------  -----         \n",
      " 0   transaction_id  1197 non-null   int64         \n",
      " 1   visitor_id      1197 non-null   int64         \n",
      " 2   date            1197 non-null   datetime64[ns]\n",
      " 3   revenue         1197 non-null   int64         \n",
      " 4   group           1197 non-null   object        \n",
      "dtypes: datetime64[ns](1), int64(3), object(1)\n",
      "memory usage: 46.9+ KB\n"
     ]
    }
   ],
   "source": [
    "# преобразуем столбцы date в нужный формат даты\n",
    "\n",
    "orders['date'] = pd.to_datetime(orders['date'], format='%Y-%m-%d')\n",
    "orders.info()"
   ]
  },
  {
   "cell_type": "code",
   "execution_count": 26,
   "metadata": {},
   "outputs": [
    {
     "name": "stdout",
     "output_type": "stream",
     "text": [
      "<class 'pandas.core.frame.DataFrame'>\n",
      "RangeIndex: 62 entries, 0 to 61\n",
      "Data columns (total 3 columns):\n",
      " #   Column    Non-Null Count  Dtype         \n",
      "---  ------    --------------  -----         \n",
      " 0   date      62 non-null     datetime64[ns]\n",
      " 1   group     62 non-null     object        \n",
      " 2   visitors  62 non-null     int64         \n",
      "dtypes: datetime64[ns](1), int64(1), object(1)\n",
      "memory usage: 1.6+ KB\n"
     ]
    }
   ],
   "source": [
    "visitors['date'] = pd.to_datetime(visitors['date'], format='%Y-%m-%d')\n",
    "visitors.info()"
   ]
  },
  {
   "cell_type": "code",
   "execution_count": 27,
   "metadata": {},
   "outputs": [
    {
     "data": {
      "text/plain": [
       "0"
      ]
     },
     "execution_count": 27,
     "metadata": {},
     "output_type": "execute_result"
    }
   ],
   "source": [
    "# проверим наличие дубликатов \n",
    "visitors.duplicated().sum()"
   ]
  },
  {
   "cell_type": "markdown",
   "metadata": {},
   "source": [
    "Тип данных в колонках с датами изменён на корректный.\n",
    "Дубликатов и пропусков нет."
   ]
  },
  {
   "cell_type": "markdown",
   "metadata": {},
   "source": [
    "**1. Построим график кумулятивной выручки по группам.**"
   ]
  },
  {
   "cell_type": "code",
   "execution_count": 28,
   "metadata": {},
   "outputs": [],
   "source": [
    "datesGroups = orders[['date', 'group']].drop_duplicates().reset_index(drop=True)"
   ]
  },
  {
   "cell_type": "code",
   "execution_count": 29,
   "metadata": {},
   "outputs": [
    {
     "data": {
      "image/png": "[encoded data removed]",
      "text/plain": [
       "<Figure size 1200x700 with 1 Axes>"
      ]
     },
     "metadata": {},
     "output_type": "display_data"
    }
   ],
   "source": [
    "ordersAggregated = datesGroups.apply(\n",
    "    lambda x: orders[\n",
    "        np.logical_and(\n",
    "            orders['date'] <= x['date'], orders['group'] == x['group']\n",
    "        )\n",
    "    ].agg(\n",
    "        {\n",
    "            'date': 'max',\n",
    "            'group': 'max',\n",
    "            'transaction_id' : 'nunique',\n",
    "            'visitor_id' : 'nunique',\n",
    "            'revenue': 'sum',\n",
    "        }\n",
    "    ),\n",
    "    axis=1,\n",
    ").sort_values(by=['date', 'group'])\n",
    "\n",
    "visitorsAggregated = datesGroups.apply(\n",
    "    lambda x: visitors[\n",
    "        np.logical_and(\n",
    "            visitors['date'] <= x['date'], visitors['group'] == x['group']\n",
    "        )\n",
    "    ].agg({'date': 'max', 'group': 'max', 'visitors': 'sum'}),\n",
    "    axis=1,\n",
    ").sort_values(by=['date', 'group'])\n",
    "\n",
    "cumulativeData = ordersAggregated.merge(\n",
    "    visitorsAggregated, left_on=['date', 'group'], right_on=['date', 'group']\n",
    ")\n",
    "cumulativeData.columns = [\n",
    "    'date',\n",
    "    'group',\n",
    "    'orders',\n",
    "    'buyers',\n",
    "    'revenue',\n",
    "    'visitors',\n",
    "]\n",
    "\n",
    "cumulativeRevenueA = cumulativeData[cumulativeData['group']=='A'][['date','revenue', 'orders']]\n",
    "cumulativeRevenueB = cumulativeData[cumulativeData['group']=='B'][['date','revenue', 'orders']]\n",
    "\n",
    "plt.figure(figsize=(12, 7))\n",
    "plt.plot(cumulativeRevenueA['date'], cumulativeRevenueA['revenue'], label='A')\n",
    "plt.plot(cumulativeRevenueB['date'], cumulativeRevenueB['revenue'], label='B')\n",
    "plt.ylabel('Выручка')\n",
    "plt.xlabel('Дата')\n",
    "plt.title('График кумулятивной выручки по группам')\n",
    "plt.legend();"
   ]
  },
  {
   "cell_type": "markdown",
   "metadata": {},
   "source": [
    "**Вывод:** Выручка в обеих группах растёт, что хорошо. В группе **B** выручка выше практически на протяжении всего месяца, но также в этой группе наблюдается сильный скачок с 18 на 19 число, что может сигнализировать о всплесках числа заказов либо об очень дорогих заказах."
   ]
  },
  {
   "cell_type": "markdown",
   "metadata": {},
   "source": [
    "**2. Построим график кумулятивного среднего чека по группам.**"
   ]
  },
  {
   "cell_type": "code",
   "execution_count": 30,
   "metadata": {},
   "outputs": [
    {
     "data": {
      "image/png": "[encoded data removed]",
      "text/plain": [
       "<Figure size 1200x700 with 1 Axes>"
      ]
     },
     "metadata": {},
     "output_type": "display_data"
    }
   ],
   "source": [
    "cumulativeRevenueA = cumulativeData[cumulativeData['group'] == 'A'][['date', 'revenue', 'orders']]\n",
    "cumulativeRevenueB = cumulativeData[cumulativeData['group'] == 'B'][['date', 'revenue', 'orders']]\n",
    "\n",
    "plt.figure(figsize=(12, 7))\n",
    "plt.plot(cumulativeRevenueA['date'], cumulativeRevenueA['revenue']/cumulativeRevenueA['orders'], label='A')\n",
    "plt.plot(cumulativeRevenueB['date'], cumulativeRevenueB['revenue']/cumulativeRevenueB['orders'], label='B')\n",
    "plt.ylabel('Кумулятивный cредний чек')\n",
    "plt.xlabel('Дата')\n",
    "plt.title('График кумулятивного среднего чека по группам')\n",
    "plt.legend();"
   ]
  },
  {
   "cell_type": "markdown",
   "metadata": {},
   "source": [
    "**Вывод:** К концу графика средний чек стабилизируется. Скорее всего, в группу B в середине теста попали крупные заказы (резкий всплеск на графике). Возможно нужно больше данных, чтобы прийти к реальному среднему чеку."
   ]
  },
  {
   "cell_type": "markdown",
   "metadata": {},
   "source": [
    "**3. Построим график относительного изменения кумулятивного среднего чека группы B к группе A.**"
   ]
  },
  {
   "cell_type": "code",
   "execution_count": 31,
   "metadata": {},
   "outputs": [
    {
     "data": {
      "image/png": "[encoded data removed]",
      "text/plain": [
       "<Figure size 1200x700 with 1 Axes>"
      ]
     },
     "metadata": {},
     "output_type": "display_data"
    }
   ],
   "source": [
    "cumulativeRevenueA = cumulativeData[cumulativeData['group'] == 'A'][['date', 'revenue', 'orders']]\n",
    "cumulativeRevenueB = cumulativeData[cumulativeData['group'] == 'B'][['date', 'revenue', 'orders']]\n",
    "\n",
    "plt.figure(figsize=(12, 7))\n",
    "mergedCumulativeRevenue = cumulativeRevenueA.merge(cumulativeRevenueB, left_on='date', right_on='date', how='left', suffixes=['A', 'B'])\n",
    "plt.plot(mergedCumulativeRevenue['date'], (mergedCumulativeRevenue['revenueB']/mergedCumulativeRevenue['ordersB'])/(mergedCumulativeRevenue['revenueA']/mergedCumulativeRevenue['ordersA'])-1)\n",
    "plt.ylabel('Различие в среднем чеке')\n",
    "plt.xlabel('Дата')\n",
    "plt.axhline(y=0, color='black', linestyle='--')\n",
    "plt.title('график относительного изменения кумулятивного среднего чека группы B к группе A');"
   ]
  },
  {
   "cell_type": "markdown",
   "metadata": {},
   "source": [
    "**Вывод:** Ближе к середине теста 13.08 график опускается в худшую за время теста для B точку.\n",
    "Ещё на графике резко «скачат» некоторые дни, например 05.08 или 08.08, но особенно выделяется, конечно скачок 18.08. Очевидно есть выбросы. Результаты теста резко менялись в некоторые даты, возможно тогда были сделаны анамальные заказы. "
   ]
  },
  {
   "cell_type": "markdown",
   "metadata": {},
   "source": [
    "**4. Посторим график кумулятивного среднего количества заказов на посетителя по группам.**"
   ]
  },
  {
   "cell_type": "code",
   "execution_count": 32,
   "metadata": {},
   "outputs": [
    {
     "data": {
      "image/png": "[encoded data removed]",
      "text/plain": [
       "<Figure size 1200x700 with 1 Axes>"
      ]
     },
     "metadata": {},
     "output_type": "display_data"
    }
   ],
   "source": [
    "cumulativeData['conversion'] = cumulativeData['orders']/cumulativeData['visitors']\n",
    "cumulativeDataA = cumulativeData[cumulativeData['group']=='A']\n",
    "cumulativeDataB = cumulativeData[cumulativeData['group']=='B']\n",
    "plt.figure(figsize=(12, 7))\n",
    "plt.plot(cumulativeDataA['date'], cumulativeDataA['conversion'], label='A')\n",
    "plt.plot(cumulativeDataB['date'], cumulativeDataB['conversion'], label='B')\n",
    "plt.ylabel('Кумулятивная конверсия')\n",
    "plt.xlabel('Дата')\n",
    "plt.title('график кумулятивного среднего количества заказов на посетителя по группам');\n",
    "plt.legend();"
   ]
  },
  {
   "cell_type": "markdown",
   "metadata": {},
   "source": [
    "**Вывод:** Группы колебались около одного значения, но затем конверсия группы B вырвалась вперёд и зафиксировалась, а конверсия группы A просела и также зафиксировалась."
   ]
  },
  {
   "cell_type": "markdown",
   "metadata": {},
   "source": [
    "**5. Построим график относительного изменения кумулятивного среднего количества заказов на посетителя группы B к группе A.**"
   ]
  },
  {
   "cell_type": "code",
   "execution_count": 33,
   "metadata": {},
   "outputs": [
    {
     "data": {
      "image/png": "[encoded data removed]",
      "text/plain": [
       "<Figure size 1200x700 with 1 Axes>"
      ]
     },
     "metadata": {},
     "output_type": "display_data"
    }
   ],
   "source": [
    "cumulativeData['conversion'] = (cumulativeData['orders'] / cumulativeData['visitors'])\n",
    "cumulativeDataA = cumulativeData[cumulativeData['group'] == 'A']\n",
    "cumulativeDataB = cumulativeData[cumulativeData['group'] == 'B']\n",
    "\n",
    "mergedCumulativeConversions = cumulativeDataA[['date','conversion']].merge(cumulativeDataB[['date','conversion']], left_on='date', right_on='date', how='left', suffixes=['A', 'B'])\n",
    "plt.figure(figsize=(12, 7))\n",
    "plt.plot(mergedCumulativeConversions['date'], mergedCumulativeConversions['conversionB']/mergedCumulativeConversions['conversionA']-1, label=\"Относительный прирост конверсии группы B относительно группы A\")\n",
    "plt.ylabel('Относительное различие кумулятивных конверсий')\n",
    "plt.xlabel('Дата')\n",
    "plt.title('график кумулятивного среднего количества заказов на посетителя по группам')\n",
    "plt.legend();"
   ]
  },
  {
   "cell_type": "markdown",
   "metadata": {},
   "source": [
    "**Вывод:** В начале теста группа B просела относительно группы A, затем резко выросла и стабилизировалась."
   ]
  },
  {
   "cell_type": "markdown",
   "metadata": {},
   "source": [
    "**6. Построим точечный график количества заказов по пользователям.**"
   ]
  },
  {
   "cell_type": "code",
   "execution_count": 34,
   "metadata": {},
   "outputs": [
    {
     "data": {
      "text/html": [
       "<div>\n",
       "<style scoped>\n",
       "    .dataframe tbody tr th:only-of-type {\n",
       "        vertical-align: middle;\n",
       "    }\n",
       "\n",
       "    .dataframe tbody tr th {\n",
       "        vertical-align: top;\n",
       "    }\n",
       "\n",
       "    .dataframe thead th {\n",
       "        text-align: right;\n",
       "    }\n",
       "</style>\n",
       "<table border=\"1\" class=\"dataframe\">\n",
       "  <thead>\n",
       "    <tr style=\"text-align: right;\">\n",
       "      <th></th>\n",
       "      <th>visitor_id</th>\n",
       "      <th>orders</th>\n",
       "    </tr>\n",
       "  </thead>\n",
       "  <tbody>\n",
       "    <tr>\n",
       "      <th>0</th>\n",
       "      <td>5114589</td>\n",
       "      <td>1</td>\n",
       "    </tr>\n",
       "    <tr>\n",
       "      <th>1</th>\n",
       "      <td>6958315</td>\n",
       "      <td>1</td>\n",
       "    </tr>\n",
       "    <tr>\n",
       "      <th>2</th>\n",
       "      <td>8300375</td>\n",
       "      <td>2</td>\n",
       "    </tr>\n",
       "    <tr>\n",
       "      <th>3</th>\n",
       "      <td>11685486</td>\n",
       "      <td>1</td>\n",
       "    </tr>\n",
       "    <tr>\n",
       "      <th>4</th>\n",
       "      <td>39475350</td>\n",
       "      <td>1</td>\n",
       "    </tr>\n",
       "    <tr>\n",
       "      <th>5</th>\n",
       "      <td>47206413</td>\n",
       "      <td>1</td>\n",
       "    </tr>\n",
       "    <tr>\n",
       "      <th>6</th>\n",
       "      <td>48147722</td>\n",
       "      <td>1</td>\n",
       "    </tr>\n",
       "    <tr>\n",
       "      <th>7</th>\n",
       "      <td>54447517</td>\n",
       "      <td>1</td>\n",
       "    </tr>\n",
       "    <tr>\n",
       "      <th>8</th>\n",
       "      <td>56960363</td>\n",
       "      <td>1</td>\n",
       "    </tr>\n",
       "    <tr>\n",
       "      <th>9</th>\n",
       "      <td>66685450</td>\n",
       "      <td>1</td>\n",
       "    </tr>\n",
       "  </tbody>\n",
       "</table>\n",
       "</div>"
      ],
      "text/plain": [
       "   visitor_id  orders\n",
       "0     5114589       1\n",
       "1     6958315       1\n",
       "2     8300375       2\n",
       "3    11685486       1\n",
       "4    39475350       1\n",
       "5    47206413       1\n",
       "6    48147722       1\n",
       "7    54447517       1\n",
       "8    56960363       1\n",
       "9    66685450       1"
      ]
     },
     "execution_count": 34,
     "metadata": {},
     "output_type": "execute_result"
    }
   ],
   "source": [
    "ordersByUsers = orders.groupby('visitor_id', as_index=False).agg({'transaction_id' : pd.Series.nunique})\n",
    "ordersByUsers.columns = ['visitor_id','orders']\n",
    "ordersByUsers.head(10)"
   ]
  },
  {
   "cell_type": "code",
   "execution_count": 35,
   "metadata": {},
   "outputs": [
    {
     "data": {
      "image/png": "[encoded data removed]",
      "text/plain": [
       "<Figure size 1200x700 with 1 Axes>"
      ]
     },
     "metadata": {},
     "output_type": "display_data"
    }
   ],
   "source": [
    "x_values = pd.Series(range(0,len(ordersByUsers)))\n",
    "\n",
    "plt.figure(figsize=(12, 7))\n",
    "plt.grid(True)\n",
    "plt.title('точечный график количества заказов по пользователям')\n",
    "ax = plt.gca()\n",
    "ax.set_xlabel('Пользователи')\n",
    "ax.set_ylabel('Количество заказов')\n",
    "plt.scatter(x_values, ordersByUsers['orders']);"
   ]
  },
  {
   "cell_type": "markdown",
   "metadata": {},
   "source": [
    "**Вывод:** Большинство покупателей заказывали только один раз. Однако есть пользователи с 2-5 заказами тоже значительна. Их точная доля не ясна — непонятно, считать их аномалиями или нет."
   ]
  },
  {
   "cell_type": "markdown",
   "metadata": {},
   "source": [
    "**7. Посчитаем 95-й и 99-й перцентили количества заказов на пользователя. Выберем границу для определения аномальных пользователей.**"
   ]
  },
  {
   "cell_type": "code",
   "execution_count": 36,
   "metadata": {},
   "outputs": [
    {
     "data": {
      "text/plain": [
       "array([2., 4.])"
      ]
     },
     "execution_count": 36,
     "metadata": {},
     "output_type": "execute_result"
    }
   ],
   "source": [
    "np.percentile(ordersByUsers['orders'], [95, 99])"
   ]
  },
  {
   "cell_type": "markdown",
   "metadata": {},
   "source": [
    "**Вывод:** Не более 5% пользователей оформляли больше двух заказов. И 1% пользователей заказывал более четырёх раз. \n",
    "Примем 2 заказа на одного пользователя за нижнюю границу числа заказов."
   ]
  },
  {
   "cell_type": "markdown",
   "metadata": {},
   "source": [
    "**8. Построем точечный график стоимостей заказов.**"
   ]
  },
  {
   "cell_type": "code",
   "execution_count": 37,
   "metadata": {},
   "outputs": [
    {
     "data": {
      "image/png": "[encoded data removed]",
      "text/plain": [
       "<Figure size 1200x700 with 1 Axes>"
      ]
     },
     "metadata": {},
     "output_type": "display_data"
    }
   ],
   "source": [
    "x_values = pd.Series(range(0,len(orders['revenue'])))\n",
    "\n",
    "plt.figure(figsize=(12, 7))\n",
    "plt.grid(True)\n",
    "plt.title('Точечная диаграмма стоимостей заказов')\n",
    "ax = plt.gca()\n",
    "ax.set_xlabel('Пользователи')\n",
    "ax.set_ylabel('Стоимость заказа (до 100 000)')\n",
    "plt.ylim(0, 100000)\n",
    "plt.scatter(x_values, orders['revenue']);"
   ]
  },
  {
   "cell_type": "markdown",
   "metadata": {},
   "source": [
    "**Вывод:** Большинство заказов не превышает 20 000, но есть выбросы в 100 000 и возможно больше."
   ]
  },
  {
   "cell_type": "markdown",
   "metadata": {},
   "source": [
    "**9. Посчитаем 95-й и 99-й перцентили стоимости заказов. Выберем границу для определения аномальных заказов.**"
   ]
  },
  {
   "cell_type": "code",
   "execution_count": 38,
   "metadata": {},
   "outputs": [
    {
     "data": {
      "text/plain": [
       "array([28000. , 58233.2])"
      ]
     },
     "execution_count": 38,
     "metadata": {},
     "output_type": "execute_result"
    }
   ],
   "source": [
    "np.percentile(orders['revenue'], [95, 99])"
   ]
  },
  {
   "cell_type": "markdown",
   "metadata": {},
   "source": [
    "**Вывод:** Не более 5% заказов дороже 28 000 рублей.\n",
    "И только 1% заказов дороже 58 234 рублей.\n",
    "Разумно выбрать 58 234 за нижнюю границу стоимости заказов, и отсеять аномальных пользователей по ней."
   ]
  },
  {
   "cell_type": "markdown",
   "metadata": {},
   "source": [
    "**10. Посчитаем статистическую значимость различий в среднем количестве заказов на посетителя между группами по «сырым» данным.**\n",
    "\n",
    "Сформулируем гипотезы.\n",
    "- Нулевая: различий в среднем количестве заказов между группами нет. \n",
    "- Альтернативная: различия в среднем между группами есть.\n",
    "Начнём с подготовки данных."
   ]
  },
  {
   "cell_type": "code",
   "execution_count": 39,
   "metadata": {},
   "outputs": [
    {
     "data": {
      "text/html": [
       "<div>\n",
       "<style scoped>\n",
       "    .dataframe tbody tr th:only-of-type {\n",
       "        vertical-align: middle;\n",
       "    }\n",
       "\n",
       "    .dataframe tbody tr th {\n",
       "        vertical-align: top;\n",
       "    }\n",
       "\n",
       "    .dataframe thead th {\n",
       "        text-align: right;\n",
       "    }\n",
       "</style>\n",
       "<table border=\"1\" class=\"dataframe\">\n",
       "  <thead>\n",
       "    <tr style=\"text-align: right;\">\n",
       "      <th></th>\n",
       "      <th>date</th>\n",
       "      <th>group</th>\n",
       "      <th>visitors</th>\n",
       "    </tr>\n",
       "  </thead>\n",
       "  <tbody>\n",
       "    <tr>\n",
       "      <th>0</th>\n",
       "      <td>2019-08-01</td>\n",
       "      <td>A</td>\n",
       "      <td>719</td>\n",
       "    </tr>\n",
       "    <tr>\n",
       "      <th>1</th>\n",
       "      <td>2019-08-02</td>\n",
       "      <td>A</td>\n",
       "      <td>619</td>\n",
       "    </tr>\n",
       "  </tbody>\n",
       "</table>\n",
       "</div>"
      ],
      "text/plain": [
       "        date group  visitors\n",
       "0 2019-08-01     A       719\n",
       "1 2019-08-02     A       619"
      ]
     },
     "execution_count": 39,
     "metadata": {},
     "output_type": "execute_result"
    }
   ],
   "source": [
    "visitors.head(2)"
   ]
  },
  {
   "cell_type": "code",
   "execution_count": 40,
   "metadata": {},
   "outputs": [
    {
     "data": {
      "text/html": [
       "<div>\n",
       "<style scoped>\n",
       "    .dataframe tbody tr th:only-of-type {\n",
       "        vertical-align: middle;\n",
       "    }\n",
       "\n",
       "    .dataframe tbody tr th {\n",
       "        vertical-align: top;\n",
       "    }\n",
       "\n",
       "    .dataframe thead th {\n",
       "        text-align: right;\n",
       "    }\n",
       "</style>\n",
       "<table border=\"1\" class=\"dataframe\">\n",
       "  <thead>\n",
       "    <tr style=\"text-align: right;\">\n",
       "      <th></th>\n",
       "      <th>transaction_id</th>\n",
       "      <th>visitor_id</th>\n",
       "      <th>date</th>\n",
       "      <th>revenue</th>\n",
       "      <th>group</th>\n",
       "    </tr>\n",
       "  </thead>\n",
       "  <tbody>\n",
       "    <tr>\n",
       "      <th>0</th>\n",
       "      <td>3667963787</td>\n",
       "      <td>3312258926</td>\n",
       "      <td>2019-08-15</td>\n",
       "      <td>1650</td>\n",
       "      <td>B</td>\n",
       "    </tr>\n",
       "    <tr>\n",
       "      <th>1</th>\n",
       "      <td>2804400009</td>\n",
       "      <td>3642806036</td>\n",
       "      <td>2019-08-15</td>\n",
       "      <td>730</td>\n",
       "      <td>B</td>\n",
       "    </tr>\n",
       "  </tbody>\n",
       "</table>\n",
       "</div>"
      ],
      "text/plain": [
       "   transaction_id  visitor_id       date  revenue group\n",
       "0      3667963787  3312258926 2019-08-15     1650     B\n",
       "1      2804400009  3642806036 2019-08-15      730     B"
      ]
     },
     "execution_count": 40,
     "metadata": {},
     "output_type": "execute_result"
    }
   ],
   "source": [
    "orders.head(2)"
   ]
  },
  {
   "cell_type": "code",
   "execution_count": 41,
   "metadata": {},
   "outputs": [],
   "source": [
    "visitorsADaily = visitors[visitors['group']=='A'][['date', 'visitors']]\n",
    "visitorsADaily.columns = ['date', 'visitorsPerDateA']\n",
    "\n",
    "visitorsACummulative = visitorsADaily.apply(lambda x: visitorsADaily[visitorsADaily['date'] <= x['date']]. \\\n",
    "                                            agg({'date' : 'max', 'visitorsPerDateA' : 'sum'}), axis=1)\n",
    "visitorsACummulative.columns = ['date', 'visitorsCummulativeA']\n",
    "\n",
    "visitorsBDaily = visitors[visitors['group']=='B'][['date', 'visitors']]\n",
    "visitorsBDaily.columns = ['date', 'visitorsPerDateB']\n",
    "\n",
    "visitorsBCummulative = visitorsBDaily.apply(lambda x: visitorsBDaily[visitorsBDaily['date'] <= x['date']]. \\\n",
    "                                            agg({'date' : 'max', 'visitorsPerDateB' : 'sum'}), axis=1)\n",
    "visitorsBCummulative.columns = ['date', 'visitorsCummulativeB']\n",
    "\n",
    "\n",
    "ordersADaily = orders[orders['group']=='A'][['date', 'transaction_id', 'visitor_id', 'revenue']]\\\n",
    "    .groupby('date', as_index=False)\\\n",
    "    .agg({'transaction_id' : pd.Series.nunique, 'revenue' : 'sum'})\n",
    "ordersADaily.columns = ['date', 'ordersPerDateA', 'revenuePerDateA']\n",
    "\n",
    "ordersACummulative = ordersADaily.apply(\n",
    "    lambda x: \\\n",
    "        ordersADaily[ordersADaily['date'] <= x['date']]\\\n",
    "            .agg({\n",
    "                'date' : 'max',\n",
    "                'ordersPerDateA' : 'sum',\n",
    "                'revenuePerDateA' : 'sum'}), axis=1).sort_values(by=['date'])\n",
    "ordersACummulative.columns = ['date', 'ordersCummulativeA', 'revenueCummulativeA']\n",
    "\n",
    "ordersBDaily = orders[orders['group']=='B'][['date', 'transaction_id', 'visitor_id', 'revenue']]\\\n",
    "    .groupby('date', as_index=False)\\\n",
    "    .agg({'transaction_id' : pd.Series.nunique, 'revenue' : 'sum'})\n",
    "ordersBDaily.columns = ['date', 'ordersPerDateB', 'revenuePerDateB']\n",
    "\n",
    "ordersBCummulative = ordersBDaily.apply(\n",
    "    lambda x: \\\n",
    "        ordersBDaily[ordersBDaily['date'] <= x['date']]\\\n",
    "            .agg({\n",
    "                'date' : 'max',\n",
    "                'ordersPerDateB' : 'sum',\n",
    "                'revenuePerDateB' : 'sum'}), axis=1).sort_values(by=['date'])\n",
    "ordersBCummulative.columns = ['date', 'ordersCummulativeB', 'revenueCummulativeB']"
   ]
  },
  {
   "cell_type": "code",
   "execution_count": 42,
   "metadata": {},
   "outputs": [
    {
     "data": {
      "text/html": [
       "<div>\n",
       "<style scoped>\n",
       "    .dataframe tbody tr th:only-of-type {\n",
       "        vertical-align: middle;\n",
       "    }\n",
       "\n",
       "    .dataframe tbody tr th {\n",
       "        vertical-align: top;\n",
       "    }\n",
       "\n",
       "    .dataframe thead th {\n",
       "        text-align: right;\n",
       "    }\n",
       "</style>\n",
       "<table border=\"1\" class=\"dataframe\">\n",
       "  <thead>\n",
       "    <tr style=\"text-align: right;\">\n",
       "      <th></th>\n",
       "      <th>date</th>\n",
       "      <th>ordersPerDateA</th>\n",
       "      <th>revenuePerDateA</th>\n",
       "      <th>ordersPerDateB</th>\n",
       "      <th>revenuePerDateB</th>\n",
       "      <th>ordersCummulativeA</th>\n",
       "      <th>revenueCummulativeA</th>\n",
       "      <th>ordersCummulativeB</th>\n",
       "      <th>revenueCummulativeB</th>\n",
       "      <th>visitorsPerDateA</th>\n",
       "      <th>visitorsPerDateB</th>\n",
       "      <th>visitorsCummulativeA</th>\n",
       "      <th>visitorsCummulativeB</th>\n",
       "    </tr>\n",
       "  </thead>\n",
       "  <tbody>\n",
       "    <tr>\n",
       "      <th>20</th>\n",
       "      <td>2019-08-21</td>\n",
       "      <td>23</td>\n",
       "      <td>174309</td>\n",
       "      <td>14</td>\n",
       "      <td>163077</td>\n",
       "      <td>385</td>\n",
       "      <td>2643838</td>\n",
       "      <td>437</td>\n",
       "      <td>4426892</td>\n",
       "      <td>646</td>\n",
       "      <td>656</td>\n",
       "      <td>12850</td>\n",
       "      <td>12874</td>\n",
       "    </tr>\n",
       "    <tr>\n",
       "      <th>2</th>\n",
       "      <td>2019-08-03</td>\n",
       "      <td>24</td>\n",
       "      <td>112473</td>\n",
       "      <td>16</td>\n",
       "      <td>114248</td>\n",
       "      <td>68</td>\n",
       "      <td>354874</td>\n",
       "      <td>61</td>\n",
       "      <td>380996</td>\n",
       "      <td>507</td>\n",
       "      <td>509</td>\n",
       "      <td>1845</td>\n",
       "      <td>1803</td>\n",
       "    </tr>\n",
       "    <tr>\n",
       "      <th>27</th>\n",
       "      <td>2019-08-28</td>\n",
       "      <td>17</td>\n",
       "      <td>101122</td>\n",
       "      <td>28</td>\n",
       "      <td>96008</td>\n",
       "      <td>512</td>\n",
       "      <td>3615820</td>\n",
       "      <td>576</td>\n",
       "      <td>5328268</td>\n",
       "      <td>594</td>\n",
       "      <td>654</td>\n",
       "      <td>16970</td>\n",
       "      <td>17177</td>\n",
       "    </tr>\n",
       "  </tbody>\n",
       "</table>\n",
       "</div>"
      ],
      "text/plain": [
       "         date  ordersPerDateA  revenuePerDateA  ordersPerDateB  \\\n",
       "20 2019-08-21              23           174309              14   \n",
       "2  2019-08-03              24           112473              16   \n",
       "27 2019-08-28              17           101122              28   \n",
       "\n",
       "    revenuePerDateB  ordersCummulativeA  revenueCummulativeA  \\\n",
       "20           163077                 385              2643838   \n",
       "2            114248                  68               354874   \n",
       "27            96008                 512              3615820   \n",
       "\n",
       "    ordersCummulativeB  revenueCummulativeB  visitorsPerDateA  \\\n",
       "20                 437              4426892               646   \n",
       "2                   61               380996               507   \n",
       "27                 576              5328268               594   \n",
       "\n",
       "    visitorsPerDateB  visitorsCummulativeA  visitorsCummulativeB  \n",
       "20               656                 12850                 12874  \n",
       "2                509                  1845                  1803  \n",
       "27               654                 16970                 17177  "
      ]
     },
     "execution_count": 42,
     "metadata": {},
     "output_type": "execute_result"
    }
   ],
   "source": [
    "data = ordersADaily.merge(ordersBDaily, left_on='date', right_on='date', how='left')\\\n",
    "    .merge(ordersACummulative, left_on='date', right_on='date', how='left')\\\n",
    "    .merge(ordersBCummulative, left_on='date', right_on='date', how='left')\\\n",
    "    .merge(visitorsADaily, left_on='date', right_on='date', how='left')\\\n",
    "    .merge(visitorsBDaily, left_on='date', right_on='date', how='left')\\\n",
    "    .merge(visitorsACummulative, left_on='date', right_on='date', how='left')\\\n",
    "    .merge(visitorsBCummulative, left_on='date', right_on='date', how='left')\n",
    "data.sample(3)"
   ]
  },
  {
   "cell_type": "code",
   "execution_count": 43,
   "metadata": {},
   "outputs": [
    {
     "name": "stdout",
     "output_type": "stream",
     "text": [
      "p-значение: 0.017\n",
      "Отвергаем нулевую гипотезу: \"Cтатистически значимых различий в конверсии между группами нет\".\n",
      "Относительный прирост конверсии группы B: 0.138\n"
     ]
    }
   ],
   "source": [
    "ordersByUsersA = orders[orders['group']=='A'].groupby('visitor_id', as_index=False).agg({'transaction_id' : pd.Series.nunique})\n",
    "ordersByUsersA.columns = ['userId', 'orders']\n",
    "\n",
    "ordersByUsersB = orders[orders['group']=='B'].groupby('visitor_id', as_index=False).agg({'transaction_id' : pd.Series.nunique})\n",
    "ordersByUsersB.columns = ['userId', 'orders']\n",
    "\n",
    "sampleA = pd.concat([ordersByUsersA['orders'],pd.Series(0, index=np.arange(data['visitorsPerDateA'].sum() - len(ordersByUsersA['orders'])), name='orders')],axis=0)\n",
    "\n",
    "sampleB = pd.concat([ordersByUsersB['orders'],pd.Series(0, index=np.arange(data['visitorsPerDateB'].sum() - len(ordersByUsersB['orders'])), name='orders')],axis=0)\n",
    "\n",
    "alpha = 0.05\n",
    "results=st.mannwhitneyu(sampleA, sampleB)\n",
    "print('p-значение: {:.3f}'.format(results.pvalue))\n",
    "if (results.pvalue < alpha):\n",
    "    print('Отвергаем нулевую гипотезу: \"Cтатистически значимых различий в конверсии между группами нет\".')\n",
    "else:\n",
    "    print('Не получилось отвергнуть нулевую гипотезу: \"Cтатистически значимых различий в конверсии между группами нет\".')\n",
    "\n",
    "print(\"Относительный прирост конверсии группы B: {0:.3f}\".format(sampleB.mean()/sampleA.mean()-1))"
   ]
  },
  {
   "cell_type": "markdown",
   "metadata": {},
   "source": [
    "**Вывод:** Вывод: p-value = 0.017 меньше 0.05. Значит, нулевую гипотезу о том, что статистически значимых различий в конверсии между группами нет, - отвергаем. Это значит: по «сырым» данным различия в конверсии групп A и B есть. А относительный выигрыш группы \"B\" над \"A\" равен 13.8% ."
   ]
  },
  {
   "cell_type": "markdown",
   "metadata": {},
   "source": [
    "**11. Посчитаем статистическую значимость различий в среднем чеке заказа между группами по «сырым» данным.**"
   ]
  },
  {
   "cell_type": "code",
   "execution_count": 44,
   "metadata": {},
   "outputs": [
    {
     "name": "stdout",
     "output_type": "stream",
     "text": [
      "p-значение:  0.729\n",
      "Не получилось отвергнуть нулевую гипотезу, вывод о различии сделать нельзя\n",
      "0.259\n"
     ]
    }
   ],
   "source": [
    "results = st.mannwhitneyu(orders[orders['group']=='A']['revenue'], orders[orders['group']=='B']['revenue'])\n",
    "\n",
    "print('p-значение: ', \"{0:.3f}\".format(results.pvalue))\n",
    "\n",
    "if (results.pvalue < alpha):\n",
    "    print(\"Отвергаем нулевую гипотезу: разница статистически значима\")\n",
    "else:\n",
    "    print(\"Не получилось отвергнуть нулевую гипотезу, вывод о различии сделать нельзя\")\n",
    "\n",
    "print(\"{0:.3f}\".format(orders[orders['group']=='B']['revenue'].mean()/orders[orders['group']=='A']['revenue'].mean()-1))"
   ]
  },
  {
   "cell_type": "markdown",
   "metadata": {},
   "source": [
    "**Вывод:** P-value больше 0.05 — статистически значимых отличий в среднем чеке между группами нет. Однако, относительное различие среднего чека между группами по «сырым» данным целых 25,9 % (вероятно из-за аномально дорогих заказов)."
   ]
  },
  {
   "cell_type": "markdown",
   "metadata": {},
   "source": [
    "**12. Посчитаем статистическую значимость различий в среднем количестве заказов на посетителя между группами по «очищенным» данным.**"
   ]
  },
  {
   "cell_type": "code",
   "execution_count": 45,
   "metadata": {},
   "outputs": [
    {
     "name": "stdout",
     "output_type": "stream",
     "text": [
      "p-значение:  0.010\n",
      "Отвергаем нулевую гипотезу: разница статистически значима\n",
      "0.174\n"
     ]
    }
   ],
   "source": [
    "usersWithManyOrders = pd.concat([ordersByUsersA[ordersByUsersA['orders'] > 2]['userId'], ordersByUsersB[ordersByUsersB['orders'] > 2]['userId']], axis = 0)\n",
    "usersWithExpensiveOrders = orders[orders['revenue'] > 58233]['visitor_id']\n",
    "abnormalUsers = pd.concat([usersWithManyOrders, usersWithExpensiveOrders], axis = 0).drop_duplicates().sort_values()\n",
    "sampleAFiltered = pd.concat([ordersByUsersA[np.logical_not(ordersByUsersA['userId'].isin(abnormalUsers))]['orders'], \\\n",
    "                             pd.Series(0, index=np.arange(data['visitorsPerDateA'].sum() - len(ordersByUsersA['orders'])), \\\n",
    "                                       name='orders')],axis=0)\n",
    "\n",
    "sampleBFiltered = pd.concat([ordersByUsersB[np.logical_not(ordersByUsersB['userId'].isin(abnormalUsers))]['orders'], \\\n",
    "                             pd.Series(0, index=np.arange(data['visitorsPerDateB'].sum() - len(ordersByUsersB['orders'])), \\\n",
    "                                       name='orders')],axis=0)\n",
    "results = st.mannwhitneyu(sampleAFiltered, sampleBFiltered)\n",
    "\n",
    "print('p-значение: ', \"{0:.3f}\".format(results.pvalue))\n",
    "\n",
    "if (results.pvalue < alpha):\n",
    "    print(\"Отвергаем нулевую гипотезу: разница статистически значима\")\n",
    "else:\n",
    "    print(\"Не получилось отвергнуть нулевую гипотезу, вывод о различии сделать нельзя\")\n",
    "\n",
    "print(\"{0:.3f}\".format(sampleBFiltered.mean()/sampleAFiltered.mean()-1))"
   ]
  },
  {
   "cell_type": "markdown",
   "metadata": {},
   "source": [
    "**Вывод:** p-value = 0.01 меньше 0.05. Значит, нулевую гипотезу о том, что статистически значимых различий в конверсии между группами нет, - отвергаем. Это значит: и по «очищенным» данным различия в конверсии групп A и B есть. А относительный выигрыш группы \"B\" над \"A\" равен 17,4% (выше, чем с «сырыми» данными - 13.8%)."
   ]
  },
  {
   "cell_type": "markdown",
   "metadata": {},
   "source": [
    "**13. Посчитаем статистическую значимость различий в среднем чеке заказа между группами по «очищенным» данным.**"
   ]
  },
  {
   "cell_type": "code",
   "execution_count": 46,
   "metadata": {},
   "outputs": [
    {
     "name": "stdout",
     "output_type": "stream",
     "text": [
      "Относительное изменение среднего чека в группе B по отношению группы A после очистки данных: -0.020\n",
      "P-value: 0.7977151576527292\n"
     ]
    }
   ],
   "source": [
    "print('Относительное изменение среднего чека в группе B по отношению группы A после очистки данных: {:.3f}'.format(\n",
    "orders[np.logical_and(orders['group']=='B', np.logical_not(orders['visitor_id'].isin(abnormalUsers)))]['revenue'].mean()\\\n",
    "/orders[np.logical_and(orders['group']=='A', np.logical_not(orders['visitor_id'].isin(abnormalUsers)))]['revenue'].mean()-1))\n",
    "       \n",
    "       \n",
    "results = st.mannwhitneyu(orders[np.logical_and(orders['group']=='A', np.logical_not(orders['visitor_id'].isin(abnormalUsers)))]['revenue'],\n",
    "                             orders[np.logical_and(orders['group']=='B', np.logical_not(orders['visitor_id'].isin(abnormalUsers)))]['revenue'])\n",
    "print('P-value: {}'.format(results.pvalue))"
   ]
  },
  {
   "cell_type": "markdown",
   "metadata": {},
   "source": [
    "**Вывод:** Как и в случае с сырыми данными, статистическая значимость достигнута не была. Но разница между сегментами сократилась с 25,9% до практически нулевой, средний чек в группе B даже стал незначительно ниже чем в группе A."
   ]
  },
  {
   "cell_type": "markdown",
   "metadata": {},
   "source": [
    "**ОБЩИЙ ВЫВОД:**\n",
    "Варианты решений:\n",
    "- Остановить тест, зафиксировать победу одной из групп.\n",
    "- Остановить тест, зафиксировать отсутствие различий между группами.\n",
    "- Продолжить тест."
   ]
  },
  {
   "cell_type": "markdown",
   "metadata": {},
   "source": [
    "По данным различия в конверсии групп A и B есть. Относительный выигрыш группы \"B\" над \"A\" равен **17,4%** по \"очищенным\" и **13,8%** по \"сырым\" данным.\n",
    "\n",
    "Оказалось, что и по \"сырым\" и по \"очищенным\" данным различия в средних чеках групп A и B отстутствуют, несмотря на то, что средний чек группы B оказался незначительно (на 2%) ниже среднего чека группы A по \"очищенным\" данным, в то время как по \"сырым\" данным, он был больше аж на **25,9%.** \n",
    "Аномальный заказ убрали и чеки сравнялись.\n",
    "\n",
    "Результаты тестирования вполне понятны. В итоге можно принять решение и **остановить** тестирование, констатировать успех и победу группы B : группа B значительно лучше (эффективнее) группы A по конверсии, хотя по среднему чеку группы примерно равны."
   ]
  }
 ],
 "metadata": {
  "ExecuteTimeLog": [
   {
    "duration": 130,
    "start_time": "2023-07-31T07:27:29.393Z"
   },
   {
    "duration": 88,
    "start_time": "2023-07-31T07:27:42.649Z"
   },
   {
    "duration": 390,
    "start_time": "2023-07-31T07:28:02.516Z"
   },
   {
    "duration": 65,
    "start_time": "2023-07-31T07:28:14.967Z"
   },
   {
    "duration": 15,
    "start_time": "2023-07-31T07:28:39.052Z"
   },
   {
    "duration": 1464,
    "start_time": "2023-07-31T07:37:27.563Z"
   },
   {
    "duration": 0,
    "start_time": "2023-07-31T07:37:29.029Z"
   },
   {
    "duration": 15,
    "start_time": "2023-07-31T07:39:34.179Z"
   },
   {
    "duration": 9,
    "start_time": "2023-07-31T07:41:44.473Z"
   },
   {
    "duration": 3,
    "start_time": "2023-07-31T07:42:01.158Z"
   },
   {
    "duration": 4,
    "start_time": "2023-07-31T07:42:09.755Z"
   },
   {
    "duration": 3,
    "start_time": "2023-07-31T07:42:34.722Z"
   },
   {
    "duration": 10,
    "start_time": "2023-07-31T07:42:47.776Z"
   },
   {
    "duration": 11,
    "start_time": "2023-07-31T07:43:00.953Z"
   },
   {
    "duration": 4,
    "start_time": "2023-07-31T07:43:01.579Z"
   },
   {
    "duration": 9,
    "start_time": "2023-07-31T07:43:02.544Z"
   },
   {
    "duration": 2,
    "start_time": "2023-07-31T07:43:33.618Z"
   },
   {
    "duration": 29,
    "start_time": "2023-07-31T07:43:34.104Z"
   },
   {
    "duration": 12,
    "start_time": "2023-07-31T07:43:34.591Z"
   },
   {
    "duration": 4,
    "start_time": "2023-07-31T07:43:35.143Z"
   },
   {
    "duration": 10,
    "start_time": "2023-07-31T07:43:35.739Z"
   },
   {
    "duration": 5,
    "start_time": "2023-07-31T07:43:57.946Z"
   },
   {
    "duration": 8,
    "start_time": "2023-07-31T07:44:14.440Z"
   },
   {
    "duration": 9,
    "start_time": "2023-07-31T07:44:21.841Z"
   },
   {
    "duration": 11,
    "start_time": "2023-07-31T07:44:36.465Z"
   },
   {
    "duration": 12,
    "start_time": "2023-07-31T07:45:46.361Z"
   },
   {
    "duration": 4,
    "start_time": "2023-07-31T07:45:54.240Z"
   },
   {
    "duration": 4,
    "start_time": "2023-07-31T07:45:58.750Z"
   },
   {
    "duration": 7,
    "start_time": "2023-07-31T07:46:04.051Z"
   },
   {
    "duration": 9,
    "start_time": "2023-07-31T07:46:28.002Z"
   },
   {
    "duration": 1072,
    "start_time": "2023-07-31T07:50:42.845Z"
   },
   {
    "duration": 29,
    "start_time": "2023-07-31T07:50:44.102Z"
   },
   {
    "duration": 12,
    "start_time": "2023-07-31T07:50:44.636Z"
   },
   {
    "duration": 4,
    "start_time": "2023-07-31T07:50:45.119Z"
   },
   {
    "duration": 9,
    "start_time": "2023-07-31T07:50:45.655Z"
   },
   {
    "duration": 82,
    "start_time": "2023-07-31T07:52:55.654Z"
   },
   {
    "duration": 17,
    "start_time": "2023-07-31T07:53:04.079Z"
   },
   {
    "duration": 6,
    "start_time": "2023-07-31T07:53:12.241Z"
   },
   {
    "duration": 12,
    "start_time": "2023-07-31T07:53:12.817Z"
   },
   {
    "duration": 172,
    "start_time": "2023-07-31T09:19:43.183Z"
   },
   {
    "duration": 14,
    "start_time": "2023-07-31T09:20:16.291Z"
   },
   {
    "duration": 9,
    "start_time": "2023-07-31T09:20:21.021Z"
   },
   {
    "duration": 13,
    "start_time": "2023-07-31T09:20:26.847Z"
   },
   {
    "duration": 4,
    "start_time": "2023-07-31T09:22:36.758Z"
   },
   {
    "duration": 10,
    "start_time": "2023-07-31T09:22:39.743Z"
   },
   {
    "duration": 5,
    "start_time": "2023-07-31T09:22:40.798Z"
   },
   {
    "duration": 11,
    "start_time": "2023-07-31T09:22:41.343Z"
   },
   {
    "duration": 4,
    "start_time": "2023-07-31T09:22:42.805Z"
   },
   {
    "duration": 13,
    "start_time": "2023-07-31T09:22:43.453Z"
   },
   {
    "duration": 51,
    "start_time": "2023-07-31T09:22:50.672Z"
   },
   {
    "duration": 9,
    "start_time": "2023-07-31T09:22:51.087Z"
   },
   {
    "duration": 10,
    "start_time": "2023-07-31T09:22:51.610Z"
   },
   {
    "duration": 66,
    "start_time": "2023-07-31T09:23:55.406Z"
   },
   {
    "duration": 8,
    "start_time": "2023-07-31T09:24:10.416Z"
   },
   {
    "duration": 10,
    "start_time": "2023-07-31T09:24:21.900Z"
   },
   {
    "duration": 4,
    "start_time": "2023-07-31T09:28:29.978Z"
   },
   {
    "duration": 4,
    "start_time": "2023-07-31T09:28:42.873Z"
   },
   {
    "duration": 11,
    "start_time": "2023-07-31T09:28:50.372Z"
   },
   {
    "duration": 10,
    "start_time": "2023-07-31T09:29:03.059Z"
   },
   {
    "duration": 14,
    "start_time": "2023-07-31T09:29:26.737Z"
   },
   {
    "duration": 11,
    "start_time": "2023-07-31T09:29:41.899Z"
   },
   {
    "duration": 13,
    "start_time": "2023-07-31T09:30:14.255Z"
   },
   {
    "duration": 13,
    "start_time": "2023-07-31T09:30:15.443Z"
   },
   {
    "duration": 30,
    "start_time": "2023-07-31T09:56:45.047Z"
   },
   {
    "duration": 13,
    "start_time": "2023-07-31T09:56:48.363Z"
   },
   {
    "duration": 4,
    "start_time": "2023-07-31T09:56:59.215Z"
   },
   {
    "duration": 8,
    "start_time": "2023-07-31T09:57:00.001Z"
   },
   {
    "duration": 4,
    "start_time": "2023-07-31T09:57:19.858Z"
   },
   {
    "duration": 9,
    "start_time": "2023-07-31T09:57:20.342Z"
   },
   {
    "duration": 12,
    "start_time": "2023-07-31T09:57:42.746Z"
   },
   {
    "duration": 4,
    "start_time": "2023-07-31T09:57:55.245Z"
   },
   {
    "duration": 37,
    "start_time": "2023-07-31T09:57:56.352Z"
   },
   {
    "duration": 13,
    "start_time": "2023-07-31T09:57:57.062Z"
   },
   {
    "duration": 3,
    "start_time": "2023-07-31T09:57:57.947Z"
   },
   {
    "duration": 7,
    "start_time": "2023-07-31T09:57:58.695Z"
   },
   {
    "duration": 4,
    "start_time": "2023-07-31T09:58:00.149Z"
   },
   {
    "duration": 10,
    "start_time": "2023-07-31T09:58:01.883Z"
   },
   {
    "duration": 5,
    "start_time": "2023-07-31T09:58:03.110Z"
   },
   {
    "duration": 10,
    "start_time": "2023-07-31T09:58:03.807Z"
   },
   {
    "duration": 53,
    "start_time": "2023-07-31T09:58:09.955Z"
   },
   {
    "duration": 10,
    "start_time": "2023-07-31T09:58:10.308Z"
   },
   {
    "duration": 11,
    "start_time": "2023-07-31T09:58:10.684Z"
   },
   {
    "duration": 28,
    "start_time": "2023-07-31T09:58:11.059Z"
   },
   {
    "duration": 7,
    "start_time": "2023-07-31T09:58:11.447Z"
   },
   {
    "duration": 10,
    "start_time": "2023-07-31T09:58:11.848Z"
   },
   {
    "duration": 12,
    "start_time": "2023-07-31T09:58:12.447Z"
   },
   {
    "duration": 16,
    "start_time": "2023-07-31T09:58:12.867Z"
   },
   {
    "duration": 27,
    "start_time": "2023-07-31T09:58:46.702Z"
   },
   {
    "duration": 11,
    "start_time": "2023-07-31T09:58:47.242Z"
   },
   {
    "duration": 4,
    "start_time": "2023-07-31T09:58:47.683Z"
   },
   {
    "duration": 8,
    "start_time": "2023-07-31T09:58:48.254Z"
   },
   {
    "duration": 79,
    "start_time": "2023-07-31T09:59:12.551Z"
   },
   {
    "duration": 14,
    "start_time": "2023-07-31T09:59:16.961Z"
   },
   {
    "duration": 5,
    "start_time": "2023-07-31T09:59:20.563Z"
   },
   {
    "duration": 10,
    "start_time": "2023-07-31T09:59:21.047Z"
   },
   {
    "duration": 4,
    "start_time": "2023-07-31T09:59:33.310Z"
   },
   {
    "duration": 10,
    "start_time": "2023-07-31T09:59:33.851Z"
   },
   {
    "duration": 7,
    "start_time": "2023-07-31T10:04:47.408Z"
   },
   {
    "duration": 5,
    "start_time": "2023-07-31T10:05:09.753Z"
   },
   {
    "duration": 6,
    "start_time": "2023-07-31T10:05:37.043Z"
   },
   {
    "duration": 6,
    "start_time": "2023-07-31T10:05:37.286Z"
   },
   {
    "duration": 6,
    "start_time": "2023-07-31T10:07:01.917Z"
   },
   {
    "duration": 11,
    "start_time": "2023-07-31T10:07:11.851Z"
   },
   {
    "duration": 5,
    "start_time": "2023-07-31T10:07:12.146Z"
   },
   {
    "duration": 4,
    "start_time": "2023-07-31T10:28:13.563Z"
   },
   {
    "duration": 7,
    "start_time": "2023-07-31T10:29:48.567Z"
   },
   {
    "duration": 3,
    "start_time": "2023-07-31T10:34:50.221Z"
   },
   {
    "duration": 14,
    "start_time": "2023-07-31T10:34:50.797Z"
   },
   {
    "duration": 35,
    "start_time": "2023-07-31T10:34:52.768Z"
   },
   {
    "duration": 8,
    "start_time": "2023-07-31T10:34:53.797Z"
   },
   {
    "duration": 11,
    "start_time": "2023-07-31T10:34:54.307Z"
   },
   {
    "duration": 8,
    "start_time": "2023-07-31T10:34:54.948Z"
   },
   {
    "duration": 26,
    "start_time": "2023-07-31T10:34:55.865Z"
   },
   {
    "duration": 15,
    "start_time": "2023-07-31T10:34:56.493Z"
   },
   {
    "duration": 6,
    "start_time": "2023-07-31T10:34:57.194Z"
   },
   {
    "duration": 6,
    "start_time": "2023-07-31T10:34:59.813Z"
   },
   {
    "duration": 27,
    "start_time": "2023-07-31T10:35:00.420Z"
   },
   {
    "duration": 184,
    "start_time": "2023-07-31T10:36:34.169Z"
   },
   {
    "duration": 6,
    "start_time": "2023-07-31T10:36:38.660Z"
   },
   {
    "duration": 199,
    "start_time": "2023-07-31T10:36:39.100Z"
   },
   {
    "duration": 180,
    "start_time": "2023-07-31T10:38:27.364Z"
   },
   {
    "duration": 176,
    "start_time": "2023-07-31T10:38:28.210Z"
   },
   {
    "duration": 182,
    "start_time": "2023-07-31T10:38:35.587Z"
   },
   {
    "duration": 5,
    "start_time": "2023-07-31T10:38:57.644Z"
   },
   {
    "duration": 185,
    "start_time": "2023-07-31T10:38:58.071Z"
   },
   {
    "duration": 124,
    "start_time": "2023-07-31T10:42:17.348Z"
   },
   {
    "duration": 120,
    "start_time": "2023-07-31T10:42:51.503Z"
   },
   {
    "duration": 4,
    "start_time": "2023-07-31T10:43:06.956Z"
   },
   {
    "duration": 66,
    "start_time": "2023-07-31T10:43:06.962Z"
   },
   {
    "duration": 10,
    "start_time": "2023-07-31T10:43:07.030Z"
   },
   {
    "duration": 21,
    "start_time": "2023-07-31T10:43:07.042Z"
   },
   {
    "duration": 22,
    "start_time": "2023-07-31T10:43:07.065Z"
   },
   {
    "duration": 8,
    "start_time": "2023-07-31T10:43:07.088Z"
   },
   {
    "duration": 13,
    "start_time": "2023-07-31T10:43:07.098Z"
   },
   {
    "duration": 6,
    "start_time": "2023-07-31T10:43:07.114Z"
   },
   {
    "duration": 18,
    "start_time": "2023-07-31T10:43:07.122Z"
   },
   {
    "duration": 44,
    "start_time": "2023-07-31T10:43:07.142Z"
   },
   {
    "duration": 9,
    "start_time": "2023-07-31T10:43:07.188Z"
   },
   {
    "duration": 6,
    "start_time": "2023-07-31T10:43:07.200Z"
   },
   {
    "duration": 13,
    "start_time": "2023-07-31T10:43:07.208Z"
   },
   {
    "duration": 18,
    "start_time": "2023-07-31T10:43:07.226Z"
   },
   {
    "duration": 12,
    "start_time": "2023-07-31T10:43:07.246Z"
   },
   {
    "duration": 26,
    "start_time": "2023-07-31T10:43:07.260Z"
   },
   {
    "duration": 18,
    "start_time": "2023-07-31T10:43:07.287Z"
   },
   {
    "duration": 15,
    "start_time": "2023-07-31T10:43:07.307Z"
   },
   {
    "duration": 22,
    "start_time": "2023-07-31T10:43:07.324Z"
   },
   {
    "duration": 8,
    "start_time": "2023-07-31T10:43:07.348Z"
   },
   {
    "duration": 8,
    "start_time": "2023-07-31T10:43:07.358Z"
   },
   {
    "duration": 184,
    "start_time": "2023-07-31T10:43:07.368Z"
   },
   {
    "duration": 130,
    "start_time": "2023-07-31T10:43:07.553Z"
   },
   {
    "duration": 3,
    "start_time": "2023-07-31T10:43:30.956Z"
   },
   {
    "duration": 29,
    "start_time": "2023-07-31T10:43:31.648Z"
   },
   {
    "duration": 11,
    "start_time": "2023-07-31T10:43:31.916Z"
   },
   {
    "duration": 4,
    "start_time": "2023-07-31T10:43:32.460Z"
   },
   {
    "duration": 8,
    "start_time": "2023-07-31T10:43:32.761Z"
   },
   {
    "duration": 5,
    "start_time": "2023-07-31T10:43:33.319Z"
   },
   {
    "duration": 9,
    "start_time": "2023-07-31T10:43:33.591Z"
   },
   {
    "duration": 6,
    "start_time": "2023-07-31T10:43:34.122Z"
   },
   {
    "duration": 10,
    "start_time": "2023-07-31T10:43:34.397Z"
   },
   {
    "duration": 57,
    "start_time": "2023-07-31T10:43:35.753Z"
   },
   {
    "duration": 8,
    "start_time": "2023-07-31T10:43:36.058Z"
   },
   {
    "duration": 5,
    "start_time": "2023-07-31T10:43:36.448Z"
   },
   {
    "duration": 12,
    "start_time": "2023-07-31T10:43:36.787Z"
   },
   {
    "duration": 34,
    "start_time": "2023-07-31T10:43:37.146Z"
   },
   {
    "duration": 8,
    "start_time": "2023-07-31T10:43:37.508Z"
   },
   {
    "duration": 19,
    "start_time": "2023-07-31T10:43:37.868Z"
   },
   {
    "duration": 5,
    "start_time": "2023-07-31T10:43:38.193Z"
   },
   {
    "duration": 23,
    "start_time": "2023-07-31T10:43:38.566Z"
   },
   {
    "duration": 12,
    "start_time": "2023-07-31T10:43:38.988Z"
   },
   {
    "duration": 5,
    "start_time": "2023-07-31T10:43:39.312Z"
   },
   {
    "duration": 6,
    "start_time": "2023-07-31T10:43:40.448Z"
   },
   {
    "duration": 165,
    "start_time": "2023-07-31T10:43:40.804Z"
   },
   {
    "duration": 117,
    "start_time": "2023-07-31T10:43:41.200Z"
   },
   {
    "duration": 8,
    "start_time": "2023-07-31T10:44:20.536Z"
   },
   {
    "duration": 125,
    "start_time": "2023-07-31T10:46:56.762Z"
   },
   {
    "duration": 10,
    "start_time": "2023-07-31T10:46:57.687Z"
   },
   {
    "duration": 13,
    "start_time": "2023-07-31T10:46:58.169Z"
   },
   {
    "duration": 333,
    "start_time": "2023-07-31T10:47:55.219Z"
   },
   {
    "duration": 256,
    "start_time": "2023-07-31T11:57:39.598Z"
   },
   {
    "duration": 182,
    "start_time": "2023-07-31T11:58:28.352Z"
   },
   {
    "duration": 302,
    "start_time": "2023-07-31T11:59:15.053Z"
   },
   {
    "duration": 6,
    "start_time": "2023-07-31T12:00:27.159Z"
   },
   {
    "duration": 360,
    "start_time": "2023-07-31T12:00:28.015Z"
   },
   {
    "duration": 365,
    "start_time": "2023-07-31T12:01:06.357Z"
   },
   {
    "duration": 357,
    "start_time": "2023-07-31T12:09:58.946Z"
   },
   {
    "duration": 8,
    "start_time": "2023-07-31T12:12:42.792Z"
   },
   {
    "duration": 342,
    "start_time": "2023-07-31T12:12:43.459Z"
   },
   {
    "duration": 258,
    "start_time": "2023-07-31T12:14:10.289Z"
   },
   {
    "duration": 268,
    "start_time": "2023-07-31T12:14:25.843Z"
   },
   {
    "duration": 319,
    "start_time": "2023-07-31T12:14:59.898Z"
   },
   {
    "duration": 659,
    "start_time": "2023-07-31T12:15:43.013Z"
   },
   {
    "duration": 22,
    "start_time": "2023-07-31T12:18:21.902Z"
   },
   {
    "duration": 214,
    "start_time": "2023-07-31T12:24:59.760Z"
   },
   {
    "duration": 25,
    "start_time": "2023-07-31T12:26:41.185Z"
   },
   {
    "duration": 477,
    "start_time": "2023-07-31T12:27:29.713Z"
   },
   {
    "duration": 475,
    "start_time": "2023-07-31T12:28:09.900Z"
   },
   {
    "duration": 781,
    "start_time": "2023-07-31T12:28:41.954Z"
   },
   {
    "duration": 617,
    "start_time": "2023-07-31T12:28:56.566Z"
   },
   {
    "duration": 615,
    "start_time": "2023-07-31T12:29:06.647Z"
   },
   {
    "duration": 2,
    "start_time": "2023-07-31T12:30:18.392Z"
   },
   {
    "duration": 566,
    "start_time": "2023-07-31T12:30:32.356Z"
   },
   {
    "duration": 25,
    "start_time": "2023-07-31T12:30:38.461Z"
   },
   {
    "duration": 229,
    "start_time": "2023-07-31T12:31:22.785Z"
   },
   {
    "duration": 210,
    "start_time": "2023-07-31T12:31:41.953Z"
   },
   {
    "duration": 22,
    "start_time": "2023-07-31T12:32:05.715Z"
   },
   {
    "duration": 226,
    "start_time": "2023-07-31T12:32:11.203Z"
   },
   {
    "duration": 277,
    "start_time": "2023-07-31T12:32:16.209Z"
   },
   {
    "duration": 289,
    "start_time": "2023-07-31T12:32:32.048Z"
   },
   {
    "duration": 306,
    "start_time": "2023-07-31T12:32:40.079Z"
   },
   {
    "duration": 377,
    "start_time": "2023-07-31T12:32:53.752Z"
   },
   {
    "duration": 343,
    "start_time": "2023-07-31T12:33:36.056Z"
   },
   {
    "duration": 291,
    "start_time": "2023-07-31T12:33:42.954Z"
   },
   {
    "duration": 2588,
    "start_time": "2023-07-31T12:33:45.052Z"
   },
   {
    "duration": 3,
    "start_time": "2023-07-31T12:34:59.557Z"
   },
   {
    "duration": 4,
    "start_time": "2023-07-31T12:35:22.270Z"
   },
   {
    "duration": 416,
    "start_time": "2023-07-31T12:35:26.165Z"
   },
   {
    "duration": 341,
    "start_time": "2023-07-31T12:35:48.120Z"
   },
   {
    "duration": 450,
    "start_time": "2023-07-31T12:36:02.252Z"
   },
   {
    "duration": 374,
    "start_time": "2023-07-31T12:36:23.083Z"
   },
   {
    "duration": 371,
    "start_time": "2023-07-31T12:36:36.687Z"
   },
   {
    "duration": 447,
    "start_time": "2023-07-31T12:36:40.991Z"
   },
   {
    "duration": 458,
    "start_time": "2023-07-31T12:37:00.073Z"
   },
   {
    "duration": 387,
    "start_time": "2023-07-31T12:37:07.865Z"
   },
   {
    "duration": 562,
    "start_time": "2023-07-31T12:37:37.141Z"
   },
   {
    "duration": 345,
    "start_time": "2023-07-31T12:38:11.581Z"
   },
   {
    "duration": 478,
    "start_time": "2023-07-31T12:38:30.442Z"
   },
   {
    "duration": 3,
    "start_time": "2023-07-31T12:45:43.353Z"
   },
   {
    "duration": 363,
    "start_time": "2023-07-31T12:45:43.744Z"
   },
   {
    "duration": 28,
    "start_time": "2023-07-31T12:46:47.957Z"
   },
   {
    "duration": 374,
    "start_time": "2023-07-31T12:48:00.966Z"
   },
   {
    "duration": 252,
    "start_time": "2023-07-31T12:48:09.018Z"
   },
   {
    "duration": 314,
    "start_time": "2023-07-31T12:52:58.714Z"
   },
   {
    "duration": 332,
    "start_time": "2023-07-31T12:53:04.751Z"
   },
   {
    "duration": 409,
    "start_time": "2023-07-31T12:53:40.014Z"
   },
   {
    "duration": 490,
    "start_time": "2023-07-31T12:53:50.104Z"
   },
   {
    "duration": 477,
    "start_time": "2023-07-31T12:54:49.858Z"
   },
   {
    "duration": 237,
    "start_time": "2023-07-31T12:58:54.913Z"
   },
   {
    "duration": 271,
    "start_time": "2023-07-31T12:59:34.253Z"
   },
   {
    "duration": 356,
    "start_time": "2023-07-31T12:59:42.253Z"
   },
   {
    "duration": 346,
    "start_time": "2023-07-31T13:00:51.208Z"
   },
   {
    "duration": 369,
    "start_time": "2023-07-31T13:00:56.874Z"
   },
   {
    "duration": 339,
    "start_time": "2023-07-31T13:01:08.115Z"
   },
   {
    "duration": 977,
    "start_time": "2023-07-31T13:01:21.962Z"
   },
   {
    "duration": 624,
    "start_time": "2023-07-31T13:01:30.552Z"
   },
   {
    "duration": 632,
    "start_time": "2023-07-31T13:01:49.448Z"
   },
   {
    "duration": 3,
    "start_time": "2023-07-31T13:01:52.159Z"
   },
   {
    "duration": 348,
    "start_time": "2023-07-31T13:01:54.035Z"
   },
   {
    "duration": 343,
    "start_time": "2023-07-31T13:02:04.051Z"
   },
   {
    "duration": 4,
    "start_time": "2023-07-31T13:02:09.799Z"
   },
   {
    "duration": 389,
    "start_time": "2023-07-31T13:02:10.599Z"
   },
   {
    "duration": 10,
    "start_time": "2023-07-31T13:03:02.297Z"
   },
   {
    "duration": 361,
    "start_time": "2023-07-31T13:03:02.788Z"
   },
   {
    "duration": 252,
    "start_time": "2023-07-31T13:03:19.298Z"
   },
   {
    "duration": 302,
    "start_time": "2023-07-31T13:04:04.522Z"
   },
   {
    "duration": 265,
    "start_time": "2023-07-31T13:04:23.447Z"
   },
   {
    "duration": 424,
    "start_time": "2023-07-31T13:04:29.948Z"
   },
   {
    "duration": 262,
    "start_time": "2023-07-31T13:04:36.513Z"
   },
   {
    "duration": 589,
    "start_time": "2023-07-31T13:04:41.752Z"
   },
   {
    "duration": 277,
    "start_time": "2023-07-31T13:05:00.807Z"
   },
   {
    "duration": 388,
    "start_time": "2023-07-31T13:05:28.410Z"
   },
   {
    "duration": 226,
    "start_time": "2023-07-31T13:06:08.102Z"
   },
   {
    "duration": 422,
    "start_time": "2023-07-31T13:06:32.745Z"
   },
   {
    "duration": 348,
    "start_time": "2023-07-31T13:06:43.209Z"
   },
   {
    "duration": 258,
    "start_time": "2023-07-31T13:07:01.817Z"
   },
   {
    "duration": 296,
    "start_time": "2023-07-31T13:07:06.351Z"
   },
   {
    "duration": 263,
    "start_time": "2023-07-31T13:07:37.299Z"
   },
   {
    "duration": 311,
    "start_time": "2023-07-31T13:51:45.219Z"
   },
   {
    "duration": 309,
    "start_time": "2023-07-31T13:51:59.993Z"
   },
   {
    "duration": 32,
    "start_time": "2023-07-31T13:52:48.112Z"
   },
   {
    "duration": 22,
    "start_time": "2023-07-31T13:53:06.589Z"
   },
   {
    "duration": 164,
    "start_time": "2023-07-31T13:53:22.248Z"
   },
   {
    "duration": 228,
    "start_time": "2023-07-31T13:59:16.502Z"
   },
   {
    "duration": 352,
    "start_time": "2023-07-31T14:00:04.707Z"
   },
   {
    "duration": 126,
    "start_time": "2023-07-31T14:00:21.587Z"
   },
   {
    "duration": 164,
    "start_time": "2023-07-31T14:00:22.304Z"
   },
   {
    "duration": 9,
    "start_time": "2023-07-31T14:00:47.681Z"
   },
   {
    "duration": 190,
    "start_time": "2023-07-31T14:02:28.091Z"
   },
   {
    "duration": 5,
    "start_time": "2023-07-31T14:05:03.099Z"
   },
   {
    "duration": 7,
    "start_time": "2023-07-31T14:05:30.402Z"
   },
   {
    "duration": 239,
    "start_time": "2023-07-31T14:08:28.654Z"
   },
   {
    "duration": 252,
    "start_time": "2023-07-31T14:08:41.206Z"
   },
   {
    "duration": 275,
    "start_time": "2023-07-31T14:09:32.559Z"
   },
   {
    "duration": 99,
    "start_time": "2023-07-31T14:09:35.610Z"
   },
   {
    "duration": 285,
    "start_time": "2023-07-31T14:10:03.264Z"
   },
   {
    "duration": 260,
    "start_time": "2023-07-31T14:10:14.264Z"
   },
   {
    "duration": 269,
    "start_time": "2023-07-31T14:12:24.272Z"
   },
   {
    "duration": 321,
    "start_time": "2023-07-31T14:12:29.612Z"
   },
   {
    "duration": 0,
    "start_time": "2023-07-31T14:14:36.732Z"
   },
   {
    "duration": 7,
    "start_time": "2023-07-31T14:15:00.378Z"
   },
   {
    "duration": 4,
    "start_time": "2023-07-31T14:16:39.682Z"
   },
   {
    "duration": 283,
    "start_time": "2023-07-31T14:16:40.349Z"
   },
   {
    "duration": 442,
    "start_time": "2023-07-31T14:17:02.363Z"
   },
   {
    "duration": 1473,
    "start_time": "2023-08-01T07:36:26.011Z"
   },
   {
    "duration": 60,
    "start_time": "2023-08-01T07:36:27.487Z"
   },
   {
    "duration": 13,
    "start_time": "2023-08-01T07:36:27.549Z"
   },
   {
    "duration": 4,
    "start_time": "2023-08-01T07:36:27.649Z"
   },
   {
    "duration": 14,
    "start_time": "2023-08-01T07:36:28.090Z"
   },
   {
    "duration": 6,
    "start_time": "2023-08-01T07:36:29.169Z"
   },
   {
    "duration": 11,
    "start_time": "2023-08-01T07:36:29.613Z"
   },
   {
    "duration": 5,
    "start_time": "2023-08-01T07:36:30.450Z"
   },
   {
    "duration": 11,
    "start_time": "2023-08-01T07:36:30.858Z"
   },
   {
    "duration": 93,
    "start_time": "2023-08-01T07:36:32.888Z"
   },
   {
    "duration": 9,
    "start_time": "2023-08-01T07:36:33.290Z"
   },
   {
    "duration": 4,
    "start_time": "2023-08-01T07:36:33.737Z"
   },
   {
    "duration": 13,
    "start_time": "2023-08-01T07:36:34.178Z"
   },
   {
    "duration": 64,
    "start_time": "2023-08-01T07:36:34.640Z"
   },
   {
    "duration": 8,
    "start_time": "2023-08-01T07:36:35.179Z"
   },
   {
    "duration": 12,
    "start_time": "2023-08-01T07:36:35.599Z"
   },
   {
    "duration": 7,
    "start_time": "2023-08-01T07:36:36.006Z"
   },
   {
    "duration": 14,
    "start_time": "2023-08-01T07:36:36.483Z"
   },
   {
    "duration": 13,
    "start_time": "2023-08-01T07:36:36.876Z"
   },
   {
    "duration": 5,
    "start_time": "2023-08-01T07:36:37.304Z"
   },
   {
    "duration": 3,
    "start_time": "2023-08-01T07:36:38.940Z"
   },
   {
    "duration": 2,
    "start_time": "2023-08-01T07:36:39.445Z"
   },
   {
    "duration": 3,
    "start_time": "2023-08-01T07:36:39.884Z"
   },
   {
    "duration": 3,
    "start_time": "2023-08-01T07:36:40.307Z"
   },
   {
    "duration": 3,
    "start_time": "2023-08-01T07:36:40.740Z"
   },
   {
    "duration": 111,
    "start_time": "2023-08-01T07:36:41.140Z"
   },
   {
    "duration": 3,
    "start_time": "2023-08-01T07:37:05.276Z"
   },
   {
    "duration": 30,
    "start_time": "2023-08-01T07:37:05.291Z"
   },
   {
    "duration": 14,
    "start_time": "2023-08-01T07:37:05.324Z"
   },
   {
    "duration": 159,
    "start_time": "2023-08-01T07:37:05.340Z"
   },
   {
    "duration": 39,
    "start_time": "2023-08-01T07:37:05.500Z"
   },
   {
    "duration": 25,
    "start_time": "2023-08-01T07:37:05.541Z"
   },
   {
    "duration": 22,
    "start_time": "2023-08-01T07:37:05.568Z"
   },
   {
    "duration": 7,
    "start_time": "2023-08-01T07:37:05.591Z"
   },
   {
    "duration": 18,
    "start_time": "2023-08-01T07:37:05.599Z"
   },
   {
    "duration": 64,
    "start_time": "2023-08-01T07:37:05.619Z"
   },
   {
    "duration": 13,
    "start_time": "2023-08-01T07:37:05.685Z"
   },
   {
    "duration": 81,
    "start_time": "2023-08-01T07:37:05.700Z"
   },
   {
    "duration": 40,
    "start_time": "2023-08-01T07:37:05.783Z"
   },
   {
    "duration": 52,
    "start_time": "2023-08-01T07:37:05.825Z"
   },
   {
    "duration": 8,
    "start_time": "2023-08-01T07:37:05.880Z"
   },
   {
    "duration": 20,
    "start_time": "2023-08-01T07:37:05.889Z"
   },
   {
    "duration": 15,
    "start_time": "2023-08-01T07:37:05.911Z"
   },
   {
    "duration": 25,
    "start_time": "2023-08-01T07:37:05.928Z"
   },
   {
    "duration": 14,
    "start_time": "2023-08-01T07:37:05.955Z"
   },
   {
    "duration": 7,
    "start_time": "2023-08-01T07:37:05.971Z"
   },
   {
    "duration": 4,
    "start_time": "2023-08-01T07:37:05.980Z"
   },
   {
    "duration": 7,
    "start_time": "2023-08-01T07:37:05.986Z"
   },
   {
    "duration": 25,
    "start_time": "2023-08-01T07:37:05.995Z"
   },
   {
    "duration": 8,
    "start_time": "2023-08-01T07:37:06.022Z"
   },
   {
    "duration": 14,
    "start_time": "2023-08-01T07:37:06.032Z"
   },
   {
    "duration": 16,
    "start_time": "2023-08-01T07:37:06.048Z"
   },
   {
    "duration": 0,
    "start_time": "2023-08-01T07:37:06.066Z"
   },
   {
    "duration": 0,
    "start_time": "2023-08-01T07:37:06.068Z"
   },
   {
    "duration": 0,
    "start_time": "2023-08-01T07:37:06.069Z"
   },
   {
    "duration": 0,
    "start_time": "2023-08-01T07:37:06.070Z"
   },
   {
    "duration": 0,
    "start_time": "2023-08-01T07:37:06.071Z"
   },
   {
    "duration": 0,
    "start_time": "2023-08-01T07:37:06.072Z"
   },
   {
    "duration": 0,
    "start_time": "2023-08-01T07:37:06.073Z"
   },
   {
    "duration": 0,
    "start_time": "2023-08-01T07:37:06.074Z"
   },
   {
    "duration": 0,
    "start_time": "2023-08-01T07:37:06.075Z"
   },
   {
    "duration": 0,
    "start_time": "2023-08-01T07:37:06.076Z"
   },
   {
    "duration": 0,
    "start_time": "2023-08-01T07:37:06.078Z"
   },
   {
    "duration": 7,
    "start_time": "2023-08-01T07:37:52.641Z"
   },
   {
    "duration": 6,
    "start_time": "2023-08-01T07:37:55.545Z"
   },
   {
    "duration": 2,
    "start_time": "2023-08-01T07:37:55.840Z"
   },
   {
    "duration": 2,
    "start_time": "2023-08-01T07:37:56.095Z"
   },
   {
    "duration": 3,
    "start_time": "2023-08-01T07:37:56.355Z"
   },
   {
    "duration": 2,
    "start_time": "2023-08-01T07:37:56.618Z"
   },
   {
    "duration": 581,
    "start_time": "2023-08-01T07:37:56.945Z"
   },
   {
    "duration": 2,
    "start_time": "2023-08-01T07:38:00.962Z"
   },
   {
    "duration": 226,
    "start_time": "2023-08-01T07:38:01.330Z"
   },
   {
    "duration": 3,
    "start_time": "2023-08-01T07:38:02.942Z"
   },
   {
    "duration": 340,
    "start_time": "2023-08-01T07:38:03.281Z"
   },
   {
    "duration": 235,
    "start_time": "2023-08-01T07:38:04.066Z"
   },
   {
    "duration": 193,
    "start_time": "2023-08-01T07:38:04.808Z"
   },
   {
    "duration": 3,
    "start_time": "2023-08-01T07:38:05.380Z"
   },
   {
    "duration": 11,
    "start_time": "2023-08-01T07:38:05.948Z"
   },
   {
    "duration": 226,
    "start_time": "2023-08-01T07:38:22.641Z"
   },
   {
    "duration": 3,
    "start_time": "2023-08-01T07:38:25.740Z"
   },
   {
    "duration": 11,
    "start_time": "2023-08-01T07:38:26.412Z"
   },
   {
    "duration": 118,
    "start_time": "2023-08-01T07:38:46.023Z"
   },
   {
    "duration": 1888,
    "start_time": "2023-08-01T07:38:46.557Z"
   },
   {
    "duration": 3,
    "start_time": "2023-08-01T07:38:59.408Z"
   },
   {
    "duration": 2018,
    "start_time": "2023-08-01T07:39:00.423Z"
   },
   {
    "duration": 3,
    "start_time": "2023-08-01T07:39:17.342Z"
   },
   {
    "duration": 35,
    "start_time": "2023-08-01T07:39:17.347Z"
   },
   {
    "duration": 12,
    "start_time": "2023-08-01T07:39:17.383Z"
   },
   {
    "duration": 18,
    "start_time": "2023-08-01T07:39:17.397Z"
   },
   {
    "duration": 11,
    "start_time": "2023-08-01T07:39:17.417Z"
   },
   {
    "duration": 8,
    "start_time": "2023-08-01T07:39:17.430Z"
   },
   {
    "duration": 14,
    "start_time": "2023-08-01T07:39:17.440Z"
   },
   {
    "duration": 7,
    "start_time": "2023-08-01T07:39:17.456Z"
   },
   {
    "duration": 18,
    "start_time": "2023-08-01T07:39:17.465Z"
   },
   {
    "duration": 42,
    "start_time": "2023-08-01T07:39:17.484Z"
   },
   {
    "duration": 9,
    "start_time": "2023-08-01T07:39:17.528Z"
   },
   {
    "duration": 5,
    "start_time": "2023-08-01T07:39:17.539Z"
   },
   {
    "duration": 15,
    "start_time": "2023-08-01T07:39:17.545Z"
   },
   {
    "duration": 24,
    "start_time": "2023-08-01T07:39:17.563Z"
   },
   {
    "duration": 8,
    "start_time": "2023-08-01T07:39:17.589Z"
   },
   {
    "duration": 26,
    "start_time": "2023-08-01T07:39:17.598Z"
   },
   {
    "duration": 13,
    "start_time": "2023-08-01T07:39:17.626Z"
   },
   {
    "duration": 15,
    "start_time": "2023-08-01T07:39:17.641Z"
   },
   {
    "duration": 15,
    "start_time": "2023-08-01T07:39:17.658Z"
   },
   {
    "duration": 12,
    "start_time": "2023-08-01T07:39:17.675Z"
   },
   {
    "duration": 29,
    "start_time": "2023-08-01T07:39:17.689Z"
   },
   {
    "duration": 18,
    "start_time": "2023-08-01T07:39:17.719Z"
   },
   {
    "duration": 12,
    "start_time": "2023-08-01T07:39:17.739Z"
   },
   {
    "duration": 7,
    "start_time": "2023-08-01T07:39:17.753Z"
   },
   {
    "duration": 6,
    "start_time": "2023-08-01T07:39:17.762Z"
   },
   {
    "duration": 532,
    "start_time": "2023-08-01T07:39:17.770Z"
   },
   {
    "duration": 3,
    "start_time": "2023-08-01T07:39:18.304Z"
   },
   {
    "duration": 244,
    "start_time": "2023-08-01T07:39:18.310Z"
   },
   {
    "duration": 3,
    "start_time": "2023-08-01T07:39:18.556Z"
   },
   {
    "duration": 319,
    "start_time": "2023-08-01T07:39:18.560Z"
   },
   {
    "duration": 258,
    "start_time": "2023-08-01T07:39:18.880Z"
   },
   {
    "duration": 238,
    "start_time": "2023-08-01T07:39:19.139Z"
   },
   {
    "duration": 2,
    "start_time": "2023-08-01T07:39:19.379Z"
   },
   {
    "duration": 2291,
    "start_time": "2023-08-01T07:39:19.383Z"
   },
   {
    "duration": 0,
    "start_time": "2023-08-01T07:39:21.676Z"
   },
   {
    "duration": 0,
    "start_time": "2023-08-01T07:39:21.678Z"
   },
   {
    "duration": 0,
    "start_time": "2023-08-01T07:39:21.679Z"
   },
   {
    "duration": 121,
    "start_time": "2023-08-01T07:40:03.871Z"
   },
   {
    "duration": 163,
    "start_time": "2023-08-01T07:40:04.453Z"
   },
   {
    "duration": 5,
    "start_time": "2023-08-01T07:40:09.563Z"
   },
   {
    "duration": 179,
    "start_time": "2023-08-01T07:40:10.749Z"
   },
   {
    "duration": 5,
    "start_time": "2023-08-01T07:40:12.370Z"
   },
   {
    "duration": 3,
    "start_time": "2023-08-01T07:40:22.992Z"
   },
   {
    "duration": 32,
    "start_time": "2023-08-01T07:40:22.997Z"
   },
   {
    "duration": 11,
    "start_time": "2023-08-01T07:40:23.030Z"
   },
   {
    "duration": 9,
    "start_time": "2023-08-01T07:40:23.043Z"
   },
   {
    "duration": 16,
    "start_time": "2023-08-01T07:40:23.054Z"
   },
   {
    "duration": 8,
    "start_time": "2023-08-01T07:40:23.071Z"
   },
   {
    "duration": 13,
    "start_time": "2023-08-01T07:40:23.081Z"
   },
   {
    "duration": 6,
    "start_time": "2023-08-01T07:40:23.096Z"
   },
   {
    "duration": 11,
    "start_time": "2023-08-01T07:40:23.105Z"
   },
   {
    "duration": 46,
    "start_time": "2023-08-01T07:40:23.118Z"
   },
   {
    "duration": 10,
    "start_time": "2023-08-01T07:40:23.165Z"
   },
   {
    "duration": 15,
    "start_time": "2023-08-01T07:40:23.177Z"
   },
   {
    "duration": 21,
    "start_time": "2023-08-01T07:40:23.193Z"
   },
   {
    "duration": 20,
    "start_time": "2023-08-01T07:40:23.216Z"
   },
   {
    "duration": 9,
    "start_time": "2023-08-01T07:40:23.238Z"
   },
   {
    "duration": 14,
    "start_time": "2023-08-01T07:40:23.249Z"
   },
   {
    "duration": 11,
    "start_time": "2023-08-01T07:40:23.265Z"
   },
   {
    "duration": 13,
    "start_time": "2023-08-01T07:40:23.278Z"
   },
   {
    "duration": 17,
    "start_time": "2023-08-01T07:40:23.293Z"
   },
   {
    "duration": 8,
    "start_time": "2023-08-01T07:40:23.312Z"
   },
   {
    "duration": 11,
    "start_time": "2023-08-01T07:40:23.322Z"
   },
   {
    "duration": 17,
    "start_time": "2023-08-01T07:40:23.334Z"
   },
   {
    "duration": 11,
    "start_time": "2023-08-01T07:40:23.353Z"
   },
   {
    "duration": 6,
    "start_time": "2023-08-01T07:40:23.367Z"
   },
   {
    "duration": 13,
    "start_time": "2023-08-01T07:40:23.375Z"
   },
   {
    "duration": 492,
    "start_time": "2023-08-01T07:40:23.390Z"
   },
   {
    "duration": 3,
    "start_time": "2023-08-01T07:40:23.884Z"
   },
   {
    "duration": 316,
    "start_time": "2023-08-01T07:40:23.889Z"
   },
   {
    "duration": 3,
    "start_time": "2023-08-01T07:40:24.207Z"
   },
   {
    "duration": 353,
    "start_time": "2023-08-01T07:40:24.212Z"
   },
   {
    "duration": 246,
    "start_time": "2023-08-01T07:40:24.567Z"
   },
   {
    "duration": 240,
    "start_time": "2023-08-01T07:40:24.815Z"
   },
   {
    "duration": 140,
    "start_time": "2023-08-01T07:40:25.058Z"
   },
   {
    "duration": 182,
    "start_time": "2023-08-01T07:40:25.201Z"
   },
   {
    "duration": 6,
    "start_time": "2023-08-01T07:40:25.386Z"
   },
   {
    "duration": 191,
    "start_time": "2023-08-01T07:40:25.394Z"
   },
   {
    "duration": 6,
    "start_time": "2023-08-01T07:40:25.587Z"
   },
   {
    "duration": 3,
    "start_time": "2023-08-01T07:40:45.260Z"
   },
   {
    "duration": 27,
    "start_time": "2023-08-01T07:40:45.965Z"
   },
   {
    "duration": 11,
    "start_time": "2023-08-01T07:40:46.288Z"
   },
   {
    "duration": 4,
    "start_time": "2023-08-01T07:40:46.810Z"
   },
   {
    "duration": 8,
    "start_time": "2023-08-01T07:40:47.057Z"
   },
   {
    "duration": 4,
    "start_time": "2023-08-01T07:40:47.812Z"
   },
   {
    "duration": 11,
    "start_time": "2023-08-01T07:40:48.155Z"
   },
   {
    "duration": 5,
    "start_time": "2023-08-01T07:40:49.056Z"
   },
   {
    "duration": 10,
    "start_time": "2023-08-01T07:40:49.522Z"
   },
   {
    "duration": 48,
    "start_time": "2023-08-01T07:40:51.821Z"
   },
   {
    "duration": 10,
    "start_time": "2023-08-01T07:40:52.241Z"
   },
   {
    "duration": 3,
    "start_time": "2023-08-01T07:40:52.720Z"
   },
   {
    "duration": 11,
    "start_time": "2023-08-01T07:40:53.187Z"
   },
   {
    "duration": 27,
    "start_time": "2023-08-01T07:40:53.762Z"
   },
   {
    "duration": 8,
    "start_time": "2023-08-01T07:40:54.469Z"
   },
   {
    "duration": 12,
    "start_time": "2023-08-01T07:40:55.013Z"
   },
   {
    "duration": 6,
    "start_time": "2023-08-01T07:40:55.580Z"
   },
   {
    "duration": 14,
    "start_time": "2023-08-01T07:40:56.098Z"
   },
   {
    "duration": 11,
    "start_time": "2023-08-01T07:40:56.541Z"
   },
   {
    "duration": 6,
    "start_time": "2023-08-01T07:40:56.958Z"
   },
   {
    "duration": 7,
    "start_time": "2023-08-01T07:40:58.886Z"
   },
   {
    "duration": 2,
    "start_time": "2023-08-01T07:40:59.339Z"
   },
   {
    "duration": 3,
    "start_time": "2023-08-01T07:40:59.897Z"
   },
   {
    "duration": 3,
    "start_time": "2023-08-01T07:41:00.349Z"
   },
   {
    "duration": 3,
    "start_time": "2023-08-01T07:41:00.835Z"
   },
   {
    "duration": 551,
    "start_time": "2023-08-01T07:41:01.470Z"
   },
   {
    "duration": 2,
    "start_time": "2023-08-01T07:41:03.674Z"
   },
   {
    "duration": 213,
    "start_time": "2023-08-01T07:41:04.361Z"
   },
   {
    "duration": 2,
    "start_time": "2023-08-01T07:41:11.357Z"
   },
   {
    "duration": 305,
    "start_time": "2023-08-01T07:41:11.801Z"
   },
   {
    "duration": 229,
    "start_time": "2023-08-01T07:41:13.474Z"
   },
   {
    "duration": 246,
    "start_time": "2023-08-01T07:41:15.334Z"
   },
   {
    "duration": 135,
    "start_time": "2023-08-01T07:41:16.707Z"
   },
   {
    "duration": 161,
    "start_time": "2023-08-01T07:41:17.176Z"
   },
   {
    "duration": 6,
    "start_time": "2023-08-01T07:41:18.615Z"
   },
   {
    "duration": 288,
    "start_time": "2023-08-01T07:41:19.850Z"
   },
   {
    "duration": 6,
    "start_time": "2023-08-01T07:41:21.475Z"
   },
   {
    "duration": 9,
    "start_time": "2023-08-01T07:42:22.844Z"
   },
   {
    "duration": 535,
    "start_time": "2023-08-01T07:42:23.418Z"
   },
   {
    "duration": 217,
    "start_time": "2023-08-01T07:42:36.280Z"
   },
   {
    "duration": 336,
    "start_time": "2023-08-01T07:42:42.844Z"
   },
   {
    "duration": 241,
    "start_time": "2023-08-01T07:42:44.499Z"
   },
   {
    "duration": 220,
    "start_time": "2023-08-01T07:42:45.889Z"
   },
   {
    "duration": 151,
    "start_time": "2023-08-01T07:42:47.288Z"
   },
   {
    "duration": 157,
    "start_time": "2023-08-01T07:42:47.766Z"
   },
   {
    "duration": 5,
    "start_time": "2023-08-01T07:42:49.291Z"
   },
   {
    "duration": 175,
    "start_time": "2023-08-01T07:42:50.740Z"
   },
   {
    "duration": 5,
    "start_time": "2023-08-01T07:42:52.288Z"
   },
   {
    "duration": 118,
    "start_time": "2023-08-01T07:48:36.814Z"
   },
   {
    "duration": 1254,
    "start_time": "2023-08-01T07:53:09.140Z"
   },
   {
    "duration": 415,
    "start_time": "2023-08-01T07:53:12.814Z"
   },
   {
    "duration": 1707,
    "start_time": "2023-08-01T07:55:03.648Z"
   },
   {
    "duration": 815,
    "start_time": "2023-08-01T07:55:39.670Z"
   },
   {
    "duration": 19,
    "start_time": "2023-08-01T07:56:33.146Z"
   },
   {
    "duration": 18,
    "start_time": "2023-08-01T07:57:06.294Z"
   },
   {
    "duration": 20,
    "start_time": "2023-08-01T07:57:08.842Z"
   },
   {
    "duration": 16,
    "start_time": "2023-08-01T08:13:16.619Z"
   },
   {
    "duration": 17,
    "start_time": "2023-08-01T08:13:34.477Z"
   },
   {
    "duration": 34,
    "start_time": "2023-08-01T08:14:14.953Z"
   },
   {
    "duration": 117,
    "start_time": "2023-08-01T08:14:38.505Z"
   },
   {
    "duration": 39,
    "start_time": "2023-08-01T08:14:45.009Z"
   },
   {
    "duration": 442,
    "start_time": "2023-08-01T08:14:45.566Z"
   },
   {
    "duration": 115,
    "start_time": "2023-08-01T08:19:50.894Z"
   },
   {
    "duration": 16,
    "start_time": "2023-08-01T08:20:43.659Z"
   },
   {
    "duration": 15,
    "start_time": "2023-08-01T08:22:07.358Z"
   },
   {
    "duration": 11,
    "start_time": "2023-08-01T08:22:32.158Z"
   },
   {
    "duration": 10,
    "start_time": "2023-08-01T08:22:51.903Z"
   },
   {
    "duration": 26,
    "start_time": "2023-08-01T08:25:52.297Z"
   },
   {
    "duration": 15,
    "start_time": "2023-08-01T08:27:00.110Z"
   },
   {
    "duration": 17,
    "start_time": "2023-08-01T08:27:05.371Z"
   },
   {
    "duration": 120,
    "start_time": "2023-08-01T08:52:07.751Z"
   },
   {
    "duration": 111,
    "start_time": "2023-08-01T08:52:42.297Z"
   },
   {
    "duration": 36,
    "start_time": "2023-08-01T08:53:28.736Z"
   },
   {
    "duration": 12,
    "start_time": "2023-08-01T08:53:29.249Z"
   },
   {
    "duration": 10,
    "start_time": "2023-08-01T09:26:28.394Z"
   },
   {
    "duration": 9,
    "start_time": "2023-08-01T09:26:35.804Z"
   },
   {
    "duration": 107,
    "start_time": "2023-08-01T09:27:23.415Z"
   },
   {
    "duration": 113,
    "start_time": "2023-08-01T09:28:21.396Z"
   },
   {
    "duration": 13,
    "start_time": "2023-08-01T09:29:22.194Z"
   },
   {
    "duration": 19,
    "start_time": "2023-08-01T09:29:47.335Z"
   },
   {
    "duration": 19,
    "start_time": "2023-08-01T09:30:15.300Z"
   },
   {
    "duration": 17,
    "start_time": "2023-08-01T09:30:25.704Z"
   },
   {
    "duration": 110,
    "start_time": "2023-08-01T09:31:25.667Z"
   },
   {
    "duration": 104,
    "start_time": "2023-08-01T09:32:26.217Z"
   },
   {
    "duration": 121,
    "start_time": "2023-08-01T09:40:34.352Z"
   },
   {
    "duration": 35,
    "start_time": "2023-08-01T09:42:44.020Z"
   },
   {
    "duration": 3,
    "start_time": "2023-08-01T09:44:22.276Z"
   },
   {
    "duration": 32,
    "start_time": "2023-08-01T09:44:22.282Z"
   },
   {
    "duration": 13,
    "start_time": "2023-08-01T09:44:22.316Z"
   },
   {
    "duration": 14,
    "start_time": "2023-08-01T09:44:22.331Z"
   },
   {
    "duration": 38,
    "start_time": "2023-08-01T09:44:22.347Z"
   },
   {
    "duration": 10,
    "start_time": "2023-08-01T09:44:22.386Z"
   },
   {
    "duration": 28,
    "start_time": "2023-08-01T09:44:22.398Z"
   },
   {
    "duration": 7,
    "start_time": "2023-08-01T09:44:22.428Z"
   },
   {
    "duration": 13,
    "start_time": "2023-08-01T09:44:22.438Z"
   },
   {
    "duration": 45,
    "start_time": "2023-08-01T09:44:22.454Z"
   },
   {
    "duration": 10,
    "start_time": "2023-08-01T09:44:22.501Z"
   },
   {
    "duration": 4,
    "start_time": "2023-08-01T09:44:22.514Z"
   },
   {
    "duration": 16,
    "start_time": "2023-08-01T09:44:22.520Z"
   },
   {
    "duration": 19,
    "start_time": "2023-08-01T09:44:22.538Z"
   },
   {
    "duration": 9,
    "start_time": "2023-08-01T09:44:22.559Z"
   },
   {
    "duration": 17,
    "start_time": "2023-08-01T09:44:22.569Z"
   },
   {
    "duration": 18,
    "start_time": "2023-08-01T09:44:22.588Z"
   },
   {
    "duration": 13,
    "start_time": "2023-08-01T09:44:22.607Z"
   },
   {
    "duration": 15,
    "start_time": "2023-08-01T09:44:22.622Z"
   },
   {
    "duration": 15,
    "start_time": "2023-08-01T09:44:22.639Z"
   },
   {
    "duration": 24,
    "start_time": "2023-08-01T09:44:22.656Z"
   },
   {
    "duration": 501,
    "start_time": "2023-08-01T09:44:22.682Z"
   },
   {
    "duration": 249,
    "start_time": "2023-08-01T09:44:23.185Z"
   },
   {
    "duration": 451,
    "start_time": "2023-08-01T09:44:23.438Z"
   },
   {
    "duration": 251,
    "start_time": "2023-08-01T09:44:23.891Z"
   },
   {
    "duration": 234,
    "start_time": "2023-08-01T09:44:24.144Z"
   },
   {
    "duration": 135,
    "start_time": "2023-08-01T09:44:24.380Z"
   },
   {
    "duration": 173,
    "start_time": "2023-08-01T09:44:24.516Z"
   },
   {
    "duration": 5,
    "start_time": "2023-08-01T09:44:24.691Z"
   },
   {
    "duration": 189,
    "start_time": "2023-08-01T09:44:24.698Z"
   },
   {
    "duration": 5,
    "start_time": "2023-08-01T09:44:24.889Z"
   },
   {
    "duration": 10,
    "start_time": "2023-08-01T09:44:24.896Z"
   },
   {
    "duration": 11,
    "start_time": "2023-08-01T09:44:24.908Z"
   },
   {
    "duration": 225,
    "start_time": "2023-08-01T09:44:24.920Z"
   },
   {
    "duration": 30,
    "start_time": "2023-08-01T09:44:25.147Z"
   },
   {
    "duration": 179,
    "start_time": "2023-08-01T09:44:25.179Z"
   },
   {
    "duration": 0,
    "start_time": "2023-08-01T09:44:25.360Z"
   },
   {
    "duration": 6,
    "start_time": "2023-08-01T09:44:35.625Z"
   },
   {
    "duration": 216,
    "start_time": "2023-08-01T09:44:55.151Z"
   },
   {
    "duration": 29,
    "start_time": "2023-08-01T09:44:56.173Z"
   },
   {
    "duration": 150,
    "start_time": "2023-08-01T09:44:57.254Z"
   },
   {
    "duration": 7,
    "start_time": "2023-08-01T09:44:59.230Z"
   },
   {
    "duration": 3,
    "start_time": "2023-08-01T09:48:40.928Z"
   },
   {
    "duration": 60,
    "start_time": "2023-08-01T09:48:40.933Z"
   },
   {
    "duration": 11,
    "start_time": "2023-08-01T09:48:40.995Z"
   },
   {
    "duration": 6,
    "start_time": "2023-08-01T09:48:41.008Z"
   },
   {
    "duration": 12,
    "start_time": "2023-08-01T09:48:41.016Z"
   },
   {
    "duration": 6,
    "start_time": "2023-08-01T09:48:41.030Z"
   },
   {
    "duration": 11,
    "start_time": "2023-08-01T09:48:41.037Z"
   },
   {
    "duration": 7,
    "start_time": "2023-08-01T09:48:41.050Z"
   },
   {
    "duration": 12,
    "start_time": "2023-08-01T09:48:41.059Z"
   },
   {
    "duration": 46,
    "start_time": "2023-08-01T09:48:41.074Z"
   },
   {
    "duration": 11,
    "start_time": "2023-08-01T09:48:41.122Z"
   },
   {
    "duration": 7,
    "start_time": "2023-08-01T09:48:41.137Z"
   },
   {
    "duration": 17,
    "start_time": "2023-08-01T09:48:41.146Z"
   },
   {
    "duration": 20,
    "start_time": "2023-08-01T09:48:41.165Z"
   },
   {
    "duration": 8,
    "start_time": "2023-08-01T09:48:41.186Z"
   },
   {
    "duration": 12,
    "start_time": "2023-08-01T09:48:41.196Z"
   },
   {
    "duration": 8,
    "start_time": "2023-08-01T09:48:41.210Z"
   },
   {
    "duration": 13,
    "start_time": "2023-08-01T09:48:41.220Z"
   },
   {
    "duration": 32,
    "start_time": "2023-08-01T09:48:41.235Z"
   },
   {
    "duration": 63,
    "start_time": "2023-08-01T09:48:41.268Z"
   },
   {
    "duration": 14,
    "start_time": "2023-08-01T09:48:41.333Z"
   },
   {
    "duration": 500,
    "start_time": "2023-08-01T09:48:41.350Z"
   },
   {
    "duration": 232,
    "start_time": "2023-08-01T09:48:41.852Z"
   },
   {
    "duration": 305,
    "start_time": "2023-08-01T09:48:42.087Z"
   },
   {
    "duration": 250,
    "start_time": "2023-08-01T09:48:42.395Z"
   },
   {
    "duration": 233,
    "start_time": "2023-08-01T09:48:42.647Z"
   },
   {
    "duration": 160,
    "start_time": "2023-08-01T09:48:42.882Z"
   },
   {
    "duration": 174,
    "start_time": "2023-08-01T09:48:43.051Z"
   },
   {
    "duration": 6,
    "start_time": "2023-08-01T09:48:43.226Z"
   },
   {
    "duration": 309,
    "start_time": "2023-08-01T09:48:43.233Z"
   },
   {
    "duration": 12,
    "start_time": "2023-08-01T09:48:43.544Z"
   },
   {
    "duration": 392,
    "start_time": "2023-08-01T09:48:43.558Z"
   },
   {
    "duration": 9,
    "start_time": "2023-08-01T09:49:31.236Z"
   },
   {
    "duration": 8,
    "start_time": "2023-08-01T09:49:37.706Z"
   },
   {
    "duration": 215,
    "start_time": "2023-08-01T09:52:24.985Z"
   },
   {
    "duration": 33,
    "start_time": "2023-08-01T09:52:25.602Z"
   },
   {
    "duration": 148,
    "start_time": "2023-08-01T09:52:26.236Z"
   },
   {
    "duration": 145,
    "start_time": "2023-08-01T09:56:10.111Z"
   },
   {
    "duration": 220,
    "start_time": "2023-08-01T09:57:13.986Z"
   },
   {
    "duration": 32,
    "start_time": "2023-08-01T09:57:14.688Z"
   },
   {
    "duration": 151,
    "start_time": "2023-08-01T09:57:15.380Z"
   },
   {
    "duration": 152,
    "start_time": "2023-08-01T09:57:26.305Z"
   },
   {
    "duration": 151,
    "start_time": "2023-08-01T09:58:52.347Z"
   },
   {
    "duration": 35,
    "start_time": "2023-08-01T09:59:34.590Z"
   },
   {
    "duration": 4,
    "start_time": "2023-08-01T09:59:49.444Z"
   },
   {
    "duration": 143,
    "start_time": "2023-08-01T09:59:49.450Z"
   },
   {
    "duration": 86,
    "start_time": "2023-08-01T09:59:49.595Z"
   },
   {
    "duration": 15,
    "start_time": "2023-08-01T09:59:49.683Z"
   },
   {
    "duration": 24,
    "start_time": "2023-08-01T09:59:49.700Z"
   },
   {
    "duration": 18,
    "start_time": "2023-08-01T09:59:49.726Z"
   },
   {
    "duration": 30,
    "start_time": "2023-08-01T09:59:49.746Z"
   },
   {
    "duration": 9,
    "start_time": "2023-08-01T09:59:49.778Z"
   },
   {
    "duration": 25,
    "start_time": "2023-08-01T09:59:49.789Z"
   },
   {
    "duration": 49,
    "start_time": "2023-08-01T09:59:49.816Z"
   },
   {
    "duration": 9,
    "start_time": "2023-08-01T09:59:49.867Z"
   },
   {
    "duration": 18,
    "start_time": "2023-08-01T09:59:49.878Z"
   },
   {
    "duration": 21,
    "start_time": "2023-08-01T09:59:49.898Z"
   },
   {
    "duration": 24,
    "start_time": "2023-08-01T09:59:49.921Z"
   },
   {
    "duration": 9,
    "start_time": "2023-08-01T09:59:49.947Z"
   },
   {
    "duration": 31,
    "start_time": "2023-08-01T09:59:49.957Z"
   },
   {
    "duration": 21,
    "start_time": "2023-08-01T09:59:49.990Z"
   },
   {
    "duration": 28,
    "start_time": "2023-08-01T09:59:50.013Z"
   },
   {
    "duration": 36,
    "start_time": "2023-08-01T09:59:50.043Z"
   },
   {
    "duration": 28,
    "start_time": "2023-08-01T09:59:50.081Z"
   },
   {
    "duration": 26,
    "start_time": "2023-08-01T09:59:50.111Z"
   },
   {
    "duration": 539,
    "start_time": "2023-08-01T09:59:50.139Z"
   },
   {
    "duration": 232,
    "start_time": "2023-08-01T09:59:50.680Z"
   },
   {
    "duration": 370,
    "start_time": "2023-08-01T09:59:50.915Z"
   },
   {
    "duration": 257,
    "start_time": "2023-08-01T09:59:51.287Z"
   },
   {
    "duration": 238,
    "start_time": "2023-08-01T09:59:51.546Z"
   },
   {
    "duration": 150,
    "start_time": "2023-08-01T09:59:51.786Z"
   },
   {
    "duration": 181,
    "start_time": "2023-08-01T09:59:51.938Z"
   },
   {
    "duration": 5,
    "start_time": "2023-08-01T09:59:52.122Z"
   },
   {
    "duration": 202,
    "start_time": "2023-08-01T09:59:52.128Z"
   },
   {
    "duration": 5,
    "start_time": "2023-08-01T09:59:52.332Z"
   },
   {
    "duration": 391,
    "start_time": "2023-08-01T09:59:52.353Z"
   },
   {
    "duration": 9,
    "start_time": "2023-08-01T09:59:52.751Z"
   },
   {
    "duration": 35,
    "start_time": "2023-08-01T09:59:52.762Z"
   },
   {
    "duration": 243,
    "start_time": "2023-08-01T09:59:52.799Z"
   },
   {
    "duration": 40,
    "start_time": "2023-08-01T09:59:53.044Z"
   },
   {
    "duration": 158,
    "start_time": "2023-08-01T09:59:53.086Z"
   },
   {
    "duration": 0,
    "start_time": "2023-08-01T09:59:53.252Z"
   },
   {
    "duration": 25,
    "start_time": "2023-08-01T10:00:10.397Z"
   },
   {
    "duration": 170,
    "start_time": "2023-08-01T10:00:49.200Z"
   },
   {
    "duration": 173,
    "start_time": "2023-08-01T10:02:26.530Z"
   },
   {
    "duration": 166,
    "start_time": "2023-08-01T10:02:39.647Z"
   },
   {
    "duration": 152,
    "start_time": "2023-08-01T10:03:01.569Z"
   },
   {
    "duration": 181,
    "start_time": "2023-08-01T10:03:20.027Z"
   },
   {
    "duration": 143,
    "start_time": "2023-08-01T10:03:33.393Z"
   },
   {
    "duration": 202,
    "start_time": "2023-08-01T10:03:38.372Z"
   },
   {
    "duration": 4,
    "start_time": "2023-08-01T10:03:54.362Z"
   },
   {
    "duration": 37,
    "start_time": "2023-08-01T10:03:54.368Z"
   },
   {
    "duration": 11,
    "start_time": "2023-08-01T10:03:54.407Z"
   },
   {
    "duration": 31,
    "start_time": "2023-08-01T10:03:54.420Z"
   },
   {
    "duration": 17,
    "start_time": "2023-08-01T10:03:54.454Z"
   },
   {
    "duration": 21,
    "start_time": "2023-08-01T10:03:54.474Z"
   },
   {
    "duration": 19,
    "start_time": "2023-08-01T10:03:54.497Z"
   },
   {
    "duration": 10,
    "start_time": "2023-08-01T10:03:54.518Z"
   },
   {
    "duration": 15,
    "start_time": "2023-08-01T10:03:54.530Z"
   },
   {
    "duration": 52,
    "start_time": "2023-08-01T10:03:54.547Z"
   },
   {
    "duration": 9,
    "start_time": "2023-08-01T10:03:54.603Z"
   },
   {
    "duration": 12,
    "start_time": "2023-08-01T10:03:54.615Z"
   },
   {
    "duration": 20,
    "start_time": "2023-08-01T10:03:54.629Z"
   },
   {
    "duration": 25,
    "start_time": "2023-08-01T10:03:54.651Z"
   },
   {
    "duration": 9,
    "start_time": "2023-08-01T10:03:54.678Z"
   },
   {
    "duration": 19,
    "start_time": "2023-08-01T10:03:54.689Z"
   },
   {
    "duration": 11,
    "start_time": "2023-08-01T10:03:54.710Z"
   },
   {
    "duration": 17,
    "start_time": "2023-08-01T10:03:54.723Z"
   },
   {
    "duration": 18,
    "start_time": "2023-08-01T10:03:54.743Z"
   },
   {
    "duration": 10,
    "start_time": "2023-08-01T10:03:54.763Z"
   },
   {
    "duration": 12,
    "start_time": "2023-08-01T10:03:54.775Z"
   },
   {
    "duration": 532,
    "start_time": "2023-08-01T10:03:54.789Z"
   },
   {
    "duration": 245,
    "start_time": "2023-08-01T10:03:55.323Z"
   },
   {
    "duration": 410,
    "start_time": "2023-08-01T10:03:55.570Z"
   },
   {
    "duration": 251,
    "start_time": "2023-08-01T10:03:55.982Z"
   },
   {
    "duration": 235,
    "start_time": "2023-08-01T10:03:56.235Z"
   },
   {
    "duration": 138,
    "start_time": "2023-08-01T10:03:56.471Z"
   },
   {
    "duration": 177,
    "start_time": "2023-08-01T10:03:56.611Z"
   },
   {
    "duration": 5,
    "start_time": "2023-08-01T10:03:56.792Z"
   },
   {
    "duration": 199,
    "start_time": "2023-08-01T10:03:56.799Z"
   },
   {
    "duration": 6,
    "start_time": "2023-08-01T10:03:57.000Z"
   },
   {
    "duration": 416,
    "start_time": "2023-08-01T10:03:57.008Z"
   },
   {
    "duration": 9,
    "start_time": "2023-08-01T10:03:57.426Z"
   },
   {
    "duration": 46,
    "start_time": "2023-08-01T10:03:57.436Z"
   },
   {
    "duration": 243,
    "start_time": "2023-08-01T10:03:57.484Z"
   },
   {
    "duration": 44,
    "start_time": "2023-08-01T10:03:57.728Z"
   },
   {
    "duration": 165,
    "start_time": "2023-08-01T10:03:57.773Z"
   },
   {
    "duration": 11,
    "start_time": "2023-08-01T10:25:52.909Z"
   },
   {
    "duration": 9,
    "start_time": "2023-08-01T10:25:53.305Z"
   },
   {
    "duration": 209,
    "start_time": "2023-08-01T10:25:53.700Z"
   },
   {
    "duration": 31,
    "start_time": "2023-08-01T10:25:54.153Z"
   },
   {
    "duration": 210,
    "start_time": "2023-08-01T10:25:54.520Z"
   },
   {
    "duration": 12,
    "start_time": "2023-08-01T10:45:56.899Z"
   },
   {
    "duration": 4,
    "start_time": "2023-08-01T10:48:44.237Z"
   },
   {
    "duration": 40,
    "start_time": "2023-08-01T10:48:44.243Z"
   },
   {
    "duration": 11,
    "start_time": "2023-08-01T10:48:44.284Z"
   },
   {
    "duration": 15,
    "start_time": "2023-08-01T10:48:44.296Z"
   },
   {
    "duration": 17,
    "start_time": "2023-08-01T10:48:44.313Z"
   },
   {
    "duration": 16,
    "start_time": "2023-08-01T10:48:44.332Z"
   },
   {
    "duration": 25,
    "start_time": "2023-08-01T10:48:44.349Z"
   },
   {
    "duration": 31,
    "start_time": "2023-08-01T10:48:44.376Z"
   },
   {
    "duration": 30,
    "start_time": "2023-08-01T10:48:44.409Z"
   },
   {
    "duration": 80,
    "start_time": "2023-08-01T10:48:44.441Z"
   },
   {
    "duration": 9,
    "start_time": "2023-08-01T10:48:44.522Z"
   },
   {
    "duration": 16,
    "start_time": "2023-08-01T10:48:44.532Z"
   },
   {
    "duration": 18,
    "start_time": "2023-08-01T10:48:44.551Z"
   },
   {
    "duration": 28,
    "start_time": "2023-08-01T10:48:44.570Z"
   },
   {
    "duration": 9,
    "start_time": "2023-08-01T10:48:44.599Z"
   },
   {
    "duration": 19,
    "start_time": "2023-08-01T10:48:44.610Z"
   },
   {
    "duration": 18,
    "start_time": "2023-08-01T10:48:44.631Z"
   },
   {
    "duration": 22,
    "start_time": "2023-08-01T10:48:44.651Z"
   },
   {
    "duration": 31,
    "start_time": "2023-08-01T10:48:44.674Z"
   },
   {
    "duration": 16,
    "start_time": "2023-08-01T10:48:44.706Z"
   },
   {
    "duration": 12,
    "start_time": "2023-08-01T10:48:44.725Z"
   },
   {
    "duration": 501,
    "start_time": "2023-08-01T10:48:44.739Z"
   },
   {
    "duration": 240,
    "start_time": "2023-08-01T10:48:45.243Z"
   },
   {
    "duration": 294,
    "start_time": "2023-08-01T10:48:45.484Z"
   },
   {
    "duration": 240,
    "start_time": "2023-08-01T10:48:45.780Z"
   },
   {
    "duration": 230,
    "start_time": "2023-08-01T10:48:46.021Z"
   },
   {
    "duration": 150,
    "start_time": "2023-08-01T10:48:46.253Z"
   },
   {
    "duration": 172,
    "start_time": "2023-08-01T10:48:46.404Z"
   },
   {
    "duration": 5,
    "start_time": "2023-08-01T10:48:46.578Z"
   },
   {
    "duration": 285,
    "start_time": "2023-08-01T10:48:46.584Z"
   },
   {
    "duration": 5,
    "start_time": "2023-08-01T10:48:46.871Z"
   },
   {
    "duration": 45,
    "start_time": "2023-08-01T10:48:46.878Z"
   },
   {
    "duration": 13,
    "start_time": "2023-08-01T10:48:46.925Z"
   },
   {
    "duration": 206,
    "start_time": "2023-08-01T10:48:46.940Z"
   },
   {
    "duration": 35,
    "start_time": "2023-08-01T10:48:47.148Z"
   },
   {
    "duration": 176,
    "start_time": "2023-08-01T10:48:47.186Z"
   },
   {
    "duration": 12,
    "start_time": "2023-08-01T10:48:47.365Z"
   },
   {
    "duration": 12,
    "start_time": "2023-08-01T10:51:04.587Z"
   },
   {
    "duration": 11,
    "start_time": "2023-08-01T10:51:11.662Z"
   },
   {
    "duration": 2256,
    "start_time": "2023-08-01T11:01:31.164Z"
   },
   {
    "duration": 4,
    "start_time": "2023-08-01T11:02:32.817Z"
   },
   {
    "duration": 109,
    "start_time": "2023-08-01T11:02:32.823Z"
   },
   {
    "duration": 56,
    "start_time": "2023-08-01T11:02:32.934Z"
   },
   {
    "duration": 30,
    "start_time": "2023-08-01T11:02:32.992Z"
   },
   {
    "duration": 28,
    "start_time": "2023-08-01T11:02:33.024Z"
   },
   {
    "duration": 31,
    "start_time": "2023-08-01T11:02:33.054Z"
   },
   {
    "duration": 31,
    "start_time": "2023-08-01T11:02:33.087Z"
   },
   {
    "duration": 21,
    "start_time": "2023-08-01T11:02:33.120Z"
   },
   {
    "duration": 22,
    "start_time": "2023-08-01T11:02:33.144Z"
   },
   {
    "duration": 75,
    "start_time": "2023-08-01T11:02:33.167Z"
   },
   {
    "duration": 11,
    "start_time": "2023-08-01T11:02:33.246Z"
   },
   {
    "duration": 16,
    "start_time": "2023-08-01T11:02:33.260Z"
   },
   {
    "duration": 17,
    "start_time": "2023-08-01T11:02:33.278Z"
   },
   {
    "duration": 22,
    "start_time": "2023-08-01T11:02:33.297Z"
   },
   {
    "duration": 10,
    "start_time": "2023-08-01T11:02:33.321Z"
   },
   {
    "duration": 23,
    "start_time": "2023-08-01T11:02:33.333Z"
   },
   {
    "duration": 17,
    "start_time": "2023-08-01T11:02:33.358Z"
   },
   {
    "duration": 31,
    "start_time": "2023-08-01T11:02:33.376Z"
   },
   {
    "duration": 17,
    "start_time": "2023-08-01T11:02:33.409Z"
   },
   {
    "duration": 11,
    "start_time": "2023-08-01T11:02:33.428Z"
   },
   {
    "duration": 16,
    "start_time": "2023-08-01T11:02:33.441Z"
   },
   {
    "duration": 477,
    "start_time": "2023-08-01T11:02:33.460Z"
   },
   {
    "duration": 229,
    "start_time": "2023-08-01T11:02:33.939Z"
   },
   {
    "duration": 312,
    "start_time": "2023-08-01T11:02:34.170Z"
   },
   {
    "duration": 257,
    "start_time": "2023-08-01T11:02:34.483Z"
   },
   {
    "duration": 237,
    "start_time": "2023-08-01T11:02:34.751Z"
   },
   {
    "duration": 133,
    "start_time": "2023-08-01T11:02:34.991Z"
   },
   {
    "duration": 181,
    "start_time": "2023-08-01T11:02:35.126Z"
   },
   {
    "duration": 6,
    "start_time": "2023-08-01T11:02:35.312Z"
   },
   {
    "duration": 219,
    "start_time": "2023-08-01T11:02:35.320Z"
   },
   {
    "duration": 13,
    "start_time": "2023-08-01T11:02:35.541Z"
   },
   {
    "duration": 39,
    "start_time": "2023-08-01T11:02:35.556Z"
   },
   {
    "duration": 30,
    "start_time": "2023-08-01T11:02:35.597Z"
   },
   {
    "duration": 223,
    "start_time": "2023-08-01T11:02:35.629Z"
   },
   {
    "duration": 33,
    "start_time": "2023-08-01T11:02:35.854Z"
   },
   {
    "duration": 224,
    "start_time": "2023-08-01T11:02:35.889Z"
   },
   {
    "duration": 13,
    "start_time": "2023-08-01T11:02:36.115Z"
   },
   {
    "duration": 1566,
    "start_time": "2023-08-01T11:02:36.130Z"
   },
   {
    "duration": 0,
    "start_time": "2023-08-01T11:02:37.698Z"
   },
   {
    "duration": 2209,
    "start_time": "2023-08-01T11:04:56.236Z"
   },
   {
    "duration": 3,
    "start_time": "2023-08-01T11:05:05.677Z"
   },
   {
    "duration": 29,
    "start_time": "2023-08-01T11:05:05.691Z"
   },
   {
    "duration": 10,
    "start_time": "2023-08-01T11:05:05.723Z"
   },
   {
    "duration": 21,
    "start_time": "2023-08-01T11:05:05.735Z"
   },
   {
    "duration": 33,
    "start_time": "2023-08-01T11:05:05.758Z"
   },
   {
    "duration": 36,
    "start_time": "2023-08-01T11:05:05.794Z"
   },
   {
    "duration": 27,
    "start_time": "2023-08-01T11:05:05.832Z"
   },
   {
    "duration": 45,
    "start_time": "2023-08-01T11:05:05.862Z"
   },
   {
    "duration": 35,
    "start_time": "2023-08-01T11:05:05.908Z"
   },
   {
    "duration": 63,
    "start_time": "2023-08-01T11:05:05.944Z"
   },
   {
    "duration": 19,
    "start_time": "2023-08-01T11:05:06.008Z"
   },
   {
    "duration": 17,
    "start_time": "2023-08-01T11:05:06.029Z"
   },
   {
    "duration": 41,
    "start_time": "2023-08-01T11:05:06.047Z"
   },
   {
    "duration": 27,
    "start_time": "2023-08-01T11:05:06.090Z"
   },
   {
    "duration": 14,
    "start_time": "2023-08-01T11:05:06.120Z"
   },
   {
    "duration": 19,
    "start_time": "2023-08-01T11:05:06.135Z"
   },
   {
    "duration": 18,
    "start_time": "2023-08-01T11:05:06.156Z"
   },
   {
    "duration": 26,
    "start_time": "2023-08-01T11:05:06.176Z"
   },
   {
    "duration": 57,
    "start_time": "2023-08-01T11:05:06.203Z"
   },
   {
    "duration": 34,
    "start_time": "2023-08-01T11:05:06.262Z"
   },
   {
    "duration": 16,
    "start_time": "2023-08-01T11:05:06.298Z"
   },
   {
    "duration": 491,
    "start_time": "2023-08-01T11:05:06.316Z"
   },
   {
    "duration": 216,
    "start_time": "2023-08-01T11:05:06.809Z"
   },
   {
    "duration": 363,
    "start_time": "2023-08-01T11:05:07.026Z"
   },
   {
    "duration": 344,
    "start_time": "2023-08-01T11:05:07.391Z"
   },
   {
    "duration": 231,
    "start_time": "2023-08-01T11:05:07.736Z"
   },
   {
    "duration": 146,
    "start_time": "2023-08-01T11:05:07.968Z"
   },
   {
    "duration": 211,
    "start_time": "2023-08-01T11:05:08.116Z"
   },
   {
    "duration": 6,
    "start_time": "2023-08-01T11:05:08.330Z"
   },
   {
    "duration": 222,
    "start_time": "2023-08-01T11:05:08.337Z"
   },
   {
    "duration": 6,
    "start_time": "2023-08-01T11:05:08.560Z"
   },
   {
    "duration": 13,
    "start_time": "2023-08-01T11:05:08.568Z"
   },
   {
    "duration": 13,
    "start_time": "2023-08-01T11:05:08.582Z"
   },
   {
    "duration": 223,
    "start_time": "2023-08-01T11:05:08.597Z"
   },
   {
    "duration": 43,
    "start_time": "2023-08-01T11:05:08.822Z"
   },
   {
    "duration": 172,
    "start_time": "2023-08-01T11:05:08.867Z"
   },
   {
    "duration": 17,
    "start_time": "2023-08-01T11:05:09.040Z"
   },
   {
    "duration": 2392,
    "start_time": "2023-08-01T11:05:09.059Z"
   },
   {
    "duration": 0,
    "start_time": "2023-08-01T11:05:11.454Z"
   },
   {
    "duration": 2259,
    "start_time": "2023-08-01T11:05:17.948Z"
   },
   {
    "duration": 1988,
    "start_time": "2023-08-01T11:06:09.323Z"
   },
   {
    "duration": 10,
    "start_time": "2023-08-01T11:06:26.920Z"
   },
   {
    "duration": 29,
    "start_time": "2023-08-01T11:07:25.324Z"
   },
   {
    "duration": 37,
    "start_time": "2023-08-01T11:07:32.467Z"
   },
   {
    "duration": 32,
    "start_time": "2023-08-01T11:07:43.200Z"
   },
   {
    "duration": 32,
    "start_time": "2023-08-01T11:08:08.668Z"
   },
   {
    "duration": 32,
    "start_time": "2023-08-01T11:08:54.178Z"
   },
   {
    "duration": 34,
    "start_time": "2023-08-01T11:10:36.884Z"
   },
   {
    "duration": 33,
    "start_time": "2023-08-01T11:10:49.369Z"
   },
   {
    "duration": 1958,
    "start_time": "2023-08-01T11:13:37.251Z"
   },
   {
    "duration": 3652,
    "start_time": "2023-08-01T11:16:27.723Z"
   },
   {
    "duration": 20,
    "start_time": "2023-08-01T11:17:09.611Z"
   },
   {
    "duration": 17,
    "start_time": "2023-08-01T11:18:17.838Z"
   },
   {
    "duration": 15,
    "start_time": "2023-08-01T11:18:39.399Z"
   },
   {
    "duration": 15,
    "start_time": "2023-08-01T11:20:27.291Z"
   },
   {
    "duration": 4,
    "start_time": "2023-08-01T11:28:16.226Z"
   },
   {
    "duration": 28,
    "start_time": "2023-08-01T11:28:16.243Z"
   },
   {
    "duration": 15,
    "start_time": "2023-08-01T11:28:16.274Z"
   },
   {
    "duration": 20,
    "start_time": "2023-08-01T11:28:16.291Z"
   },
   {
    "duration": 60,
    "start_time": "2023-08-01T11:28:16.313Z"
   },
   {
    "duration": 16,
    "start_time": "2023-08-01T11:28:16.376Z"
   },
   {
    "duration": 25,
    "start_time": "2023-08-01T11:28:16.394Z"
   },
   {
    "duration": 12,
    "start_time": "2023-08-01T11:28:16.422Z"
   },
   {
    "duration": 17,
    "start_time": "2023-08-01T11:28:16.436Z"
   },
   {
    "duration": 45,
    "start_time": "2023-08-01T11:28:16.455Z"
   },
   {
    "duration": 10,
    "start_time": "2023-08-01T11:28:16.502Z"
   },
   {
    "duration": 30,
    "start_time": "2023-08-01T11:28:16.514Z"
   },
   {
    "duration": 26,
    "start_time": "2023-08-01T11:28:16.547Z"
   },
   {
    "duration": 30,
    "start_time": "2023-08-01T11:28:16.575Z"
   },
   {
    "duration": 11,
    "start_time": "2023-08-01T11:28:16.609Z"
   },
   {
    "duration": 17,
    "start_time": "2023-08-01T11:28:16.623Z"
   },
   {
    "duration": 10,
    "start_time": "2023-08-01T11:28:16.642Z"
   },
   {
    "duration": 22,
    "start_time": "2023-08-01T11:28:16.655Z"
   },
   {
    "duration": 20,
    "start_time": "2023-08-01T11:28:16.679Z"
   },
   {
    "duration": 27,
    "start_time": "2023-08-01T11:28:16.703Z"
   },
   {
    "duration": 41,
    "start_time": "2023-08-01T11:28:16.732Z"
   },
   {
    "duration": 512,
    "start_time": "2023-08-01T11:28:16.775Z"
   },
   {
    "duration": 238,
    "start_time": "2023-08-01T11:28:17.290Z"
   },
   {
    "duration": 350,
    "start_time": "2023-08-01T11:28:17.530Z"
   },
   {
    "duration": 260,
    "start_time": "2023-08-01T11:28:17.882Z"
   },
   {
    "duration": 298,
    "start_time": "2023-08-01T11:28:18.144Z"
   },
   {
    "duration": 229,
    "start_time": "2023-08-01T11:28:18.444Z"
   },
   {
    "duration": 180,
    "start_time": "2023-08-01T11:28:18.675Z"
   },
   {
    "duration": 5,
    "start_time": "2023-08-01T11:28:18.857Z"
   },
   {
    "duration": 195,
    "start_time": "2023-08-01T11:28:18.864Z"
   },
   {
    "duration": 6,
    "start_time": "2023-08-01T11:28:19.061Z"
   },
   {
    "duration": 15,
    "start_time": "2023-08-01T11:28:19.069Z"
   },
   {
    "duration": 18,
    "start_time": "2023-08-01T11:28:19.087Z"
   },
   {
    "duration": 309,
    "start_time": "2023-08-01T11:28:19.107Z"
   },
   {
    "duration": 28,
    "start_time": "2023-08-01T11:28:19.419Z"
   },
   {
    "duration": 208,
    "start_time": "2023-08-01T11:28:19.452Z"
   },
   {
    "duration": 11,
    "start_time": "2023-08-01T11:28:19.661Z"
   },
   {
    "duration": 38,
    "start_time": "2023-08-01T11:28:19.675Z"
   },
   {
    "duration": 12,
    "start_time": "2023-08-01T11:28:19.715Z"
   },
   {
    "duration": 4,
    "start_time": "2023-08-01T11:28:49.688Z"
   },
   {
    "duration": 34,
    "start_time": "2023-08-01T11:28:49.694Z"
   },
   {
    "duration": 11,
    "start_time": "2023-08-01T11:28:49.730Z"
   },
   {
    "duration": 10,
    "start_time": "2023-08-01T11:28:49.743Z"
   },
   {
    "duration": 14,
    "start_time": "2023-08-01T11:28:49.755Z"
   },
   {
    "duration": 11,
    "start_time": "2023-08-01T11:28:49.771Z"
   },
   {
    "duration": 18,
    "start_time": "2023-08-01T11:28:49.784Z"
   },
   {
    "duration": 12,
    "start_time": "2023-08-01T11:28:49.804Z"
   },
   {
    "duration": 31,
    "start_time": "2023-08-01T11:28:49.818Z"
   },
   {
    "duration": 58,
    "start_time": "2023-08-01T11:28:49.851Z"
   },
   {
    "duration": 9,
    "start_time": "2023-08-01T11:28:49.913Z"
   },
   {
    "duration": 15,
    "start_time": "2023-08-01T11:28:49.923Z"
   },
   {
    "duration": 21,
    "start_time": "2023-08-01T11:28:49.943Z"
   },
   {
    "duration": 25,
    "start_time": "2023-08-01T11:28:49.966Z"
   },
   {
    "duration": 9,
    "start_time": "2023-08-01T11:28:49.993Z"
   },
   {
    "duration": 30,
    "start_time": "2023-08-01T11:28:50.004Z"
   },
   {
    "duration": 18,
    "start_time": "2023-08-01T11:28:50.035Z"
   },
   {
    "duration": 32,
    "start_time": "2023-08-01T11:28:50.055Z"
   },
   {
    "duration": 28,
    "start_time": "2023-08-01T11:28:50.089Z"
   },
   {
    "duration": 14,
    "start_time": "2023-08-01T11:28:50.119Z"
   },
   {
    "duration": 31,
    "start_time": "2023-08-01T11:28:50.135Z"
   },
   {
    "duration": 602,
    "start_time": "2023-08-01T11:28:50.168Z"
   },
   {
    "duration": 239,
    "start_time": "2023-08-01T11:28:50.772Z"
   },
   {
    "duration": 326,
    "start_time": "2023-08-01T11:28:51.012Z"
   },
   {
    "duration": 243,
    "start_time": "2023-08-01T11:28:51.346Z"
   },
   {
    "duration": 234,
    "start_time": "2023-08-01T11:28:51.591Z"
   },
   {
    "duration": 130,
    "start_time": "2023-08-01T11:28:51.826Z"
   },
   {
    "duration": 176,
    "start_time": "2023-08-01T11:28:51.958Z"
   },
   {
    "duration": 5,
    "start_time": "2023-08-01T11:28:52.136Z"
   },
   {
    "duration": 183,
    "start_time": "2023-08-01T11:28:52.153Z"
   },
   {
    "duration": 5,
    "start_time": "2023-08-01T11:28:52.338Z"
   },
   {
    "duration": 15,
    "start_time": "2023-08-01T11:28:52.352Z"
   },
   {
    "duration": 23,
    "start_time": "2023-08-01T11:28:52.368Z"
   },
   {
    "duration": 221,
    "start_time": "2023-08-01T11:28:52.393Z"
   },
   {
    "duration": 37,
    "start_time": "2023-08-01T11:28:52.616Z"
   },
   {
    "duration": 167,
    "start_time": "2023-08-01T11:28:52.655Z"
   },
   {
    "duration": 28,
    "start_time": "2023-08-01T11:28:52.826Z"
   },
   {
    "duration": 32,
    "start_time": "2023-08-01T11:28:52.855Z"
   },
   {
    "duration": 13,
    "start_time": "2023-08-01T11:28:52.889Z"
   },
   {
    "duration": 140,
    "start_time": "2023-08-01T11:33:35.780Z"
   },
   {
    "duration": 163,
    "start_time": "2023-08-01T11:33:36.663Z"
   },
   {
    "duration": 7,
    "start_time": "2023-08-01T11:33:44.611Z"
   },
   {
    "duration": 179,
    "start_time": "2023-08-01T11:33:46.945Z"
   },
   {
    "duration": 5,
    "start_time": "2023-08-01T11:34:16.403Z"
   },
   {
    "duration": 10,
    "start_time": "2023-08-01T11:34:34.110Z"
   },
   {
    "duration": 11,
    "start_time": "2023-08-01T11:34:35.270Z"
   },
   {
    "duration": 212,
    "start_time": "2023-08-01T11:34:36.106Z"
   },
   {
    "duration": 34,
    "start_time": "2023-08-01T11:34:37.035Z"
   },
   {
    "duration": 163,
    "start_time": "2023-08-01T11:34:37.779Z"
   },
   {
    "duration": 11,
    "start_time": "2023-08-01T11:45:53.107Z"
   },
   {
    "duration": 39,
    "start_time": "2023-08-01T11:45:59.936Z"
   },
   {
    "duration": 17,
    "start_time": "2023-08-01T11:46:20.654Z"
   },
   {
    "duration": 35,
    "start_time": "2023-08-01T11:51:30.101Z"
   },
   {
    "duration": 198,
    "start_time": "2023-08-01T11:52:31.312Z"
   },
   {
    "duration": 6,
    "start_time": "2023-08-01T11:52:32.273Z"
   },
   {
    "duration": 11,
    "start_time": "2023-08-01T11:52:33.020Z"
   },
   {
    "duration": 9,
    "start_time": "2023-08-01T11:52:33.284Z"
   },
   {
    "duration": 227,
    "start_time": "2023-08-01T11:52:33.537Z"
   },
   {
    "duration": 30,
    "start_time": "2023-08-01T11:52:34.112Z"
   },
   {
    "duration": 174,
    "start_time": "2023-08-01T11:52:34.868Z"
   },
   {
    "duration": 14,
    "start_time": "2023-08-01T11:52:37.209Z"
   },
   {
    "duration": 36,
    "start_time": "2023-08-01T11:52:46.298Z"
   },
   {
    "duration": 15,
    "start_time": "2023-08-01T11:52:48.551Z"
   },
   {
    "duration": 49,
    "start_time": "2023-08-01T11:58:01.179Z"
   },
   {
    "duration": 13,
    "start_time": "2023-08-01T11:58:02.704Z"
   },
   {
    "duration": 1725,
    "start_time": "2023-08-01T14:31:18.226Z"
   },
   {
    "duration": 66,
    "start_time": "2023-08-01T14:31:19.953Z"
   },
   {
    "duration": 15,
    "start_time": "2023-08-01T14:31:20.020Z"
   },
   {
    "duration": 19,
    "start_time": "2023-08-01T14:31:20.038Z"
   },
   {
    "duration": 43,
    "start_time": "2023-08-01T14:31:20.059Z"
   },
   {
    "duration": 13,
    "start_time": "2023-08-01T14:31:20.105Z"
   },
   {
    "duration": 20,
    "start_time": "2023-08-01T14:31:20.121Z"
   },
   {
    "duration": 11,
    "start_time": "2023-08-01T14:31:20.143Z"
   },
   {
    "duration": 23,
    "start_time": "2023-08-01T14:31:20.156Z"
   },
   {
    "duration": 112,
    "start_time": "2023-08-01T14:31:20.183Z"
   },
   {
    "duration": 18,
    "start_time": "2023-08-01T14:31:20.297Z"
   },
   {
    "duration": 6,
    "start_time": "2023-08-01T14:31:20.318Z"
   },
   {
    "duration": 14,
    "start_time": "2023-08-01T14:31:20.326Z"
   },
   {
    "duration": 75,
    "start_time": "2023-08-01T14:31:20.343Z"
   },
   {
    "duration": 9,
    "start_time": "2023-08-01T14:31:20.419Z"
   },
   {
    "duration": 16,
    "start_time": "2023-08-01T14:31:20.429Z"
   },
   {
    "duration": 11,
    "start_time": "2023-08-01T14:31:20.446Z"
   },
   {
    "duration": 34,
    "start_time": "2023-08-01T14:31:20.458Z"
   },
   {
    "duration": 33,
    "start_time": "2023-08-01T14:31:20.495Z"
   },
   {
    "duration": 16,
    "start_time": "2023-08-01T14:31:20.530Z"
   },
   {
    "duration": 15,
    "start_time": "2023-08-01T14:31:20.548Z"
   },
   {
    "duration": 664,
    "start_time": "2023-08-01T14:31:20.565Z"
   },
   {
    "duration": 248,
    "start_time": "2023-08-01T14:31:21.230Z"
   },
   {
    "duration": 355,
    "start_time": "2023-08-01T14:31:21.486Z"
   },
   {
    "duration": 283,
    "start_time": "2023-08-01T14:31:21.843Z"
   },
   {
    "duration": 266,
    "start_time": "2023-08-01T14:31:22.128Z"
   },
   {
    "duration": 157,
    "start_time": "2023-08-01T14:31:22.395Z"
   },
   {
    "duration": 191,
    "start_time": "2023-08-01T14:31:22.556Z"
   },
   {
    "duration": 5,
    "start_time": "2023-08-01T14:31:22.749Z"
   },
   {
    "duration": 284,
    "start_time": "2023-08-01T14:31:22.755Z"
   },
   {
    "duration": 6,
    "start_time": "2023-08-01T14:31:23.041Z"
   },
   {
    "duration": 40,
    "start_time": "2023-08-01T14:31:23.049Z"
   },
   {
    "duration": 35,
    "start_time": "2023-08-01T14:31:23.094Z"
   },
   {
    "duration": 226,
    "start_time": "2023-08-01T14:31:23.132Z"
   },
   {
    "duration": 33,
    "start_time": "2023-08-01T14:31:23.360Z"
   },
   {
    "duration": 179,
    "start_time": "2023-08-01T14:31:23.395Z"
   },
   {
    "duration": 19,
    "start_time": "2023-08-01T14:31:23.576Z"
   },
   {
    "duration": 43,
    "start_time": "2023-08-01T14:31:23.596Z"
   },
   {
    "duration": 155,
    "start_time": "2023-08-01T14:31:23.641Z"
   },
   {
    "duration": 11,
    "start_time": "2023-08-01T14:36:54.024Z"
   },
   {
    "duration": 14,
    "start_time": "2023-08-01T14:36:59.251Z"
   },
   {
    "duration": 4,
    "start_time": "2023-08-01T14:37:20.421Z"
   },
   {
    "duration": 48,
    "start_time": "2023-08-01T14:37:20.427Z"
   },
   {
    "duration": 13,
    "start_time": "2023-08-01T14:37:20.477Z"
   },
   {
    "duration": 29,
    "start_time": "2023-08-01T14:37:20.492Z"
   },
   {
    "duration": 22,
    "start_time": "2023-08-01T14:37:20.523Z"
   },
   {
    "duration": 10,
    "start_time": "2023-08-01T14:37:20.547Z"
   },
   {
    "duration": 58,
    "start_time": "2023-08-01T14:37:20.559Z"
   },
   {
    "duration": 20,
    "start_time": "2023-08-01T14:37:20.619Z"
   },
   {
    "duration": 22,
    "start_time": "2023-08-01T14:37:20.642Z"
   },
   {
    "duration": 80,
    "start_time": "2023-08-01T14:37:20.666Z"
   },
   {
    "duration": 9,
    "start_time": "2023-08-01T14:37:20.748Z"
   },
   {
    "duration": 44,
    "start_time": "2023-08-01T14:37:20.759Z"
   },
   {
    "duration": 37,
    "start_time": "2023-08-01T14:37:20.805Z"
   },
   {
    "duration": 46,
    "start_time": "2023-08-01T14:37:20.845Z"
   },
   {
    "duration": 12,
    "start_time": "2023-08-01T14:37:20.893Z"
   },
   {
    "duration": 16,
    "start_time": "2023-08-01T14:37:20.906Z"
   },
   {
    "duration": 28,
    "start_time": "2023-08-01T14:37:20.924Z"
   },
   {
    "duration": 31,
    "start_time": "2023-08-01T14:37:20.954Z"
   },
   {
    "duration": 30,
    "start_time": "2023-08-01T14:37:20.987Z"
   },
   {
    "duration": 14,
    "start_time": "2023-08-01T14:37:21.019Z"
   },
   {
    "duration": 15,
    "start_time": "2023-08-01T14:37:21.034Z"
   },
   {
    "duration": 607,
    "start_time": "2023-08-01T14:37:21.051Z"
   },
   {
    "duration": 262,
    "start_time": "2023-08-01T14:37:21.660Z"
   },
   {
    "duration": 328,
    "start_time": "2023-08-01T14:37:21.925Z"
   },
   {
    "duration": 277,
    "start_time": "2023-08-01T14:37:22.255Z"
   },
   {
    "duration": 275,
    "start_time": "2023-08-01T14:37:22.534Z"
   },
   {
    "duration": 194,
    "start_time": "2023-08-01T14:37:22.810Z"
   },
   {
    "duration": 172,
    "start_time": "2023-08-01T14:37:23.005Z"
   },
   {
    "duration": 6,
    "start_time": "2023-08-01T14:37:23.181Z"
   },
   {
    "duration": 245,
    "start_time": "2023-08-01T14:37:23.189Z"
   },
   {
    "duration": 4,
    "start_time": "2023-08-01T14:37:23.437Z"
   },
   {
    "duration": 68,
    "start_time": "2023-08-01T14:37:23.443Z"
   },
   {
    "duration": 22,
    "start_time": "2023-08-01T14:37:23.514Z"
   },
   {
    "duration": 214,
    "start_time": "2023-08-01T14:37:23.538Z"
   },
   {
    "duration": 31,
    "start_time": "2023-08-01T14:37:23.754Z"
   },
   {
    "duration": 193,
    "start_time": "2023-08-01T14:37:23.788Z"
   },
   {
    "duration": 18,
    "start_time": "2023-08-01T14:37:23.984Z"
   },
   {
    "duration": 50,
    "start_time": "2023-08-01T14:37:24.005Z"
   },
   {
    "duration": 26,
    "start_time": "2023-08-01T14:37:24.056Z"
   },
   {
    "duration": 14,
    "start_time": "2023-08-01T14:53:37.694Z"
   },
   {
    "duration": 17,
    "start_time": "2023-08-01T14:57:16.792Z"
   },
   {
    "duration": 14,
    "start_time": "2023-08-01T14:57:28.020Z"
   },
   {
    "duration": 19,
    "start_time": "2023-08-01T14:58:20.491Z"
   },
   {
    "duration": 17,
    "start_time": "2023-08-01T14:58:43.792Z"
   },
   {
    "duration": 12,
    "start_time": "2023-08-01T15:06:10.408Z"
   },
   {
    "duration": 14,
    "start_time": "2023-08-01T15:06:14.835Z"
   },
   {
    "duration": 11,
    "start_time": "2023-08-01T15:06:56.603Z"
   },
   {
    "duration": 10,
    "start_time": "2023-08-01T15:07:03.188Z"
   },
   {
    "duration": 4,
    "start_time": "2023-08-01T15:07:45.360Z"
   },
   {
    "duration": 45,
    "start_time": "2023-08-01T15:07:45.366Z"
   },
   {
    "duration": 12,
    "start_time": "2023-08-01T15:07:45.412Z"
   },
   {
    "duration": 8,
    "start_time": "2023-08-01T15:07:45.427Z"
   },
   {
    "duration": 12,
    "start_time": "2023-08-01T15:07:45.437Z"
   },
   {
    "duration": 6,
    "start_time": "2023-08-01T15:07:45.452Z"
   },
   {
    "duration": 21,
    "start_time": "2023-08-01T15:07:45.460Z"
   },
   {
    "duration": 13,
    "start_time": "2023-08-01T15:07:45.488Z"
   },
   {
    "duration": 19,
    "start_time": "2023-08-01T15:07:45.504Z"
   },
   {
    "duration": 44,
    "start_time": "2023-08-01T15:07:45.525Z"
   },
   {
    "duration": 12,
    "start_time": "2023-08-01T15:07:45.571Z"
   },
   {
    "duration": 6,
    "start_time": "2023-08-01T15:07:45.585Z"
   },
   {
    "duration": 24,
    "start_time": "2023-08-01T15:07:45.593Z"
   },
   {
    "duration": 23,
    "start_time": "2023-08-01T15:07:45.619Z"
   },
   {
    "duration": 8,
    "start_time": "2023-08-01T15:07:45.644Z"
   },
   {
    "duration": 20,
    "start_time": "2023-08-01T15:07:45.654Z"
   },
   {
    "duration": 19,
    "start_time": "2023-08-01T15:07:45.678Z"
   },
   {
    "duration": 34,
    "start_time": "2023-08-01T15:07:45.699Z"
   },
   {
    "duration": 18,
    "start_time": "2023-08-01T15:07:45.735Z"
   },
   {
    "duration": 9,
    "start_time": "2023-08-01T15:07:45.754Z"
   },
   {
    "duration": 31,
    "start_time": "2023-08-01T15:07:45.765Z"
   },
   {
    "duration": 543,
    "start_time": "2023-08-01T15:07:45.798Z"
   },
   {
    "duration": 292,
    "start_time": "2023-08-01T15:07:46.344Z"
   },
   {
    "duration": 469,
    "start_time": "2023-08-01T15:07:46.641Z"
   },
   {
    "duration": 252,
    "start_time": "2023-08-01T15:07:47.112Z"
   },
   {
    "duration": 253,
    "start_time": "2023-08-01T15:07:47.371Z"
   },
   {
    "duration": 188,
    "start_time": "2023-08-01T15:07:47.626Z"
   },
   {
    "duration": 181,
    "start_time": "2023-08-01T15:07:47.816Z"
   },
   {
    "duration": 5,
    "start_time": "2023-08-01T15:07:47.999Z"
   },
   {
    "duration": 201,
    "start_time": "2023-08-01T15:07:48.005Z"
   },
   {
    "duration": 7,
    "start_time": "2023-08-01T15:07:48.207Z"
   },
   {
    "duration": 18,
    "start_time": "2023-08-01T15:07:48.216Z"
   },
   {
    "duration": 15,
    "start_time": "2023-08-01T15:07:48.236Z"
   },
   {
    "duration": 231,
    "start_time": "2023-08-01T15:07:48.253Z"
   },
   {
    "duration": 34,
    "start_time": "2023-08-01T15:07:48.486Z"
   },
   {
    "duration": 193,
    "start_time": "2023-08-01T15:07:48.522Z"
   },
   {
    "duration": 13,
    "start_time": "2023-08-01T15:07:48.718Z"
   },
   {
    "duration": 64,
    "start_time": "2023-08-01T15:07:48.733Z"
   },
   {
    "duration": 16,
    "start_time": "2023-08-01T15:07:48.799Z"
   },
   {
    "duration": 16,
    "start_time": "2023-08-01T15:07:48.817Z"
   },
   {
    "duration": 18,
    "start_time": "2023-08-01T15:10:56.956Z"
   },
   {
    "duration": 15,
    "start_time": "2023-08-01T15:11:30.878Z"
   },
   {
    "duration": 3,
    "start_time": "2023-08-01T15:11:41.012Z"
   },
   {
    "duration": 32,
    "start_time": "2023-08-01T15:11:41.018Z"
   },
   {
    "duration": 11,
    "start_time": "2023-08-01T15:11:41.052Z"
   },
   {
    "duration": 15,
    "start_time": "2023-08-01T15:11:41.065Z"
   },
   {
    "duration": 27,
    "start_time": "2023-08-01T15:11:41.082Z"
   },
   {
    "duration": 23,
    "start_time": "2023-08-01T15:11:41.111Z"
   },
   {
    "duration": 18,
    "start_time": "2023-08-01T15:11:41.136Z"
   },
   {
    "duration": 12,
    "start_time": "2023-08-01T15:11:41.156Z"
   },
   {
    "duration": 21,
    "start_time": "2023-08-01T15:11:41.170Z"
   },
   {
    "duration": 50,
    "start_time": "2023-08-01T15:11:41.192Z"
   },
   {
    "duration": 10,
    "start_time": "2023-08-01T15:11:41.245Z"
   },
   {
    "duration": 16,
    "start_time": "2023-08-01T15:11:41.257Z"
   },
   {
    "duration": 21,
    "start_time": "2023-08-01T15:11:41.275Z"
   },
   {
    "duration": 18,
    "start_time": "2023-08-01T15:11:41.298Z"
   },
   {
    "duration": 11,
    "start_time": "2023-08-01T15:11:41.318Z"
   },
   {
    "duration": 14,
    "start_time": "2023-08-01T15:11:41.331Z"
   },
   {
    "duration": 10,
    "start_time": "2023-08-01T15:11:41.347Z"
   },
   {
    "duration": 21,
    "start_time": "2023-08-01T15:11:41.359Z"
   },
   {
    "duration": 13,
    "start_time": "2023-08-01T15:11:41.382Z"
   },
   {
    "duration": 8,
    "start_time": "2023-08-01T15:11:41.397Z"
   },
   {
    "duration": 8,
    "start_time": "2023-08-01T15:11:41.407Z"
   },
   {
    "duration": 519,
    "start_time": "2023-08-01T15:11:41.417Z"
   },
   {
    "duration": 233,
    "start_time": "2023-08-01T15:11:41.938Z"
   },
   {
    "duration": 328,
    "start_time": "2023-08-01T15:11:42.173Z"
   },
   {
    "duration": 257,
    "start_time": "2023-08-01T15:11:42.504Z"
   },
   {
    "duration": 258,
    "start_time": "2023-08-01T15:11:42.763Z"
   },
   {
    "duration": 149,
    "start_time": "2023-08-01T15:11:43.023Z"
   },
   {
    "duration": 176,
    "start_time": "2023-08-01T15:11:43.175Z"
   },
   {
    "duration": 19,
    "start_time": "2023-08-01T15:11:43.355Z"
   },
   {
    "duration": 326,
    "start_time": "2023-08-01T15:11:43.376Z"
   },
   {
    "duration": 5,
    "start_time": "2023-08-01T15:11:43.704Z"
   },
   {
    "duration": 23,
    "start_time": "2023-08-01T15:11:43.711Z"
   },
   {
    "duration": 25,
    "start_time": "2023-08-01T15:11:43.736Z"
   },
   {
    "duration": 210,
    "start_time": "2023-08-01T15:11:43.763Z"
   },
   {
    "duration": 37,
    "start_time": "2023-08-01T15:11:43.975Z"
   },
   {
    "duration": 179,
    "start_time": "2023-08-01T15:11:44.014Z"
   },
   {
    "duration": 14,
    "start_time": "2023-08-01T15:11:44.195Z"
   },
   {
    "duration": 36,
    "start_time": "2023-08-01T15:11:44.210Z"
   },
   {
    "duration": 36,
    "start_time": "2023-08-01T15:11:44.248Z"
   },
   {
    "duration": 4,
    "start_time": "2023-08-01T15:13:36.884Z"
   },
   {
    "duration": 27,
    "start_time": "2023-08-01T15:13:37.290Z"
   },
   {
    "duration": 10,
    "start_time": "2023-08-01T15:13:37.901Z"
   },
   {
    "duration": 11,
    "start_time": "2023-08-01T15:13:42.726Z"
   },
   {
    "duration": 4,
    "start_time": "2023-08-01T15:13:43.141Z"
   },
   {
    "duration": 12,
    "start_time": "2023-08-01T15:13:43.595Z"
   },
   {
    "duration": 6,
    "start_time": "2023-08-01T15:13:44.452Z"
   },
   {
    "duration": 12,
    "start_time": "2023-08-01T15:13:44.896Z"
   },
   {
    "duration": 6,
    "start_time": "2023-08-01T15:13:45.682Z"
   },
   {
    "duration": 15,
    "start_time": "2023-08-01T15:13:46.070Z"
   },
   {
    "duration": 51,
    "start_time": "2023-08-01T15:13:48.081Z"
   },
   {
    "duration": 11,
    "start_time": "2023-08-01T15:13:48.463Z"
   },
   {
    "duration": 5,
    "start_time": "2023-08-01T15:13:48.865Z"
   },
   {
    "duration": 14,
    "start_time": "2023-08-01T15:13:49.264Z"
   },
   {
    "duration": 27,
    "start_time": "2023-08-01T15:13:50.040Z"
   },
   {
    "duration": 8,
    "start_time": "2023-08-01T15:13:50.442Z"
   },
   {
    "duration": 11,
    "start_time": "2023-08-01T15:13:50.858Z"
   },
   {
    "duration": 7,
    "start_time": "2023-08-01T15:13:51.267Z"
   },
   {
    "duration": 13,
    "start_time": "2023-08-01T15:13:51.705Z"
   },
   {
    "duration": 13,
    "start_time": "2023-08-01T15:13:52.134Z"
   },
   {
    "duration": 6,
    "start_time": "2023-08-01T15:13:52.554Z"
   },
   {
    "duration": 10,
    "start_time": "2023-08-01T15:13:54.291Z"
   },
   {
    "duration": 565,
    "start_time": "2023-08-01T15:13:54.996Z"
   },
   {
    "duration": 296,
    "start_time": "2023-08-01T15:13:56.391Z"
   },
   {
    "duration": 336,
    "start_time": "2023-08-01T15:13:57.839Z"
   },
   {
    "duration": 233,
    "start_time": "2023-08-01T15:13:59.230Z"
   },
   {
    "duration": 237,
    "start_time": "2023-08-01T15:14:00.655Z"
   },
   {
    "duration": 155,
    "start_time": "2023-08-01T15:14:02.004Z"
   },
   {
    "duration": 184,
    "start_time": "2023-08-01T15:14:02.459Z"
   },
   {
    "duration": 6,
    "start_time": "2023-08-01T15:14:04.257Z"
   },
   {
    "duration": 173,
    "start_time": "2023-08-01T15:14:07.042Z"
   },
   {
    "duration": 5,
    "start_time": "2023-08-01T15:14:09.288Z"
   },
   {
    "duration": 8,
    "start_time": "2023-08-01T15:14:10.526Z"
   },
   {
    "duration": 10,
    "start_time": "2023-08-01T15:14:10.972Z"
   },
   {
    "duration": 211,
    "start_time": "2023-08-01T15:14:11.417Z"
   },
   {
    "duration": 40,
    "start_time": "2023-08-01T15:14:12.102Z"
   },
   {
    "duration": 240,
    "start_time": "2023-08-01T15:14:12.635Z"
   },
   {
    "duration": 16,
    "start_time": "2023-08-01T15:14:13.908Z"
   },
   {
    "duration": 54,
    "start_time": "2023-08-01T15:14:15.222Z"
   },
   {
    "duration": 18,
    "start_time": "2023-08-01T15:14:16.535Z"
   },
   {
    "duration": 4,
    "start_time": "2023-08-01T15:19:47.068Z"
   },
   {
    "duration": 39,
    "start_time": "2023-08-01T15:19:47.074Z"
   },
   {
    "duration": 10,
    "start_time": "2023-08-01T15:19:47.115Z"
   },
   {
    "duration": 77,
    "start_time": "2023-08-01T15:19:47.127Z"
   },
   {
    "duration": 13,
    "start_time": "2023-08-01T15:19:47.205Z"
   },
   {
    "duration": 13,
    "start_time": "2023-08-01T15:19:47.220Z"
   },
   {
    "duration": 26,
    "start_time": "2023-08-01T15:19:47.234Z"
   },
   {
    "duration": 8,
    "start_time": "2023-08-01T15:19:47.262Z"
   },
   {
    "duration": 21,
    "start_time": "2023-08-01T15:19:47.272Z"
   },
   {
    "duration": 49,
    "start_time": "2023-08-01T15:19:47.295Z"
   },
   {
    "duration": 9,
    "start_time": "2023-08-01T15:19:47.346Z"
   },
   {
    "duration": 89,
    "start_time": "2023-08-01T15:19:47.357Z"
   },
   {
    "duration": 24,
    "start_time": "2023-08-01T15:19:47.448Z"
   },
   {
    "duration": 26,
    "start_time": "2023-08-01T15:19:47.474Z"
   },
   {
    "duration": 7,
    "start_time": "2023-08-01T15:19:47.502Z"
   },
   {
    "duration": 14,
    "start_time": "2023-08-01T15:19:47.511Z"
   },
   {
    "duration": 11,
    "start_time": "2023-08-01T15:19:47.527Z"
   },
   {
    "duration": 28,
    "start_time": "2023-08-01T15:19:47.540Z"
   },
   {
    "duration": 16,
    "start_time": "2023-08-01T15:19:47.570Z"
   },
   {
    "duration": 15,
    "start_time": "2023-08-01T15:19:47.588Z"
   },
   {
    "duration": 8,
    "start_time": "2023-08-01T15:19:47.605Z"
   },
   {
    "duration": 468,
    "start_time": "2023-08-01T15:19:47.614Z"
   },
   {
    "duration": 211,
    "start_time": "2023-08-01T15:19:48.084Z"
   },
   {
    "duration": 300,
    "start_time": "2023-08-01T15:19:48.298Z"
   },
   {
    "duration": 342,
    "start_time": "2023-08-01T15:19:48.599Z"
   },
   {
    "duration": 222,
    "start_time": "2023-08-01T15:19:48.943Z"
   },
   {
    "duration": 169,
    "start_time": "2023-08-01T15:19:49.170Z"
   },
   {
    "duration": 174,
    "start_time": "2023-08-01T15:19:49.341Z"
   },
   {
    "duration": 6,
    "start_time": "2023-08-01T15:19:49.517Z"
   },
   {
    "duration": 191,
    "start_time": "2023-08-01T15:19:49.525Z"
   },
   {
    "duration": 5,
    "start_time": "2023-08-01T15:19:49.718Z"
   },
   {
    "duration": 13,
    "start_time": "2023-08-01T15:19:49.725Z"
   },
   {
    "duration": 10,
    "start_time": "2023-08-01T15:19:49.740Z"
   },
   {
    "duration": 228,
    "start_time": "2023-08-01T15:19:49.751Z"
   },
   {
    "duration": 31,
    "start_time": "2023-08-01T15:19:49.981Z"
   },
   {
    "duration": 171,
    "start_time": "2023-08-01T15:19:50.014Z"
   },
   {
    "duration": 12,
    "start_time": "2023-08-01T15:19:50.186Z"
   },
   {
    "duration": 73,
    "start_time": "2023-08-01T15:19:50.199Z"
   },
   {
    "duration": 15,
    "start_time": "2023-08-01T15:19:50.273Z"
   },
   {
    "duration": 56,
    "start_time": "2023-08-02T06:40:19.188Z"
   },
   {
    "duration": 5,
    "start_time": "2023-08-02T06:40:24.320Z"
   },
   {
    "duration": 5,
    "start_time": "2023-08-02T06:40:34.023Z"
   },
   {
    "duration": 7,
    "start_time": "2023-08-02T06:40:34.366Z"
   },
   {
    "duration": 1406,
    "start_time": "2023-08-02T06:40:42.082Z"
   },
   {
    "duration": 63,
    "start_time": "2023-08-02T06:40:43.490Z"
   },
   {
    "duration": 11,
    "start_time": "2023-08-02T06:40:43.555Z"
   },
   {
    "duration": 7,
    "start_time": "2023-08-02T06:40:43.568Z"
   },
   {
    "duration": 26,
    "start_time": "2023-08-02T06:40:43.576Z"
   },
   {
    "duration": 9,
    "start_time": "2023-08-02T06:40:43.604Z"
   },
   {
    "duration": 17,
    "start_time": "2023-08-02T06:40:43.614Z"
   },
   {
    "duration": 14,
    "start_time": "2023-08-02T06:40:43.633Z"
   },
   {
    "duration": 16,
    "start_time": "2023-08-02T06:40:43.648Z"
   },
   {
    "duration": 90,
    "start_time": "2023-08-02T06:40:43.667Z"
   },
   {
    "duration": 9,
    "start_time": "2023-08-02T06:40:43.758Z"
   },
   {
    "duration": 8,
    "start_time": "2023-08-02T06:40:43.768Z"
   },
   {
    "duration": 16,
    "start_time": "2023-08-02T06:40:43.777Z"
   },
   {
    "duration": 60,
    "start_time": "2023-08-02T06:40:43.795Z"
   },
   {
    "duration": 7,
    "start_time": "2023-08-02T06:40:43.857Z"
   },
   {
    "duration": 16,
    "start_time": "2023-08-02T06:40:43.865Z"
   },
   {
    "duration": 17,
    "start_time": "2023-08-02T06:40:43.883Z"
   },
   {
    "duration": 12,
    "start_time": "2023-08-02T06:40:43.902Z"
   },
   {
    "duration": 13,
    "start_time": "2023-08-02T06:40:43.916Z"
   },
   {
    "duration": 9,
    "start_time": "2023-08-02T06:40:43.931Z"
   },
   {
    "duration": 8,
    "start_time": "2023-08-02T06:40:43.942Z"
   },
   {
    "duration": 551,
    "start_time": "2023-08-02T06:40:43.952Z"
   },
   {
    "duration": 214,
    "start_time": "2023-08-02T06:40:44.505Z"
   },
   {
    "duration": 390,
    "start_time": "2023-08-02T06:40:44.721Z"
   },
   {
    "duration": 219,
    "start_time": "2023-08-02T06:40:45.113Z"
   },
   {
    "duration": 212,
    "start_time": "2023-08-02T06:40:45.334Z"
   },
   {
    "duration": 157,
    "start_time": "2023-08-02T06:40:45.548Z"
   },
   {
    "duration": 164,
    "start_time": "2023-08-02T06:40:45.708Z"
   },
   {
    "duration": 4,
    "start_time": "2023-08-02T06:40:45.874Z"
   },
   {
    "duration": 262,
    "start_time": "2023-08-02T06:40:45.879Z"
   },
   {
    "duration": 5,
    "start_time": "2023-08-02T06:40:46.142Z"
   },
   {
    "duration": 59,
    "start_time": "2023-08-02T06:40:46.148Z"
   },
   {
    "duration": 17,
    "start_time": "2023-08-02T06:40:46.208Z"
   },
   {
    "duration": 275,
    "start_time": "2023-08-02T06:40:46.226Z"
   },
   {
    "duration": 31,
    "start_time": "2023-08-02T06:40:46.503Z"
   },
   {
    "duration": 167,
    "start_time": "2023-08-02T06:40:46.536Z"
   },
   {
    "duration": 12,
    "start_time": "2023-08-02T06:40:46.704Z"
   },
   {
    "duration": 73,
    "start_time": "2023-08-02T06:40:46.718Z"
   },
   {
    "duration": 14,
    "start_time": "2023-08-02T06:40:46.793Z"
   },
   {
    "duration": 3,
    "start_time": "2023-08-02T06:40:58.941Z"
   },
   {
    "duration": 28,
    "start_time": "2023-08-02T06:40:59.895Z"
   },
   {
    "duration": 11,
    "start_time": "2023-08-02T06:41:00.316Z"
   },
   {
    "duration": 4,
    "start_time": "2023-08-02T06:41:01.219Z"
   },
   {
    "duration": 8,
    "start_time": "2023-08-02T06:41:02.295Z"
   },
   {
    "duration": 5,
    "start_time": "2023-08-02T06:41:04.348Z"
   },
   {
    "duration": 8,
    "start_time": "2023-08-02T06:41:04.943Z"
   },
   {
    "duration": 258,
    "start_time": "2023-08-02T06:41:50.357Z"
   },
   {
    "duration": 3,
    "start_time": "2023-08-02T06:41:55.453Z"
   },
   {
    "duration": 290,
    "start_time": "2023-08-02T06:41:55.864Z"
   },
   {
    "duration": 5,
    "start_time": "2023-08-02T06:42:01.172Z"
   },
   {
    "duration": 9,
    "start_time": "2023-08-02T06:42:01.621Z"
   },
   {
    "duration": 5,
    "start_time": "2023-08-02T06:47:51.808Z"
   },
   {
    "duration": 9,
    "start_time": "2023-08-02T06:47:52.196Z"
   },
   {
    "duration": 5,
    "start_time": "2023-08-02T06:47:54.824Z"
   },
   {
    "duration": 11,
    "start_time": "2023-08-02T06:47:55.807Z"
   },
   {
    "duration": 84,
    "start_time": "2023-08-02T06:48:04.844Z"
   },
   {
    "duration": 9,
    "start_time": "2023-08-02T06:48:05.719Z"
   },
   {
    "duration": 4,
    "start_time": "2023-08-02T06:48:14.283Z"
   },
   {
    "duration": 9,
    "start_time": "2023-08-02T06:48:15.182Z"
   },
   {
    "duration": 13,
    "start_time": "2023-08-02T06:48:24.493Z"
   },
   {
    "duration": 4,
    "start_time": "2023-08-02T06:48:28.346Z"
   },
   {
    "duration": 10,
    "start_time": "2023-08-02T06:48:28.848Z"
   },
   {
    "duration": 50,
    "start_time": "2023-08-02T06:49:40.163Z"
   },
   {
    "duration": 8,
    "start_time": "2023-08-02T06:49:40.661Z"
   },
   {
    "duration": 4,
    "start_time": "2023-08-02T06:49:41.199Z"
   },
   {
    "duration": 11,
    "start_time": "2023-08-02T06:49:42.381Z"
   },
   {
    "duration": 27,
    "start_time": "2023-08-02T06:49:42.977Z"
   },
   {
    "duration": 7,
    "start_time": "2023-08-02T06:49:43.528Z"
   },
   {
    "duration": 10,
    "start_time": "2023-08-02T06:49:44.165Z"
   },
   {
    "duration": 5,
    "start_time": "2023-08-02T06:49:44.852Z"
   },
   {
    "duration": 16,
    "start_time": "2023-08-02T06:49:45.568Z"
   },
   {
    "duration": 14,
    "start_time": "2023-08-02T06:49:46.256Z"
   },
   {
    "duration": 6,
    "start_time": "2023-08-02T06:49:46.794Z"
   },
   {
    "duration": 11,
    "start_time": "2023-08-02T06:50:45.700Z"
   },
   {
    "duration": 11,
    "start_time": "2023-08-02T06:51:03.099Z"
   },
   {
    "duration": 10,
    "start_time": "2023-08-02T06:51:10.120Z"
   },
   {
    "duration": 11,
    "start_time": "2023-08-02T06:51:14.160Z"
   },
   {
    "duration": 3,
    "start_time": "2023-08-02T06:51:19.405Z"
   },
   {
    "duration": 10,
    "start_time": "2023-08-02T06:51:20.556Z"
   },
   {
    "duration": 3,
    "start_time": "2023-08-02T06:51:31.393Z"
   },
   {
    "duration": 131,
    "start_time": "2023-08-02T06:51:31.399Z"
   },
   {
    "duration": 50,
    "start_time": "2023-08-02T06:51:31.532Z"
   },
   {
    "duration": 104,
    "start_time": "2023-08-02T06:51:31.584Z"
   },
   {
    "duration": 32,
    "start_time": "2023-08-02T06:51:31.690Z"
   },
   {
    "duration": 18,
    "start_time": "2023-08-02T06:51:31.723Z"
   },
   {
    "duration": 32,
    "start_time": "2023-08-02T06:51:31.742Z"
   },
   {
    "duration": 22,
    "start_time": "2023-08-02T06:51:31.775Z"
   },
   {
    "duration": 31,
    "start_time": "2023-08-02T06:51:31.799Z"
   },
   {
    "duration": 63,
    "start_time": "2023-08-02T06:51:31.831Z"
   },
   {
    "duration": 14,
    "start_time": "2023-08-02T06:51:31.895Z"
   },
   {
    "duration": 36,
    "start_time": "2023-08-02T06:51:31.911Z"
   },
   {
    "duration": 42,
    "start_time": "2023-08-02T06:51:31.950Z"
   },
   {
    "duration": 37,
    "start_time": "2023-08-02T06:51:31.994Z"
   },
   {
    "duration": 8,
    "start_time": "2023-08-02T06:51:32.033Z"
   },
   {
    "duration": 32,
    "start_time": "2023-08-02T06:51:32.042Z"
   },
   {
    "duration": 33,
    "start_time": "2023-08-02T06:51:32.076Z"
   },
   {
    "duration": 28,
    "start_time": "2023-08-02T06:51:32.111Z"
   },
   {
    "duration": 38,
    "start_time": "2023-08-02T06:51:32.141Z"
   },
   {
    "duration": 25,
    "start_time": "2023-08-02T06:51:32.182Z"
   },
   {
    "duration": 49,
    "start_time": "2023-08-02T06:51:32.209Z"
   },
   {
    "duration": 507,
    "start_time": "2023-08-02T06:51:32.261Z"
   },
   {
    "duration": 224,
    "start_time": "2023-08-02T06:51:32.770Z"
   },
   {
    "duration": 307,
    "start_time": "2023-08-02T06:51:32.995Z"
   },
   {
    "duration": 238,
    "start_time": "2023-08-02T06:51:33.304Z"
   },
   {
    "duration": 221,
    "start_time": "2023-08-02T06:51:33.544Z"
   },
   {
    "duration": 148,
    "start_time": "2023-08-02T06:51:33.770Z"
   },
   {
    "duration": 167,
    "start_time": "2023-08-02T06:51:33.920Z"
   },
   {
    "duration": 5,
    "start_time": "2023-08-02T06:51:34.089Z"
   },
   {
    "duration": 180,
    "start_time": "2023-08-02T06:51:34.095Z"
   },
   {
    "duration": 5,
    "start_time": "2023-08-02T06:51:34.277Z"
   },
   {
    "duration": 13,
    "start_time": "2023-08-02T06:51:34.284Z"
   },
   {
    "duration": 20,
    "start_time": "2023-08-02T06:51:34.299Z"
   },
   {
    "duration": 266,
    "start_time": "2023-08-02T06:51:34.321Z"
   },
   {
    "duration": 34,
    "start_time": "2023-08-02T06:51:34.589Z"
   },
   {
    "duration": 180,
    "start_time": "2023-08-02T06:51:34.625Z"
   },
   {
    "duration": 14,
    "start_time": "2023-08-02T06:51:34.810Z"
   },
   {
    "duration": 56,
    "start_time": "2023-08-02T06:51:34.825Z"
   },
   {
    "duration": 14,
    "start_time": "2023-08-02T06:51:34.883Z"
   },
   {
    "duration": 10,
    "start_time": "2023-08-02T06:53:06.830Z"
   },
   {
    "duration": 4,
    "start_time": "2023-08-02T06:53:09.748Z"
   },
   {
    "duration": 9,
    "start_time": "2023-08-02T06:53:10.346Z"
   },
   {
    "duration": 5,
    "start_time": "2023-08-02T06:53:11.906Z"
   },
   {
    "duration": 10,
    "start_time": "2023-08-02T06:53:14.423Z"
   },
   {
    "duration": 3,
    "start_time": "2023-08-02T06:53:58.149Z"
   },
   {
    "duration": 34,
    "start_time": "2023-08-02T06:53:58.154Z"
   },
   {
    "duration": 10,
    "start_time": "2023-08-02T06:53:58.190Z"
   },
   {
    "duration": 8,
    "start_time": "2023-08-02T06:53:58.201Z"
   },
   {
    "duration": 10,
    "start_time": "2023-08-02T06:53:58.212Z"
   },
   {
    "duration": 8,
    "start_time": "2023-08-02T06:53:58.224Z"
   },
   {
    "duration": 12,
    "start_time": "2023-08-02T06:53:58.233Z"
   },
   {
    "duration": 6,
    "start_time": "2023-08-02T06:53:58.246Z"
   },
   {
    "duration": 24,
    "start_time": "2023-08-02T06:53:58.253Z"
   },
   {
    "duration": 39,
    "start_time": "2023-08-02T06:53:58.278Z"
   },
   {
    "duration": 8,
    "start_time": "2023-08-02T06:53:58.320Z"
   },
   {
    "duration": 9,
    "start_time": "2023-08-02T06:53:58.329Z"
   },
   {
    "duration": 18,
    "start_time": "2023-08-02T06:53:58.339Z"
   },
   {
    "duration": 30,
    "start_time": "2023-08-02T06:53:58.358Z"
   },
   {
    "duration": 8,
    "start_time": "2023-08-02T06:53:58.390Z"
   },
   {
    "duration": 20,
    "start_time": "2023-08-02T06:53:58.400Z"
   },
   {
    "duration": 10,
    "start_time": "2023-08-02T06:53:58.422Z"
   },
   {
    "duration": 16,
    "start_time": "2023-08-02T06:53:58.434Z"
   },
   {
    "duration": 22,
    "start_time": "2023-08-02T06:53:58.452Z"
   },
   {
    "duration": 10,
    "start_time": "2023-08-02T06:53:58.476Z"
   },
   {
    "duration": 11,
    "start_time": "2023-08-02T06:53:58.488Z"
   },
   {
    "duration": 489,
    "start_time": "2023-08-02T06:53:58.501Z"
   },
   {
    "duration": 216,
    "start_time": "2023-08-02T06:53:58.992Z"
   },
   {
    "duration": 378,
    "start_time": "2023-08-02T06:53:59.210Z"
   },
   {
    "duration": 219,
    "start_time": "2023-08-02T06:53:59.589Z"
   },
   {
    "duration": 217,
    "start_time": "2023-08-02T06:53:59.810Z"
   },
   {
    "duration": 176,
    "start_time": "2023-08-02T06:54:00.029Z"
   },
   {
    "duration": 165,
    "start_time": "2023-08-02T06:54:00.206Z"
   },
   {
    "duration": 6,
    "start_time": "2023-08-02T06:54:00.374Z"
   },
   {
    "duration": 204,
    "start_time": "2023-08-02T06:54:00.382Z"
   },
   {
    "duration": 5,
    "start_time": "2023-08-02T06:54:00.588Z"
   },
   {
    "duration": 26,
    "start_time": "2023-08-02T06:54:00.595Z"
   },
   {
    "duration": 36,
    "start_time": "2023-08-02T06:54:00.622Z"
   },
   {
    "duration": 214,
    "start_time": "2023-08-02T06:54:00.660Z"
   },
   {
    "duration": 29,
    "start_time": "2023-08-02T06:54:00.876Z"
   },
   {
    "duration": 171,
    "start_time": "2023-08-02T06:54:00.907Z"
   },
   {
    "duration": 12,
    "start_time": "2023-08-02T06:54:01.080Z"
   },
   {
    "duration": 63,
    "start_time": "2023-08-02T06:54:01.094Z"
   },
   {
    "duration": 54,
    "start_time": "2023-08-02T06:54:01.158Z"
   },
   {
    "duration": 4,
    "start_time": "2023-08-02T06:55:09.369Z"
   },
   {
    "duration": 28,
    "start_time": "2023-08-02T06:55:09.908Z"
   },
   {
    "duration": 11,
    "start_time": "2023-08-02T06:55:10.161Z"
   },
   {
    "duration": 3,
    "start_time": "2023-08-02T06:55:10.687Z"
   },
   {
    "duration": 8,
    "start_time": "2023-08-02T06:55:11.217Z"
   },
   {
    "duration": 486,
    "start_time": "2023-08-02T06:58:45.137Z"
   },
   {
    "duration": 5,
    "start_time": "2023-08-02T07:11:01.840Z"
   },
   {
    "duration": 3,
    "start_time": "2023-08-02T07:11:02.321Z"
   },
   {
    "duration": 11,
    "start_time": "2023-08-02T07:11:02.868Z"
   },
   {
    "duration": 4,
    "start_time": "2023-08-02T07:11:14.853Z"
   },
   {
    "duration": 3,
    "start_time": "2023-08-02T07:11:15.194Z"
   },
   {
    "duration": 9,
    "start_time": "2023-08-02T07:11:15.597Z"
   },
   {
    "duration": 10,
    "start_time": "2023-08-02T07:11:25.293Z"
   },
   {
    "duration": 11,
    "start_time": "2023-08-02T07:11:30.745Z"
   },
   {
    "duration": 3,
    "start_time": "2023-08-02T07:11:57.872Z"
   },
   {
    "duration": 35,
    "start_time": "2023-08-02T07:11:57.877Z"
   },
   {
    "duration": 10,
    "start_time": "2023-08-02T07:11:57.914Z"
   },
   {
    "duration": 13,
    "start_time": "2023-08-02T07:11:57.925Z"
   },
   {
    "duration": 10,
    "start_time": "2023-08-02T07:11:57.940Z"
   },
   {
    "duration": 13,
    "start_time": "2023-08-02T07:11:57.951Z"
   },
   {
    "duration": 14,
    "start_time": "2023-08-02T07:11:57.965Z"
   },
   {
    "duration": 13,
    "start_time": "2023-08-02T07:11:57.981Z"
   },
   {
    "duration": 7,
    "start_time": "2023-08-02T07:11:57.996Z"
   },
   {
    "duration": 10,
    "start_time": "2023-08-02T07:11:58.005Z"
   },
   {
    "duration": 14,
    "start_time": "2023-08-02T07:11:58.016Z"
   },
   {
    "duration": 61,
    "start_time": "2023-08-02T07:11:58.031Z"
   },
   {
    "duration": 8,
    "start_time": "2023-08-02T07:11:58.094Z"
   },
   {
    "duration": 9,
    "start_time": "2023-08-02T07:11:58.105Z"
   },
   {
    "duration": 34,
    "start_time": "2023-08-02T07:11:58.115Z"
   },
   {
    "duration": 33,
    "start_time": "2023-08-02T07:11:58.150Z"
   },
   {
    "duration": 8,
    "start_time": "2023-08-02T07:11:58.185Z"
   },
   {
    "duration": 26,
    "start_time": "2023-08-02T07:11:58.194Z"
   },
   {
    "duration": 18,
    "start_time": "2023-08-02T07:11:58.222Z"
   },
   {
    "duration": 35,
    "start_time": "2023-08-02T07:11:58.241Z"
   },
   {
    "duration": 24,
    "start_time": "2023-08-02T07:11:58.278Z"
   },
   {
    "duration": 15,
    "start_time": "2023-08-02T07:11:58.303Z"
   },
   {
    "duration": 17,
    "start_time": "2023-08-02T07:11:58.320Z"
   },
   {
    "duration": 472,
    "start_time": "2023-08-02T07:11:58.339Z"
   },
   {
    "duration": 247,
    "start_time": "2023-08-02T07:11:58.813Z"
   },
   {
    "duration": 338,
    "start_time": "2023-08-02T07:11:59.071Z"
   },
   {
    "duration": 233,
    "start_time": "2023-08-02T07:11:59.411Z"
   },
   {
    "duration": 225,
    "start_time": "2023-08-02T07:11:59.646Z"
   },
   {
    "duration": 150,
    "start_time": "2023-08-02T07:11:59.873Z"
   },
   {
    "duration": 249,
    "start_time": "2023-08-02T07:12:00.025Z"
   },
   {
    "duration": 6,
    "start_time": "2023-08-02T07:12:00.276Z"
   },
   {
    "duration": 205,
    "start_time": "2023-08-02T07:12:00.284Z"
   },
   {
    "duration": 7,
    "start_time": "2023-08-02T07:12:00.491Z"
   },
   {
    "duration": 46,
    "start_time": "2023-08-02T07:12:00.500Z"
   },
   {
    "duration": 34,
    "start_time": "2023-08-02T07:12:00.548Z"
   },
   {
    "duration": 218,
    "start_time": "2023-08-02T07:12:00.584Z"
   },
   {
    "duration": 57,
    "start_time": "2023-08-02T07:12:00.804Z"
   },
   {
    "duration": 177,
    "start_time": "2023-08-02T07:12:00.862Z"
   },
   {
    "duration": 11,
    "start_time": "2023-08-02T07:12:01.041Z"
   },
   {
    "duration": 55,
    "start_time": "2023-08-02T07:12:01.054Z"
   },
   {
    "duration": 56,
    "start_time": "2023-08-02T07:12:01.112Z"
   },
   {
    "duration": 12,
    "start_time": "2023-08-02T07:12:59.427Z"
   },
   {
    "duration": 3,
    "start_time": "2023-08-02T07:13:03.579Z"
   },
   {
    "duration": 10,
    "start_time": "2023-08-02T07:13:04.017Z"
   },
   {
    "duration": 5,
    "start_time": "2023-08-02T07:14:19.355Z"
   },
   {
    "duration": 4,
    "start_time": "2023-08-02T07:15:07.782Z"
   },
   {
    "duration": 3,
    "start_time": "2023-08-02T07:15:09.960Z"
   },
   {
    "duration": 8,
    "start_time": "2023-08-02T07:15:11.195Z"
   },
   {
    "duration": 6,
    "start_time": "2023-08-02T07:15:20.795Z"
   },
   {
    "duration": 3,
    "start_time": "2023-08-02T07:15:32.528Z"
   },
   {
    "duration": 40,
    "start_time": "2023-08-02T07:15:32.534Z"
   },
   {
    "duration": 34,
    "start_time": "2023-08-02T07:15:32.576Z"
   },
   {
    "duration": 37,
    "start_time": "2023-08-02T07:15:32.612Z"
   },
   {
    "duration": 63,
    "start_time": "2023-08-02T07:15:32.651Z"
   },
   {
    "duration": 19,
    "start_time": "2023-08-02T07:15:32.715Z"
   },
   {
    "duration": 11,
    "start_time": "2023-08-02T07:15:32.736Z"
   },
   {
    "duration": 34,
    "start_time": "2023-08-02T07:15:32.749Z"
   },
   {
    "duration": 18,
    "start_time": "2023-08-02T07:15:32.787Z"
   },
   {
    "duration": 15,
    "start_time": "2023-08-02T07:15:32.807Z"
   },
   {
    "duration": 35,
    "start_time": "2023-08-02T07:15:32.824Z"
   },
   {
    "duration": 43,
    "start_time": "2023-08-02T07:15:32.861Z"
   },
   {
    "duration": 8,
    "start_time": "2023-08-02T07:15:32.906Z"
   },
   {
    "duration": 11,
    "start_time": "2023-08-02T07:15:32.916Z"
   },
   {
    "duration": 17,
    "start_time": "2023-08-02T07:15:32.928Z"
   },
   {
    "duration": 21,
    "start_time": "2023-08-02T07:15:32.946Z"
   },
   {
    "duration": 7,
    "start_time": "2023-08-02T07:15:32.968Z"
   },
   {
    "duration": 15,
    "start_time": "2023-08-02T07:15:32.976Z"
   },
   {
    "duration": 8,
    "start_time": "2023-08-02T07:15:32.992Z"
   },
   {
    "duration": 11,
    "start_time": "2023-08-02T07:15:33.002Z"
   },
   {
    "duration": 12,
    "start_time": "2023-08-02T07:15:33.014Z"
   },
   {
    "duration": 5,
    "start_time": "2023-08-02T07:15:33.027Z"
   },
   {
    "duration": 9,
    "start_time": "2023-08-02T07:15:33.033Z"
   },
   {
    "duration": 501,
    "start_time": "2023-08-02T07:15:33.045Z"
   },
   {
    "duration": 230,
    "start_time": "2023-08-02T07:15:33.548Z"
   },
   {
    "duration": 337,
    "start_time": "2023-08-02T07:15:33.779Z"
   },
   {
    "duration": 227,
    "start_time": "2023-08-02T07:15:34.118Z"
   },
   {
    "duration": 212,
    "start_time": "2023-08-02T07:15:34.347Z"
   },
   {
    "duration": 142,
    "start_time": "2023-08-02T07:15:34.560Z"
   },
   {
    "duration": 164,
    "start_time": "2023-08-02T07:15:34.704Z"
   },
   {
    "duration": 5,
    "start_time": "2023-08-02T07:15:34.871Z"
   },
   {
    "duration": 186,
    "start_time": "2023-08-02T07:15:34.877Z"
   },
   {
    "duration": 8,
    "start_time": "2023-08-02T07:15:35.066Z"
   },
   {
    "duration": 32,
    "start_time": "2023-08-02T07:15:35.075Z"
   },
   {
    "duration": 21,
    "start_time": "2023-08-02T07:15:35.108Z"
   },
   {
    "duration": 199,
    "start_time": "2023-08-02T07:15:35.131Z"
   },
   {
    "duration": 29,
    "start_time": "2023-08-02T07:15:35.332Z"
   },
   {
    "duration": 160,
    "start_time": "2023-08-02T07:15:35.370Z"
   },
   {
    "duration": 12,
    "start_time": "2023-08-02T07:15:35.531Z"
   },
   {
    "duration": 49,
    "start_time": "2023-08-02T07:15:35.544Z"
   },
   {
    "duration": 15,
    "start_time": "2023-08-02T07:15:35.595Z"
   },
   {
    "duration": 4,
    "start_time": "2023-08-02T07:16:07.701Z"
   },
   {
    "duration": 27,
    "start_time": "2023-08-02T07:16:08.405Z"
   },
   {
    "duration": 10,
    "start_time": "2023-08-02T07:16:08.742Z"
   },
   {
    "duration": 3,
    "start_time": "2023-08-02T07:16:09.515Z"
   },
   {
    "duration": 9,
    "start_time": "2023-08-02T07:16:10.516Z"
   },
   {
    "duration": 5,
    "start_time": "2023-08-02T07:16:13.638Z"
   },
   {
    "duration": 4,
    "start_time": "2023-08-02T07:16:14.135Z"
   },
   {
    "duration": 10,
    "start_time": "2023-08-02T07:16:14.806Z"
   },
   {
    "duration": 5,
    "start_time": "2023-08-02T07:16:58.768Z"
   },
   {
    "duration": 3,
    "start_time": "2023-08-02T07:16:59.247Z"
   },
   {
    "duration": 10,
    "start_time": "2023-08-02T07:16:59.820Z"
   },
   {
    "duration": 50,
    "start_time": "2023-08-02T07:37:28.323Z"
   },
   {
    "duration": 10,
    "start_time": "2023-08-02T07:37:28.893Z"
   },
   {
    "duration": 4,
    "start_time": "2023-08-02T07:37:29.399Z"
   },
   {
    "duration": 12,
    "start_time": "2023-08-02T07:37:29.847Z"
   },
   {
    "duration": 28,
    "start_time": "2023-08-02T07:37:30.280Z"
   },
   {
    "duration": 9,
    "start_time": "2023-08-02T07:37:30.737Z"
   },
   {
    "duration": 11,
    "start_time": "2023-08-02T07:37:31.154Z"
   },
   {
    "duration": 5,
    "start_time": "2023-08-02T07:37:31.547Z"
   },
   {
    "duration": 11,
    "start_time": "2023-08-02T07:37:31.991Z"
   },
   {
    "duration": 13,
    "start_time": "2023-08-02T07:37:32.422Z"
   },
   {
    "duration": 5,
    "start_time": "2023-08-02T07:37:32.783Z"
   },
   {
    "duration": 201,
    "start_time": "2023-08-02T07:38:57.735Z"
   },
   {
    "duration": 490,
    "start_time": "2023-08-02T07:39:09.497Z"
   },
   {
    "duration": 302,
    "start_time": "2023-08-02T07:39:32.376Z"
   },
   {
    "duration": 346,
    "start_time": "2023-08-02T07:40:27.109Z"
   },
   {
    "duration": 314,
    "start_time": "2023-08-02T07:42:11.840Z"
   },
   {
    "duration": 270,
    "start_time": "2023-08-02T07:46:42.015Z"
   },
   {
    "duration": 258,
    "start_time": "2023-08-02T07:47:45.539Z"
   },
   {
    "duration": 236,
    "start_time": "2023-08-02T07:48:19.319Z"
   },
   {
    "duration": 217,
    "start_time": "2023-08-02T07:49:13.521Z"
   },
   {
    "duration": 343,
    "start_time": "2023-08-02T07:49:37.844Z"
   },
   {
    "duration": 296,
    "start_time": "2023-08-02T08:02:16.181Z"
   },
   {
    "duration": 222,
    "start_time": "2023-08-02T08:02:18.141Z"
   },
   {
    "duration": 161,
    "start_time": "2023-08-02T08:02:20.835Z"
   },
   {
    "duration": 155,
    "start_time": "2023-08-02T08:02:23.470Z"
   },
   {
    "duration": 7,
    "start_time": "2023-08-02T08:02:29.081Z"
   },
   {
    "duration": 167,
    "start_time": "2023-08-02T08:02:32.612Z"
   },
   {
    "duration": 6,
    "start_time": "2023-08-02T08:02:36.809Z"
   },
   {
    "duration": 7,
    "start_time": "2023-08-02T08:02:38.867Z"
   },
   {
    "duration": 8,
    "start_time": "2023-08-02T08:02:39.332Z"
   },
   {
    "duration": 285,
    "start_time": "2023-08-02T08:02:39.998Z"
   },
   {
    "duration": 31,
    "start_time": "2023-08-02T08:02:40.779Z"
   },
   {
    "duration": 157,
    "start_time": "2023-08-02T08:02:41.302Z"
   },
   {
    "duration": 12,
    "start_time": "2023-08-02T08:02:46.097Z"
   },
   {
    "duration": 33,
    "start_time": "2023-08-02T08:02:48.404Z"
   },
   {
    "duration": 13,
    "start_time": "2023-08-02T08:02:54.676Z"
   },
   {
    "duration": 174,
    "start_time": "2023-08-02T08:14:19.002Z"
   },
   {
    "duration": 158,
    "start_time": "2023-08-02T08:21:51.377Z"
   },
   {
    "duration": 11,
    "start_time": "2023-08-02T08:21:54.911Z"
   },
   {
    "duration": 51,
    "start_time": "2023-08-02T09:13:40.662Z"
   },
   {
    "duration": 14,
    "start_time": "2023-08-02T09:13:45.212Z"
   },
   {
    "duration": 3,
    "start_time": "2023-08-02T09:16:43.249Z"
   },
   {
    "duration": 58,
    "start_time": "2023-08-02T09:16:43.254Z"
   },
   {
    "duration": 27,
    "start_time": "2023-08-02T09:16:43.314Z"
   },
   {
    "duration": 33,
    "start_time": "2023-08-02T09:16:43.343Z"
   },
   {
    "duration": 28,
    "start_time": "2023-08-02T09:16:43.380Z"
   },
   {
    "duration": 29,
    "start_time": "2023-08-02T09:16:43.410Z"
   },
   {
    "duration": 30,
    "start_time": "2023-08-02T09:16:43.441Z"
   },
   {
    "duration": 34,
    "start_time": "2023-08-02T09:16:43.474Z"
   },
   {
    "duration": 35,
    "start_time": "2023-08-02T09:16:43.509Z"
   },
   {
    "duration": 38,
    "start_time": "2023-08-02T09:16:43.546Z"
   },
   {
    "duration": 36,
    "start_time": "2023-08-02T09:16:43.589Z"
   },
   {
    "duration": 88,
    "start_time": "2023-08-02T09:16:43.627Z"
   },
   {
    "duration": 12,
    "start_time": "2023-08-02T09:16:43.717Z"
   },
   {
    "duration": 36,
    "start_time": "2023-08-02T09:16:43.731Z"
   },
   {
    "duration": 39,
    "start_time": "2023-08-02T09:16:43.769Z"
   },
   {
    "duration": 69,
    "start_time": "2023-08-02T09:16:43.809Z"
   },
   {
    "duration": 56,
    "start_time": "2023-08-02T09:16:43.883Z"
   },
   {
    "duration": 53,
    "start_time": "2023-08-02T09:16:43.942Z"
   },
   {
    "duration": 38,
    "start_time": "2023-08-02T09:16:43.998Z"
   },
   {
    "duration": 45,
    "start_time": "2023-08-02T09:16:44.038Z"
   },
   {
    "duration": 70,
    "start_time": "2023-08-02T09:16:44.086Z"
   },
   {
    "duration": 54,
    "start_time": "2023-08-02T09:16:44.158Z"
   },
   {
    "duration": 36,
    "start_time": "2023-08-02T09:16:44.214Z"
   },
   {
    "duration": 576,
    "start_time": "2023-08-02T09:16:44.252Z"
   },
   {
    "duration": 252,
    "start_time": "2023-08-02T09:16:44.830Z"
   },
   {
    "duration": 335,
    "start_time": "2023-08-02T09:16:45.084Z"
   },
   {
    "duration": 275,
    "start_time": "2023-08-02T09:16:45.421Z"
   },
   {
    "duration": 253,
    "start_time": "2023-08-02T09:16:45.698Z"
   },
   {
    "duration": 182,
    "start_time": "2023-08-02T09:16:45.954Z"
   },
   {
    "duration": 206,
    "start_time": "2023-08-02T09:16:46.138Z"
   },
   {
    "duration": 6,
    "start_time": "2023-08-02T09:16:46.347Z"
   },
   {
    "duration": 256,
    "start_time": "2023-08-02T09:16:46.354Z"
   },
   {
    "duration": 7,
    "start_time": "2023-08-02T09:16:46.612Z"
   },
   {
    "duration": 40,
    "start_time": "2023-08-02T09:16:46.621Z"
   },
   {
    "duration": 76,
    "start_time": "2023-08-02T09:16:46.664Z"
   },
   {
    "duration": 279,
    "start_time": "2023-08-02T09:16:46.743Z"
   },
   {
    "duration": 32,
    "start_time": "2023-08-02T09:16:47.024Z"
   },
   {
    "duration": 215,
    "start_time": "2023-08-02T09:16:47.058Z"
   },
   {
    "duration": 19,
    "start_time": "2023-08-02T09:16:47.275Z"
   },
   {
    "duration": 109,
    "start_time": "2023-08-02T09:16:47.297Z"
   },
   {
    "duration": 16,
    "start_time": "2023-08-02T09:16:47.408Z"
   },
   {
    "duration": 4,
    "start_time": "2023-08-02T09:46:55.102Z"
   },
   {
    "duration": 32,
    "start_time": "2023-08-02T09:46:55.107Z"
   },
   {
    "duration": 10,
    "start_time": "2023-08-02T09:46:55.141Z"
   },
   {
    "duration": 7,
    "start_time": "2023-08-02T09:46:55.152Z"
   },
   {
    "duration": 19,
    "start_time": "2023-08-02T09:46:55.161Z"
   },
   {
    "duration": 12,
    "start_time": "2023-08-02T09:46:55.182Z"
   },
   {
    "duration": 11,
    "start_time": "2023-08-02T09:46:55.196Z"
   },
   {
    "duration": 15,
    "start_time": "2023-08-02T09:46:55.209Z"
   },
   {
    "duration": 7,
    "start_time": "2023-08-02T09:46:55.225Z"
   },
   {
    "duration": 5,
    "start_time": "2023-08-02T09:46:55.233Z"
   },
   {
    "duration": 11,
    "start_time": "2023-08-02T09:46:55.240Z"
   },
   {
    "duration": 46,
    "start_time": "2023-08-02T09:46:55.252Z"
   },
   {
    "duration": 7,
    "start_time": "2023-08-02T09:46:55.300Z"
   },
   {
    "duration": 8,
    "start_time": "2023-08-02T09:46:55.309Z"
   },
   {
    "duration": 22,
    "start_time": "2023-08-02T09:46:55.319Z"
   },
   {
    "duration": 24,
    "start_time": "2023-08-02T09:46:55.342Z"
   },
   {
    "duration": 7,
    "start_time": "2023-08-02T09:46:55.368Z"
   },
   {
    "duration": 19,
    "start_time": "2023-08-02T09:46:55.377Z"
   },
   {
    "duration": 11,
    "start_time": "2023-08-02T09:46:55.398Z"
   },
   {
    "duration": 12,
    "start_time": "2023-08-02T09:46:55.411Z"
   },
   {
    "duration": 15,
    "start_time": "2023-08-02T09:46:55.425Z"
   },
   {
    "duration": 9,
    "start_time": "2023-08-02T09:46:55.442Z"
   },
   {
    "duration": 20,
    "start_time": "2023-08-02T09:46:55.453Z"
   },
   {
    "duration": 492,
    "start_time": "2023-08-02T09:46:55.475Z"
   },
   {
    "duration": 262,
    "start_time": "2023-08-02T09:46:55.970Z"
   },
   {
    "duration": 492,
    "start_time": "2023-08-02T09:46:56.234Z"
   },
   {
    "duration": 246,
    "start_time": "2023-08-02T09:46:56.728Z"
   },
   {
    "duration": 240,
    "start_time": "2023-08-02T09:46:56.976Z"
   },
   {
    "duration": 129,
    "start_time": "2023-08-02T09:46:57.219Z"
   },
   {
    "duration": 172,
    "start_time": "2023-08-02T09:46:57.350Z"
   },
   {
    "duration": 5,
    "start_time": "2023-08-02T09:46:57.524Z"
   },
   {
    "duration": 209,
    "start_time": "2023-08-02T09:46:57.530Z"
   },
   {
    "duration": 5,
    "start_time": "2023-08-02T09:46:57.740Z"
   },
   {
    "duration": 20,
    "start_time": "2023-08-02T09:46:57.746Z"
   },
   {
    "duration": 41,
    "start_time": "2023-08-02T09:46:57.767Z"
   },
   {
    "duration": 214,
    "start_time": "2023-08-02T09:46:57.810Z"
   },
   {
    "duration": 27,
    "start_time": "2023-08-02T09:46:58.026Z"
   },
   {
    "duration": 179,
    "start_time": "2023-08-02T09:46:58.054Z"
   },
   {
    "duration": 11,
    "start_time": "2023-08-02T09:46:58.235Z"
   },
   {
    "duration": 62,
    "start_time": "2023-08-02T09:46:58.248Z"
   },
   {
    "duration": 13,
    "start_time": "2023-08-02T09:46:58.312Z"
   },
   {
    "duration": 3,
    "start_time": "2023-08-02T09:47:01.115Z"
   },
   {
    "duration": 52,
    "start_time": "2023-08-02T09:47:01.121Z"
   },
   {
    "duration": 24,
    "start_time": "2023-08-02T09:47:01.175Z"
   },
   {
    "duration": 71,
    "start_time": "2023-08-02T09:47:01.201Z"
   },
   {
    "duration": 69,
    "start_time": "2023-08-02T09:47:01.280Z"
   },
   {
    "duration": 60,
    "start_time": "2023-08-02T09:47:01.351Z"
   },
   {
    "duration": 34,
    "start_time": "2023-08-02T09:47:01.413Z"
   },
   {
    "duration": 65,
    "start_time": "2023-08-02T09:47:01.449Z"
   },
   {
    "duration": 49,
    "start_time": "2023-08-02T09:47:01.516Z"
   },
   {
    "duration": 58,
    "start_time": "2023-08-02T09:47:01.567Z"
   },
   {
    "duration": 52,
    "start_time": "2023-08-02T09:47:01.627Z"
   },
   {
    "duration": 55,
    "start_time": "2023-08-02T09:47:01.681Z"
   },
   {
    "duration": 9,
    "start_time": "2023-08-02T09:47:01.738Z"
   },
   {
    "duration": 52,
    "start_time": "2023-08-02T09:47:01.748Z"
   },
   {
    "duration": 50,
    "start_time": "2023-08-02T09:47:01.801Z"
   },
   {
    "duration": 88,
    "start_time": "2023-08-02T09:47:01.853Z"
   },
   {
    "duration": 104,
    "start_time": "2023-08-02T09:47:01.943Z"
   },
   {
    "duration": 40,
    "start_time": "2023-08-02T09:47:02.049Z"
   },
   {
    "duration": 26,
    "start_time": "2023-08-02T09:47:02.091Z"
   },
   {
    "duration": 46,
    "start_time": "2023-08-02T09:47:02.118Z"
   },
   {
    "duration": 60,
    "start_time": "2023-08-02T09:47:02.166Z"
   },
   {
    "duration": 65,
    "start_time": "2023-08-02T09:47:02.228Z"
   },
   {
    "duration": 30,
    "start_time": "2023-08-02T09:47:02.295Z"
   },
   {
    "duration": 537,
    "start_time": "2023-08-02T09:47:02.328Z"
   },
   {
    "duration": 246,
    "start_time": "2023-08-02T09:47:02.870Z"
   },
   {
    "duration": 320,
    "start_time": "2023-08-02T09:47:03.117Z"
   },
   {
    "duration": 257,
    "start_time": "2023-08-02T09:47:03.438Z"
   },
   {
    "duration": 242,
    "start_time": "2023-08-02T09:47:03.696Z"
   },
   {
    "duration": 146,
    "start_time": "2023-08-02T09:47:03.940Z"
   },
   {
    "duration": 173,
    "start_time": "2023-08-02T09:47:04.088Z"
   },
   {
    "duration": 6,
    "start_time": "2023-08-02T09:47:04.270Z"
   },
   {
    "duration": 271,
    "start_time": "2023-08-02T09:47:04.279Z"
   },
   {
    "duration": 5,
    "start_time": "2023-08-02T09:47:04.551Z"
   },
   {
    "duration": 17,
    "start_time": "2023-08-02T09:47:04.557Z"
   },
   {
    "duration": 19,
    "start_time": "2023-08-02T09:47:04.576Z"
   },
   {
    "duration": 206,
    "start_time": "2023-08-02T09:47:04.596Z"
   },
   {
    "duration": 30,
    "start_time": "2023-08-02T09:47:04.804Z"
   },
   {
    "duration": 179,
    "start_time": "2023-08-02T09:47:04.835Z"
   },
   {
    "duration": 10,
    "start_time": "2023-08-02T09:47:05.016Z"
   },
   {
    "duration": 47,
    "start_time": "2023-08-02T09:47:05.028Z"
   },
   {
    "duration": 19,
    "start_time": "2023-08-02T09:47:05.078Z"
   },
   {
    "duration": 3,
    "start_time": "2023-08-02T09:47:27.851Z"
   },
   {
    "duration": 29,
    "start_time": "2023-08-02T09:47:28.564Z"
   },
   {
    "duration": 11,
    "start_time": "2023-08-02T09:47:28.920Z"
   },
   {
    "duration": 4,
    "start_time": "2023-08-02T09:47:29.635Z"
   },
   {
    "duration": 9,
    "start_time": "2023-08-02T09:47:30.328Z"
   },
   {
    "duration": 4,
    "start_time": "2023-08-02T09:47:31.640Z"
   },
   {
    "duration": 3,
    "start_time": "2023-08-02T09:47:32.000Z"
   },
   {
    "duration": 13,
    "start_time": "2023-08-02T09:47:32.382Z"
   },
   {
    "duration": 4,
    "start_time": "2023-08-02T09:47:33.901Z"
   },
   {
    "duration": 4,
    "start_time": "2023-08-02T09:47:34.272Z"
   },
   {
    "duration": 10,
    "start_time": "2023-08-02T09:47:34.607Z"
   },
   {
    "duration": 50,
    "start_time": "2023-08-02T09:47:38.046Z"
   },
   {
    "duration": 8,
    "start_time": "2023-08-02T09:47:38.398Z"
   },
   {
    "duration": 4,
    "start_time": "2023-08-02T09:47:38.739Z"
   },
   {
    "duration": 10,
    "start_time": "2023-08-02T09:47:39.101Z"
   },
   {
    "duration": 29,
    "start_time": "2023-08-02T09:47:39.453Z"
   },
   {
    "duration": 10,
    "start_time": "2023-08-02T09:47:39.791Z"
   },
   {
    "duration": 11,
    "start_time": "2023-08-02T09:47:40.130Z"
   },
   {
    "duration": 7,
    "start_time": "2023-08-02T09:47:40.473Z"
   },
   {
    "duration": 17,
    "start_time": "2023-08-02T09:47:40.818Z"
   },
   {
    "duration": 11,
    "start_time": "2023-08-02T09:47:41.144Z"
   },
   {
    "duration": 6,
    "start_time": "2023-08-02T09:47:41.473Z"
   },
   {
    "duration": 8,
    "start_time": "2023-08-02T09:47:47.590Z"
   },
   {
    "duration": 505,
    "start_time": "2023-08-02T09:47:48.194Z"
   },
   {
    "duration": 228,
    "start_time": "2023-08-02T09:47:50.292Z"
   },
   {
    "duration": 322,
    "start_time": "2023-08-02T09:47:52.620Z"
   },
   {
    "duration": 233,
    "start_time": "2023-08-02T09:47:54.594Z"
   },
   {
    "duration": 212,
    "start_time": "2023-08-02T09:47:56.144Z"
   },
   {
    "duration": 144,
    "start_time": "2023-08-02T09:47:57.694Z"
   },
   {
    "duration": 171,
    "start_time": "2023-08-02T09:47:58.109Z"
   },
   {
    "duration": 6,
    "start_time": "2023-08-02T09:47:59.518Z"
   },
   {
    "duration": 175,
    "start_time": "2023-08-02T09:48:00.878Z"
   },
   {
    "duration": 6,
    "start_time": "2023-08-02T09:48:02.186Z"
   },
   {
    "duration": 12,
    "start_time": "2023-08-02T09:48:03.568Z"
   },
   {
    "duration": 9,
    "start_time": "2023-08-02T09:48:03.916Z"
   },
   {
    "duration": 211,
    "start_time": "2023-08-02T09:48:04.288Z"
   },
   {
    "duration": 42,
    "start_time": "2023-08-02T09:48:04.626Z"
   },
   {
    "duration": 170,
    "start_time": "2023-08-02T09:48:04.982Z"
   },
   {
    "duration": 11,
    "start_time": "2023-08-02T09:48:07.042Z"
   },
   {
    "duration": 43,
    "start_time": "2023-08-02T09:48:08.471Z"
   },
   {
    "duration": 16,
    "start_time": "2023-08-02T09:48:09.837Z"
   }
  ],
  "kernelspec": {
   "display_name": "Python 3 (ipykernel)",
   "language": "python",
   "name": "python3"
  },
  "language_info": {
   "codemirror_mode": {
    "name": "ipython",
    "version": 3
   },
   "file_extension": ".py",
   "mimetype": "text/x-python",
   "name": "python",
   "nbconvert_exporter": "python",
   "pygments_lexer": "ipython3",
   "version": "3.11.3"
  },
  "toc": {
   "base_numbering": 1,
   "nav_menu": {},
   "number_sections": true,
   "sideBar": true,
   "skip_h1_title": true,
   "title_cell": "Table of Contents",
   "title_sidebar": "Contents",
   "toc_cell": false,
   "toc_position": {},
   "toc_section_display": true,
   "toc_window_display": false
  }
 },
 "nbformat": 4,
 "nbformat_minor": 2
}
