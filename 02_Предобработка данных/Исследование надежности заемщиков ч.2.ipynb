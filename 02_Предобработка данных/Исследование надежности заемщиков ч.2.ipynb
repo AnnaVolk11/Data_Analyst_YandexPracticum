{
 "cells": [
  {
   "cell_type": "markdown",
   "id": "386f2ae7",
   "metadata": {
    "deletable": false,
    "editable": false,
    "id": "386f2ae7"
   },
   "source": [
    "# Исследование надежности заемщиков\n"
   ]
  },
  {
   "cell_type": "markdown",
   "id": "ffe86f65",
   "metadata": {
    "deletable": false,
    "editable": false,
    "id": "ffe86f65"
   },
   "source": [
    "Во второй части проекта вы выполните шаги 3 и 4. Их вручную проверит ревьюер.\n",
    "Чтобы вам не пришлось писать код заново для шагов 1 и 2, мы добавили авторские решения в ячейки с кодом. \n",
    "\n"
   ]
  },
  {
   "cell_type": "markdown",
   "id": "26613308",
   "metadata": {
    "deletable": false,
    "editable": false,
    "id": "26613308"
   },
   "source": [
    "## Откройте таблицу и изучите общую информацию о данных"
   ]
  },
  {
   "cell_type": "markdown",
   "id": "3c9f838e",
   "metadata": {
    "deletable": false,
    "editable": false,
    "id": "3c9f838e"
   },
   "source": [
    "**Задание 1. Импортируйте библиотеку pandas. Считайте данные из csv-файла в датафрейм и сохраните в переменную `data`. Путь к файлу:**\n",
    "\n",
    "`/datasets/data.csv`"
   ]
  },
  {
   "cell_type": "code",
   "execution_count": 1,
   "id": "77a68a90",
   "metadata": {
    "deletable": false,
    "id": "77a68a90"
   },
   "outputs": [],
   "source": [
    "import pandas as pd\n",
    "\n",
    "try:\n",
    "    data = pd.read_csv('/datasets/data.csv')\n",
    "except:\n",
    "    data = pd.read_csv('https://code.s3.yandex.net/datasets/data.csv')"
   ]
  },
  {
   "cell_type": "markdown",
   "id": "45365635",
   "metadata": {
    "deletable": false,
    "editable": false,
    "id": "45365635"
   },
   "source": [
    "**Задание 2. Выведите первые 20 строчек датафрейма `data` на экран.**"
   ]
  },
  {
   "cell_type": "code",
   "execution_count": 2,
   "id": "b0451a9a",
   "metadata": {
    "deletable": false,
    "id": "b0451a9a",
    "outputId": "1a8f3ef2-d323-4ec2-ddf7-89670b5944c4"
   },
   "outputs": [
    {
     "data": {
      "text/html": [
       "<div>\n",
       "<style scoped>\n",
       "    .dataframe tbody tr th:only-of-type {\n",
       "        vertical-align: middle;\n",
       "    }\n",
       "\n",
       "    .dataframe tbody tr th {\n",
       "        vertical-align: top;\n",
       "    }\n",
       "\n",
       "    .dataframe thead th {\n",
       "        text-align: right;\n",
       "    }\n",
       "</style>\n",
       "<table border=\"1\" class=\"dataframe\">\n",
       "  <thead>\n",
       "    <tr style=\"text-align: right;\">\n",
       "      <th></th>\n",
       "      <th>children</th>\n",
       "      <th>days_employed</th>\n",
       "      <th>dob_years</th>\n",
       "      <th>education</th>\n",
       "      <th>education_id</th>\n",
       "      <th>family_status</th>\n",
       "      <th>family_status_id</th>\n",
       "      <th>gender</th>\n",
       "      <th>income_type</th>\n",
       "      <th>debt</th>\n",
       "      <th>total_income</th>\n",
       "      <th>purpose</th>\n",
       "    </tr>\n",
       "  </thead>\n",
       "  <tbody>\n",
       "    <tr>\n",
       "      <th>0</th>\n",
       "      <td>1</td>\n",
       "      <td>-8437.673028</td>\n",
       "      <td>42</td>\n",
       "      <td>высшее</td>\n",
       "      <td>0</td>\n",
       "      <td>женат / замужем</td>\n",
       "      <td>0</td>\n",
       "      <td>F</td>\n",
       "      <td>сотрудник</td>\n",
       "      <td>0</td>\n",
       "      <td>253875.639453</td>\n",
       "      <td>покупка жилья</td>\n",
       "    </tr>\n",
       "    <tr>\n",
       "      <th>1</th>\n",
       "      <td>1</td>\n",
       "      <td>-4024.803754</td>\n",
       "      <td>36</td>\n",
       "      <td>среднее</td>\n",
       "      <td>1</td>\n",
       "      <td>женат / замужем</td>\n",
       "      <td>0</td>\n",
       "      <td>F</td>\n",
       "      <td>сотрудник</td>\n",
       "      <td>0</td>\n",
       "      <td>112080.014102</td>\n",
       "      <td>приобретение автомобиля</td>\n",
       "    </tr>\n",
       "    <tr>\n",
       "      <th>2</th>\n",
       "      <td>0</td>\n",
       "      <td>-5623.422610</td>\n",
       "      <td>33</td>\n",
       "      <td>Среднее</td>\n",
       "      <td>1</td>\n",
       "      <td>женат / замужем</td>\n",
       "      <td>0</td>\n",
       "      <td>M</td>\n",
       "      <td>сотрудник</td>\n",
       "      <td>0</td>\n",
       "      <td>145885.952297</td>\n",
       "      <td>покупка жилья</td>\n",
       "    </tr>\n",
       "    <tr>\n",
       "      <th>3</th>\n",
       "      <td>3</td>\n",
       "      <td>-4124.747207</td>\n",
       "      <td>32</td>\n",
       "      <td>среднее</td>\n",
       "      <td>1</td>\n",
       "      <td>женат / замужем</td>\n",
       "      <td>0</td>\n",
       "      <td>M</td>\n",
       "      <td>сотрудник</td>\n",
       "      <td>0</td>\n",
       "      <td>267628.550329</td>\n",
       "      <td>дополнительное образование</td>\n",
       "    </tr>\n",
       "    <tr>\n",
       "      <th>4</th>\n",
       "      <td>0</td>\n",
       "      <td>340266.072047</td>\n",
       "      <td>53</td>\n",
       "      <td>среднее</td>\n",
       "      <td>1</td>\n",
       "      <td>гражданский брак</td>\n",
       "      <td>1</td>\n",
       "      <td>F</td>\n",
       "      <td>пенсионер</td>\n",
       "      <td>0</td>\n",
       "      <td>158616.077870</td>\n",
       "      <td>сыграть свадьбу</td>\n",
       "    </tr>\n",
       "    <tr>\n",
       "      <th>5</th>\n",
       "      <td>0</td>\n",
       "      <td>-926.185831</td>\n",
       "      <td>27</td>\n",
       "      <td>высшее</td>\n",
       "      <td>0</td>\n",
       "      <td>гражданский брак</td>\n",
       "      <td>1</td>\n",
       "      <td>M</td>\n",
       "      <td>компаньон</td>\n",
       "      <td>0</td>\n",
       "      <td>255763.565419</td>\n",
       "      <td>покупка жилья</td>\n",
       "    </tr>\n",
       "    <tr>\n",
       "      <th>6</th>\n",
       "      <td>0</td>\n",
       "      <td>-2879.202052</td>\n",
       "      <td>43</td>\n",
       "      <td>высшее</td>\n",
       "      <td>0</td>\n",
       "      <td>женат / замужем</td>\n",
       "      <td>0</td>\n",
       "      <td>F</td>\n",
       "      <td>компаньон</td>\n",
       "      <td>0</td>\n",
       "      <td>240525.971920</td>\n",
       "      <td>операции с жильем</td>\n",
       "    </tr>\n",
       "    <tr>\n",
       "      <th>7</th>\n",
       "      <td>0</td>\n",
       "      <td>-152.779569</td>\n",
       "      <td>50</td>\n",
       "      <td>СРЕДНЕЕ</td>\n",
       "      <td>1</td>\n",
       "      <td>женат / замужем</td>\n",
       "      <td>0</td>\n",
       "      <td>M</td>\n",
       "      <td>сотрудник</td>\n",
       "      <td>0</td>\n",
       "      <td>135823.934197</td>\n",
       "      <td>образование</td>\n",
       "    </tr>\n",
       "    <tr>\n",
       "      <th>8</th>\n",
       "      <td>2</td>\n",
       "      <td>-6929.865299</td>\n",
       "      <td>35</td>\n",
       "      <td>ВЫСШЕЕ</td>\n",
       "      <td>0</td>\n",
       "      <td>гражданский брак</td>\n",
       "      <td>1</td>\n",
       "      <td>F</td>\n",
       "      <td>сотрудник</td>\n",
       "      <td>0</td>\n",
       "      <td>95856.832424</td>\n",
       "      <td>на проведение свадьбы</td>\n",
       "    </tr>\n",
       "    <tr>\n",
       "      <th>9</th>\n",
       "      <td>0</td>\n",
       "      <td>-2188.756445</td>\n",
       "      <td>41</td>\n",
       "      <td>среднее</td>\n",
       "      <td>1</td>\n",
       "      <td>женат / замужем</td>\n",
       "      <td>0</td>\n",
       "      <td>M</td>\n",
       "      <td>сотрудник</td>\n",
       "      <td>0</td>\n",
       "      <td>144425.938277</td>\n",
       "      <td>покупка жилья для семьи</td>\n",
       "    </tr>\n",
       "    <tr>\n",
       "      <th>10</th>\n",
       "      <td>2</td>\n",
       "      <td>-4171.483647</td>\n",
       "      <td>36</td>\n",
       "      <td>высшее</td>\n",
       "      <td>0</td>\n",
       "      <td>женат / замужем</td>\n",
       "      <td>0</td>\n",
       "      <td>M</td>\n",
       "      <td>компаньон</td>\n",
       "      <td>0</td>\n",
       "      <td>113943.491460</td>\n",
       "      <td>покупка недвижимости</td>\n",
       "    </tr>\n",
       "    <tr>\n",
       "      <th>11</th>\n",
       "      <td>0</td>\n",
       "      <td>-792.701887</td>\n",
       "      <td>40</td>\n",
       "      <td>среднее</td>\n",
       "      <td>1</td>\n",
       "      <td>женат / замужем</td>\n",
       "      <td>0</td>\n",
       "      <td>F</td>\n",
       "      <td>сотрудник</td>\n",
       "      <td>0</td>\n",
       "      <td>77069.234271</td>\n",
       "      <td>покупка коммерческой недвижимости</td>\n",
       "    </tr>\n",
       "    <tr>\n",
       "      <th>12</th>\n",
       "      <td>0</td>\n",
       "      <td>NaN</td>\n",
       "      <td>65</td>\n",
       "      <td>среднее</td>\n",
       "      <td>1</td>\n",
       "      <td>гражданский брак</td>\n",
       "      <td>1</td>\n",
       "      <td>M</td>\n",
       "      <td>пенсионер</td>\n",
       "      <td>0</td>\n",
       "      <td>NaN</td>\n",
       "      <td>сыграть свадьбу</td>\n",
       "    </tr>\n",
       "    <tr>\n",
       "      <th>13</th>\n",
       "      <td>0</td>\n",
       "      <td>-1846.641941</td>\n",
       "      <td>54</td>\n",
       "      <td>неоконченное высшее</td>\n",
       "      <td>2</td>\n",
       "      <td>женат / замужем</td>\n",
       "      <td>0</td>\n",
       "      <td>F</td>\n",
       "      <td>сотрудник</td>\n",
       "      <td>0</td>\n",
       "      <td>130458.228857</td>\n",
       "      <td>приобретение автомобиля</td>\n",
       "    </tr>\n",
       "    <tr>\n",
       "      <th>14</th>\n",
       "      <td>0</td>\n",
       "      <td>-1844.956182</td>\n",
       "      <td>56</td>\n",
       "      <td>высшее</td>\n",
       "      <td>0</td>\n",
       "      <td>гражданский брак</td>\n",
       "      <td>1</td>\n",
       "      <td>F</td>\n",
       "      <td>компаньон</td>\n",
       "      <td>1</td>\n",
       "      <td>165127.911772</td>\n",
       "      <td>покупка жилой недвижимости</td>\n",
       "    </tr>\n",
       "    <tr>\n",
       "      <th>15</th>\n",
       "      <td>1</td>\n",
       "      <td>-972.364419</td>\n",
       "      <td>26</td>\n",
       "      <td>среднее</td>\n",
       "      <td>1</td>\n",
       "      <td>женат / замужем</td>\n",
       "      <td>0</td>\n",
       "      <td>F</td>\n",
       "      <td>сотрудник</td>\n",
       "      <td>0</td>\n",
       "      <td>116820.904450</td>\n",
       "      <td>строительство собственной недвижимости</td>\n",
       "    </tr>\n",
       "    <tr>\n",
       "      <th>16</th>\n",
       "      <td>0</td>\n",
       "      <td>-1719.934226</td>\n",
       "      <td>35</td>\n",
       "      <td>среднее</td>\n",
       "      <td>1</td>\n",
       "      <td>женат / замужем</td>\n",
       "      <td>0</td>\n",
       "      <td>F</td>\n",
       "      <td>сотрудник</td>\n",
       "      <td>0</td>\n",
       "      <td>289202.704229</td>\n",
       "      <td>недвижимость</td>\n",
       "    </tr>\n",
       "    <tr>\n",
       "      <th>17</th>\n",
       "      <td>0</td>\n",
       "      <td>-2369.999720</td>\n",
       "      <td>33</td>\n",
       "      <td>высшее</td>\n",
       "      <td>0</td>\n",
       "      <td>гражданский брак</td>\n",
       "      <td>1</td>\n",
       "      <td>M</td>\n",
       "      <td>сотрудник</td>\n",
       "      <td>0</td>\n",
       "      <td>90410.586745</td>\n",
       "      <td>строительство недвижимости</td>\n",
       "    </tr>\n",
       "    <tr>\n",
       "      <th>18</th>\n",
       "      <td>0</td>\n",
       "      <td>400281.136913</td>\n",
       "      <td>53</td>\n",
       "      <td>среднее</td>\n",
       "      <td>1</td>\n",
       "      <td>вдовец / вдова</td>\n",
       "      <td>2</td>\n",
       "      <td>F</td>\n",
       "      <td>пенсионер</td>\n",
       "      <td>0</td>\n",
       "      <td>56823.777243</td>\n",
       "      <td>на покупку подержанного автомобиля</td>\n",
       "    </tr>\n",
       "    <tr>\n",
       "      <th>19</th>\n",
       "      <td>0</td>\n",
       "      <td>-10038.818549</td>\n",
       "      <td>48</td>\n",
       "      <td>СРЕДНЕЕ</td>\n",
       "      <td>1</td>\n",
       "      <td>в разводе</td>\n",
       "      <td>3</td>\n",
       "      <td>F</td>\n",
       "      <td>сотрудник</td>\n",
       "      <td>0</td>\n",
       "      <td>242831.107982</td>\n",
       "      <td>на покупку своего автомобиля</td>\n",
       "    </tr>\n",
       "  </tbody>\n",
       "</table>\n",
       "</div>"
      ],
      "text/plain": [
       "    children  days_employed  dob_years            education  education_id  \\\n",
       "0          1   -8437.673028         42               высшее             0   \n",
       "1          1   -4024.803754         36              среднее             1   \n",
       "2          0   -5623.422610         33              Среднее             1   \n",
       "3          3   -4124.747207         32              среднее             1   \n",
       "4          0  340266.072047         53              среднее             1   \n",
       "5          0    -926.185831         27               высшее             0   \n",
       "6          0   -2879.202052         43               высшее             0   \n",
       "7          0    -152.779569         50              СРЕДНЕЕ             1   \n",
       "8          2   -6929.865299         35               ВЫСШЕЕ             0   \n",
       "9          0   -2188.756445         41              среднее             1   \n",
       "10         2   -4171.483647         36               высшее             0   \n",
       "11         0    -792.701887         40              среднее             1   \n",
       "12         0            NaN         65              среднее             1   \n",
       "13         0   -1846.641941         54  неоконченное высшее             2   \n",
       "14         0   -1844.956182         56               высшее             0   \n",
       "15         1    -972.364419         26              среднее             1   \n",
       "16         0   -1719.934226         35              среднее             1   \n",
       "17         0   -2369.999720         33               высшее             0   \n",
       "18         0  400281.136913         53              среднее             1   \n",
       "19         0  -10038.818549         48              СРЕДНЕЕ             1   \n",
       "\n",
       "       family_status  family_status_id gender income_type  debt  \\\n",
       "0    женат / замужем                 0      F   сотрудник     0   \n",
       "1    женат / замужем                 0      F   сотрудник     0   \n",
       "2    женат / замужем                 0      M   сотрудник     0   \n",
       "3    женат / замужем                 0      M   сотрудник     0   \n",
       "4   гражданский брак                 1      F   пенсионер     0   \n",
       "5   гражданский брак                 1      M   компаньон     0   \n",
       "6    женат / замужем                 0      F   компаньон     0   \n",
       "7    женат / замужем                 0      M   сотрудник     0   \n",
       "8   гражданский брак                 1      F   сотрудник     0   \n",
       "9    женат / замужем                 0      M   сотрудник     0   \n",
       "10   женат / замужем                 0      M   компаньон     0   \n",
       "11   женат / замужем                 0      F   сотрудник     0   \n",
       "12  гражданский брак                 1      M   пенсионер     0   \n",
       "13   женат / замужем                 0      F   сотрудник     0   \n",
       "14  гражданский брак                 1      F   компаньон     1   \n",
       "15   женат / замужем                 0      F   сотрудник     0   \n",
       "16   женат / замужем                 0      F   сотрудник     0   \n",
       "17  гражданский брак                 1      M   сотрудник     0   \n",
       "18    вдовец / вдова                 2      F   пенсионер     0   \n",
       "19         в разводе                 3      F   сотрудник     0   \n",
       "\n",
       "     total_income                                 purpose  \n",
       "0   253875.639453                           покупка жилья  \n",
       "1   112080.014102                 приобретение автомобиля  \n",
       "2   145885.952297                           покупка жилья  \n",
       "3   267628.550329              дополнительное образование  \n",
       "4   158616.077870                         сыграть свадьбу  \n",
       "5   255763.565419                           покупка жилья  \n",
       "6   240525.971920                       операции с жильем  \n",
       "7   135823.934197                             образование  \n",
       "8    95856.832424                   на проведение свадьбы  \n",
       "9   144425.938277                 покупка жилья для семьи  \n",
       "10  113943.491460                    покупка недвижимости  \n",
       "11   77069.234271       покупка коммерческой недвижимости  \n",
       "12            NaN                         сыграть свадьбу  \n",
       "13  130458.228857                 приобретение автомобиля  \n",
       "14  165127.911772              покупка жилой недвижимости  \n",
       "15  116820.904450  строительство собственной недвижимости  \n",
       "16  289202.704229                            недвижимость  \n",
       "17   90410.586745              строительство недвижимости  \n",
       "18   56823.777243      на покупку подержанного автомобиля  \n",
       "19  242831.107982            на покупку своего автомобиля  "
      ]
     },
     "execution_count": 2,
     "metadata": {},
     "output_type": "execute_result"
    }
   ],
   "source": [
    "data.head(20)"
   ]
  },
  {
   "cell_type": "markdown",
   "id": "0ed8f27f",
   "metadata": {
    "deletable": false,
    "editable": false,
    "id": "0ed8f27f"
   },
   "source": [
    "**Задание 3. Выведите основную информацию о датафрейме с помощью метода `info()`.**"
   ]
  },
  {
   "cell_type": "code",
   "execution_count": 3,
   "id": "ab3f863b",
   "metadata": {
    "deletable": false,
    "id": "ab3f863b",
    "outputId": "15376089-8dad-46c9-b520-c05248d43158"
   },
   "outputs": [
    {
     "name": "stdout",
     "output_type": "stream",
     "text": [
      "<class 'pandas.core.frame.DataFrame'>\n",
      "RangeIndex: 21525 entries, 0 to 21524\n",
      "Data columns (total 12 columns):\n",
      " #   Column            Non-Null Count  Dtype  \n",
      "---  ------            --------------  -----  \n",
      " 0   children          21525 non-null  int64  \n",
      " 1   days_employed     19351 non-null  float64\n",
      " 2   dob_years         21525 non-null  int64  \n",
      " 3   education         21525 non-null  object \n",
      " 4   education_id      21525 non-null  int64  \n",
      " 5   family_status     21525 non-null  object \n",
      " 6   family_status_id  21525 non-null  int64  \n",
      " 7   gender            21525 non-null  object \n",
      " 8   income_type       21525 non-null  object \n",
      " 9   debt              21525 non-null  int64  \n",
      " 10  total_income      19351 non-null  float64\n",
      " 11  purpose           21525 non-null  object \n",
      "dtypes: float64(2), int64(5), object(5)\n",
      "memory usage: 2.0+ MB\n"
     ]
    }
   ],
   "source": [
    "data.info()"
   ]
  },
  {
   "cell_type": "markdown",
   "id": "60e3e22d",
   "metadata": {
    "deletable": false,
    "editable": false,
    "id": "60e3e22d"
   },
   "source": [
    "## Предобработка данных"
   ]
  },
  {
   "cell_type": "markdown",
   "id": "03dc170c",
   "metadata": {
    "deletable": false,
    "editable": false,
    "id": "03dc170c"
   },
   "source": [
    "### Удаление пропусков"
   ]
  },
  {
   "cell_type": "markdown",
   "id": "a4f54eef",
   "metadata": {
    "deletable": false,
    "editable": false,
    "id": "a4f54eef"
   },
   "source": [
    "**Задание 4. Выведите количество пропущенных значений для каждого столбца. Используйте комбинацию двух методов.**"
   ]
  },
  {
   "cell_type": "code",
   "execution_count": 4,
   "id": "2dc372b2",
   "metadata": {
    "deletable": false,
    "id": "2dc372b2",
    "outputId": "81f4d817-781c-465c-ed15-91ce4446810d"
   },
   "outputs": [
    {
     "data": {
      "text/plain": [
       "children               0\n",
       "days_employed       2174\n",
       "dob_years              0\n",
       "education              0\n",
       "education_id           0\n",
       "family_status          0\n",
       "family_status_id       0\n",
       "gender                 0\n",
       "income_type            0\n",
       "debt                   0\n",
       "total_income        2174\n",
       "purpose                0\n",
       "dtype: int64"
      ]
     },
     "execution_count": 4,
     "metadata": {},
     "output_type": "execute_result"
    }
   ],
   "source": [
    "data.isna().sum()"
   ]
  },
  {
   "cell_type": "markdown",
   "id": "14f011b1",
   "metadata": {
    "deletable": false,
    "editable": false,
    "id": "14f011b1"
   },
   "source": [
    "**Задание 5. В двух столбцах есть пропущенные значения. Один из них — `days_employed`. Пропуски в этом столбце вы обработаете на следующем этапе. Другой столбец с пропущенными значениями — `total_income` — хранит данные о доходах. На сумму дохода сильнее всего влияет тип занятости, поэтому заполнить пропуски в этом столбце нужно медианным значением по каждому типу из столбца `income_type`. Например, у человека с типом занятости `сотрудник` пропуск в столбце `total_income` должен быть заполнен медианным доходом среди всех записей с тем же типом.**"
   ]
  },
  {
   "cell_type": "code",
   "execution_count": 5,
   "id": "bdabfb6e",
   "metadata": {
    "deletable": false,
    "id": "bdabfb6e"
   },
   "outputs": [],
   "source": [
    "for t in data['income_type'].unique():\n",
    "    data.loc[(data['income_type'] == t) & (data['total_income'].isna()), 'total_income'] = \\\n",
    "    data.loc[(data['income_type'] == t), 'total_income'].median()"
   ]
  },
  {
   "cell_type": "markdown",
   "id": "5be34059",
   "metadata": {
    "deletable": false,
    "editable": false,
    "id": "5be34059"
   },
   "source": [
    "### Обработка аномальных значений"
   ]
  },
  {
   "cell_type": "markdown",
   "id": "a87606cb",
   "metadata": {
    "deletable": false,
    "editable": false,
    "id": "a87606cb"
   },
   "source": [
    "**Задание 6. В данных могут встречаться артефакты (аномалии) — значения, которые не отражают действительность и появились по какой-то ошибке. таким артефактом будет отрицательное количество дней трудового стажа в столбце `days_employed`. Для реальных данных это нормально. Обработайте значения в этом столбце: замените все отрицательные значения положительными с помощью метода `abs()`.**"
   ]
  },
  {
   "cell_type": "code",
   "execution_count": 6,
   "id": "020c46cc",
   "metadata": {
    "deletable": false,
    "id": "020c46cc"
   },
   "outputs": [],
   "source": [
    "data['days_employed'] = data['days_employed'].abs()"
   ]
  },
  {
   "cell_type": "markdown",
   "id": "45538a3a",
   "metadata": {
    "deletable": false,
    "editable": false,
    "id": "45538a3a"
   },
   "source": [
    "**Задание 7. Для каждого типа занятости выведите медианное значение трудового стажа `days_employed` в днях.**"
   ]
  },
  {
   "cell_type": "code",
   "execution_count": 7,
   "id": "cd3e6328",
   "metadata": {
    "deletable": false,
    "id": "cd3e6328",
    "outputId": "801ef80e-522b-4668-f34e-565af7432bcf"
   },
   "outputs": [
    {
     "data": {
      "text/plain": [
       "income_type\n",
       "безработный        366413.652744\n",
       "в декрете            3296.759962\n",
       "госслужащий          2689.368353\n",
       "компаньон            1547.382223\n",
       "пенсионер          365213.306266\n",
       "предприниматель       520.848083\n",
       "сотрудник            1574.202821\n",
       "студент               578.751554\n",
       "Name: days_employed, dtype: float64"
      ]
     },
     "execution_count": 7,
     "metadata": {},
     "output_type": "execute_result"
    }
   ],
   "source": [
    "data.groupby('income_type')['days_employed'].agg('median')"
   ]
  },
  {
   "cell_type": "markdown",
   "id": "90c5f058",
   "metadata": {
    "deletable": false,
    "editable": false,
    "id": "90c5f058"
   },
   "source": [
    "У двух типов (безработные и пенсионеры) получатся аномально большие значения. Исправить такие значения сложно, поэтому оставьте их как есть."
   ]
  },
  {
   "cell_type": "markdown",
   "id": "9652e50d",
   "metadata": {
    "deletable": false,
    "editable": false,
    "id": "9652e50d"
   },
   "source": [
    "**Задание 8. Выведите перечень уникальных значений столбца `children`.**"
   ]
  },
  {
   "cell_type": "code",
   "execution_count": 8,
   "id": "dbb37b8e",
   "metadata": {
    "deletable": false,
    "id": "dbb37b8e",
    "outputId": "6975b15c-7f95-4697-d16d-a0c79b657b03"
   },
   "outputs": [
    {
     "data": {
      "text/plain": [
       "array([ 1,  0,  3,  2, -1,  4, 20,  5], dtype=int64)"
      ]
     },
     "execution_count": 8,
     "metadata": {},
     "output_type": "execute_result"
    }
   ],
   "source": [
    "data['children'].unique()"
   ]
  },
  {
   "cell_type": "markdown",
   "id": "2b8b0715",
   "metadata": {
    "deletable": false,
    "editable": false,
    "id": "2b8b0715"
   },
   "source": [
    "**Задание 9. В столбце `children` есть два аномальных значения. Удалите строки, в которых встречаются такие аномальные значения из датафрейма `data`.**"
   ]
  },
  {
   "cell_type": "code",
   "execution_count": 9,
   "id": "20009df8",
   "metadata": {
    "deletable": false,
    "id": "20009df8"
   },
   "outputs": [],
   "source": [
    "data = data[(data['children'] != -1) & (data['children'] != 20)]"
   ]
  },
  {
   "cell_type": "markdown",
   "id": "8c6ac9f1",
   "metadata": {
    "deletable": false,
    "editable": false,
    "id": "8c6ac9f1"
   },
   "source": [
    "**Задание 10. Ещё раз выведите перечень уникальных значений столбца `children`, чтобы убедиться, что артефакты удалены.**"
   ]
  },
  {
   "cell_type": "code",
   "execution_count": 10,
   "id": "07337b81",
   "metadata": {
    "deletable": false,
    "id": "07337b81",
    "outputId": "b2097101-d49d-44d9-901b-32a65c9463d1"
   },
   "outputs": [
    {
     "data": {
      "text/plain": [
       "array([1, 0, 3, 2, 4, 5], dtype=int64)"
      ]
     },
     "execution_count": 10,
     "metadata": {},
     "output_type": "execute_result"
    }
   ],
   "source": [
    "data['children'].unique()"
   ]
  },
  {
   "cell_type": "markdown",
   "id": "ee3f52d4",
   "metadata": {
    "deletable": false,
    "editable": false,
    "id": "ee3f52d4"
   },
   "source": [
    "### Удаление пропусков (продолжение)"
   ]
  },
  {
   "cell_type": "markdown",
   "id": "a700b0e4",
   "metadata": {
    "deletable": false,
    "editable": false,
    "id": "a700b0e4"
   },
   "source": [
    "**Задание 11. Заполните пропуски в столбце `days_employed` медианными значениями по каждого типа занятости `income_type`.**"
   ]
  },
  {
   "cell_type": "code",
   "execution_count": 11,
   "id": "61946b83",
   "metadata": {
    "deletable": false,
    "id": "61946b83"
   },
   "outputs": [],
   "source": [
    "for t in data['income_type'].unique():\n",
    "    data.loc[(data['income_type'] == t) & (data['days_employed'].isna()), 'days_employed'] = \\\n",
    "    data.loc[(data['income_type'] == t), 'days_employed'].median()"
   ]
  },
  {
   "cell_type": "markdown",
   "id": "550dcd9b",
   "metadata": {
    "deletable": false,
    "editable": false,
    "id": "550dcd9b"
   },
   "source": [
    "**Задание 12. Убедитесь, что все пропуски заполнены. Проверьте себя и ещё раз выведите количество пропущенных значений для каждого столбца с помощью двух методов.**"
   ]
  },
  {
   "cell_type": "code",
   "execution_count": 12,
   "id": "937c7014",
   "metadata": {
    "deletable": false,
    "id": "937c7014",
    "outputId": "8da1e4e1-358e-4e87-98c9-f261bce0a7b2"
   },
   "outputs": [
    {
     "data": {
      "text/plain": [
       "children            0\n",
       "days_employed       0\n",
       "dob_years           0\n",
       "education           0\n",
       "education_id        0\n",
       "family_status       0\n",
       "family_status_id    0\n",
       "gender              0\n",
       "income_type         0\n",
       "debt                0\n",
       "total_income        0\n",
       "purpose             0\n",
       "dtype: int64"
      ]
     },
     "execution_count": 12,
     "metadata": {},
     "output_type": "execute_result"
    }
   ],
   "source": [
    "data.isna().sum()"
   ]
  },
  {
   "cell_type": "markdown",
   "id": "d522e295",
   "metadata": {
    "deletable": false,
    "editable": false,
    "id": "d522e295"
   },
   "source": [
    "### Изменение типов данных"
   ]
  },
  {
   "cell_type": "markdown",
   "id": "c229c581",
   "metadata": {
    "deletable": false,
    "editable": false,
    "id": "c229c581"
   },
   "source": [
    "**Задание 13. Замените вещественный тип данных в столбце `total_income` на целочисленный с помощью метода `astype()`.**"
   ]
  },
  {
   "cell_type": "code",
   "execution_count": 13,
   "id": "31036462",
   "metadata": {
    "deletable": false,
    "id": "31036462"
   },
   "outputs": [],
   "source": [
    "data['total_income'] = data['total_income'].astype(int)"
   ]
  },
  {
   "cell_type": "markdown",
   "id": "b8e3d1d9",
   "metadata": {
    "deletable": false,
    "editable": false,
    "id": "b8e3d1d9"
   },
   "source": [
    "### Обработка дубликатов"
   ]
  },
  {
   "cell_type": "markdown",
   "id": "9be53c49",
   "metadata": {
    "deletable": false,
    "editable": false,
    "id": "9be53c49"
   },
   "source": [
    "**Задание 14. Обработайте неявные дубликаты в столбце `education`. В этом столбце есть одни и те же значения, но записанные по-разному: с использованием заглавных и строчных букв. Приведите их к нижнему регистру.**"
   ]
  },
  {
   "cell_type": "code",
   "execution_count": 14,
   "id": "d89e73e1",
   "metadata": {
    "deletable": false,
    "id": "d89e73e1"
   },
   "outputs": [],
   "source": [
    "data['education'] = data['education'].str.lower()"
   ]
  },
  {
   "cell_type": "markdown",
   "id": "01d4500e",
   "metadata": {
    "deletable": false,
    "editable": false,
    "id": "01d4500e"
   },
   "source": [
    "**Задание 15. Выведите на экран количество строк-дубликатов в данных. Если такие строки присутствуют, удалите их.**"
   ]
  },
  {
   "cell_type": "code",
   "execution_count": 15,
   "id": "e10efb23",
   "metadata": {
    "deletable": false,
    "id": "e10efb23",
    "outputId": "9684deba-1934-42d1-99e1-cda61740f822"
   },
   "outputs": [
    {
     "data": {
      "text/plain": [
       "71"
      ]
     },
     "execution_count": 15,
     "metadata": {},
     "output_type": "execute_result"
    }
   ],
   "source": [
    "data.duplicated().sum()"
   ]
  },
  {
   "cell_type": "code",
   "execution_count": 16,
   "id": "df853f20",
   "metadata": {
    "deletable": false,
    "id": "df853f20"
   },
   "outputs": [],
   "source": [
    "data = data.drop_duplicates()"
   ]
  },
  {
   "cell_type": "markdown",
   "id": "627be38f",
   "metadata": {
    "deletable": false,
    "editable": false,
    "id": "627be38f"
   },
   "source": [
    "### Категоризация данных"
   ]
  },
  {
   "cell_type": "markdown",
   "id": "4684c3e0",
   "metadata": {
    "deletable": false,
    "editable": false,
    "id": "4684c3e0"
   },
   "source": [
    "**Задание 16. На основании диапазонов, указанных ниже, создайте в датафрейме `data` столбец `total_income_category` с категориями:**\n",
    "\n",
    "- 0–30000 — `'E'`;\n",
    "- 30001–50000 — `'D'`;\n",
    "- 50001–200000 — `'C'`;\n",
    "- 200001–1000000 — `'B'`;\n",
    "- 1000001 и выше — `'A'`.\n",
    "\n",
    "\n",
    "**Например, кредитополучателю с доходом 25000 нужно назначить категорию `'E'`, а клиенту, получающему 235000, — `'B'`. Используйте собственную функцию с именем `categorize_income()` и метод `apply()`.**"
   ]
  },
  {
   "cell_type": "code",
   "execution_count": 17,
   "id": "78965238",
   "metadata": {
    "deletable": false,
    "id": "78965238"
   },
   "outputs": [],
   "source": [
    "def categorize_income(income):\n",
    "    try:\n",
    "        if 0 <= income <= 30000:\n",
    "            return 'E'\n",
    "        elif 30001 <= income <= 50000:\n",
    "            return 'D'\n",
    "        elif 50001 <= income <= 200000:\n",
    "            return 'C'\n",
    "        elif 200001 <= income <= 1000000:\n",
    "            return 'B'\n",
    "        elif income >= 1000001:\n",
    "            return 'A'\n",
    "    except:\n",
    "        pass"
   ]
  },
  {
   "cell_type": "code",
   "execution_count": 18,
   "id": "0980ada1",
   "metadata": {
    "deletable": false,
    "id": "0980ada1"
   },
   "outputs": [],
   "source": [
    "data['total_income_category'] = data['total_income'].apply(categorize_income)"
   ]
  },
  {
   "cell_type": "markdown",
   "id": "9917bba0",
   "metadata": {
    "deletable": false,
    "editable": false,
    "id": "9917bba0"
   },
   "source": [
    "**Задание 17. Выведите на экран перечень уникальных целей взятия кредита из столбца `purpose`.**"
   ]
  },
  {
   "cell_type": "code",
   "execution_count": 19,
   "id": "ee07b65e",
   "metadata": {
    "deletable": false,
    "id": "ee07b65e",
    "outputId": "673c12d9-7d7e-4ae0-9812-c622c89dd244"
   },
   "outputs": [
    {
     "data": {
      "text/plain": [
       "array(['покупка жилья', 'приобретение автомобиля',\n",
       "       'дополнительное образование', 'сыграть свадьбу',\n",
       "       'операции с жильем', 'образование', 'на проведение свадьбы',\n",
       "       'покупка жилья для семьи', 'покупка недвижимости',\n",
       "       'покупка коммерческой недвижимости', 'покупка жилой недвижимости',\n",
       "       'строительство собственной недвижимости', 'недвижимость',\n",
       "       'строительство недвижимости', 'на покупку подержанного автомобиля',\n",
       "       'на покупку своего автомобиля',\n",
       "       'операции с коммерческой недвижимостью',\n",
       "       'строительство жилой недвижимости', 'жилье',\n",
       "       'операции со своей недвижимостью', 'автомобили',\n",
       "       'заняться образованием', 'сделка с подержанным автомобилем',\n",
       "       'получение образования', 'автомобиль', 'свадьба',\n",
       "       'получение дополнительного образования', 'покупка своего жилья',\n",
       "       'операции с недвижимостью', 'получение высшего образования',\n",
       "       'свой автомобиль', 'сделка с автомобилем',\n",
       "       'профильное образование', 'высшее образование',\n",
       "       'покупка жилья для сдачи', 'на покупку автомобиля', 'ремонт жилью',\n",
       "       'заняться высшим образованием'], dtype=object)"
      ]
     },
     "execution_count": 19,
     "metadata": {},
     "output_type": "execute_result"
    }
   ],
   "source": [
    "data['purpose'].unique()"
   ]
  },
  {
   "cell_type": "markdown",
   "id": "52b79d56",
   "metadata": {
    "deletable": false,
    "editable": false,
    "id": "52b79d56"
   },
   "source": [
    "**Задание 18. Создайте функцию, которая на основании данных из столбца `purpose` сформирует новый столбец `purpose_category`, в который войдут следующие категории:**\n",
    "\n",
    "- `'операции с автомобилем'`,\n",
    "- `'операции с недвижимостью'`,\n",
    "- `'проведение свадьбы'`,\n",
    "- `'получение образования'`.\n",
    "\n",
    "**Например, если в столбце `purpose` находится подстрока `'на покупку автомобиля'`, то в столбце `purpose_category` должна появиться строка `'операции с автомобилем'`.**\n",
    "\n",
    "**Используйте собственную функцию с именем `categorize_purpose()` и метод `apply()`. Изучите данные в столбце `purpose` и определите, какие подстроки помогут вам правильно определить категорию.**"
   ]
  },
  {
   "cell_type": "code",
   "execution_count": 20,
   "id": "be41da5d",
   "metadata": {
    "deletable": false,
    "id": "be41da5d"
   },
   "outputs": [],
   "source": [
    "def categorize_purpose(row):\n",
    "    try:\n",
    "        if 'автом' in row:\n",
    "            return 'операции с автомобилем'\n",
    "        elif 'жил' in row or 'недвиж' in row:\n",
    "            return 'операции с недвижимостью'\n",
    "        elif 'свад' in row:\n",
    "            return 'проведение свадьбы'\n",
    "        elif 'образов' in row:\n",
    "            return 'получение образования'\n",
    "    except:\n",
    "        return 'нет категории'"
   ]
  },
  {
   "cell_type": "code",
   "execution_count": 21,
   "id": "94c4a19a",
   "metadata": {
    "deletable": false,
    "id": "94c4a19a"
   },
   "outputs": [],
   "source": [
    "data['purpose_category'] = data['purpose'].apply(categorize_purpose)"
   ]
  },
  {
   "cell_type": "markdown",
   "id": "3d596c34",
   "metadata": {
    "deletable": false,
    "editable": false,
    "id": "3d596c34"
   },
   "source": [
    "### Шаг 3. Исследуйте данные и ответьте на вопросы"
   ]
  },
  {
   "cell_type": "markdown",
   "id": "648db036",
   "metadata": {
    "deletable": false,
    "editable": false,
    "id": "648db036"
   },
   "source": [
    "#### 3.1 Есть ли зависимость между количеством детей и возвратом кредита в срок?"
   ]
  },
  {
   "cell_type": "code",
   "execution_count": 22,
   "id": "7fcff25e",
   "metadata": {
    "deletable": false,
    "id": "7fcff25e"
   },
   "outputs": [],
   "source": [
    "# Функция категоризации по детям\n",
    "def children_category(children):\n",
    "    if 1 <= children <= 2:\n",
    "        return 'есть дети'\n",
    "    if children >= 3:\n",
    "        return 'многодетный'\n",
    "    return 'нет детей'"
   ]
  },
  {
   "cell_type": "code",
   "execution_count": 23,
   "id": "609e138a",
   "metadata": {},
   "outputs": [],
   "source": [
    "# Cоздаем новый столбец с категорией заёмщика относительно кол-ва детей\n",
    "data['children_rank'] = data['children'].apply(children_category)"
   ]
  },
  {
   "cell_type": "code",
   "execution_count": 24,
   "id": "f230e357",
   "metadata": {},
   "outputs": [
    {
     "data": {
      "text/html": [
       "<div>\n",
       "<style scoped>\n",
       "    .dataframe tbody tr th:only-of-type {\n",
       "        vertical-align: middle;\n",
       "    }\n",
       "\n",
       "    .dataframe tbody tr th {\n",
       "        vertical-align: top;\n",
       "    }\n",
       "\n",
       "    .dataframe thead th {\n",
       "        text-align: right;\n",
       "    }\n",
       "</style>\n",
       "<table border=\"1\" class=\"dataframe\">\n",
       "  <thead>\n",
       "    <tr style=\"text-align: right;\">\n",
       "      <th></th>\n",
       "      <th>no_debt</th>\n",
       "      <th>debt</th>\n",
       "      <th>share_of_debtors</th>\n",
       "    </tr>\n",
       "    <tr>\n",
       "      <th>children_rank</th>\n",
       "      <th></th>\n",
       "      <th></th>\n",
       "      <th></th>\n",
       "    </tr>\n",
       "  </thead>\n",
       "  <tbody>\n",
       "    <tr>\n",
       "      <th>есть дети</th>\n",
       "      <td>6222</td>\n",
       "      <td>638</td>\n",
       "      <td>0.093003</td>\n",
       "    </tr>\n",
       "    <tr>\n",
       "      <th>многодетный</th>\n",
       "      <td>349</td>\n",
       "      <td>31</td>\n",
       "      <td>0.081579</td>\n",
       "    </tr>\n",
       "    <tr>\n",
       "      <th>нет детей</th>\n",
       "      <td>13028</td>\n",
       "      <td>1063</td>\n",
       "      <td>0.075438</td>\n",
       "    </tr>\n",
       "  </tbody>\n",
       "</table>\n",
       "</div>"
      ],
      "text/plain": [
       "               no_debt  debt  share_of_debtors\n",
       "children_rank                                 \n",
       "есть дети         6222   638          0.093003\n",
       "многодетный        349    31          0.081579\n",
       "нет детей        13028  1063          0.075438"
      ]
     },
     "execution_count": 24,
     "metadata": {},
     "output_type": "execute_result"
    }
   ],
   "source": [
    "# Создаем сводную таблицу\n",
    "debt_children = data.pivot_table(index='children_rank', columns='debt', values='gender', aggfunc='count')\n",
    "# Даём наименования столбцам \n",
    "debt_children.columns = ['no_debt', 'debt']\n",
    "# Считаем долю должников \n",
    "debt_children['share_of_debtors'] = debt_children['debt'] / (debt_children['debt'] + debt_children['no_debt'])\n",
    "# Сортируем по столбцу доля должников по убыванию\n",
    "debt_children.sort_values(by='share_of_debtors', ascending=False)"
   ]
  },
  {
   "cell_type": "markdown",
   "id": "2eb9088e",
   "metadata": {
    "deletable": false,
    "id": "2eb9088e"
   },
   "source": [
    "**Вывод:**"
   ]
  },
  {
   "cell_type": "markdown",
   "id": "28eca552",
   "metadata": {},
   "source": [
    "Наибольший процент невозврата (9,3%) у заёмщиков с 1-2 детьми. Вероятно, наличие детей повышает уровень задолжности по кредитам, т.к. траты семьи с детьми увеличиваюся.   \n",
    "Следом идут многодетные заёмщики - 8,1% должников. Задолженность немного ниже чем у семей с 2 детьми, возможно сказывается поддержка государства.\n",
    "В группе заёмщиков у которых нет детей наблюдается самый низкий процент невозврата - 7,5%.  "
   ]
  },
  {
   "cell_type": "markdown",
   "id": "74c9b3a7",
   "metadata": {
    "deletable": false,
    "editable": false,
    "id": "74c9b3a7"
   },
   "source": [
    "#### 3.2 Есть ли зависимость между семейным положением и возвратом кредита в срок?"
   ]
  },
  {
   "cell_type": "code",
   "execution_count": 25,
   "id": "8098ab3b",
   "metadata": {
    "deletable": false,
    "id": "8098ab3b"
   },
   "outputs": [
    {
     "data": {
      "text/html": [
       "<div>\n",
       "<style scoped>\n",
       "    .dataframe tbody tr th:only-of-type {\n",
       "        vertical-align: middle;\n",
       "    }\n",
       "\n",
       "    .dataframe tbody tr th {\n",
       "        vertical-align: top;\n",
       "    }\n",
       "\n",
       "    .dataframe thead th {\n",
       "        text-align: right;\n",
       "    }\n",
       "</style>\n",
       "<table border=\"1\" class=\"dataframe\">\n",
       "  <thead>\n",
       "    <tr style=\"text-align: right;\">\n",
       "      <th></th>\n",
       "      <th>no_debt</th>\n",
       "      <th>debt</th>\n",
       "      <th>share_of_debtors</th>\n",
       "    </tr>\n",
       "    <tr>\n",
       "      <th>family_status</th>\n",
       "      <th></th>\n",
       "      <th></th>\n",
       "      <th></th>\n",
       "    </tr>\n",
       "  </thead>\n",
       "  <tbody>\n",
       "    <tr>\n",
       "      <th>Не женат / не замужем</th>\n",
       "      <td>2523</td>\n",
       "      <td>273</td>\n",
       "      <td>0.097639</td>\n",
       "    </tr>\n",
       "    <tr>\n",
       "      <th>гражданский брак</th>\n",
       "      <td>3749</td>\n",
       "      <td>385</td>\n",
       "      <td>0.093130</td>\n",
       "    </tr>\n",
       "    <tr>\n",
       "      <th>женат / замужем</th>\n",
       "      <td>11334</td>\n",
       "      <td>927</td>\n",
       "      <td>0.075606</td>\n",
       "    </tr>\n",
       "    <tr>\n",
       "      <th>в разводе</th>\n",
       "      <td>1105</td>\n",
       "      <td>84</td>\n",
       "      <td>0.070648</td>\n",
       "    </tr>\n",
       "    <tr>\n",
       "      <th>вдовец / вдова</th>\n",
       "      <td>888</td>\n",
       "      <td>63</td>\n",
       "      <td>0.066246</td>\n",
       "    </tr>\n",
       "  </tbody>\n",
       "</table>\n",
       "</div>"
      ],
      "text/plain": [
       "                       no_debt  debt  share_of_debtors\n",
       "family_status                                         \n",
       "Не женат / не замужем     2523   273          0.097639\n",
       "гражданский брак          3749   385          0.093130\n",
       "женат / замужем          11334   927          0.075606\n",
       "в разводе                 1105    84          0.070648\n",
       "вдовец / вдова             888    63          0.066246"
      ]
     },
     "execution_count": 25,
     "metadata": {},
     "output_type": "execute_result"
    }
   ],
   "source": [
    "# Создаем свобную таблицу\n",
    "family_status = data.pivot_table(index='family_status', columns='debt', values='gender', aggfunc='count')\n",
    "# Создаём новые столбцы \n",
    "family_status.columns = ['no_debt', 'debt']\n",
    "# Считаем количество должников \n",
    "family_status['share_of_debtors'] = family_status['debt'] / (family_status['debt'] + family_status['no_debt'])\n",
    "# Сортируем по столбцу доля должников по убыванию\n",
    "family_status.sort_values(by='share_of_debtors', ascending=False)\n",
    "\n",
    "# Ваш код будет здесь. Вы можете создавать новые ячейки."
   ]
  },
  {
   "cell_type": "markdown",
   "id": "c389ca63",
   "metadata": {
    "deletable": false,
    "id": "c389ca63"
   },
   "source": [
    "**Вывод:** "
   ]
  },
  {
   "cell_type": "markdown",
   "id": "3d24ed53",
   "metadata": {},
   "source": [
    "Заёмщики не состоящие в официальном браке и живущие в гражданском имееют большую долю задолженности по кредиту (9,3-9,8%). Возможно, сказывается раздельный бюджет и отсутствие официальной приемственности по обязательствам кредного займа. \n",
    "Самая крупная группа те кто состоит в браке. Единый бюджет, ответственность и соотвенно возврат в срок.  \n",
    "Самый низкий уровень у вдовцов и тех кто в разводе, вероятно из-за доставшегося наследства или они просто реже остальных берут кредиты."
   ]
  },
  {
   "cell_type": "markdown",
   "id": "9529de68",
   "metadata": {
    "deletable": false,
    "editable": false,
    "id": "9529de68"
   },
   "source": [
    "#### 3.3 Есть ли зависимость между уровнем дохода и возвратом кредита в срок?"
   ]
  },
  {
   "cell_type": "markdown",
   "id": "fc23063e",
   "metadata": {},
   "source": [
    "- 0–30000 — `'E'`;\n",
    "- 30001–50000 — `'D'`;\n",
    "- 50001–200000 — `'C'`;\n",
    "- 200001–1000000 — `'B'`;\n",
    "- 1000001 и выше — `'A'`."
   ]
  },
  {
   "cell_type": "code",
   "execution_count": 26,
   "id": "8787f44a",
   "metadata": {
    "deletable": false,
    "id": "8787f44a"
   },
   "outputs": [
    {
     "data": {
      "text/html": [
       "<div>\n",
       "<style scoped>\n",
       "    .dataframe tbody tr th:only-of-type {\n",
       "        vertical-align: middle;\n",
       "    }\n",
       "\n",
       "    .dataframe tbody tr th {\n",
       "        vertical-align: top;\n",
       "    }\n",
       "\n",
       "    .dataframe thead th {\n",
       "        text-align: right;\n",
       "    }\n",
       "</style>\n",
       "<table border=\"1\" class=\"dataframe\">\n",
       "  <thead>\n",
       "    <tr style=\"text-align: right;\">\n",
       "      <th></th>\n",
       "      <th>no_debt</th>\n",
       "      <th>debt</th>\n",
       "      <th>share_of_debtors</th>\n",
       "    </tr>\n",
       "    <tr>\n",
       "      <th>total_income_category</th>\n",
       "      <th></th>\n",
       "      <th></th>\n",
       "      <th></th>\n",
       "    </tr>\n",
       "  </thead>\n",
       "  <tbody>\n",
       "    <tr>\n",
       "      <th>E</th>\n",
       "      <td>20</td>\n",
       "      <td>2</td>\n",
       "      <td>0.090909</td>\n",
       "    </tr>\n",
       "    <tr>\n",
       "      <th>C</th>\n",
       "      <td>14568</td>\n",
       "      <td>1353</td>\n",
       "      <td>0.084982</td>\n",
       "    </tr>\n",
       "    <tr>\n",
       "      <th>A</th>\n",
       "      <td>23</td>\n",
       "      <td>2</td>\n",
       "      <td>0.080000</td>\n",
       "    </tr>\n",
       "    <tr>\n",
       "      <th>B</th>\n",
       "      <td>4660</td>\n",
       "      <td>354</td>\n",
       "      <td>0.070602</td>\n",
       "    </tr>\n",
       "    <tr>\n",
       "      <th>D</th>\n",
       "      <td>328</td>\n",
       "      <td>21</td>\n",
       "      <td>0.060172</td>\n",
       "    </tr>\n",
       "  </tbody>\n",
       "</table>\n",
       "</div>"
      ],
      "text/plain": [
       "                       no_debt  debt  share_of_debtors\n",
       "total_income_category                                 \n",
       "E                           20     2          0.090909\n",
       "C                        14568  1353          0.084982\n",
       "A                           23     2          0.080000\n",
       "B                         4660   354          0.070602\n",
       "D                          328    21          0.060172"
      ]
     },
     "execution_count": 26,
     "metadata": {},
     "output_type": "execute_result"
    }
   ],
   "source": [
    "# Создаем свобную таблицу\n",
    "total_income = data.pivot_table(index='total_income_category', columns='debt', values='gender', aggfunc='count')\n",
    "# Создаём новые столбцы \n",
    "total_income.columns = ['no_debt', 'debt']\n",
    "# Считаем количество должников \n",
    "total_income['share_of_debtors'] = total_income['debt'] / (total_income['debt'] + total_income['no_debt'])\n",
    "# Сортируем по столбцу доля должников по убыванию\n",
    "total_income.sort_values(by='share_of_debtors', ascending=False)\n",
    "\n",
    "# Ваш код будет здесь. Вы можете создавать новые ячейки."
   ]
  },
  {
   "cell_type": "markdown",
   "id": "6dd14b57",
   "metadata": {
    "deletable": false,
    "id": "6dd14b57"
   },
   "source": [
    "**Вывод:** "
   ]
  },
  {
   "cell_type": "markdown",
   "id": "ab398132",
   "metadata": {},
   "source": [
    "Две категории заёмщиков,  которые практически не берут кредиты: **А, Е**. Одним кредит не дают по причине низкого дохода, другим он не нужен и достаточно мало наблюдей для формирование выводов.  \n",
    "Самый высокий процент невозвратов в категории **C**, возможно, причина в том что это самая крупная группа, необходимо провести дополнительный  анализ для выявления причин невозврата.  \n",
    "В категории **D** всё еще невысокий доход, вероятно в этом причина, любые непредвиденные траты повлекут неподъемную фин.нагрузку.  \n",
    "Категория **B** - достаточно высокий доход, сравнительно невысой процент должников, также необходимо посмотреть причины невозврата, возможно сумма кредитов велика в сравнении с остальными, поэтому появляется просрочка."
   ]
  },
  {
   "cell_type": "markdown",
   "id": "1dcc9b12",
   "metadata": {
    "deletable": false,
    "editable": false,
    "id": "1dcc9b12"
   },
   "source": [
    "#### 3.4 Как разные цели кредита влияют на его возврат в срок?"
   ]
  },
  {
   "cell_type": "code",
   "execution_count": 27,
   "id": "c602bc8b",
   "metadata": {
    "deletable": false,
    "id": "c602bc8b"
   },
   "outputs": [
    {
     "data": {
      "text/html": [
       "<div>\n",
       "<style scoped>\n",
       "    .dataframe tbody tr th:only-of-type {\n",
       "        vertical-align: middle;\n",
       "    }\n",
       "\n",
       "    .dataframe tbody tr th {\n",
       "        vertical-align: top;\n",
       "    }\n",
       "\n",
       "    .dataframe thead th {\n",
       "        text-align: right;\n",
       "    }\n",
       "</style>\n",
       "<table border=\"1\" class=\"dataframe\">\n",
       "  <thead>\n",
       "    <tr style=\"text-align: right;\">\n",
       "      <th></th>\n",
       "      <th>no_debt</th>\n",
       "      <th>debt</th>\n",
       "      <th>share_of_debtors</th>\n",
       "    </tr>\n",
       "    <tr>\n",
       "      <th>purpose_category</th>\n",
       "      <th></th>\n",
       "      <th></th>\n",
       "      <th></th>\n",
       "    </tr>\n",
       "  </thead>\n",
       "  <tbody>\n",
       "    <tr>\n",
       "      <th>операции с автомобилем</th>\n",
       "      <td>3879</td>\n",
       "      <td>400</td>\n",
       "      <td>0.093480</td>\n",
       "    </tr>\n",
       "    <tr>\n",
       "      <th>получение образования</th>\n",
       "      <td>3619</td>\n",
       "      <td>369</td>\n",
       "      <td>0.092528</td>\n",
       "    </tr>\n",
       "    <tr>\n",
       "      <th>проведение свадьбы</th>\n",
       "      <td>2130</td>\n",
       "      <td>183</td>\n",
       "      <td>0.079118</td>\n",
       "    </tr>\n",
       "    <tr>\n",
       "      <th>операции с недвижимостью</th>\n",
       "      <td>9971</td>\n",
       "      <td>780</td>\n",
       "      <td>0.072551</td>\n",
       "    </tr>\n",
       "  </tbody>\n",
       "</table>\n",
       "</div>"
      ],
      "text/plain": [
       "                          no_debt  debt  share_of_debtors\n",
       "purpose_category                                         \n",
       "операции с автомобилем       3879   400          0.093480\n",
       "получение образования        3619   369          0.092528\n",
       "проведение свадьбы           2130   183          0.079118\n",
       "операции с недвижимостью     9971   780          0.072551"
      ]
     },
     "execution_count": 27,
     "metadata": {},
     "output_type": "execute_result"
    }
   ],
   "source": [
    "# Создаем свобную таблицу\n",
    "purpose_category = data.pivot_table(index='purpose_category', columns='debt', values='gender', aggfunc='count')\n",
    "# Создаём новые столбцы \n",
    "purpose_category.columns = ['no_debt', 'debt']\n",
    "# Считаем количество должников \n",
    "purpose_category['share_of_debtors'] = purpose_category['debt'] / (purpose_category['debt'] + purpose_category['no_debt'])\n",
    "# Сортируем по столбцу доля лолжников по убыванию\n",
    "purpose_category.sort_values(by='share_of_debtors', ascending=False)\n",
    "\n",
    "# Ваш код будет здесь. Вы можете создавать новые ячейки."
   ]
  },
  {
   "cell_type": "markdown",
   "id": "cf05ed63",
   "metadata": {
    "deletable": false,
    "id": "cf05ed63"
   },
   "source": [
    "**Вывод:** "
   ]
  },
  {
   "cell_type": "markdown",
   "id": "452c5797",
   "metadata": {},
   "source": [
    "Наиболее высокий процент задолженности на покупку автомобиля и получение образования. Покупку автомобиля отчасти можно считать импульсной покупкой. Кредит на образование волотильное вложение, высока вероятность быть отчисленным как минимум. \n",
    "Проведение свадьбы имеет меньший процент невозврата - вероятно гасят с подаренных средств.  \n",
    "Покупка недвижимости - осознанная покупка, подход для таких займов иной, в том числе у самих кредитных организаций(не всем выдают ипотеку)."
   ]
  },
  {
   "cell_type": "markdown",
   "id": "46c1f10b",
   "metadata": {
    "deletable": false,
    "editable": false,
    "id": "46c1f10b"
   },
   "source": [
    "#### 3.5 Приведите возможные причины появления пропусков в исходных данных."
   ]
  },
  {
   "cell_type": "markdown",
   "id": "3697d2a9",
   "metadata": {
    "deletable": false,
    "id": "3697d2a9"
   },
   "source": [
    "*Ответ:* "
   ]
  },
  {
   "cell_type": "markdown",
   "id": "05ad7c0e",
   "metadata": {},
   "source": [
    "Пропуски бывают технологиеские - они возникают при копировании,считывании, смене формата. \n",
    "Ошибка может произойти даже во время записи данных.\n",
    "Пропуски вызванные человеским фактором - опечатки, перепутали числа, ошибки в записях(напрмер перепутаны местами данные)."
   ]
  },
  {
   "cell_type": "markdown",
   "id": "3137d257",
   "metadata": {
    "deletable": false,
    "editable": false,
    "id": "3137d257"
   },
   "source": [
    "#### 3.6 Объясните, почему заполнить пропуски медианным значением — лучшее решение для количественных переменных."
   ]
  },
  {
   "cell_type": "markdown",
   "id": "cf40012a",
   "metadata": {
    "deletable": false,
    "id": "cf40012a"
   },
   "source": [
    "*Ответ:* "
   ]
  },
  {
   "cell_type": "markdown",
   "id": "7f3b761a",
   "metadata": {},
   "source": [
    "Заполнение пропусков для количественных переменных медианой является лучшим решением из-за устойчивости медианы к выбросам и аномальным значениям."
   ]
  },
  {
   "cell_type": "markdown",
   "id": "57bc304e",
   "metadata": {
    "deletable": false,
    "editable": false,
    "id": "57bc304e"
   },
   "source": [
    "### Шаг 4: общий вывод."
   ]
  },
  {
   "cell_type": "markdown",
   "id": "1ab75d1c",
   "metadata": {
    "deletable": false,
    "id": "1ab75d1c"
   },
   "source": [
    "Напишите ваш общий вывод."
   ]
  },
  {
   "cell_type": "markdown",
   "id": "12a0fca6",
   "metadata": {},
   "source": [
    " Резимируя можно сказать, что наибольший процент невозврата (9,3%) у заёмщиков с 1-2 детьми. В группе заёмщиков у которых нет детей наблюдается самый низкий процент невозврата - 7,5%.Заёмщики не состоящие в официальном браке и живущие в гражданском имееют большую долю задолженности по кредиту (9,3-9,8%). Самая крупная группа те кто состоит в браке 7,5% - имеют небольшую долю в задолжности. Самый низкий уровень у вдовцов и тех кто в разводе (7%-6,6%).\n",
    "   Самый высокий процент невозвратов в категории со средним доходом (50001–200000) - 8,4%, возможно, причина в том что это самая крупная группа, необходимо провести дополнительный анализ для выявления причин невозврата.\n",
    "Категория B - 7% - достаточно высокий доход, сравнительно невысой процент должников, также необходимо посмотреть причины невозврата, возможно сумма кредитов велика в сравнении с остальными, поэтому появляется просрочка.\n",
    "   Наиболее высокий процент задолженности на покупку автомобиля и получение образования(9,3%-9,2%).Проведение свадьбы имеет меньший процент невозврата - 7,9%. Самый низкий уровень у тех кто покупает недвижимости - 7,2%."
   ]
  },
  {
   "cell_type": "code",
   "execution_count": null,
   "id": "3b9de0c7",
   "metadata": {},
   "outputs": [],
   "source": []
  }
 ],
 "metadata": {
  "ExecuteTimeLog": [
   {
    "duration": 500,
    "start_time": "2023-04-24T13:32:52.252Z"
   },
   {
    "duration": 22,
    "start_time": "2023-04-24T13:32:52.753Z"
   },
   {
    "duration": 15,
    "start_time": "2023-04-24T13:32:52.778Z"
   },
   {
    "duration": 11,
    "start_time": "2023-04-24T13:32:52.796Z"
   },
   {
    "duration": 42,
    "start_time": "2023-04-24T13:32:52.808Z"
   },
   {
    "duration": 4,
    "start_time": "2023-04-24T13:32:52.852Z"
   },
   {
    "duration": 10,
    "start_time": "2023-04-24T13:32:52.858Z"
   },
   {
    "duration": 5,
    "start_time": "2023-04-24T13:32:52.885Z"
   },
   {
    "duration": 8,
    "start_time": "2023-04-24T13:32:52.892Z"
   },
   {
    "duration": 4,
    "start_time": "2023-04-24T13:32:52.903Z"
   },
   {
    "duration": 41,
    "start_time": "2023-04-24T13:32:52.909Z"
   },
   {
    "duration": 34,
    "start_time": "2023-04-24T13:32:52.952Z"
   },
   {
    "duration": 5,
    "start_time": "2023-04-24T13:32:52.988Z"
   },
   {
    "duration": 11,
    "start_time": "2023-04-24T13:32:52.995Z"
   },
   {
    "duration": 20,
    "start_time": "2023-04-24T13:32:53.007Z"
   },
   {
    "duration": 16,
    "start_time": "2023-04-24T13:32:53.029Z"
   },
   {
    "duration": 4,
    "start_time": "2023-04-24T13:32:53.047Z"
   },
   {
    "duration": 11,
    "start_time": "2023-04-24T13:32:53.085Z"
   },
   {
    "duration": 5,
    "start_time": "2023-04-24T13:32:53.098Z"
   },
   {
    "duration": 9,
    "start_time": "2023-04-24T13:32:53.104Z"
   },
   {
    "duration": 12,
    "start_time": "2023-04-24T13:32:53.114Z"
   },
   {
    "duration": 2,
    "start_time": "2023-04-24T13:32:53.128Z"
   },
   {
    "duration": 5,
    "start_time": "2023-04-24T13:32:53.131Z"
   },
   {
    "duration": 5,
    "start_time": "2023-04-24T13:32:53.138Z"
   },
   {
    "duration": 4,
    "start_time": "2023-04-24T13:32:53.144Z"
   },
   {
    "duration": 68,
    "start_time": "2023-04-24T13:35:20.832Z"
   },
   {
    "duration": 13,
    "start_time": "2023-04-24T13:35:54.980Z"
   },
   {
    "duration": 2,
    "start_time": "2023-04-24T13:36:26.103Z"
   },
   {
    "duration": 15,
    "start_time": "2023-04-24T13:42:29.560Z"
   },
   {
    "duration": 3,
    "start_time": "2023-04-24T13:49:38.913Z"
   },
   {
    "duration": 25,
    "start_time": "2023-04-24T13:50:21.929Z"
   },
   {
    "duration": 35,
    "start_time": "2023-04-24T13:50:58.294Z"
   },
   {
    "duration": 22,
    "start_time": "2023-04-24T13:51:20.293Z"
   },
   {
    "duration": 24,
    "start_time": "2023-04-24T13:52:29.345Z"
   },
   {
    "duration": 15,
    "start_time": "2023-04-24T13:53:10.205Z"
   },
   {
    "duration": 4,
    "start_time": "2023-04-24T13:53:18.535Z"
   },
   {
    "duration": 22,
    "start_time": "2023-04-24T13:53:23.095Z"
   },
   {
    "duration": 5,
    "start_time": "2023-04-24T13:53:27.321Z"
   },
   {
    "duration": 12,
    "start_time": "2023-04-24T13:54:11.327Z"
   },
   {
    "duration": 3,
    "start_time": "2023-04-24T13:55:41.883Z"
   },
   {
    "duration": 7,
    "start_time": "2023-04-24T13:55:52.291Z"
   },
   {
    "duration": 28,
    "start_time": "2023-04-24T13:56:16.082Z"
   },
   {
    "duration": 4,
    "start_time": "2023-04-24T13:57:02.592Z"
   },
   {
    "duration": 28,
    "start_time": "2023-04-24T13:57:06.340Z"
   },
   {
    "duration": 22,
    "start_time": "2023-04-24T13:57:26.720Z"
   },
   {
    "duration": 20,
    "start_time": "2023-04-24T13:57:37.478Z"
   },
   {
    "duration": 22,
    "start_time": "2023-04-24T14:00:45.290Z"
   },
   {
    "duration": 21,
    "start_time": "2023-04-24T14:00:55.896Z"
   },
   {
    "duration": 21,
    "start_time": "2023-04-24T14:04:13.789Z"
   },
   {
    "duration": 22,
    "start_time": "2023-04-24T14:04:31.316Z"
   },
   {
    "duration": 22,
    "start_time": "2023-04-24T14:05:46.967Z"
   },
   {
    "duration": 23,
    "start_time": "2023-04-24T14:12:11.482Z"
   },
   {
    "duration": 2,
    "start_time": "2023-04-24T14:16:47.577Z"
   },
   {
    "duration": 15,
    "start_time": "2023-04-24T14:16:50.490Z"
   },
   {
    "duration": 21,
    "start_time": "2023-04-24T14:17:16.644Z"
   },
   {
    "duration": 3,
    "start_time": "2023-04-24T14:17:20.490Z"
   },
   {
    "duration": 14,
    "start_time": "2023-04-24T14:19:02.383Z"
   },
   {
    "duration": 20,
    "start_time": "2023-04-24T14:19:20.295Z"
   },
   {
    "duration": 2,
    "start_time": "2023-04-24T14:19:23.434Z"
   },
   {
    "duration": 16,
    "start_time": "2023-04-24T14:20:18.890Z"
   },
   {
    "duration": 2,
    "start_time": "2023-04-24T14:20:34.490Z"
   },
   {
    "duration": 4,
    "start_time": "2023-04-25T09:05:56.202Z"
   },
   {
    "duration": 60,
    "start_time": "2023-04-25T09:06:05.039Z"
   },
   {
    "duration": 8,
    "start_time": "2023-04-25T09:06:21.570Z"
   },
   {
    "duration": 10,
    "start_time": "2023-04-25T09:06:41.238Z"
   },
   {
    "duration": 8,
    "start_time": "2023-04-25T09:07:09.294Z"
   },
   {
    "duration": 9,
    "start_time": "2023-04-25T09:07:26.332Z"
   },
   {
    "duration": 3,
    "start_time": "2023-04-25T09:07:29.585Z"
   },
   {
    "duration": 7,
    "start_time": "2023-04-25T09:10:16.428Z"
   },
   {
    "duration": 10,
    "start_time": "2023-04-25T09:11:08.836Z"
   },
   {
    "duration": 8,
    "start_time": "2023-04-25T09:11:16.344Z"
   },
   {
    "duration": 8,
    "start_time": "2023-04-25T09:18:31.205Z"
   },
   {
    "duration": 8,
    "start_time": "2023-04-25T09:19:03.796Z"
   },
   {
    "duration": 7,
    "start_time": "2023-04-25T09:20:45.806Z"
   },
   {
    "duration": 7,
    "start_time": "2023-04-25T09:21:21.301Z"
   },
   {
    "duration": 8,
    "start_time": "2023-04-25T09:21:37.313Z"
   },
   {
    "duration": 2,
    "start_time": "2023-04-25T09:21:38.399Z"
   },
   {
    "duration": 8,
    "start_time": "2023-04-25T09:21:58.433Z"
   },
   {
    "duration": 3,
    "start_time": "2023-04-25T09:22:14.204Z"
   },
   {
    "duration": 8,
    "start_time": "2023-04-25T09:24:03.443Z"
   },
   {
    "duration": 8,
    "start_time": "2023-04-25T09:25:31.595Z"
   },
   {
    "duration": 2,
    "start_time": "2023-04-25T09:26:25.877Z"
   },
   {
    "duration": 7,
    "start_time": "2023-04-25T09:26:46.472Z"
   },
   {
    "duration": 696,
    "start_time": "2023-04-25T09:26:57.804Z"
   },
   {
    "duration": 25,
    "start_time": "2023-04-25T09:26:58.502Z"
   },
   {
    "duration": 22,
    "start_time": "2023-04-25T09:26:58.531Z"
   },
   {
    "duration": 12,
    "start_time": "2023-04-25T09:26:58.555Z"
   },
   {
    "duration": 46,
    "start_time": "2023-04-25T09:26:58.568Z"
   },
   {
    "duration": 4,
    "start_time": "2023-04-25T09:26:58.615Z"
   },
   {
    "duration": 19,
    "start_time": "2023-04-25T09:26:58.621Z"
   },
   {
    "duration": 26,
    "start_time": "2023-04-25T09:26:58.642Z"
   },
   {
    "duration": 9,
    "start_time": "2023-04-25T09:26:58.670Z"
   },
   {
    "duration": 4,
    "start_time": "2023-04-25T09:26:58.682Z"
   },
   {
    "duration": 54,
    "start_time": "2023-04-25T09:26:58.688Z"
   },
   {
    "duration": 10,
    "start_time": "2023-04-25T09:26:58.744Z"
   },
   {
    "duration": 16,
    "start_time": "2023-04-25T09:26:58.756Z"
   },
   {
    "duration": 25,
    "start_time": "2023-04-25T09:26:58.774Z"
   },
   {
    "duration": 27,
    "start_time": "2023-04-25T09:26:58.801Z"
   },
   {
    "duration": 16,
    "start_time": "2023-04-25T09:26:58.830Z"
   },
   {
    "duration": 3,
    "start_time": "2023-04-25T09:26:58.848Z"
   },
   {
    "duration": 18,
    "start_time": "2023-04-25T09:26:58.853Z"
   },
   {
    "duration": 21,
    "start_time": "2023-04-25T09:26:58.873Z"
   },
   {
    "duration": 25,
    "start_time": "2023-04-25T09:26:58.896Z"
   },
   {
    "duration": 22,
    "start_time": "2023-04-25T09:26:58.922Z"
   },
   {
    "duration": 7,
    "start_time": "2023-04-25T09:26:58.945Z"
   },
   {
    "duration": 25,
    "start_time": "2023-04-25T09:26:58.954Z"
   },
   {
    "duration": 13,
    "start_time": "2023-04-25T09:26:58.981Z"
   },
   {
    "duration": 30,
    "start_time": "2023-04-25T09:26:58.996Z"
   },
   {
    "duration": 74,
    "start_time": "2023-04-25T09:26:59.027Z"
   },
   {
    "duration": 0,
    "start_time": "2023-04-25T09:26:59.103Z"
   },
   {
    "duration": 0,
    "start_time": "2023-04-25T09:26:59.104Z"
   },
   {
    "duration": 0,
    "start_time": "2023-04-25T09:26:59.105Z"
   },
   {
    "duration": 0,
    "start_time": "2023-04-25T09:26:59.107Z"
   },
   {
    "duration": 0,
    "start_time": "2023-04-25T09:26:59.108Z"
   },
   {
    "duration": 0,
    "start_time": "2023-04-25T09:26:59.109Z"
   },
   {
    "duration": 0,
    "start_time": "2023-04-25T09:26:59.110Z"
   },
   {
    "duration": 0,
    "start_time": "2023-04-25T09:26:59.111Z"
   },
   {
    "duration": 0,
    "start_time": "2023-04-25T09:26:59.112Z"
   },
   {
    "duration": 0,
    "start_time": "2023-04-25T09:26:59.113Z"
   },
   {
    "duration": 0,
    "start_time": "2023-04-25T09:26:59.115Z"
   },
   {
    "duration": 0,
    "start_time": "2023-04-25T09:26:59.116Z"
   },
   {
    "duration": 75,
    "start_time": "2023-04-25T09:27:02.648Z"
   },
   {
    "duration": 16,
    "start_time": "2023-04-25T09:27:02.725Z"
   },
   {
    "duration": 43,
    "start_time": "2023-04-25T09:27:02.743Z"
   },
   {
    "duration": 31,
    "start_time": "2023-04-25T09:27:02.789Z"
   },
   {
    "duration": 61,
    "start_time": "2023-04-25T09:27:02.822Z"
   },
   {
    "duration": 4,
    "start_time": "2023-04-25T09:27:02.884Z"
   },
   {
    "duration": 35,
    "start_time": "2023-04-25T09:27:02.890Z"
   },
   {
    "duration": 39,
    "start_time": "2023-04-25T09:27:02.927Z"
   },
   {
    "duration": 49,
    "start_time": "2023-04-25T09:27:02.968Z"
   },
   {
    "duration": 41,
    "start_time": "2023-04-25T09:27:03.020Z"
   },
   {
    "duration": 64,
    "start_time": "2023-04-25T09:27:03.063Z"
   },
   {
    "duration": 10,
    "start_time": "2023-04-25T09:27:03.129Z"
   },
   {
    "duration": 15,
    "start_time": "2023-04-25T09:27:03.141Z"
   },
   {
    "duration": 50,
    "start_time": "2023-04-25T09:27:03.158Z"
   },
   {
    "duration": 46,
    "start_time": "2023-04-25T09:27:03.210Z"
   },
   {
    "duration": 29,
    "start_time": "2023-04-25T09:27:03.257Z"
   },
   {
    "duration": 42,
    "start_time": "2023-04-25T09:27:03.287Z"
   },
   {
    "duration": 43,
    "start_time": "2023-04-25T09:27:03.331Z"
   },
   {
    "duration": 38,
    "start_time": "2023-04-25T09:27:03.376Z"
   },
   {
    "duration": 22,
    "start_time": "2023-04-25T09:27:03.416Z"
   },
   {
    "duration": 19,
    "start_time": "2023-04-25T09:27:03.440Z"
   },
   {
    "duration": 20,
    "start_time": "2023-04-25T09:27:03.460Z"
   },
   {
    "duration": 52,
    "start_time": "2023-04-25T09:27:03.482Z"
   },
   {
    "duration": 33,
    "start_time": "2023-04-25T09:27:03.536Z"
   },
   {
    "duration": 67,
    "start_time": "2023-04-25T09:27:03.571Z"
   },
   {
    "duration": 90,
    "start_time": "2023-04-25T09:27:03.640Z"
   },
   {
    "duration": 0,
    "start_time": "2023-04-25T09:27:03.732Z"
   },
   {
    "duration": 0,
    "start_time": "2023-04-25T09:27:03.734Z"
   },
   {
    "duration": 0,
    "start_time": "2023-04-25T09:27:03.735Z"
   },
   {
    "duration": 0,
    "start_time": "2023-04-25T09:27:03.737Z"
   },
   {
    "duration": 0,
    "start_time": "2023-04-25T09:27:03.738Z"
   },
   {
    "duration": 0,
    "start_time": "2023-04-25T09:27:03.739Z"
   },
   {
    "duration": 0,
    "start_time": "2023-04-25T09:27:03.741Z"
   },
   {
    "duration": 0,
    "start_time": "2023-04-25T09:27:03.743Z"
   },
   {
    "duration": 0,
    "start_time": "2023-04-25T09:27:03.745Z"
   },
   {
    "duration": 0,
    "start_time": "2023-04-25T09:27:03.746Z"
   },
   {
    "duration": 0,
    "start_time": "2023-04-25T09:27:03.748Z"
   },
   {
    "duration": 19,
    "start_time": "2023-04-25T09:27:37.403Z"
   },
   {
    "duration": 24,
    "start_time": "2023-04-25T09:27:54.025Z"
   },
   {
    "duration": 12,
    "start_time": "2023-04-25T09:29:44.364Z"
   },
   {
    "duration": 2,
    "start_time": "2023-04-25T09:35:01.082Z"
   },
   {
    "duration": 108,
    "start_time": "2023-04-25T09:35:06.604Z"
   },
   {
    "duration": 16,
    "start_time": "2023-04-25T09:36:31.251Z"
   },
   {
    "duration": 22,
    "start_time": "2023-04-25T09:37:04.849Z"
   },
   {
    "duration": 15,
    "start_time": "2023-04-25T09:37:22.189Z"
   },
   {
    "duration": 2,
    "start_time": "2023-04-25T09:38:05.025Z"
   },
   {
    "duration": 36,
    "start_time": "2023-04-25T09:38:54.490Z"
   },
   {
    "duration": 3,
    "start_time": "2023-04-25T09:39:29.571Z"
   },
   {
    "duration": 18,
    "start_time": "2023-04-25T09:39:40.987Z"
   },
   {
    "duration": 22,
    "start_time": "2023-04-25T09:48:22.650Z"
   },
   {
    "duration": 14,
    "start_time": "2023-04-25T10:08:38.468Z"
   },
   {
    "duration": 18,
    "start_time": "2023-04-25T10:09:43.244Z"
   },
   {
    "duration": 9,
    "start_time": "2023-04-25T10:10:11.438Z"
   },
   {
    "duration": 8,
    "start_time": "2023-04-25T10:10:14.669Z"
   },
   {
    "duration": 13,
    "start_time": "2023-04-25T10:10:21.680Z"
   },
   {
    "duration": 26,
    "start_time": "2023-04-25T10:14:09.888Z"
   },
   {
    "duration": 12,
    "start_time": "2023-04-25T10:14:24.649Z"
   },
   {
    "duration": 14,
    "start_time": "2023-04-25T10:14:39.615Z"
   },
   {
    "duration": 16,
    "start_time": "2023-04-25T10:17:04.393Z"
   },
   {
    "duration": 28,
    "start_time": "2023-04-25T10:36:49.751Z"
   },
   {
    "duration": 22,
    "start_time": "2023-04-25T10:37:01.497Z"
   },
   {
    "duration": 13,
    "start_time": "2023-04-25T10:37:13.273Z"
   },
   {
    "duration": 14,
    "start_time": "2023-04-25T10:37:20.416Z"
   },
   {
    "duration": 1593,
    "start_time": "2023-04-25T10:38:14.399Z"
   },
   {
    "duration": 1312,
    "start_time": "2023-04-25T10:38:27.211Z"
   },
   {
    "duration": 1655,
    "start_time": "2023-04-25T10:38:30.201Z"
   },
   {
    "duration": 1219,
    "start_time": "2023-04-25T10:38:33.201Z"
   },
   {
    "duration": 18,
    "start_time": "2023-04-25T10:38:49.748Z"
   },
   {
    "duration": 7,
    "start_time": "2023-04-25T11:43:07.730Z"
   },
   {
    "duration": 11,
    "start_time": "2023-04-25T11:43:20.514Z"
   },
   {
    "duration": 5,
    "start_time": "2023-04-25T11:44:14.926Z"
   },
   {
    "duration": 554,
    "start_time": "2023-04-25T11:44:19.987Z"
   },
   {
    "duration": 123,
    "start_time": "2023-04-25T11:44:29.597Z"
   },
   {
    "duration": 3,
    "start_time": "2023-04-25T12:47:30.037Z"
   },
   {
    "duration": 24,
    "start_time": "2023-04-25T12:47:51.905Z"
   },
   {
    "duration": 23,
    "start_time": "2023-04-25T12:48:49.237Z"
   },
   {
    "duration": 2,
    "start_time": "2023-04-25T12:48:57.897Z"
   },
   {
    "duration": 22,
    "start_time": "2023-04-25T12:49:18.874Z"
   },
   {
    "duration": 3,
    "start_time": "2023-04-25T12:49:22.537Z"
   },
   {
    "duration": 2,
    "start_time": "2023-04-25T12:51:46.281Z"
   },
   {
    "duration": 20,
    "start_time": "2023-04-25T12:51:48.850Z"
   },
   {
    "duration": 13,
    "start_time": "2023-04-25T12:52:50.829Z"
   },
   {
    "duration": 14,
    "start_time": "2023-04-25T12:54:30.133Z"
   },
   {
    "duration": 20,
    "start_time": "2023-04-25T12:56:08.605Z"
   },
   {
    "duration": 15,
    "start_time": "2023-04-25T13:13:02.822Z"
   },
   {
    "duration": 25,
    "start_time": "2023-04-25T13:13:11.684Z"
   },
   {
    "duration": 13,
    "start_time": "2023-04-25T13:14:26.149Z"
   },
   {
    "duration": 2,
    "start_time": "2023-04-25T13:14:50.255Z"
   },
   {
    "duration": 21,
    "start_time": "2023-04-25T13:17:37.372Z"
   },
   {
    "duration": 77,
    "start_time": "2023-04-25T18:39:25.520Z"
   },
   {
    "duration": 1131,
    "start_time": "2023-04-25T18:39:33.546Z"
   },
   {
    "duration": 25,
    "start_time": "2023-04-25T18:39:34.679Z"
   },
   {
    "duration": 17,
    "start_time": "2023-04-25T18:39:34.706Z"
   },
   {
    "duration": 12,
    "start_time": "2023-04-25T18:39:34.726Z"
   },
   {
    "duration": 50,
    "start_time": "2023-04-25T18:39:34.740Z"
   },
   {
    "duration": 4,
    "start_time": "2023-04-25T18:39:34.792Z"
   },
   {
    "duration": 20,
    "start_time": "2023-04-25T18:39:34.798Z"
   },
   {
    "duration": 20,
    "start_time": "2023-04-25T18:39:34.820Z"
   },
   {
    "duration": 10,
    "start_time": "2023-04-25T18:39:34.842Z"
   },
   {
    "duration": 10,
    "start_time": "2023-04-25T18:39:34.855Z"
   },
   {
    "duration": 38,
    "start_time": "2023-04-25T18:39:34.867Z"
   },
   {
    "duration": 12,
    "start_time": "2023-04-25T18:39:34.907Z"
   },
   {
    "duration": 5,
    "start_time": "2023-04-25T18:39:34.934Z"
   },
   {
    "duration": 14,
    "start_time": "2023-04-25T18:39:34.941Z"
   },
   {
    "duration": 33,
    "start_time": "2023-04-25T18:39:34.957Z"
   },
   {
    "duration": 19,
    "start_time": "2023-04-25T18:39:34.992Z"
   },
   {
    "duration": 21,
    "start_time": "2023-04-25T18:39:35.013Z"
   },
   {
    "duration": 15,
    "start_time": "2023-04-25T18:39:35.036Z"
   },
   {
    "duration": 14,
    "start_time": "2023-04-25T18:39:35.053Z"
   },
   {
    "duration": 7,
    "start_time": "2023-04-25T18:39:35.069Z"
   },
   {
    "duration": 14,
    "start_time": "2023-04-25T18:39:35.078Z"
   },
   {
    "duration": 9,
    "start_time": "2023-04-25T18:39:35.094Z"
   },
   {
    "duration": 8,
    "start_time": "2023-04-25T18:39:35.105Z"
   },
   {
    "duration": 20,
    "start_time": "2023-04-25T18:39:35.115Z"
   },
   {
    "duration": 33,
    "start_time": "2023-04-25T18:39:35.137Z"
   },
   {
    "duration": 22,
    "start_time": "2023-04-25T18:39:35.172Z"
   },
   {
    "duration": 3,
    "start_time": "2023-04-25T18:39:35.195Z"
   },
   {
    "duration": 47,
    "start_time": "2023-04-25T18:39:35.201Z"
   },
   {
    "duration": 3,
    "start_time": "2023-04-25T18:39:35.251Z"
   },
   {
    "duration": 35,
    "start_time": "2023-04-25T18:39:35.256Z"
   },
   {
    "duration": 7,
    "start_time": "2023-04-25T18:39:35.293Z"
   },
   {
    "duration": 3,
    "start_time": "2023-04-25T19:29:23.389Z"
   },
   {
    "duration": 12,
    "start_time": "2023-04-25T19:29:24.086Z"
   },
   {
    "duration": 29,
    "start_time": "2023-04-25T19:29:25.060Z"
   },
   {
    "duration": 76,
    "start_time": "2023-04-25T19:30:17.464Z"
   },
   {
    "duration": 15,
    "start_time": "2023-04-25T19:30:17.542Z"
   },
   {
    "duration": 32,
    "start_time": "2023-04-25T19:30:17.558Z"
   },
   {
    "duration": 19,
    "start_time": "2023-04-25T19:30:17.593Z"
   },
   {
    "duration": 65,
    "start_time": "2023-04-25T19:30:17.614Z"
   },
   {
    "duration": 4,
    "start_time": "2023-04-25T19:30:17.681Z"
   },
   {
    "duration": 17,
    "start_time": "2023-04-25T19:30:17.687Z"
   },
   {
    "duration": 23,
    "start_time": "2023-04-25T19:30:17.706Z"
   },
   {
    "duration": 26,
    "start_time": "2023-04-25T19:30:17.731Z"
   },
   {
    "duration": 22,
    "start_time": "2023-04-25T19:30:17.761Z"
   },
   {
    "duration": 74,
    "start_time": "2023-04-25T19:30:17.785Z"
   },
   {
    "duration": 14,
    "start_time": "2023-04-25T19:30:17.862Z"
   },
   {
    "duration": 24,
    "start_time": "2023-04-25T19:30:17.878Z"
   },
   {
    "duration": 34,
    "start_time": "2023-04-25T19:30:17.904Z"
   },
   {
    "duration": 38,
    "start_time": "2023-04-25T19:30:17.940Z"
   },
   {
    "duration": 26,
    "start_time": "2023-04-25T19:30:17.980Z"
   },
   {
    "duration": 8,
    "start_time": "2023-04-25T19:30:18.008Z"
   },
   {
    "duration": 43,
    "start_time": "2023-04-25T19:30:18.018Z"
   },
   {
    "duration": 79,
    "start_time": "2023-04-25T19:30:18.064Z"
   },
   {
    "duration": 25,
    "start_time": "2023-04-25T19:30:18.145Z"
   },
   {
    "duration": 25,
    "start_time": "2023-04-25T19:30:18.172Z"
   },
   {
    "duration": 20,
    "start_time": "2023-04-25T19:30:18.198Z"
   },
   {
    "duration": 24,
    "start_time": "2023-04-25T19:30:18.220Z"
   },
   {
    "duration": 39,
    "start_time": "2023-04-25T19:30:18.246Z"
   },
   {
    "duration": 95,
    "start_time": "2023-04-25T19:35:35.496Z"
   },
   {
    "duration": 22,
    "start_time": "2023-04-25T19:35:35.593Z"
   },
   {
    "duration": 33,
    "start_time": "2023-04-25T19:35:35.617Z"
   },
   {
    "duration": 15,
    "start_time": "2023-04-25T19:35:35.653Z"
   },
   {
    "duration": 38,
    "start_time": "2023-04-25T19:35:35.669Z"
   },
   {
    "duration": 26,
    "start_time": "2023-04-25T19:35:35.709Z"
   },
   {
    "duration": 9,
    "start_time": "2023-04-25T19:35:35.737Z"
   },
   {
    "duration": 4,
    "start_time": "2023-04-25T19:35:35.748Z"
   },
   {
    "duration": 7,
    "start_time": "2023-04-25T19:35:35.754Z"
   },
   {
    "duration": 5,
    "start_time": "2023-04-25T19:35:35.764Z"
   },
   {
    "duration": 69,
    "start_time": "2023-04-25T19:35:35.770Z"
   },
   {
    "duration": 10,
    "start_time": "2023-04-25T19:35:35.841Z"
   },
   {
    "duration": 14,
    "start_time": "2023-04-25T19:35:35.852Z"
   },
   {
    "duration": 22,
    "start_time": "2023-04-25T19:35:35.867Z"
   },
   {
    "duration": 47,
    "start_time": "2023-04-25T19:35:35.891Z"
   },
   {
    "duration": 24,
    "start_time": "2023-04-25T19:35:35.940Z"
   },
   {
    "duration": 4,
    "start_time": "2023-04-25T19:35:35.966Z"
   },
   {
    "duration": 26,
    "start_time": "2023-04-25T19:35:35.972Z"
   },
   {
    "duration": 14,
    "start_time": "2023-04-25T19:35:36.000Z"
   },
   {
    "duration": 5,
    "start_time": "2023-04-25T19:35:36.017Z"
   },
   {
    "duration": 29,
    "start_time": "2023-04-25T19:35:36.034Z"
   },
   {
    "duration": 10,
    "start_time": "2023-04-25T19:35:36.065Z"
   },
   {
    "duration": 17,
    "start_time": "2023-04-25T19:35:36.077Z"
   },
   {
    "duration": 25,
    "start_time": "2023-04-25T19:35:36.095Z"
   },
   {
    "duration": 20,
    "start_time": "2023-04-25T19:35:36.122Z"
   },
   {
    "duration": 21,
    "start_time": "2023-04-25T19:35:36.143Z"
   },
   {
    "duration": 19,
    "start_time": "2023-04-25T19:35:36.166Z"
   },
   {
    "duration": 62,
    "start_time": "2023-04-26T12:45:23.736Z"
   },
   {
    "duration": 47,
    "start_time": "2023-04-26T12:46:09.512Z"
   },
   {
    "duration": 55,
    "start_time": "2023-04-26T12:47:28.667Z"
   },
   {
    "duration": 537,
    "start_time": "2023-04-26T13:34:06.018Z"
   },
   {
    "duration": 22,
    "start_time": "2023-04-26T13:34:06.557Z"
   },
   {
    "duration": 14,
    "start_time": "2023-04-26T13:34:06.580Z"
   },
   {
    "duration": 14,
    "start_time": "2023-04-26T13:34:06.596Z"
   },
   {
    "duration": 50,
    "start_time": "2023-04-26T13:34:06.611Z"
   },
   {
    "duration": 4,
    "start_time": "2023-04-26T13:34:06.662Z"
   },
   {
    "duration": 30,
    "start_time": "2023-04-26T13:34:06.667Z"
   },
   {
    "duration": 7,
    "start_time": "2023-04-26T13:34:06.698Z"
   },
   {
    "duration": 13,
    "start_time": "2023-04-26T13:34:06.706Z"
   },
   {
    "duration": 4,
    "start_time": "2023-04-26T13:34:06.722Z"
   },
   {
    "duration": 32,
    "start_time": "2023-04-26T13:34:06.728Z"
   },
   {
    "duration": 9,
    "start_time": "2023-04-26T13:34:06.762Z"
   },
   {
    "duration": 10,
    "start_time": "2023-04-26T13:34:06.772Z"
   },
   {
    "duration": 12,
    "start_time": "2023-04-26T13:34:06.784Z"
   },
   {
    "duration": 22,
    "start_time": "2023-04-26T13:34:06.798Z"
   },
   {
    "duration": 17,
    "start_time": "2023-04-26T13:34:06.821Z"
   },
   {
    "duration": 16,
    "start_time": "2023-04-26T13:34:06.840Z"
   },
   {
    "duration": 18,
    "start_time": "2023-04-26T13:34:06.857Z"
   },
   {
    "duration": 7,
    "start_time": "2023-04-26T13:34:06.877Z"
   },
   {
    "duration": 4,
    "start_time": "2023-04-26T13:34:06.886Z"
   },
   {
    "duration": 12,
    "start_time": "2023-04-26T13:34:06.891Z"
   },
   {
    "duration": 7,
    "start_time": "2023-04-26T13:34:06.905Z"
   },
   {
    "duration": 20,
    "start_time": "2023-04-26T13:34:06.914Z"
   },
   {
    "duration": 32,
    "start_time": "2023-04-26T13:34:06.936Z"
   },
   {
    "duration": 19,
    "start_time": "2023-04-26T13:34:06.970Z"
   },
   {
    "duration": 28,
    "start_time": "2023-04-26T13:34:06.991Z"
   },
   {
    "duration": 35,
    "start_time": "2023-04-26T13:34:07.021Z"
   }
  ],
  "colab": {
   "provenance": []
  },
  "kernelspec": {
   "display_name": "Python 3 (ipykernel)",
   "language": "python",
   "name": "python3"
  },
  "language_info": {
   "codemirror_mode": {
    "name": "ipython",
    "version": 3
   },
   "file_extension": ".py",
   "mimetype": "text/x-python",
   "name": "python",
   "nbconvert_exporter": "python",
   "pygments_lexer": "ipython3",
   "version": "3.11.3"
  },
  "toc": {
   "base_numbering": 1,
   "nav_menu": {},
   "number_sections": true,
   "sideBar": true,
   "skip_h1_title": true,
   "title_cell": "Table of Contents",
   "title_sidebar": "Contents",
   "toc_cell": false,
   "toc_position": {},
   "toc_section_display": true,
   "toc_window_display": false
  }
 },
 "nbformat": 4,
 "nbformat_minor": 5
}
