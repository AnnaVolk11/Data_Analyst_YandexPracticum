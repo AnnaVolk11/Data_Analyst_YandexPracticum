{
 "cells": [
  {
   "cell_type": "markdown",
   "id": "584f94f3",
   "metadata": {},
   "source": [
    " **Создание дашборда по историческим данным о конференциях TED.**\n",
    " \n",
    " Исследована история TED-конференций и создан дашборд в Tableau на основе полученных данных."
   ]
  },
  {
   "cell_type": "markdown",
   "id": "9519a3f4",
   "metadata": {},
   "source": [
    "В этом проекте я создадала дашборд на основе данных о конференциях TED: https://public.tableau.com/app/profile/anna.volkova2269/viz/test_tableau_16947101807860/sheet22?publish=yes"
   ]
  }
 ],
 "metadata": {
  "kernelspec": {
   "display_name": "Python 3 (ipykernel)",
   "language": "python",
   "name": "python3"
  },
  "language_info": {
   "codemirror_mode": {
    "name": "ipython",
    "version": 3
   },
   "file_extension": ".py",
   "mimetype": "text/x-python",
   "name": "python",
   "nbconvert_exporter": "python",
   "pygments_lexer": "ipython3",
   "version": "3.11.3"
  },
  "toc": {
   "base_numbering": 1,
   "nav_menu": {},
   "number_sections": true,
   "sideBar": true,
   "skip_h1_title": true,
   "title_cell": "Table of Contents",
   "title_sidebar": "Contents",
   "toc_cell": false,
   "toc_position": {},
   "toc_section_display": true,
   "toc_window_display": false
  }
 },
 "nbformat": 4,
 "nbformat_minor": 5
}
