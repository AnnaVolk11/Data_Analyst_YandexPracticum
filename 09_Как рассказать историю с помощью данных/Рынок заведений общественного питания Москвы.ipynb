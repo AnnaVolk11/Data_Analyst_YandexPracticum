{
 "cells": [
  {
   "cell_type": "markdown",
   "metadata": {},
   "source": [
    "**Проектная работа: \n",
    "Рынок заведений общественного питания Москвы.**\n",
    "\n",
    "**Описание проекта:**\n",
    "Инвесторы из фонда «Shut Up and Take My Money» решили попробовать себя в новой области и открыть заведение общественного питания в Москве. Заказчики ещё не знают, что это будет за место: кафе, ресторан, пиццерия, паб или бар, — и какими будут расположение, меню и цены.\n",
    "Нам нужно подготовить исследование рынка Москвы, найти интересные особенности и презентовать полученные результаты, которые в будущем помогут в выборе подходящего инвесторам места."
   ]
  },
  {
   "cell_type": "markdown",
   "metadata": {},
   "source": [
    "**Шаг 1. Загрузим данные и изучим общую информацию**"
   ]
  },
  {
   "cell_type": "code",
   "execution_count": 1,
   "metadata": {},
   "outputs": [
    {
     "ename": "ModuleNotFoundError",
     "evalue": "No module named 'folium'",
     "output_type": "error",
     "traceback": [
      "\u001b[1;31m---------------------------------------------------------------------------\u001b[0m",
      "\u001b[1;31mModuleNotFoundError\u001b[0m                       Traceback (most recent call last)",
      "Cell \u001b[1;32mIn[1], line 12\u001b[0m\n\u001b[0;32m     10\u001b[0m \u001b[38;5;28;01mfrom\u001b[39;00m \u001b[38;5;21;01mIPython\u001b[39;00m\u001b[38;5;21;01m.\u001b[39;00m\u001b[38;5;21;01mdisplay\u001b[39;00m \u001b[38;5;28;01mimport\u001b[39;00m set_matplotlib_formats\n\u001b[0;32m     11\u001b[0m \u001b[38;5;28;01mimport\u001b[39;00m \u001b[38;5;21;01mjson\u001b[39;00m\n\u001b[1;32m---> 12\u001b[0m \u001b[38;5;28;01mimport\u001b[39;00m \u001b[38;5;21;01mfolium\u001b[39;00m\n\u001b[0;32m     13\u001b[0m \u001b[38;5;66;03m# импортируем карту и маркер\u001b[39;00m\n\u001b[0;32m     14\u001b[0m \u001b[38;5;28;01mfrom\u001b[39;00m \u001b[38;5;21;01mfolium\u001b[39;00m \u001b[38;5;28;01mimport\u001b[39;00m Map, Choropleth, Marker\n",
      "\u001b[1;31mModuleNotFoundError\u001b[0m: No module named 'folium'"
     ]
    }
   ],
   "source": [
    "# импорт библиотек\n",
    "import pandas as pd\n",
    "import numpy as np\n",
    "import matplotlib as mpl\n",
    "import matplotlib.pyplot as plt\n",
    "import seaborn as sns\n",
    "import plotly.express as px\n",
    "import warnings; warnings.filterwarnings(action='ignore')\n",
    "from plotly import graph_objects as go\n",
    "from IPython.display import set_matplotlib_formats\n",
    "import json\n",
    "import folium\n",
    "# импортируем карту и маркер\n",
    "from folium import Map, Choropleth, Marker\n",
    "# импортируем кластер\n",
    "from folium.plugins import MarkerCluster\n",
    "import re"
   ]
  },
  {
   "cell_type": "code",
   "execution_count": null,
   "metadata": {},
   "outputs": [],
   "source": [
    "moscow_places = pd.read_csv('https://code.s3.yandex.net/datasets/moscow_places.csv')"
   ]
  },
  {
   "cell_type": "code",
   "execution_count": null,
   "metadata": {},
   "outputs": [],
   "source": [
    "moscow_places.info()\n",
    "moscow_places.head(10)"
   ]
  },
  {
   "cell_type": "code",
   "execution_count": null,
   "metadata": {},
   "outputs": [],
   "source": [
    "plt.hist(moscow_places['rating'], bins=20)\n",
    "plt.title('Рейтинг заведений общественного питания')\n",
    "plt.xlabel('Рейтинг')\n",
    "plt.ylabel('Количество заведений')\n",
    "plt.show()"
   ]
  },
  {
   "cell_type": "code",
   "execution_count": null,
   "metadata": {},
   "outputs": [],
   "source": [
    "print(moscow_places['seats'].describe())\n",
    "moscow_places.query('seats > 1000').sample(5)"
   ]
  },
  {
   "cell_type": "markdown",
   "metadata": {},
   "source": [
    "Данные загружены. Всего у нас 8406 заведений. В среднем 108 посадочных мест, а медиана 75, но есть и заведения с 1000+ местами, скорее всего для банкетов. Большентсво заведений имеют рейтинг 4 и больше."
   ]
  },
  {
   "cell_type": "markdown",
   "metadata": {},
   "source": [
    "**Шаг 2. Выполните предобработку данных**"
   ]
  },
  {
   "cell_type": "code",
   "execution_count": null,
   "metadata": {},
   "outputs": [],
   "source": [
    "#проверим на дуликаты\n",
    "moscow_places.duplicated().sum()"
   ]
  },
  {
   "cell_type": "markdown",
   "metadata": {},
   "source": [
    "ДУбликатов нет. "
   ]
  },
  {
   "cell_type": "code",
   "execution_count": null,
   "metadata": {},
   "outputs": [],
   "source": [
    "#проверим на неявные дубликаты\n",
    "duplicates = moscow_places.duplicated(subset=['name', 'address'], keep=False)\n",
    "if duplicates.any():\n",
    "    duplicate_rows = moscow_places[duplicates]\n",
    "    print(\"Обнаружены неявные дубликаты:\")\n",
    "    print(duplicate_rows)\n",
    "else:\n",
    "    print(\"Неявные дубликаты не обнаружены.\")"
   ]
  },
  {
   "cell_type": "code",
   "execution_count": null,
   "metadata": {},
   "outputs": [],
   "source": [
    "#проверим есть ли пропуски в данных \n",
    "moscow_places.isna().sum()"
   ]
  },
  {
   "cell_type": "markdown",
   "metadata": {},
   "source": [
    "Пропуски пристуствуют в 6 столбцах. Я считаю что их следует оставить для коректности данных, пропусков много и их ничем не заменить. "
   ]
  },
  {
   "cell_type": "code",
   "execution_count": null,
   "metadata": {},
   "outputs": [],
   "source": [
    "# замена типа данных в столбце chain на булев.\n",
    "moscow_places['chain'] = moscow_places['chain'].astype(bool)"
   ]
  },
  {
   "cell_type": "markdown",
   "metadata": {},
   "source": [
    "Создадим столбец street с названиями улиц из столбца с адресом."
   ]
  },
  {
   "cell_type": "code",
   "execution_count": null,
   "metadata": {},
   "outputs": [],
   "source": [
    "moscow_places['street'] = moscow_places['address'].str.split(',', expand=True)[1]\n",
    "moscow_places['street'] = moscow_places['street'].str.strip()"
   ]
  },
  {
   "cell_type": "markdown",
   "metadata": {},
   "source": [
    "Создадим столбец is_24/7 с обозначением, что заведение работает ежедневно и круглосуточно (24/7):\n",
    "- логическое значение True — если заведение работает ежедневно и круглосуточно;\n",
    "- логическое значение False — в противоположном случае."
   ]
  },
  {
   "cell_type": "code",
   "execution_count": null,
   "metadata": {},
   "outputs": [],
   "source": [
    "# создание столбца is_24/7\n",
    "moscow_places['is_24/7'] = moscow_places['hours'].str.contains('ежедневно', case=False) & moscow_places['hours'].str.contains('круглосуточно', case=False)\n",
    "\n",
    "# преобразование значений в логические\n",
    "moscow_places['is_24/7'] = moscow_places['is_24/7'].astype(bool)\n",
    "moscow_places.columns"
   ]
  },
  {
   "cell_type": "markdown",
   "metadata": {},
   "source": [
    "Предобработка данных выполнена: дубликатов нет, пропуски оставила, создала 2 новых столбца. "
   ]
  },
  {
   "cell_type": "markdown",
   "metadata": {},
   "source": [
    "**Шаг 3. Анализ данных**"
   ]
  },
  {
   "cell_type": "markdown",
   "metadata": {},
   "source": [
    "**Исследуем количество объектов общественного питания по категориям: рестораны, кофейни, пиццерии, бары и так далее.**"
   ]
  },
  {
   "cell_type": "code",
   "execution_count": null,
   "metadata": {},
   "outputs": [],
   "source": [
    "category_moscow_places = moscow_places.groupby('category').agg(count=('name','count')).reset_index().sort_values('count', ascending=False)\n",
    "category_moscow_places['percent'] = category_moscow_places['count'] / sum(category_moscow_places['count']) * 100\n",
    "category_moscow_places"
   ]
  },
  {
   "cell_type": "code",
   "execution_count": null,
   "metadata": {},
   "outputs": [],
   "source": [
    "# группируем данные по категориям и находим топ-15 популярных\n",
    "categories = moscow_places.groupby('category')['name'].count().sort_values(ascending=False)\n",
    "\n",
    "# создаем график\n",
    "plt.figure(figsize=(10,6))\n",
    "sns.barplot(x=categories, y=categories.index, palette='bright')\n",
    "plt.title('Количество заведений общественного питания по категориям')\n",
    "plt.xlabel('Количество заведений')\n",
    "plt.ylabel('Категория заведени')\n",
    "plt.show()"
   ]
  },
  {
   "cell_type": "markdown",
   "metadata": {},
   "source": [
    "Самая большая категория это - кафе(28.28%). 2-ое место рестораны(24.30) и 3-е кофейни(16,80). Всё вместе примерно 69,38% от общего количества. "
   ]
  },
  {
   "cell_type": "markdown",
   "metadata": {},
   "source": [
    "**Исследуем количество посадочных мест в местах по категориям: рестораны, кофейни, пиццерии, бары и так далее.**"
   ]
  },
  {
   "cell_type": "code",
   "execution_count": null,
   "metadata": {},
   "outputs": [],
   "source": [
    "plt.figure(figsize=(10, 6))\n",
    "sns.boxplot(x='category', y='seats', data=moscow_places, showfliers=False, palette='bright')\n",
    "plt.title('Количества посадочных мест в зависимости от типа заведения')\n",
    "plt.xlabel('Категория заведения')\n",
    "plt.ylabel('Количество посадочных мест')\n",
    "plt.xticks(rotation=45)\n",
    "plt.show()"
   ]
  },
  {
   "cell_type": "markdown",
   "metadata": {},
   "source": [
    "У рестаранов, баров, кофейни и быстрого питания максимальное число посадочных мест достигает 300-а, а в среднем 150. У остальных категорий максимальное кол-во мест доходит до 150-и, а всреднем до 125."
   ]
  },
  {
   "cell_type": "markdown",
   "metadata": {},
   "source": [
    "**Рассмотрим соотношение сетевых и несетевых заведений в датасете.**"
   ]
  },
  {
   "cell_type": "code",
   "execution_count": null,
   "metadata": {},
   "outputs": [],
   "source": [
    "chain_info = moscow_places.groupby(['category', 'chain'])['name'].count().reset_index()\n",
    "independent = chain_info[chain_info['chain'] == False]\n",
    "chain = chain_info[chain_info['chain'] == True]\n",
    "fig, ax = plt.subplots(figsize=(8, 6))\n",
    "ax.pie(\n",
    "    [independent['name'].sum(), chain['name'].sum()],\n",
    "    labels=['Несетевые', 'Сетевые'],\n",
    "    autopct='%1.1f%%',\n",
    "    explode=[0.05, 0],\n",
    "    shadow=True,\n",
    "    startangle=90,\n",
    "    colors=['#3A0CA3', '#F72585'],\n",
    ")\n",
    "ax.set_title('Соотношение сетевых и несетевых заведений')\n",
    "plt.show()"
   ]
  },
  {
   "cell_type": "markdown",
   "metadata": {},
   "source": [
    "Получается что 61,9% несететвые и 38,1% сетевые заведения. "
   ]
  },
  {
   "cell_type": "markdown",
   "metadata": {},
   "source": [
    "**Выясним какие категории заведений чаще являются сетевыми.** "
   ]
  },
  {
   "cell_type": "code",
   "execution_count": null,
   "metadata": {},
   "outputs": [],
   "source": [
    "moscow_places_chains = moscow_places.groupby(['category', 'chain'])['name'].count().reset_index()\n",
    "moscow_places_chains.columns = ['type', 'chain', 'count']\n",
    "moscow_places_chains['chain'] = moscow_places_chains['chain'].astype(object)\n",
    "moscow_places_chains = moscow_places_chains.sort_values(['count', 'chain'])\n",
    "moscow_places_chains\n",
    "\n",
    "fig = px.bar(moscow_places_chains,\n",
    "             x='count',\n",
    "             y='type',\n",
    "             text= 'count',\n",
    "             color='chain',\n",
    "             category_orders={\"chain\":['сетевой', 'несетевой']},\n",
    "             color_discrete_sequence=[\"#E69F00\", \"#56B4E9\"],\n",
    "             height=500,\n",
    "             width=700\n",
    "             )\n",
    "fig.update_layout(title = 'Соотношение сетевых и несетевых заведений',\n",
    "                  xaxis_title = 'Количество заведений',\n",
    "                  yaxis_title = 'Категории')\n",
    "fig.show()"
   ]
  },
  {
   "cell_type": "code",
   "execution_count": null,
   "metadata": {},
   "outputs": [],
   "source": [
    "#Код ревьюера\n",
    "df_chain_share = moscow_places.pivot_table(index='category', columns='chain', values='name', aggfunc='count')\n",
    "df_chain_share.columns = ['not_chain', 'chain']\n",
    "df_chain_share['total'] = df_chain_share['not_chain'] + df_chain_share['chain']\n",
    "df_chain_share['share'] = (df_chain_share['chain']/df_chain_share['total']*100).round().astype('int')\n",
    "df_chain_share.sort_values(by='share', ascending=False)"
   ]
  },
  {
   "cell_type": "code",
   "execution_count": null,
   "metadata": {},
   "outputs": [],
   "source": [
    "df_chain_share.reset_index(inplace=True)\n",
    "df_chain_share = df_chain_share.sort_values(by='share', ascending=False)\n",
    "df_chain_share"
   ]
  },
  {
   "cell_type": "code",
   "execution_count": null,
   "metadata": {},
   "outputs": [],
   "source": [
    "fig = px.bar(df_chain_share\n",
    "             ,x='chain'\n",
    "             ,y='share'\n",
    "             ,color='category'\n",
    "             ,template='gridon'\n",
    "             ,text='share',\n",
    "             labels={'category':'Кол-во объектов:'}\n",
    "            )\n",
    "fig.update_xaxes(tickangle=25)\n",
    "fig.update_layout(\n",
    "    title='Доля сетевых объектов от всех объектов общественного питания (по типам)',\n",
    "    xaxis_title=\"Кол-во заведений, шт\",\n",
    "    yaxis_title=\"% заведений\")\n",
    "fig.update_traces(textposition='outside')\n",
    "\n",
    "for trace, percent in zip(fig.data, df_chain_share['chain'].astype('str')):\n",
    "    trace.name = trace.name.split('=')[-1] + ' (' + percent+ ' объектов)'\n",
    "    \n",
    "fig.show()"
   ]
  },
  {
   "cell_type": "markdown",
   "metadata": {},
   "source": [
    "Самая большая доля сетевых заведений это булочная 61%, пиццерия 52% и кофейня 51%. "
   ]
  },
  {
   "cell_type": "code",
   "execution_count": null,
   "metadata": {},
   "outputs": [],
   "source": [
    "#Код ревьюера\n",
    "plt.figure(figsize=(12, 6))\n",
    "ax = sns.barplot(x='share', y='category', data=df_chain_share.reset_index().sort_values(by='share', ascending=False))\n",
    "ax.set_xlabel('Процент сетевых заведений')\n",
    "ax.set_ylabel('Категория')\n",
    "ax.set_title('Доля сетевых заведений по категориям')\n",
    "\n",
    "plt.grid()\n",
    "plt.show()"
   ]
  },
  {
   "cell_type": "markdown",
   "metadata": {},
   "source": [
    "**Сгруппируем данные по названиям заведений и найдите топ-15 популярных сетей в Москве.**"
   ]
  },
  {
   "cell_type": "code",
   "execution_count": null,
   "metadata": {},
   "outputs": [],
   "source": [
    "#группируем топ 15 заведений Москвы \n",
    "top_chains = moscow_places[moscow_places['chain'] == True].groupby('name').count().sort_values(by='category', ascending=False).head(15)\n",
    "\n",
    "# создаем график\n",
    "plt.figure(figsize=(10,10))\n",
    "sns.barplot(x='category', y=top_chains.index, data=top_chains, palette='bright')\n",
    "plt.title('Топ-15 популярных сетей в Москве')\n",
    "plt.xlabel('Количество заведений')\n",
    "plt.ylabel('Название сети')\n",
    "plt.xticks(rotation=45)\n",
    "plt.show()"
   ]
  },
  {
   "cell_type": "markdown",
   "metadata": {},
   "source": [
    "Самые популярные сети это Шоколадница, Домино'с пицца и ДоДо пицца. Большинство заведений имеют глобальное присутствие и имеют строгий брендинг в своих заведениях."
   ]
  },
  {
   "cell_type": "code",
   "execution_count": null,
   "metadata": {},
   "outputs": [],
   "source": [
    "# группируем данные по категориям и находим топ-15 популярных\n",
    "top_chains = moscow_places[moscow_places['chain'] == True].groupby('category')['name'].count().sort_values(ascending=False)\n",
    "\n",
    "# создаем график\n",
    "plt.figure(figsize=(10,6))\n",
    "sns.barplot(x=top_chains, y=top_chains.index, palette='bright')\n",
    "plt.title('Топ категорий сетевых заведений в Москве')\n",
    "plt.xlabel('Количество заведений')\n",
    "plt.ylabel('Категория заведени')\n",
    "plt.show()"
   ]
  },
  {
   "cell_type": "markdown",
   "metadata": {},
   "source": [
    "По категориям сетевых мест выходит, что кафе, рестораны и кофейни, занимают большую часть сетевых заведений. В категории пиццерия, есть два больших игрока \"Доминос Пицца\" и \"Додо Пицца\", которые занимают большую часть категории пиццерия среди сетевых мест."
   ]
  },
  {
   "cell_type": "markdown",
   "metadata": {},
   "source": [
    "**Узнаем какие административные районы Москвы присутствуют в датасете. Отобразим общее количество заведений и количество заведений каждой категории по районам.**"
   ]
  },
  {
   "cell_type": "code",
   "execution_count": null,
   "metadata": {},
   "outputs": [],
   "source": [
    "# узнаем какиe районы в Mоскве присутствуют у нас в данных\n",
    "moscow_places['district'].unique()"
   ]
  },
  {
   "cell_type": "code",
   "execution_count": null,
   "metadata": {},
   "outputs": [],
   "source": [
    "moscow_district = moscow_places.groupby(['category', 'district'])['name'].count().reset_index()\n",
    "# создаем график\n",
    "plt.figure(figsize=(15,10))\n",
    "sns.barplot(x='district', y='name', hue='category', data=moscow_district)\n",
    "plt.title('Административные районы Москвы')\n",
    "plt.xlabel('Названия районов')\n",
    "plt.ylabel('Количество заведений')\n",
    "plt.xticks(rotation=45)\n",
    "plt.show()"
   ]
  },
  {
   "cell_type": "markdown",
   "metadata": {},
   "source": [
    "Центр лидирует по колиству баров, кафе, кофейн и ресторанов, это и не удивительно туристическое место. Большой поток людей. В остальных более мене всё одинаково. Немного отличается Северо-Восточный округ. Самые маленькие показатели в Северо-западном округе. "
   ]
  },
  {
   "cell_type": "markdown",
   "metadata": {},
   "source": [
    "**Распределение средних рейтингов по категориям заведений.**"
   ]
  },
  {
   "cell_type": "code",
   "execution_count": null,
   "metadata": {},
   "outputs": [],
   "source": [
    "mean_ratings = moscow_places.groupby('category')['rating'].mean().reset_index()\n",
    "# создаем график\n",
    "plt.figure(figsize=(12, 6))\n",
    "sns.boxplot(x='category', y='rating', data=mean_ratings)\n",
    "plt.title('Распределение средних рейтингов по категориям заведений')\n",
    "plt.xlabel('Категория')\n",
    "plt.ylabel('Средний рейтинг')\n",
    "plt.xticks(rotation=45)\n",
    "plt.show()"
   ]
  },
  {
   "cell_type": "markdown",
   "metadata": {},
   "source": [
    "Самый высокий рейтинг у баров и пабов. Остальные +- одинаково от 4,20 до 4,30. Самый низкий у заведений быстрого питания, т.к. скорее всего вкус и качетсва продуктов неочень - 4,05 (шаурмичные)) и кафе 4,13. "
   ]
  },
  {
   "cell_type": "markdown",
   "metadata": {},
   "source": [
    "**Построим фоновую картограмму (хороплет) со средним рейтингом заведений каждого района.**"
   ]
  },
  {
   "cell_type": "code",
   "execution_count": null,
   "metadata": {},
   "outputs": [],
   "source": [
    "rating_data = moscow_places.groupby('district', as_index=False)['rating'].agg('median')\n",
    "ratings_geo = 'https://code.s3.yandex.net/datasets/admin_level_geomap.geojson'\n",
    "moscow_lat, moscow_lng = 55.751244, 37.618423\n",
    "m = Map(location=[moscow_lat, moscow_lng], zoom_start=10)\n",
    "Choropleth(\n",
    "    geo_data=ratings_geo,\n",
    "    data=rating_data,\n",
    "    columns=['district', 'rating'],\n",
    "    key_on='feature.name',\n",
    "    fill_color='YlGn',\n",
    "    fill_opacity=0.8,\n",
    "    legend_name='Cредний рейтинг заведений каждого района',\n",
    ").add_to(m)\n",
    "\n",
    "m"
   ]
  },
  {
   "cell_type": "markdown",
   "metadata": {},
   "source": [
    "Как и ожидалось в центре средняя оценка выше чем в остальных и держиться в районе 4.4. По большенству районов Москвы рейтинг держиться в районе 4,27 - 4,3. Юго - Восточный и Северо - Восточный административные округа и район Люберец отстают от общей оценки."
   ]
  },
  {
   "cell_type": "markdown",
   "metadata": {},
   "source": [
    "**Отобразить все заведения датасета на карте с помощью кластеров средствами библиотеки folium.**"
   ]
  },
  {
   "cell_type": "code",
   "execution_count": null,
   "metadata": {},
   "outputs": [],
   "source": [
    "moscow_lat, moscow_lng = 55.751244, 37.618423\n",
    "m = Map(location=[moscow_lat, moscow_lng], zoom_start=10)\n",
    "marker_cluster = MarkerCluster().add_to(m)\n",
    "def create_clusters(row):\n",
    "    Marker(\n",
    "        [row['lat'], row['lng']],\n",
    "        popup=f\"{row['name']} {row['rating']}\",\n",
    "    ).add_to(marker_cluster)\n",
    "\n",
    "moscow_places.apply(create_clusters, axis=1)\n",
    "\n",
    "m"
   ]
  },
  {
   "cell_type": "markdown",
   "metadata": {},
   "source": [
    "Большая часть заведений находится в центре, что может быть связано с большим потоком туристов и жителей города в этом районе."
   ]
  },
  {
   "cell_type": "markdown",
   "metadata": {},
   "source": [
    "**Топ-15 улиц по количеству заведений.**"
   ]
  },
  {
   "cell_type": "code",
   "execution_count": null,
   "metadata": {},
   "outputs": [],
   "source": [
    "# получаем топ-15 улиц по количеству заведений\n",
    "streets = moscow_places['address'].str.split(',', expand=True)[1].str.strip()\n",
    "top_15_streets = streets.value_counts().head(15).index.tolist()\n",
    "top_15_streets = moscow_places[streets.isin(top_15_streets)]\n",
    "grouped = top_15_streets.groupby(['street', 'category'])['name'].count().reset_index()\n",
    "\n",
    "# построение графика\n",
    "plt.figure(figsize=(20, 8))\n",
    "sns.barplot(x='street', y='name', hue='category', data=grouped)\n",
    "plt.title('Распределение количества заведений и их категорий по топ-15 улицам')\n",
    "plt.xlabel('Улица')\n",
    "plt.ylabel('Количество заведений')\n",
    "plt.xticks(rotation=45, ha='right')\n",
    "plt.legend(title='Категория заведения', loc='upper right')\n",
    "plt.show()"
   ]
  },
  {
   "cell_type": "markdown",
   "metadata": {},
   "source": [
    "Проспект мира лидирует по кол-ву заведений, это связанно с тем что она длинная и находиться в туристическом районе москвы, рядом с ВДНХ.\n",
    "На МКАДЕ анамальное количество кафе, связано с тем, что большое количество водителей останавливается перекусить,получается выгодно строить рядом с большой трассой кафе."
   ]
  },
  {
   "cell_type": "markdown",
   "metadata": {},
   "source": [
    "**Найдём улицы, на которых находится только один объект общепита.**"
   ]
  },
  {
   "cell_type": "code",
   "execution_count": null,
   "metadata": {},
   "outputs": [],
   "source": [
    "street_counts = moscow_places['street'].value_counts()\n",
    "one_place_streets = street_counts[street_counts == 1].index.tolist()\n",
    "\n",
    "one_place = moscow_places[moscow_places['street'].isin(one_place_streets)]\n",
    "\n",
    "\n",
    "grouped_one_place = one_place.groupby('street').mean().reset_index()\n",
    "grouped_one_place = pd.merge(grouped_one_place, moscow_places[['street', 'lat', 'lng', 'name', 'category']], on='street', how='left')\n",
    "grouped_one_place.drop_duplicates(subset='street', inplace=True)\n",
    "\n",
    "moscow_lat, moscow_lng = 55.751244, 37.618423\n",
    "\n",
    "a = Map(location=[moscow_lat, moscow_lng], zoom_start=10)\n",
    "# создаём пустой кластер, добавляем его на карту\n",
    "marker_cluster = MarkerCluster().add_to(a)\n",
    "\n",
    "def create_clusters(row):\n",
    "    Marker(\n",
    "        [row['lat_x'], row['lng_x']],\n",
    "        popup=f\"{row['name']} {row['rating']} {row['category']}\",\n",
    "    ).add_to(marker_cluster)\n",
    "\n",
    "grouped_one_place.apply(create_clusters, axis=1)\n",
    "\n",
    "a"
   ]
  },
  {
   "cell_type": "markdown",
   "metadata": {},
   "source": [
    "Множество улиц с одним заведением находятся в центре, возможно это связано с тем, что в центре улицы небольшие и невыгодно держать большое количество заведений на одной улице. Плюс на этих улицах высокая конкуренция, что подтвергается риску.\n",
    "\n",
    "Относительно заведений в других районах можно сказать, что наличие только одного заведения на улице может означать, что эта улица не является популярной для размещения общепита, и может не иметь высокого трафика посетителей."
   ]
  },
  {
   "cell_type": "code",
   "execution_count": null,
   "metadata": {},
   "outputs": [],
   "source": [
    "grouped_one_place['street'].nunique()"
   ]
  },
  {
   "cell_type": "markdown",
   "metadata": {},
   "source": [
    "**Как удалённость от центра влияет на цены в заведениях.**"
   ]
  },
  {
   "cell_type": "code",
   "execution_count": null,
   "metadata": {},
   "outputs": [],
   "source": [
    "rating_dengi = moscow_places.groupby('district')['middle_avg_bill'].median().reset_index()\n",
    "moscow_lat, moscow_lng = 55.751244, 37.618423\n",
    "\n",
    "d = Map(location=[moscow_lat, moscow_lng], zoom_start=10)\n",
    "\n",
    "Choropleth(\n",
    "    geo_data=ratings_geo,\n",
    "    data=rating_dengi,\n",
    "    columns=['district', 'middle_avg_bill'],\n",
    "    key_on='feature.name',\n",
    "    fill_color='YlGn',\n",
    "    fill_opacity=0.8,\n",
    "    legend_name='Цены',\n",
    ").add_to(d)\n",
    "\n",
    "d"
   ]
  },
  {
   "cell_type": "markdown",
   "metadata": {},
   "source": [
    "Центральный и западный административные округа лидируют по среднему счету по Москве. Это связано с тем, что основная делавая активность проходит в этих округах.\n",
    "Можно сделать вывод, что удаленность от центра города влияет на цены в заведениях. В более удаленных районах цены в среднем ниже, чем в центре города."
   ]
  },
  {
   "cell_type": "code",
   "execution_count": null,
   "metadata": {},
   "outputs": [],
   "source": [
    "moscow_places['middle_avg_bill'].describe()"
   ]
  },
  {
   "cell_type": "code",
   "execution_count": null,
   "metadata": {},
   "outputs": [],
   "source": [
    "median_bill = moscow_places.groupby('district')['middle_avg_bill'].median().reset_index()\n",
    "median_bill"
   ]
  },
  {
   "cell_type": "markdown",
   "metadata": {},
   "source": [
    "**Общий вывод:**\n",
    "\n",
    "**Категории заведений:**\n",
    "\n",
    "- Москве наибольшее количество заведений общественного питания относится к категориям кафе, рестораны и кофейни.\n",
    "- Большинство заведений являются несетевыми, однако сетевые заведения также имеют значительное присутствие на рынке.\n",
    "- Лидерами среди сетевых заведений являются \"Шоколадница\", \"Доминос Пицца\" и \"Додо Пицца\".\n",
    "\n",
    "**Кол-во мест:**\n",
    "\n",
    "В заведениях, кроме булочных и пиццерий, максимальное количество посадочных мест обычно составляет 300, а среднее количество мест - около 150. Однако у булочных и пиццерий сетевых мест больше.\n",
    "\n",
    "**Рейтинг:**\n",
    "\n",
    "- Средняя оценка заведений в категории баров выше, чем в других категориях, что может свидетельствовать о более высоком качестве обслуживания и продуктов в барах.\n",
    "- Заведения быстрого питания и кафе имеют более низкие оценки, что может быть связано с низким качеством продуктов и обслуживания.\n",
    "- Большинство заведений имеют рейтинг от 4,21 до 4,3, что указывает на достаточно стабильный уровень качества обслуживания в общепите в Москве.\n",
    "- Средняя оценка заведений в центре Москвы выше, чем в других районах, что может быть связано с более высоким уровнем конкуренции и требований к качеству обслуживания в центре города.\n",
    "\n",
    "**Расположение:**\n",
    "\n",
    "- В центральном административном округе Москвы больше всего заведений общественного питания, что объясняется его туристическим потенциалом и большим потоком людей.\n",
    "- Наличие только одного заведения на улице в центре может быть связано с конкуренцией и невыгодностью держать большое количество заведений на одной улице. В других районах это может быть связано с низким спросом на общепит на данной улице.\n",
    "\n",
    "**Цены:**\n",
    "\n",
    "- Цены в заведениях в центре города выше, чем в более удаленных районах, возможно это связано с более высокой арендной платой и требованиями к качеству обслуживания в центре города.\n",
    "- Средний чек центрального округа и западного самые высокие. Бюджетные заведения легче встретить ЮАО, ЮВАО и СВАО."
   ]
  },
  {
   "cell_type": "markdown",
   "metadata": {},
   "source": [
    "**Шаг 4. Детализируем исследование: открытие кофейни.**\n",
    "\n",
    "- Сколько всего кофеен в датасете? В каких районах их больше всего, каковы особенности их расположения?\n",
    "- Есть ли круглосуточные кофейни?\n",
    "- Какие у кофеен рейтинги? Как они распределяются по районам?\n",
    "- На какую стоимость чашки капучино стоит ориентироваться при открытии и почему?"
   ]
  },
  {
   "cell_type": "code",
   "execution_count": null,
   "metadata": {},
   "outputs": [],
   "source": [
    "#узнаем сколько всего кофеен \n",
    "coffee_moscow = moscow_places[moscow_places['category'] == 'кофейня']\n",
    "print(f\"Всего кофеен: {len(coffee_moscow)}\")"
   ]
  },
  {
   "cell_type": "code",
   "execution_count": null,
   "metadata": {},
   "outputs": [],
   "source": [
    "coffee_district = coffee_moscow.groupby('district', as_index=False)['name'].agg('count').sort_values('name', ascending=False)\n",
    "\n",
    "a = Map(location=[moscow_lat, moscow_lng], zoom_start=10)\n",
    "\n",
    "Choropleth(\n",
    "    geo_data=ratings_geo,\n",
    "    data=coffee_district,\n",
    "    columns=['district', 'name'],\n",
    "    key_on='feature.name',\n",
    "    fill_color='YlGn',\n",
    "    fill_opacity=0.8,\n",
    "    legend_name='Количество кофеен по районам',\n",
    ").add_to(a)\n",
    "\n",
    "a"
   ]
  },
  {
   "cell_type": "code",
   "execution_count": null,
   "metadata": {},
   "outputs": [],
   "source": [
    "# Количеством кофеен по районам\n",
    "print(\"Количеством кофеен по районам:\")\n",
    "print(coffee_district)"
   ]
  },
  {
   "cell_type": "markdown",
   "metadata": {},
   "source": [
    "Больше всего кофеен в ЦАО. Много туристических мест и также большое колиство офисов центров и других зданий с высоким колиством посетителей. ЮЗАО,ЮВАО и СЗАО находится меньше колиствов кофеен, т.к. являются спальными районами и имееют более низкую плотность населения и бизнеса. "
   ]
  },
  {
   "cell_type": "code",
   "execution_count": null,
   "metadata": {},
   "outputs": [],
   "source": [
    "#узнаем есть ли круглосуточные кофейни\n",
    "coffee_times = coffee_moscow[coffee_moscow['is_24/7'] == True]\n",
    "print(f\"Круглосуточные кофейни: {len (coffee_times)}\")"
   ]
  },
  {
   "cell_type": "code",
   "execution_count": null,
   "metadata": {},
   "outputs": [],
   "source": [
    "coffee_times_distric = moscow_places[moscow_places['is_24/7'] == True]\n",
    "n = Map(location=[moscow_lat, moscow_lng], zoom_start=10)\n",
    "marker_cluster = MarkerCluster().add_to(n)\n",
    "\n",
    "def create_clusters(row):\n",
    "    Marker(\n",
    "        [row['lat'], row['lng']],\n",
    "        popup=f\"{row['name']} {row['rating']} {row['category']}\",\n",
    "    ).add_to(marker_cluster)\n",
    "\n",
    "coffee_times.apply(create_clusters, axis=1)\n",
    "\n",
    "n"
   ]
  },
  {
   "cell_type": "markdown",
   "metadata": {},
   "source": [
    "Всего 59 круглосуточных кофеен. Больше всего их в ЦАО."
   ]
  },
  {
   "cell_type": "code",
   "execution_count": null,
   "metadata": {},
   "outputs": [],
   "source": [
    "#район-медианное значение среднего чека\n",
    "medians_coffee = coffee_moscow.groupby('district')['middle_avg_bill'].median().reset_index()\n",
    "f = Map(location=[moscow_lat, moscow_lng], zoom_start=10)\n",
    "\n",
    "Choropleth(\n",
    "    geo_data=ratings_geo,\n",
    "    data=medians_coffee,\n",
    "    columns=['district', 'middle_avg_bill'],\n",
    "    key_on='feature.name',\n",
    "    fill_color='YlGn',\n",
    "    fill_opacity=0.8,\n",
    "    legend_name='Средний чек по районам',\n",
    ").add_to(f)\n",
    "\n",
    "f"
   ]
  },
  {
   "cell_type": "markdown",
   "metadata": {},
   "source": [
    "Тут мы посмотрели средний счёт в кофейнях. на первом месте ЗАО, затем следует ЦАО."
   ]
  },
  {
   "cell_type": "code",
   "execution_count": null,
   "metadata": {},
   "outputs": [],
   "source": [
    "rating_coffee = coffee_moscow.groupby('district', as_index=False)['rating'].agg('median')\n",
    "w = Map(location=[moscow_lat, moscow_lng], zoom_start=10)\n",
    "\n",
    "Choropleth(\n",
    "    geo_data=ratings_geo,\n",
    "    data=rating_coffee,\n",
    "    columns=['district', 'rating'],\n",
    "    key_on='feature.name',\n",
    "    fill_color='YlGn',\n",
    "    fill_opacity=0.8,\n",
    "    legend_name='Рейтинг по районам',\n",
    ").add_to(w)\n",
    "\n",
    "w"
   ]
  },
  {
   "cell_type": "markdown",
   "metadata": {},
   "source": [
    "Всё очень странно, лучших в средних ценах ЗАО - очень просел в рейтинге в отличии от других районов."
   ]
  },
  {
   "cell_type": "code",
   "execution_count": null,
   "metadata": {},
   "outputs": [],
   "source": [
    "#узнаем среднюю стоимость чашки в кофейне \n",
    "def average_cappuccino_price(dataframe):\n",
    "    cappuccino_prices = []\n",
    "    for feature in dataframe['avg_bill']:\n",
    "        if isinstance(feature, str):\n",
    "            match = re.search(r'Цена чашки капучино:\\d+–(\\d+)', feature)\n",
    "            if match:\n",
    "                cappuccino_prices.append(int(match.group(1)))\n",
    "\n",
    "    avg_cappuccino_price = sum(cappuccino_prices) / len(cappuccino_prices)\n",
    "    avg_cappuccino_price = round(avg_cappuccino_price, 2)\n",
    "    return avg_cappuccino_price"
   ]
  },
  {
   "cell_type": "code",
   "execution_count": null,
   "metadata": {},
   "outputs": [],
   "source": [
    "print('Средняя цена на чашку капучино равна:', average_cappuccino_price(moscow_places))"
   ]
  },
  {
   "cell_type": "markdown",
   "metadata": {},
   "source": [
    "**Вывод\n",
    "Рекомендации:**\n",
    "\n",
    "- В западном административом округе средний счет самый высокий по Москве. Это может указывать на то, что в этом районе много людей, готовых потратить деньги на качественный кофе и дополнительные услуги. Но и самый низкий рейтинг, это говорит о то что не смотря, либо на плохое обслуживание или не вкусный кофе/выпечку люди всё равно покупают продукцию. И если открывать там кофейню и так сказать держать \"марку\", то возможно посетители перейдут к вам из-за сервиса и вкусного кофе.\n",
    "\n",
    "- Учитывайте среднюю цену на чашку капучино в 216 рублей, чтобы определить ценовую политику вашей кофейни. Вам, возможно, стоит установить более конкурентоспособные цены, чтобы привлечь посетителей.\n",
    "\n",
    "- Разработайте уникальную концепцию кофейни, чтобы выделиться на фоне конкурентов. Например, вы можете предложить редкие сорта кофе, уникальный дизайн интерьера или необычные десерты и закуски."
   ]
  },
  {
   "cell_type": "markdown",
   "metadata": {},
   "source": [
    "**Шаг 5. Подготовка презентации.**"
   ]
  },
  {
   "cell_type": "markdown",
   "metadata": {},
   "source": [
    "Презентация: https://disk.yandex.ru/i/lbejgbwisQyPhQ"
   ]
  }
 ],
 "metadata": {
  "ExecuteTimeLog": [
   {
    "duration": 47,
    "start_time": "2023-08-24T10:53:02.356Z"
   },
   {
    "duration": 381,
    "start_time": "2023-08-24T10:53:25.076Z"
   },
   {
    "duration": 231,
    "start_time": "2023-08-24T10:53:26.608Z"
   },
   {
    "duration": 1087,
    "start_time": "2023-08-24T10:54:41.456Z"
   },
   {
    "duration": 16,
    "start_time": "2023-08-24T10:55:14.712Z"
   },
   {
    "duration": 32,
    "start_time": "2023-08-24T10:55:45.863Z"
   },
   {
    "duration": 32,
    "start_time": "2023-08-24T10:56:22.835Z"
   },
   {
    "duration": 4,
    "start_time": "2023-08-24T11:00:33.791Z"
   },
   {
    "duration": 5,
    "start_time": "2023-08-24T11:01:47.247Z"
   },
   {
    "duration": 205,
    "start_time": "2023-08-24T11:04:24.432Z"
   },
   {
    "duration": 67,
    "start_time": "2023-08-24T11:06:18.713Z"
   },
   {
    "duration": 44,
    "start_time": "2023-08-24T11:06:19.302Z"
   },
   {
    "duration": 24,
    "start_time": "2023-08-24T11:13:15.064Z"
   },
   {
    "duration": 17,
    "start_time": "2023-08-24T11:13:43.344Z"
   },
   {
    "duration": 8,
    "start_time": "2023-08-24T11:14:12.890Z"
   },
   {
    "duration": 9,
    "start_time": "2023-08-24T11:15:32.093Z"
   },
   {
    "duration": 30,
    "start_time": "2023-08-24T11:17:38.505Z"
   },
   {
    "duration": 2154,
    "start_time": "2023-08-24T11:21:16.470Z"
   },
   {
    "duration": 1357,
    "start_time": "2023-08-24T11:21:30.698Z"
   },
   {
    "duration": 16,
    "start_time": "2023-08-24T11:24:07.337Z"
   },
   {
    "duration": 25,
    "start_time": "2023-08-24T11:24:20.265Z"
   },
   {
    "duration": 101,
    "start_time": "2023-08-24T11:31:06.166Z"
   },
   {
    "duration": 16,
    "start_time": "2023-08-24T11:31:10.265Z"
   },
   {
    "duration": 19,
    "start_time": "2023-08-24T11:31:44.289Z"
   },
   {
    "duration": 14,
    "start_time": "2023-08-24T11:32:48.265Z"
   },
   {
    "duration": 78,
    "start_time": "2023-08-24T11:35:04.429Z"
   },
   {
    "duration": 63,
    "start_time": "2023-08-24T11:35:04.873Z"
   },
   {
    "duration": 37,
    "start_time": "2023-08-24T11:35:06.032Z"
   },
   {
    "duration": 16,
    "start_time": "2023-08-24T11:35:07.880Z"
   },
   {
    "duration": 9,
    "start_time": "2023-08-24T11:35:08.735Z"
   },
   {
    "duration": 21,
    "start_time": "2023-08-24T11:36:53.836Z"
   },
   {
    "duration": 182,
    "start_time": "2023-08-24T11:38:22.076Z"
   },
   {
    "duration": 23,
    "start_time": "2023-08-24T11:38:22.979Z"
   },
   {
    "duration": 152,
    "start_time": "2023-08-24T11:39:11.474Z"
   },
   {
    "duration": 163,
    "start_time": "2023-08-24T11:39:20.989Z"
   },
   {
    "duration": 23,
    "start_time": "2023-08-24T11:39:21.795Z"
   },
   {
    "duration": 14,
    "start_time": "2023-08-24T11:41:33.984Z"
   },
   {
    "duration": 10,
    "start_time": "2023-08-24T11:41:34.818Z"
   },
   {
    "duration": 15,
    "start_time": "2023-08-24T11:41:49.122Z"
   },
   {
    "duration": 3,
    "start_time": "2023-08-24T11:42:21.007Z"
   },
   {
    "duration": 1609,
    "start_time": "2023-08-24T11:42:57.376Z"
   },
   {
    "duration": 81,
    "start_time": "2023-08-24T11:42:58.987Z"
   },
   {
    "duration": 44,
    "start_time": "2023-08-24T11:42:59.070Z"
   },
   {
    "duration": 252,
    "start_time": "2023-08-24T11:42:59.117Z"
   },
   {
    "duration": 24,
    "start_time": "2023-08-24T11:42:59.372Z"
   },
   {
    "duration": 15,
    "start_time": "2023-08-24T11:42:59.398Z"
   },
   {
    "duration": 8,
    "start_time": "2023-08-24T11:42:59.415Z"
   },
   {
    "duration": 33,
    "start_time": "2023-08-24T11:42:59.424Z"
   },
   {
    "duration": 4,
    "start_time": "2023-08-24T11:43:54.609Z"
   },
   {
    "duration": 24,
    "start_time": "2023-08-24T11:45:26.395Z"
   },
   {
    "duration": 17,
    "start_time": "2023-08-24T11:45:40.994Z"
   },
   {
    "duration": 19,
    "start_time": "2023-08-24T11:47:02.839Z"
   },
   {
    "duration": 111,
    "start_time": "2023-08-24T11:48:00.701Z"
   },
   {
    "duration": 20,
    "start_time": "2023-08-24T11:48:01.462Z"
   },
   {
    "duration": 17,
    "start_time": "2023-08-24T11:48:18.800Z"
   },
   {
    "duration": 18,
    "start_time": "2023-08-24T11:48:45.131Z"
   },
   {
    "duration": 10,
    "start_time": "2023-08-24T11:50:09.464Z"
   },
   {
    "duration": 11,
    "start_time": "2023-08-24T11:50:12.730Z"
   },
   {
    "duration": 1572,
    "start_time": "2023-08-24T12:50:14.354Z"
   },
   {
    "duration": 66,
    "start_time": "2023-08-24T12:50:15.928Z"
   },
   {
    "duration": 33,
    "start_time": "2023-08-24T12:50:15.996Z"
   },
   {
    "duration": 188,
    "start_time": "2023-08-24T12:50:16.031Z"
   },
   {
    "duration": 23,
    "start_time": "2023-08-24T12:50:16.221Z"
   },
   {
    "duration": 23,
    "start_time": "2023-08-24T12:50:16.257Z"
   },
   {
    "duration": 7,
    "start_time": "2023-08-24T12:50:16.281Z"
   },
   {
    "duration": 10,
    "start_time": "2023-08-24T12:50:16.290Z"
   },
   {
    "duration": 24,
    "start_time": "2023-08-24T12:50:16.302Z"
   },
   {
    "duration": 46,
    "start_time": "2023-08-24T12:50:16.328Z"
   },
   {
    "duration": 116,
    "start_time": "2023-08-24T13:01:13.881Z"
   },
   {
    "duration": 19,
    "start_time": "2023-08-24T13:01:51.458Z"
   },
   {
    "duration": 174,
    "start_time": "2023-08-24T13:03:18.260Z"
   },
   {
    "duration": 21,
    "start_time": "2023-08-24T13:09:50.931Z"
   },
   {
    "duration": 18,
    "start_time": "2023-08-24T13:09:58.337Z"
   },
   {
    "duration": 13,
    "start_time": "2023-08-24T13:11:10.908Z"
   },
   {
    "duration": 327,
    "start_time": "2023-08-24T13:11:26.491Z"
   },
   {
    "duration": 191,
    "start_time": "2023-08-24T13:12:43.701Z"
   },
   {
    "duration": 309,
    "start_time": "2023-08-24T13:13:55.870Z"
   },
   {
    "duration": 173,
    "start_time": "2023-08-24T13:14:16.698Z"
   },
   {
    "duration": 174,
    "start_time": "2023-08-24T13:14:34.335Z"
   },
   {
    "duration": 271,
    "start_time": "2023-08-24T13:15:28.730Z"
   },
   {
    "duration": 172,
    "start_time": "2023-08-24T13:16:17.014Z"
   },
   {
    "duration": 100,
    "start_time": "2023-08-24T13:19:59.493Z"
   },
   {
    "duration": 225,
    "start_time": "2023-08-24T13:25:40.313Z"
   },
   {
    "duration": 185,
    "start_time": "2023-08-24T13:25:41.952Z"
   },
   {
    "duration": 118,
    "start_time": "2023-08-24T13:25:48.335Z"
   },
   {
    "duration": 367,
    "start_time": "2023-08-24T13:33:06.770Z"
   },
   {
    "duration": 19,
    "start_time": "2023-08-24T13:36:04.686Z"
   },
   {
    "duration": 20,
    "start_time": "2023-08-24T13:36:06.181Z"
   },
   {
    "duration": 180,
    "start_time": "2023-08-24T13:36:06.618Z"
   },
   {
    "duration": 252,
    "start_time": "2023-08-24T13:36:08.212Z"
   },
   {
    "duration": 190,
    "start_time": "2023-08-24T13:36:09.411Z"
   },
   {
    "duration": 99,
    "start_time": "2023-08-24T13:37:22.215Z"
   },
   {
    "duration": 229,
    "start_time": "2023-08-24T13:37:24.334Z"
   },
   {
    "duration": 103,
    "start_time": "2023-08-24T13:37:41.911Z"
   },
   {
    "duration": 243,
    "start_time": "2023-08-24T13:37:43.753Z"
   },
   {
    "duration": 133,
    "start_time": "2023-08-24T13:38:50.303Z"
   },
   {
    "duration": 190,
    "start_time": "2023-08-24T13:45:31.427Z"
   },
   {
    "duration": 192,
    "start_time": "2023-08-24T13:46:26.589Z"
   },
   {
    "duration": 246,
    "start_time": "2023-08-24T13:46:31.160Z"
   },
   {
    "duration": 216,
    "start_time": "2023-08-24T13:46:32.034Z"
   },
   {
    "duration": 227,
    "start_time": "2023-08-24T13:46:32.904Z"
   },
   {
    "duration": 22,
    "start_time": "2023-08-24T13:49:43.233Z"
   },
   {
    "duration": 228,
    "start_time": "2023-08-24T13:50:02.076Z"
   },
   {
    "duration": 19,
    "start_time": "2023-08-24T13:51:33.823Z"
   },
   {
    "duration": 236,
    "start_time": "2023-08-24T13:51:43.233Z"
   },
   {
    "duration": 1999,
    "start_time": "2023-08-25T07:34:51.773Z"
   },
   {
    "duration": 67,
    "start_time": "2023-08-25T07:34:53.775Z"
   },
   {
    "duration": 33,
    "start_time": "2023-08-25T07:34:53.843Z"
   },
   {
    "duration": 295,
    "start_time": "2023-08-25T07:34:53.879Z"
   },
   {
    "duration": 33,
    "start_time": "2023-08-25T07:34:54.177Z"
   },
   {
    "duration": 19,
    "start_time": "2023-08-25T07:34:54.212Z"
   },
   {
    "duration": 32,
    "start_time": "2023-08-25T07:34:54.232Z"
   },
   {
    "duration": 9,
    "start_time": "2023-08-25T07:34:54.266Z"
   },
   {
    "duration": 40,
    "start_time": "2023-08-25T07:34:54.276Z"
   },
   {
    "duration": 36,
    "start_time": "2023-08-25T07:34:54.320Z"
   },
   {
    "duration": 19,
    "start_time": "2023-08-25T07:34:54.358Z"
   },
   {
    "duration": 185,
    "start_time": "2023-08-25T07:34:54.378Z"
   },
   {
    "duration": 308,
    "start_time": "2023-08-25T07:34:54.565Z"
   },
   {
    "duration": 110,
    "start_time": "2023-08-25T07:34:54.875Z"
   },
   {
    "duration": 256,
    "start_time": "2023-08-25T07:34:54.987Z"
   },
   {
    "duration": 237,
    "start_time": "2023-08-25T07:43:35.627Z"
   },
   {
    "duration": 14,
    "start_time": "2023-08-25T07:50:02.723Z"
   },
   {
    "duration": 130,
    "start_time": "2023-08-25T07:50:43.809Z"
   },
   {
    "duration": 120,
    "start_time": "2023-08-25T07:50:57.944Z"
   },
   {
    "duration": 13,
    "start_time": "2023-08-25T07:51:07.589Z"
   },
   {
    "duration": 9,
    "start_time": "2023-08-25T07:52:59.467Z"
   },
   {
    "duration": 280,
    "start_time": "2023-08-25T07:53:13.831Z"
   },
   {
    "duration": 246,
    "start_time": "2023-08-25T07:56:48.303Z"
   },
   {
    "duration": 13,
    "start_time": "2023-08-25T07:58:06.607Z"
   },
   {
    "duration": 226,
    "start_time": "2023-08-25T07:58:27.938Z"
   },
   {
    "duration": 283,
    "start_time": "2023-08-25T07:58:50.218Z"
   },
   {
    "duration": 299,
    "start_time": "2023-08-25T08:03:15.923Z"
   },
   {
    "duration": 6,
    "start_time": "2023-08-25T08:30:08.450Z"
   },
   {
    "duration": 1596,
    "start_time": "2023-08-25T10:27:06.125Z"
   },
   {
    "duration": 110,
    "start_time": "2023-08-25T10:27:07.722Z"
   },
   {
    "duration": 30,
    "start_time": "2023-08-25T10:27:07.833Z"
   },
   {
    "duration": 151,
    "start_time": "2023-08-25T10:27:07.865Z"
   },
   {
    "duration": 33,
    "start_time": "2023-08-25T10:27:08.018Z"
   },
   {
    "duration": 13,
    "start_time": "2023-08-25T10:27:08.619Z"
   },
   {
    "duration": 9,
    "start_time": "2023-08-25T10:27:09.241Z"
   },
   {
    "duration": 3,
    "start_time": "2023-08-25T10:27:09.877Z"
   },
   {
    "duration": 22,
    "start_time": "2023-08-25T10:27:10.512Z"
   },
   {
    "duration": 18,
    "start_time": "2023-08-25T10:27:11.119Z"
   },
   {
    "duration": 16,
    "start_time": "2023-08-25T10:27:12.461Z"
   },
   {
    "duration": 141,
    "start_time": "2023-08-25T10:27:12.778Z"
   },
   {
    "duration": 247,
    "start_time": "2023-08-25T10:27:13.752Z"
   },
   {
    "duration": 87,
    "start_time": "2023-08-25T10:27:14.860Z"
   },
   {
    "duration": 228,
    "start_time": "2023-08-25T10:27:16.053Z"
   },
   {
    "duration": 235,
    "start_time": "2023-08-25T10:27:17.155Z"
   },
   {
    "duration": 5,
    "start_time": "2023-08-25T10:27:18.172Z"
   },
   {
    "duration": 9,
    "start_time": "2023-08-25T10:27:18.547Z"
   },
   {
    "duration": 4,
    "start_time": "2023-08-25T10:27:46.352Z"
   },
   {
    "duration": 8,
    "start_time": "2023-08-25T10:27:49.354Z"
   },
   {
    "duration": 107,
    "start_time": "2023-08-25T10:31:08.166Z"
   },
   {
    "duration": 10,
    "start_time": "2023-08-25T10:31:16.045Z"
   },
   {
    "duration": 22,
    "start_time": "2023-08-25T10:32:49.552Z"
   },
   {
    "duration": 582,
    "start_time": "2023-08-25T10:33:32.598Z"
   },
   {
    "duration": 465,
    "start_time": "2023-08-25T10:33:46.565Z"
   },
   {
    "duration": 583,
    "start_time": "2023-08-25T10:33:59.800Z"
   },
   {
    "duration": 463,
    "start_time": "2023-08-25T10:34:08.536Z"
   },
   {
    "duration": 549,
    "start_time": "2023-08-25T10:34:32.219Z"
   },
   {
    "duration": 586,
    "start_time": "2023-08-25T10:34:58.871Z"
   },
   {
    "duration": 147,
    "start_time": "2023-08-25T10:48:02.195Z"
   },
   {
    "duration": 251,
    "start_time": "2023-08-25T10:48:19.307Z"
   },
   {
    "duration": 6,
    "start_time": "2023-08-25T10:48:44.068Z"
   },
   {
    "duration": 18,
    "start_time": "2023-08-25T10:49:35.247Z"
   },
   {
    "duration": 17,
    "start_time": "2023-08-25T10:49:45.926Z"
   },
   {
    "duration": 215,
    "start_time": "2023-08-25T10:50:17.873Z"
   },
   {
    "duration": 248,
    "start_time": "2023-08-25T10:51:15.802Z"
   },
   {
    "duration": 22,
    "start_time": "2023-08-25T11:54:10.707Z"
   },
   {
    "duration": 18,
    "start_time": "2023-08-25T11:56:14.326Z"
   },
   {
    "duration": 22,
    "start_time": "2023-08-25T11:56:35.707Z"
   },
   {
    "duration": 115,
    "start_time": "2023-08-25T11:58:24.569Z"
   },
   {
    "duration": 114,
    "start_time": "2023-08-25T12:00:16.043Z"
   },
   {
    "duration": 9,
    "start_time": "2023-08-25T12:05:39.610Z"
   },
   {
    "duration": 11,
    "start_time": "2023-08-25T12:09:37.175Z"
   },
   {
    "duration": 11,
    "start_time": "2023-08-25T12:10:12.010Z"
   },
   {
    "duration": 13,
    "start_time": "2023-08-25T12:10:35.226Z"
   },
   {
    "duration": 8848,
    "start_time": "2023-08-25T12:11:44.463Z"
   },
   {
    "duration": 9250,
    "start_time": "2023-08-25T12:12:58.432Z"
   },
   {
    "duration": 120,
    "start_time": "2023-08-25T12:15:37.491Z"
   },
   {
    "duration": 606,
    "start_time": "2023-08-25T12:27:50.653Z"
   },
   {
    "duration": 601,
    "start_time": "2023-08-25T12:30:49.116Z"
   },
   {
    "duration": 6,
    "start_time": "2023-08-25T12:44:39.556Z"
   },
   {
    "duration": 12,
    "start_time": "2023-08-25T12:45:17.494Z"
   },
   {
    "duration": 8,
    "start_time": "2023-08-25T12:45:21.614Z"
   },
   {
    "duration": 489,
    "start_time": "2023-08-25T12:46:00.978Z"
   },
   {
    "duration": 1906,
    "start_time": "2023-08-25T12:49:12.663Z"
   },
   {
    "duration": 13,
    "start_time": "2023-08-25T12:51:04.576Z"
   },
   {
    "duration": 484,
    "start_time": "2023-08-25T12:51:12.474Z"
   },
   {
    "duration": 111,
    "start_time": "2023-08-25T12:59:37.349Z"
   },
   {
    "duration": 446,
    "start_time": "2023-08-25T13:16:24.540Z"
   },
   {
    "duration": 111,
    "start_time": "2023-08-25T13:44:51.118Z"
   },
   {
    "duration": 1346,
    "start_time": "2023-08-25T13:46:10.285Z"
   },
   {
    "duration": 61,
    "start_time": "2023-08-25T13:46:11.633Z"
   },
   {
    "duration": 29,
    "start_time": "2023-08-25T13:46:11.695Z"
   },
   {
    "duration": 149,
    "start_time": "2023-08-25T13:46:11.727Z"
   },
   {
    "duration": 22,
    "start_time": "2023-08-25T13:46:11.878Z"
   },
   {
    "duration": 15,
    "start_time": "2023-08-25T13:46:11.902Z"
   },
   {
    "duration": 31,
    "start_time": "2023-08-25T13:46:11.919Z"
   },
   {
    "duration": 3,
    "start_time": "2023-08-25T13:46:11.952Z"
   },
   {
    "duration": 28,
    "start_time": "2023-08-25T13:46:11.956Z"
   },
   {
    "duration": 21,
    "start_time": "2023-08-25T13:46:11.986Z"
   },
   {
    "duration": 18,
    "start_time": "2023-08-25T13:46:12.008Z"
   },
   {
    "duration": 162,
    "start_time": "2023-08-25T13:46:12.028Z"
   },
   {
    "duration": 273,
    "start_time": "2023-08-25T13:46:12.192Z"
   },
   {
    "duration": 102,
    "start_time": "2023-08-25T13:46:12.466Z"
   },
   {
    "duration": 227,
    "start_time": "2023-08-25T13:46:12.569Z"
   },
   {
    "duration": 249,
    "start_time": "2023-08-25T13:46:12.797Z"
   },
   {
    "duration": 4,
    "start_time": "2023-08-25T13:46:13.049Z"
   },
   {
    "duration": 497,
    "start_time": "2023-08-25T13:46:13.054Z"
   },
   {
    "duration": 229,
    "start_time": "2023-08-25T13:46:13.552Z"
   },
   {
    "duration": 16,
    "start_time": "2023-08-25T13:46:13.783Z"
   },
   {
    "duration": 118,
    "start_time": "2023-08-25T13:46:13.800Z"
   },
   {
    "duration": 8940,
    "start_time": "2023-08-25T13:46:13.920Z"
   },
   {
    "duration": 772,
    "start_time": "2023-08-25T13:46:22.862Z"
   },
   {
    "duration": 110,
    "start_time": "2023-08-25T13:46:23.635Z"
   },
   {
    "duration": 0,
    "start_time": "2023-08-25T13:46:23.746Z"
   },
   {
    "duration": 4,
    "start_time": "2023-08-25T13:46:53.761Z"
   },
   {
    "duration": 56,
    "start_time": "2023-08-25T13:46:54.164Z"
   },
   {
    "duration": 28,
    "start_time": "2023-08-25T13:46:54.618Z"
   },
   {
    "duration": 167,
    "start_time": "2023-08-25T13:46:55.076Z"
   },
   {
    "duration": 20,
    "start_time": "2023-08-25T13:46:55.573Z"
   },
   {
    "duration": 14,
    "start_time": "2023-08-25T13:46:57.079Z"
   },
   {
    "duration": 8,
    "start_time": "2023-08-25T13:46:58.335Z"
   },
   {
    "duration": 4,
    "start_time": "2023-08-25T13:46:59.470Z"
   },
   {
    "duration": 39,
    "start_time": "2023-08-25T13:47:00.467Z"
   },
   {
    "duration": 17,
    "start_time": "2023-08-25T13:47:01.704Z"
   },
   {
    "duration": 15,
    "start_time": "2023-08-25T13:47:04.311Z"
   },
   {
    "duration": 162,
    "start_time": "2023-08-25T13:47:04.328Z"
   },
   {
    "duration": 225,
    "start_time": "2023-08-25T13:47:06.242Z"
   },
   {
    "duration": 87,
    "start_time": "2023-08-25T13:47:08.214Z"
   },
   {
    "duration": 216,
    "start_time": "2023-08-25T13:47:10.133Z"
   },
   {
    "duration": 274,
    "start_time": "2023-08-25T13:47:14.272Z"
   },
   {
    "duration": 6,
    "start_time": "2023-08-25T13:47:16.435Z"
   },
   {
    "duration": 524,
    "start_time": "2023-08-25T13:47:17.327Z"
   },
   {
    "duration": 223,
    "start_time": "2023-08-25T13:47:24.136Z"
   },
   {
    "duration": 15,
    "start_time": "2023-08-25T13:47:25.516Z"
   },
   {
    "duration": 110,
    "start_time": "2023-08-25T13:47:26.598Z"
   },
   {
    "duration": 9330,
    "start_time": "2023-08-25T13:47:29.409Z"
   },
   {
    "duration": 804,
    "start_time": "2023-08-25T13:47:38.741Z"
   },
   {
    "duration": 647,
    "start_time": "2023-08-25T13:48:04.279Z"
   },
   {
    "duration": 484,
    "start_time": "2023-08-25T13:49:04.110Z"
   },
   {
    "duration": 118,
    "start_time": "2023-08-25T13:49:28.663Z"
   },
   {
    "duration": 1433,
    "start_time": "2023-08-25T13:49:46.220Z"
   },
   {
    "duration": 63,
    "start_time": "2023-08-25T13:49:47.655Z"
   },
   {
    "duration": 28,
    "start_time": "2023-08-25T13:49:47.720Z"
   },
   {
    "duration": 147,
    "start_time": "2023-08-25T13:49:47.750Z"
   },
   {
    "duration": 20,
    "start_time": "2023-08-25T13:49:47.899Z"
   },
   {
    "duration": 29,
    "start_time": "2023-08-25T13:49:47.921Z"
   },
   {
    "duration": 7,
    "start_time": "2023-08-25T13:49:47.952Z"
   },
   {
    "duration": 6,
    "start_time": "2023-08-25T13:49:47.960Z"
   },
   {
    "duration": 28,
    "start_time": "2023-08-25T13:49:47.967Z"
   },
   {
    "duration": 20,
    "start_time": "2023-08-25T13:49:48.001Z"
   },
   {
    "duration": 33,
    "start_time": "2023-08-25T13:49:48.022Z"
   },
   {
    "duration": 162,
    "start_time": "2023-08-25T13:49:48.056Z"
   },
   {
    "duration": 289,
    "start_time": "2023-08-25T13:49:48.220Z"
   },
   {
    "duration": 95,
    "start_time": "2023-08-25T13:49:48.511Z"
   },
   {
    "duration": 207,
    "start_time": "2023-08-25T13:49:48.607Z"
   },
   {
    "duration": 247,
    "start_time": "2023-08-25T13:49:48.816Z"
   },
   {
    "duration": 5,
    "start_time": "2023-08-25T13:49:49.065Z"
   },
   {
    "duration": 521,
    "start_time": "2023-08-25T13:49:49.072Z"
   },
   {
    "duration": 220,
    "start_time": "2023-08-25T13:49:49.595Z"
   },
   {
    "duration": 15,
    "start_time": "2023-08-25T13:49:49.817Z"
   },
   {
    "duration": 121,
    "start_time": "2023-08-25T13:49:49.833Z"
   },
   {
    "duration": 9038,
    "start_time": "2023-08-25T13:49:49.956Z"
   },
   {
    "duration": 784,
    "start_time": "2023-08-25T13:49:58.996Z"
   },
   {
    "duration": 491,
    "start_time": "2023-08-25T13:49:59.781Z"
   },
   {
    "duration": 109,
    "start_time": "2023-08-25T13:50:00.273Z"
   },
   {
    "duration": 1618,
    "start_time": "2023-08-28T07:28:39.481Z"
   },
   {
    "duration": 133,
    "start_time": "2023-08-28T07:28:41.101Z"
   },
   {
    "duration": 45,
    "start_time": "2023-08-28T07:28:41.236Z"
   },
   {
    "duration": 166,
    "start_time": "2023-08-28T07:28:41.283Z"
   },
   {
    "duration": 31,
    "start_time": "2023-08-28T07:28:41.451Z"
   },
   {
    "duration": 16,
    "start_time": "2023-08-28T07:28:41.483Z"
   },
   {
    "duration": 29,
    "start_time": "2023-08-28T07:28:41.501Z"
   },
   {
    "duration": 10,
    "start_time": "2023-08-28T07:28:41.532Z"
   },
   {
    "duration": 38,
    "start_time": "2023-08-28T07:28:41.543Z"
   },
   {
    "duration": 19,
    "start_time": "2023-08-28T07:28:41.584Z"
   },
   {
    "duration": 18,
    "start_time": "2023-08-28T07:28:41.624Z"
   },
   {
    "duration": 181,
    "start_time": "2023-08-28T07:28:41.644Z"
   },
   {
    "duration": 298,
    "start_time": "2023-08-28T07:28:41.826Z"
   },
   {
    "duration": 107,
    "start_time": "2023-08-28T07:28:42.126Z"
   },
   {
    "duration": 245,
    "start_time": "2023-08-28T07:28:42.235Z"
   },
   {
    "duration": 268,
    "start_time": "2023-08-28T07:28:42.482Z"
   },
   {
    "duration": 5,
    "start_time": "2023-08-28T07:28:42.752Z"
   },
   {
    "duration": 604,
    "start_time": "2023-08-28T07:28:42.758Z"
   },
   {
    "duration": 263,
    "start_time": "2023-08-28T07:28:43.364Z"
   },
   {
    "duration": 22,
    "start_time": "2023-08-28T07:28:43.629Z"
   },
   {
    "duration": 212,
    "start_time": "2023-08-28T07:28:43.654Z"
   },
   {
    "duration": 9938,
    "start_time": "2023-08-28T07:28:43.868Z"
   },
   {
    "duration": 973,
    "start_time": "2023-08-28T07:28:53.808Z"
   },
   {
    "duration": 550,
    "start_time": "2023-08-28T07:28:54.783Z"
   },
   {
    "duration": 145,
    "start_time": "2023-08-28T07:28:55.335Z"
   },
   {
    "duration": 139,
    "start_time": "2023-08-28T07:55:20.526Z"
   },
   {
    "duration": 9,
    "start_time": "2023-08-28T07:55:27.398Z"
   },
   {
    "duration": 76,
    "start_time": "2023-08-28T07:55:51.017Z"
   },
   {
    "duration": 4,
    "start_time": "2023-08-28T07:55:54.840Z"
   },
   {
    "duration": 6,
    "start_time": "2023-08-28T07:56:32.491Z"
   },
   {
    "duration": 9,
    "start_time": "2023-08-28T07:56:43.422Z"
   },
   {
    "duration": 1646,
    "start_time": "2023-08-28T08:08:46.220Z"
   },
   {
    "duration": 341,
    "start_time": "2023-08-28T08:13:02.778Z"
   },
   {
    "duration": 6,
    "start_time": "2023-08-28T08:15:00.079Z"
   },
   {
    "duration": 211,
    "start_time": "2023-08-28T08:33:03.242Z"
   },
   {
    "duration": 11,
    "start_time": "2023-08-28T08:33:10.467Z"
   },
   {
    "duration": 4,
    "start_time": "2023-08-28T08:33:16.439Z"
   },
   {
    "duration": 4,
    "start_time": "2023-08-28T08:33:47.576Z"
   },
   {
    "duration": 5,
    "start_time": "2023-08-28T08:34:14.106Z"
   },
   {
    "duration": 5,
    "start_time": "2023-08-28T08:34:29.405Z"
   },
   {
    "duration": 7,
    "start_time": "2023-08-28T08:36:30.039Z"
   },
   {
    "duration": 1682,
    "start_time": "2023-08-28T08:39:12.520Z"
   },
   {
    "duration": 845,
    "start_time": "2023-08-28T08:54:16.322Z"
   },
   {
    "duration": 865,
    "start_time": "2023-08-28T08:54:26.802Z"
   },
   {
    "duration": 2338,
    "start_time": "2023-08-28T08:56:54.306Z"
   },
   {
    "duration": 945,
    "start_time": "2023-08-28T08:57:14.869Z"
   },
   {
    "duration": 6,
    "start_time": "2023-08-28T08:58:11.486Z"
   },
   {
    "duration": 6,
    "start_time": "2023-08-28T08:58:12.497Z"
   },
   {
    "duration": 900,
    "start_time": "2023-08-28T08:58:13.244Z"
   },
   {
    "duration": 15,
    "start_time": "2023-08-28T09:06:54.520Z"
   },
   {
    "duration": 11,
    "start_time": "2023-08-28T09:07:07.903Z"
   },
   {
    "duration": 12,
    "start_time": "2023-08-28T09:07:30.405Z"
   },
   {
    "duration": 6,
    "start_time": "2023-08-28T09:08:06.201Z"
   },
   {
    "duration": 146,
    "start_time": "2023-08-28T09:09:18.624Z"
   },
   {
    "duration": 120,
    "start_time": "2023-08-28T09:16:38.098Z"
   },
   {
    "duration": 353,
    "start_time": "2023-08-28T09:17:49.451Z"
   },
   {
    "duration": 2618,
    "start_time": "2023-08-28T09:19:48.405Z"
   },
   {
    "duration": 124,
    "start_time": "2023-08-28T09:20:29.414Z"
   },
   {
    "duration": 27,
    "start_time": "2023-08-28T09:26:03.705Z"
   },
   {
    "duration": 15,
    "start_time": "2023-08-28T09:26:48.316Z"
   },
   {
    "duration": 5,
    "start_time": "2023-08-28T09:31:57.117Z"
   },
   {
    "duration": 12,
    "start_time": "2023-08-28T09:32:09.719Z"
   },
   {
    "duration": 2742,
    "start_time": "2023-08-28T09:32:45.172Z"
   },
   {
    "duration": 174,
    "start_time": "2023-08-28T09:32:56.741Z"
   },
   {
    "duration": 2429,
    "start_time": "2023-08-28T09:33:02.492Z"
   },
   {
    "duration": 11,
    "start_time": "2023-08-28T09:33:50.968Z"
   },
   {
    "duration": 13,
    "start_time": "2023-08-28T09:34:06.621Z"
   },
   {
    "duration": 5,
    "start_time": "2023-08-28T09:34:16.300Z"
   },
   {
    "duration": 4,
    "start_time": "2023-08-28T09:34:48.218Z"
   },
   {
    "duration": 7,
    "start_time": "2023-08-28T09:34:48.681Z"
   },
   {
    "duration": 1604,
    "start_time": "2023-08-28T09:44:45.430Z"
   },
   {
    "duration": 80,
    "start_time": "2023-08-28T09:44:47.036Z"
   },
   {
    "duration": 32,
    "start_time": "2023-08-28T09:44:47.117Z"
   },
   {
    "duration": 167,
    "start_time": "2023-08-28T09:44:47.150Z"
   },
   {
    "duration": 25,
    "start_time": "2023-08-28T09:44:47.319Z"
   },
   {
    "duration": 15,
    "start_time": "2023-08-28T09:44:47.346Z"
   },
   {
    "duration": 9,
    "start_time": "2023-08-28T09:44:47.362Z"
   },
   {
    "duration": 3,
    "start_time": "2023-08-28T09:44:47.372Z"
   },
   {
    "duration": 56,
    "start_time": "2023-08-28T09:44:47.377Z"
   },
   {
    "duration": 28,
    "start_time": "2023-08-28T09:44:47.435Z"
   },
   {
    "duration": 26,
    "start_time": "2023-08-28T09:44:47.465Z"
   },
   {
    "duration": 160,
    "start_time": "2023-08-28T09:44:47.493Z"
   },
   {
    "duration": 274,
    "start_time": "2023-08-28T09:44:47.655Z"
   },
   {
    "duration": 102,
    "start_time": "2023-08-28T09:44:47.932Z"
   },
   {
    "duration": 234,
    "start_time": "2023-08-28T09:44:48.035Z"
   },
   {
    "duration": 261,
    "start_time": "2023-08-28T09:44:48.271Z"
   },
   {
    "duration": 5,
    "start_time": "2023-08-28T09:44:48.533Z"
   },
   {
    "duration": 563,
    "start_time": "2023-08-28T09:44:48.539Z"
   },
   {
    "duration": 238,
    "start_time": "2023-08-28T09:44:49.104Z"
   },
   {
    "duration": 118,
    "start_time": "2023-08-28T09:44:49.344Z"
   },
   {
    "duration": 9610,
    "start_time": "2023-08-28T09:44:49.464Z"
   },
   {
    "duration": 849,
    "start_time": "2023-08-28T09:44:59.075Z"
   },
   {
    "duration": 571,
    "start_time": "2023-08-28T09:44:59.926Z"
   },
   {
    "duration": 146,
    "start_time": "2023-08-28T09:45:00.499Z"
   },
   {
    "duration": 6,
    "start_time": "2023-08-28T09:45:00.647Z"
   },
   {
    "duration": 154,
    "start_time": "2023-08-28T09:45:00.655Z"
   },
   {
    "duration": 15,
    "start_time": "2023-08-28T09:45:00.811Z"
   },
   {
    "duration": 136,
    "start_time": "2023-08-28T09:45:00.828Z"
   },
   {
    "duration": 931,
    "start_time": "2023-08-28T09:45:00.966Z"
   },
   {
    "duration": 142,
    "start_time": "2023-08-28T09:45:01.899Z"
   },
   {
    "duration": 126,
    "start_time": "2023-08-28T09:45:02.043Z"
   },
   {
    "duration": 4,
    "start_time": "2023-08-28T09:45:02.171Z"
   },
   {
    "duration": 456,
    "start_time": "2023-08-28T09:45:02.177Z"
   },
   {
    "duration": 151,
    "start_time": "2023-08-28T09:48:56.971Z"
   },
   {
    "duration": 25,
    "start_time": "2023-08-28T12:26:00.342Z"
   },
   {
    "duration": 229,
    "start_time": "2023-08-28T12:26:00.824Z"
   },
   {
    "duration": 442,
    "start_time": "2023-08-28T13:16:23.653Z"
   },
   {
    "duration": 1425,
    "start_time": "2023-08-28T15:08:20.874Z"
   },
   {
    "duration": 77,
    "start_time": "2023-08-28T15:08:22.302Z"
   },
   {
    "duration": 30,
    "start_time": "2023-08-28T15:08:22.381Z"
   },
   {
    "duration": 162,
    "start_time": "2023-08-28T15:08:22.414Z"
   },
   {
    "duration": 22,
    "start_time": "2023-08-28T15:08:22.578Z"
   },
   {
    "duration": 37,
    "start_time": "2023-08-28T15:08:22.601Z"
   },
   {
    "duration": 9,
    "start_time": "2023-08-28T15:08:22.640Z"
   },
   {
    "duration": 23,
    "start_time": "2023-08-28T15:08:22.650Z"
   },
   {
    "duration": 35,
    "start_time": "2023-08-28T15:08:22.675Z"
   },
   {
    "duration": 43,
    "start_time": "2023-08-28T15:08:22.713Z"
   },
   {
    "duration": 24,
    "start_time": "2023-08-28T15:08:22.758Z"
   },
   {
    "duration": 192,
    "start_time": "2023-08-28T15:08:22.784Z"
   },
   {
    "duration": 295,
    "start_time": "2023-08-28T15:08:22.979Z"
   },
   {
    "duration": 109,
    "start_time": "2023-08-28T15:08:23.276Z"
   },
   {
    "duration": 236,
    "start_time": "2023-08-28T15:08:23.387Z"
   },
   {
    "duration": 272,
    "start_time": "2023-08-28T15:08:23.638Z"
   },
   {
    "duration": 5,
    "start_time": "2023-08-28T15:08:23.911Z"
   },
   {
    "duration": 639,
    "start_time": "2023-08-28T15:08:23.923Z"
   },
   {
    "duration": 236,
    "start_time": "2023-08-28T15:08:24.564Z"
   },
   {
    "duration": 146,
    "start_time": "2023-08-28T15:08:24.802Z"
   },
   {
    "duration": 9960,
    "start_time": "2023-08-28T15:08:24.950Z"
   },
   {
    "duration": 869,
    "start_time": "2023-08-28T15:08:34.912Z"
   },
   {
    "duration": 602,
    "start_time": "2023-08-28T15:08:35.783Z"
   },
   {
    "duration": 124,
    "start_time": "2023-08-28T15:08:36.386Z"
   },
   {
    "duration": 5,
    "start_time": "2023-08-28T15:08:36.511Z"
   },
   {
    "duration": 99,
    "start_time": "2023-08-28T15:08:36.518Z"
   },
   {
    "duration": 15,
    "start_time": "2023-08-28T15:08:36.625Z"
   },
   {
    "duration": 76,
    "start_time": "2023-08-28T15:08:36.643Z"
   },
   {
    "duration": 902,
    "start_time": "2023-08-28T15:08:36.720Z"
   },
   {
    "duration": 127,
    "start_time": "2023-08-28T15:08:37.624Z"
   },
   {
    "duration": 124,
    "start_time": "2023-08-28T15:08:37.753Z"
   },
   {
    "duration": 4,
    "start_time": "2023-08-28T15:08:37.878Z"
   },
   {
    "duration": 29,
    "start_time": "2023-08-28T15:08:37.884Z"
   },
   {
    "duration": 7,
    "start_time": "2023-08-28T15:18:58.719Z"
   },
   {
    "duration": 65,
    "start_time": "2023-08-28T15:18:59.280Z"
   },
   {
    "duration": 29,
    "start_time": "2023-08-28T15:18:59.874Z"
   },
   {
    "duration": 406,
    "start_time": "2023-08-28T15:19:00.374Z"
   },
   {
    "duration": 27,
    "start_time": "2023-08-28T15:19:00.827Z"
   },
   {
    "duration": 15,
    "start_time": "2023-08-28T15:19:01.863Z"
   },
   {
    "duration": 9,
    "start_time": "2023-08-28T15:19:02.462Z"
   },
   {
    "duration": 3,
    "start_time": "2023-08-28T15:19:03.218Z"
   },
   {
    "duration": 31,
    "start_time": "2023-08-28T15:19:03.915Z"
   },
   {
    "duration": 17,
    "start_time": "2023-08-28T15:19:04.688Z"
   },
   {
    "duration": 16,
    "start_time": "2023-08-28T15:19:07.038Z"
   },
   {
    "duration": 197,
    "start_time": "2023-08-28T15:19:07.564Z"
   },
   {
    "duration": 251,
    "start_time": "2023-08-28T15:19:09.243Z"
   },
   {
    "duration": 110,
    "start_time": "2023-08-28T15:19:10.860Z"
   },
   {
    "duration": 234,
    "start_time": "2023-08-28T15:19:13.008Z"
   },
   {
    "duration": 282,
    "start_time": "2023-08-28T15:19:15.261Z"
   },
   {
    "duration": 5,
    "start_time": "2023-08-28T15:19:19.450Z"
   },
   {
    "duration": 616,
    "start_time": "2023-08-28T15:19:20.196Z"
   },
   {
    "duration": 250,
    "start_time": "2023-08-28T15:19:22.732Z"
   },
   {
    "duration": 132,
    "start_time": "2023-08-28T15:19:24.814Z"
   },
   {
    "duration": 9950,
    "start_time": "2023-08-28T15:19:27.307Z"
   },
   {
    "duration": 894,
    "start_time": "2023-08-28T15:19:37.259Z"
   },
   {
    "duration": 535,
    "start_time": "2023-08-28T15:19:38.155Z"
   },
   {
    "duration": 120,
    "start_time": "2023-08-28T15:19:38.832Z"
   },
   {
    "duration": 6,
    "start_time": "2023-08-28T15:19:42.671Z"
   },
   {
    "duration": 124,
    "start_time": "2023-08-28T15:19:43.272Z"
   },
   {
    "duration": 5,
    "start_time": "2023-08-28T15:19:44.204Z"
   },
   {
    "duration": 5,
    "start_time": "2023-08-28T15:19:45.384Z"
   },
   {
    "duration": 804,
    "start_time": "2023-08-28T15:19:45.990Z"
   },
   {
    "duration": 127,
    "start_time": "2023-08-28T15:19:47.633Z"
   },
   {
    "duration": 121,
    "start_time": "2023-08-28T15:19:49.280Z"
   },
   {
    "duration": 8,
    "start_time": "2023-08-28T15:19:50.924Z"
   },
   {
    "duration": 7,
    "start_time": "2023-08-28T15:19:51.778Z"
   },
   {
    "duration": 1321,
    "start_time": "2023-08-28T15:42:03.011Z"
   },
   {
    "duration": 112,
    "start_time": "2023-08-28T15:42:04.334Z"
   },
   {
    "duration": 30,
    "start_time": "2023-08-28T15:42:04.448Z"
   },
   {
    "duration": 167,
    "start_time": "2023-08-28T15:42:04.480Z"
   },
   {
    "duration": 23,
    "start_time": "2023-08-28T15:42:04.649Z"
   },
   {
    "duration": 21,
    "start_time": "2023-08-28T15:42:04.674Z"
   },
   {
    "duration": 8,
    "start_time": "2023-08-28T15:42:04.697Z"
   },
   {
    "duration": 18,
    "start_time": "2023-08-28T15:42:04.707Z"
   },
   {
    "duration": 32,
    "start_time": "2023-08-28T15:42:04.727Z"
   },
   {
    "duration": 17,
    "start_time": "2023-08-28T15:42:04.762Z"
   },
   {
    "duration": 15,
    "start_time": "2023-08-28T15:42:04.781Z"
   },
   {
    "duration": 158,
    "start_time": "2023-08-28T15:42:04.798Z"
   },
   {
    "duration": 267,
    "start_time": "2023-08-28T15:42:04.957Z"
   },
   {
    "duration": 93,
    "start_time": "2023-08-28T15:42:05.225Z"
   },
   {
    "duration": 210,
    "start_time": "2023-08-28T15:42:05.320Z"
   },
   {
    "duration": 249,
    "start_time": "2023-08-28T15:42:05.531Z"
   },
   {
    "duration": 4,
    "start_time": "2023-08-28T15:42:05.782Z"
   },
   {
    "duration": 560,
    "start_time": "2023-08-28T15:42:05.787Z"
   },
   {
    "duration": 226,
    "start_time": "2023-08-28T15:42:06.348Z"
   },
   {
    "duration": 113,
    "start_time": "2023-08-28T15:42:06.576Z"
   },
   {
    "duration": 8783,
    "start_time": "2023-08-28T15:42:06.691Z"
   },
   {
    "duration": 771,
    "start_time": "2023-08-28T15:42:15.475Z"
   },
   {
    "duration": 509,
    "start_time": "2023-08-28T15:42:16.247Z"
   },
   {
    "duration": 133,
    "start_time": "2023-08-28T15:42:16.757Z"
   },
   {
    "duration": 6,
    "start_time": "2023-08-28T15:42:16.892Z"
   },
   {
    "duration": 136,
    "start_time": "2023-08-28T15:42:16.901Z"
   },
   {
    "duration": 5,
    "start_time": "2023-08-28T15:42:17.039Z"
   },
   {
    "duration": 12,
    "start_time": "2023-08-28T15:42:17.046Z"
   },
   {
    "duration": 755,
    "start_time": "2023-08-28T15:42:17.059Z"
   },
   {
    "duration": 111,
    "start_time": "2023-08-28T15:42:17.815Z"
   },
   {
    "duration": 101,
    "start_time": "2023-08-28T15:42:17.928Z"
   },
   {
    "duration": 3,
    "start_time": "2023-08-28T15:42:18.031Z"
   },
   {
    "duration": 37,
    "start_time": "2023-08-28T15:42:18.036Z"
   },
   {
    "duration": 24,
    "start_time": "2023-08-28T16:25:25.410Z"
   },
   {
    "duration": 77,
    "start_time": "2023-08-28T20:46:40.878Z"
   },
   {
    "duration": 1849,
    "start_time": "2023-08-28T20:46:54.045Z"
   },
   {
    "duration": 140,
    "start_time": "2023-08-28T20:46:55.896Z"
   },
   {
    "duration": 33,
    "start_time": "2023-08-28T20:46:56.038Z"
   },
   {
    "duration": 181,
    "start_time": "2023-08-28T20:46:56.073Z"
   },
   {
    "duration": 24,
    "start_time": "2023-08-28T20:46:56.256Z"
   },
   {
    "duration": 51,
    "start_time": "2023-08-28T20:46:56.281Z"
   },
   {
    "duration": 8,
    "start_time": "2023-08-28T20:46:56.335Z"
   },
   {
    "duration": 7,
    "start_time": "2023-08-28T20:46:56.344Z"
   },
   {
    "duration": 29,
    "start_time": "2023-08-28T20:46:56.352Z"
   },
   {
    "duration": 39,
    "start_time": "2023-08-28T20:46:56.383Z"
   },
   {
    "duration": 18,
    "start_time": "2023-08-28T20:46:56.427Z"
   },
   {
    "duration": 198,
    "start_time": "2023-08-28T20:46:56.446Z"
   },
   {
    "duration": 316,
    "start_time": "2023-08-28T20:46:56.646Z"
   },
   {
    "duration": 121,
    "start_time": "2023-08-28T20:46:56.964Z"
   },
   {
    "duration": 289,
    "start_time": "2023-08-28T20:46:57.086Z"
   },
   {
    "duration": 344,
    "start_time": "2023-08-28T20:46:57.378Z"
   },
   {
    "duration": 10,
    "start_time": "2023-08-28T20:46:57.724Z"
   },
   {
    "duration": 638,
    "start_time": "2023-08-28T20:46:57.736Z"
   },
   {
    "duration": 284,
    "start_time": "2023-08-28T20:46:58.376Z"
   },
   {
    "duration": 215,
    "start_time": "2023-08-28T20:46:58.662Z"
   },
   {
    "duration": 11942,
    "start_time": "2023-08-28T20:46:58.879Z"
   },
   {
    "duration": 1256,
    "start_time": "2023-08-28T20:47:10.829Z"
   },
   {
    "duration": 678,
    "start_time": "2023-08-28T20:47:12.087Z"
   },
   {
    "duration": 173,
    "start_time": "2023-08-28T20:47:12.769Z"
   },
   {
    "duration": 6,
    "start_time": "2023-08-28T20:47:12.944Z"
   },
   {
    "duration": 145,
    "start_time": "2023-08-28T20:47:12.952Z"
   },
   {
    "duration": 11,
    "start_time": "2023-08-28T20:47:13.099Z"
   },
   {
    "duration": 10,
    "start_time": "2023-08-28T20:47:13.115Z"
   },
   {
    "duration": 1048,
    "start_time": "2023-08-28T20:47:13.127Z"
   },
   {
    "duration": 194,
    "start_time": "2023-08-28T20:47:14.177Z"
   },
   {
    "duration": 151,
    "start_time": "2023-08-28T20:47:14.373Z"
   },
   {
    "duration": 8,
    "start_time": "2023-08-28T20:47:14.533Z"
   },
   {
    "duration": 41,
    "start_time": "2023-08-28T20:47:14.545Z"
   },
   {
    "duration": 1775,
    "start_time": "2023-08-28T20:50:05.134Z"
   },
   {
    "duration": 1630,
    "start_time": "2023-08-28T20:50:34.441Z"
   },
   {
    "duration": 14,
    "start_time": "2023-08-28T20:51:01.699Z"
   },
   {
    "duration": 91,
    "start_time": "2023-08-29T12:50:25.113Z"
   },
   {
    "duration": 142,
    "start_time": "2023-08-29T12:50:29.967Z"
   },
   {
    "duration": 51,
    "start_time": "2023-08-29T12:53:21.008Z"
   },
   {
    "duration": 1801,
    "start_time": "2023-08-29T12:53:32.747Z"
   },
   {
    "duration": 124,
    "start_time": "2023-08-29T12:53:34.550Z"
   },
   {
    "duration": 37,
    "start_time": "2023-08-29T12:53:34.676Z"
   },
   {
    "duration": 180,
    "start_time": "2023-08-29T12:53:34.715Z"
   },
   {
    "duration": 22,
    "start_time": "2023-08-29T12:53:34.897Z"
   },
   {
    "duration": 31,
    "start_time": "2023-08-29T12:53:34.921Z"
   },
   {
    "duration": 129,
    "start_time": "2023-08-29T12:53:34.954Z"
   },
   {
    "duration": 0,
    "start_time": "2023-08-29T12:53:35.086Z"
   },
   {
    "duration": 0,
    "start_time": "2023-08-29T12:53:35.087Z"
   },
   {
    "duration": 0,
    "start_time": "2023-08-29T12:53:35.088Z"
   },
   {
    "duration": 0,
    "start_time": "2023-08-29T12:53:35.089Z"
   },
   {
    "duration": 0,
    "start_time": "2023-08-29T12:53:35.091Z"
   },
   {
    "duration": 0,
    "start_time": "2023-08-29T12:53:35.092Z"
   },
   {
    "duration": 0,
    "start_time": "2023-08-29T12:53:35.093Z"
   },
   {
    "duration": 0,
    "start_time": "2023-08-29T12:53:35.094Z"
   },
   {
    "duration": 0,
    "start_time": "2023-08-29T12:53:35.095Z"
   },
   {
    "duration": 0,
    "start_time": "2023-08-29T12:53:35.096Z"
   },
   {
    "duration": 0,
    "start_time": "2023-08-29T12:53:35.098Z"
   },
   {
    "duration": 0,
    "start_time": "2023-08-29T12:53:35.099Z"
   },
   {
    "duration": 0,
    "start_time": "2023-08-29T12:53:35.100Z"
   },
   {
    "duration": 0,
    "start_time": "2023-08-29T12:53:35.102Z"
   },
   {
    "duration": 0,
    "start_time": "2023-08-29T12:53:35.103Z"
   },
   {
    "duration": 0,
    "start_time": "2023-08-29T12:53:35.104Z"
   },
   {
    "duration": 0,
    "start_time": "2023-08-29T12:53:35.105Z"
   },
   {
    "duration": 0,
    "start_time": "2023-08-29T12:53:35.107Z"
   },
   {
    "duration": 0,
    "start_time": "2023-08-29T12:53:35.108Z"
   },
   {
    "duration": 0,
    "start_time": "2023-08-29T12:53:35.147Z"
   },
   {
    "duration": 0,
    "start_time": "2023-08-29T12:53:35.148Z"
   },
   {
    "duration": 0,
    "start_time": "2023-08-29T12:53:35.149Z"
   },
   {
    "duration": 0,
    "start_time": "2023-08-29T12:53:35.150Z"
   },
   {
    "duration": 0,
    "start_time": "2023-08-29T12:53:35.151Z"
   },
   {
    "duration": 0,
    "start_time": "2023-08-29T12:53:35.152Z"
   },
   {
    "duration": 0,
    "start_time": "2023-08-29T12:53:35.153Z"
   },
   {
    "duration": 0,
    "start_time": "2023-08-29T12:53:35.154Z"
   },
   {
    "duration": 185,
    "start_time": "2023-08-29T13:00:31.549Z"
   },
   {
    "duration": 83,
    "start_time": "2023-08-29T13:01:19.488Z"
   },
   {
    "duration": 79,
    "start_time": "2023-08-29T13:01:32.748Z"
   },
   {
    "duration": 10,
    "start_time": "2023-08-29T13:02:34.898Z"
   },
   {
    "duration": 17,
    "start_time": "2023-08-29T13:02:58.019Z"
   },
   {
    "duration": 9,
    "start_time": "2023-08-29T13:05:05.094Z"
   },
   {
    "duration": 3,
    "start_time": "2023-08-29T13:05:05.905Z"
   },
   {
    "duration": 26,
    "start_time": "2023-08-29T13:05:06.714Z"
   },
   {
    "duration": 21,
    "start_time": "2023-08-29T13:05:07.518Z"
   },
   {
    "duration": 19,
    "start_time": "2023-08-29T13:05:09.210Z"
   },
   {
    "duration": 175,
    "start_time": "2023-08-29T13:05:09.586Z"
   },
   {
    "duration": 239,
    "start_time": "2023-08-29T13:05:11.156Z"
   },
   {
    "duration": 111,
    "start_time": "2023-08-29T13:05:13.629Z"
   },
   {
    "duration": 266,
    "start_time": "2023-08-29T13:05:16.114Z"
   },
   {
    "duration": 10,
    "start_time": "2023-08-29T14:05:38.060Z"
   },
   {
    "duration": 8,
    "start_time": "2023-08-29T14:06:05.133Z"
   },
   {
    "duration": 1729,
    "start_time": "2023-08-29T14:06:15.623Z"
   },
   {
    "duration": 68,
    "start_time": "2023-08-29T14:06:17.354Z"
   },
   {
    "duration": 33,
    "start_time": "2023-08-29T14:06:17.423Z"
   },
   {
    "duration": 184,
    "start_time": "2023-08-29T14:06:17.458Z"
   },
   {
    "duration": 25,
    "start_time": "2023-08-29T14:06:17.646Z"
   },
   {
    "duration": 18,
    "start_time": "2023-08-29T14:06:17.673Z"
   },
   {
    "duration": 35,
    "start_time": "2023-08-29T14:06:17.693Z"
   },
   {
    "duration": 20,
    "start_time": "2023-08-29T14:06:17.732Z"
   },
   {
    "duration": 15,
    "start_time": "2023-08-29T14:06:17.754Z"
   },
   {
    "duration": 38,
    "start_time": "2023-08-29T14:06:17.771Z"
   },
   {
    "duration": 33,
    "start_time": "2023-08-29T14:06:17.811Z"
   },
   {
    "duration": 33,
    "start_time": "2023-08-29T14:06:17.846Z"
   },
   {
    "duration": 178,
    "start_time": "2023-08-29T14:06:17.882Z"
   },
   {
    "duration": 322,
    "start_time": "2023-08-29T14:06:18.062Z"
   },
   {
    "duration": 116,
    "start_time": "2023-08-29T14:06:18.386Z"
   },
   {
    "duration": 263,
    "start_time": "2023-08-29T14:06:18.504Z"
   },
   {
    "duration": 312,
    "start_time": "2023-08-29T14:06:18.769Z"
   },
   {
    "duration": 7,
    "start_time": "2023-08-29T14:06:19.083Z"
   },
   {
    "duration": 679,
    "start_time": "2023-08-29T14:06:19.091Z"
   },
   {
    "duration": 282,
    "start_time": "2023-08-29T14:06:19.772Z"
   },
   {
    "duration": 192,
    "start_time": "2023-08-29T14:06:20.056Z"
   },
   {
    "duration": 10771,
    "start_time": "2023-08-29T14:06:20.250Z"
   },
   {
    "duration": 958,
    "start_time": "2023-08-29T14:06:31.024Z"
   },
   {
    "duration": 625,
    "start_time": "2023-08-29T14:06:31.984Z"
   },
   {
    "duration": 128,
    "start_time": "2023-08-29T14:06:32.610Z"
   },
   {
    "duration": 9,
    "start_time": "2023-08-29T14:06:32.739Z"
   },
   {
    "duration": 125,
    "start_time": "2023-08-29T14:06:32.749Z"
   },
   {
    "duration": 6,
    "start_time": "2023-08-29T14:06:32.877Z"
   },
   {
    "duration": 29,
    "start_time": "2023-08-29T14:06:32.885Z"
   },
   {
    "duration": 901,
    "start_time": "2023-08-29T14:06:32.916Z"
   },
   {
    "duration": 132,
    "start_time": "2023-08-29T14:06:33.819Z"
   },
   {
    "duration": 130,
    "start_time": "2023-08-29T14:06:33.954Z"
   },
   {
    "duration": 6,
    "start_time": "2023-08-29T14:06:34.086Z"
   },
   {
    "duration": 33,
    "start_time": "2023-08-29T14:06:34.094Z"
   },
   {
    "duration": 3,
    "start_time": "2023-08-29T14:08:39.399Z"
   },
   {
    "duration": 211,
    "start_time": "2023-08-29T14:08:39.891Z"
   },
   {
    "duration": 22,
    "start_time": "2023-08-29T14:08:40.282Z"
   },
   {
    "duration": 19,
    "start_time": "2023-08-29T14:08:41.281Z"
   },
   {
    "duration": 208,
    "start_time": "2023-08-29T14:08:41.463Z"
   },
   {
    "duration": 268,
    "start_time": "2023-08-29T14:08:42.337Z"
   },
   {
    "duration": 112,
    "start_time": "2023-08-29T14:08:43.568Z"
   },
   {
    "duration": 260,
    "start_time": "2023-08-29T14:08:45.013Z"
   },
   {
    "duration": 2084,
    "start_time": "2023-08-29T14:10:33.288Z"
   },
   {
    "duration": 1500,
    "start_time": "2023-08-29T14:10:35.897Z"
   },
   {
    "duration": 5,
    "start_time": "2023-08-29T14:10:52.918Z"
   },
   {
    "duration": 8,
    "start_time": "2023-08-29T14:28:21.315Z"
   },
   {
    "duration": 9,
    "start_time": "2023-08-29T14:28:50.457Z"
   },
   {
    "duration": 10,
    "start_time": "2023-08-29T14:29:04.554Z"
   },
   {
    "duration": 11,
    "start_time": "2023-08-29T14:29:05.022Z"
   },
   {
    "duration": 247,
    "start_time": "2023-08-29T15:04:22.792Z"
   },
   {
    "duration": 7,
    "start_time": "2023-08-29T15:05:11.906Z"
   },
   {
    "duration": 20,
    "start_time": "2023-08-29T15:05:46.452Z"
   },
   {
    "duration": 19,
    "start_time": "2023-08-29T15:06:06.367Z"
   },
   {
    "duration": 341,
    "start_time": "2023-08-29T15:06:18.573Z"
   },
   {
    "duration": 23,
    "start_time": "2023-08-29T15:10:29.488Z"
   },
   {
    "duration": 1518,
    "start_time": "2023-08-29T15:12:37.238Z"
   },
   {
    "duration": 8,
    "start_time": "2023-08-29T15:12:58.290Z"
   },
   {
    "duration": 308,
    "start_time": "2023-08-29T15:17:26.393Z"
   },
   {
    "duration": 28,
    "start_time": "2023-08-29T15:17:51.599Z"
   },
   {
    "duration": 306,
    "start_time": "2023-08-29T15:18:24.667Z"
   },
   {
    "duration": 298,
    "start_time": "2023-08-29T15:18:43.019Z"
   },
   {
    "duration": 17,
    "start_time": "2023-08-29T15:20:37.764Z"
   },
   {
    "duration": 12,
    "start_time": "2023-08-29T15:20:56.238Z"
   },
   {
    "duration": 232,
    "start_time": "2023-08-29T15:22:38.409Z"
   },
   {
    "duration": 257,
    "start_time": "2023-08-29T15:22:47.260Z"
   },
   {
    "duration": 21,
    "start_time": "2023-08-29T15:25:23.825Z"
   },
   {
    "duration": 224,
    "start_time": "2023-08-29T15:26:31.235Z"
   },
   {
    "duration": 295,
    "start_time": "2023-08-29T15:27:20.564Z"
   },
   {
    "duration": 227,
    "start_time": "2023-08-29T15:27:26.105Z"
   },
   {
    "duration": 235,
    "start_time": "2023-08-29T15:30:01.431Z"
   },
   {
    "duration": 5,
    "start_time": "2023-08-29T15:30:03.495Z"
   },
   {
    "duration": 638,
    "start_time": "2023-08-29T15:30:04.036Z"
   },
   {
    "duration": 16,
    "start_time": "2023-08-29T15:33:31.139Z"
   },
   {
    "duration": 250,
    "start_time": "2023-08-29T15:34:42.378Z"
   },
   {
    "duration": 1634,
    "start_time": "2023-08-29T15:35:16.424Z"
   },
   {
    "duration": 77,
    "start_time": "2023-08-29T15:35:18.060Z"
   },
   {
    "duration": 33,
    "start_time": "2023-08-29T15:35:18.139Z"
   },
   {
    "duration": 192,
    "start_time": "2023-08-29T15:35:18.174Z"
   },
   {
    "duration": 24,
    "start_time": "2023-08-29T15:35:18.368Z"
   },
   {
    "duration": 16,
    "start_time": "2023-08-29T15:35:18.394Z"
   },
   {
    "duration": 8,
    "start_time": "2023-08-29T15:35:18.412Z"
   },
   {
    "duration": 10,
    "start_time": "2023-08-29T15:35:18.447Z"
   },
   {
    "duration": 4,
    "start_time": "2023-08-29T15:35:18.458Z"
   },
   {
    "duration": 33,
    "start_time": "2023-08-29T15:35:18.464Z"
   },
   {
    "duration": 21,
    "start_time": "2023-08-29T15:35:18.498Z"
   },
   {
    "duration": 41,
    "start_time": "2023-08-29T15:35:18.520Z"
   },
   {
    "duration": 190,
    "start_time": "2023-08-29T15:35:18.563Z"
   },
   {
    "duration": 326,
    "start_time": "2023-08-29T15:35:18.755Z"
   },
   {
    "duration": 126,
    "start_time": "2023-08-29T15:35:19.083Z"
   },
   {
    "duration": 262,
    "start_time": "2023-08-29T15:35:19.211Z"
   },
   {
    "duration": 269,
    "start_time": "2023-08-29T15:35:19.475Z"
   },
   {
    "duration": 303,
    "start_time": "2023-08-29T15:35:19.747Z"
   },
   {
    "duration": 232,
    "start_time": "2023-08-29T15:35:20.052Z"
   },
   {
    "duration": 5,
    "start_time": "2023-08-29T15:35:20.286Z"
   },
   {
    "duration": 664,
    "start_time": "2023-08-29T15:35:20.293Z"
   },
   {
    "duration": 279,
    "start_time": "2023-08-29T15:35:20.960Z"
   },
   {
    "duration": 231,
    "start_time": "2023-08-29T15:35:21.247Z"
   },
   {
    "duration": 10582,
    "start_time": "2023-08-29T15:35:21.480Z"
   },
   {
    "duration": 983,
    "start_time": "2023-08-29T15:35:32.064Z"
   },
   {
    "duration": 588,
    "start_time": "2023-08-29T15:35:33.049Z"
   },
   {
    "duration": 10,
    "start_time": "2023-08-29T15:35:33.639Z"
   },
   {
    "duration": 133,
    "start_time": "2023-08-29T15:35:33.653Z"
   },
   {
    "duration": 10,
    "start_time": "2023-08-29T15:35:33.789Z"
   },
   {
    "duration": 20,
    "start_time": "2023-08-29T15:35:33.801Z"
   },
   {
    "duration": 28,
    "start_time": "2023-08-29T15:35:33.823Z"
   },
   {
    "duration": 117,
    "start_time": "2023-08-29T15:35:33.853Z"
   },
   {
    "duration": 5,
    "start_time": "2023-08-29T15:35:33.972Z"
   },
   {
    "duration": 11,
    "start_time": "2023-08-29T15:35:33.979Z"
   },
   {
    "duration": 1100,
    "start_time": "2023-08-29T15:35:33.992Z"
   },
   {
    "duration": 133,
    "start_time": "2023-08-29T15:35:35.094Z"
   },
   {
    "duration": 147,
    "start_time": "2023-08-29T15:35:35.230Z"
   },
   {
    "duration": 5,
    "start_time": "2023-08-29T15:35:35.379Z"
   },
   {
    "duration": 39,
    "start_time": "2023-08-29T15:35:35.386Z"
   },
   {
    "duration": 271,
    "start_time": "2023-08-29T15:36:45.934Z"
   },
   {
    "duration": 7,
    "start_time": "2023-08-29T15:39:16.580Z"
   },
   {
    "duration": 1437,
    "start_time": "2023-08-29T15:39:37.073Z"
   },
   {
    "duration": 1277,
    "start_time": "2023-08-29T15:39:58.202Z"
   },
   {
    "duration": 5,
    "start_time": "2023-08-29T15:40:13.000Z"
   },
   {
    "duration": 6,
    "start_time": "2023-08-29T15:41:45.728Z"
   },
   {
    "duration": 85,
    "start_time": "2023-08-29T15:42:33.590Z"
   },
   {
    "duration": 140,
    "start_time": "2023-08-29T15:42:35.694Z"
   },
   {
    "duration": 129,
    "start_time": "2023-08-29T15:42:40.774Z"
   },
   {
    "duration": 4,
    "start_time": "2023-08-29T15:42:42.069Z"
   },
   {
    "duration": 7,
    "start_time": "2023-08-29T15:42:42.565Z"
   },
   {
    "duration": 128,
    "start_time": "2023-08-29T15:43:24.014Z"
   },
   {
    "duration": 130,
    "start_time": "2023-08-29T15:43:28.301Z"
   },
   {
    "duration": 5,
    "start_time": "2023-08-29T15:43:30.319Z"
   },
   {
    "duration": 7,
    "start_time": "2023-08-29T15:43:31.137Z"
   },
   {
    "duration": 31,
    "start_time": "2023-08-29T16:04:32.431Z"
   },
   {
    "duration": 21,
    "start_time": "2023-08-29T16:04:33.466Z"
   },
   {
    "duration": 27,
    "start_time": "2023-08-29T16:04:37.675Z"
   },
   {
    "duration": 205,
    "start_time": "2023-08-29T16:04:38.170Z"
   },
   {
    "duration": 275,
    "start_time": "2023-08-29T16:04:40.199Z"
   },
   {
    "duration": 110,
    "start_time": "2023-08-29T16:04:42.296Z"
   },
   {
    "duration": 1571,
    "start_time": "2023-08-29T16:08:52.896Z"
   },
   {
    "duration": 71,
    "start_time": "2023-08-29T16:08:54.469Z"
   },
   {
    "duration": 35,
    "start_time": "2023-08-29T16:08:54.541Z"
   },
   {
    "duration": 196,
    "start_time": "2023-08-29T16:08:54.578Z"
   },
   {
    "duration": 25,
    "start_time": "2023-08-29T16:08:54.777Z"
   },
   {
    "duration": 16,
    "start_time": "2023-08-29T16:08:54.804Z"
   },
   {
    "duration": 31,
    "start_time": "2023-08-29T16:08:54.822Z"
   },
   {
    "duration": 8,
    "start_time": "2023-08-29T16:08:54.855Z"
   },
   {
    "duration": 8,
    "start_time": "2023-08-29T16:08:54.865Z"
   },
   {
    "duration": 35,
    "start_time": "2023-08-29T16:08:54.875Z"
   },
   {
    "duration": 41,
    "start_time": "2023-08-29T16:08:54.912Z"
   },
   {
    "duration": 19,
    "start_time": "2023-08-29T16:08:54.955Z"
   },
   {
    "duration": 199,
    "start_time": "2023-08-29T16:08:54.975Z"
   },
   {
    "duration": 401,
    "start_time": "2023-08-29T16:08:55.177Z"
   },
   {
    "duration": 122,
    "start_time": "2023-08-29T16:08:55.580Z"
   },
   {
    "duration": 270,
    "start_time": "2023-08-29T16:08:55.703Z"
   },
   {
    "duration": 296,
    "start_time": "2023-08-29T16:08:55.976Z"
   },
   {
    "duration": 334,
    "start_time": "2023-08-29T16:08:56.274Z"
   },
   {
    "duration": 244,
    "start_time": "2023-08-29T16:08:56.610Z"
   },
   {
    "duration": 6,
    "start_time": "2023-08-29T16:08:56.856Z"
   },
   {
    "duration": 662,
    "start_time": "2023-08-29T16:08:56.864Z"
   },
   {
    "duration": 273,
    "start_time": "2023-08-29T16:08:57.528Z"
   },
   {
    "duration": 247,
    "start_time": "2023-08-29T16:08:57.803Z"
   },
   {
    "duration": 10903,
    "start_time": "2023-08-29T16:08:58.052Z"
   },
   {
    "duration": 1031,
    "start_time": "2023-08-29T16:09:08.958Z"
   },
   {
    "duration": 601,
    "start_time": "2023-08-29T16:09:09.991Z"
   },
   {
    "duration": 6,
    "start_time": "2023-08-29T16:09:10.594Z"
   },
   {
    "duration": 156,
    "start_time": "2023-08-29T16:09:10.602Z"
   },
   {
    "duration": 11,
    "start_time": "2023-08-29T16:09:10.760Z"
   },
   {
    "duration": 16,
    "start_time": "2023-08-29T16:09:10.773Z"
   },
   {
    "duration": 18,
    "start_time": "2023-08-29T16:09:10.791Z"
   },
   {
    "duration": 130,
    "start_time": "2023-08-29T16:09:10.812Z"
   },
   {
    "duration": 6,
    "start_time": "2023-08-29T16:09:10.948Z"
   },
   {
    "duration": 23,
    "start_time": "2023-08-29T16:09:10.956Z"
   },
   {
    "duration": 103,
    "start_time": "2023-08-29T16:09:10.981Z"
   },
   {
    "duration": 116,
    "start_time": "2023-08-29T16:09:11.085Z"
   },
   {
    "duration": 119,
    "start_time": "2023-08-29T16:09:11.202Z"
   },
   {
    "duration": 4,
    "start_time": "2023-08-29T16:09:11.323Z"
   },
   {
    "duration": 30,
    "start_time": "2023-08-29T16:09:11.328Z"
   },
   {
    "duration": 21,
    "start_time": "2023-08-29T16:57:32.626Z"
   },
   {
    "duration": 1734,
    "start_time": "2023-08-30T07:28:18.566Z"
   },
   {
    "duration": 120,
    "start_time": "2023-08-30T07:28:20.302Z"
   },
   {
    "duration": 37,
    "start_time": "2023-08-30T07:28:20.424Z"
   },
   {
    "duration": 175,
    "start_time": "2023-08-30T07:28:20.464Z"
   },
   {
    "duration": 23,
    "start_time": "2023-08-30T07:28:20.640Z"
   },
   {
    "duration": 26,
    "start_time": "2023-08-30T07:28:20.665Z"
   },
   {
    "duration": 8,
    "start_time": "2023-08-30T07:28:20.693Z"
   },
   {
    "duration": 11,
    "start_time": "2023-08-30T07:28:20.703Z"
   },
   {
    "duration": 3,
    "start_time": "2023-08-30T07:28:20.716Z"
   },
   {
    "duration": 129,
    "start_time": "2023-08-30T07:28:20.722Z"
   },
   {
    "duration": 19,
    "start_time": "2023-08-30T07:28:20.853Z"
   },
   {
    "duration": 66,
    "start_time": "2023-08-30T07:28:20.881Z"
   },
   {
    "duration": 181,
    "start_time": "2023-08-30T07:28:20.949Z"
   },
   {
    "duration": 244,
    "start_time": "2023-08-30T07:28:21.131Z"
   },
   {
    "duration": 114,
    "start_time": "2023-08-30T07:28:21.377Z"
   },
   {
    "duration": 2,
    "start_time": "2023-08-30T07:28:21.493Z"
   },
   {
    "duration": 244,
    "start_time": "2023-08-30T07:28:21.497Z"
   },
   {
    "duration": 260,
    "start_time": "2023-08-30T07:28:21.743Z"
   },
   {
    "duration": 191,
    "start_time": "2023-08-30T07:28:22.005Z"
   },
   {
    "duration": 5,
    "start_time": "2023-08-30T07:28:22.198Z"
   },
   {
    "duration": 605,
    "start_time": "2023-08-30T07:28:22.204Z"
   },
   {
    "duration": 237,
    "start_time": "2023-08-30T07:28:22.811Z"
   },
   {
    "duration": 286,
    "start_time": "2023-08-30T07:28:23.049Z"
   },
   {
    "duration": 10144,
    "start_time": "2023-08-30T07:28:23.337Z"
   },
   {
    "duration": 970,
    "start_time": "2023-08-30T07:28:33.484Z"
   },
   {
    "duration": 589,
    "start_time": "2023-08-30T07:28:34.456Z"
   },
   {
    "duration": 5,
    "start_time": "2023-08-30T07:28:35.047Z"
   },
   {
    "duration": 152,
    "start_time": "2023-08-30T07:28:35.055Z"
   },
   {
    "duration": 9,
    "start_time": "2023-08-30T07:28:35.208Z"
   },
   {
    "duration": 9,
    "start_time": "2023-08-30T07:28:35.219Z"
   },
   {
    "duration": 5,
    "start_time": "2023-08-30T07:28:35.230Z"
   },
   {
    "duration": 137,
    "start_time": "2023-08-30T07:28:35.237Z"
   },
   {
    "duration": 5,
    "start_time": "2023-08-30T07:28:35.380Z"
   },
   {
    "duration": 27,
    "start_time": "2023-08-30T07:28:35.387Z"
   },
   {
    "duration": 100,
    "start_time": "2023-08-30T07:28:35.416Z"
   },
   {
    "duration": 114,
    "start_time": "2023-08-30T07:28:35.518Z"
   },
   {
    "duration": 117,
    "start_time": "2023-08-30T07:28:35.633Z"
   },
   {
    "duration": 4,
    "start_time": "2023-08-30T07:28:35.751Z"
   },
   {
    "duration": 27,
    "start_time": "2023-08-30T07:28:35.757Z"
   },
   {
    "duration": 8,
    "start_time": "2023-08-30T07:28:35.786Z"
   },
   {
    "duration": 57,
    "start_time": "2023-08-30T07:28:35.796Z"
   },
   {
    "duration": 30,
    "start_time": "2023-08-30T07:28:35.855Z"
   },
   {
    "duration": 377,
    "start_time": "2023-08-30T07:28:35.888Z"
   },
   {
    "duration": 47,
    "start_time": "2023-08-30T07:28:36.267Z"
   },
   {
    "duration": 19,
    "start_time": "2023-08-30T07:28:36.316Z"
   },
   {
    "duration": 8,
    "start_time": "2023-08-30T07:28:36.337Z"
   },
   {
    "duration": 10,
    "start_time": "2023-08-30T07:28:40.728Z"
   },
   {
    "duration": 4,
    "start_time": "2023-08-30T07:28:42.110Z"
   },
   {
    "duration": 26,
    "start_time": "2023-08-30T07:28:45.819Z"
   },
   {
    "duration": 24,
    "start_time": "2023-08-30T07:28:46.660Z"
   },
   {
    "duration": 18,
    "start_time": "2023-08-30T07:28:48.582Z"
   },
   {
    "duration": 176,
    "start_time": "2023-08-30T07:28:48.983Z"
   },
   {
    "duration": 243,
    "start_time": "2023-08-30T07:28:50.791Z"
   },
   {
    "duration": 104,
    "start_time": "2023-08-30T07:28:52.266Z"
   },
   {
    "duration": 3,
    "start_time": "2023-08-30T07:28:53.756Z"
   },
   {
    "duration": 227,
    "start_time": "2023-08-30T07:28:54.391Z"
   },
   {
    "duration": 273,
    "start_time": "2023-08-30T07:28:58.519Z"
   },
   {
    "duration": 191,
    "start_time": "2023-08-30T07:28:59.898Z"
   },
   {
    "duration": 5,
    "start_time": "2023-08-30T07:29:00.675Z"
   },
   {
    "duration": 608,
    "start_time": "2023-08-30T07:29:00.937Z"
   },
   {
    "duration": 245,
    "start_time": "2023-08-30T07:29:01.927Z"
   },
   {
    "duration": 128,
    "start_time": "2023-08-30T07:29:02.985Z"
   },
   {
    "duration": 10194,
    "start_time": "2023-08-30T07:29:03.758Z"
   },
   {
    "duration": 888,
    "start_time": "2023-08-30T07:29:13.954Z"
   },
   {
    "duration": 584,
    "start_time": "2023-08-30T07:29:14.844Z"
   },
   {
    "duration": 5,
    "start_time": "2023-08-30T07:29:15.430Z"
   },
   {
    "duration": 160,
    "start_time": "2023-08-30T07:29:15.436Z"
   },
   {
    "duration": 8,
    "start_time": "2023-08-30T07:29:15.598Z"
   },
   {
    "duration": 39,
    "start_time": "2023-08-30T07:29:15.608Z"
   },
   {
    "duration": 36,
    "start_time": "2023-08-30T07:29:15.649Z"
   },
   {
    "duration": 133,
    "start_time": "2023-08-30T07:29:15.687Z"
   },
   {
    "duration": 5,
    "start_time": "2023-08-30T07:29:15.823Z"
   },
   {
    "duration": 30,
    "start_time": "2023-08-30T07:29:15.829Z"
   },
   {
    "duration": 137,
    "start_time": "2023-08-30T07:29:15.861Z"
   },
   {
    "duration": 107,
    "start_time": "2023-08-30T07:29:16.000Z"
   },
   {
    "duration": 119,
    "start_time": "2023-08-30T07:29:16.109Z"
   },
   {
    "duration": 4,
    "start_time": "2023-08-30T07:29:16.229Z"
   },
   {
    "duration": 23,
    "start_time": "2023-08-30T07:29:16.235Z"
   },
   {
    "duration": 129,
    "start_time": "2023-08-30T07:47:39.225Z"
   },
   {
    "duration": 23,
    "start_time": "2023-08-30T07:48:16.866Z"
   },
   {
    "duration": 14,
    "start_time": "2023-08-30T07:48:52.702Z"
   },
   {
    "duration": 20,
    "start_time": "2023-08-30T07:55:30.483Z"
   },
   {
    "duration": 16,
    "start_time": "2023-08-30T07:55:40.963Z"
   },
   {
    "duration": 20,
    "start_time": "2023-08-30T08:04:32.065Z"
   },
   {
    "duration": 13,
    "start_time": "2023-08-30T08:04:37.552Z"
   },
   {
    "duration": 19,
    "start_time": "2023-08-30T08:08:03.981Z"
   },
   {
    "duration": 20,
    "start_time": "2023-08-30T08:08:14.337Z"
   },
   {
    "duration": 19,
    "start_time": "2023-08-30T08:12:30.512Z"
   },
   {
    "duration": 12,
    "start_time": "2023-08-30T08:12:32.144Z"
   },
   {
    "duration": 1585,
    "start_time": "2023-08-30T08:13:00.494Z"
   },
   {
    "duration": 2411,
    "start_time": "2023-08-30T08:13:47.144Z"
   },
   {
    "duration": 2613,
    "start_time": "2023-08-30T08:14:28.668Z"
   },
   {
    "duration": 11,
    "start_time": "2023-08-30T08:17:59.798Z"
   },
   {
    "duration": 22,
    "start_time": "2023-08-30T08:18:23.646Z"
   },
   {
    "duration": 22,
    "start_time": "2023-08-30T08:18:56.597Z"
   },
   {
    "duration": 18,
    "start_time": "2023-08-30T08:21:04.406Z"
   },
   {
    "duration": 21,
    "start_time": "2023-08-30T08:22:35.204Z"
   },
   {
    "duration": 16,
    "start_time": "2023-08-30T08:56:18.393Z"
   },
   {
    "duration": 825,
    "start_time": "2023-08-30T08:56:58.680Z"
   },
   {
    "duration": 17,
    "start_time": "2023-08-30T09:09:05.290Z"
   },
   {
    "duration": 58,
    "start_time": "2023-08-30T09:09:19.925Z"
   },
   {
    "duration": 51,
    "start_time": "2023-08-30T09:10:44.912Z"
   },
   {
    "duration": 54,
    "start_time": "2023-08-30T09:11:14.605Z"
   },
   {
    "duration": 57,
    "start_time": "2023-08-30T09:11:20.171Z"
   },
   {
    "duration": 17,
    "start_time": "2023-08-30T09:12:44.061Z"
   },
   {
    "duration": 61,
    "start_time": "2023-08-30T09:12:44.548Z"
   },
   {
    "duration": 73,
    "start_time": "2023-08-30T09:15:50.206Z"
   },
   {
    "duration": 16,
    "start_time": "2023-08-30T09:15:53.115Z"
   },
   {
    "duration": 16,
    "start_time": "2023-08-30T09:32:30.653Z"
   },
   {
    "duration": 18,
    "start_time": "2023-08-30T09:32:45.211Z"
   },
   {
    "duration": 17,
    "start_time": "2023-08-30T09:32:52.130Z"
   },
   {
    "duration": 55,
    "start_time": "2023-08-30T09:32:52.724Z"
   },
   {
    "duration": 234,
    "start_time": "2023-08-30T09:33:16.693Z"
   },
   {
    "duration": 23,
    "start_time": "2023-08-30T09:33:17.196Z"
   },
   {
    "duration": 66,
    "start_time": "2023-08-30T09:33:17.760Z"
   },
   {
    "duration": 16,
    "start_time": "2023-08-30T09:37:43.595Z"
   },
   {
    "duration": 370,
    "start_time": "2023-08-30T09:39:16.848Z"
   },
   {
    "duration": 17,
    "start_time": "2023-08-30T09:39:25.224Z"
   },
   {
    "duration": 19,
    "start_time": "2023-08-30T10:09:58.707Z"
   },
   {
    "duration": 57,
    "start_time": "2023-08-30T10:09:59.104Z"
   },
   {
    "duration": 1616,
    "start_time": "2023-08-30T10:36:25.112Z"
   },
   {
    "duration": 94,
    "start_time": "2023-08-30T10:36:26.730Z"
   },
   {
    "duration": 42,
    "start_time": "2023-08-30T10:36:26.827Z"
   },
   {
    "duration": 226,
    "start_time": "2023-08-30T10:36:26.872Z"
   },
   {
    "duration": 24,
    "start_time": "2023-08-30T10:36:27.100Z"
   },
   {
    "duration": 17,
    "start_time": "2023-08-30T10:36:27.126Z"
   },
   {
    "duration": 36,
    "start_time": "2023-08-30T10:36:27.145Z"
   },
   {
    "duration": 12,
    "start_time": "2023-08-30T10:36:27.183Z"
   },
   {
    "duration": 4,
    "start_time": "2023-08-30T10:36:27.198Z"
   },
   {
    "duration": 31,
    "start_time": "2023-08-30T10:36:27.204Z"
   },
   {
    "duration": 48,
    "start_time": "2023-08-30T10:36:27.237Z"
   },
   {
    "duration": 20,
    "start_time": "2023-08-30T10:36:27.287Z"
   },
   {
    "duration": 192,
    "start_time": "2023-08-30T10:36:27.309Z"
   },
   {
    "duration": 327,
    "start_time": "2023-08-30T10:36:27.504Z"
   },
   {
    "duration": 130,
    "start_time": "2023-08-30T10:36:27.833Z"
   },
   {
    "duration": 252,
    "start_time": "2023-08-30T10:36:27.965Z"
   },
   {
    "duration": 18,
    "start_time": "2023-08-30T10:36:28.219Z"
   },
   {
    "duration": 423,
    "start_time": "2023-08-30T10:36:28.239Z"
   },
   {
    "duration": 413,
    "start_time": "2023-08-30T10:36:28.664Z"
   },
   {
    "duration": 215,
    "start_time": "2023-08-30T10:36:29.081Z"
   },
   {
    "duration": 6,
    "start_time": "2023-08-30T10:36:29.298Z"
   },
   {
    "duration": 695,
    "start_time": "2023-08-30T10:36:29.305Z"
   },
   {
    "duration": 262,
    "start_time": "2023-08-30T10:36:30.003Z"
   },
   {
    "duration": 135,
    "start_time": "2023-08-30T10:36:30.267Z"
   },
   {
    "duration": 10452,
    "start_time": "2023-08-30T10:36:30.404Z"
   },
   {
    "duration": 870,
    "start_time": "2023-08-30T10:36:40.858Z"
   },
   {
    "duration": 572,
    "start_time": "2023-08-30T10:36:41.730Z"
   },
   {
    "duration": 6,
    "start_time": "2023-08-30T10:36:42.306Z"
   },
   {
    "duration": 130,
    "start_time": "2023-08-30T10:36:42.313Z"
   },
   {
    "duration": 10,
    "start_time": "2023-08-30T10:36:42.445Z"
   },
   {
    "duration": 30,
    "start_time": "2023-08-30T10:36:42.456Z"
   },
   {
    "duration": 22,
    "start_time": "2023-08-30T10:36:42.488Z"
   },
   {
    "duration": 327,
    "start_time": "2023-08-30T10:36:42.511Z"
   },
   {
    "duration": 6,
    "start_time": "2023-08-30T10:36:42.840Z"
   },
   {
    "duration": 8,
    "start_time": "2023-08-30T10:36:42.847Z"
   },
   {
    "duration": 100,
    "start_time": "2023-08-30T10:36:42.857Z"
   },
   {
    "duration": 130,
    "start_time": "2023-08-30T10:36:42.959Z"
   },
   {
    "duration": 125,
    "start_time": "2023-08-30T10:36:43.091Z"
   },
   {
    "duration": 4,
    "start_time": "2023-08-30T10:36:43.218Z"
   },
   {
    "duration": 15,
    "start_time": "2023-08-30T10:36:43.224Z"
   },
   {
    "duration": 4,
    "start_time": "2023-08-30T10:38:08.746Z"
   },
   {
    "duration": 63,
    "start_time": "2023-08-30T10:38:09.815Z"
   },
   {
    "duration": 33,
    "start_time": "2023-08-30T10:38:10.308Z"
   },
   {
    "duration": 170,
    "start_time": "2023-08-30T10:38:10.875Z"
   },
   {
    "duration": 23,
    "start_time": "2023-08-30T10:38:11.398Z"
   },
   {
    "duration": 16,
    "start_time": "2023-08-30T10:38:15.008Z"
   },
   {
    "duration": 37,
    "start_time": "2023-08-30T10:38:15.027Z"
   },
   {
    "duration": 9,
    "start_time": "2023-08-30T10:38:22.332Z"
   },
   {
    "duration": 4,
    "start_time": "2023-08-30T10:38:23.477Z"
   },
   {
    "duration": 29,
    "start_time": "2023-08-30T10:38:24.261Z"
   },
   {
    "duration": 21,
    "start_time": "2023-08-30T10:38:24.963Z"
   },
   {
    "duration": 22,
    "start_time": "2023-08-30T10:38:26.627Z"
   },
   {
    "duration": 171,
    "start_time": "2023-08-30T10:38:26.959Z"
   },
   {
    "duration": 237,
    "start_time": "2023-08-30T10:38:28.367Z"
   },
   {
    "duration": 108,
    "start_time": "2023-08-30T10:38:29.826Z"
   },
   {
    "duration": 234,
    "start_time": "2023-08-30T10:38:31.466Z"
   },
   {
    "duration": 16,
    "start_time": "2023-08-30T10:38:31.991Z"
   },
   {
    "duration": 3,
    "start_time": "2023-08-30T10:38:48.966Z"
   },
   {
    "duration": 16,
    "start_time": "2023-08-30T10:38:53.872Z"
   },
   {
    "duration": 54,
    "start_time": "2023-08-30T10:38:54.569Z"
   },
   {
    "duration": 301,
    "start_time": "2023-08-30T10:38:57.085Z"
   },
   {
    "duration": 189,
    "start_time": "2023-08-30T10:39:25.133Z"
   },
   {
    "duration": 5,
    "start_time": "2023-08-30T10:39:26.566Z"
   },
   {
    "duration": 613,
    "start_time": "2023-08-30T10:39:27.058Z"
   },
   {
    "duration": 243,
    "start_time": "2023-08-30T10:39:28.748Z"
   },
   {
    "duration": 129,
    "start_time": "2023-08-30T10:39:30.344Z"
   },
   {
    "duration": 10249,
    "start_time": "2023-08-30T10:39:31.680Z"
   },
   {
    "duration": 870,
    "start_time": "2023-08-30T10:39:41.932Z"
   },
   {
    "duration": 565,
    "start_time": "2023-08-30T10:39:42.804Z"
   },
   {
    "duration": 13,
    "start_time": "2023-08-30T10:39:43.371Z"
   },
   {
    "duration": 137,
    "start_time": "2023-08-30T10:39:43.385Z"
   },
   {
    "duration": 9,
    "start_time": "2023-08-30T10:39:43.524Z"
   },
   {
    "duration": 8,
    "start_time": "2023-08-30T10:39:43.534Z"
   },
   {
    "duration": 7,
    "start_time": "2023-08-30T10:39:43.838Z"
   },
   {
    "duration": 441,
    "start_time": "2023-08-30T10:39:46.427Z"
   },
   {
    "duration": 11,
    "start_time": "2023-08-30T10:39:46.870Z"
   },
   {
    "duration": 5,
    "start_time": "2023-08-30T10:39:47.425Z"
   },
   {
    "duration": 80,
    "start_time": "2023-08-30T10:39:50.104Z"
   },
   {
    "duration": 122,
    "start_time": "2023-08-30T10:39:51.294Z"
   },
   {
    "duration": 136,
    "start_time": "2023-08-30T10:39:53.134Z"
   },
   {
    "duration": 4,
    "start_time": "2023-08-30T10:39:54.204Z"
   },
   {
    "duration": 9,
    "start_time": "2023-08-30T10:39:54.665Z"
   },
   {
    "duration": 1573,
    "start_time": "2023-08-30T10:55:24.244Z"
   },
   {
    "duration": 118,
    "start_time": "2023-08-30T10:55:25.818Z"
   },
   {
    "duration": 32,
    "start_time": "2023-08-30T10:55:25.938Z"
   },
   {
    "duration": 173,
    "start_time": "2023-08-30T10:55:25.972Z"
   },
   {
    "duration": 35,
    "start_time": "2023-08-30T10:55:26.147Z"
   },
   {
    "duration": 15,
    "start_time": "2023-08-30T10:55:26.183Z"
   },
   {
    "duration": 7,
    "start_time": "2023-08-30T10:55:26.200Z"
   },
   {
    "duration": 9,
    "start_time": "2023-08-30T10:55:26.209Z"
   },
   {
    "duration": 4,
    "start_time": "2023-08-30T10:55:26.219Z"
   },
   {
    "duration": 57,
    "start_time": "2023-08-30T10:55:26.224Z"
   },
   {
    "duration": 19,
    "start_time": "2023-08-30T10:55:26.284Z"
   },
   {
    "duration": 20,
    "start_time": "2023-08-30T10:55:26.305Z"
   },
   {
    "duration": 202,
    "start_time": "2023-08-30T10:55:26.326Z"
   },
   {
    "duration": 351,
    "start_time": "2023-08-30T10:55:26.531Z"
   },
   {
    "duration": 141,
    "start_time": "2023-08-30T10:55:26.885Z"
   },
   {
    "duration": 3,
    "start_time": "2023-08-30T10:55:27.028Z"
   },
   {
    "duration": 21,
    "start_time": "2023-08-30T10:55:27.032Z"
   },
   {
    "duration": 571,
    "start_time": "2023-08-30T10:55:27.055Z"
   },
   {
    "duration": 321,
    "start_time": "2023-08-30T10:55:27.628Z"
   },
   {
    "duration": 189,
    "start_time": "2023-08-30T10:55:27.951Z"
   },
   {
    "duration": 5,
    "start_time": "2023-08-30T10:55:28.141Z"
   },
   {
    "duration": 669,
    "start_time": "2023-08-30T10:55:28.147Z"
   },
   {
    "duration": 252,
    "start_time": "2023-08-30T10:55:28.818Z"
   },
   {
    "duration": 199,
    "start_time": "2023-08-30T10:55:29.072Z"
   },
   {
    "duration": 10244,
    "start_time": "2023-08-30T10:55:29.273Z"
   },
   {
    "duration": 890,
    "start_time": "2023-08-30T10:55:39.520Z"
   },
   {
    "duration": 558,
    "start_time": "2023-08-30T10:55:40.411Z"
   },
   {
    "duration": 12,
    "start_time": "2023-08-30T10:55:40.971Z"
   },
   {
    "duration": 141,
    "start_time": "2023-08-30T10:55:40.984Z"
   },
   {
    "duration": 10,
    "start_time": "2023-08-30T10:55:41.126Z"
   },
   {
    "duration": 11,
    "start_time": "2023-08-30T10:55:41.137Z"
   },
   {
    "duration": 11,
    "start_time": "2023-08-30T10:55:41.150Z"
   },
   {
    "duration": 117,
    "start_time": "2023-08-30T10:55:41.181Z"
   },
   {
    "duration": 4,
    "start_time": "2023-08-30T10:55:41.300Z"
   },
   {
    "duration": 20,
    "start_time": "2023-08-30T10:55:41.306Z"
   },
   {
    "duration": 92,
    "start_time": "2023-08-30T10:55:41.328Z"
   },
   {
    "duration": 291,
    "start_time": "2023-08-30T10:55:41.422Z"
   },
   {
    "duration": 116,
    "start_time": "2023-08-30T10:55:41.716Z"
   },
   {
    "duration": 4,
    "start_time": "2023-08-30T10:55:41.834Z"
   },
   {
    "duration": 9,
    "start_time": "2023-08-30T10:55:41.840Z"
   },
   {
    "duration": 22,
    "start_time": "2023-08-30T10:57:04.913Z"
   },
   {
    "duration": 280,
    "start_time": "2023-08-30T11:29:46.850Z"
   },
   {
    "duration": 177,
    "start_time": "2023-08-30T11:30:04.143Z"
   },
   {
    "duration": 21,
    "start_time": "2023-08-30T11:30:20.252Z"
   },
   {
    "duration": 21,
    "start_time": "2023-08-30T11:30:20.721Z"
   },
   {
    "duration": 20,
    "start_time": "2023-08-30T11:31:20.157Z"
   },
   {
    "duration": 21,
    "start_time": "2023-08-30T11:37:00.746Z"
   },
   {
    "duration": 27,
    "start_time": "2023-08-30T11:39:16.124Z"
   },
   {
    "duration": 277,
    "start_time": "2023-08-30T11:39:41.960Z"
   },
   {
    "duration": 18,
    "start_time": "2023-08-30T11:39:49.056Z"
   },
   {
    "duration": 20,
    "start_time": "2023-08-30T11:40:04.582Z"
   },
   {
    "duration": 19,
    "start_time": "2023-08-30T11:40:41.195Z"
   },
   {
    "duration": 20,
    "start_time": "2023-08-30T11:46:10.334Z"
   },
   {
    "duration": 27,
    "start_time": "2023-08-30T11:48:50.932Z"
   },
   {
    "duration": 14,
    "start_time": "2023-08-30T11:49:25.791Z"
   },
   {
    "duration": 190,
    "start_time": "2023-08-30T11:50:16.827Z"
   },
   {
    "duration": 145,
    "start_time": "2023-08-30T11:50:30.111Z"
   },
   {
    "duration": 14,
    "start_time": "2023-08-30T11:50:53.485Z"
   },
   {
    "duration": 27,
    "start_time": "2023-08-30T11:52:17.280Z"
   },
   {
    "duration": 16,
    "start_time": "2023-08-30T12:01:57.770Z"
   },
   {
    "duration": 16,
    "start_time": "2023-08-30T12:03:53.361Z"
   },
   {
    "duration": 16,
    "start_time": "2023-08-30T12:05:22.000Z"
   },
   {
    "duration": 9,
    "start_time": "2023-08-30T12:05:53.709Z"
   },
   {
    "duration": 9,
    "start_time": "2023-08-30T12:05:54.257Z"
   },
   {
    "duration": 15,
    "start_time": "2023-08-30T12:06:01.503Z"
   },
   {
    "duration": 3,
    "start_time": "2023-08-30T12:18:38.959Z"
   },
   {
    "duration": 3,
    "start_time": "2023-08-30T12:18:42.885Z"
   },
   {
    "duration": 9,
    "start_time": "2023-08-30T12:18:46.174Z"
   },
   {
    "duration": 8,
    "start_time": "2023-08-30T12:18:52.486Z"
   },
   {
    "duration": 2,
    "start_time": "2023-08-30T12:18:54.653Z"
   },
   {
    "duration": 11,
    "start_time": "2023-08-30T12:18:55.249Z"
   },
   {
    "duration": 13,
    "start_time": "2023-08-30T12:46:17.346Z"
   },
   {
    "duration": 14,
    "start_time": "2023-08-30T12:46:38.344Z"
   },
   {
    "duration": 15,
    "start_time": "2023-08-30T12:47:54.230Z"
   },
   {
    "duration": 20,
    "start_time": "2023-08-30T12:50:03.677Z"
   },
   {
    "duration": 20,
    "start_time": "2023-08-30T13:00:34.740Z"
   },
   {
    "duration": 172,
    "start_time": "2023-08-30T13:00:52.486Z"
   },
   {
    "duration": 20,
    "start_time": "2023-08-30T13:12:47.570Z"
   },
   {
    "duration": 18,
    "start_time": "2023-08-30T13:13:20.007Z"
   },
   {
    "duration": 174,
    "start_time": "2023-08-30T13:13:26.532Z"
   },
   {
    "duration": 142,
    "start_time": "2023-08-30T13:14:17.717Z"
   },
   {
    "duration": 182,
    "start_time": "2023-08-30T13:14:25.094Z"
   },
   {
    "duration": 82,
    "start_time": "2023-08-30T13:14:58.010Z"
   },
   {
    "duration": 171,
    "start_time": "2023-08-30T13:16:35.465Z"
   },
   {
    "duration": 177,
    "start_time": "2023-08-30T13:16:44.959Z"
   },
   {
    "duration": 180,
    "start_time": "2023-08-30T13:22:16.897Z"
   },
   {
    "duration": 185,
    "start_time": "2023-08-30T13:22:20.661Z"
   },
   {
    "duration": 178,
    "start_time": "2023-08-30T13:22:25.751Z"
   },
   {
    "duration": 187,
    "start_time": "2023-08-30T13:22:33.986Z"
   },
   {
    "duration": 200,
    "start_time": "2023-08-30T13:23:26.858Z"
   },
   {
    "duration": 180,
    "start_time": "2023-08-30T13:23:39.836Z"
   },
   {
    "duration": 185,
    "start_time": "2023-08-30T13:23:58.273Z"
   },
   {
    "duration": 217,
    "start_time": "2023-08-30T13:24:48.463Z"
   },
   {
    "duration": 21,
    "start_time": "2023-08-30T13:26:49.741Z"
   },
   {
    "duration": 184,
    "start_time": "2023-08-30T13:26:50.312Z"
   },
   {
    "duration": 218,
    "start_time": "2023-08-30T13:27:04.042Z"
   },
   {
    "duration": 184,
    "start_time": "2023-08-30T13:27:10.782Z"
   },
   {
    "duration": 180,
    "start_time": "2023-08-30T13:32:52.316Z"
   },
   {
    "duration": 180,
    "start_time": "2023-08-30T13:33:04.313Z"
   },
   {
    "duration": 183,
    "start_time": "2023-08-30T13:54:37.632Z"
   },
   {
    "duration": 125,
    "start_time": "2023-08-30T14:05:17.441Z"
   },
   {
    "duration": 176,
    "start_time": "2023-08-30T14:05:25.261Z"
   },
   {
    "duration": 174,
    "start_time": "2023-08-30T14:33:05.004Z"
   },
   {
    "duration": 193,
    "start_time": "2023-08-30T14:57:47.224Z"
   },
   {
    "duration": 22,
    "start_time": "2023-08-30T15:05:52.939Z"
   },
   {
    "duration": 165,
    "start_time": "2023-08-30T15:05:53.428Z"
   },
   {
    "duration": 19,
    "start_time": "2023-08-30T15:07:36.194Z"
   },
   {
    "duration": 319,
    "start_time": "2023-08-30T15:07:57.392Z"
   },
   {
    "duration": 182,
    "start_time": "2023-08-30T15:09:36.075Z"
   },
   {
    "duration": 196,
    "start_time": "2023-08-30T15:09:49.504Z"
   },
   {
    "duration": 199,
    "start_time": "2023-08-30T15:10:00.240Z"
   },
   {
    "duration": 21,
    "start_time": "2023-08-30T15:10:06.039Z"
   },
   {
    "duration": 194,
    "start_time": "2023-08-30T15:10:06.446Z"
   },
   {
    "duration": 22,
    "start_time": "2023-08-30T15:26:42.085Z"
   },
   {
    "duration": 181,
    "start_time": "2023-08-30T15:26:42.650Z"
   },
   {
    "duration": 1490,
    "start_time": "2023-08-30T15:28:11.809Z"
   },
   {
    "duration": 26,
    "start_time": "2023-08-30T15:28:33.394Z"
   },
   {
    "duration": 24,
    "start_time": "2023-08-30T15:28:40.014Z"
   },
   {
    "duration": 18,
    "start_time": "2023-08-30T15:30:39.420Z"
   },
   {
    "duration": 17,
    "start_time": "2023-08-30T15:30:53.586Z"
   },
   {
    "duration": 28,
    "start_time": "2023-08-30T15:36:40.388Z"
   },
   {
    "duration": 3,
    "start_time": "2023-08-30T15:36:56.928Z"
   },
   {
    "duration": 15,
    "start_time": "2023-08-30T15:37:49.163Z"
   },
   {
    "duration": 25,
    "start_time": "2023-08-30T15:38:00.673Z"
   },
   {
    "duration": 24,
    "start_time": "2023-08-30T15:38:12.349Z"
   },
   {
    "duration": 82,
    "start_time": "2023-08-30T15:40:13.494Z"
   },
   {
    "duration": 26,
    "start_time": "2023-08-30T15:40:20.140Z"
   },
   {
    "duration": 25,
    "start_time": "2023-08-30T15:41:37.121Z"
   },
   {
    "duration": 91,
    "start_time": "2023-08-30T15:42:01.747Z"
   },
   {
    "duration": 19,
    "start_time": "2023-08-30T15:42:09.417Z"
   },
   {
    "duration": 18,
    "start_time": "2023-08-30T15:42:18.622Z"
   },
   {
    "duration": 20,
    "start_time": "2023-08-30T15:42:32.264Z"
   },
   {
    "duration": 17,
    "start_time": "2023-08-30T15:43:22.291Z"
   },
   {
    "duration": 15,
    "start_time": "2023-08-30T15:43:47.973Z"
   },
   {
    "duration": 26,
    "start_time": "2023-08-30T15:44:25.172Z"
   },
   {
    "duration": 96,
    "start_time": "2023-08-30T15:45:49.393Z"
   },
   {
    "duration": 96,
    "start_time": "2023-08-30T15:46:05.263Z"
   },
   {
    "duration": 85,
    "start_time": "2023-08-30T15:46:25.316Z"
   },
   {
    "duration": 18,
    "start_time": "2023-08-30T15:47:04.070Z"
   },
   {
    "duration": 19,
    "start_time": "2023-08-30T15:47:15.406Z"
   },
   {
    "duration": 15,
    "start_time": "2023-08-30T15:47:32.060Z"
   },
   {
    "duration": 17,
    "start_time": "2023-08-30T15:48:52.458Z"
   },
   {
    "duration": 18,
    "start_time": "2023-08-30T15:49:05.767Z"
   },
   {
    "duration": 22,
    "start_time": "2023-08-30T15:50:51.968Z"
   },
   {
    "duration": 23,
    "start_time": "2023-08-30T15:51:40.873Z"
   },
   {
    "duration": 22,
    "start_time": "2023-08-30T15:51:54.524Z"
   },
   {
    "duration": 22,
    "start_time": "2023-08-30T15:53:31.119Z"
   },
   {
    "duration": 24,
    "start_time": "2023-08-30T15:53:43.199Z"
   },
   {
    "duration": 15,
    "start_time": "2023-08-30T15:53:52.496Z"
   },
   {
    "duration": 25,
    "start_time": "2023-08-30T15:55:42.508Z"
   },
   {
    "duration": 22,
    "start_time": "2023-08-30T15:56:46.787Z"
   },
   {
    "duration": 248,
    "start_time": "2023-08-30T15:58:17.259Z"
   },
   {
    "duration": 256,
    "start_time": "2023-08-30T16:00:59.239Z"
   },
   {
    "duration": 265,
    "start_time": "2023-08-30T16:18:48.755Z"
   },
   {
    "duration": 15,
    "start_time": "2023-08-30T16:19:15.182Z"
   },
   {
    "duration": 23,
    "start_time": "2023-08-30T16:19:22.000Z"
   },
   {
    "duration": 182,
    "start_time": "2023-08-30T16:19:29.034Z"
   },
   {
    "duration": 428,
    "start_time": "2023-08-30T16:22:24.993Z"
   },
   {
    "duration": 16,
    "start_time": "2023-08-30T16:28:33.490Z"
   },
   {
    "duration": 258,
    "start_time": "2023-08-30T16:28:34.097Z"
   },
   {
    "duration": 413,
    "start_time": "2023-08-30T16:28:34.939Z"
   },
   {
    "duration": 94,
    "start_time": "2023-08-30T16:31:50.421Z"
   },
   {
    "duration": 25,
    "start_time": "2023-08-30T16:32:24.620Z"
   },
   {
    "duration": 171,
    "start_time": "2023-08-30T16:32:25.242Z"
   },
   {
    "duration": 236,
    "start_time": "2023-08-30T16:33:04.749Z"
   },
   {
    "duration": 1598,
    "start_time": "2023-08-30T16:35:15.490Z"
   },
   {
    "duration": 104,
    "start_time": "2023-08-30T16:35:17.091Z"
   },
   {
    "duration": 39,
    "start_time": "2023-08-30T16:35:17.198Z"
   },
   {
    "duration": 201,
    "start_time": "2023-08-30T16:35:17.240Z"
   },
   {
    "duration": 24,
    "start_time": "2023-08-30T16:35:17.442Z"
   },
   {
    "duration": 16,
    "start_time": "2023-08-30T16:35:17.480Z"
   },
   {
    "duration": 18,
    "start_time": "2023-08-30T16:35:17.498Z"
   },
   {
    "duration": 15,
    "start_time": "2023-08-30T16:35:17.518Z"
   },
   {
    "duration": 39,
    "start_time": "2023-08-30T16:35:17.535Z"
   },
   {
    "duration": 45,
    "start_time": "2023-08-30T16:35:17.577Z"
   },
   {
    "duration": 18,
    "start_time": "2023-08-30T16:35:17.624Z"
   },
   {
    "duration": 19,
    "start_time": "2023-08-30T16:35:17.644Z"
   },
   {
    "duration": 188,
    "start_time": "2023-08-30T16:35:17.665Z"
   },
   {
    "duration": 314,
    "start_time": "2023-08-30T16:35:17.855Z"
   },
   {
    "duration": 117,
    "start_time": "2023-08-30T16:35:18.171Z"
   },
   {
    "duration": 235,
    "start_time": "2023-08-30T16:35:18.289Z"
   },
   {
    "duration": 405,
    "start_time": "2023-08-30T16:35:18.526Z"
   },
   {
    "duration": 22,
    "start_time": "2023-08-30T16:35:18.933Z"
   },
   {
    "duration": 246,
    "start_time": "2023-08-30T16:35:18.957Z"
   },
   {
    "duration": 18,
    "start_time": "2023-08-30T16:35:19.205Z"
   },
   {
    "duration": 271,
    "start_time": "2023-08-30T16:35:19.225Z"
   },
   {
    "duration": 533,
    "start_time": "2023-08-30T16:35:19.498Z"
   },
   {
    "duration": 281,
    "start_time": "2023-08-30T16:35:20.033Z"
   },
   {
    "duration": 193,
    "start_time": "2023-08-30T16:35:20.316Z"
   },
   {
    "duration": 5,
    "start_time": "2023-08-30T16:35:20.511Z"
   },
   {
    "duration": 605,
    "start_time": "2023-08-30T16:35:20.518Z"
   },
   {
    "duration": 262,
    "start_time": "2023-08-30T16:35:21.125Z"
   },
   {
    "duration": 133,
    "start_time": "2023-08-30T16:35:21.391Z"
   },
   {
    "duration": 10506,
    "start_time": "2023-08-30T16:35:21.526Z"
   },
   {
    "duration": 1098,
    "start_time": "2023-08-30T16:35:32.034Z"
   },
   {
    "duration": 591,
    "start_time": "2023-08-30T16:35:33.134Z"
   },
   {
    "duration": 5,
    "start_time": "2023-08-30T16:35:33.726Z"
   },
   {
    "duration": 132,
    "start_time": "2023-08-30T16:35:33.732Z"
   },
   {
    "duration": 18,
    "start_time": "2023-08-30T16:35:33.866Z"
   },
   {
    "duration": 3,
    "start_time": "2023-08-30T16:35:33.886Z"
   },
   {
    "duration": 23,
    "start_time": "2023-08-30T16:35:33.891Z"
   },
   {
    "duration": 6,
    "start_time": "2023-08-30T16:35:33.916Z"
   },
   {
    "duration": 129,
    "start_time": "2023-08-30T16:35:33.923Z"
   },
   {
    "duration": 5,
    "start_time": "2023-08-30T16:35:34.054Z"
   },
   {
    "duration": 22,
    "start_time": "2023-08-30T16:35:34.060Z"
   },
   {
    "duration": 97,
    "start_time": "2023-08-30T16:35:34.084Z"
   },
   {
    "duration": 116,
    "start_time": "2023-08-30T16:35:34.183Z"
   },
   {
    "duration": 125,
    "start_time": "2023-08-30T16:35:34.301Z"
   },
   {
    "duration": 4,
    "start_time": "2023-08-30T16:35:34.428Z"
   },
   {
    "duration": 11,
    "start_time": "2023-08-30T16:35:34.434Z"
   },
   {
    "duration": 16,
    "start_time": "2023-08-30T16:35:57.926Z"
   },
   {
    "duration": 257,
    "start_time": "2023-08-30T16:35:58.496Z"
   },
   {
    "duration": 32,
    "start_time": "2023-08-30T16:39:27.857Z"
   },
   {
    "duration": 171,
    "start_time": "2023-08-30T16:39:28.419Z"
   },
   {
    "duration": 22,
    "start_time": "2023-08-30T16:42:34.401Z"
   },
   {
    "duration": 166,
    "start_time": "2023-08-30T16:42:35.993Z"
   },
   {
    "duration": 7,
    "start_time": "2023-08-30T16:43:07.219Z"
   },
   {
    "duration": 71,
    "start_time": "2023-08-30T16:43:11.803Z"
   },
   {
    "duration": 405,
    "start_time": "2023-08-30T16:43:42.229Z"
   },
   {
    "duration": 175,
    "start_time": "2023-08-30T16:45:27.371Z"
   },
   {
    "duration": 206,
    "start_time": "2023-08-30T16:45:32.661Z"
   },
   {
    "duration": 189,
    "start_time": "2023-08-30T16:45:42.718Z"
   },
   {
    "duration": 16,
    "start_time": "2023-08-30T16:46:01.937Z"
   },
   {
    "duration": 258,
    "start_time": "2023-08-30T16:46:02.483Z"
   },
   {
    "duration": 438,
    "start_time": "2023-08-30T16:46:03.987Z"
   },
   {
    "duration": 22,
    "start_time": "2023-08-30T16:47:51.505Z"
   },
   {
    "duration": 171,
    "start_time": "2023-08-30T16:47:52.855Z"
   },
   {
    "duration": 444,
    "start_time": "2023-08-30T16:49:23.982Z"
   },
   {
    "duration": 22,
    "start_time": "2023-08-30T16:49:36.764Z"
   },
   {
    "duration": 194,
    "start_time": "2023-08-30T16:49:37.240Z"
   },
   {
    "duration": 17,
    "start_time": "2023-08-30T16:49:39.059Z"
   },
   {
    "duration": 251,
    "start_time": "2023-08-30T16:49:39.426Z"
   },
   {
    "duration": 705,
    "start_time": "2023-08-30T16:49:40.708Z"
   },
   {
    "duration": 438,
    "start_time": "2023-08-30T16:51:28.104Z"
   },
   {
    "duration": 173,
    "start_time": "2023-08-30T16:52:15.757Z"
   },
   {
    "duration": 16,
    "start_time": "2023-08-30T16:52:22.174Z"
   },
   {
    "duration": 16,
    "start_time": "2023-08-30T16:52:24.417Z"
   },
   {
    "duration": 22,
    "start_time": "2023-08-30T16:52:29.470Z"
   },
   {
    "duration": 204,
    "start_time": "2023-08-30T16:52:30.000Z"
   },
   {
    "duration": 8,
    "start_time": "2023-08-30T16:53:52.401Z"
   },
   {
    "duration": 4,
    "start_time": "2023-08-30T16:57:30.823Z"
   },
   {
    "duration": 4,
    "start_time": "2023-08-30T16:59:05.883Z"
   },
   {
    "duration": 4,
    "start_time": "2023-08-30T16:59:12.112Z"
   },
   {
    "duration": 4,
    "start_time": "2023-08-30T16:59:26.570Z"
   },
   {
    "duration": 5,
    "start_time": "2023-08-30T16:59:51.199Z"
   },
   {
    "duration": 8,
    "start_time": "2023-08-30T17:01:06.915Z"
   },
   {
    "duration": 9,
    "start_time": "2023-08-30T17:01:23.139Z"
   },
   {
    "duration": 5,
    "start_time": "2023-08-30T17:01:43.078Z"
   },
   {
    "duration": 11,
    "start_time": "2023-08-30T17:01:43.386Z"
   },
   {
    "duration": 10,
    "start_time": "2023-08-30T17:01:59.798Z"
   },
   {
    "duration": 8,
    "start_time": "2023-08-30T17:02:17.293Z"
   },
   {
    "duration": 9,
    "start_time": "2023-08-30T17:02:50.377Z"
   },
   {
    "duration": 168,
    "start_time": "2023-08-30T17:02:58.930Z"
   },
   {
    "duration": 8,
    "start_time": "2023-08-30T17:03:10.536Z"
   },
   {
    "duration": 192,
    "start_time": "2023-08-30T17:03:56.236Z"
   },
   {
    "duration": 6,
    "start_time": "2023-08-30T17:06:17.873Z"
   },
   {
    "duration": 8,
    "start_time": "2023-08-30T17:06:23.945Z"
   },
   {
    "duration": 5,
    "start_time": "2023-08-30T17:06:48.555Z"
   },
   {
    "duration": 5,
    "start_time": "2023-08-30T17:07:12.421Z"
   },
   {
    "duration": 237,
    "start_time": "2023-08-30T17:07:34.434Z"
   },
   {
    "duration": 9,
    "start_time": "2023-08-30T17:10:03.040Z"
   },
   {
    "duration": 59,
    "start_time": "2023-08-30T17:11:47.717Z"
   },
   {
    "duration": 52,
    "start_time": "2023-08-30T17:11:57.906Z"
   },
   {
    "duration": 9,
    "start_time": "2023-08-30T17:14:03.599Z"
   },
   {
    "duration": 15,
    "start_time": "2023-08-30T17:14:12.514Z"
   },
   {
    "duration": 41,
    "start_time": "2023-08-30T17:16:53.214Z"
   },
   {
    "duration": 32,
    "start_time": "2023-08-30T17:17:19.765Z"
   },
   {
    "duration": 17,
    "start_time": "2023-08-30T17:46:42.497Z"
   },
   {
    "duration": 1721,
    "start_time": "2023-08-30T17:47:17.784Z"
   },
   {
    "duration": 18,
    "start_time": "2023-08-30T17:48:02.077Z"
   },
   {
    "duration": 10,
    "start_time": "2023-08-30T17:49:33.631Z"
   },
   {
    "duration": 9,
    "start_time": "2023-08-30T17:49:38.927Z"
   },
   {
    "duration": 23,
    "start_time": "2023-08-30T17:54:06.357Z"
   },
   {
    "duration": 13,
    "start_time": "2023-08-30T17:54:06.666Z"
   },
   {
    "duration": 15,
    "start_time": "2023-08-30T17:54:23.692Z"
   },
   {
    "duration": 22,
    "start_time": "2023-08-30T17:54:33.252Z"
   },
   {
    "duration": 12,
    "start_time": "2023-08-30T17:54:43.706Z"
   },
   {
    "duration": 11,
    "start_time": "2023-08-30T17:54:59.953Z"
   },
   {
    "duration": 23,
    "start_time": "2023-08-30T17:55:46.497Z"
   },
   {
    "duration": 20,
    "start_time": "2023-08-30T17:56:17.969Z"
   },
   {
    "duration": 20,
    "start_time": "2023-08-30T17:56:31.472Z"
   },
   {
    "duration": 60,
    "start_time": "2023-08-30T17:56:44.717Z"
   },
   {
    "duration": 62,
    "start_time": "2023-08-30T17:57:16.638Z"
   },
   {
    "duration": 11,
    "start_time": "2023-08-30T17:58:35.314Z"
   },
   {
    "duration": 59,
    "start_time": "2023-08-30T17:58:39.477Z"
   },
   {
    "duration": 59,
    "start_time": "2023-08-30T17:59:08.076Z"
   },
   {
    "duration": 59,
    "start_time": "2023-08-30T17:59:42.090Z"
   },
   {
    "duration": 58,
    "start_time": "2023-08-30T18:02:19.336Z"
   },
   {
    "duration": 60,
    "start_time": "2023-08-30T18:02:58.486Z"
   },
   {
    "duration": 59,
    "start_time": "2023-08-30T18:03:43.559Z"
   },
   {
    "duration": 59,
    "start_time": "2023-08-30T18:03:55.203Z"
   },
   {
    "duration": 57,
    "start_time": "2023-08-30T18:04:21.577Z"
   },
   {
    "duration": 31,
    "start_time": "2023-08-30T18:05:40.037Z"
   },
   {
    "duration": 63,
    "start_time": "2023-08-30T18:05:56.252Z"
   },
   {
    "duration": 62,
    "start_time": "2023-08-30T18:06:07.642Z"
   },
   {
    "duration": 187,
    "start_time": "2023-08-30T18:07:50.378Z"
   },
   {
    "duration": 2,
    "start_time": "2023-08-30T18:09:57.421Z"
   },
   {
    "duration": 1652,
    "start_time": "2023-08-30T18:15:19.246Z"
   },
   {
    "duration": 72,
    "start_time": "2023-08-30T18:15:20.900Z"
   },
   {
    "duration": 43,
    "start_time": "2023-08-30T18:15:20.974Z"
   },
   {
    "duration": 217,
    "start_time": "2023-08-30T18:15:21.020Z"
   },
   {
    "duration": 28,
    "start_time": "2023-08-30T18:15:21.240Z"
   },
   {
    "duration": 32,
    "start_time": "2023-08-30T18:15:21.269Z"
   },
   {
    "duration": 10,
    "start_time": "2023-08-30T18:15:21.304Z"
   },
   {
    "duration": 10,
    "start_time": "2023-08-30T18:15:21.316Z"
   },
   {
    "duration": 15,
    "start_time": "2023-08-30T18:15:21.328Z"
   },
   {
    "duration": 63,
    "start_time": "2023-08-30T18:15:21.346Z"
   },
   {
    "duration": 21,
    "start_time": "2023-08-30T18:15:21.411Z"
   },
   {
    "duration": 23,
    "start_time": "2023-08-30T18:15:21.434Z"
   },
   {
    "duration": 197,
    "start_time": "2023-08-30T18:15:21.459Z"
   },
   {
    "duration": 327,
    "start_time": "2023-08-30T18:15:21.658Z"
   },
   {
    "duration": 134,
    "start_time": "2023-08-30T18:15:21.987Z"
   },
   {
    "duration": 2,
    "start_time": "2023-08-30T18:15:22.124Z"
   },
   {
    "duration": 439,
    "start_time": "2023-08-30T18:15:22.128Z"
   },
   {
    "duration": 34,
    "start_time": "2023-08-30T18:15:22.569Z"
   },
   {
    "duration": 10,
    "start_time": "2023-08-30T18:15:22.605Z"
   },
   {
    "duration": 189,
    "start_time": "2023-08-30T18:15:22.618Z"
   },
   {
    "duration": 6,
    "start_time": "2023-08-30T18:15:22.809Z"
   },
   {
    "duration": 297,
    "start_time": "2023-08-30T18:15:22.817Z"
   },
   {
    "duration": 243,
    "start_time": "2023-08-30T18:15:23.116Z"
   },
   {
    "duration": 6,
    "start_time": "2023-08-30T18:15:23.361Z"
   },
   {
    "duration": 723,
    "start_time": "2023-08-30T18:15:23.381Z"
   },
   {
    "duration": 270,
    "start_time": "2023-08-30T18:15:24.106Z"
   },
   {
    "duration": 132,
    "start_time": "2023-08-30T18:15:24.381Z"
   },
   {
    "duration": 10654,
    "start_time": "2023-08-30T18:15:24.516Z"
   },
   {
    "duration": 886,
    "start_time": "2023-08-30T18:15:35.172Z"
   },
   {
    "duration": 614,
    "start_time": "2023-08-30T18:15:36.060Z"
   },
   {
    "duration": 9,
    "start_time": "2023-08-30T18:15:36.677Z"
   },
   {
    "duration": 182,
    "start_time": "2023-08-30T18:15:36.688Z"
   },
   {
    "duration": 12,
    "start_time": "2023-08-30T18:15:36.872Z"
   },
   {
    "duration": 4,
    "start_time": "2023-08-30T18:15:36.886Z"
   },
   {
    "duration": 16,
    "start_time": "2023-08-30T18:15:36.891Z"
   },
   {
    "duration": 5,
    "start_time": "2023-08-30T18:15:36.909Z"
   },
   {
    "duration": 365,
    "start_time": "2023-08-30T18:15:36.916Z"
   },
   {
    "duration": 5,
    "start_time": "2023-08-30T18:15:37.283Z"
   },
   {
    "duration": 6,
    "start_time": "2023-08-30T18:15:37.290Z"
   },
   {
    "duration": 120,
    "start_time": "2023-08-30T18:15:37.298Z"
   },
   {
    "duration": 112,
    "start_time": "2023-08-30T18:15:37.420Z"
   },
   {
    "duration": 122,
    "start_time": "2023-08-30T18:15:37.534Z"
   },
   {
    "duration": 4,
    "start_time": "2023-08-30T18:15:37.658Z"
   },
   {
    "duration": 23,
    "start_time": "2023-08-30T18:15:37.664Z"
   },
   {
    "duration": 1618,
    "start_time": "2023-08-30T18:32:21.498Z"
   },
   {
    "duration": 284,
    "start_time": "2023-08-30T18:32:23.118Z"
   },
   {
    "duration": 36,
    "start_time": "2023-08-30T18:32:23.404Z"
   },
   {
    "duration": 197,
    "start_time": "2023-08-30T18:32:23.442Z"
   },
   {
    "duration": 34,
    "start_time": "2023-08-30T18:32:23.641Z"
   },
   {
    "duration": 38,
    "start_time": "2023-08-30T18:32:23.680Z"
   },
   {
    "duration": 19,
    "start_time": "2023-08-30T18:32:23.720Z"
   },
   {
    "duration": 24,
    "start_time": "2023-08-30T18:32:23.740Z"
   },
   {
    "duration": 15,
    "start_time": "2023-08-30T18:32:23.767Z"
   },
   {
    "duration": 109,
    "start_time": "2023-08-30T18:32:23.785Z"
   },
   {
    "duration": 34,
    "start_time": "2023-08-30T18:32:23.898Z"
   },
   {
    "duration": 30,
    "start_time": "2023-08-30T18:32:23.934Z"
   },
   {
    "duration": 224,
    "start_time": "2023-08-30T18:32:23.966Z"
   },
   {
    "duration": 345,
    "start_time": "2023-08-30T18:32:24.194Z"
   },
   {
    "duration": 114,
    "start_time": "2023-08-30T18:32:24.541Z"
   },
   {
    "duration": 11,
    "start_time": "2023-08-30T18:32:24.657Z"
   },
   {
    "duration": 563,
    "start_time": "2023-08-30T18:32:24.671Z"
   },
   {
    "duration": 36,
    "start_time": "2023-08-30T18:32:25.236Z"
   },
   {
    "duration": 16,
    "start_time": "2023-08-30T18:32:25.274Z"
   },
   {
    "duration": 123,
    "start_time": "2023-08-30T18:32:25.296Z"
   },
   {
    "duration": 2,
    "start_time": "2023-08-30T18:32:25.421Z"
   },
   {
    "duration": 305,
    "start_time": "2023-08-30T18:32:25.425Z"
   },
   {
    "duration": 207,
    "start_time": "2023-08-30T18:32:25.732Z"
   },
   {
    "duration": 6,
    "start_time": "2023-08-30T18:32:25.941Z"
   },
   {
    "duration": 720,
    "start_time": "2023-08-30T18:32:25.948Z"
   },
   {
    "duration": 287,
    "start_time": "2023-08-30T18:32:26.676Z"
   },
   {
    "duration": 241,
    "start_time": "2023-08-30T18:32:26.965Z"
   },
   {
    "duration": 10717,
    "start_time": "2023-08-30T18:32:27.207Z"
   },
   {
    "duration": 963,
    "start_time": "2023-08-30T18:32:37.927Z"
   },
   {
    "duration": 590,
    "start_time": "2023-08-30T18:32:38.895Z"
   },
   {
    "duration": 8,
    "start_time": "2023-08-30T18:32:39.487Z"
   },
   {
    "duration": 199,
    "start_time": "2023-08-30T18:32:39.499Z"
   },
   {
    "duration": 12,
    "start_time": "2023-08-30T18:32:39.706Z"
   },
   {
    "duration": 21,
    "start_time": "2023-08-30T18:32:39.719Z"
   },
   {
    "duration": 20,
    "start_time": "2023-08-30T18:32:39.742Z"
   },
   {
    "duration": 13,
    "start_time": "2023-08-30T18:32:39.764Z"
   },
   {
    "duration": 344,
    "start_time": "2023-08-30T18:32:39.783Z"
   },
   {
    "duration": 7,
    "start_time": "2023-08-30T18:32:40.129Z"
   },
   {
    "duration": 41,
    "start_time": "2023-08-30T18:32:40.138Z"
   },
   {
    "duration": 84,
    "start_time": "2023-08-30T18:32:40.186Z"
   },
   {
    "duration": 122,
    "start_time": "2023-08-30T18:32:40.275Z"
   },
   {
    "duration": 155,
    "start_time": "2023-08-30T18:32:40.401Z"
   },
   {
    "duration": 17,
    "start_time": "2023-08-30T18:32:40.558Z"
   },
   {
    "duration": 22,
    "start_time": "2023-08-30T18:32:40.581Z"
   },
   {
    "duration": 203,
    "start_time": "2023-08-30T18:34:05.400Z"
   },
   {
    "duration": 45,
    "start_time": "2023-08-30T21:37:38.378Z"
   },
   {
    "duration": 8,
    "start_time": "2023-08-30T21:37:39.081Z"
   },
   {
    "duration": 1662,
    "start_time": "2023-08-30T21:37:48.187Z"
   },
   {
    "duration": 113,
    "start_time": "2023-08-30T21:37:49.851Z"
   },
   {
    "duration": 33,
    "start_time": "2023-08-30T21:37:49.966Z"
   },
   {
    "duration": 168,
    "start_time": "2023-08-30T21:37:50.001Z"
   },
   {
    "duration": 33,
    "start_time": "2023-08-30T21:37:50.172Z"
   },
   {
    "duration": 36,
    "start_time": "2023-08-30T21:37:50.207Z"
   },
   {
    "duration": 11,
    "start_time": "2023-08-30T21:37:50.245Z"
   },
   {
    "duration": 38,
    "start_time": "2023-08-30T21:37:50.257Z"
   },
   {
    "duration": 23,
    "start_time": "2023-08-30T21:37:50.297Z"
   },
   {
    "duration": 55,
    "start_time": "2023-08-30T21:37:50.323Z"
   },
   {
    "duration": 22,
    "start_time": "2023-08-30T21:37:50.380Z"
   },
   {
    "duration": 25,
    "start_time": "2023-08-30T21:37:50.404Z"
   },
   {
    "duration": 170,
    "start_time": "2023-08-30T21:37:50.431Z"
   },
   {
    "duration": 315,
    "start_time": "2023-08-30T21:37:50.605Z"
   },
   {
    "duration": 127,
    "start_time": "2023-08-30T21:37:50.925Z"
   },
   {
    "duration": 3,
    "start_time": "2023-08-30T21:37:51.054Z"
   },
   {
    "duration": 414,
    "start_time": "2023-08-30T21:37:51.058Z"
   },
   {
    "duration": 23,
    "start_time": "2023-08-30T21:37:51.474Z"
   },
   {
    "duration": 61,
    "start_time": "2023-08-30T21:37:51.499Z"
   },
   {
    "duration": 109,
    "start_time": "2023-08-30T21:37:51.562Z"
   },
   {
    "duration": 2,
    "start_time": "2023-08-30T21:37:51.674Z"
   },
   {
    "duration": 222,
    "start_time": "2023-08-30T21:37:51.678Z"
   },
   {
    "duration": 254,
    "start_time": "2023-08-30T21:37:51.902Z"
   },
   {
    "duration": 286,
    "start_time": "2023-08-30T21:37:52.158Z"
   },
   {
    "duration": 6,
    "start_time": "2023-08-30T21:37:52.446Z"
   },
   {
    "duration": 547,
    "start_time": "2023-08-30T21:37:52.454Z"
   },
   {
    "duration": 255,
    "start_time": "2023-08-30T21:37:53.003Z"
   },
   {
    "duration": 254,
    "start_time": "2023-08-30T21:37:53.260Z"
   },
   {
    "duration": 10581,
    "start_time": "2023-08-30T21:37:53.523Z"
   },
   {
    "duration": 906,
    "start_time": "2023-08-30T21:38:04.107Z"
   },
   {
    "duration": 542,
    "start_time": "2023-08-30T21:38:05.015Z"
   },
   {
    "duration": 5,
    "start_time": "2023-08-30T21:38:05.559Z"
   },
   {
    "duration": 360,
    "start_time": "2023-08-30T21:38:05.566Z"
   },
   {
    "duration": 10,
    "start_time": "2023-08-30T21:38:05.929Z"
   },
   {
    "duration": 3,
    "start_time": "2023-08-30T21:38:05.941Z"
   },
   {
    "duration": 17,
    "start_time": "2023-08-30T21:38:05.946Z"
   },
   {
    "duration": 7,
    "start_time": "2023-08-30T21:38:05.965Z"
   },
   {
    "duration": 209,
    "start_time": "2023-08-30T21:38:05.974Z"
   },
   {
    "duration": 7,
    "start_time": "2023-08-30T21:38:06.185Z"
   },
   {
    "duration": 6,
    "start_time": "2023-08-30T21:38:06.194Z"
   },
   {
    "duration": 102,
    "start_time": "2023-08-30T21:38:06.224Z"
   },
   {
    "duration": 101,
    "start_time": "2023-08-30T21:38:06.328Z"
   },
   {
    "duration": 105,
    "start_time": "2023-08-30T21:38:06.431Z"
   },
   {
    "duration": 6,
    "start_time": "2023-08-30T21:38:06.538Z"
   },
   {
    "duration": 13,
    "start_time": "2023-08-30T21:38:06.546Z"
   }
  ],
  "kernelspec": {
   "display_name": "Python 3 (ipykernel)",
   "language": "python",
   "name": "python3"
  },
  "language_info": {
   "codemirror_mode": {
    "name": "ipython",
    "version": 3
   },
   "file_extension": ".py",
   "mimetype": "text/x-python",
   "name": "python",
   "nbconvert_exporter": "python",
   "pygments_lexer": "ipython3",
   "version": "3.11.3"
  },
  "toc": {
   "base_numbering": 1,
   "nav_menu": {},
   "number_sections": true,
   "sideBar": true,
   "skip_h1_title": true,
   "title_cell": "Table of Contents",
   "title_sidebar": "Contents",
   "toc_cell": false,
   "toc_position": {},
   "toc_section_display": true,
   "toc_window_display": false
  }
 },
 "nbformat": 4,
 "nbformat_minor": 2
}
