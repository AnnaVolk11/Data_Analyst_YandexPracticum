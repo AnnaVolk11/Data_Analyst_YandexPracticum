{
 "cells": [
  {
   "cell_type": "markdown",
   "id": "4f11de00",
   "metadata": {
    "deletable": false,
    "editable": false,
    "id": "4f11de00"
   },
   "source": [
    "# Исследование надежности заемщиков"
   ]
  },
  {
   "cell_type": "markdown",
   "id": "f09d6878",
   "metadata": {
    "deletable": false,
    "editable": false,
    "id": "f09d6878"
   },
   "source": [
    "Это первая часть проекта, она будет проверена автоматически. Вторую часть проверит ревьюер. "
   ]
  },
  {
   "cell_type": "markdown",
   "id": "516620ee",
   "metadata": {
    "deletable": false,
    "editable": false,
    "id": "516620ee"
   },
   "source": [
    "## Откройте таблицу и изучите общую информацию о данных"
   ]
  },
  {
   "cell_type": "markdown",
   "id": "76a8a9ce",
   "metadata": {
    "deletable": false,
    "editable": false,
    "id": "76a8a9ce",
    "tags": [
     "start_task"
    ]
   },
   "source": [
    "**Задание 1. Импортируйте библиотеку pandas. Считайте данные из csv-файла в датафрейм и сохраните в переменную `data`. Путь к файлу:**\n",
    "\n",
    "`/datasets/data.csv`"
   ]
  },
  {
   "cell_type": "code",
   "execution_count": 1,
   "id": "fab207d0",
   "metadata": {
    "id": "fab207d0"
   },
   "outputs": [],
   "source": [
    "import pandas as pd # импортируйте библиотеку pandas"
   ]
  },
  {
   "cell_type": "code",
   "execution_count": 2,
   "id": "6c82b607",
   "metadata": {
    "id": "6c82b607"
   },
   "outputs": [],
   "source": [
    "data = pd.read_csv('https://code.s3.yandex.net/datasets/data.csv') # прочитайте csv-файл"
   ]
  },
  {
   "cell_type": "markdown",
   "id": "08bbb5b3",
   "metadata": {
    "deletable": false,
    "editable": false,
    "id": "08bbb5b3",
    "tags": [
     "start_task"
    ]
   },
   "source": [
    "**Задание 2. Выведите первые 20 строчек датафрейма `data` на экран.**"
   ]
  },
  {
   "cell_type": "code",
   "execution_count": 3,
   "id": "4ff33b36",
   "metadata": {
    "id": "4ff33b36"
   },
   "outputs": [
    {
     "data": {
      "text/html": [
       "<div>\n",
       "<style scoped>\n",
       "    .dataframe tbody tr th:only-of-type {\n",
       "        vertical-align: middle;\n",
       "    }\n",
       "\n",
       "    .dataframe tbody tr th {\n",
       "        vertical-align: top;\n",
       "    }\n",
       "\n",
       "    .dataframe thead th {\n",
       "        text-align: right;\n",
       "    }\n",
       "</style>\n",
       "<table border=\"1\" class=\"dataframe\">\n",
       "  <thead>\n",
       "    <tr style=\"text-align: right;\">\n",
       "      <th></th>\n",
       "      <th>children</th>\n",
       "      <th>days_employed</th>\n",
       "      <th>dob_years</th>\n",
       "      <th>education</th>\n",
       "      <th>education_id</th>\n",
       "      <th>family_status</th>\n",
       "      <th>family_status_id</th>\n",
       "      <th>gender</th>\n",
       "      <th>income_type</th>\n",
       "      <th>debt</th>\n",
       "      <th>total_income</th>\n",
       "      <th>purpose</th>\n",
       "    </tr>\n",
       "  </thead>\n",
       "  <tbody>\n",
       "    <tr>\n",
       "      <th>0</th>\n",
       "      <td>1</td>\n",
       "      <td>-8437.673028</td>\n",
       "      <td>42</td>\n",
       "      <td>высшее</td>\n",
       "      <td>0</td>\n",
       "      <td>женат / замужем</td>\n",
       "      <td>0</td>\n",
       "      <td>F</td>\n",
       "      <td>сотрудник</td>\n",
       "      <td>0</td>\n",
       "      <td>253875.639453</td>\n",
       "      <td>покупка жилья</td>\n",
       "    </tr>\n",
       "    <tr>\n",
       "      <th>1</th>\n",
       "      <td>1</td>\n",
       "      <td>-4024.803754</td>\n",
       "      <td>36</td>\n",
       "      <td>среднее</td>\n",
       "      <td>1</td>\n",
       "      <td>женат / замужем</td>\n",
       "      <td>0</td>\n",
       "      <td>F</td>\n",
       "      <td>сотрудник</td>\n",
       "      <td>0</td>\n",
       "      <td>112080.014102</td>\n",
       "      <td>приобретение автомобиля</td>\n",
       "    </tr>\n",
       "    <tr>\n",
       "      <th>2</th>\n",
       "      <td>0</td>\n",
       "      <td>-5623.422610</td>\n",
       "      <td>33</td>\n",
       "      <td>Среднее</td>\n",
       "      <td>1</td>\n",
       "      <td>женат / замужем</td>\n",
       "      <td>0</td>\n",
       "      <td>M</td>\n",
       "      <td>сотрудник</td>\n",
       "      <td>0</td>\n",
       "      <td>145885.952297</td>\n",
       "      <td>покупка жилья</td>\n",
       "    </tr>\n",
       "    <tr>\n",
       "      <th>3</th>\n",
       "      <td>3</td>\n",
       "      <td>-4124.747207</td>\n",
       "      <td>32</td>\n",
       "      <td>среднее</td>\n",
       "      <td>1</td>\n",
       "      <td>женат / замужем</td>\n",
       "      <td>0</td>\n",
       "      <td>M</td>\n",
       "      <td>сотрудник</td>\n",
       "      <td>0</td>\n",
       "      <td>267628.550329</td>\n",
       "      <td>дополнительное образование</td>\n",
       "    </tr>\n",
       "    <tr>\n",
       "      <th>4</th>\n",
       "      <td>0</td>\n",
       "      <td>340266.072047</td>\n",
       "      <td>53</td>\n",
       "      <td>среднее</td>\n",
       "      <td>1</td>\n",
       "      <td>гражданский брак</td>\n",
       "      <td>1</td>\n",
       "      <td>F</td>\n",
       "      <td>пенсионер</td>\n",
       "      <td>0</td>\n",
       "      <td>158616.077870</td>\n",
       "      <td>сыграть свадьбу</td>\n",
       "    </tr>\n",
       "    <tr>\n",
       "      <th>5</th>\n",
       "      <td>0</td>\n",
       "      <td>-926.185831</td>\n",
       "      <td>27</td>\n",
       "      <td>высшее</td>\n",
       "      <td>0</td>\n",
       "      <td>гражданский брак</td>\n",
       "      <td>1</td>\n",
       "      <td>M</td>\n",
       "      <td>компаньон</td>\n",
       "      <td>0</td>\n",
       "      <td>255763.565419</td>\n",
       "      <td>покупка жилья</td>\n",
       "    </tr>\n",
       "    <tr>\n",
       "      <th>6</th>\n",
       "      <td>0</td>\n",
       "      <td>-2879.202052</td>\n",
       "      <td>43</td>\n",
       "      <td>высшее</td>\n",
       "      <td>0</td>\n",
       "      <td>женат / замужем</td>\n",
       "      <td>0</td>\n",
       "      <td>F</td>\n",
       "      <td>компаньон</td>\n",
       "      <td>0</td>\n",
       "      <td>240525.971920</td>\n",
       "      <td>операции с жильем</td>\n",
       "    </tr>\n",
       "    <tr>\n",
       "      <th>7</th>\n",
       "      <td>0</td>\n",
       "      <td>-152.779569</td>\n",
       "      <td>50</td>\n",
       "      <td>СРЕДНЕЕ</td>\n",
       "      <td>1</td>\n",
       "      <td>женат / замужем</td>\n",
       "      <td>0</td>\n",
       "      <td>M</td>\n",
       "      <td>сотрудник</td>\n",
       "      <td>0</td>\n",
       "      <td>135823.934197</td>\n",
       "      <td>образование</td>\n",
       "    </tr>\n",
       "    <tr>\n",
       "      <th>8</th>\n",
       "      <td>2</td>\n",
       "      <td>-6929.865299</td>\n",
       "      <td>35</td>\n",
       "      <td>ВЫСШЕЕ</td>\n",
       "      <td>0</td>\n",
       "      <td>гражданский брак</td>\n",
       "      <td>1</td>\n",
       "      <td>F</td>\n",
       "      <td>сотрудник</td>\n",
       "      <td>0</td>\n",
       "      <td>95856.832424</td>\n",
       "      <td>на проведение свадьбы</td>\n",
       "    </tr>\n",
       "    <tr>\n",
       "      <th>9</th>\n",
       "      <td>0</td>\n",
       "      <td>-2188.756445</td>\n",
       "      <td>41</td>\n",
       "      <td>среднее</td>\n",
       "      <td>1</td>\n",
       "      <td>женат / замужем</td>\n",
       "      <td>0</td>\n",
       "      <td>M</td>\n",
       "      <td>сотрудник</td>\n",
       "      <td>0</td>\n",
       "      <td>144425.938277</td>\n",
       "      <td>покупка жилья для семьи</td>\n",
       "    </tr>\n",
       "    <tr>\n",
       "      <th>10</th>\n",
       "      <td>2</td>\n",
       "      <td>-4171.483647</td>\n",
       "      <td>36</td>\n",
       "      <td>высшее</td>\n",
       "      <td>0</td>\n",
       "      <td>женат / замужем</td>\n",
       "      <td>0</td>\n",
       "      <td>M</td>\n",
       "      <td>компаньон</td>\n",
       "      <td>0</td>\n",
       "      <td>113943.491460</td>\n",
       "      <td>покупка недвижимости</td>\n",
       "    </tr>\n",
       "    <tr>\n",
       "      <th>11</th>\n",
       "      <td>0</td>\n",
       "      <td>-792.701887</td>\n",
       "      <td>40</td>\n",
       "      <td>среднее</td>\n",
       "      <td>1</td>\n",
       "      <td>женат / замужем</td>\n",
       "      <td>0</td>\n",
       "      <td>F</td>\n",
       "      <td>сотрудник</td>\n",
       "      <td>0</td>\n",
       "      <td>77069.234271</td>\n",
       "      <td>покупка коммерческой недвижимости</td>\n",
       "    </tr>\n",
       "    <tr>\n",
       "      <th>12</th>\n",
       "      <td>0</td>\n",
       "      <td>NaN</td>\n",
       "      <td>65</td>\n",
       "      <td>среднее</td>\n",
       "      <td>1</td>\n",
       "      <td>гражданский брак</td>\n",
       "      <td>1</td>\n",
       "      <td>M</td>\n",
       "      <td>пенсионер</td>\n",
       "      <td>0</td>\n",
       "      <td>NaN</td>\n",
       "      <td>сыграть свадьбу</td>\n",
       "    </tr>\n",
       "    <tr>\n",
       "      <th>13</th>\n",
       "      <td>0</td>\n",
       "      <td>-1846.641941</td>\n",
       "      <td>54</td>\n",
       "      <td>неоконченное высшее</td>\n",
       "      <td>2</td>\n",
       "      <td>женат / замужем</td>\n",
       "      <td>0</td>\n",
       "      <td>F</td>\n",
       "      <td>сотрудник</td>\n",
       "      <td>0</td>\n",
       "      <td>130458.228857</td>\n",
       "      <td>приобретение автомобиля</td>\n",
       "    </tr>\n",
       "    <tr>\n",
       "      <th>14</th>\n",
       "      <td>0</td>\n",
       "      <td>-1844.956182</td>\n",
       "      <td>56</td>\n",
       "      <td>высшее</td>\n",
       "      <td>0</td>\n",
       "      <td>гражданский брак</td>\n",
       "      <td>1</td>\n",
       "      <td>F</td>\n",
       "      <td>компаньон</td>\n",
       "      <td>1</td>\n",
       "      <td>165127.911772</td>\n",
       "      <td>покупка жилой недвижимости</td>\n",
       "    </tr>\n",
       "    <tr>\n",
       "      <th>15</th>\n",
       "      <td>1</td>\n",
       "      <td>-972.364419</td>\n",
       "      <td>26</td>\n",
       "      <td>среднее</td>\n",
       "      <td>1</td>\n",
       "      <td>женат / замужем</td>\n",
       "      <td>0</td>\n",
       "      <td>F</td>\n",
       "      <td>сотрудник</td>\n",
       "      <td>0</td>\n",
       "      <td>116820.904450</td>\n",
       "      <td>строительство собственной недвижимости</td>\n",
       "    </tr>\n",
       "    <tr>\n",
       "      <th>16</th>\n",
       "      <td>0</td>\n",
       "      <td>-1719.934226</td>\n",
       "      <td>35</td>\n",
       "      <td>среднее</td>\n",
       "      <td>1</td>\n",
       "      <td>женат / замужем</td>\n",
       "      <td>0</td>\n",
       "      <td>F</td>\n",
       "      <td>сотрудник</td>\n",
       "      <td>0</td>\n",
       "      <td>289202.704229</td>\n",
       "      <td>недвижимость</td>\n",
       "    </tr>\n",
       "    <tr>\n",
       "      <th>17</th>\n",
       "      <td>0</td>\n",
       "      <td>-2369.999720</td>\n",
       "      <td>33</td>\n",
       "      <td>высшее</td>\n",
       "      <td>0</td>\n",
       "      <td>гражданский брак</td>\n",
       "      <td>1</td>\n",
       "      <td>M</td>\n",
       "      <td>сотрудник</td>\n",
       "      <td>0</td>\n",
       "      <td>90410.586745</td>\n",
       "      <td>строительство недвижимости</td>\n",
       "    </tr>\n",
       "    <tr>\n",
       "      <th>18</th>\n",
       "      <td>0</td>\n",
       "      <td>400281.136913</td>\n",
       "      <td>53</td>\n",
       "      <td>среднее</td>\n",
       "      <td>1</td>\n",
       "      <td>вдовец / вдова</td>\n",
       "      <td>2</td>\n",
       "      <td>F</td>\n",
       "      <td>пенсионер</td>\n",
       "      <td>0</td>\n",
       "      <td>56823.777243</td>\n",
       "      <td>на покупку подержанного автомобиля</td>\n",
       "    </tr>\n",
       "    <tr>\n",
       "      <th>19</th>\n",
       "      <td>0</td>\n",
       "      <td>-10038.818549</td>\n",
       "      <td>48</td>\n",
       "      <td>СРЕДНЕЕ</td>\n",
       "      <td>1</td>\n",
       "      <td>в разводе</td>\n",
       "      <td>3</td>\n",
       "      <td>F</td>\n",
       "      <td>сотрудник</td>\n",
       "      <td>0</td>\n",
       "      <td>242831.107982</td>\n",
       "      <td>на покупку своего автомобиля</td>\n",
       "    </tr>\n",
       "  </tbody>\n",
       "</table>\n",
       "</div>"
      ],
      "text/plain": [
       "    children  days_employed  dob_years            education  education_id  \\\n",
       "0          1   -8437.673028         42               высшее             0   \n",
       "1          1   -4024.803754         36              среднее             1   \n",
       "2          0   -5623.422610         33              Среднее             1   \n",
       "3          3   -4124.747207         32              среднее             1   \n",
       "4          0  340266.072047         53              среднее             1   \n",
       "5          0    -926.185831         27               высшее             0   \n",
       "6          0   -2879.202052         43               высшее             0   \n",
       "7          0    -152.779569         50              СРЕДНЕЕ             1   \n",
       "8          2   -6929.865299         35               ВЫСШЕЕ             0   \n",
       "9          0   -2188.756445         41              среднее             1   \n",
       "10         2   -4171.483647         36               высшее             0   \n",
       "11         0    -792.701887         40              среднее             1   \n",
       "12         0            NaN         65              среднее             1   \n",
       "13         0   -1846.641941         54  неоконченное высшее             2   \n",
       "14         0   -1844.956182         56               высшее             0   \n",
       "15         1    -972.364419         26              среднее             1   \n",
       "16         0   -1719.934226         35              среднее             1   \n",
       "17         0   -2369.999720         33               высшее             0   \n",
       "18         0  400281.136913         53              среднее             1   \n",
       "19         0  -10038.818549         48              СРЕДНЕЕ             1   \n",
       "\n",
       "       family_status  family_status_id gender income_type  debt  \\\n",
       "0    женат / замужем                 0      F   сотрудник     0   \n",
       "1    женат / замужем                 0      F   сотрудник     0   \n",
       "2    женат / замужем                 0      M   сотрудник     0   \n",
       "3    женат / замужем                 0      M   сотрудник     0   \n",
       "4   гражданский брак                 1      F   пенсионер     0   \n",
       "5   гражданский брак                 1      M   компаньон     0   \n",
       "6    женат / замужем                 0      F   компаньон     0   \n",
       "7    женат / замужем                 0      M   сотрудник     0   \n",
       "8   гражданский брак                 1      F   сотрудник     0   \n",
       "9    женат / замужем                 0      M   сотрудник     0   \n",
       "10   женат / замужем                 0      M   компаньон     0   \n",
       "11   женат / замужем                 0      F   сотрудник     0   \n",
       "12  гражданский брак                 1      M   пенсионер     0   \n",
       "13   женат / замужем                 0      F   сотрудник     0   \n",
       "14  гражданский брак                 1      F   компаньон     1   \n",
       "15   женат / замужем                 0      F   сотрудник     0   \n",
       "16   женат / замужем                 0      F   сотрудник     0   \n",
       "17  гражданский брак                 1      M   сотрудник     0   \n",
       "18    вдовец / вдова                 2      F   пенсионер     0   \n",
       "19         в разводе                 3      F   сотрудник     0   \n",
       "\n",
       "     total_income                                 purpose  \n",
       "0   253875.639453                           покупка жилья  \n",
       "1   112080.014102                 приобретение автомобиля  \n",
       "2   145885.952297                           покупка жилья  \n",
       "3   267628.550329              дополнительное образование  \n",
       "4   158616.077870                         сыграть свадьбу  \n",
       "5   255763.565419                           покупка жилья  \n",
       "6   240525.971920                       операции с жильем  \n",
       "7   135823.934197                             образование  \n",
       "8    95856.832424                   на проведение свадьбы  \n",
       "9   144425.938277                 покупка жилья для семьи  \n",
       "10  113943.491460                    покупка недвижимости  \n",
       "11   77069.234271       покупка коммерческой недвижимости  \n",
       "12            NaN                         сыграть свадьбу  \n",
       "13  130458.228857                 приобретение автомобиля  \n",
       "14  165127.911772              покупка жилой недвижимости  \n",
       "15  116820.904450  строительство собственной недвижимости  \n",
       "16  289202.704229                            недвижимость  \n",
       "17   90410.586745              строительство недвижимости  \n",
       "18   56823.777243      на покупку подержанного автомобиля  \n",
       "19  242831.107982            на покупку своего автомобиля  "
      ]
     },
     "execution_count": 3,
     "metadata": {},
     "output_type": "execute_result"
    }
   ],
   "source": [
    "data.head(20) # ваш код здесь"
   ]
  },
  {
   "cell_type": "markdown",
   "id": "c8f382ae",
   "metadata": {
    "deletable": false,
    "editable": false,
    "id": "c8f382ae",
    "tags": [
     "start_task"
    ]
   },
   "source": [
    "**Задание 3. Выведите основную информацию о датафрейме с помощью метода `info()`.**"
   ]
  },
  {
   "cell_type": "code",
   "execution_count": 58,
   "id": "e1ed9908",
   "metadata": {
    "id": "e1ed9908"
   },
   "outputs": [
    {
     "name": "stdout",
     "output_type": "stream",
     "text": [
      "<class 'pandas.core.frame.DataFrame'>\n",
      "RangeIndex: 21525 entries, 0 to 21524\n",
      "Data columns (total 12 columns):\n",
      " #   Column            Non-Null Count  Dtype  \n",
      "---  ------            --------------  -----  \n",
      " 0   children          21525 non-null  int64  \n",
      " 1   days_employed     19351 non-null  float64\n",
      " 2   dob_years         21525 non-null  int64  \n",
      " 3   education         21525 non-null  object \n",
      " 4   education_id      21525 non-null  int64  \n",
      " 5   family_status     21525 non-null  object \n",
      " 6   family_status_id  21525 non-null  int64  \n",
      " 7   gender            21525 non-null  object \n",
      " 8   income_type       21525 non-null  object \n",
      " 9   debt              21525 non-null  int64  \n",
      " 10  total_income      19351 non-null  float64\n",
      " 11  purpose           21525 non-null  object \n",
      "dtypes: float64(2), int64(5), object(5)\n",
      "memory usage: 2.0+ MB\n"
     ]
    }
   ],
   "source": [
    "data.info()  # ваш код здесь"
   ]
  },
  {
   "cell_type": "markdown",
   "id": "f969a1cd",
   "metadata": {
    "deletable": false,
    "editable": false,
    "id": "f969a1cd"
   },
   "source": [
    "## Предобработка данных"
   ]
  },
  {
   "cell_type": "markdown",
   "id": "7283e864",
   "metadata": {
    "deletable": false,
    "editable": false,
    "id": "7283e864"
   },
   "source": [
    "### Удаление пропусков"
   ]
  },
  {
   "cell_type": "markdown",
   "id": "c9a0745e",
   "metadata": {
    "deletable": false,
    "editable": false,
    "id": "c9a0745e",
    "tags": [
     "start_task"
    ]
   },
   "source": [
    "**Задание 4. Выведите количество пропущенных значений для каждого столбца. Используйте комбинацию двух методов.**"
   ]
  },
  {
   "cell_type": "code",
   "execution_count": 59,
   "id": "b7a096e1",
   "metadata": {
    "id": "b7a096e1"
   },
   "outputs": [
    {
     "data": {
      "text/plain": [
       "children               0\n",
       "days_employed       2174\n",
       "dob_years              0\n",
       "education              0\n",
       "education_id           0\n",
       "family_status          0\n",
       "family_status_id       0\n",
       "gender                 0\n",
       "income_type            0\n",
       "debt                   0\n",
       "total_income        2174\n",
       "purpose                0\n",
       "dtype: int64"
      ]
     },
     "execution_count": 59,
     "metadata": {},
     "output_type": "execute_result"
    }
   ],
   "source": [
    "data.isna().sum()  # ваш код здесь"
   ]
  },
  {
   "cell_type": "markdown",
   "id": "c2578616",
   "metadata": {
    "deletable": false,
    "editable": false,
    "id": "c2578616",
    "tags": [
     "start_task"
    ]
   },
   "source": [
    "**Задание 5. В двух столбцах есть пропущенные значения. Один из них — `days_employed`. Пропуски в этом столбце вы обработаете на следующем этапе. Другой столбец с пропущенными значениями — `total_income` — хранит данные о доходах. На сумму дохода сильнее всего влияет тип занятости, поэтому заполнить пропуски в этом столбце нужно медианным значением по каждому типу из столбца `income_type`. Например, у человека с типом занятости `сотрудник` пропуск в столбце `total_income` должен быть заполнен медианным доходом среди всех записей с тем же типом.**"
   ]
  },
  {
   "cell_type": "code",
   "execution_count": 60,
   "id": "e8afc4bc",
   "metadata": {
    "id": "e8afc4bc"
   },
   "outputs": [],
   "source": [
    "data['total_income'] = data['total_income'].fillna(data.groupby('income_type')['total_income'].transform('median')) "
   ]
  },
  {
   "cell_type": "markdown",
   "id": "ae986d46",
   "metadata": {
    "deletable": false,
    "editable": false,
    "id": "ae986d46"
   },
   "source": [
    "### Обработка аномальных значений"
   ]
  },
  {
   "cell_type": "markdown",
   "id": "b049cbae",
   "metadata": {
    "deletable": false,
    "editable": false,
    "id": "b049cbae",
    "tags": [
     "start_task"
    ]
   },
   "source": [
    "**Задание 6. В данных могут встречаться артефакты (аномалии) — значения, которые не отражают действительность и появились по какой-то ошибке. Таким артефактом будет отрицательное количество дней трудового стажа в столбце `days_employed`. Для реальных данных это нормально. Обработайте значения в этом столбце: замените все отрицательные значения положительными с помощью метода `abs()`.**"
   ]
  },
  {
   "cell_type": "code",
   "execution_count": 61,
   "id": "187779b0",
   "metadata": {
    "id": "187779b0"
   },
   "outputs": [],
   "source": [
    "data['days_employed'] = data['days_employed'].abs() # ваш код здесь"
   ]
  },
  {
   "cell_type": "markdown",
   "id": "a13054c2",
   "metadata": {
    "deletable": false,
    "editable": false,
    "id": "a13054c2",
    "tags": [
     "start_task"
    ]
   },
   "source": [
    "**Задание 7. Для каждого типа занятости выведите медианное значение трудового стажа `days_employed` в днях.**"
   ]
  },
  {
   "cell_type": "code",
   "execution_count": 62,
   "id": "f3f5810c",
   "metadata": {
    "id": "f3f5810c"
   },
   "outputs": [
    {
     "data": {
      "text/plain": [
       "income_type\n",
       "безработный        366413.652744\n",
       "в декрете            3296.759962\n",
       "госслужащий          2689.368353\n",
       "компаньон            1547.382223\n",
       "пенсионер          365213.306266\n",
       "предприниматель       520.848083\n",
       "сотрудник            1574.202821\n",
       "студент               578.751554\n",
       "Name: days_employed, dtype: float64"
      ]
     },
     "execution_count": 62,
     "metadata": {},
     "output_type": "execute_result"
    }
   ],
   "source": [
    "data.groupby('income_type')['days_employed'].median() # ваш код здесь"
   ]
  },
  {
   "cell_type": "markdown",
   "id": "dbc3168c",
   "metadata": {
    "deletable": false,
    "editable": false,
    "id": "dbc3168c"
   },
   "source": [
    "У двух типов (безработные и пенсионеры) получатся аномально большие значения. Исправить такие значения сложно, поэтому оставьте их как есть."
   ]
  },
  {
   "cell_type": "markdown",
   "id": "ff4378c2",
   "metadata": {
    "deletable": false,
    "editable": false,
    "id": "ff4378c2",
    "tags": [
     "start_task"
    ]
   },
   "source": [
    "**Задание 8. Выведите перечень уникальных значений столбца `children`.**"
   ]
  },
  {
   "cell_type": "code",
   "execution_count": 63,
   "id": "9bd0c232",
   "metadata": {
    "id": "9bd0c232"
   },
   "outputs": [
    {
     "data": {
      "text/plain": [
       "array([ 1,  0,  3,  2, -1,  4, 20,  5])"
      ]
     },
     "execution_count": 63,
     "metadata": {},
     "output_type": "execute_result"
    }
   ],
   "source": [
    "data['children'].unique()  # ваш код здесь"
   ]
  },
  {
   "cell_type": "markdown",
   "id": "8e911990",
   "metadata": {
    "deletable": false,
    "editable": false,
    "id": "8e911990",
    "tags": [
     "start_task"
    ]
   },
   "source": [
    "**Задание 9. В столбце `children` есть два аномальных значения. Удалите строки, в которых встречаются такие аномальные значения из датафрейма `data`.**"
   ]
  },
  {
   "cell_type": "code",
   "execution_count": 64,
   "id": "6d5ba289",
   "metadata": {
    "id": "6d5ba289"
   },
   "outputs": [],
   "source": [
    "data = data[(data['children'] != -1) & (data['children'] != 20)] # ваш код здесь"
   ]
  },
  {
   "cell_type": "markdown",
   "id": "18d77455",
   "metadata": {
    "deletable": false,
    "editable": false,
    "id": "18d77455",
    "tags": [
     "start_task"
    ]
   },
   "source": [
    "**Задание 10. Ещё раз выведите перечень уникальных значений столбца `children`, чтобы убедиться, что артефакты удалены.**"
   ]
  },
  {
   "cell_type": "code",
   "execution_count": 65,
   "id": "2c5fa92c",
   "metadata": {
    "id": "2c5fa92c"
   },
   "outputs": [
    {
     "data": {
      "text/plain": [
       "array([1, 0, 3, 2, 4, 5])"
      ]
     },
     "execution_count": 65,
     "metadata": {},
     "output_type": "execute_result"
    }
   ],
   "source": [
    "data['children'].unique()  # ваш код здесь"
   ]
  },
  {
   "cell_type": "markdown",
   "id": "0ec07dee",
   "metadata": {
    "deletable": false,
    "editable": false,
    "id": "0ec07dee"
   },
   "source": [
    "### Удаление пропусков (продолжение)"
   ]
  },
  {
   "cell_type": "markdown",
   "id": "0fc3ae3f",
   "metadata": {
    "deletable": false,
    "editable": false,
    "id": "0fc3ae3f",
    "tags": [
     "start_task"
    ]
   },
   "source": [
    "**Задание 11. Заполните пропуски в столбце `days_employed` медианными значениями по каждому типу занятости `income_type`.**"
   ]
  },
  {
   "cell_type": "code",
   "execution_count": 66,
   "id": "e2aea7ac",
   "metadata": {
    "id": "e2aea7ac"
   },
   "outputs": [],
   "source": [
    "for t in data['income_type'].unique():\n",
    "    data.loc[(data['income_type'] == t) & (data['days_employed'].isna()), 'days_employed'] = \\\n",
    "    data.loc[(data['income_type'] == t), 'days_employed'].median()     # ваш код здесь"
   ]
  },
  {
   "cell_type": "markdown",
   "id": "97b0b795",
   "metadata": {
    "deletable": false,
    "editable": false,
    "id": "97b0b795",
    "tags": [
     "start_task"
    ]
   },
   "source": [
    "**Задание 12. Убедитесь, что все пропуски заполнены. Проверьте себя и ещё раз выведите количество пропущенных значений для каждого столбца с помощью двух методов.**"
   ]
  },
  {
   "cell_type": "code",
   "execution_count": 67,
   "id": "79632a21",
   "metadata": {
    "id": "79632a21"
   },
   "outputs": [
    {
     "data": {
      "text/plain": [
       "children            0\n",
       "days_employed       0\n",
       "dob_years           0\n",
       "education           0\n",
       "education_id        0\n",
       "family_status       0\n",
       "family_status_id    0\n",
       "gender              0\n",
       "income_type         0\n",
       "debt                0\n",
       "total_income        0\n",
       "purpose             0\n",
       "dtype: int64"
      ]
     },
     "execution_count": 67,
     "metadata": {},
     "output_type": "execute_result"
    }
   ],
   "source": [
    "data.isna().sum() # ваш код здесь"
   ]
  },
  {
   "cell_type": "markdown",
   "id": "bd4aeb20",
   "metadata": {
    "deletable": false,
    "editable": false,
    "id": "bd4aeb20"
   },
   "source": [
    "### Изменение типов данных"
   ]
  },
  {
   "cell_type": "markdown",
   "id": "963bfa58",
   "metadata": {
    "deletable": false,
    "editable": false,
    "id": "963bfa58",
    "tags": [
     "start_task"
    ]
   },
   "source": [
    "**Задание 13. Замените вещественный тип данных в столбце `total_income` на целочисленный с помощью метода `astype()`.**"
   ]
  },
  {
   "cell_type": "code",
   "execution_count": 68,
   "id": "73da6ea0",
   "metadata": {
    "id": "73da6ea0"
   },
   "outputs": [],
   "source": [
    "data['total_income'] = data['total_income'].astype('int') # ваш код здесь"
   ]
  },
  {
   "cell_type": "markdown",
   "id": "d290239e",
   "metadata": {
    "deletable": false,
    "editable": false,
    "id": "d290239e"
   },
   "source": [
    "### Обработка дубликатов"
   ]
  },
  {
   "cell_type": "markdown",
   "id": "1b5844fd",
   "metadata": {
    "deletable": false,
    "editable": false,
    "id": "1b5844fd",
    "tags": [
     "start_task"
    ]
   },
   "source": [
    "**Задание 14. Обработайте неявные дубликаты в столбце `education`. В этом столбце есть одни и те же значения, но записанные по-разному: с использованием заглавных и строчных букв. Приведите их к нижнему регистру.**"
   ]
  },
  {
   "cell_type": "code",
   "execution_count": 69,
   "id": "3f2504b3",
   "metadata": {
    "id": "3f2504b3"
   },
   "outputs": [],
   "source": [
    "data['education'] = data['education'].str.lower() # ваш код здес"
   ]
  },
  {
   "cell_type": "markdown",
   "id": "4c22acbc",
   "metadata": {
    "deletable": false,
    "editable": false,
    "id": "4c22acbc",
    "tags": [
     "start_task"
    ]
   },
   "source": [
    "**Задание 15. Выведите на экран количество строк-дубликатов в данных. Если такие строки присутствуют, удалите их.**"
   ]
  },
  {
   "cell_type": "code",
   "execution_count": 70,
   "id": "d34a4325",
   "metadata": {
    "id": "d34a4325"
   },
   "outputs": [
    {
     "data": {
      "text/plain": [
       "0        False\n",
       "1        False\n",
       "2        False\n",
       "3        False\n",
       "4        False\n",
       "         ...  \n",
       "21520    False\n",
       "21521    False\n",
       "21522    False\n",
       "21523    False\n",
       "21524    False\n",
       "Length: 21402, dtype: bool"
      ]
     },
     "execution_count": 70,
     "metadata": {},
     "output_type": "execute_result"
    }
   ],
   "source": [
    "data.duplicated()  # посчитайте дубликаты"
   ]
  },
  {
   "cell_type": "code",
   "execution_count": 71,
   "id": "6e1a6499",
   "metadata": {
    "id": "6e1a6499"
   },
   "outputs": [],
   "source": [
    "data = data.drop_duplicates()  # удалите дубликаты"
   ]
  },
  {
   "cell_type": "markdown",
   "id": "e5686ccc",
   "metadata": {
    "deletable": false,
    "editable": false,
    "id": "e5686ccc"
   },
   "source": [
    "### Категоризация данных"
   ]
  },
  {
   "cell_type": "markdown",
   "id": "636e9acd",
   "metadata": {
    "deletable": false,
    "editable": false,
    "id": "636e9acd",
    "tags": [
     "start_task"
    ]
   },
   "source": [
    "**Задание 16. На основании диапазонов, указанных ниже, создайте в датафрейме `data` столбец `total_income_category` с категориями:**\n",
    "\n",
    "- 0–30000 — `'E'`;\n",
    "- 30001–50000 — `'D'`;\n",
    "- 50001–200000 — `'C'`;\n",
    "- 200001–1000000 — `'B'`;\n",
    "- 1000001 и выше — `'A'`.\n",
    "\n",
    "\n",
    "**Например, кредитополучателю с доходом 25000 нужно назначить категорию `'E'`, а клиенту, получающему 235000, — `'B'`. Используйте собственную функцию с именем `categorize_income()` и метод `apply()`.**"
   ]
  },
  {
   "cell_type": "code",
   "execution_count": 72,
   "id": "880a77e5",
   "metadata": {
    "id": "880a77e5"
   },
   "outputs": [],
   "source": [
    "def categorize_income(inc):\n",
    "    inc_nm = ''\n",
    "    if 0 <= inc <= 30000:\n",
    "        inc_nm = 'E'\n",
    "    elif 30001 <= inc <= 50000:\n",
    "        inc_nm = 'D'\n",
    "    elif 50001 <= inc <= 200000:\n",
    "        inc_nm = 'C'\n",
    "    elif 200001 <= inc <= 1000000:\n",
    "        inc_nm = 'B'\n",
    "    elif inc >= 1000001:\n",
    "        inc_nm = 'A'\n",
    "    return inc_nm\n",
    "     # создайте функцию categorize_income()"
   ]
  },
  {
   "cell_type": "code",
   "execution_count": 73,
   "id": "6f25f161",
   "metadata": {
    "id": "6f25f161"
   },
   "outputs": [],
   "source": [
    "data['total_income_category'] = data['total_income'].apply(categorize_income)  # примените функцию методом apply()"
   ]
  },
  {
   "cell_type": "markdown",
   "id": "3363b685",
   "metadata": {
    "deletable": false,
    "editable": false,
    "id": "3363b685",
    "tags": [
     "start_task"
    ]
   },
   "source": [
    "**Задание 17. Выведите на экран перечень уникальных целей взятия кредита из столбца `purpose`.**"
   ]
  },
  {
   "cell_type": "code",
   "execution_count": 74,
   "id": "e59f2c15",
   "metadata": {
    "id": "e59f2c15"
   },
   "outputs": [
    {
     "data": {
      "text/plain": [
       "array(['покупка жилья', 'приобретение автомобиля',\n",
       "       'дополнительное образование', 'сыграть свадьбу',\n",
       "       'операции с жильем', 'образование', 'на проведение свадьбы',\n",
       "       'покупка жилья для семьи', 'покупка недвижимости',\n",
       "       'покупка коммерческой недвижимости', 'покупка жилой недвижимости',\n",
       "       'строительство собственной недвижимости', 'недвижимость',\n",
       "       'строительство недвижимости', 'на покупку подержанного автомобиля',\n",
       "       'на покупку своего автомобиля',\n",
       "       'операции с коммерческой недвижимостью',\n",
       "       'строительство жилой недвижимости', 'жилье',\n",
       "       'операции со своей недвижимостью', 'автомобили',\n",
       "       'заняться образованием', 'сделка с подержанным автомобилем',\n",
       "       'получение образования', 'автомобиль', 'свадьба',\n",
       "       'получение дополнительного образования', 'покупка своего жилья',\n",
       "       'операции с недвижимостью', 'получение высшего образования',\n",
       "       'свой автомобиль', 'сделка с автомобилем',\n",
       "       'профильное образование', 'высшее образование',\n",
       "       'покупка жилья для сдачи', 'на покупку автомобиля', 'ремонт жилью',\n",
       "       'заняться высшим образованием'], dtype=object)"
      ]
     },
     "execution_count": 74,
     "metadata": {},
     "output_type": "execute_result"
    }
   ],
   "source": [
    "data['purpose'].unique() # ваш код здесь"
   ]
  },
  {
   "cell_type": "markdown",
   "id": "bb33e847",
   "metadata": {
    "deletable": false,
    "editable": false,
    "id": "bb33e847",
    "tags": [
     "start_task"
    ]
   },
   "source": [
    "**Задание 18. Создайте функцию, которая на основании данных из столбца `purpose` сформирует новый столбец `purpose_category`, в который войдут следующие категории:**\n",
    "\n",
    "- `'операции с автомобилем'`,\n",
    "- `'операции с недвижимостью'`,\n",
    "- `'проведение свадьбы'`,\n",
    "- `'получение образования'`.\n",
    "\n",
    "**Например, если в столбце `purpose` находится подстрока `'на покупку автомобиля'`, то в столбце `purpose_category` должна появиться строка `'операции с автомобилем'`.**\n",
    "\n",
    "**Используйте собственную функцию с именем `categorize_purpose()` и метод `apply()`. Изучите данные в столбце `purpose` и определите, какие подстроки помогут вам правильно определить категорию.**"
   ]
  },
  {
   "cell_type": "code",
   "execution_count": 76,
   "id": "63909b83",
   "metadata": {
    "id": "63909b83"
   },
   "outputs": [],
   "source": [
    "def categorize_purpose(ass):\n",
    "    ass_av = ''\n",
    "    if 'автомобил' in ass:\n",
    "        ass_av = 'операции с автомобилем'\n",
    "    elif ('недвиж' in ass or 'жиль' in ass):\n",
    "        ass_av = 'операции с недвижимостью'\n",
    "    elif 'свадьб' in ass:\n",
    "        ass_av = 'проведение свадьбы'\n",
    "    elif 'образован' in ass:\n",
    "        ass_av = 'получение образования'\n",
    "    return ass_av\n",
    "\n",
    "# создайте функцию categorize_purpose()"
   ]
  },
  {
   "cell_type": "code",
   "execution_count": 77,
   "id": "7cb4a81d",
   "metadata": {
    "id": "7cb4a81d"
   },
   "outputs": [],
   "source": [
    "data['purpose_category'] = data['purpose'].apply(categorize_purpose) # примените функцию методом apply()"
   ]
  },
  {
   "cell_type": "code",
   "execution_count": null,
   "id": "b35f9260",
   "metadata": {},
   "outputs": [],
   "source": []
  }
 ],
 "metadata": {
  "ExecuteTimeLog": [
   {
    "duration": 477,
    "start_time": "2023-04-21T10:16:27.722Z"
   },
   {
    "duration": 82,
    "start_time": "2023-04-21T10:17:16.102Z"
   },
   {
    "duration": 9,
    "start_time": "2023-04-21T10:17:57.872Z"
   },
   {
    "duration": 3,
    "start_time": "2023-04-21T10:18:03.127Z"
   },
   {
    "duration": 316,
    "start_time": "2023-04-21T10:18:04.584Z"
   },
   {
    "duration": 17,
    "start_time": "2023-04-21T10:18:12.941Z"
   },
   {
    "duration": 25,
    "start_time": "2023-04-21T10:18:20.822Z"
   },
   {
    "duration": 3,
    "start_time": "2023-04-21T10:18:27.772Z"
   },
   {
    "duration": 75,
    "start_time": "2023-04-21T10:18:35.444Z"
   },
   {
    "duration": 4,
    "start_time": "2023-04-21T11:43:12.419Z"
   },
   {
    "duration": 76,
    "start_time": "2023-04-21T11:43:14.774Z"
   },
   {
    "duration": 18,
    "start_time": "2023-04-21T11:43:18.217Z"
   },
   {
    "duration": 17,
    "start_time": "2023-04-21T11:43:26.277Z"
   },
   {
    "duration": 20,
    "start_time": "2023-04-21T11:43:33.673Z"
   },
   {
    "duration": 13,
    "start_time": "2023-04-21T11:43:41.105Z"
   },
   {
    "duration": 10,
    "start_time": "2023-04-21T12:26:43.768Z"
   },
   {
    "duration": 26,
    "start_time": "2023-04-21T12:27:56.736Z"
   },
   {
    "duration": 8,
    "start_time": "2023-04-21T12:29:28.379Z"
   },
   {
    "duration": 13,
    "start_time": "2023-04-21T12:30:32.762Z"
   },
   {
    "duration": 26,
    "start_time": "2023-04-21T12:31:52.354Z"
   },
   {
    "duration": 13,
    "start_time": "2023-04-21T12:32:38.456Z"
   },
   {
    "duration": 22,
    "start_time": "2023-04-21T12:32:58.070Z"
   },
   {
    "duration": 8,
    "start_time": "2023-04-21T12:33:55.715Z"
   },
   {
    "duration": 7,
    "start_time": "2023-04-21T12:34:06.303Z"
   },
   {
    "duration": 17,
    "start_time": "2023-04-21T12:34:07.168Z"
   },
   {
    "duration": 25,
    "start_time": "2023-04-21T12:37:36.866Z"
   },
   {
    "duration": 27,
    "start_time": "2023-04-21T12:38:10.035Z"
   },
   {
    "duration": 20,
    "start_time": "2023-04-21T12:40:49.618Z"
   },
   {
    "duration": 487,
    "start_time": "2023-04-21T12:42:00.084Z"
   },
   {
    "duration": 23,
    "start_time": "2023-04-21T12:42:18.679Z"
   },
   {
    "duration": 7,
    "start_time": "2023-04-21T13:27:45.699Z"
   },
   {
    "duration": 8,
    "start_time": "2023-04-21T13:40:29.496Z"
   },
   {
    "duration": 4,
    "start_time": "2023-04-21T13:54:52.773Z"
   },
   {
    "duration": 9,
    "start_time": "2023-04-21T13:55:02.618Z"
   },
   {
    "duration": 9,
    "start_time": "2023-04-21T14:10:30.706Z"
   },
   {
    "duration": 7,
    "start_time": "2023-04-21T14:10:42.005Z"
   },
   {
    "duration": 7,
    "start_time": "2023-04-21T14:12:24.886Z"
   },
   {
    "duration": 8,
    "start_time": "2023-04-21T14:12:33.284Z"
   },
   {
    "duration": 5,
    "start_time": "2023-04-21T14:13:00.226Z"
   },
   {
    "duration": 433,
    "start_time": "2023-04-23T13:35:16.131Z"
   },
   {
    "duration": 663,
    "start_time": "2023-04-23T13:35:17.255Z"
   },
   {
    "duration": 22,
    "start_time": "2023-04-23T13:35:22.927Z"
   },
   {
    "duration": 14,
    "start_time": "2023-04-23T13:35:28.932Z"
   },
   {
    "duration": 10,
    "start_time": "2023-04-23T13:35:36.208Z"
   },
   {
    "duration": 6,
    "start_time": "2023-04-23T13:35:47.200Z"
   },
   {
    "duration": 5,
    "start_time": "2023-04-23T13:36:03.857Z"
   },
   {
    "duration": 3,
    "start_time": "2023-04-23T13:36:09.869Z"
   },
   {
    "duration": 7,
    "start_time": "2023-04-23T13:36:16.406Z"
   },
   {
    "duration": 4,
    "start_time": "2023-04-23T13:36:25.282Z"
   },
   {
    "duration": 8,
    "start_time": "2023-04-23T13:36:30.455Z"
   },
   {
    "duration": 4,
    "start_time": "2023-04-23T13:36:37.964Z"
   },
   {
    "duration": 30,
    "start_time": "2023-04-23T14:06:21.101Z"
   },
   {
    "duration": 30,
    "start_time": "2023-04-23T14:06:24.796Z"
   },
   {
    "duration": 10,
    "start_time": "2023-04-23T14:06:28.692Z"
   },
   {
    "duration": 14,
    "start_time": "2023-04-23T14:31:17.709Z"
   },
   {
    "duration": 16,
    "start_time": "2023-04-23T14:31:31.209Z"
   },
   {
    "duration": 10,
    "start_time": "2023-04-23T14:31:36.394Z"
   },
   {
    "duration": 7,
    "start_time": "2023-04-23T14:31:47.310Z"
   },
   {
    "duration": 4,
    "start_time": "2023-04-23T14:31:50.784Z"
   },
   {
    "duration": 10,
    "start_time": "2023-04-23T14:31:57.250Z"
   },
   {
    "duration": 5,
    "start_time": "2023-04-23T14:32:01.553Z"
   },
   {
    "duration": 6,
    "start_time": "2023-04-23T14:32:05.285Z"
   },
   {
    "duration": 5,
    "start_time": "2023-04-23T14:32:11.815Z"
   },
   {
    "duration": 43,
    "start_time": "2023-04-23T14:32:29.339Z"
   },
   {
    "duration": 13,
    "start_time": "2023-04-23T14:32:32.402Z"
   },
   {
    "duration": 4,
    "start_time": "2023-04-23T14:33:41.847Z"
   },
   {
    "duration": 10,
    "start_time": "2023-04-23T15:00:57.741Z"
   },
   {
    "duration": 28,
    "start_time": "2023-04-23T15:12:10.329Z"
   },
   {
    "duration": 16,
    "start_time": "2023-04-23T15:12:16.138Z"
   },
   {
    "duration": 16,
    "start_time": "2023-04-23T15:12:23.529Z"
   },
   {
    "duration": 3,
    "start_time": "2023-04-23T15:32:02.637Z"
   },
   {
    "duration": 3,
    "start_time": "2023-04-23T15:32:29.277Z"
   },
   {
    "duration": 3,
    "start_time": "2023-04-23T15:32:39.915Z"
   },
   {
    "duration": 4,
    "start_time": "2023-04-23T15:32:56.378Z"
   },
   {
    "duration": 13,
    "start_time": "2023-04-23T15:34:18.975Z"
   },
   {
    "duration": 66,
    "start_time": "2023-04-23T15:34:41.429Z"
   },
   {
    "duration": 11,
    "start_time": "2023-04-23T15:35:21.419Z"
   },
   {
    "duration": 9,
    "start_time": "2023-04-23T15:36:23.519Z"
   },
   {
    "duration": 5,
    "start_time": "2023-04-23T16:43:22.409Z"
   },
   {
    "duration": 5,
    "start_time": "2023-04-23T17:16:11.620Z"
   },
   {
    "duration": 2,
    "start_time": "2023-04-23T17:16:43.347Z"
   },
   {
    "duration": 104,
    "start_time": "2023-04-23T17:16:43.970Z"
   },
   {
    "duration": 3,
    "start_time": "2023-04-23T17:17:36.787Z"
   },
   {
    "duration": 7,
    "start_time": "2023-04-23T17:18:30.802Z"
   },
   {
    "duration": 5,
    "start_time": "2023-04-23T17:19:27.892Z"
   },
   {
    "duration": 6,
    "start_time": "2023-04-23T17:19:51.551Z"
   },
   {
    "duration": 4,
    "start_time": "2023-04-23T17:19:59.192Z"
   },
   {
    "duration": 7,
    "start_time": "2023-04-23T17:20:16.957Z"
   },
   {
    "duration": 2,
    "start_time": "2023-04-23T17:24:11.814Z"
   },
   {
    "duration": 2782,
    "start_time": "2023-04-23T17:25:02.278Z"
   },
   {
    "duration": 3,
    "start_time": "2023-04-23T17:25:05.552Z"
   },
   {
    "duration": 9,
    "start_time": "2023-04-23T17:25:06.024Z"
   },
   {
    "duration": 5,
    "start_time": "2023-04-23T17:25:06.730Z"
   },
   {
    "duration": 8,
    "start_time": "2023-04-23T17:25:59.648Z"
   },
   {
    "duration": 3,
    "start_time": "2023-04-23T17:27:22.418Z"
   },
   {
    "duration": 4,
    "start_time": "2023-04-23T17:27:22.917Z"
   },
   {
    "duration": 9,
    "start_time": "2023-04-23T17:27:23.570Z"
   },
   {
    "duration": 6,
    "start_time": "2023-04-23T17:27:24.535Z"
   },
   {
    "duration": 26,
    "start_time": "2023-04-23T17:28:07.455Z"
   },
   {
    "duration": 7,
    "start_time": "2023-04-23T17:28:27.054Z"
   },
   {
    "duration": 3,
    "start_time": "2023-04-23T17:29:14.073Z"
   },
   {
    "duration": 8,
    "start_time": "2023-04-23T17:29:14.955Z"
   },
   {
    "duration": 5,
    "start_time": "2023-04-23T17:29:15.772Z"
   },
   {
    "duration": 7,
    "start_time": "2023-04-23T17:29:19.058Z"
   },
   {
    "duration": 46,
    "start_time": "2023-05-22T09:15:48.422Z"
   },
   {
    "duration": 368,
    "start_time": "2023-05-22T09:15:53.808Z"
   },
   {
    "duration": 117,
    "start_time": "2023-05-22T09:15:54.178Z"
   },
   {
    "duration": 20,
    "start_time": "2023-05-22T09:15:54.297Z"
   },
   {
    "duration": 14,
    "start_time": "2023-05-22T09:15:54.319Z"
   },
   {
    "duration": 8,
    "start_time": "2023-05-22T09:15:54.334Z"
   },
   {
    "duration": 7,
    "start_time": "2023-05-22T09:15:54.344Z"
   },
   {
    "duration": 3,
    "start_time": "2023-05-22T09:15:54.352Z"
   },
   {
    "duration": 27,
    "start_time": "2023-05-22T09:15:54.357Z"
   },
   {
    "duration": 8,
    "start_time": "2023-05-22T09:15:54.385Z"
   },
   {
    "duration": 18,
    "start_time": "2023-05-22T09:15:54.396Z"
   },
   {
    "duration": 29,
    "start_time": "2023-05-22T09:15:54.415Z"
   },
   {
    "duration": 39,
    "start_time": "2023-05-22T09:15:54.445Z"
   },
   {
    "duration": 8,
    "start_time": "2023-05-22T09:15:54.486Z"
   },
   {
    "duration": 3,
    "start_time": "2023-05-22T09:15:54.495Z"
   },
   {
    "duration": 16,
    "start_time": "2023-05-22T09:15:54.499Z"
   },
   {
    "duration": 46,
    "start_time": "2023-05-22T09:15:54.516Z"
   },
   {
    "duration": 29,
    "start_time": "2023-05-22T09:15:54.563Z"
   },
   {
    "duration": 14,
    "start_time": "2023-05-22T09:15:54.593Z"
   },
   {
    "duration": 36,
    "start_time": "2023-05-22T09:15:54.609Z"
   },
   {
    "duration": 25,
    "start_time": "2023-05-22T09:15:54.647Z"
   },
   {
    "duration": 15,
    "start_time": "2023-05-22T09:15:54.674Z"
   },
   {
    "duration": 5,
    "start_time": "2023-05-22T09:15:54.691Z"
   },
   {
    "duration": 12,
    "start_time": "2023-05-22T09:15:54.697Z"
   },
   {
    "duration": 2,
    "start_time": "2023-05-22T09:15:54.711Z"
   },
   {
    "duration": 5,
    "start_time": "2023-05-22T09:15:54.714Z"
   },
   {
    "duration": 39,
    "start_time": "2023-05-22T09:19:14.755Z"
   },
   {
    "duration": 20,
    "start_time": "2023-05-22T09:25:54.509Z"
   },
   {
    "duration": 22,
    "start_time": "2023-05-22T09:26:01.613Z"
   },
   {
    "duration": 4,
    "start_time": "2023-05-22T09:26:05.868Z"
   },
   {
    "duration": 82,
    "start_time": "2023-05-22T09:26:05.875Z"
   },
   {
    "duration": 15,
    "start_time": "2023-05-22T09:26:05.959Z"
   },
   {
    "duration": 38,
    "start_time": "2023-05-22T09:26:05.975Z"
   },
   {
    "duration": 9,
    "start_time": "2023-05-22T09:26:06.016Z"
   },
   {
    "duration": 8,
    "start_time": "2023-05-22T09:26:06.026Z"
   },
   {
    "duration": 6,
    "start_time": "2023-05-22T09:26:06.036Z"
   },
   {
    "duration": 17,
    "start_time": "2023-05-22T09:26:06.043Z"
   },
   {
    "duration": 14,
    "start_time": "2023-05-22T09:26:06.062Z"
   },
   {
    "duration": 23,
    "start_time": "2023-05-22T09:26:06.078Z"
   },
   {
    "duration": 20,
    "start_time": "2023-05-22T09:26:06.106Z"
   },
   {
    "duration": 45,
    "start_time": "2023-05-22T09:26:06.128Z"
   },
   {
    "duration": 22,
    "start_time": "2023-05-22T09:26:06.175Z"
   },
   {
    "duration": 5,
    "start_time": "2023-05-22T09:26:06.199Z"
   },
   {
    "duration": 23,
    "start_time": "2023-05-22T09:26:06.206Z"
   },
   {
    "duration": 20,
    "start_time": "2023-05-22T09:26:06.234Z"
   },
   {
    "duration": 2,
    "start_time": "2023-05-22T09:26:06.256Z"
   },
   {
    "duration": 7,
    "start_time": "2023-05-22T09:26:06.260Z"
   },
   {
    "duration": 23,
    "start_time": "2023-05-22T09:26:06.270Z"
   },
   {
    "duration": 22,
    "start_time": "2023-05-22T09:26:06.295Z"
   },
   {
    "duration": 4,
    "start_time": "2023-05-22T09:26:06.326Z"
   },
   {
    "duration": 5,
    "start_time": "2023-05-22T09:26:06.333Z"
   },
   {
    "duration": 12,
    "start_time": "2023-05-22T09:26:06.339Z"
   },
   {
    "duration": 4,
    "start_time": "2023-05-22T09:26:06.353Z"
   },
   {
    "duration": 7,
    "start_time": "2023-05-22T09:26:06.359Z"
   },
   {
    "duration": 3,
    "start_time": "2023-05-22T09:26:21.808Z"
   },
   {
    "duration": 69,
    "start_time": "2023-05-22T09:26:21.815Z"
   },
   {
    "duration": 18,
    "start_time": "2023-05-22T09:26:21.888Z"
   },
   {
    "duration": 14,
    "start_time": "2023-05-22T09:26:21.908Z"
   },
   {
    "duration": 10,
    "start_time": "2023-05-22T09:26:21.925Z"
   },
   {
    "duration": 7,
    "start_time": "2023-05-22T09:26:21.936Z"
   },
   {
    "duration": 4,
    "start_time": "2023-05-22T09:26:21.944Z"
   },
   {
    "duration": 51,
    "start_time": "2023-05-22T09:26:21.949Z"
   },
   {
    "duration": 5,
    "start_time": "2023-05-22T09:26:22.002Z"
   },
   {
    "duration": 6,
    "start_time": "2023-05-22T09:26:22.009Z"
   },
   {
    "duration": 4,
    "start_time": "2023-05-22T09:26:22.018Z"
   },
   {
    "duration": 38,
    "start_time": "2023-05-22T09:26:22.023Z"
   },
   {
    "duration": 27,
    "start_time": "2023-05-22T09:26:22.063Z"
   },
   {
    "duration": 14,
    "start_time": "2023-05-22T09:26:22.092Z"
   },
   {
    "duration": 11,
    "start_time": "2023-05-22T09:26:22.107Z"
   },
   {
    "duration": 18,
    "start_time": "2023-05-22T09:26:22.120Z"
   },
   {
    "duration": 17,
    "start_time": "2023-05-22T09:26:22.140Z"
   },
   {
    "duration": 4,
    "start_time": "2023-05-22T09:26:22.158Z"
   },
   {
    "duration": 39,
    "start_time": "2023-05-22T09:26:22.163Z"
   },
   {
    "duration": 7,
    "start_time": "2023-05-22T09:26:22.203Z"
   },
   {
    "duration": 2,
    "start_time": "2023-05-22T09:26:22.212Z"
   },
   {
    "duration": 4,
    "start_time": "2023-05-22T09:26:22.216Z"
   },
   {
    "duration": 13,
    "start_time": "2023-05-22T09:26:22.221Z"
   },
   {
    "duration": 2,
    "start_time": "2023-05-22T09:26:22.236Z"
   },
   {
    "duration": 3,
    "start_time": "2023-05-22T09:26:22.240Z"
   }
  ],
  "colab": {
   "provenance": []
  },
  "kernelspec": {
   "display_name": "Python 3 (ipykernel)",
   "language": "python",
   "name": "python3"
  },
  "language_info": {
   "codemirror_mode": {
    "name": "ipython",
    "version": 3
   },
   "file_extension": ".py",
   "mimetype": "text/x-python",
   "name": "python",
   "nbconvert_exporter": "python",
   "pygments_lexer": "ipython3",
   "version": "3.11.3"
  },
  "toc": {
   "base_numbering": 1,
   "nav_menu": {},
   "number_sections": true,
   "sideBar": true,
   "skip_h1_title": true,
   "title_cell": "Table of Contents",
   "title_sidebar": "Contents",
   "toc_cell": false,
   "toc_position": {},
   "toc_section_display": true,
   "toc_window_display": false
  }
 },
 "nbformat": 4,
 "nbformat_minor": 5
}
