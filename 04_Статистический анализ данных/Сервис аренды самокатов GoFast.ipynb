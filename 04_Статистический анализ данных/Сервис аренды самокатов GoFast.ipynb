{
 "cells": [
  {
   "cell_type": "markdown",
   "id": "d92338ad",
   "metadata": {},
   "source": [
    "**Сервис аренды самокатов GoFast**"
   ]
  },
  {
   "cell_type": "markdown",
   "id": "9dbe2314",
   "metadata": {},
   "source": [
    "В данном нам проекты мы выполним следущие шаги: загрузим данные, выполним предобработку, исследуем анализ данных и объеденим, посчитаем вырочку и проверим гипотезы."
   ]
  },
  {
   "cell_type": "code",
   "execution_count": 1,
   "id": "72576667",
   "metadata": {},
   "outputs": [],
   "source": [
    "import pandas as pd\n",
    "from scipy import stats as st\n",
    "import matplotlib.pyplot as plt\n",
    "import seaborn as sns\n",
    "import numpy as np"
   ]
  },
  {
   "cell_type": "markdown",
   "id": "c42cbe00",
   "metadata": {},
   "source": [
    "#### Шаг 1. Загрузка данных"
   ]
  },
  {
   "cell_type": "code",
   "execution_count": 2,
   "id": "eff9f206",
   "metadata": {
    "scrolled": true
   },
   "outputs": [
    {
     "data": {
      "text/html": [
       "<div>\n",
       "<style scoped>\n",
       "    .dataframe tbody tr th:only-of-type {\n",
       "        vertical-align: middle;\n",
       "    }\n",
       "\n",
       "    .dataframe tbody tr th {\n",
       "        vertical-align: top;\n",
       "    }\n",
       "\n",
       "    .dataframe thead th {\n",
       "        text-align: right;\n",
       "    }\n",
       "</style>\n",
       "<table border=\"1\" class=\"dataframe\">\n",
       "  <thead>\n",
       "    <tr style=\"text-align: right;\">\n",
       "      <th></th>\n",
       "      <th>user_id</th>\n",
       "      <th>name</th>\n",
       "      <th>age</th>\n",
       "      <th>city</th>\n",
       "      <th>subscription_type</th>\n",
       "    </tr>\n",
       "  </thead>\n",
       "  <tbody>\n",
       "    <tr>\n",
       "      <th>0</th>\n",
       "      <td>1</td>\n",
       "      <td>Кира</td>\n",
       "      <td>22</td>\n",
       "      <td>Тюмень</td>\n",
       "      <td>ultra</td>\n",
       "    </tr>\n",
       "    <tr>\n",
       "      <th>1</th>\n",
       "      <td>2</td>\n",
       "      <td>Станислав</td>\n",
       "      <td>31</td>\n",
       "      <td>Омск</td>\n",
       "      <td>ultra</td>\n",
       "    </tr>\n",
       "    <tr>\n",
       "      <th>2</th>\n",
       "      <td>3</td>\n",
       "      <td>Алексей</td>\n",
       "      <td>20</td>\n",
       "      <td>Москва</td>\n",
       "      <td>ultra</td>\n",
       "    </tr>\n",
       "    <tr>\n",
       "      <th>3</th>\n",
       "      <td>4</td>\n",
       "      <td>Константин</td>\n",
       "      <td>26</td>\n",
       "      <td>Ростов-на-Дону</td>\n",
       "      <td>ultra</td>\n",
       "    </tr>\n",
       "    <tr>\n",
       "      <th>4</th>\n",
       "      <td>5</td>\n",
       "      <td>Адель</td>\n",
       "      <td>28</td>\n",
       "      <td>Омск</td>\n",
       "      <td>ultra</td>\n",
       "    </tr>\n",
       "    <tr>\n",
       "      <th>5</th>\n",
       "      <td>6</td>\n",
       "      <td>Регина</td>\n",
       "      <td>25</td>\n",
       "      <td>Краснодар</td>\n",
       "      <td>ultra</td>\n",
       "    </tr>\n",
       "    <tr>\n",
       "      <th>6</th>\n",
       "      <td>7</td>\n",
       "      <td>Игорь</td>\n",
       "      <td>23</td>\n",
       "      <td>Омск</td>\n",
       "      <td>ultra</td>\n",
       "    </tr>\n",
       "    <tr>\n",
       "      <th>7</th>\n",
       "      <td>8</td>\n",
       "      <td>Юрий</td>\n",
       "      <td>23</td>\n",
       "      <td>Краснодар</td>\n",
       "      <td>ultra</td>\n",
       "    </tr>\n",
       "    <tr>\n",
       "      <th>8</th>\n",
       "      <td>9</td>\n",
       "      <td>Ян</td>\n",
       "      <td>21</td>\n",
       "      <td>Пятигорск</td>\n",
       "      <td>ultra</td>\n",
       "    </tr>\n",
       "    <tr>\n",
       "      <th>9</th>\n",
       "      <td>10</td>\n",
       "      <td>Валерий</td>\n",
       "      <td>18</td>\n",
       "      <td>Екатеринбург</td>\n",
       "      <td>ultra</td>\n",
       "    </tr>\n",
       "  </tbody>\n",
       "</table>\n",
       "</div>"
      ],
      "text/plain": [
       "   user_id        name  age            city subscription_type\n",
       "0        1        Кира   22          Тюмень             ultra\n",
       "1        2   Станислав   31            Омск             ultra\n",
       "2        3     Алексей   20          Москва             ultra\n",
       "3        4  Константин   26  Ростов-на-Дону             ultra\n",
       "4        5       Адель   28            Омск             ultra\n",
       "5        6      Регина   25       Краснодар             ultra\n",
       "6        7       Игорь   23            Омск             ultra\n",
       "7        8        Юрий   23       Краснодар             ultra\n",
       "8        9          Ян   21       Пятигорск             ultra\n",
       "9       10     Валерий   18    Екатеринбург             ultra"
      ]
     },
     "execution_count": 2,
     "metadata": {},
     "output_type": "execute_result"
    }
   ],
   "source": [
    "#Читаем CSV-файлы с данными\n",
    "data = pd.read_csv('https://code.s3.yandex.net/datasets/users_go.csv')\n",
    "#выводим строки\n",
    "data.head(10)"
   ]
  },
  {
   "cell_type": "code",
   "execution_count": 3,
   "id": "64a9776c",
   "metadata": {},
   "outputs": [
    {
     "name": "stdout",
     "output_type": "stream",
     "text": [
      "<class 'pandas.core.frame.DataFrame'>\n",
      "RangeIndex: 1565 entries, 0 to 1564\n",
      "Data columns (total 5 columns):\n",
      " #   Column             Non-Null Count  Dtype \n",
      "---  ------             --------------  ----- \n",
      " 0   user_id            1565 non-null   int64 \n",
      " 1   name               1565 non-null   object\n",
      " 2   age                1565 non-null   int64 \n",
      " 3   city               1565 non-null   object\n",
      " 4   subscription_type  1565 non-null   object\n",
      "dtypes: int64(2), object(3)\n",
      "memory usage: 61.3+ KB\n"
     ]
    }
   ],
   "source": [
    "#смотрим инфу\n",
    "data.info()"
   ]
  },
  {
   "cell_type": "markdown",
   "id": "83357e8e",
   "metadata": {},
   "source": [
    "В загруженном фрейме отсутствуют пропущенные значения. Типы данных соответсвуют содержанию."
   ]
  },
  {
   "cell_type": "code",
   "execution_count": 5,
   "id": "5583c445",
   "metadata": {},
   "outputs": [
    {
     "data": {
      "text/html": [
       "<div>\n",
       "<style scoped>\n",
       "    .dataframe tbody tr th:only-of-type {\n",
       "        vertical-align: middle;\n",
       "    }\n",
       "\n",
       "    .dataframe tbody tr th {\n",
       "        vertical-align: top;\n",
       "    }\n",
       "\n",
       "    .dataframe thead th {\n",
       "        text-align: right;\n",
       "    }\n",
       "</style>\n",
       "<table border=\"1\" class=\"dataframe\">\n",
       "  <thead>\n",
       "    <tr style=\"text-align: right;\">\n",
       "      <th></th>\n",
       "      <th>user_id</th>\n",
       "      <th>distance</th>\n",
       "      <th>duration</th>\n",
       "      <th>date</th>\n",
       "    </tr>\n",
       "  </thead>\n",
       "  <tbody>\n",
       "    <tr>\n",
       "      <th>0</th>\n",
       "      <td>1</td>\n",
       "      <td>4409.919140</td>\n",
       "      <td>25.599769</td>\n",
       "      <td>2021-01-01</td>\n",
       "    </tr>\n",
       "    <tr>\n",
       "      <th>1</th>\n",
       "      <td>1</td>\n",
       "      <td>2617.592153</td>\n",
       "      <td>15.816871</td>\n",
       "      <td>2021-01-18</td>\n",
       "    </tr>\n",
       "    <tr>\n",
       "      <th>2</th>\n",
       "      <td>1</td>\n",
       "      <td>754.159807</td>\n",
       "      <td>6.232113</td>\n",
       "      <td>2021-04-20</td>\n",
       "    </tr>\n",
       "    <tr>\n",
       "      <th>3</th>\n",
       "      <td>1</td>\n",
       "      <td>2694.783254</td>\n",
       "      <td>18.511000</td>\n",
       "      <td>2021-08-11</td>\n",
       "    </tr>\n",
       "    <tr>\n",
       "      <th>4</th>\n",
       "      <td>1</td>\n",
       "      <td>4028.687306</td>\n",
       "      <td>26.265803</td>\n",
       "      <td>2021-08-28</td>\n",
       "    </tr>\n",
       "    <tr>\n",
       "      <th>5</th>\n",
       "      <td>1</td>\n",
       "      <td>2770.890808</td>\n",
       "      <td>16.650138</td>\n",
       "      <td>2021-10-09</td>\n",
       "    </tr>\n",
       "    <tr>\n",
       "      <th>6</th>\n",
       "      <td>1</td>\n",
       "      <td>3039.020292</td>\n",
       "      <td>14.927879</td>\n",
       "      <td>2021-10-19</td>\n",
       "    </tr>\n",
       "    <tr>\n",
       "      <th>7</th>\n",
       "      <td>1</td>\n",
       "      <td>2842.118050</td>\n",
       "      <td>23.117468</td>\n",
       "      <td>2021-11-06</td>\n",
       "    </tr>\n",
       "    <tr>\n",
       "      <th>8</th>\n",
       "      <td>1</td>\n",
       "      <td>3412.690668</td>\n",
       "      <td>15.238072</td>\n",
       "      <td>2021-11-14</td>\n",
       "    </tr>\n",
       "    <tr>\n",
       "      <th>9</th>\n",
       "      <td>1</td>\n",
       "      <td>748.690645</td>\n",
       "      <td>15.041884</td>\n",
       "      <td>2021-11-22</td>\n",
       "    </tr>\n",
       "  </tbody>\n",
       "</table>\n",
       "</div>"
      ],
      "text/plain": [
       "   user_id     distance   duration        date\n",
       "0        1  4409.919140  25.599769  2021-01-01\n",
       "1        1  2617.592153  15.816871  2021-01-18\n",
       "2        1   754.159807   6.232113  2021-04-20\n",
       "3        1  2694.783254  18.511000  2021-08-11\n",
       "4        1  4028.687306  26.265803  2021-08-28\n",
       "5        1  2770.890808  16.650138  2021-10-09\n",
       "6        1  3039.020292  14.927879  2021-10-19\n",
       "7        1  2842.118050  23.117468  2021-11-06\n",
       "8        1  3412.690668  15.238072  2021-11-14\n",
       "9        1   748.690645  15.041884  2021-11-22"
      ]
     },
     "execution_count": 5,
     "metadata": {},
     "output_type": "execute_result"
    }
   ],
   "source": [
    "#Читаем CSV-файлы с данными\n",
    "data_2 = pd.read_csv('https://code.s3.yandex.net/datasets/rides_go.csv')\n",
    "#выводим строки\n",
    "data_2.head(10)"
   ]
  },
  {
   "cell_type": "code",
   "execution_count": 6,
   "id": "3dcf98d6",
   "metadata": {},
   "outputs": [
    {
     "name": "stdout",
     "output_type": "stream",
     "text": [
      "<class 'pandas.core.frame.DataFrame'>\n",
      "RangeIndex: 18068 entries, 0 to 18067\n",
      "Data columns (total 4 columns):\n",
      " #   Column    Non-Null Count  Dtype  \n",
      "---  ------    --------------  -----  \n",
      " 0   user_id   18068 non-null  int64  \n",
      " 1   distance  18068 non-null  float64\n",
      " 2   duration  18068 non-null  float64\n",
      " 3   date      18068 non-null  object \n",
      "dtypes: float64(2), int64(1), object(1)\n",
      "memory usage: 564.8+ KB\n"
     ]
    }
   ],
   "source": [
    "#смотрим инфу\n",
    "data_2.info()"
   ]
  },
  {
   "cell_type": "markdown",
   "id": "f4245c6e",
   "metadata": {},
   "source": [
    "В загруженном фрейме отсутствуют пропущенные значения. \n",
    "Колонка **date** имеет тип *object*. Это не совсем не соответствует содержанию. Тип данных будет изменён позже, в ходе работы над проектом."
   ]
  },
  {
   "cell_type": "code",
   "execution_count": 7,
   "id": "d202603e",
   "metadata": {},
   "outputs": [
    {
     "data": {
      "text/html": [
       "<div>\n",
       "<style scoped>\n",
       "    .dataframe tbody tr th:only-of-type {\n",
       "        vertical-align: middle;\n",
       "    }\n",
       "\n",
       "    .dataframe tbody tr th {\n",
       "        vertical-align: top;\n",
       "    }\n",
       "\n",
       "    .dataframe thead th {\n",
       "        text-align: right;\n",
       "    }\n",
       "</style>\n",
       "<table border=\"1\" class=\"dataframe\">\n",
       "  <thead>\n",
       "    <tr style=\"text-align: right;\">\n",
       "      <th></th>\n",
       "      <th>subscription_type</th>\n",
       "      <th>minute_price</th>\n",
       "      <th>start_ride_price</th>\n",
       "      <th>subscription_fee</th>\n",
       "    </tr>\n",
       "  </thead>\n",
       "  <tbody>\n",
       "    <tr>\n",
       "      <th>0</th>\n",
       "      <td>free</td>\n",
       "      <td>8</td>\n",
       "      <td>50</td>\n",
       "      <td>0</td>\n",
       "    </tr>\n",
       "    <tr>\n",
       "      <th>1</th>\n",
       "      <td>ultra</td>\n",
       "      <td>6</td>\n",
       "      <td>0</td>\n",
       "      <td>199</td>\n",
       "    </tr>\n",
       "  </tbody>\n",
       "</table>\n",
       "</div>"
      ],
      "text/plain": [
       "  subscription_type  minute_price  start_ride_price  subscription_fee\n",
       "0              free             8                50                 0\n",
       "1             ultra             6                 0               199"
      ]
     },
     "execution_count": 7,
     "metadata": {},
     "output_type": "execute_result"
    }
   ],
   "source": [
    "#Читаем CSV-файлы с данными\n",
    "data_3 = pd.read_csv('https://code.s3.yandex.net/datasets/subscriptions_go.csv')\n",
    "#выводим строки\n",
    "data_3.head(10)"
   ]
  },
  {
   "cell_type": "code",
   "execution_count": 8,
   "id": "19600de0",
   "metadata": {},
   "outputs": [
    {
     "name": "stdout",
     "output_type": "stream",
     "text": [
      "<class 'pandas.core.frame.DataFrame'>\n",
      "RangeIndex: 2 entries, 0 to 1\n",
      "Data columns (total 4 columns):\n",
      " #   Column             Non-Null Count  Dtype \n",
      "---  ------             --------------  ----- \n",
      " 0   subscription_type  2 non-null      object\n",
      " 1   minute_price       2 non-null      int64 \n",
      " 2   start_ride_price   2 non-null      int64 \n",
      " 3   subscription_fee   2 non-null      int64 \n",
      "dtypes: int64(3), object(1)\n",
      "memory usage: 196.0+ bytes\n"
     ]
    }
   ],
   "source": [
    "#смотрим инфу\n",
    "data_3.info()"
   ]
  },
  {
   "cell_type": "markdown",
   "id": "ca7cc57f",
   "metadata": {},
   "source": [
    "Совсем мальникий набор данных."
   ]
  },
  {
   "cell_type": "markdown",
   "id": "46ed73a1",
   "metadata": {},
   "source": [
    "**Вывод:**  \n",
    "**data** - В загруженном фрейме отсутствуют пропущенные значения. Типы данных соответсвуют содержанию.\n",
    "**data_2** - В загруженном фрейме отсутствуют пропущенные значения. Колонка date имеет тип object. Это не совсем не соответствует содержанию. Тип данных будет изменён позже, в ходе работы над проектом.\n",
    "**data_3** - Совсем мальникий набор данных."
   ]
  },
  {
   "cell_type": "markdown",
   "id": "e95ebca7",
   "metadata": {},
   "source": [
    "#### Шаг 2. Предобработка данных"
   ]
  },
  {
   "cell_type": "code",
   "execution_count": 9,
   "id": "af6d202c",
   "metadata": {},
   "outputs": [
    {
     "data": {
      "text/plain": [
       "user_id              int64\n",
       "distance           float64\n",
       "duration           float64\n",
       "date        datetime64[ns]\n",
       "dtype: object"
      ]
     },
     "execution_count": 9,
     "metadata": {},
     "output_type": "execute_result"
    }
   ],
   "source": [
    "#преобразуем столбец date в Pandas\n",
    "data_2['date'] = pd.to_datetime(data_2['date'], format='%Y-%m-%d')\n",
    "#проверяем\n",
    "data_2.dtypes"
   ]
  },
  {
   "cell_type": "code",
   "execution_count": 12,
   "id": "8f96b908",
   "metadata": {
    "scrolled": true
   },
   "outputs": [
    {
     "data": {
      "text/html": [
       "<div>\n",
       "<style scoped>\n",
       "    .dataframe tbody tr th:only-of-type {\n",
       "        vertical-align: middle;\n",
       "    }\n",
       "\n",
       "    .dataframe tbody tr th {\n",
       "        vertical-align: top;\n",
       "    }\n",
       "\n",
       "    .dataframe thead th {\n",
       "        text-align: right;\n",
       "    }\n",
       "</style>\n",
       "<table border=\"1\" class=\"dataframe\">\n",
       "  <thead>\n",
       "    <tr style=\"text-align: right;\">\n",
       "      <th></th>\n",
       "      <th>user_id</th>\n",
       "      <th>distance</th>\n",
       "      <th>duration</th>\n",
       "      <th>date</th>\n",
       "      <th>month</th>\n",
       "    </tr>\n",
       "  </thead>\n",
       "  <tbody>\n",
       "    <tr>\n",
       "      <th>0</th>\n",
       "      <td>1</td>\n",
       "      <td>4409.919140</td>\n",
       "      <td>25.599769</td>\n",
       "      <td>2021-01-01</td>\n",
       "      <td>1</td>\n",
       "    </tr>\n",
       "    <tr>\n",
       "      <th>1</th>\n",
       "      <td>1</td>\n",
       "      <td>2617.592153</td>\n",
       "      <td>15.816871</td>\n",
       "      <td>2021-01-18</td>\n",
       "      <td>1</td>\n",
       "    </tr>\n",
       "    <tr>\n",
       "      <th>2</th>\n",
       "      <td>1</td>\n",
       "      <td>754.159807</td>\n",
       "      <td>6.232113</td>\n",
       "      <td>2021-04-20</td>\n",
       "      <td>4</td>\n",
       "    </tr>\n",
       "    <tr>\n",
       "      <th>3</th>\n",
       "      <td>1</td>\n",
       "      <td>2694.783254</td>\n",
       "      <td>18.511000</td>\n",
       "      <td>2021-08-11</td>\n",
       "      <td>8</td>\n",
       "    </tr>\n",
       "    <tr>\n",
       "      <th>4</th>\n",
       "      <td>1</td>\n",
       "      <td>4028.687306</td>\n",
       "      <td>26.265803</td>\n",
       "      <td>2021-08-28</td>\n",
       "      <td>8</td>\n",
       "    </tr>\n",
       "  </tbody>\n",
       "</table>\n",
       "</div>"
      ],
      "text/plain": [
       "   user_id     distance   duration       date  month\n",
       "0        1  4409.919140  25.599769 2021-01-01      1\n",
       "1        1  2617.592153  15.816871 2021-01-18      1\n",
       "2        1   754.159807   6.232113 2021-04-20      4\n",
       "3        1  2694.783254  18.511000 2021-08-11      8\n",
       "4        1  4028.687306  26.265803 2021-08-28      8"
      ]
     },
     "execution_count": 12,
     "metadata": {},
     "output_type": "execute_result"
    }
   ],
   "source": [
    "#добавляем столбец month\n",
    "data_2['month'] = pd.DatetimeIndex(data_2['date']).month\n",
    "data_2.head()"
   ]
  },
  {
   "cell_type": "code",
   "execution_count": 13,
   "id": "b9d9c681",
   "metadata": {},
   "outputs": [
    {
     "data": {
      "text/plain": [
       "user_id              0\n",
       "name                 0\n",
       "age                  0\n",
       "city                 0\n",
       "subscription_type    0\n",
       "dtype: int64"
      ]
     },
     "execution_count": 13,
     "metadata": {},
     "output_type": "execute_result"
    }
   ],
   "source": [
    "#проверяем наличие пропущенных значений \n",
    "data.isna().sum()"
   ]
  },
  {
   "cell_type": "code",
   "execution_count": 14,
   "id": "6ba082b5",
   "metadata": {},
   "outputs": [
    {
     "data": {
      "text/plain": [
       "user_id     0\n",
       "distance    0\n",
       "duration    0\n",
       "date        0\n",
       "month       0\n",
       "dtype: int64"
      ]
     },
     "execution_count": 14,
     "metadata": {},
     "output_type": "execute_result"
    }
   ],
   "source": [
    "data_2.isna().sum()"
   ]
  },
  {
   "cell_type": "code",
   "execution_count": 15,
   "id": "795e0368",
   "metadata": {},
   "outputs": [
    {
     "data": {
      "text/plain": [
       "subscription_type    0\n",
       "minute_price         0\n",
       "start_ride_price     0\n",
       "subscription_fee     0\n",
       "dtype: int64"
      ]
     },
     "execution_count": 15,
     "metadata": {},
     "output_type": "execute_result"
    }
   ],
   "source": [
    "data_3.isna().sum()"
   ]
  },
  {
   "cell_type": "markdown",
   "id": "c2ffced6",
   "metadata": {},
   "source": [
    "Пропусков в данных нет."
   ]
  },
  {
   "cell_type": "code",
   "execution_count": 16,
   "id": "d1d02084",
   "metadata": {},
   "outputs": [
    {
     "data": {
      "text/plain": [
       "31"
      ]
     },
     "execution_count": 16,
     "metadata": {},
     "output_type": "execute_result"
    }
   ],
   "source": [
    "#проверяем дубликаты\n",
    "data.duplicated().sum()"
   ]
  },
  {
   "cell_type": "code",
   "execution_count": 17,
   "id": "1829d1da",
   "metadata": {},
   "outputs": [],
   "source": [
    "#удаляем дубликаты\n",
    "data = data.drop_duplicates()\n"
   ]
  },
  {
   "cell_type": "code",
   "execution_count": 18,
   "id": "f29b1e49",
   "metadata": {},
   "outputs": [
    {
     "data": {
      "text/plain": [
       "0"
      ]
     },
     "execution_count": 18,
     "metadata": {},
     "output_type": "execute_result"
    }
   ],
   "source": [
    "data_2.duplicated().sum()"
   ]
  },
  {
   "cell_type": "code",
   "execution_count": 19,
   "id": "9367a61f",
   "metadata": {
    "scrolled": true
   },
   "outputs": [
    {
     "data": {
      "text/plain": [
       "0"
      ]
     },
     "execution_count": 19,
     "metadata": {},
     "output_type": "execute_result"
    }
   ],
   "source": [
    "data_3.duplicated().sum()"
   ]
  },
  {
   "cell_type": "markdown",
   "id": "ba7360da",
   "metadata": {},
   "source": [
    "**Вывод:** Пропусков в данных нет. Дубликаты удалены."
   ]
  },
  {
   "cell_type": "markdown",
   "id": "212593c7",
   "metadata": {},
   "source": [
    "#### Шаг 3. Исследовательский анализ данных"
   ]
  },
  {
   "cell_type": "markdown",
   "id": "4c1c0056",
   "metadata": {},
   "source": [
    "Изучаем параметры"
   ]
  },
  {
   "cell_type": "code",
   "execution_count": 20,
   "id": "e3a4274c",
   "metadata": {},
   "outputs": [
    {
     "data": {
      "text/html": [
       "<div>\n",
       "<style scoped>\n",
       "    .dataframe tbody tr th:only-of-type {\n",
       "        vertical-align: middle;\n",
       "    }\n",
       "\n",
       "    .dataframe tbody tr th {\n",
       "        vertical-align: top;\n",
       "    }\n",
       "\n",
       "    .dataframe thead th {\n",
       "        text-align: right;\n",
       "    }\n",
       "</style>\n",
       "<table border=\"1\" class=\"dataframe\">\n",
       "  <thead>\n",
       "    <tr style=\"text-align: right;\">\n",
       "      <th></th>\n",
       "      <th>user_id</th>\n",
       "      <th>age</th>\n",
       "    </tr>\n",
       "  </thead>\n",
       "  <tbody>\n",
       "    <tr>\n",
       "      <th>count</th>\n",
       "      <td>1534.000000</td>\n",
       "      <td>1534.000000</td>\n",
       "    </tr>\n",
       "    <tr>\n",
       "      <th>mean</th>\n",
       "      <td>767.500000</td>\n",
       "      <td>24.903520</td>\n",
       "    </tr>\n",
       "    <tr>\n",
       "      <th>std</th>\n",
       "      <td>442.971971</td>\n",
       "      <td>4.572367</td>\n",
       "    </tr>\n",
       "    <tr>\n",
       "      <th>min</th>\n",
       "      <td>1.000000</td>\n",
       "      <td>12.000000</td>\n",
       "    </tr>\n",
       "    <tr>\n",
       "      <th>25%</th>\n",
       "      <td>384.250000</td>\n",
       "      <td>22.000000</td>\n",
       "    </tr>\n",
       "    <tr>\n",
       "      <th>50%</th>\n",
       "      <td>767.500000</td>\n",
       "      <td>25.000000</td>\n",
       "    </tr>\n",
       "    <tr>\n",
       "      <th>75%</th>\n",
       "      <td>1150.750000</td>\n",
       "      <td>28.000000</td>\n",
       "    </tr>\n",
       "    <tr>\n",
       "      <th>max</th>\n",
       "      <td>1534.000000</td>\n",
       "      <td>43.000000</td>\n",
       "    </tr>\n",
       "  </tbody>\n",
       "</table>\n",
       "</div>"
      ],
      "text/plain": [
       "           user_id          age\n",
       "count  1534.000000  1534.000000\n",
       "mean    767.500000    24.903520\n",
       "std     442.971971     4.572367\n",
       "min       1.000000    12.000000\n",
       "25%     384.250000    22.000000\n",
       "50%     767.500000    25.000000\n",
       "75%    1150.750000    28.000000\n",
       "max    1534.000000    43.000000"
      ]
     },
     "execution_count": 20,
     "metadata": {},
     "output_type": "execute_result"
    }
   ],
   "source": [
    "data.describe()"
   ]
  },
  {
   "cell_type": "code",
   "execution_count": 21,
   "id": "1119ee60",
   "metadata": {},
   "outputs": [
    {
     "data": {
      "text/html": [
       "<div>\n",
       "<style scoped>\n",
       "    .dataframe tbody tr th:only-of-type {\n",
       "        vertical-align: middle;\n",
       "    }\n",
       "\n",
       "    .dataframe tbody tr th {\n",
       "        vertical-align: top;\n",
       "    }\n",
       "\n",
       "    .dataframe thead th {\n",
       "        text-align: right;\n",
       "    }\n",
       "</style>\n",
       "<table border=\"1\" class=\"dataframe\">\n",
       "  <thead>\n",
       "    <tr style=\"text-align: right;\">\n",
       "      <th></th>\n",
       "      <th>user_id</th>\n",
       "      <th>distance</th>\n",
       "      <th>duration</th>\n",
       "      <th>month</th>\n",
       "    </tr>\n",
       "  </thead>\n",
       "  <tbody>\n",
       "    <tr>\n",
       "      <th>count</th>\n",
       "      <td>18068.000000</td>\n",
       "      <td>18068.000000</td>\n",
       "      <td>18068.000000</td>\n",
       "      <td>18068.000000</td>\n",
       "    </tr>\n",
       "    <tr>\n",
       "      <th>mean</th>\n",
       "      <td>842.869936</td>\n",
       "      <td>3070.659976</td>\n",
       "      <td>17.805011</td>\n",
       "      <td>6.486772</td>\n",
       "    </tr>\n",
       "    <tr>\n",
       "      <th>std</th>\n",
       "      <td>434.734317</td>\n",
       "      <td>1116.831209</td>\n",
       "      <td>6.091051</td>\n",
       "      <td>3.437410</td>\n",
       "    </tr>\n",
       "    <tr>\n",
       "      <th>min</th>\n",
       "      <td>1.000000</td>\n",
       "      <td>0.855683</td>\n",
       "      <td>0.500000</td>\n",
       "      <td>1.000000</td>\n",
       "    </tr>\n",
       "    <tr>\n",
       "      <th>25%</th>\n",
       "      <td>487.000000</td>\n",
       "      <td>2543.226360</td>\n",
       "      <td>13.597563</td>\n",
       "      <td>4.000000</td>\n",
       "    </tr>\n",
       "    <tr>\n",
       "      <th>50%</th>\n",
       "      <td>889.000000</td>\n",
       "      <td>3133.609994</td>\n",
       "      <td>17.678395</td>\n",
       "      <td>6.000000</td>\n",
       "    </tr>\n",
       "    <tr>\n",
       "      <th>75%</th>\n",
       "      <td>1213.250000</td>\n",
       "      <td>3776.222735</td>\n",
       "      <td>21.724800</td>\n",
       "      <td>9.000000</td>\n",
       "    </tr>\n",
       "    <tr>\n",
       "      <th>max</th>\n",
       "      <td>1534.000000</td>\n",
       "      <td>7211.007745</td>\n",
       "      <td>40.823963</td>\n",
       "      <td>12.000000</td>\n",
       "    </tr>\n",
       "  </tbody>\n",
       "</table>\n",
       "</div>"
      ],
      "text/plain": [
       "            user_id      distance      duration         month\n",
       "count  18068.000000  18068.000000  18068.000000  18068.000000\n",
       "mean     842.869936   3070.659976     17.805011      6.486772\n",
       "std      434.734317   1116.831209      6.091051      3.437410\n",
       "min        1.000000      0.855683      0.500000      1.000000\n",
       "25%      487.000000   2543.226360     13.597563      4.000000\n",
       "50%      889.000000   3133.609994     17.678395      6.000000\n",
       "75%     1213.250000   3776.222735     21.724800      9.000000\n",
       "max     1534.000000   7211.007745     40.823963     12.000000"
      ]
     },
     "execution_count": 21,
     "metadata": {},
     "output_type": "execute_result"
    }
   ],
   "source": [
    "data_2.describe()"
   ]
  },
  {
   "cell_type": "code",
   "execution_count": 22,
   "id": "a5ac52a4",
   "metadata": {},
   "outputs": [
    {
     "data": {
      "text/html": [
       "<div>\n",
       "<style scoped>\n",
       "    .dataframe tbody tr th:only-of-type {\n",
       "        vertical-align: middle;\n",
       "    }\n",
       "\n",
       "    .dataframe tbody tr th {\n",
       "        vertical-align: top;\n",
       "    }\n",
       "\n",
       "    .dataframe thead th {\n",
       "        text-align: right;\n",
       "    }\n",
       "</style>\n",
       "<table border=\"1\" class=\"dataframe\">\n",
       "  <thead>\n",
       "    <tr style=\"text-align: right;\">\n",
       "      <th></th>\n",
       "      <th>minute_price</th>\n",
       "      <th>start_ride_price</th>\n",
       "      <th>subscription_fee</th>\n",
       "    </tr>\n",
       "  </thead>\n",
       "  <tbody>\n",
       "    <tr>\n",
       "      <th>count</th>\n",
       "      <td>2.000000</td>\n",
       "      <td>2.000000</td>\n",
       "      <td>2.000000</td>\n",
       "    </tr>\n",
       "    <tr>\n",
       "      <th>mean</th>\n",
       "      <td>7.000000</td>\n",
       "      <td>25.000000</td>\n",
       "      <td>99.500000</td>\n",
       "    </tr>\n",
       "    <tr>\n",
       "      <th>std</th>\n",
       "      <td>1.414214</td>\n",
       "      <td>35.355339</td>\n",
       "      <td>140.714249</td>\n",
       "    </tr>\n",
       "    <tr>\n",
       "      <th>min</th>\n",
       "      <td>6.000000</td>\n",
       "      <td>0.000000</td>\n",
       "      <td>0.000000</td>\n",
       "    </tr>\n",
       "    <tr>\n",
       "      <th>25%</th>\n",
       "      <td>6.500000</td>\n",
       "      <td>12.500000</td>\n",
       "      <td>49.750000</td>\n",
       "    </tr>\n",
       "    <tr>\n",
       "      <th>50%</th>\n",
       "      <td>7.000000</td>\n",
       "      <td>25.000000</td>\n",
       "      <td>99.500000</td>\n",
       "    </tr>\n",
       "    <tr>\n",
       "      <th>75%</th>\n",
       "      <td>7.500000</td>\n",
       "      <td>37.500000</td>\n",
       "      <td>149.250000</td>\n",
       "    </tr>\n",
       "    <tr>\n",
       "      <th>max</th>\n",
       "      <td>8.000000</td>\n",
       "      <td>50.000000</td>\n",
       "      <td>199.000000</td>\n",
       "    </tr>\n",
       "  </tbody>\n",
       "</table>\n",
       "</div>"
      ],
      "text/plain": [
       "       minute_price  start_ride_price  subscription_fee\n",
       "count      2.000000          2.000000          2.000000\n",
       "mean       7.000000         25.000000         99.500000\n",
       "std        1.414214         35.355339        140.714249\n",
       "min        6.000000          0.000000          0.000000\n",
       "25%        6.500000         12.500000         49.750000\n",
       "50%        7.000000         25.000000         99.500000\n",
       "75%        7.500000         37.500000        149.250000\n",
       "max        8.000000         50.000000        199.000000"
      ]
     },
     "execution_count": 22,
     "metadata": {},
     "output_type": "execute_result"
    }
   ],
   "source": [
    "data_3.describe()"
   ]
  },
  {
   "cell_type": "markdown",
   "id": "fb16c6b2",
   "metadata": {},
   "source": [
    "Опишем и визуализируем общую информацию о пользователях и поездках:"
   ]
  },
  {
   "cell_type": "markdown",
   "id": "22cd00df",
   "metadata": {},
   "source": [
    "Частота встречаемости городов - city"
   ]
  },
  {
   "cell_type": "code",
   "execution_count": 23,
   "id": "3e3dd598",
   "metadata": {},
   "outputs": [
    {
     "data": {
      "image/png": "[encoded data removed]",
      "text/plain": [
       "<Figure size 640x480 with 1 Axes>"
      ]
     },
     "metadata": {},
     "output_type": "display_data"
    }
   ],
   "source": [
    "df_city = data['city'].value_counts().reset_index()\n",
    "df_city.columns = [\"city\", \"cnt\"]\n",
    "df_city.plot.bar(x=\"city\", y=\"cnt\")\n",
    "plt.title('количество городов');\n",
    "plt.xlabel('Названия городов');"
   ]
  },
  {
   "cell_type": "markdown",
   "id": "c6cef309",
   "metadata": {},
   "source": [
    "**Вывод:** Больше всего пользователей самокатов в городе Пятигорск, далее Екатеринбург и 3-е место Ростов на Дону. "
   ]
  },
  {
   "cell_type": "markdown",
   "id": "19961b8e",
   "metadata": {},
   "source": [
    "Соотношение пользователей с подпиской и без подписки - subscription_type"
   ]
  },
  {
   "cell_type": "code",
   "execution_count": 24,
   "id": "cceb8841",
   "metadata": {},
   "outputs": [
    {
     "data": {
      "text/plain": [
       "free     835\n",
       "ultra    699\n",
       "Name: subscription_type, dtype: int64"
      ]
     },
     "execution_count": 24,
     "metadata": {},
     "output_type": "execute_result"
    }
   ],
   "source": [
    "data[\"subscription_type\"].value_counts()"
   ]
  },
  {
   "cell_type": "code",
   "execution_count": 25,
   "id": "657c0520",
   "metadata": {},
   "outputs": [
    {
     "data": {
      "text/plain": [
       "free     0.544329\n",
       "ultra    0.455671\n",
       "Name: subscription_type, dtype: float64"
      ]
     },
     "execution_count": 25,
     "metadata": {},
     "output_type": "execute_result"
    }
   ],
   "source": [
    "data[\"subscription_type\"].value_counts(normalize=True)"
   ]
  },
  {
   "cell_type": "code",
   "execution_count": 26,
   "id": "1f895d41",
   "metadata": {},
   "outputs": [
    {
     "data": {
      "image/png": "[encoded data removed]",
      "text/plain": [
       "<Figure size 640x480 with 1 Axes>"
      ]
     },
     "metadata": {},
     "output_type": "display_data"
    }
   ],
   "source": [
    "data.groupby(by='subscription_type')['subscription_type'].count().plot(kind='pie');"
   ]
  },
  {
   "cell_type": "markdown",
   "id": "23a24f0c",
   "metadata": {},
   "source": [
    "**Вывод:**  \n",
    "Как видим на графике, пользователей без подписки немного больше половины - 54%(835 польз.) против 45%(699 пользователей с подпиской ultra)."
   ]
  },
  {
   "cell_type": "markdown",
   "id": "a8fab172",
   "metadata": {},
   "source": [
    "Возраст пользователей - age"
   ]
  },
  {
   "cell_type": "code",
   "execution_count": 27,
   "id": "78828109",
   "metadata": {
    "scrolled": true
   },
   "outputs": [
    {
     "data": {
      "image/png": "[encoded data removed]",
      "text/plain": [
       "<Figure size 640x480 with 1 Axes>"
      ]
     },
     "metadata": {},
     "output_type": "display_data"
    }
   ],
   "source": [
    "data['age'].hist(bins=30);\n",
    "plt.title('возраст пользователей');"
   ]
  },
  {
   "cell_type": "markdown",
   "id": "302ee5ad",
   "metadata": {},
   "source": [
    "Больше всего пользователей, которые пользуются услугами самокатов, люди 25 лет. Меньше пользователей от 30 лет."
   ]
  },
  {
   "cell_type": "markdown",
   "id": "665cb5cf",
   "metadata": {},
   "source": [
    "Расстояние, которое пользователь преодолел за одну поездку - distance"
   ]
  },
  {
   "cell_type": "code",
   "execution_count": 28,
   "id": "3af9a8eb",
   "metadata": {},
   "outputs": [
    {
     "data": {
      "image/png": "[encoded data removed]",
      "text/plain": [
       "<Figure size 640x480 with 1 Axes>"
      ]
     },
     "metadata": {},
     "output_type": "display_data"
    }
   ],
   "source": [
    "data_2['distance'].hist(bins=30);\n",
    "plt.title('Расстояние');"
   ]
  },
  {
   "cell_type": "markdown",
   "id": "5218ea8a",
   "metadata": {},
   "source": [
    "Расстояние которое пользователь самоката преодалел за одну поездку это 3000 метров."
   ]
  },
  {
   "cell_type": "markdown",
   "id": "7ad0208e",
   "metadata": {},
   "source": [
    "Продолжительность поездок - duration"
   ]
  },
  {
   "cell_type": "code",
   "execution_count": 29,
   "id": "d3a84bf2",
   "metadata": {},
   "outputs": [
    {
     "data": {
      "image/png": "[encoded data removed]",
      "text/plain": [
       "<Figure size 640x480 with 1 Axes>"
      ]
     },
     "metadata": {},
     "output_type": "display_data"
    }
   ],
   "source": [
    "data_2['duration'].hist(bins=30);\n",
    "plt.title('Продолжительность поездки');"
   ]
  },
  {
   "cell_type": "markdown",
   "id": "4be8abcb",
   "metadata": {},
   "source": [
    "Продолжительность поездки в среднем занимает от 15 до 20 минут."
   ]
  },
  {
   "cell_type": "markdown",
   "id": "974428e7",
   "metadata": {},
   "source": [
    "**Вывод:** Больше всего пользовтелей самокатов в городе Пятигорске, Екатеринбурге и Ростове на Дону. Большая часть пользователй в возрасте 25 лет. Не имеющие подписку на приложение. Проезжают за поездку чуть больше 3000 метров. И продолжительность поездки занимает от 15 до 20 минут. "
   ]
  },
  {
   "cell_type": "markdown",
   "id": "1413155e",
   "metadata": {},
   "source": [
    "#### Шаг 4. Объединение данных"
   ]
  },
  {
   "cell_type": "code",
   "execution_count": 30,
   "id": "54046001",
   "metadata": {
    "scrolled": false
   },
   "outputs": [
    {
     "data": {
      "text/html": [
       "<div>\n",
       "<style scoped>\n",
       "    .dataframe tbody tr th:only-of-type {\n",
       "        vertical-align: middle;\n",
       "    }\n",
       "\n",
       "    .dataframe tbody tr th {\n",
       "        vertical-align: top;\n",
       "    }\n",
       "\n",
       "    .dataframe thead th {\n",
       "        text-align: right;\n",
       "    }\n",
       "</style>\n",
       "<table border=\"1\" class=\"dataframe\">\n",
       "  <thead>\n",
       "    <tr style=\"text-align: right;\">\n",
       "      <th></th>\n",
       "      <th>user_id</th>\n",
       "      <th>name</th>\n",
       "      <th>age</th>\n",
       "      <th>city</th>\n",
       "      <th>subscription_type</th>\n",
       "      <th>distance</th>\n",
       "      <th>duration</th>\n",
       "      <th>date</th>\n",
       "      <th>month</th>\n",
       "      <th>minute_price</th>\n",
       "      <th>start_ride_price</th>\n",
       "      <th>subscription_fee</th>\n",
       "    </tr>\n",
       "  </thead>\n",
       "  <tbody>\n",
       "    <tr>\n",
       "      <th>0</th>\n",
       "      <td>1</td>\n",
       "      <td>Кира</td>\n",
       "      <td>22</td>\n",
       "      <td>Тюмень</td>\n",
       "      <td>ultra</td>\n",
       "      <td>4409.919140</td>\n",
       "      <td>25.599769</td>\n",
       "      <td>2021-01-01</td>\n",
       "      <td>1</td>\n",
       "      <td>6</td>\n",
       "      <td>0</td>\n",
       "      <td>199</td>\n",
       "    </tr>\n",
       "    <tr>\n",
       "      <th>1</th>\n",
       "      <td>1</td>\n",
       "      <td>Кира</td>\n",
       "      <td>22</td>\n",
       "      <td>Тюмень</td>\n",
       "      <td>ultra</td>\n",
       "      <td>2617.592153</td>\n",
       "      <td>15.816871</td>\n",
       "      <td>2021-01-18</td>\n",
       "      <td>1</td>\n",
       "      <td>6</td>\n",
       "      <td>0</td>\n",
       "      <td>199</td>\n",
       "    </tr>\n",
       "    <tr>\n",
       "      <th>2</th>\n",
       "      <td>1</td>\n",
       "      <td>Кира</td>\n",
       "      <td>22</td>\n",
       "      <td>Тюмень</td>\n",
       "      <td>ultra</td>\n",
       "      <td>754.159807</td>\n",
       "      <td>6.232113</td>\n",
       "      <td>2021-04-20</td>\n",
       "      <td>4</td>\n",
       "      <td>6</td>\n",
       "      <td>0</td>\n",
       "      <td>199</td>\n",
       "    </tr>\n",
       "    <tr>\n",
       "      <th>3</th>\n",
       "      <td>1</td>\n",
       "      <td>Кира</td>\n",
       "      <td>22</td>\n",
       "      <td>Тюмень</td>\n",
       "      <td>ultra</td>\n",
       "      <td>2694.783254</td>\n",
       "      <td>18.511000</td>\n",
       "      <td>2021-08-11</td>\n",
       "      <td>8</td>\n",
       "      <td>6</td>\n",
       "      <td>0</td>\n",
       "      <td>199</td>\n",
       "    </tr>\n",
       "    <tr>\n",
       "      <th>4</th>\n",
       "      <td>1</td>\n",
       "      <td>Кира</td>\n",
       "      <td>22</td>\n",
       "      <td>Тюмень</td>\n",
       "      <td>ultra</td>\n",
       "      <td>4028.687306</td>\n",
       "      <td>26.265803</td>\n",
       "      <td>2021-08-28</td>\n",
       "      <td>8</td>\n",
       "      <td>6</td>\n",
       "      <td>0</td>\n",
       "      <td>199</td>\n",
       "    </tr>\n",
       "    <tr>\n",
       "      <th>5</th>\n",
       "      <td>1</td>\n",
       "      <td>Кира</td>\n",
       "      <td>22</td>\n",
       "      <td>Тюмень</td>\n",
       "      <td>ultra</td>\n",
       "      <td>2770.890808</td>\n",
       "      <td>16.650138</td>\n",
       "      <td>2021-10-09</td>\n",
       "      <td>10</td>\n",
       "      <td>6</td>\n",
       "      <td>0</td>\n",
       "      <td>199</td>\n",
       "    </tr>\n",
       "    <tr>\n",
       "      <th>6</th>\n",
       "      <td>1</td>\n",
       "      <td>Кира</td>\n",
       "      <td>22</td>\n",
       "      <td>Тюмень</td>\n",
       "      <td>ultra</td>\n",
       "      <td>3039.020292</td>\n",
       "      <td>14.927879</td>\n",
       "      <td>2021-10-19</td>\n",
       "      <td>10</td>\n",
       "      <td>6</td>\n",
       "      <td>0</td>\n",
       "      <td>199</td>\n",
       "    </tr>\n",
       "    <tr>\n",
       "      <th>7</th>\n",
       "      <td>1</td>\n",
       "      <td>Кира</td>\n",
       "      <td>22</td>\n",
       "      <td>Тюмень</td>\n",
       "      <td>ultra</td>\n",
       "      <td>2842.118050</td>\n",
       "      <td>23.117468</td>\n",
       "      <td>2021-11-06</td>\n",
       "      <td>11</td>\n",
       "      <td>6</td>\n",
       "      <td>0</td>\n",
       "      <td>199</td>\n",
       "    </tr>\n",
       "    <tr>\n",
       "      <th>8</th>\n",
       "      <td>1</td>\n",
       "      <td>Кира</td>\n",
       "      <td>22</td>\n",
       "      <td>Тюмень</td>\n",
       "      <td>ultra</td>\n",
       "      <td>3412.690668</td>\n",
       "      <td>15.238072</td>\n",
       "      <td>2021-11-14</td>\n",
       "      <td>11</td>\n",
       "      <td>6</td>\n",
       "      <td>0</td>\n",
       "      <td>199</td>\n",
       "    </tr>\n",
       "    <tr>\n",
       "      <th>9</th>\n",
       "      <td>1</td>\n",
       "      <td>Кира</td>\n",
       "      <td>22</td>\n",
       "      <td>Тюмень</td>\n",
       "      <td>ultra</td>\n",
       "      <td>748.690645</td>\n",
       "      <td>15.041884</td>\n",
       "      <td>2021-11-22</td>\n",
       "      <td>11</td>\n",
       "      <td>6</td>\n",
       "      <td>0</td>\n",
       "      <td>199</td>\n",
       "    </tr>\n",
       "  </tbody>\n",
       "</table>\n",
       "</div>"
      ],
      "text/plain": [
       "   user_id  name  age    city subscription_type     distance   duration  \\\n",
       "0        1  Кира   22  Тюмень             ultra  4409.919140  25.599769   \n",
       "1        1  Кира   22  Тюмень             ultra  2617.592153  15.816871   \n",
       "2        1  Кира   22  Тюмень             ultra   754.159807   6.232113   \n",
       "3        1  Кира   22  Тюмень             ultra  2694.783254  18.511000   \n",
       "4        1  Кира   22  Тюмень             ultra  4028.687306  26.265803   \n",
       "5        1  Кира   22  Тюмень             ultra  2770.890808  16.650138   \n",
       "6        1  Кира   22  Тюмень             ultra  3039.020292  14.927879   \n",
       "7        1  Кира   22  Тюмень             ultra  2842.118050  23.117468   \n",
       "8        1  Кира   22  Тюмень             ultra  3412.690668  15.238072   \n",
       "9        1  Кира   22  Тюмень             ultra   748.690645  15.041884   \n",
       "\n",
       "        date  month  minute_price  start_ride_price  subscription_fee  \n",
       "0 2021-01-01      1             6                 0               199  \n",
       "1 2021-01-18      1             6                 0               199  \n",
       "2 2021-04-20      4             6                 0               199  \n",
       "3 2021-08-11      8             6                 0               199  \n",
       "4 2021-08-28      8             6                 0               199  \n",
       "5 2021-10-09     10             6                 0               199  \n",
       "6 2021-10-19     10             6                 0               199  \n",
       "7 2021-11-06     11             6                 0               199  \n",
       "8 2021-11-14     11             6                 0               199  \n",
       "9 2021-11-22     11             6                 0               199  "
      ]
     },
     "execution_count": 30,
     "metadata": {},
     "output_type": "execute_result"
    }
   ],
   "source": [
    "#объединим данные о пользователях, поездках и подписках в один датафрейм\n",
    "data_stg = pd.merge(data, data_2, on='user_id', how='inner')\n",
    "# + подписка\n",
    "data_result = pd.merge(data_stg, data_3, on='subscription_type', how='inner')\n",
    "data_result.head(10)"
   ]
  },
  {
   "cell_type": "code",
   "execution_count": 31,
   "id": "2bcac238",
   "metadata": {},
   "outputs": [
    {
     "data": {
      "text/plain": [
       "user_id              0\n",
       "name                 0\n",
       "age                  0\n",
       "city                 0\n",
       "subscription_type    0\n",
       "distance             0\n",
       "duration             0\n",
       "date                 0\n",
       "month                0\n",
       "minute_price         0\n",
       "start_ride_price     0\n",
       "subscription_fee     0\n",
       "dtype: int64"
      ]
     },
     "execution_count": 31,
     "metadata": {},
     "output_type": "execute_result"
    }
   ],
   "source": [
    "#проверяем пропуски\n",
    "data_result.isna().sum()"
   ]
  },
  {
   "cell_type": "markdown",
   "id": "1863d59e",
   "metadata": {},
   "source": [
    "Пропусков нет"
   ]
  },
  {
   "cell_type": "code",
   "execution_count": 32,
   "id": "fcf4e9d2",
   "metadata": {},
   "outputs": [],
   "source": [
    "#создаем ещё два датафрейма из датафреймо: c данными о пользователях без подписки и с данными о пользователях с подпиской\n",
    "data_ultra = data_result.query(\"subscription_type == 'ultra'\")\n",
    "data_free = data_result.query(\"subscription_type == 'free'\")"
   ]
  },
  {
   "cell_type": "code",
   "execution_count": 33,
   "id": "ef148cd4",
   "metadata": {},
   "outputs": [
    {
     "data": {
      "text/plain": [
       "(6500, 12)"
      ]
     },
     "execution_count": 33,
     "metadata": {},
     "output_type": "execute_result"
    }
   ],
   "source": [
    "data_ultra.shape"
   ]
  },
  {
   "cell_type": "code",
   "execution_count": 34,
   "id": "b9858e8c",
   "metadata": {},
   "outputs": [
    {
     "data": {
      "text/plain": [
       "(11568, 12)"
      ]
     },
     "execution_count": 34,
     "metadata": {},
     "output_type": "execute_result"
    }
   ],
   "source": [
    "data_free.shape"
   ]
  },
  {
   "cell_type": "code",
   "execution_count": 35,
   "id": "cb3e9bc4",
   "metadata": {
    "scrolled": true
   },
   "outputs": [
    {
     "data": {
      "text/plain": [
       "18068"
      ]
     },
     "execution_count": 35,
     "metadata": {},
     "output_type": "execute_result"
    }
   ],
   "source": [
    "data_free.shape[0] + data_ultra.shape[0]"
   ]
  },
  {
   "cell_type": "code",
   "execution_count": 36,
   "id": "a7d461f1",
   "metadata": {},
   "outputs": [
    {
     "data": {
      "image/png": "[encoded data removed]",
      "text/plain": [
       "<Figure size 1000x500 with 1 Axes>"
      ]
     },
     "metadata": {},
     "output_type": "display_data"
    },
    {
     "data": {
      "image/png": "[encoded data removed]",
      "text/plain": [
       "<Figure size 1000x500 with 1 Axes>"
      ]
     },
     "metadata": {},
     "output_type": "display_data"
    }
   ],
   "source": [
    "#визуализируем информацию о расстоянии и времени поездок для пользователей с платной подпиской\n",
    "data_ultra['distance'].hist(bins=100, figsize = (10,5));\n",
    "plt.title('Расстояние поездок у пользователей с платной подпиской');\n",
    "plt.xlabel('Расстояние, м.');\n",
    "plt.show()\n",
    "data_ultra['duration'].hist(bins=100, figsize = (10,5));\n",
    "plt.title('Продолжительность поездок у пользователей с платной подпиской');\n",
    "plt.xlabel('Время, м.');"
   ]
  },
  {
   "cell_type": "code",
   "execution_count": 37,
   "id": "0ef2d88b",
   "metadata": {},
   "outputs": [
    {
     "data": {
      "image/png": "[encoded data removed]",
      "text/plain": [
       "<Figure size 1000x500 with 1 Axes>"
      ]
     },
     "metadata": {},
     "output_type": "display_data"
    },
    {
     "data": {
      "image/png": "[encoded data removed]",
      "text/plain": [
       "<Figure size 1000x500 with 1 Axes>"
      ]
     },
     "metadata": {},
     "output_type": "display_data"
    }
   ],
   "source": [
    "#визуализируем информацию о расстоянии и времени поездок для пользователей без подписки\n",
    "data_free['distance'].hist(bins=100, figsize = (10,5));\n",
    "plt.title('Расстояние поездок у пользователей без платной подписки');\n",
    "plt.xlabel('Расстояние, м.');\n",
    "plt.show()\n",
    "data_free['duration'].hist(bins=100, figsize = (10,5));\n",
    "plt.title('Продолжительность поездок у пользователей без платной подписки');\n",
    "plt.xlabel('Время, м.');"
   ]
  },
  {
   "cell_type": "code",
   "execution_count": 38,
   "id": "53eefb98",
   "metadata": {},
   "outputs": [
    {
     "data": {
      "text/html": [
       "<div>\n",
       "<style scoped>\n",
       "    .dataframe tbody tr th:only-of-type {\n",
       "        vertical-align: middle;\n",
       "    }\n",
       "\n",
       "    .dataframe tbody tr th {\n",
       "        vertical-align: top;\n",
       "    }\n",
       "\n",
       "    .dataframe thead th {\n",
       "        text-align: right;\n",
       "    }\n",
       "</style>\n",
       "<table border=\"1\" class=\"dataframe\">\n",
       "  <thead>\n",
       "    <tr style=\"text-align: right;\">\n",
       "      <th></th>\n",
       "      <th>user_id</th>\n",
       "      <th>age</th>\n",
       "      <th>distance</th>\n",
       "      <th>duration</th>\n",
       "      <th>month</th>\n",
       "      <th>minute_price</th>\n",
       "      <th>start_ride_price</th>\n",
       "      <th>subscription_fee</th>\n",
       "    </tr>\n",
       "  </thead>\n",
       "  <tbody>\n",
       "    <tr>\n",
       "      <th>count</th>\n",
       "      <td>11568.000000</td>\n",
       "      <td>11568.000000</td>\n",
       "      <td>11568.000000</td>\n",
       "      <td>11568.000000</td>\n",
       "      <td>11568.000000</td>\n",
       "      <td>11568.0</td>\n",
       "      <td>11568.0</td>\n",
       "      <td>11568.0</td>\n",
       "    </tr>\n",
       "    <tr>\n",
       "      <th>mean</th>\n",
       "      <td>1120.527230</td>\n",
       "      <td>24.893326</td>\n",
       "      <td>3045.495282</td>\n",
       "      <td>17.390909</td>\n",
       "      <td>6.522994</td>\n",
       "      <td>8.0</td>\n",
       "      <td>50.0</td>\n",
       "      <td>0.0</td>\n",
       "    </tr>\n",
       "    <tr>\n",
       "      <th>std</th>\n",
       "      <td>241.165628</td>\n",
       "      <td>4.481100</td>\n",
       "      <td>1246.173806</td>\n",
       "      <td>6.326803</td>\n",
       "      <td>3.449770</td>\n",
       "      <td>0.0</td>\n",
       "      <td>0.0</td>\n",
       "      <td>0.0</td>\n",
       "    </tr>\n",
       "    <tr>\n",
       "      <th>min</th>\n",
       "      <td>700.000000</td>\n",
       "      <td>12.000000</td>\n",
       "      <td>0.855683</td>\n",
       "      <td>0.500000</td>\n",
       "      <td>1.000000</td>\n",
       "      <td>8.0</td>\n",
       "      <td>50.0</td>\n",
       "      <td>0.0</td>\n",
       "    </tr>\n",
       "    <tr>\n",
       "      <th>25%</th>\n",
       "      <td>915.000000</td>\n",
       "      <td>22.000000</td>\n",
       "      <td>2366.562689</td>\n",
       "      <td>12.958437</td>\n",
       "      <td>4.000000</td>\n",
       "      <td>8.0</td>\n",
       "      <td>50.0</td>\n",
       "      <td>0.0</td>\n",
       "    </tr>\n",
       "    <tr>\n",
       "      <th>50%</th>\n",
       "      <td>1123.000000</td>\n",
       "      <td>25.000000</td>\n",
       "      <td>3114.648465</td>\n",
       "      <td>17.326890</td>\n",
       "      <td>7.000000</td>\n",
       "      <td>8.0</td>\n",
       "      <td>50.0</td>\n",
       "      <td>0.0</td>\n",
       "    </tr>\n",
       "    <tr>\n",
       "      <th>75%</th>\n",
       "      <td>1328.000000</td>\n",
       "      <td>28.000000</td>\n",
       "      <td>3905.697894</td>\n",
       "      <td>21.594071</td>\n",
       "      <td>9.000000</td>\n",
       "      <td>8.0</td>\n",
       "      <td>50.0</td>\n",
       "      <td>0.0</td>\n",
       "    </tr>\n",
       "    <tr>\n",
       "      <th>max</th>\n",
       "      <td>1534.000000</td>\n",
       "      <td>43.000000</td>\n",
       "      <td>7211.007745</td>\n",
       "      <td>34.948498</td>\n",
       "      <td>12.000000</td>\n",
       "      <td>8.0</td>\n",
       "      <td>50.0</td>\n",
       "      <td>0.0</td>\n",
       "    </tr>\n",
       "  </tbody>\n",
       "</table>\n",
       "</div>"
      ],
      "text/plain": [
       "            user_id           age      distance      duration         month  \\\n",
       "count  11568.000000  11568.000000  11568.000000  11568.000000  11568.000000   \n",
       "mean    1120.527230     24.893326   3045.495282     17.390909      6.522994   \n",
       "std      241.165628      4.481100   1246.173806      6.326803      3.449770   \n",
       "min      700.000000     12.000000      0.855683      0.500000      1.000000   \n",
       "25%      915.000000     22.000000   2366.562689     12.958437      4.000000   \n",
       "50%     1123.000000     25.000000   3114.648465     17.326890      7.000000   \n",
       "75%     1328.000000     28.000000   3905.697894     21.594071      9.000000   \n",
       "max     1534.000000     43.000000   7211.007745     34.948498     12.000000   \n",
       "\n",
       "       minute_price  start_ride_price  subscription_fee  \n",
       "count       11568.0           11568.0           11568.0  \n",
       "mean            8.0              50.0               0.0  \n",
       "std             0.0               0.0               0.0  \n",
       "min             8.0              50.0               0.0  \n",
       "25%             8.0              50.0               0.0  \n",
       "50%             8.0              50.0               0.0  \n",
       "75%             8.0              50.0               0.0  \n",
       "max             8.0              50.0               0.0  "
      ]
     },
     "execution_count": 38,
     "metadata": {},
     "output_type": "execute_result"
    }
   ],
   "source": [
    "data_free.describe()"
   ]
  },
  {
   "cell_type": "code",
   "execution_count": 39,
   "id": "fdc8b34b",
   "metadata": {},
   "outputs": [
    {
     "data": {
      "text/html": [
       "<div>\n",
       "<style scoped>\n",
       "    .dataframe tbody tr th:only-of-type {\n",
       "        vertical-align: middle;\n",
       "    }\n",
       "\n",
       "    .dataframe tbody tr th {\n",
       "        vertical-align: top;\n",
       "    }\n",
       "\n",
       "    .dataframe thead th {\n",
       "        text-align: right;\n",
       "    }\n",
       "</style>\n",
       "<table border=\"1\" class=\"dataframe\">\n",
       "  <thead>\n",
       "    <tr style=\"text-align: right;\">\n",
       "      <th></th>\n",
       "      <th>user_id</th>\n",
       "      <th>age</th>\n",
       "      <th>distance</th>\n",
       "      <th>duration</th>\n",
       "      <th>month</th>\n",
       "      <th>minute_price</th>\n",
       "      <th>start_ride_price</th>\n",
       "      <th>subscription_fee</th>\n",
       "    </tr>\n",
       "  </thead>\n",
       "  <tbody>\n",
       "    <tr>\n",
       "      <th>count</th>\n",
       "      <td>6500.000000</td>\n",
       "      <td>6500.000000</td>\n",
       "      <td>6500.000000</td>\n",
       "      <td>6500.000000</td>\n",
       "      <td>6500.000000</td>\n",
       "      <td>6500.0</td>\n",
       "      <td>6500.0</td>\n",
       "      <td>6500.0</td>\n",
       "    </tr>\n",
       "    <tr>\n",
       "      <th>mean</th>\n",
       "      <td>348.725385</td>\n",
       "      <td>24.892615</td>\n",
       "      <td>3115.445388</td>\n",
       "      <td>18.541985</td>\n",
       "      <td>6.422308</td>\n",
       "      <td>6.0</td>\n",
       "      <td>0.0</td>\n",
       "      <td>199.0</td>\n",
       "    </tr>\n",
       "    <tr>\n",
       "      <th>std</th>\n",
       "      <td>201.099339</td>\n",
       "      <td>4.757208</td>\n",
       "      <td>836.895330</td>\n",
       "      <td>5.572048</td>\n",
       "      <td>3.414616</td>\n",
       "      <td>0.0</td>\n",
       "      <td>0.0</td>\n",
       "      <td>0.0</td>\n",
       "    </tr>\n",
       "    <tr>\n",
       "      <th>min</th>\n",
       "      <td>1.000000</td>\n",
       "      <td>12.000000</td>\n",
       "      <td>244.210438</td>\n",
       "      <td>3.760353</td>\n",
       "      <td>1.000000</td>\n",
       "      <td>6.0</td>\n",
       "      <td>0.0</td>\n",
       "      <td>199.0</td>\n",
       "    </tr>\n",
       "    <tr>\n",
       "      <th>25%</th>\n",
       "      <td>175.000000</td>\n",
       "      <td>22.000000</td>\n",
       "      <td>2785.444017</td>\n",
       "      <td>14.524654</td>\n",
       "      <td>4.000000</td>\n",
       "      <td>6.0</td>\n",
       "      <td>0.0</td>\n",
       "      <td>199.0</td>\n",
       "    </tr>\n",
       "    <tr>\n",
       "      <th>50%</th>\n",
       "      <td>351.000000</td>\n",
       "      <td>25.000000</td>\n",
       "      <td>3148.637229</td>\n",
       "      <td>18.178153</td>\n",
       "      <td>6.000000</td>\n",
       "      <td>6.0</td>\n",
       "      <td>0.0</td>\n",
       "      <td>199.0</td>\n",
       "    </tr>\n",
       "    <tr>\n",
       "      <th>75%</th>\n",
       "      <td>525.000000</td>\n",
       "      <td>28.000000</td>\n",
       "      <td>3560.574425</td>\n",
       "      <td>21.884129</td>\n",
       "      <td>9.000000</td>\n",
       "      <td>6.0</td>\n",
       "      <td>0.0</td>\n",
       "      <td>199.0</td>\n",
       "    </tr>\n",
       "    <tr>\n",
       "      <th>max</th>\n",
       "      <td>699.000000</td>\n",
       "      <td>38.000000</td>\n",
       "      <td>5699.769662</td>\n",
       "      <td>40.823963</td>\n",
       "      <td>12.000000</td>\n",
       "      <td>6.0</td>\n",
       "      <td>0.0</td>\n",
       "      <td>199.0</td>\n",
       "    </tr>\n",
       "  </tbody>\n",
       "</table>\n",
       "</div>"
      ],
      "text/plain": [
       "           user_id          age     distance     duration        month  \\\n",
       "count  6500.000000  6500.000000  6500.000000  6500.000000  6500.000000   \n",
       "mean    348.725385    24.892615  3115.445388    18.541985     6.422308   \n",
       "std     201.099339     4.757208   836.895330     5.572048     3.414616   \n",
       "min       1.000000    12.000000   244.210438     3.760353     1.000000   \n",
       "25%     175.000000    22.000000  2785.444017    14.524654     4.000000   \n",
       "50%     351.000000    25.000000  3148.637229    18.178153     6.000000   \n",
       "75%     525.000000    28.000000  3560.574425    21.884129     9.000000   \n",
       "max     699.000000    38.000000  5699.769662    40.823963    12.000000   \n",
       "\n",
       "       minute_price  start_ride_price  subscription_fee  \n",
       "count        6500.0            6500.0            6500.0  \n",
       "mean            6.0               0.0             199.0  \n",
       "std             0.0               0.0               0.0  \n",
       "min             6.0               0.0             199.0  \n",
       "25%             6.0               0.0             199.0  \n",
       "50%             6.0               0.0             199.0  \n",
       "75%             6.0               0.0             199.0  \n",
       "max             6.0               0.0             199.0  "
      ]
     },
     "execution_count": 39,
     "metadata": {},
     "output_type": "execute_result"
    }
   ],
   "source": [
    "data_ultra.describe()"
   ]
  },
  {
   "cell_type": "markdown",
   "id": "ca03e47e",
   "metadata": {},
   "source": [
    "**Вывод:** Объединила данные о пользователях, поездках и подписках в один датафрейм. Создала ещё два датафрейма: c данными о пользователях без подписки и с данными о пользователях с подпиской.\n",
    "Построила графики информации о расстоянии и времени поездок для пользователей обеих категорий.\n",
    "\n",
    "Средний возраст пользователей с подпиской и без примерно одинаковый - около 25 лет. Дистанции проехали тоже примерно одинаково 3045 и 3115 метров. Продолжительность сессии похожа 17 и 18 минут."
   ]
  },
  {
   "cell_type": "markdown",
   "id": "402d620f",
   "metadata": {},
   "source": [
    "#### Шаг 5. Подсчёт выручки"
   ]
  },
  {
   "cell_type": "code",
   "execution_count": 40,
   "id": "c0d8be33",
   "metadata": {
    "scrolled": true
   },
   "outputs": [],
   "source": [
    "# Округление перед расчётами\n",
    "data_result['duration'] = np.ceil(data_result['duration'])"
   ]
  },
  {
   "cell_type": "code",
   "execution_count": 41,
   "id": "53049e0a",
   "metadata": {
    "scrolled": false
   },
   "outputs": [
    {
     "data": {
      "text/html": [
       "<div>\n",
       "<style scoped>\n",
       "    .dataframe tbody tr th:only-of-type {\n",
       "        vertical-align: middle;\n",
       "    }\n",
       "\n",
       "    .dataframe tbody tr th {\n",
       "        vertical-align: top;\n",
       "    }\n",
       "\n",
       "    .dataframe thead th {\n",
       "        text-align: right;\n",
       "    }\n",
       "</style>\n",
       "<table border=\"1\" class=\"dataframe\">\n",
       "  <thead>\n",
       "    <tr style=\"text-align: right;\">\n",
       "      <th></th>\n",
       "      <th></th>\n",
       "      <th>total_distance</th>\n",
       "      <th>total_duration</th>\n",
       "      <th>trip_count</th>\n",
       "      <th>subscription_type</th>\n",
       "    </tr>\n",
       "    <tr>\n",
       "      <th>user_id</th>\n",
       "      <th>month</th>\n",
       "      <th></th>\n",
       "      <th></th>\n",
       "      <th></th>\n",
       "      <th></th>\n",
       "    </tr>\n",
       "  </thead>\n",
       "  <tbody>\n",
       "    <tr>\n",
       "      <th rowspan=\"6\" valign=\"top\">1</th>\n",
       "      <th>1</th>\n",
       "      <td>7027.511294</td>\n",
       "      <td>42.0</td>\n",
       "      <td>2</td>\n",
       "      <td>ultra</td>\n",
       "    </tr>\n",
       "    <tr>\n",
       "      <th>4</th>\n",
       "      <td>754.159807</td>\n",
       "      <td>7.0</td>\n",
       "      <td>1</td>\n",
       "      <td>ultra</td>\n",
       "    </tr>\n",
       "    <tr>\n",
       "      <th>8</th>\n",
       "      <td>6723.470560</td>\n",
       "      <td>46.0</td>\n",
       "      <td>2</td>\n",
       "      <td>ultra</td>\n",
       "    </tr>\n",
       "    <tr>\n",
       "      <th>10</th>\n",
       "      <td>5809.911100</td>\n",
       "      <td>32.0</td>\n",
       "      <td>2</td>\n",
       "      <td>ultra</td>\n",
       "    </tr>\n",
       "    <tr>\n",
       "      <th>11</th>\n",
       "      <td>7003.499363</td>\n",
       "      <td>56.0</td>\n",
       "      <td>3</td>\n",
       "      <td>ultra</td>\n",
       "    </tr>\n",
       "    <tr>\n",
       "      <th>12</th>\n",
       "      <td>6751.629942</td>\n",
       "      <td>28.0</td>\n",
       "      <td>2</td>\n",
       "      <td>ultra</td>\n",
       "    </tr>\n",
       "    <tr>\n",
       "      <th rowspan=\"7\" valign=\"top\">2</th>\n",
       "      <th>3</th>\n",
       "      <td>10187.723006</td>\n",
       "      <td>63.0</td>\n",
       "      <td>3</td>\n",
       "      <td>ultra</td>\n",
       "    </tr>\n",
       "    <tr>\n",
       "      <th>4</th>\n",
       "      <td>6164.381824</td>\n",
       "      <td>40.0</td>\n",
       "      <td>2</td>\n",
       "      <td>ultra</td>\n",
       "    </tr>\n",
       "    <tr>\n",
       "      <th>6</th>\n",
       "      <td>3255.338202</td>\n",
       "      <td>14.0</td>\n",
       "      <td>1</td>\n",
       "      <td>ultra</td>\n",
       "    </tr>\n",
       "    <tr>\n",
       "      <th>7</th>\n",
       "      <td>6780.722964</td>\n",
       "      <td>48.0</td>\n",
       "      <td>2</td>\n",
       "      <td>ultra</td>\n",
       "    </tr>\n",
       "    <tr>\n",
       "      <th>8</th>\n",
       "      <td>923.007439</td>\n",
       "      <td>7.0</td>\n",
       "      <td>1</td>\n",
       "      <td>ultra</td>\n",
       "    </tr>\n",
       "    <tr>\n",
       "      <th>10</th>\n",
       "      <td>2824.636598</td>\n",
       "      <td>19.0</td>\n",
       "      <td>1</td>\n",
       "      <td>ultra</td>\n",
       "    </tr>\n",
       "    <tr>\n",
       "      <th>12</th>\n",
       "      <td>3828.248580</td>\n",
       "      <td>12.0</td>\n",
       "      <td>1</td>\n",
       "      <td>ultra</td>\n",
       "    </tr>\n",
       "    <tr>\n",
       "      <th rowspan=\"7\" valign=\"top\">3</th>\n",
       "      <th>1</th>\n",
       "      <td>3061.777147</td>\n",
       "      <td>13.0</td>\n",
       "      <td>1</td>\n",
       "      <td>ultra</td>\n",
       "    </tr>\n",
       "    <tr>\n",
       "      <th>2</th>\n",
       "      <td>5421.152016</td>\n",
       "      <td>39.0</td>\n",
       "      <td>2</td>\n",
       "      <td>ultra</td>\n",
       "    </tr>\n",
       "    <tr>\n",
       "      <th>4</th>\n",
       "      <td>2956.651632</td>\n",
       "      <td>21.0</td>\n",
       "      <td>1</td>\n",
       "      <td>ultra</td>\n",
       "    </tr>\n",
       "    <tr>\n",
       "      <th>5</th>\n",
       "      <td>9064.026918</td>\n",
       "      <td>63.0</td>\n",
       "      <td>3</td>\n",
       "      <td>ultra</td>\n",
       "    </tr>\n",
       "    <tr>\n",
       "      <th>7</th>\n",
       "      <td>10919.595403</td>\n",
       "      <td>67.0</td>\n",
       "      <td>3</td>\n",
       "      <td>ultra</td>\n",
       "    </tr>\n",
       "    <tr>\n",
       "      <th>9</th>\n",
       "      <td>2891.012822</td>\n",
       "      <td>23.0</td>\n",
       "      <td>1</td>\n",
       "      <td>ultra</td>\n",
       "    </tr>\n",
       "    <tr>\n",
       "      <th>12</th>\n",
       "      <td>2593.381928</td>\n",
       "      <td>13.0</td>\n",
       "      <td>1</td>\n",
       "      <td>ultra</td>\n",
       "    </tr>\n",
       "    <tr>\n",
       "      <th rowspan=\"6\" valign=\"top\">4</th>\n",
       "      <th>2</th>\n",
       "      <td>6339.696747</td>\n",
       "      <td>49.0</td>\n",
       "      <td>2</td>\n",
       "      <td>ultra</td>\n",
       "    </tr>\n",
       "    <tr>\n",
       "      <th>6</th>\n",
       "      <td>6753.041806</td>\n",
       "      <td>45.0</td>\n",
       "      <td>2</td>\n",
       "      <td>ultra</td>\n",
       "    </tr>\n",
       "    <tr>\n",
       "      <th>7</th>\n",
       "      <td>10491.175555</td>\n",
       "      <td>56.0</td>\n",
       "      <td>3</td>\n",
       "      <td>ultra</td>\n",
       "    </tr>\n",
       "    <tr>\n",
       "      <th>8</th>\n",
       "      <td>4649.488243</td>\n",
       "      <td>36.0</td>\n",
       "      <td>1</td>\n",
       "      <td>ultra</td>\n",
       "    </tr>\n",
       "    <tr>\n",
       "      <th>10</th>\n",
       "      <td>13260.762274</td>\n",
       "      <td>79.0</td>\n",
       "      <td>4</td>\n",
       "      <td>ultra</td>\n",
       "    </tr>\n",
       "    <tr>\n",
       "      <th>11</th>\n",
       "      <td>3343.025291</td>\n",
       "      <td>28.0</td>\n",
       "      <td>2</td>\n",
       "      <td>ultra</td>\n",
       "    </tr>\n",
       "    <tr>\n",
       "      <th rowspan=\"4\" valign=\"top\">5</th>\n",
       "      <th>1</th>\n",
       "      <td>3914.646990</td>\n",
       "      <td>13.0</td>\n",
       "      <td>1</td>\n",
       "      <td>ultra</td>\n",
       "    </tr>\n",
       "    <tr>\n",
       "      <th>2</th>\n",
       "      <td>2561.108241</td>\n",
       "      <td>12.0</td>\n",
       "      <td>1</td>\n",
       "      <td>ultra</td>\n",
       "    </tr>\n",
       "    <tr>\n",
       "      <th>3</th>\n",
       "      <td>10633.732186</td>\n",
       "      <td>57.0</td>\n",
       "      <td>3</td>\n",
       "      <td>ultra</td>\n",
       "    </tr>\n",
       "    <tr>\n",
       "      <th>4</th>\n",
       "      <td>3373.080412</td>\n",
       "      <td>15.0</td>\n",
       "      <td>1</td>\n",
       "      <td>ultra</td>\n",
       "    </tr>\n",
       "  </tbody>\n",
       "</table>\n",
       "</div>"
      ],
      "text/plain": [
       "               total_distance  total_duration  trip_count subscription_type\n",
       "user_id month                                                              \n",
       "1       1         7027.511294            42.0           2             ultra\n",
       "        4          754.159807             7.0           1             ultra\n",
       "        8         6723.470560            46.0           2             ultra\n",
       "        10        5809.911100            32.0           2             ultra\n",
       "        11        7003.499363            56.0           3             ultra\n",
       "        12        6751.629942            28.0           2             ultra\n",
       "2       3        10187.723006            63.0           3             ultra\n",
       "        4         6164.381824            40.0           2             ultra\n",
       "        6         3255.338202            14.0           1             ultra\n",
       "        7         6780.722964            48.0           2             ultra\n",
       "        8          923.007439             7.0           1             ultra\n",
       "        10        2824.636598            19.0           1             ultra\n",
       "        12        3828.248580            12.0           1             ultra\n",
       "3       1         3061.777147            13.0           1             ultra\n",
       "        2         5421.152016            39.0           2             ultra\n",
       "        4         2956.651632            21.0           1             ultra\n",
       "        5         9064.026918            63.0           3             ultra\n",
       "        7        10919.595403            67.0           3             ultra\n",
       "        9         2891.012822            23.0           1             ultra\n",
       "        12        2593.381928            13.0           1             ultra\n",
       "4       2         6339.696747            49.0           2             ultra\n",
       "        6         6753.041806            45.0           2             ultra\n",
       "        7        10491.175555            56.0           3             ultra\n",
       "        8         4649.488243            36.0           1             ultra\n",
       "        10       13260.762274            79.0           4             ultra\n",
       "        11        3343.025291            28.0           2             ultra\n",
       "5       1         3914.646990            13.0           1             ultra\n",
       "        2         2561.108241            12.0           1             ultra\n",
       "        3        10633.732186            57.0           3             ultra\n",
       "        4         3373.080412            15.0           1             ultra"
      ]
     },
     "execution_count": 41,
     "metadata": {},
     "output_type": "execute_result"
    }
   ],
   "source": [
    "#С помощью сводной таблицы создаем датафрейм с данными о поездках на основе датафрейма с объединёнными данными\n",
    "data_pod = data_result.pivot_table(index=['user_id', 'month'], values = ['distance', 'duration', 'name', 'subscription_type'], aggfunc={'distance':'sum', 'duration':'sum', 'name':'count', 'subscription_type': 'min'})\n",
    "#переименуем столбцы\n",
    "data_pod.columns = ['total_distance', 'total_duration', 'trip_count', 'subscription_type']\n",
    "data_pod.head(30)\n",
    "#data_pod.reset_index(inplace=True)"
   ]
  },
  {
   "cell_type": "code",
   "execution_count": 43,
   "id": "ee99de21",
   "metadata": {},
   "outputs": [
    {
     "data": {
      "text/plain": [
       "free     6798\n",
       "ultra    4533\n",
       "Name: subscription_type, dtype: int64"
      ]
     },
     "execution_count": 43,
     "metadata": {},
     "output_type": "execute_result"
    }
   ],
   "source": [
    "# Помесячная выручка считается по формуле:\n",
    "#     (стоимость старта поездки × количество поездок) + \n",
    "#     (стоимость одной минуты поездки × общая продолжительность всех поездок в минутах) +\n",
    "#     (стоимость подписки)\n",
    "# ---------------------------\n",
    "# (50 * trip_count) +\n",
    "# (6 или 8 * total_duration) +\n",
    "# 199\n",
    "data_pod[\"subscription_type\"].value_counts()"
   ]
  },
  {
   "cell_type": "code",
   "execution_count": 44,
   "id": "729546b0",
   "metadata": {},
   "outputs": [],
   "source": [
    "# 1 - Помесячная выручка для тех у кого есть подписка\n",
    "data_pod.loc[data_pod[\"subscription_type\"] == 'ultra', \"revenue\"] = (6 * data_pod[\"total_duration\"]) + 199"
   ]
  },
  {
   "cell_type": "code",
   "execution_count": 45,
   "id": "ae28273d",
   "metadata": {},
   "outputs": [],
   "source": [
    "# 2 - Помесячная выручка для тех у кого НЕТ подписки\n",
    "data_pod.loc[data_pod[\"subscription_type\"] == 'free', \"revenue\"] =  (50 * data_pod[\"trip_count\"]) + (8 * data_pod[\"total_duration\"])"
   ]
  },
  {
   "cell_type": "code",
   "execution_count": 46,
   "id": "c168df79",
   "metadata": {
    "scrolled": false
   },
   "outputs": [
    {
     "data": {
      "text/html": [
       "<div>\n",
       "<style scoped>\n",
       "    .dataframe tbody tr th:only-of-type {\n",
       "        vertical-align: middle;\n",
       "    }\n",
       "\n",
       "    .dataframe tbody tr th {\n",
       "        vertical-align: top;\n",
       "    }\n",
       "\n",
       "    .dataframe thead th {\n",
       "        text-align: right;\n",
       "    }\n",
       "</style>\n",
       "<table border=\"1\" class=\"dataframe\">\n",
       "  <thead>\n",
       "    <tr style=\"text-align: right;\">\n",
       "      <th></th>\n",
       "      <th></th>\n",
       "      <th>total_distance</th>\n",
       "      <th>total_duration</th>\n",
       "      <th>trip_count</th>\n",
       "      <th>subscription_type</th>\n",
       "      <th>revenue</th>\n",
       "    </tr>\n",
       "    <tr>\n",
       "      <th>user_id</th>\n",
       "      <th>month</th>\n",
       "      <th></th>\n",
       "      <th></th>\n",
       "      <th></th>\n",
       "      <th></th>\n",
       "      <th></th>\n",
       "    </tr>\n",
       "  </thead>\n",
       "  <tbody>\n",
       "    <tr>\n",
       "      <th rowspan=\"5\" valign=\"top\">1</th>\n",
       "      <th>1</th>\n",
       "      <td>7027.511294</td>\n",
       "      <td>42.0</td>\n",
       "      <td>2</td>\n",
       "      <td>ultra</td>\n",
       "      <td>451.0</td>\n",
       "    </tr>\n",
       "    <tr>\n",
       "      <th>4</th>\n",
       "      <td>754.159807</td>\n",
       "      <td>7.0</td>\n",
       "      <td>1</td>\n",
       "      <td>ultra</td>\n",
       "      <td>241.0</td>\n",
       "    </tr>\n",
       "    <tr>\n",
       "      <th>8</th>\n",
       "      <td>6723.470560</td>\n",
       "      <td>46.0</td>\n",
       "      <td>2</td>\n",
       "      <td>ultra</td>\n",
       "      <td>475.0</td>\n",
       "    </tr>\n",
       "    <tr>\n",
       "      <th>10</th>\n",
       "      <td>5809.911100</td>\n",
       "      <td>32.0</td>\n",
       "      <td>2</td>\n",
       "      <td>ultra</td>\n",
       "      <td>391.0</td>\n",
       "    </tr>\n",
       "    <tr>\n",
       "      <th>11</th>\n",
       "      <td>7003.499363</td>\n",
       "      <td>56.0</td>\n",
       "      <td>3</td>\n",
       "      <td>ultra</td>\n",
       "      <td>535.0</td>\n",
       "    </tr>\n",
       "    <tr>\n",
       "      <th>...</th>\n",
       "      <th>...</th>\n",
       "      <td>...</td>\n",
       "      <td>...</td>\n",
       "      <td>...</td>\n",
       "      <td>...</td>\n",
       "      <td>...</td>\n",
       "    </tr>\n",
       "    <tr>\n",
       "      <th rowspan=\"5\" valign=\"top\">1534</th>\n",
       "      <th>6</th>\n",
       "      <td>3409.468534</td>\n",
       "      <td>26.0</td>\n",
       "      <td>2</td>\n",
       "      <td>free</td>\n",
       "      <td>308.0</td>\n",
       "    </tr>\n",
       "    <tr>\n",
       "      <th>8</th>\n",
       "      <td>7622.453034</td>\n",
       "      <td>48.0</td>\n",
       "      <td>2</td>\n",
       "      <td>free</td>\n",
       "      <td>484.0</td>\n",
       "    </tr>\n",
       "    <tr>\n",
       "      <th>9</th>\n",
       "      <td>4928.173852</td>\n",
       "      <td>23.0</td>\n",
       "      <td>1</td>\n",
       "      <td>free</td>\n",
       "      <td>234.0</td>\n",
       "    </tr>\n",
       "    <tr>\n",
       "      <th>11</th>\n",
       "      <td>13350.015305</td>\n",
       "      <td>78.0</td>\n",
       "      <td>4</td>\n",
       "      <td>free</td>\n",
       "      <td>824.0</td>\n",
       "    </tr>\n",
       "    <tr>\n",
       "      <th>12</th>\n",
       "      <td>2371.711192</td>\n",
       "      <td>16.0</td>\n",
       "      <td>1</td>\n",
       "      <td>free</td>\n",
       "      <td>178.0</td>\n",
       "    </tr>\n",
       "  </tbody>\n",
       "</table>\n",
       "<p>11331 rows × 5 columns</p>\n",
       "</div>"
      ],
      "text/plain": [
       "               total_distance  total_duration  trip_count subscription_type  \\\n",
       "user_id month                                                                 \n",
       "1       1         7027.511294            42.0           2             ultra   \n",
       "        4          754.159807             7.0           1             ultra   \n",
       "        8         6723.470560            46.0           2             ultra   \n",
       "        10        5809.911100            32.0           2             ultra   \n",
       "        11        7003.499363            56.0           3             ultra   \n",
       "...                       ...             ...         ...               ...   \n",
       "1534    6         3409.468534            26.0           2              free   \n",
       "        8         7622.453034            48.0           2              free   \n",
       "        9         4928.173852            23.0           1              free   \n",
       "        11       13350.015305            78.0           4              free   \n",
       "        12        2371.711192            16.0           1              free   \n",
       "\n",
       "               revenue  \n",
       "user_id month           \n",
       "1       1        451.0  \n",
       "        4        241.0  \n",
       "        8        475.0  \n",
       "        10       391.0  \n",
       "        11       535.0  \n",
       "...                ...  \n",
       "1534    6        308.0  \n",
       "        8        484.0  \n",
       "        9        234.0  \n",
       "        11       824.0  \n",
       "        12       178.0  \n",
       "\n",
       "[11331 rows x 5 columns]"
      ]
     },
     "execution_count": 46,
     "metadata": {},
     "output_type": "execute_result"
    }
   ],
   "source": [
    "data_pod"
   ]
  },
  {
   "cell_type": "markdown",
   "id": "98aacef0",
   "metadata": {},
   "source": [
    "**Вывод:** Нашла суммарное расстояние, количество поездок и суммарное время для каждого пользователя за каждый месяц. В этот же датафрейм добавила новый столбец с помесячной вырочкой для клиентов с подпиской и без. "
   ]
  },
  {
   "cell_type": "markdown",
   "id": "41545ac0",
   "metadata": {},
   "source": [
    "#### Шаг 6. Проверка гипотез"
   ]
  },
  {
   "cell_type": "markdown",
   "id": "a73b172f",
   "metadata": {},
   "source": [
    "6.1 \n",
    "Сформируем нулевую гипотезу - потраченное время пользователей с подпиской и пользователей без подписки равно.\n",
    "\n",
    "Альтернативная гипотеза - потраченное время пользователей с подпиской больше чем, у пользователей без подписки.\n",
    "\n",
    "Для проверки гипотезы используем scipy.stats.ttest_ind, так как имеем две независимые генеральные совокупности."
   ]
  },
  {
   "cell_type": "code",
   "execution_count": 47,
   "id": "4b16109a",
   "metadata": {},
   "outputs": [
    {
     "name": "stdout",
     "output_type": "stream",
     "text": [
      "p-значение: 1.2804098316645618e-34\n",
      "Отвергаем нулевую гипотезу.\n"
     ]
    }
   ],
   "source": [
    "alpha = 0.05\n",
    " \n",
    "results = st.ttest_ind(data_ultra['duration'], data_free['duration'], alternative = 'greater')\n",
    "print('p-значение:', results.pvalue)\n",
    "if results.pvalue < alpha:\n",
    "    print('Отвергаем нулевую гипотезу.')\n",
    "else:\n",
    "    print('Не можем отвергнуть нулевую гипотезу.')"
   ]
  },
  {
   "cell_type": "markdown",
   "id": "14c6862a",
   "metadata": {},
   "source": [
    "**Вывод:** Средняя продолжительность аренды у пользователей с подпиской: 18.54 минут, а у пользователей без подписки 17.39 минут. В среднем пользователи с подпиской арендуют самокат на 1.15 минут больше, чем пользователи без подписки."
   ]
  },
  {
   "cell_type": "markdown",
   "id": "e31bd39b",
   "metadata": {},
   "source": [
    "6.2\n",
    "Сформируем нулевую гипотезу - пользователи с подпиской проезжают за одну поездку не больше 3130 метров.\n",
    "\n",
    "Альтернативная гипотеза - пользователи с подпиской проезжают за одну поездку больше 3130 метров.\n",
    "\n",
    "Для проверки гипотезы используем  st.ttest_1samp, так как нужно расчитать p-value одной выборки и сравнить его с ожидаемым значением."
   ]
  },
  {
   "cell_type": "code",
   "execution_count": 48,
   "id": "64afdc68",
   "metadata": {},
   "outputs": [
    {
     "name": "stdout",
     "output_type": "stream",
     "text": [
      "p-значение: 0.0\n",
      "Не отвергаем нулевую гипотезу\n"
     ]
    }
   ],
   "source": [
    "optimal = 3130\n",
    "alfa = 0.05\n",
    "\n",
    "results = st.ttest_1samp(\n",
    "    data_ultra['duration'], \n",
    "    optimal,\n",
    "      alternative='less')\n",
    "\n",
    "print('p-значение:', results.pvalue)\n",
    "\n",
    "if (results.pvalue > alpha):\n",
    "    print('Отвергаем нулевую гипотезу')\n",
    "else:\n",
    "    print('Не отвергаем нулевую гипотезу') "
   ]
  },
  {
   "cell_type": "markdown",
   "id": "2d415ba2",
   "metadata": {},
   "source": [
    "**Вывод:** В среднем пользователи с подпиской проезжают 3115.45 метров"
   ]
  },
  {
   "cell_type": "markdown",
   "id": "67c7d1e0",
   "metadata": {},
   "source": [
    "6.3\n",
    "Сформируем нулевую гипотезу - средняя выручка пользователей с подпиской и пользователей без подписки равна.\n",
    "\n",
    "Альтернативная гипотеза - средняя выручка пользователей с подпиской выше, чем у пользователей без подписки.\n",
    "\n",
    "Для проверки гипотезы используем scipy.stats.ttest_ind, так как имеем две независимые генеральные совокупности."
   ]
  },
  {
   "cell_type": "code",
   "execution_count": 49,
   "id": "924a99d6",
   "metadata": {
    "scrolled": false
   },
   "outputs": [
    {
     "name": "stdout",
     "output_type": "stream",
     "text": [
      "p-значение: 1.8850394384715216e-31\n",
      "Отвергаем нулевую гипотезу.\n"
     ]
    }
   ],
   "source": [
    "alfa = 0.05\n",
    "\n",
    "results = st.ttest_ind(data_pod.loc[data_pod[\"subscription_type\"] == 'ultra']['revenue'], data_pod.loc[data_pod[\"subscription_type\"] == 'free']['revenue'], alternative = 'greater')\n",
    "\n",
    "print('p-значение:', results.pvalue)\n",
    "\n",
    "if results.pvalue < alpha:\n",
    "    print('Отвергаем нулевую гипотезу.')\n",
    "else:\n",
    "    print('Не можем отвергнуть нулевую гипотезу.')"
   ]
  },
  {
   "cell_type": "markdown",
   "id": "9969e569",
   "metadata": {},
   "source": [
    "**Вывод:** В среднем в месяц пользователи с подпиской тратят на аренду самокатов 362.79 руб , а пользователи без подписки 328.64 руб\n",
    "В среднем пользователи с подпиской приносят компании на 34.15 руб больше, чем пользователи без платной подписки"
   ]
  },
  {
   "cell_type": "code",
   "execution_count": 50,
   "id": "b8ffc350",
   "metadata": {},
   "outputs": [
    {
     "data": {
      "text/plain": [
       "count    4533.000000\n",
       "mean      362.792191\n",
       "std        88.262737\n",
       "min       223.000000\n",
       "25%       301.000000\n",
       "50%       337.000000\n",
       "75%       409.000000\n",
       "max       955.000000\n",
       "Name: revenue, dtype: float64"
      ]
     },
     "execution_count": 50,
     "metadata": {},
     "output_type": "execute_result"
    }
   ],
   "source": [
    "data_pod.loc[data_pod[\"subscription_type\"] == 'ultra']['revenue'].describe()"
   ]
  },
  {
   "cell_type": "code",
   "execution_count": 51,
   "id": "b44d64e0",
   "metadata": {},
   "outputs": [
    {
     "data": {
      "text/plain": [
       "count    6798.000000\n",
       "mean      328.641365\n",
       "std       183.868330\n",
       "min        58.000000\n",
       "25%       194.000000\n",
       "50%       274.000000\n",
       "75%       428.000000\n",
       "max      1444.000000\n",
       "Name: revenue, dtype: float64"
      ]
     },
     "execution_count": 51,
     "metadata": {},
     "output_type": "execute_result"
    }
   ],
   "source": [
    "data_pod.loc[data_pod[\"subscription_type\"] == 'free']['revenue'].describe()"
   ]
  },
  {
   "cell_type": "markdown",
   "id": "43866ef8",
   "metadata": {},
   "source": [
    "6.4\n",
    "Для решения подобной задачи подойдет проверка гипотезы о равенстве средних для зависимых выборок.\n",
    "Решить такую задачу можно методом scipy.stats.ttest_rel()\n"
   ]
  },
  {
   "cell_type": "markdown",
   "id": "3240315e",
   "metadata": {},
   "source": [
    "**Общий вывод:**\n",
    "    В ходе проекта я выполнила данные задачи: загрузила данные и выполнила предобработку. \n",
    "- Данные показали, **data** - в загруженном фрейме отсутствуют пропущенные значения. Типы данных соответсвуют содержанию. **data_2** - в загруженном фрейме отсутствуют пропущенные значения. Колонка date имеет тип object. Это не совсем не соответствует содержанию. Тип данных будет изменён позже, в ходе работы над проектом. **data_3** - совсем мальникий набор данных. Пропусков в данных не было, а дубликаты были удалены.\n",
    "- Исследование показало, больше всего пользователей самокатов в городе Пятигорск, далее Екатеринбург и 3-е место Ростов на Дону.\n",
    "    Как видим на графике, пользователей без подписки немного больше половины - **54%(835 польз.)** против **45%(699 пользователей с подпиской ultra)**.\n",
    "    Больше всего пользовтелей самокатов в городе Пятигорске, Екатеринбурге и Ростове на Дону. Средний возраст пользователей с подпиской и без примерно одинаковый - около 25 лет. Дистанции проехали тоже примерно одинаково 3045 и 3115 метров. Продолжительность сессии 17 и 18 минут.\n",
    "- Далее я нашла суммарное расстояние, количество поездок и суммарное время для каждого пользователя за каждый месяц. В этот же датафрейм добавила новый столбец с помесячной вырочкой для клиентов с подпиской и без.\n",
    "\n",
    "- В заключительной части сформулированы и проверены гипотезы выяснила, что средняя продолжительность аренды у пользователей с подпиской: **18.54** минут, а у пользователей без подписки **17.39 минут**. В среднем пользователи с подпиской арендуют самокат на **1.15 минут** больше, чем пользователи без подписки. Также пользователи с подпиской проезжают **3115.45** метров. В среднем в месяц пользователи с подпиской тратят на аренду самокатов **362.79 руб** , а пользователи без подписки **328.64** руб В среднем пользователи с подпиской приносят компании на **34.15 руб** больше, чем пользователи без платной подписки.\n",
    "\n",
    "   \n",
    "   Исходя из данных можно сказать, что число пользователей с подпиской и без не сильно отличаются. Но пользователи с подпиской приносят прибыли больше. И пользуются самокатами чуть чаще. "
   ]
  }
 ],
 "metadata": {
  "ExecuteTimeLog": [
   {
    "duration": 447,
    "start_time": "2023-05-22T07:54:57.441Z"
   },
   {
    "duration": 142,
    "start_time": "2023-05-22T07:54:58.974Z"
   },
   {
    "duration": 225,
    "start_time": "2023-05-22T07:55:14.226Z"
   },
   {
    "duration": 65,
    "start_time": "2023-05-22T07:55:18.839Z"
   },
   {
    "duration": 64,
    "start_time": "2023-05-22T07:56:18.610Z"
   },
   {
    "duration": 75,
    "start_time": "2023-05-22T07:56:43.554Z"
   },
   {
    "duration": 34,
    "start_time": "2023-05-22T07:57:16.702Z"
   },
   {
    "duration": 43,
    "start_time": "2023-05-22T07:57:19.546Z"
   },
   {
    "duration": 29,
    "start_time": "2023-05-22T07:57:22.390Z"
   },
   {
    "duration": 35,
    "start_time": "2023-05-22T07:58:42.491Z"
   },
   {
    "duration": 43,
    "start_time": "2023-05-22T07:58:49.934Z"
   },
   {
    "duration": 30,
    "start_time": "2023-05-22T07:58:55.744Z"
   },
   {
    "duration": 29,
    "start_time": "2023-05-22T07:59:57.574Z"
   },
   {
    "duration": 41,
    "start_time": "2023-05-22T08:08:47.731Z"
   },
   {
    "duration": 22,
    "start_time": "2023-05-22T08:08:48.194Z"
   },
   {
    "duration": 33,
    "start_time": "2023-05-22T08:09:53.050Z"
   },
   {
    "duration": 40,
    "start_time": "2023-05-22T08:09:55.435Z"
   },
   {
    "duration": 22,
    "start_time": "2023-05-22T08:09:56.188Z"
   },
   {
    "duration": 70,
    "start_time": "2023-05-22T08:16:56.473Z"
   },
   {
    "duration": 50,
    "start_time": "2023-05-22T08:17:26.820Z"
   },
   {
    "duration": 262,
    "start_time": "2023-05-22T08:18:02.454Z"
   },
   {
    "duration": 53,
    "start_time": "2023-05-22T08:18:10.043Z"
   },
   {
    "duration": 51,
    "start_time": "2023-05-22T08:18:13.604Z"
   },
   {
    "duration": 43,
    "start_time": "2023-05-22T08:19:59.254Z"
   },
   {
    "duration": 54,
    "start_time": "2023-05-22T08:20:09.362Z"
   },
   {
    "duration": 37,
    "start_time": "2023-05-22T08:21:43.176Z"
   },
   {
    "duration": 31,
    "start_time": "2023-05-22T08:21:44.136Z"
   },
   {
    "duration": 29,
    "start_time": "2023-05-22T08:21:44.802Z"
   },
   {
    "duration": 53,
    "start_time": "2023-05-22T08:21:50.484Z"
   },
   {
    "duration": 50,
    "start_time": "2023-05-22T08:22:09.723Z"
   },
   {
    "duration": 48,
    "start_time": "2023-05-22T08:23:37.853Z"
   },
   {
    "duration": 51,
    "start_time": "2023-05-22T08:24:28.536Z"
   },
   {
    "duration": 35,
    "start_time": "2023-05-22T08:28:09.316Z"
   },
   {
    "duration": 52,
    "start_time": "2023-05-22T08:28:11.650Z"
   },
   {
    "duration": 32,
    "start_time": "2023-05-22T08:28:14.713Z"
   },
   {
    "duration": 46,
    "start_time": "2023-05-22T08:28:22.798Z"
   },
   {
    "duration": 44,
    "start_time": "2023-05-22T08:29:07.131Z"
   },
   {
    "duration": 58,
    "start_time": "2023-05-22T08:29:20.775Z"
   },
   {
    "duration": 33,
    "start_time": "2023-05-22T08:31:00.531Z"
   },
   {
    "duration": 38,
    "start_time": "2023-05-22T08:31:01.173Z"
   },
   {
    "duration": 47,
    "start_time": "2023-05-22T08:31:01.890Z"
   },
   {
    "duration": 45,
    "start_time": "2023-05-22T08:31:03.459Z"
   },
   {
    "duration": 31,
    "start_time": "2023-05-22T08:31:21.820Z"
   },
   {
    "duration": 12,
    "start_time": "2023-05-22T08:31:30.357Z"
   },
   {
    "duration": 42,
    "start_time": "2023-05-22T08:31:35.737Z"
   },
   {
    "duration": 11,
    "start_time": "2023-05-22T08:31:41.224Z"
   },
   {
    "duration": 32,
    "start_time": "2023-05-22T08:31:57.312Z"
   },
   {
    "duration": 11,
    "start_time": "2023-05-22T08:32:02.535Z"
   },
   {
    "duration": 16,
    "start_time": "2023-05-22T08:32:15.895Z"
   },
   {
    "duration": 60,
    "start_time": "2023-05-22T08:34:51.545Z"
   },
   {
    "duration": 90,
    "start_time": "2023-05-22T08:34:59.522Z"
   },
   {
    "duration": 48,
    "start_time": "2023-05-22T08:35:06.026Z"
   },
   {
    "duration": 194,
    "start_time": "2023-05-22T08:35:56.982Z"
   },
   {
    "duration": 56,
    "start_time": "2023-05-22T08:36:03.948Z"
   },
   {
    "duration": 12,
    "start_time": "2023-05-22T08:46:11.470Z"
   },
   {
    "duration": 11,
    "start_time": "2023-05-22T09:06:50.071Z"
   },
   {
    "duration": 11,
    "start_time": "2023-05-22T09:07:01.425Z"
   },
   {
    "duration": 10,
    "start_time": "2023-05-22T09:07:12.675Z"
   },
   {
    "duration": 10,
    "start_time": "2023-05-22T09:08:43.035Z"
   },
   {
    "duration": 6,
    "start_time": "2023-05-22T09:10:51.586Z"
   },
   {
    "duration": 6,
    "start_time": "2023-05-22T09:11:11.850Z"
   },
   {
    "duration": 6,
    "start_time": "2023-05-22T09:11:29.125Z"
   },
   {
    "duration": 10,
    "start_time": "2023-05-22T09:11:45.508Z"
   },
   {
    "duration": 9,
    "start_time": "2023-05-22T09:12:00.027Z"
   },
   {
    "duration": 6,
    "start_time": "2023-05-22T09:12:16.965Z"
   },
   {
    "duration": 7,
    "start_time": "2023-05-22T09:12:18.209Z"
   },
   {
    "duration": 6,
    "start_time": "2023-05-22T09:12:20.506Z"
   },
   {
    "duration": 7,
    "start_time": "2023-05-22T09:17:37.683Z"
   },
   {
    "duration": 7,
    "start_time": "2023-05-22T09:17:44.222Z"
   },
   {
    "duration": 11,
    "start_time": "2023-05-22T09:18:13.255Z"
   },
   {
    "duration": 6,
    "start_time": "2023-05-22T09:18:18.008Z"
   },
   {
    "duration": 7,
    "start_time": "2023-05-22T09:18:49.393Z"
   },
   {
    "duration": 7,
    "start_time": "2023-05-22T09:18:50.388Z"
   },
   {
    "duration": 6,
    "start_time": "2023-05-22T09:18:51.173Z"
   },
   {
    "duration": 7,
    "start_time": "2023-05-22T09:19:32.236Z"
   },
   {
    "duration": 11,
    "start_time": "2023-05-22T09:19:33.844Z"
   },
   {
    "duration": 8,
    "start_time": "2023-05-22T09:19:34.362Z"
   },
   {
    "duration": 7,
    "start_time": "2023-05-22T09:19:44.628Z"
   },
   {
    "duration": 7,
    "start_time": "2023-05-22T09:19:53.592Z"
   },
   {
    "duration": 6,
    "start_time": "2023-05-22T09:19:54.191Z"
   },
   {
    "duration": 10,
    "start_time": "2023-05-22T09:19:54.799Z"
   },
   {
    "duration": 8,
    "start_time": "2023-05-22T09:19:55.648Z"
   },
   {
    "duration": 7,
    "start_time": "2023-05-22T09:20:01.767Z"
   },
   {
    "duration": 6,
    "start_time": "2023-05-22T09:20:08.220Z"
   },
   {
    "duration": 2,
    "start_time": "2023-05-22T09:20:13.344Z"
   },
   {
    "duration": 43,
    "start_time": "2023-05-22T09:20:13.351Z"
   },
   {
    "duration": 11,
    "start_time": "2023-05-22T09:20:13.395Z"
   },
   {
    "duration": 32,
    "start_time": "2023-05-22T09:20:13.408Z"
   },
   {
    "duration": 11,
    "start_time": "2023-05-22T09:20:13.442Z"
   },
   {
    "duration": 25,
    "start_time": "2023-05-22T09:20:13.455Z"
   },
   {
    "duration": 10,
    "start_time": "2023-05-22T09:20:13.481Z"
   },
   {
    "duration": 16,
    "start_time": "2023-05-22T09:20:13.493Z"
   },
   {
    "duration": 11,
    "start_time": "2023-05-22T09:20:13.511Z"
   },
   {
    "duration": 7,
    "start_time": "2023-05-22T09:20:13.523Z"
   },
   {
    "duration": 6,
    "start_time": "2023-05-22T09:20:13.533Z"
   },
   {
    "duration": 38,
    "start_time": "2023-05-22T09:20:13.540Z"
   },
   {
    "duration": 5,
    "start_time": "2023-05-22T09:20:13.580Z"
   },
   {
    "duration": 9,
    "start_time": "2023-05-22T09:20:13.586Z"
   },
   {
    "duration": 4,
    "start_time": "2023-05-22T09:20:13.596Z"
   },
   {
    "duration": 3,
    "start_time": "2023-05-22T09:20:21.168Z"
   },
   {
    "duration": 32,
    "start_time": "2023-05-22T09:20:22.461Z"
   },
   {
    "duration": 10,
    "start_time": "2023-05-22T09:20:23.281Z"
   },
   {
    "duration": 39,
    "start_time": "2023-05-22T09:20:23.945Z"
   },
   {
    "duration": 13,
    "start_time": "2023-05-22T09:20:24.789Z"
   },
   {
    "duration": 32,
    "start_time": "2023-05-22T09:20:25.536Z"
   },
   {
    "duration": 14,
    "start_time": "2023-05-22T09:20:26.255Z"
   },
   {
    "duration": 10,
    "start_time": "2023-05-22T09:20:28.595Z"
   },
   {
    "duration": 12,
    "start_time": "2023-05-22T09:20:29.384Z"
   },
   {
    "duration": 7,
    "start_time": "2023-05-22T09:20:30.102Z"
   },
   {
    "duration": 8,
    "start_time": "2023-05-22T09:20:30.818Z"
   },
   {
    "duration": 6,
    "start_time": "2023-05-22T09:20:31.544Z"
   },
   {
    "duration": 6,
    "start_time": "2023-05-22T09:20:34.515Z"
   },
   {
    "duration": 7,
    "start_time": "2023-05-22T09:22:37.336Z"
   },
   {
    "duration": 9,
    "start_time": "2023-05-22T09:22:55.636Z"
   },
   {
    "duration": 6,
    "start_time": "2023-05-22T09:22:56.271Z"
   },
   {
    "duration": 9,
    "start_time": "2023-05-22T09:25:06.435Z"
   },
   {
    "duration": 16,
    "start_time": "2023-05-22T09:25:17.600Z"
   },
   {
    "duration": 7,
    "start_time": "2023-05-22T09:25:39.926Z"
   },
   {
    "duration": 5,
    "start_time": "2023-05-22T09:27:28.102Z"
   },
   {
    "duration": 6,
    "start_time": "2023-05-22T09:27:58.944Z"
   },
   {
    "duration": 6,
    "start_time": "2023-05-22T09:28:32.223Z"
   },
   {
    "duration": 5,
    "start_time": "2023-05-22T09:28:57.034Z"
   },
   {
    "duration": 5,
    "start_time": "2023-05-22T09:29:24.803Z"
   },
   {
    "duration": 6,
    "start_time": "2023-05-22T09:29:40.508Z"
   },
   {
    "duration": 5,
    "start_time": "2023-05-22T09:30:10.126Z"
   },
   {
    "duration": 2,
    "start_time": "2023-05-22T09:30:19.263Z"
   },
   {
    "duration": 140,
    "start_time": "2023-05-22T09:30:19.269Z"
   },
   {
    "duration": 10,
    "start_time": "2023-05-22T09:30:19.411Z"
   },
   {
    "duration": 35,
    "start_time": "2023-05-22T09:30:19.422Z"
   },
   {
    "duration": 12,
    "start_time": "2023-05-22T09:30:19.459Z"
   },
   {
    "duration": 29,
    "start_time": "2023-05-22T09:30:19.472Z"
   },
   {
    "duration": 17,
    "start_time": "2023-05-22T09:30:19.506Z"
   },
   {
    "duration": 13,
    "start_time": "2023-05-22T09:30:19.524Z"
   },
   {
    "duration": 15,
    "start_time": "2023-05-22T09:30:19.539Z"
   },
   {
    "duration": 7,
    "start_time": "2023-05-22T09:30:19.557Z"
   },
   {
    "duration": 27,
    "start_time": "2023-05-22T09:30:19.567Z"
   },
   {
    "duration": 21,
    "start_time": "2023-05-22T09:30:19.596Z"
   },
   {
    "duration": 15,
    "start_time": "2023-05-22T09:30:19.619Z"
   },
   {
    "duration": 15,
    "start_time": "2023-05-22T09:30:19.636Z"
   },
   {
    "duration": 37,
    "start_time": "2023-05-22T09:30:19.652Z"
   },
   {
    "duration": 12,
    "start_time": "2023-05-22T09:30:19.694Z"
   },
   {
    "duration": 13,
    "start_time": "2023-05-22T09:31:05.174Z"
   },
   {
    "duration": 4,
    "start_time": "2023-05-22T09:31:06.344Z"
   },
   {
    "duration": 10,
    "start_time": "2023-05-22T09:31:06.925Z"
   },
   {
    "duration": 6,
    "start_time": "2023-05-22T09:31:07.610Z"
   },
   {
    "duration": 6,
    "start_time": "2023-05-22T09:31:22.112Z"
   },
   {
    "duration": 3,
    "start_time": "2023-05-22T09:31:25.319Z"
   },
   {
    "duration": 36,
    "start_time": "2023-05-22T09:31:25.325Z"
   },
   {
    "duration": 11,
    "start_time": "2023-05-22T09:31:25.363Z"
   },
   {
    "duration": 43,
    "start_time": "2023-05-22T09:31:25.376Z"
   },
   {
    "duration": 11,
    "start_time": "2023-05-22T09:31:25.421Z"
   },
   {
    "duration": 22,
    "start_time": "2023-05-22T09:31:25.433Z"
   },
   {
    "duration": 10,
    "start_time": "2023-05-22T09:31:25.457Z"
   },
   {
    "duration": 26,
    "start_time": "2023-05-22T09:31:25.469Z"
   },
   {
    "duration": 17,
    "start_time": "2023-05-22T09:31:25.496Z"
   },
   {
    "duration": 8,
    "start_time": "2023-05-22T09:31:25.515Z"
   },
   {
    "duration": 16,
    "start_time": "2023-05-22T09:31:25.525Z"
   },
   {
    "duration": 7,
    "start_time": "2023-05-22T09:31:25.542Z"
   },
   {
    "duration": 7,
    "start_time": "2023-05-22T09:31:25.550Z"
   },
   {
    "duration": 6,
    "start_time": "2023-05-22T09:31:25.559Z"
   },
   {
    "duration": 15,
    "start_time": "2023-05-22T09:31:25.566Z"
   },
   {
    "duration": 7,
    "start_time": "2023-05-22T09:31:25.583Z"
   },
   {
    "duration": 5,
    "start_time": "2023-05-22T09:31:36.091Z"
   },
   {
    "duration": 8,
    "start_time": "2023-05-22T09:31:36.803Z"
   },
   {
    "duration": 6,
    "start_time": "2023-05-22T09:31:37.498Z"
   },
   {
    "duration": 6,
    "start_time": "2023-05-22T09:34:24.582Z"
   },
   {
    "duration": 4,
    "start_time": "2023-05-22T09:34:38.893Z"
   },
   {
    "duration": 6,
    "start_time": "2023-05-22T09:34:54.086Z"
   },
   {
    "duration": 6,
    "start_time": "2023-05-22T09:35:18.031Z"
   },
   {
    "duration": 8,
    "start_time": "2023-05-22T09:35:18.581Z"
   },
   {
    "duration": 4,
    "start_time": "2023-05-22T09:35:20.188Z"
   },
   {
    "duration": 16,
    "start_time": "2023-05-22T09:51:45.076Z"
   },
   {
    "duration": 23,
    "start_time": "2023-05-22T09:51:59.992Z"
   },
   {
    "duration": 17,
    "start_time": "2023-05-22T09:52:13.230Z"
   },
   {
    "duration": 356,
    "start_time": "2023-05-22T10:03:32.400Z"
   },
   {
    "duration": 16,
    "start_time": "2023-05-22T10:03:40.379Z"
   },
   {
    "duration": 13,
    "start_time": "2023-05-22T10:04:03.202Z"
   },
   {
    "duration": 246,
    "start_time": "2023-05-22T10:04:42.870Z"
   },
   {
    "duration": 160,
    "start_time": "2023-05-22T10:04:53.253Z"
   },
   {
    "duration": 246,
    "start_time": "2023-05-22T10:04:58.995Z"
   },
   {
    "duration": 266,
    "start_time": "2023-05-22T10:05:07.291Z"
   },
   {
    "duration": 159,
    "start_time": "2023-05-22T10:06:24.116Z"
   },
   {
    "duration": 807,
    "start_time": "2023-05-22T10:06:42.258Z"
   },
   {
    "duration": 174,
    "start_time": "2023-05-22T10:07:01.845Z"
   },
   {
    "duration": 193,
    "start_time": "2023-05-22T10:07:17.766Z"
   },
   {
    "duration": 124,
    "start_time": "2023-05-22T10:09:47.091Z"
   },
   {
    "duration": 118,
    "start_time": "2023-05-22T10:10:21.554Z"
   },
   {
    "duration": 54,
    "start_time": "2023-05-22T10:11:01.990Z"
   },
   {
    "duration": 117,
    "start_time": "2023-05-22T10:11:08.026Z"
   },
   {
    "duration": 16,
    "start_time": "2023-05-22T10:13:10.592Z"
   },
   {
    "duration": 15,
    "start_time": "2023-05-22T10:13:15.455Z"
   },
   {
    "duration": 167,
    "start_time": "2023-05-22T10:13:22.070Z"
   },
   {
    "duration": 15,
    "start_time": "2023-05-22T10:14:07.092Z"
   },
   {
    "duration": 174,
    "start_time": "2023-05-22T10:14:13.539Z"
   },
   {
    "duration": 154,
    "start_time": "2023-05-22T10:25:25.122Z"
   },
   {
    "duration": 173,
    "start_time": "2023-05-22T10:25:31.067Z"
   },
   {
    "duration": 249,
    "start_time": "2023-05-22T10:25:39.356Z"
   },
   {
    "duration": 201,
    "start_time": "2023-05-22T10:25:50.493Z"
   },
   {
    "duration": 172,
    "start_time": "2023-05-22T10:26:00.999Z"
   },
   {
    "duration": 174,
    "start_time": "2023-05-22T10:27:21.491Z"
   },
   {
    "duration": 155,
    "start_time": "2023-05-22T10:28:50.398Z"
   },
   {
    "duration": 196,
    "start_time": "2023-05-22T10:28:58.043Z"
   },
   {
    "duration": 53,
    "start_time": "2023-05-22T10:38:10.556Z"
   },
   {
    "duration": 11,
    "start_time": "2023-05-22T12:05:39.655Z"
   },
   {
    "duration": 21,
    "start_time": "2023-05-22T12:07:49.598Z"
   },
   {
    "duration": 20,
    "start_time": "2023-05-22T12:07:56.331Z"
   },
   {
    "duration": 17,
    "start_time": "2023-05-22T12:08:08.755Z"
   },
   {
    "duration": 16,
    "start_time": "2023-05-22T12:08:21.929Z"
   },
   {
    "duration": 546,
    "start_time": "2023-05-22T12:14:09.506Z"
   },
   {
    "duration": 38,
    "start_time": "2023-05-22T12:14:13.815Z"
   },
   {
    "duration": 12,
    "start_time": "2023-05-22T12:14:15.063Z"
   },
   {
    "duration": 58,
    "start_time": "2023-05-22T12:14:15.875Z"
   },
   {
    "duration": 12,
    "start_time": "2023-05-22T12:14:16.661Z"
   },
   {
    "duration": 32,
    "start_time": "2023-05-22T12:14:17.332Z"
   },
   {
    "duration": 13,
    "start_time": "2023-05-22T12:14:18.698Z"
   },
   {
    "duration": 9,
    "start_time": "2023-05-22T12:14:22.851Z"
   },
   {
    "duration": 11,
    "start_time": "2023-05-22T12:14:24.733Z"
   },
   {
    "duration": 8,
    "start_time": "2023-05-22T12:14:25.609Z"
   },
   {
    "duration": 8,
    "start_time": "2023-05-22T12:14:26.402Z"
   },
   {
    "duration": 7,
    "start_time": "2023-05-22T12:14:27.216Z"
   },
   {
    "duration": 6,
    "start_time": "2023-05-22T12:14:29.326Z"
   },
   {
    "duration": 5,
    "start_time": "2023-05-22T12:14:31.169Z"
   },
   {
    "duration": 11,
    "start_time": "2023-05-22T12:14:32.455Z"
   },
   {
    "duration": 7,
    "start_time": "2023-05-22T12:14:33.123Z"
   },
   {
    "duration": 20,
    "start_time": "2023-05-22T12:14:41.656Z"
   },
   {
    "duration": 23,
    "start_time": "2023-05-22T12:14:42.951Z"
   },
   {
    "duration": 21,
    "start_time": "2023-05-22T12:14:43.919Z"
   },
   {
    "duration": 3,
    "start_time": "2023-05-22T12:14:45.912Z"
   },
   {
    "duration": 173,
    "start_time": "2023-05-22T12:14:46.799Z"
   },
   {
    "duration": 44,
    "start_time": "2023-05-22T12:16:07.267Z"
   },
   {
    "duration": 160,
    "start_time": "2023-05-22T12:16:23.532Z"
   },
   {
    "duration": 3,
    "start_time": "2023-05-22T12:28:49.418Z"
   },
   {
    "duration": 2,
    "start_time": "2023-05-22T12:36:08.626Z"
   },
   {
    "duration": 58,
    "start_time": "2023-05-22T12:36:08.658Z"
   },
   {
    "duration": 10,
    "start_time": "2023-05-22T12:36:08.719Z"
   },
   {
    "duration": 90,
    "start_time": "2023-05-22T12:36:08.731Z"
   },
   {
    "duration": 10,
    "start_time": "2023-05-22T12:36:08.823Z"
   },
   {
    "duration": 28,
    "start_time": "2023-05-22T12:36:08.835Z"
   },
   {
    "duration": 10,
    "start_time": "2023-05-22T12:36:08.865Z"
   },
   {
    "duration": 23,
    "start_time": "2023-05-22T12:36:08.876Z"
   },
   {
    "duration": 21,
    "start_time": "2023-05-22T12:36:08.901Z"
   },
   {
    "duration": 7,
    "start_time": "2023-05-22T12:36:08.925Z"
   },
   {
    "duration": 9,
    "start_time": "2023-05-22T12:36:08.933Z"
   },
   {
    "duration": 5,
    "start_time": "2023-05-22T12:36:08.944Z"
   },
   {
    "duration": 6,
    "start_time": "2023-05-22T12:36:08.951Z"
   },
   {
    "duration": 5,
    "start_time": "2023-05-22T12:36:08.958Z"
   },
   {
    "duration": 9,
    "start_time": "2023-05-22T12:36:08.984Z"
   },
   {
    "duration": 5,
    "start_time": "2023-05-22T12:36:08.995Z"
   },
   {
    "duration": 19,
    "start_time": "2023-05-22T12:36:09.004Z"
   },
   {
    "duration": 34,
    "start_time": "2023-05-22T12:36:09.025Z"
   },
   {
    "duration": 52,
    "start_time": "2023-05-22T12:36:09.060Z"
   },
   {
    "duration": 4,
    "start_time": "2023-05-22T12:36:09.114Z"
   },
   {
    "duration": 160,
    "start_time": "2023-05-22T12:36:09.120Z"
   },
   {
    "duration": 3,
    "start_time": "2023-05-22T12:36:09.281Z"
   },
   {
    "duration": 144,
    "start_time": "2023-05-22T12:36:09.285Z"
   },
   {
    "duration": 2,
    "start_time": "2023-05-22T12:36:09.431Z"
   },
   {
    "duration": 195,
    "start_time": "2023-05-22T12:36:09.434Z"
   },
   {
    "duration": 2,
    "start_time": "2023-05-22T12:36:09.631Z"
   },
   {
    "duration": 201,
    "start_time": "2023-05-22T12:36:09.635Z"
   },
   {
    "duration": 4,
    "start_time": "2023-05-22T12:36:09.838Z"
   },
   {
    "duration": 232,
    "start_time": "2023-05-22T12:36:09.843Z"
   },
   {
    "duration": 6,
    "start_time": "2023-05-22T12:36:10.079Z"
   },
   {
    "duration": 9,
    "start_time": "2023-05-22T13:10:09.498Z"
   },
   {
    "duration": 8,
    "start_time": "2023-05-22T13:11:32.169Z"
   },
   {
    "duration": 10,
    "start_time": "2023-05-22T13:12:17.339Z"
   },
   {
    "duration": 11,
    "start_time": "2023-05-22T13:12:34.053Z"
   },
   {
    "duration": 10,
    "start_time": "2023-05-22T13:12:37.961Z"
   },
   {
    "duration": 19,
    "start_time": "2023-05-22T13:12:59.699Z"
   },
   {
    "duration": 22,
    "start_time": "2023-05-22T13:13:20.449Z"
   },
   {
    "duration": 23,
    "start_time": "2023-05-22T13:13:39.600Z"
   },
   {
    "duration": 28,
    "start_time": "2023-05-22T13:13:51.844Z"
   },
   {
    "duration": 10,
    "start_time": "2023-05-22T13:14:26.869Z"
   },
   {
    "duration": 8,
    "start_time": "2023-05-22T13:14:44.656Z"
   },
   {
    "duration": 13,
    "start_time": "2023-05-22T13:14:52.897Z"
   },
   {
    "duration": 27,
    "start_time": "2023-05-22T13:15:05.869Z"
   },
   {
    "duration": 24,
    "start_time": "2023-05-22T13:15:33.076Z"
   },
   {
    "duration": 29,
    "start_time": "2023-05-22T13:15:48.729Z"
   },
   {
    "duration": 18,
    "start_time": "2023-05-22T13:20:07.103Z"
   },
   {
    "duration": 9,
    "start_time": "2023-05-22T13:23:48.471Z"
   },
   {
    "duration": 9,
    "start_time": "2023-05-22T14:04:43.954Z"
   },
   {
    "duration": 9,
    "start_time": "2023-05-22T14:04:52.957Z"
   },
   {
    "duration": 10,
    "start_time": "2023-05-22T14:04:59.906Z"
   },
   {
    "duration": 9,
    "start_time": "2023-05-22T14:05:11.225Z"
   },
   {
    "duration": 8,
    "start_time": "2023-05-22T14:05:16.859Z"
   },
   {
    "duration": 22,
    "start_time": "2023-05-22T14:12:00.558Z"
   },
   {
    "duration": 27,
    "start_time": "2023-05-22T14:13:23.262Z"
   },
   {
    "duration": 4,
    "start_time": "2023-05-22T14:14:16.314Z"
   },
   {
    "duration": 14,
    "start_time": "2023-05-22T14:16:27.073Z"
   },
   {
    "duration": 4,
    "start_time": "2023-05-22T14:16:36.065Z"
   },
   {
    "duration": 3,
    "start_time": "2023-05-22T14:16:45.521Z"
   },
   {
    "duration": 5,
    "start_time": "2023-05-22T14:17:07.745Z"
   },
   {
    "duration": 3,
    "start_time": "2023-05-22T14:22:00.219Z"
   },
   {
    "duration": 3,
    "start_time": "2023-05-22T14:23:12.420Z"
   },
   {
    "duration": 10,
    "start_time": "2023-05-22T14:23:32.142Z"
   },
   {
    "duration": 4,
    "start_time": "2023-05-22T14:23:35.610Z"
   },
   {
    "duration": 4,
    "start_time": "2023-05-22T14:23:36.150Z"
   },
   {
    "duration": 4,
    "start_time": "2023-05-22T14:23:36.649Z"
   },
   {
    "duration": 24,
    "start_time": "2023-05-22T14:25:36.530Z"
   },
   {
    "duration": 12,
    "start_time": "2023-05-22T14:25:37.086Z"
   },
   {
    "duration": 6,
    "start_time": "2023-05-22T14:25:37.787Z"
   },
   {
    "duration": 4,
    "start_time": "2023-05-22T14:25:38.304Z"
   },
   {
    "duration": 3,
    "start_time": "2023-05-22T14:25:38.791Z"
   },
   {
    "duration": 3,
    "start_time": "2023-05-22T14:25:40.108Z"
   },
   {
    "duration": 12,
    "start_time": "2023-05-22T14:36:31.769Z"
   },
   {
    "duration": 636,
    "start_time": "2023-05-22T14:37:19.844Z"
   },
   {
    "duration": 529,
    "start_time": "2023-05-22T14:37:39.215Z"
   },
   {
    "duration": 377,
    "start_time": "2023-05-22T14:40:41.490Z"
   },
   {
    "duration": 629,
    "start_time": "2023-05-22T14:40:57.975Z"
   },
   {
    "duration": 519,
    "start_time": "2023-05-22T14:42:51.659Z"
   },
   {
    "duration": 529,
    "start_time": "2023-05-22T14:42:53.376Z"
   },
   {
    "duration": 3,
    "start_time": "2023-05-22T14:45:07.421Z"
   },
   {
    "duration": 43,
    "start_time": "2023-05-22T14:45:07.428Z"
   },
   {
    "duration": 14,
    "start_time": "2023-05-22T14:45:07.474Z"
   },
   {
    "duration": 60,
    "start_time": "2023-05-22T14:45:07.490Z"
   },
   {
    "duration": 14,
    "start_time": "2023-05-22T14:45:07.554Z"
   },
   {
    "duration": 27,
    "start_time": "2023-05-22T14:45:07.571Z"
   },
   {
    "duration": 14,
    "start_time": "2023-05-22T14:45:07.600Z"
   },
   {
    "duration": 30,
    "start_time": "2023-05-22T14:45:07.617Z"
   },
   {
    "duration": 15,
    "start_time": "2023-05-22T14:45:07.649Z"
   },
   {
    "duration": 14,
    "start_time": "2023-05-22T14:45:07.666Z"
   },
   {
    "duration": 30,
    "start_time": "2023-05-22T14:45:07.684Z"
   },
   {
    "duration": 11,
    "start_time": "2023-05-22T14:45:07.717Z"
   },
   {
    "duration": 10,
    "start_time": "2023-05-22T14:45:07.730Z"
   },
   {
    "duration": 23,
    "start_time": "2023-05-22T14:45:07.743Z"
   },
   {
    "duration": 17,
    "start_time": "2023-05-22T14:45:07.768Z"
   },
   {
    "duration": 17,
    "start_time": "2023-05-22T14:45:07.787Z"
   },
   {
    "duration": 48,
    "start_time": "2023-05-22T14:45:07.807Z"
   },
   {
    "duration": 26,
    "start_time": "2023-05-22T14:45:07.856Z"
   },
   {
    "duration": 23,
    "start_time": "2023-05-22T14:45:07.884Z"
   },
   {
    "duration": 9,
    "start_time": "2023-05-22T14:45:07.909Z"
   },
   {
    "duration": 191,
    "start_time": "2023-05-22T14:45:07.920Z"
   },
   {
    "duration": 3,
    "start_time": "2023-05-22T14:45:08.113Z"
   },
   {
    "duration": 131,
    "start_time": "2023-05-22T14:45:08.117Z"
   },
   {
    "duration": 3,
    "start_time": "2023-05-22T14:45:08.249Z"
   },
   {
    "duration": 178,
    "start_time": "2023-05-22T14:45:08.253Z"
   },
   {
    "duration": 2,
    "start_time": "2023-05-22T14:45:08.433Z"
   },
   {
    "duration": 362,
    "start_time": "2023-05-22T14:45:08.437Z"
   },
   {
    "duration": 2,
    "start_time": "2023-05-22T14:45:08.801Z"
   },
   {
    "duration": 184,
    "start_time": "2023-05-22T14:45:08.806Z"
   },
   {
    "duration": 26,
    "start_time": "2023-05-22T14:45:08.991Z"
   },
   {
    "duration": 12,
    "start_time": "2023-05-22T14:45:09.018Z"
   },
   {
    "duration": 13,
    "start_time": "2023-05-22T14:45:09.031Z"
   },
   {
    "duration": 10,
    "start_time": "2023-05-22T14:45:09.046Z"
   },
   {
    "duration": 25,
    "start_time": "2023-05-22T14:45:09.058Z"
   },
   {
    "duration": 4,
    "start_time": "2023-05-22T14:45:09.640Z"
   },
   {
    "duration": 67,
    "start_time": "2023-05-22T14:45:09.648Z"
   },
   {
    "duration": 26,
    "start_time": "2023-05-22T14:45:09.717Z"
   },
   {
    "duration": 45,
    "start_time": "2023-05-22T14:45:09.746Z"
   },
   {
    "duration": 12,
    "start_time": "2023-05-22T14:45:09.793Z"
   },
   {
    "duration": 63,
    "start_time": "2023-05-22T14:45:09.806Z"
   },
   {
    "duration": 34,
    "start_time": "2023-05-22T14:45:09.872Z"
   },
   {
    "duration": 54,
    "start_time": "2023-05-22T14:45:09.907Z"
   },
   {
    "duration": 32,
    "start_time": "2023-05-22T14:45:09.962Z"
   },
   {
    "duration": 12,
    "start_time": "2023-05-22T14:45:09.996Z"
   },
   {
    "duration": 29,
    "start_time": "2023-05-22T14:45:10.011Z"
   },
   {
    "duration": 31,
    "start_time": "2023-05-22T14:45:10.041Z"
   },
   {
    "duration": 28,
    "start_time": "2023-05-22T14:45:10.075Z"
   },
   {
    "duration": 8,
    "start_time": "2023-05-22T14:45:10.105Z"
   },
   {
    "duration": 10,
    "start_time": "2023-05-22T14:45:10.114Z"
   },
   {
    "duration": 5,
    "start_time": "2023-05-22T14:45:10.126Z"
   },
   {
    "duration": 20,
    "start_time": "2023-05-22T14:45:10.132Z"
   },
   {
    "duration": 25,
    "start_time": "2023-05-22T14:45:10.154Z"
   },
   {
    "duration": 18,
    "start_time": "2023-05-22T14:45:10.180Z"
   },
   {
    "duration": 4,
    "start_time": "2023-05-22T14:45:10.200Z"
   },
   {
    "duration": 182,
    "start_time": "2023-05-22T14:45:10.206Z"
   },
   {
    "duration": 3,
    "start_time": "2023-05-22T14:45:10.390Z"
   },
   {
    "duration": 140,
    "start_time": "2023-05-22T14:45:10.394Z"
   },
   {
    "duration": 3,
    "start_time": "2023-05-22T14:45:10.536Z"
   },
   {
    "duration": 181,
    "start_time": "2023-05-22T14:45:10.540Z"
   },
   {
    "duration": 2,
    "start_time": "2023-05-22T14:45:10.723Z"
   },
   {
    "duration": 190,
    "start_time": "2023-05-22T14:45:10.727Z"
   },
   {
    "duration": 3,
    "start_time": "2023-05-22T14:45:10.918Z"
   },
   {
    "duration": 200,
    "start_time": "2023-05-22T14:45:10.924Z"
   },
   {
    "duration": 27,
    "start_time": "2023-05-22T14:45:11.125Z"
   },
   {
    "duration": 29,
    "start_time": "2023-05-22T14:45:11.153Z"
   },
   {
    "duration": 3,
    "start_time": "2023-05-22T14:45:11.184Z"
   },
   {
    "duration": 5,
    "start_time": "2023-05-22T14:45:11.189Z"
   },
   {
    "duration": 7,
    "start_time": "2023-05-22T14:45:11.195Z"
   },
   {
    "duration": 571,
    "start_time": "2023-05-22T14:45:11.204Z"
   },
   {
    "duration": 528,
    "start_time": "2023-05-22T14:45:11.777Z"
   },
   {
    "duration": 718,
    "start_time": "2023-05-22T14:52:54.839Z"
   },
   {
    "duration": 825,
    "start_time": "2023-05-22T14:53:23.276Z"
   },
   {
    "duration": 180,
    "start_time": "2023-05-22T14:55:15.566Z"
   },
   {
    "duration": 169,
    "start_time": "2023-05-22T14:56:10.737Z"
   },
   {
    "duration": 139,
    "start_time": "2023-05-22T14:57:16.276Z"
   },
   {
    "duration": 193,
    "start_time": "2023-05-22T14:57:51.901Z"
   },
   {
    "duration": 125,
    "start_time": "2023-05-22T14:58:00.625Z"
   },
   {
    "duration": 202,
    "start_time": "2023-05-22T14:58:45.176Z"
   },
   {
    "duration": 184,
    "start_time": "2023-05-22T14:59:13.380Z"
   },
   {
    "duration": 10,
    "start_time": "2023-05-22T15:06:39.980Z"
   },
   {
    "duration": 1395,
    "start_time": "2023-05-23T07:58:55.651Z"
   },
   {
    "duration": 88,
    "start_time": "2023-05-23T07:59:00.384Z"
   },
   {
    "duration": 12,
    "start_time": "2023-05-23T07:59:03.476Z"
   },
   {
    "duration": 90,
    "start_time": "2023-05-23T07:59:04.379Z"
   },
   {
    "duration": 11,
    "start_time": "2023-05-23T07:59:07.379Z"
   },
   {
    "duration": 84,
    "start_time": "2023-05-23T07:59:09.314Z"
   },
   {
    "duration": 12,
    "start_time": "2023-05-23T07:59:09.512Z"
   },
   {
    "duration": 11,
    "start_time": "2023-05-23T07:59:11.705Z"
   },
   {
    "duration": 12,
    "start_time": "2023-05-23T07:59:12.658Z"
   },
   {
    "duration": 7,
    "start_time": "2023-05-23T07:59:13.441Z"
   },
   {
    "duration": 7,
    "start_time": "2023-05-23T07:59:14.220Z"
   },
   {
    "duration": 6,
    "start_time": "2023-05-23T07:59:14.871Z"
   },
   {
    "duration": 6,
    "start_time": "2023-05-23T07:59:16.200Z"
   },
   {
    "duration": 5,
    "start_time": "2023-05-23T07:59:16.841Z"
   },
   {
    "duration": 9,
    "start_time": "2023-05-23T07:59:17.358Z"
   },
   {
    "duration": 5,
    "start_time": "2023-05-23T07:59:18.467Z"
   },
   {
    "duration": 16,
    "start_time": "2023-05-23T07:59:20.964Z"
   },
   {
    "duration": 23,
    "start_time": "2023-05-23T07:59:21.680Z"
   },
   {
    "duration": 23,
    "start_time": "2023-05-23T07:59:22.406Z"
   },
   {
    "duration": 3,
    "start_time": "2023-05-23T07:59:24.668Z"
   },
   {
    "duration": 103,
    "start_time": "2023-05-23T07:59:25.417Z"
   },
   {
    "duration": 184,
    "start_time": "2023-05-23T07:59:47.239Z"
   },
   {
    "duration": 154,
    "start_time": "2023-05-23T07:59:52.425Z"
   },
   {
    "duration": 177,
    "start_time": "2023-05-23T07:59:56.328Z"
   },
   {
    "duration": 198,
    "start_time": "2023-05-23T08:00:01.177Z"
   },
   {
    "duration": 186,
    "start_time": "2023-05-23T08:00:04.778Z"
   },
   {
    "duration": 28,
    "start_time": "2023-05-23T08:00:09.215Z"
   },
   {
    "duration": 14,
    "start_time": "2023-05-23T08:00:13.240Z"
   },
   {
    "duration": 4,
    "start_time": "2023-05-23T08:00:13.753Z"
   },
   {
    "duration": 4,
    "start_time": "2023-05-23T08:00:14.180Z"
   },
   {
    "duration": 4,
    "start_time": "2023-05-23T08:00:14.584Z"
   },
   {
    "duration": 543,
    "start_time": "2023-05-23T08:00:15.369Z"
   },
   {
    "duration": 617,
    "start_time": "2023-05-23T08:00:18.726Z"
   },
   {
    "duration": 10,
    "start_time": "2023-05-23T08:54:03.300Z"
   },
   {
    "duration": 9,
    "start_time": "2023-05-23T08:54:15.005Z"
   },
   {
    "duration": 24,
    "start_time": "2023-05-23T08:54:49.219Z"
   },
   {
    "duration": 23,
    "start_time": "2023-05-23T08:54:51.658Z"
   },
   {
    "duration": 29,
    "start_time": "2023-05-23T08:55:22.042Z"
   },
   {
    "duration": 32,
    "start_time": "2023-05-23T08:55:36.462Z"
   },
   {
    "duration": 873,
    "start_time": "2023-05-23T08:58:59.191Z"
   },
   {
    "duration": 882,
    "start_time": "2023-05-23T08:59:19.650Z"
   },
   {
    "duration": 585,
    "start_time": "2023-05-23T09:00:31.975Z"
   },
   {
    "duration": 1140,
    "start_time": "2023-05-23T09:00:57.807Z"
   },
   {
    "duration": 845,
    "start_time": "2023-05-23T09:32:03.493Z"
   },
   {
    "duration": 921,
    "start_time": "2023-05-23T09:54:36.016Z"
   },
   {
    "duration": 867,
    "start_time": "2023-05-23T09:54:40.348Z"
   },
   {
    "duration": 831,
    "start_time": "2023-05-23T09:54:45.561Z"
   },
   {
    "duration": 5,
    "start_time": "2023-05-23T09:54:57.414Z"
   },
   {
    "duration": 11,
    "start_time": "2023-05-23T10:02:11.687Z"
   },
   {
    "duration": 10,
    "start_time": "2023-05-23T10:02:20.460Z"
   },
   {
    "duration": 15,
    "start_time": "2023-05-23T10:10:37.649Z"
   },
   {
    "duration": 13,
    "start_time": "2023-05-23T10:10:46.853Z"
   },
   {
    "duration": 12,
    "start_time": "2023-05-23T10:11:12.186Z"
   },
   {
    "duration": 12,
    "start_time": "2023-05-23T10:21:50.069Z"
   },
   {
    "duration": 13,
    "start_time": "2023-05-23T10:22:09.549Z"
   },
   {
    "duration": 3,
    "start_time": "2023-05-23T10:31:54.074Z"
   },
   {
    "duration": 35,
    "start_time": "2023-05-23T10:31:55.076Z"
   },
   {
    "duration": 12,
    "start_time": "2023-05-23T10:31:55.547Z"
   },
   {
    "duration": 46,
    "start_time": "2023-05-23T10:31:56.512Z"
   },
   {
    "duration": 11,
    "start_time": "2023-05-23T10:31:58.623Z"
   },
   {
    "duration": 32,
    "start_time": "2023-05-23T10:31:59.211Z"
   },
   {
    "duration": 12,
    "start_time": "2023-05-23T10:32:02.726Z"
   },
   {
    "duration": 9,
    "start_time": "2023-05-23T10:32:04.797Z"
   },
   {
    "duration": 12,
    "start_time": "2023-05-23T10:32:06.008Z"
   },
   {
    "duration": 6,
    "start_time": "2023-05-23T10:32:06.625Z"
   },
   {
    "duration": 7,
    "start_time": "2023-05-23T10:32:07.179Z"
   },
   {
    "duration": 6,
    "start_time": "2023-05-23T10:32:07.739Z"
   },
   {
    "duration": 6,
    "start_time": "2023-05-23T10:32:09.296Z"
   },
   {
    "duration": 5,
    "start_time": "2023-05-23T10:32:09.719Z"
   },
   {
    "duration": 9,
    "start_time": "2023-05-23T10:32:10.575Z"
   },
   {
    "duration": 6,
    "start_time": "2023-05-23T10:32:13.456Z"
   },
   {
    "duration": 15,
    "start_time": "2023-05-23T10:32:22.079Z"
   },
   {
    "duration": 22,
    "start_time": "2023-05-23T10:32:23.348Z"
   },
   {
    "duration": 21,
    "start_time": "2023-05-23T10:32:24.012Z"
   },
   {
    "duration": 3,
    "start_time": "2023-05-23T10:32:28.814Z"
   },
   {
    "duration": 173,
    "start_time": "2023-05-23T10:32:29.744Z"
   },
   {
    "duration": 3,
    "start_time": "2023-05-23T10:32:31.704Z"
   },
   {
    "duration": 118,
    "start_time": "2023-05-23T10:32:34.071Z"
   },
   {
    "duration": 4,
    "start_time": "2023-05-23T10:32:36.285Z"
   },
   {
    "duration": 174,
    "start_time": "2023-05-23T10:32:36.806Z"
   },
   {
    "duration": 2,
    "start_time": "2023-05-23T10:32:38.658Z"
   },
   {
    "duration": 180,
    "start_time": "2023-05-23T10:32:41.162Z"
   },
   {
    "duration": 3,
    "start_time": "2023-05-23T10:32:47.997Z"
   },
   {
    "duration": 196,
    "start_time": "2023-05-23T10:32:48.646Z"
   },
   {
    "duration": 26,
    "start_time": "2023-05-23T10:32:55.008Z"
   },
   {
    "duration": 12,
    "start_time": "2023-05-23T10:32:58.522Z"
   },
   {
    "duration": 4,
    "start_time": "2023-05-23T10:33:00.839Z"
   },
   {
    "duration": 4,
    "start_time": "2023-05-23T10:33:02.969Z"
   },
   {
    "duration": 4,
    "start_time": "2023-05-23T10:33:03.500Z"
   },
   {
    "duration": 2573,
    "start_time": "2023-05-23T10:33:10.100Z"
   },
   {
    "duration": 591,
    "start_time": "2023-05-23T10:33:12.676Z"
   },
   {
    "duration": 550,
    "start_time": "2023-05-23T10:33:27.389Z"
   },
   {
    "duration": 942,
    "start_time": "2023-05-23T10:33:32.048Z"
   },
   {
    "duration": 2630,
    "start_time": "2023-05-23T10:33:51.549Z"
   },
   {
    "duration": 3,
    "start_time": "2023-05-23T10:34:05.283Z"
   },
   {
    "duration": 2305,
    "start_time": "2023-05-23T10:34:15.319Z"
   },
   {
    "duration": 822,
    "start_time": "2023-05-23T10:34:37.751Z"
   },
   {
    "duration": 3,
    "start_time": "2023-05-23T10:34:57.080Z"
   },
   {
    "duration": 49,
    "start_time": "2023-05-23T10:34:57.087Z"
   },
   {
    "duration": 11,
    "start_time": "2023-05-23T10:34:57.138Z"
   },
   {
    "duration": 44,
    "start_time": "2023-05-23T10:34:57.151Z"
   },
   {
    "duration": 12,
    "start_time": "2023-05-23T10:34:57.197Z"
   },
   {
    "duration": 29,
    "start_time": "2023-05-23T10:34:57.210Z"
   },
   {
    "duration": 16,
    "start_time": "2023-05-23T10:34:57.240Z"
   },
   {
    "duration": 14,
    "start_time": "2023-05-23T10:34:57.258Z"
   },
   {
    "duration": 23,
    "start_time": "2023-05-23T10:34:57.274Z"
   },
   {
    "duration": 8,
    "start_time": "2023-05-23T10:34:57.298Z"
   },
   {
    "duration": 13,
    "start_time": "2023-05-23T10:34:57.309Z"
   },
   {
    "duration": 34,
    "start_time": "2023-05-23T10:34:57.324Z"
   },
   {
    "duration": 26,
    "start_time": "2023-05-23T10:34:57.360Z"
   },
   {
    "duration": 12,
    "start_time": "2023-05-23T10:34:57.387Z"
   },
   {
    "duration": 14,
    "start_time": "2023-05-23T10:34:57.401Z"
   },
   {
    "duration": 15,
    "start_time": "2023-05-23T10:34:57.417Z"
   },
   {
    "duration": 27,
    "start_time": "2023-05-23T10:34:57.434Z"
   },
   {
    "duration": 28,
    "start_time": "2023-05-23T10:34:57.462Z"
   },
   {
    "duration": 16,
    "start_time": "2023-05-23T10:34:57.492Z"
   },
   {
    "duration": 7,
    "start_time": "2023-05-23T10:34:57.510Z"
   },
   {
    "duration": 189,
    "start_time": "2023-05-23T10:34:57.518Z"
   },
   {
    "duration": 2,
    "start_time": "2023-05-23T10:34:57.709Z"
   },
   {
    "duration": 143,
    "start_time": "2023-05-23T10:34:57.713Z"
   },
   {
    "duration": 3,
    "start_time": "2023-05-23T10:34:57.859Z"
   },
   {
    "duration": 174,
    "start_time": "2023-05-23T10:34:57.863Z"
   },
   {
    "duration": 7,
    "start_time": "2023-05-23T10:34:58.039Z"
   },
   {
    "duration": 181,
    "start_time": "2023-05-23T10:34:58.048Z"
   },
   {
    "duration": 2,
    "start_time": "2023-05-23T10:34:58.231Z"
   },
   {
    "duration": 188,
    "start_time": "2023-05-23T10:34:58.245Z"
   },
   {
    "duration": 32,
    "start_time": "2023-05-23T10:34:58.435Z"
   },
   {
    "duration": 11,
    "start_time": "2023-05-23T10:34:58.469Z"
   },
   {
    "duration": 11,
    "start_time": "2023-05-23T10:34:58.481Z"
   },
   {
    "duration": 13,
    "start_time": "2023-05-23T10:34:58.493Z"
   },
   {
    "duration": 8,
    "start_time": "2023-05-23T10:34:58.508Z"
   },
   {
    "duration": 4,
    "start_time": "2023-05-23T10:35:00.444Z"
   },
   {
    "duration": 89,
    "start_time": "2023-05-23T10:35:00.450Z"
   },
   {
    "duration": 18,
    "start_time": "2023-05-23T10:35:00.541Z"
   },
   {
    "duration": 72,
    "start_time": "2023-05-23T10:35:00.562Z"
   },
   {
    "duration": 11,
    "start_time": "2023-05-23T10:35:00.637Z"
   },
   {
    "duration": 50,
    "start_time": "2023-05-23T10:35:00.650Z"
   },
   {
    "duration": 26,
    "start_time": "2023-05-23T10:35:00.702Z"
   },
   {
    "duration": 90,
    "start_time": "2023-05-23T10:35:00.730Z"
   },
   {
    "duration": 58,
    "start_time": "2023-05-23T10:35:00.823Z"
   },
   {
    "duration": 29,
    "start_time": "2023-05-23T10:35:00.883Z"
   },
   {
    "duration": 20,
    "start_time": "2023-05-23T10:35:00.914Z"
   },
   {
    "duration": 15,
    "start_time": "2023-05-23T10:35:00.936Z"
   },
   {
    "duration": 14,
    "start_time": "2023-05-23T10:35:00.954Z"
   },
   {
    "duration": 26,
    "start_time": "2023-05-23T10:35:00.969Z"
   },
   {
    "duration": 34,
    "start_time": "2023-05-23T10:35:00.997Z"
   },
   {
    "duration": 65,
    "start_time": "2023-05-23T10:35:01.033Z"
   },
   {
    "duration": 237,
    "start_time": "2023-05-23T10:35:01.099Z"
   },
   {
    "duration": 77,
    "start_time": "2023-05-23T10:35:01.339Z"
   },
   {
    "duration": 78,
    "start_time": "2023-05-23T10:35:01.418Z"
   },
   {
    "duration": 66,
    "start_time": "2023-05-23T10:35:01.497Z"
   },
   {
    "duration": 226,
    "start_time": "2023-05-23T10:35:01.564Z"
   },
   {
    "duration": 5,
    "start_time": "2023-05-23T10:35:01.797Z"
   },
   {
    "duration": 287,
    "start_time": "2023-05-23T10:35:01.805Z"
   },
   {
    "duration": 50,
    "start_time": "2023-05-23T10:35:02.094Z"
   },
   {
    "duration": 243,
    "start_time": "2023-05-23T10:35:02.145Z"
   },
   {
    "duration": 2,
    "start_time": "2023-05-23T10:35:02.390Z"
   },
   {
    "duration": 261,
    "start_time": "2023-05-23T10:35:02.394Z"
   },
   {
    "duration": 2,
    "start_time": "2023-05-23T10:35:02.656Z"
   },
   {
    "duration": 205,
    "start_time": "2023-05-23T10:35:02.660Z"
   },
   {
    "duration": 27,
    "start_time": "2023-05-23T10:35:02.867Z"
   },
   {
    "duration": 12,
    "start_time": "2023-05-23T10:35:02.895Z"
   },
   {
    "duration": 6,
    "start_time": "2023-05-23T10:35:02.909Z"
   },
   {
    "duration": 29,
    "start_time": "2023-05-23T10:35:02.917Z"
   },
   {
    "duration": 4,
    "start_time": "2023-05-23T10:35:02.948Z"
   },
   {
    "duration": 2381,
    "start_time": "2023-05-23T10:35:02.953Z"
   },
   {
    "duration": 607,
    "start_time": "2023-05-23T10:35:05.336Z"
   },
   {
    "duration": 962,
    "start_time": "2023-05-23T10:35:05.946Z"
   },
   {
    "duration": 5,
    "start_time": "2023-05-23T10:35:06.910Z"
   },
   {
    "duration": 2522,
    "start_time": "2023-05-23T10:35:23.858Z"
   },
   {
    "duration": 2559,
    "start_time": "2023-05-23T10:35:34.557Z"
   },
   {
    "duration": 581,
    "start_time": "2023-05-23T10:36:05.149Z"
   },
   {
    "duration": 887,
    "start_time": "2023-05-23T10:38:43.484Z"
   },
   {
    "duration": 912,
    "start_time": "2023-05-23T10:39:13.568Z"
   },
   {
    "duration": 822,
    "start_time": "2023-05-23T10:39:18.418Z"
   },
   {
    "duration": 871,
    "start_time": "2023-05-23T10:39:29.246Z"
   },
   {
    "duration": 933,
    "start_time": "2023-05-23T10:40:05.894Z"
   },
   {
    "duration": 4,
    "start_time": "2023-05-23T10:40:33.547Z"
   },
   {
    "duration": 5,
    "start_time": "2023-05-23T10:40:36.784Z"
   },
   {
    "duration": 71,
    "start_time": "2023-05-23T10:44:56.653Z"
   },
   {
    "duration": 74,
    "start_time": "2023-05-23T10:45:36.581Z"
   },
   {
    "duration": 134,
    "start_time": "2023-05-23T10:45:42.358Z"
   },
   {
    "duration": 80,
    "start_time": "2023-05-23T10:47:47.266Z"
   },
   {
    "duration": 101,
    "start_time": "2023-05-23T10:48:00.198Z"
   },
   {
    "duration": 83,
    "start_time": "2023-05-23T10:48:40.212Z"
   },
   {
    "duration": 4,
    "start_time": "2023-05-23T10:49:57.664Z"
   },
   {
    "duration": 3,
    "start_time": "2023-05-23T10:50:00.445Z"
   },
   {
    "duration": 11,
    "start_time": "2023-05-23T10:50:20.014Z"
   },
   {
    "duration": 1311,
    "start_time": "2023-05-23T10:50:48.069Z"
   },
   {
    "duration": 853,
    "start_time": "2023-05-23T10:51:59.853Z"
   },
   {
    "duration": 864,
    "start_time": "2023-05-23T10:52:03.745Z"
   },
   {
    "duration": 21,
    "start_time": "2023-05-23T10:52:06.299Z"
   },
   {
    "duration": 960,
    "start_time": "2023-05-23T10:52:11.691Z"
   },
   {
    "duration": 1314,
    "start_time": "2023-05-23T10:53:07.938Z"
   },
   {
    "duration": 3,
    "start_time": "2023-05-23T10:55:56.885Z"
   },
   {
    "duration": 3,
    "start_time": "2023-05-23T10:56:00.078Z"
   },
   {
    "duration": 3,
    "start_time": "2023-05-23T11:13:22.059Z"
   },
   {
    "duration": 2570,
    "start_time": "2023-05-23T11:14:17.937Z"
   },
   {
    "duration": 2634,
    "start_time": "2023-05-23T11:15:47.736Z"
   },
   {
    "duration": 2316,
    "start_time": "2023-05-23T11:16:22.083Z"
   },
   {
    "duration": 1449,
    "start_time": "2023-05-23T11:16:55.540Z"
   },
   {
    "duration": 2181,
    "start_time": "2023-05-23T11:17:53.839Z"
   },
   {
    "duration": 1670,
    "start_time": "2023-05-23T11:18:57.638Z"
   },
   {
    "duration": 1415,
    "start_time": "2023-05-23T11:19:29.107Z"
   },
   {
    "duration": 1333,
    "start_time": "2023-05-23T11:20:19.652Z"
   },
   {
    "duration": 1418,
    "start_time": "2023-05-23T11:20:31.507Z"
   },
   {
    "duration": 2450,
    "start_time": "2023-05-23T11:22:15.271Z"
   },
   {
    "duration": 1816,
    "start_time": "2023-05-23T11:22:25.301Z"
   },
   {
    "duration": 1985,
    "start_time": "2023-05-23T11:23:07.272Z"
   },
   {
    "duration": 950,
    "start_time": "2023-05-23T11:23:41.863Z"
   },
   {
    "duration": 872,
    "start_time": "2023-05-23T11:23:46.558Z"
   },
   {
    "duration": 19,
    "start_time": "2023-05-23T11:23:48.235Z"
   },
   {
    "duration": 866,
    "start_time": "2023-05-23T11:24:02.569Z"
   },
   {
    "duration": 2968,
    "start_time": "2023-05-23T11:24:17.383Z"
   },
   {
    "duration": 3637,
    "start_time": "2023-05-23T11:25:09.403Z"
   },
   {
    "duration": 3,
    "start_time": "2023-05-23T11:25:36.982Z"
   },
   {
    "duration": 44,
    "start_time": "2023-05-23T11:25:36.989Z"
   },
   {
    "duration": 11,
    "start_time": "2023-05-23T11:25:37.036Z"
   },
   {
    "duration": 62,
    "start_time": "2023-05-23T11:25:37.048Z"
   },
   {
    "duration": 15,
    "start_time": "2023-05-23T11:25:37.113Z"
   },
   {
    "duration": 33,
    "start_time": "2023-05-23T11:25:37.130Z"
   },
   {
    "duration": 10,
    "start_time": "2023-05-23T11:25:37.165Z"
   },
   {
    "duration": 30,
    "start_time": "2023-05-23T11:25:37.177Z"
   },
   {
    "duration": 17,
    "start_time": "2023-05-23T11:25:37.209Z"
   },
   {
    "duration": 6,
    "start_time": "2023-05-23T11:25:37.228Z"
   },
   {
    "duration": 27,
    "start_time": "2023-05-23T11:25:37.236Z"
   },
   {
    "duration": 15,
    "start_time": "2023-05-23T11:25:37.264Z"
   },
   {
    "duration": 15,
    "start_time": "2023-05-23T11:25:37.280Z"
   },
   {
    "duration": 11,
    "start_time": "2023-05-23T11:25:37.297Z"
   },
   {
    "duration": 12,
    "start_time": "2023-05-23T11:25:37.310Z"
   },
   {
    "duration": 5,
    "start_time": "2023-05-23T11:25:37.324Z"
   },
   {
    "duration": 38,
    "start_time": "2023-05-23T11:25:37.331Z"
   },
   {
    "duration": 33,
    "start_time": "2023-05-23T11:25:37.370Z"
   },
   {
    "duration": 47,
    "start_time": "2023-05-23T11:25:37.405Z"
   },
   {
    "duration": 18,
    "start_time": "2023-05-23T11:25:37.454Z"
   },
   {
    "duration": 180,
    "start_time": "2023-05-23T11:25:37.475Z"
   },
   {
    "duration": 2,
    "start_time": "2023-05-23T11:25:37.657Z"
   },
   {
    "duration": 145,
    "start_time": "2023-05-23T11:25:37.661Z"
   },
   {
    "duration": 3,
    "start_time": "2023-05-23T11:25:37.808Z"
   },
   {
    "duration": 194,
    "start_time": "2023-05-23T11:25:37.812Z"
   },
   {
    "duration": 3,
    "start_time": "2023-05-23T11:25:38.008Z"
   },
   {
    "duration": 254,
    "start_time": "2023-05-23T11:25:38.013Z"
   },
   {
    "duration": 3,
    "start_time": "2023-05-23T11:25:38.268Z"
   },
   {
    "duration": 229,
    "start_time": "2023-05-23T11:25:38.274Z"
   },
   {
    "duration": 27,
    "start_time": "2023-05-23T11:25:38.505Z"
   },
   {
    "duration": 25,
    "start_time": "2023-05-23T11:25:38.533Z"
   },
   {
    "duration": 12,
    "start_time": "2023-05-23T11:25:38.560Z"
   },
   {
    "duration": 8,
    "start_time": "2023-05-23T11:25:38.574Z"
   },
   {
    "duration": 13,
    "start_time": "2023-05-23T11:25:38.583Z"
   },
   {
    "duration": 577,
    "start_time": "2023-05-23T11:25:38.597Z"
   },
   {
    "duration": 573,
    "start_time": "2023-05-23T11:25:39.176Z"
   },
   {
    "duration": 902,
    "start_time": "2023-05-23T11:25:39.751Z"
   },
   {
    "duration": 2865,
    "start_time": "2023-05-23T11:25:40.654Z"
   },
   {
    "duration": 3,
    "start_time": "2023-05-23T11:25:54.947Z"
   },
   {
    "duration": 58,
    "start_time": "2023-05-23T11:25:54.952Z"
   },
   {
    "duration": 11,
    "start_time": "2023-05-23T11:25:55.013Z"
   },
   {
    "duration": 41,
    "start_time": "2023-05-23T11:25:55.026Z"
   },
   {
    "duration": 12,
    "start_time": "2023-05-23T11:25:55.069Z"
   },
   {
    "duration": 28,
    "start_time": "2023-05-23T11:25:55.082Z"
   },
   {
    "duration": 10,
    "start_time": "2023-05-23T11:25:55.112Z"
   },
   {
    "duration": 28,
    "start_time": "2023-05-23T11:25:55.124Z"
   },
   {
    "duration": 32,
    "start_time": "2023-05-23T11:25:55.153Z"
   },
   {
    "duration": 7,
    "start_time": "2023-05-23T11:25:55.186Z"
   },
   {
    "duration": 24,
    "start_time": "2023-05-23T11:25:55.196Z"
   },
   {
    "duration": 12,
    "start_time": "2023-05-23T11:25:55.221Z"
   },
   {
    "duration": 10,
    "start_time": "2023-05-23T11:25:55.235Z"
   },
   {
    "duration": 12,
    "start_time": "2023-05-23T11:25:55.246Z"
   },
   {
    "duration": 21,
    "start_time": "2023-05-23T11:25:55.260Z"
   },
   {
    "duration": 5,
    "start_time": "2023-05-23T11:25:55.283Z"
   },
   {
    "duration": 35,
    "start_time": "2023-05-23T11:25:55.290Z"
   },
   {
    "duration": 30,
    "start_time": "2023-05-23T11:25:55.327Z"
   },
   {
    "duration": 18,
    "start_time": "2023-05-23T11:25:55.359Z"
   },
   {
    "duration": 10,
    "start_time": "2023-05-23T11:25:55.379Z"
   },
   {
    "duration": 185,
    "start_time": "2023-05-23T11:25:55.391Z"
   },
   {
    "duration": 3,
    "start_time": "2023-05-23T11:25:55.579Z"
   },
   {
    "duration": 145,
    "start_time": "2023-05-23T11:25:55.584Z"
   },
   {
    "duration": 3,
    "start_time": "2023-05-23T11:25:55.731Z"
   },
   {
    "duration": 186,
    "start_time": "2023-05-23T11:25:55.746Z"
   },
   {
    "duration": 3,
    "start_time": "2023-05-23T11:25:55.934Z"
   },
   {
    "duration": 200,
    "start_time": "2023-05-23T11:25:55.946Z"
   },
   {
    "duration": 2,
    "start_time": "2023-05-23T11:25:56.148Z"
   },
   {
    "duration": 224,
    "start_time": "2023-05-23T11:25:56.155Z"
   },
   {
    "duration": 28,
    "start_time": "2023-05-23T11:25:56.380Z"
   },
   {
    "duration": 13,
    "start_time": "2023-05-23T11:25:56.410Z"
   },
   {
    "duration": 22,
    "start_time": "2023-05-23T11:25:56.425Z"
   },
   {
    "duration": 4,
    "start_time": "2023-05-23T11:25:56.449Z"
   },
   {
    "duration": 12,
    "start_time": "2023-05-23T11:25:56.454Z"
   },
   {
    "duration": 1084,
    "start_time": "2023-05-23T11:25:56.468Z"
   },
   {
    "duration": 570,
    "start_time": "2023-05-23T11:25:57.554Z"
   },
   {
    "duration": 894,
    "start_time": "2023-05-23T11:25:58.126Z"
   },
   {
    "duration": 28,
    "start_time": "2023-05-23T11:25:59.022Z"
   },
   {
    "duration": 21,
    "start_time": "2023-05-23T11:27:39.538Z"
   },
   {
    "duration": 3,
    "start_time": "2023-05-23T11:28:01.197Z"
   },
   {
    "duration": 60,
    "start_time": "2023-05-23T11:28:01.207Z"
   },
   {
    "duration": 12,
    "start_time": "2023-05-23T11:28:01.269Z"
   },
   {
    "duration": 88,
    "start_time": "2023-05-23T11:28:01.282Z"
   },
   {
    "duration": 25,
    "start_time": "2023-05-23T11:28:01.373Z"
   },
   {
    "duration": 42,
    "start_time": "2023-05-23T11:28:01.400Z"
   },
   {
    "duration": 26,
    "start_time": "2023-05-23T11:28:01.444Z"
   },
   {
    "duration": 56,
    "start_time": "2023-05-23T11:28:01.472Z"
   },
   {
    "duration": 56,
    "start_time": "2023-05-23T11:28:01.530Z"
   },
   {
    "duration": 79,
    "start_time": "2023-05-23T11:28:01.588Z"
   },
   {
    "duration": 51,
    "start_time": "2023-05-23T11:28:01.670Z"
   },
   {
    "duration": 30,
    "start_time": "2023-05-23T11:28:01.723Z"
   },
   {
    "duration": 35,
    "start_time": "2023-05-23T11:28:01.755Z"
   },
   {
    "duration": 43,
    "start_time": "2023-05-23T11:28:01.791Z"
   },
   {
    "duration": 54,
    "start_time": "2023-05-23T11:28:01.836Z"
   },
   {
    "duration": 39,
    "start_time": "2023-05-23T11:28:01.892Z"
   },
   {
    "duration": 39,
    "start_time": "2023-05-23T11:28:01.932Z"
   },
   {
    "duration": 82,
    "start_time": "2023-05-23T11:28:01.973Z"
   },
   {
    "duration": 21,
    "start_time": "2023-05-23T11:28:02.057Z"
   },
   {
    "duration": 31,
    "start_time": "2023-05-23T11:28:02.079Z"
   },
   {
    "duration": 214,
    "start_time": "2023-05-23T11:28:02.112Z"
   },
   {
    "duration": 2,
    "start_time": "2023-05-23T11:28:02.329Z"
   },
   {
    "duration": 164,
    "start_time": "2023-05-23T11:28:02.333Z"
   },
   {
    "duration": 3,
    "start_time": "2023-05-23T11:28:02.499Z"
   },
   {
    "duration": 209,
    "start_time": "2023-05-23T11:28:02.504Z"
   },
   {
    "duration": 2,
    "start_time": "2023-05-23T11:28:02.715Z"
   },
   {
    "duration": 200,
    "start_time": "2023-05-23T11:28:02.718Z"
   },
   {
    "duration": 2,
    "start_time": "2023-05-23T11:28:02.920Z"
   },
   {
    "duration": 218,
    "start_time": "2023-05-23T11:28:02.925Z"
   },
   {
    "duration": 24,
    "start_time": "2023-05-23T11:28:03.146Z"
   },
   {
    "duration": 17,
    "start_time": "2023-05-23T11:28:03.172Z"
   },
   {
    "duration": 19,
    "start_time": "2023-05-23T11:28:03.190Z"
   },
   {
    "duration": 20,
    "start_time": "2023-05-23T11:28:03.211Z"
   },
   {
    "duration": 18,
    "start_time": "2023-05-23T11:28:03.232Z"
   },
   {
    "duration": 557,
    "start_time": "2023-05-23T11:28:03.252Z"
   },
   {
    "duration": 557,
    "start_time": "2023-05-23T11:28:03.810Z"
   },
   {
    "duration": 870,
    "start_time": "2023-05-23T11:28:04.369Z"
   },
   {
    "duration": 21,
    "start_time": "2023-05-23T11:28:05.246Z"
   },
   {
    "duration": 2405,
    "start_time": "2023-05-23T11:28:22.773Z"
   },
   {
    "duration": 123,
    "start_time": "2023-05-23T11:34:48.706Z"
   },
   {
    "duration": 15,
    "start_time": "2023-05-23T11:35:22.366Z"
   },
   {
    "duration": 13,
    "start_time": "2023-05-23T11:35:49.662Z"
   },
   {
    "duration": 13,
    "start_time": "2023-05-23T11:35:55.892Z"
   },
   {
    "duration": 15,
    "start_time": "2023-05-23T11:36:39.366Z"
   },
   {
    "duration": 17,
    "start_time": "2023-05-23T11:36:52.444Z"
   },
   {
    "duration": 14,
    "start_time": "2023-05-23T11:40:15.266Z"
   },
   {
    "duration": 13,
    "start_time": "2023-05-23T11:40:34.500Z"
   },
   {
    "duration": 15,
    "start_time": "2023-05-23T11:40:59.833Z"
   },
   {
    "duration": 71,
    "start_time": "2023-05-23T11:42:41.908Z"
   },
   {
    "duration": 130,
    "start_time": "2023-05-23T11:42:53.669Z"
   },
   {
    "duration": 94,
    "start_time": "2023-05-23T11:43:03.120Z"
   },
   {
    "duration": 115,
    "start_time": "2023-05-23T11:46:14.848Z"
   },
   {
    "duration": 13,
    "start_time": "2023-05-23T11:48:16.779Z"
   },
   {
    "duration": 504,
    "start_time": "2023-05-23T11:49:59.571Z"
   },
   {
    "duration": 485,
    "start_time": "2023-05-23T11:55:18.018Z"
   },
   {
    "duration": 560,
    "start_time": "2023-05-23T11:55:34.986Z"
   },
   {
    "duration": 162,
    "start_time": "2023-05-23T11:57:22.865Z"
   },
   {
    "duration": 211,
    "start_time": "2023-05-23T12:10:14.767Z"
   },
   {
    "duration": 187,
    "start_time": "2023-05-23T12:12:03.529Z"
   },
   {
    "duration": 522,
    "start_time": "2023-05-23T12:13:02.168Z"
   },
   {
    "duration": 14,
    "start_time": "2023-05-23T12:13:10.435Z"
   },
   {
    "duration": 118,
    "start_time": "2023-05-23T12:46:51.152Z"
   },
   {
    "duration": 13,
    "start_time": "2023-05-23T12:47:07.251Z"
   },
   {
    "duration": 82,
    "start_time": "2023-05-23T12:47:56.494Z"
   },
   {
    "duration": 11,
    "start_time": "2023-05-23T12:48:00.466Z"
   },
   {
    "duration": 946,
    "start_time": "2023-05-23T12:48:18.044Z"
   },
   {
    "duration": 10,
    "start_time": "2023-05-23T12:48:20.905Z"
   },
   {
    "duration": 14,
    "start_time": "2023-05-23T12:49:45.679Z"
   },
   {
    "duration": 15,
    "start_time": "2023-05-23T12:50:09.489Z"
   },
   {
    "duration": 15,
    "start_time": "2023-05-23T12:50:10.184Z"
   },
   {
    "duration": 15,
    "start_time": "2023-05-23T12:50:10.755Z"
   },
   {
    "duration": 14,
    "start_time": "2023-05-23T12:50:11.153Z"
   },
   {
    "duration": 6,
    "start_time": "2023-05-23T12:50:20.447Z"
   },
   {
    "duration": 17,
    "start_time": "2023-05-23T12:50:29.690Z"
   },
   {
    "duration": 7,
    "start_time": "2023-05-23T12:51:26.387Z"
   },
   {
    "duration": 14,
    "start_time": "2023-05-23T12:51:38.707Z"
   },
   {
    "duration": 13,
    "start_time": "2023-05-23T12:52:09.731Z"
   },
   {
    "duration": 13,
    "start_time": "2023-05-23T12:52:43.708Z"
   },
   {
    "duration": 22,
    "start_time": "2023-05-23T12:52:59.684Z"
   },
   {
    "duration": 103,
    "start_time": "2023-05-23T12:55:32.782Z"
   },
   {
    "duration": 14,
    "start_time": "2023-05-23T12:56:02.345Z"
   },
   {
    "duration": 14,
    "start_time": "2023-05-23T13:03:09.949Z"
   },
   {
    "duration": 19,
    "start_time": "2023-05-23T13:03:39.672Z"
   },
   {
    "duration": 14,
    "start_time": "2023-05-23T13:11:06.153Z"
   },
   {
    "duration": 16,
    "start_time": "2023-05-23T13:17:41.609Z"
   },
   {
    "duration": 15,
    "start_time": "2023-05-23T13:19:04.282Z"
   },
   {
    "duration": 1010,
    "start_time": "2023-05-23T13:34:22.230Z"
   },
   {
    "duration": 869,
    "start_time": "2023-05-23T13:34:28.778Z"
   },
   {
    "duration": 895,
    "start_time": "2023-05-23T13:34:52.918Z"
   },
   {
    "duration": 238,
    "start_time": "2023-05-23T13:35:05.777Z"
   },
   {
    "duration": 3,
    "start_time": "2023-05-23T13:35:33.513Z"
   },
   {
    "duration": 48,
    "start_time": "2023-05-23T13:35:33.518Z"
   },
   {
    "duration": 9,
    "start_time": "2023-05-23T13:35:33.569Z"
   },
   {
    "duration": 42,
    "start_time": "2023-05-23T13:35:33.580Z"
   },
   {
    "duration": 12,
    "start_time": "2023-05-23T13:35:33.624Z"
   },
   {
    "duration": 29,
    "start_time": "2023-05-23T13:35:33.637Z"
   },
   {
    "duration": 10,
    "start_time": "2023-05-23T13:35:33.668Z"
   },
   {
    "duration": 21,
    "start_time": "2023-05-23T13:35:33.680Z"
   },
   {
    "duration": 15,
    "start_time": "2023-05-23T13:35:33.703Z"
   },
   {
    "duration": 7,
    "start_time": "2023-05-23T13:35:33.720Z"
   },
   {
    "duration": 9,
    "start_time": "2023-05-23T13:35:33.747Z"
   },
   {
    "duration": 14,
    "start_time": "2023-05-23T13:35:33.758Z"
   },
   {
    "duration": 9,
    "start_time": "2023-05-23T13:35:33.774Z"
   },
   {
    "duration": 6,
    "start_time": "2023-05-23T13:35:33.785Z"
   },
   {
    "duration": 22,
    "start_time": "2023-05-23T13:35:33.793Z"
   },
   {
    "duration": 11,
    "start_time": "2023-05-23T13:35:33.817Z"
   },
   {
    "duration": 34,
    "start_time": "2023-05-23T13:35:33.830Z"
   },
   {
    "duration": 25,
    "start_time": "2023-05-23T13:35:33.866Z"
   },
   {
    "duration": 20,
    "start_time": "2023-05-23T13:35:33.893Z"
   },
   {
    "duration": 17,
    "start_time": "2023-05-23T13:35:33.915Z"
   },
   {
    "duration": 187,
    "start_time": "2023-05-23T13:35:33.947Z"
   },
   {
    "duration": 10,
    "start_time": "2023-05-23T13:35:34.136Z"
   },
   {
    "duration": 144,
    "start_time": "2023-05-23T13:35:34.148Z"
   },
   {
    "duration": 3,
    "start_time": "2023-05-23T13:35:34.294Z"
   },
   {
    "duration": 199,
    "start_time": "2023-05-23T13:35:34.299Z"
   },
   {
    "duration": 3,
    "start_time": "2023-05-23T13:35:34.499Z"
   },
   {
    "duration": 197,
    "start_time": "2023-05-23T13:35:34.504Z"
   },
   {
    "duration": 3,
    "start_time": "2023-05-23T13:35:34.702Z"
   },
   {
    "duration": 231,
    "start_time": "2023-05-23T13:35:34.708Z"
   },
   {
    "duration": 32,
    "start_time": "2023-05-23T13:35:34.941Z"
   },
   {
    "duration": 13,
    "start_time": "2023-05-23T13:35:34.975Z"
   },
   {
    "duration": 19,
    "start_time": "2023-05-23T13:35:34.990Z"
   },
   {
    "duration": 19,
    "start_time": "2023-05-23T13:35:35.011Z"
   },
   {
    "duration": 33,
    "start_time": "2023-05-23T13:35:35.032Z"
   },
   {
    "duration": 617,
    "start_time": "2023-05-23T13:35:35.067Z"
   },
   {
    "duration": 564,
    "start_time": "2023-05-23T13:35:35.686Z"
   },
   {
    "duration": 874,
    "start_time": "2023-05-23T13:35:36.252Z"
   },
   {
    "duration": 245,
    "start_time": "2023-05-23T13:35:37.128Z"
   },
   {
    "duration": 3,
    "start_time": "2023-05-23T13:36:46.485Z"
   },
   {
    "duration": 35,
    "start_time": "2023-05-23T13:36:47.722Z"
   },
   {
    "duration": 12,
    "start_time": "2023-05-23T13:36:48.404Z"
   },
   {
    "duration": 44,
    "start_time": "2023-05-23T13:36:49.047Z"
   },
   {
    "duration": 11,
    "start_time": "2023-05-23T13:36:51.795Z"
   },
   {
    "duration": 33,
    "start_time": "2023-05-23T13:36:52.583Z"
   },
   {
    "duration": 11,
    "start_time": "2023-05-23T13:36:53.296Z"
   },
   {
    "duration": 11,
    "start_time": "2023-05-23T13:36:54.591Z"
   },
   {
    "duration": 13,
    "start_time": "2023-05-23T13:36:55.915Z"
   },
   {
    "duration": 7,
    "start_time": "2023-05-23T13:36:57.487Z"
   },
   {
    "duration": 8,
    "start_time": "2023-05-23T13:36:58.791Z"
   },
   {
    "duration": 7,
    "start_time": "2023-05-23T13:36:59.980Z"
   },
   {
    "duration": 8,
    "start_time": "2023-05-23T13:37:05.316Z"
   },
   {
    "duration": 6,
    "start_time": "2023-05-23T13:37:06.147Z"
   },
   {
    "duration": 9,
    "start_time": "2023-05-23T13:37:06.897Z"
   },
   {
    "duration": 6,
    "start_time": "2023-05-23T13:37:07.667Z"
   },
   {
    "duration": 15,
    "start_time": "2023-05-23T13:37:11.961Z"
   },
   {
    "duration": 23,
    "start_time": "2023-05-23T13:37:12.701Z"
   },
   {
    "duration": 18,
    "start_time": "2023-05-23T13:37:13.422Z"
   },
   {
    "duration": 3,
    "start_time": "2023-05-23T13:37:15.915Z"
   },
   {
    "duration": 172,
    "start_time": "2023-05-23T13:37:16.788Z"
   },
   {
    "duration": 2,
    "start_time": "2023-05-23T13:37:19.088Z"
   },
   {
    "duration": 127,
    "start_time": "2023-05-23T13:37:19.797Z"
   },
   {
    "duration": 2,
    "start_time": "2023-05-23T13:37:23.883Z"
   },
   {
    "duration": 170,
    "start_time": "2023-05-23T13:37:26.081Z"
   },
   {
    "duration": 2,
    "start_time": "2023-05-23T13:37:27.292Z"
   },
   {
    "duration": 199,
    "start_time": "2023-05-23T13:37:31.447Z"
   },
   {
    "duration": 3,
    "start_time": "2023-05-23T13:37:32.952Z"
   },
   {
    "duration": 194,
    "start_time": "2023-05-23T13:37:33.591Z"
   },
   {
    "duration": 40,
    "start_time": "2023-05-23T13:37:41.002Z"
   },
   {
    "duration": 13,
    "start_time": "2023-05-23T13:37:41.752Z"
   },
   {
    "duration": 4,
    "start_time": "2023-05-23T13:37:42.910Z"
   },
   {
    "duration": 4,
    "start_time": "2023-05-23T13:37:43.517Z"
   },
   {
    "duration": 5,
    "start_time": "2023-05-23T13:37:44.060Z"
   },
   {
    "duration": 1125,
    "start_time": "2023-05-23T13:37:44.753Z"
   },
   {
    "duration": 568,
    "start_time": "2023-05-23T13:37:45.880Z"
   },
   {
    "duration": 858,
    "start_time": "2023-05-23T13:37:54.479Z"
   },
   {
    "duration": 256,
    "start_time": "2023-05-23T13:37:56.147Z"
   },
   {
    "duration": 233,
    "start_time": "2023-05-23T13:46:25.585Z"
   },
   {
    "duration": 3,
    "start_time": "2023-05-23T13:49:35.795Z"
   },
   {
    "duration": 54,
    "start_time": "2023-05-23T13:49:35.801Z"
   },
   {
    "duration": 12,
    "start_time": "2023-05-23T13:49:35.857Z"
   },
   {
    "duration": 51,
    "start_time": "2023-05-23T13:49:35.870Z"
   },
   {
    "duration": 11,
    "start_time": "2023-05-23T13:49:35.923Z"
   },
   {
    "duration": 21,
    "start_time": "2023-05-23T13:49:35.947Z"
   },
   {
    "duration": 10,
    "start_time": "2023-05-23T13:49:35.970Z"
   },
   {
    "duration": 25,
    "start_time": "2023-05-23T13:49:35.982Z"
   },
   {
    "duration": 30,
    "start_time": "2023-05-23T13:49:36.009Z"
   },
   {
    "duration": 15,
    "start_time": "2023-05-23T13:49:36.041Z"
   },
   {
    "duration": 12,
    "start_time": "2023-05-23T13:49:36.060Z"
   },
   {
    "duration": 12,
    "start_time": "2023-05-23T13:49:36.073Z"
   },
   {
    "duration": 35,
    "start_time": "2023-05-23T13:49:36.087Z"
   },
   {
    "duration": 42,
    "start_time": "2023-05-23T13:49:36.124Z"
   },
   {
    "duration": 15,
    "start_time": "2023-05-23T13:49:36.168Z"
   },
   {
    "duration": 14,
    "start_time": "2023-05-23T13:49:36.185Z"
   },
   {
    "duration": 30,
    "start_time": "2023-05-23T13:49:36.200Z"
   },
   {
    "duration": 31,
    "start_time": "2023-05-23T13:49:36.232Z"
   },
   {
    "duration": 21,
    "start_time": "2023-05-23T13:49:36.265Z"
   },
   {
    "duration": 24,
    "start_time": "2023-05-23T13:49:36.288Z"
   },
   {
    "duration": 187,
    "start_time": "2023-05-23T13:49:36.313Z"
   },
   {
    "duration": 3,
    "start_time": "2023-05-23T13:49:36.502Z"
   },
   {
    "duration": 147,
    "start_time": "2023-05-23T13:49:36.507Z"
   },
   {
    "duration": 3,
    "start_time": "2023-05-23T13:49:36.656Z"
   },
   {
    "duration": 196,
    "start_time": "2023-05-23T13:49:36.661Z"
   },
   {
    "duration": 3,
    "start_time": "2023-05-23T13:49:36.859Z"
   },
   {
    "duration": 203,
    "start_time": "2023-05-23T13:49:36.863Z"
   },
   {
    "duration": 2,
    "start_time": "2023-05-23T13:49:37.068Z"
   },
   {
    "duration": 207,
    "start_time": "2023-05-23T13:49:37.073Z"
   },
   {
    "duration": 27,
    "start_time": "2023-05-23T13:49:37.282Z"
   },
   {
    "duration": 12,
    "start_time": "2023-05-23T13:49:37.311Z"
   },
   {
    "duration": 26,
    "start_time": "2023-05-23T13:49:37.325Z"
   },
   {
    "duration": 19,
    "start_time": "2023-05-23T13:49:37.353Z"
   },
   {
    "duration": 30,
    "start_time": "2023-05-23T13:49:37.374Z"
   },
   {
    "duration": 578,
    "start_time": "2023-05-23T13:49:37.406Z"
   },
   {
    "duration": 579,
    "start_time": "2023-05-23T13:49:37.986Z"
   },
   {
    "duration": 826,
    "start_time": "2023-05-23T13:49:38.566Z"
   },
   {
    "duration": 244,
    "start_time": "2023-05-23T13:49:39.393Z"
   },
   {
    "duration": 51,
    "start_time": "2023-05-23T18:30:39.863Z"
   },
   {
    "duration": 8,
    "start_time": "2023-05-23T18:30:54.704Z"
   },
   {
    "duration": 8,
    "start_time": "2023-05-23T18:31:19.880Z"
   },
   {
    "duration": 1384,
    "start_time": "2023-05-23T18:31:29.689Z"
   },
   {
    "duration": 101,
    "start_time": "2023-05-23T18:31:32.738Z"
   },
   {
    "duration": 12,
    "start_time": "2023-05-23T18:31:37.408Z"
   },
   {
    "duration": 87,
    "start_time": "2023-05-23T18:31:37.981Z"
   },
   {
    "duration": 12,
    "start_time": "2023-05-23T18:31:38.576Z"
   },
   {
    "duration": 74,
    "start_time": "2023-05-23T18:31:39.105Z"
   },
   {
    "duration": 12,
    "start_time": "2023-05-23T18:31:39.660Z"
   },
   {
    "duration": 10,
    "start_time": "2023-05-23T18:31:40.746Z"
   },
   {
    "duration": 13,
    "start_time": "2023-05-23T18:31:41.238Z"
   },
   {
    "duration": 7,
    "start_time": "2023-05-23T18:31:41.772Z"
   },
   {
    "duration": 8,
    "start_time": "2023-05-23T18:31:42.278Z"
   },
   {
    "duration": 6,
    "start_time": "2023-05-23T18:31:42.854Z"
   },
   {
    "duration": 7,
    "start_time": "2023-05-23T18:31:44.337Z"
   },
   {
    "duration": 6,
    "start_time": "2023-05-23T18:31:45.550Z"
   },
   {
    "duration": 12,
    "start_time": "2023-05-23T18:31:46.071Z"
   },
   {
    "duration": 6,
    "start_time": "2023-05-23T18:31:46.561Z"
   },
   {
    "duration": 19,
    "start_time": "2023-05-23T18:31:48.396Z"
   },
   {
    "duration": 23,
    "start_time": "2023-05-23T18:31:49.363Z"
   },
   {
    "duration": 17,
    "start_time": "2023-05-23T18:31:51.286Z"
   },
   {
    "duration": 3,
    "start_time": "2023-05-23T18:31:53.138Z"
   },
   {
    "duration": 185,
    "start_time": "2023-05-23T18:31:53.681Z"
   },
   {
    "duration": 2,
    "start_time": "2023-05-23T18:31:55.887Z"
   },
   {
    "duration": 131,
    "start_time": "2023-05-23T18:31:56.457Z"
   },
   {
    "duration": 3,
    "start_time": "2023-05-23T18:31:58.958Z"
   },
   {
    "duration": 182,
    "start_time": "2023-05-23T18:31:59.386Z"
   },
   {
    "duration": 3,
    "start_time": "2023-05-23T18:32:00.842Z"
   },
   {
    "duration": 191,
    "start_time": "2023-05-23T18:32:01.177Z"
   },
   {
    "duration": 2,
    "start_time": "2023-05-23T18:32:02.991Z"
   },
   {
    "duration": 198,
    "start_time": "2023-05-23T18:32:03.479Z"
   },
   {
    "duration": 28,
    "start_time": "2023-05-23T18:32:08.203Z"
   },
   {
    "duration": 15,
    "start_time": "2023-05-23T18:32:09.838Z"
   },
   {
    "duration": 4,
    "start_time": "2023-05-23T18:32:11.105Z"
   },
   {
    "duration": 4,
    "start_time": "2023-05-23T18:32:11.846Z"
   },
   {
    "duration": 4,
    "start_time": "2023-05-23T18:32:13.660Z"
   },
   {
    "duration": 599,
    "start_time": "2023-05-23T18:32:17.600Z"
   },
   {
    "duration": 667,
    "start_time": "2023-05-23T18:32:18.790Z"
   },
   {
    "duration": 883,
    "start_time": "2023-05-23T18:32:21.401Z"
   },
   {
    "duration": 17,
    "start_time": "2023-05-23T18:32:31.679Z"
   },
   {
    "duration": 16,
    "start_time": "2023-05-23T18:36:49.600Z"
   },
   {
    "duration": 7,
    "start_time": "2023-05-23T18:39:50.195Z"
   },
   {
    "duration": 11,
    "start_time": "2023-05-23T18:40:15.937Z"
   },
   {
    "duration": 9,
    "start_time": "2023-05-23T18:40:24.083Z"
   },
   {
    "duration": 75,
    "start_time": "2023-05-23T18:40:29.243Z"
   },
   {
    "duration": 16,
    "start_time": "2023-05-23T18:40:32.399Z"
   },
   {
    "duration": 1294,
    "start_time": "2023-05-23T18:42:05.078Z"
   },
   {
    "duration": 4,
    "start_time": "2023-05-23T18:42:16.152Z"
   },
   {
    "duration": 15,
    "start_time": "2023-05-23T18:43:43.039Z"
   },
   {
    "duration": 9,
    "start_time": "2023-05-23T18:46:45.781Z"
   },
   {
    "duration": 11,
    "start_time": "2023-05-23T18:46:57.609Z"
   },
   {
    "duration": 8,
    "start_time": "2023-05-23T18:47:04.061Z"
   },
   {
    "duration": 15,
    "start_time": "2023-05-23T18:47:48.351Z"
   },
   {
    "duration": 15,
    "start_time": "2023-05-23T18:48:28.752Z"
   },
   {
    "duration": 21,
    "start_time": "2023-05-23T18:48:55.664Z"
   },
   {
    "duration": 9,
    "start_time": "2023-05-23T18:49:14.266Z"
   },
   {
    "duration": 19,
    "start_time": "2023-05-23T18:49:20.502Z"
   },
   {
    "duration": 7,
    "start_time": "2023-05-23T18:53:48.460Z"
   },
   {
    "duration": 6,
    "start_time": "2023-05-23T18:53:49.061Z"
   },
   {
    "duration": 18,
    "start_time": "2023-05-23T18:53:57.199Z"
   },
   {
    "duration": 112,
    "start_time": "2023-05-23T18:54:30.064Z"
   },
   {
    "duration": 160,
    "start_time": "2023-05-23T18:54:35.579Z"
   },
   {
    "duration": 7,
    "start_time": "2023-05-23T18:54:49.791Z"
   },
   {
    "duration": 7,
    "start_time": "2023-05-23T18:54:50.245Z"
   },
   {
    "duration": 19,
    "start_time": "2023-05-23T18:54:51.841Z"
   },
   {
    "duration": 18,
    "start_time": "2023-05-23T19:06:03.013Z"
   },
   {
    "duration": 1329,
    "start_time": "2023-05-24T06:58:46.482Z"
   },
   {
    "duration": 90,
    "start_time": "2023-05-24T06:58:48.726Z"
   },
   {
    "duration": 13,
    "start_time": "2023-05-24T06:58:49.416Z"
   },
   {
    "duration": 88,
    "start_time": "2023-05-24T06:58:50.068Z"
   },
   {
    "duration": 13,
    "start_time": "2023-05-24T06:58:50.761Z"
   },
   {
    "duration": 72,
    "start_time": "2023-05-24T06:58:51.360Z"
   },
   {
    "duration": 12,
    "start_time": "2023-05-24T06:58:52.008Z"
   },
   {
    "duration": 10,
    "start_time": "2023-05-24T06:58:53.102Z"
   },
   {
    "duration": 12,
    "start_time": "2023-05-24T06:58:53.671Z"
   },
   {
    "duration": 6,
    "start_time": "2023-05-24T06:58:54.257Z"
   },
   {
    "duration": 8,
    "start_time": "2023-05-24T06:58:54.804Z"
   },
   {
    "duration": 6,
    "start_time": "2023-05-24T06:58:55.369Z"
   },
   {
    "duration": 6,
    "start_time": "2023-05-24T06:58:57.323Z"
   },
   {
    "duration": 5,
    "start_time": "2023-05-24T06:58:57.477Z"
   },
   {
    "duration": 10,
    "start_time": "2023-05-24T06:58:57.642Z"
   },
   {
    "duration": 6,
    "start_time": "2023-05-24T06:59:00.907Z"
   },
   {
    "duration": 21,
    "start_time": "2023-05-24T06:59:03.065Z"
   },
   {
    "duration": 22,
    "start_time": "2023-05-24T06:59:07.418Z"
   },
   {
    "duration": 16,
    "start_time": "2023-05-24T06:59:08.208Z"
   },
   {
    "duration": 2,
    "start_time": "2023-05-24T06:59:11.357Z"
   },
   {
    "duration": 185,
    "start_time": "2023-05-24T06:59:12.157Z"
   },
   {
    "duration": 2,
    "start_time": "2023-05-24T06:59:13.565Z"
   },
   {
    "duration": 128,
    "start_time": "2023-05-24T06:59:14.290Z"
   },
   {
    "duration": 2,
    "start_time": "2023-05-24T06:59:15.765Z"
   },
   {
    "duration": 176,
    "start_time": "2023-05-24T06:59:16.374Z"
   },
   {
    "duration": 2,
    "start_time": "2023-05-24T06:59:17.579Z"
   },
   {
    "duration": 187,
    "start_time": "2023-05-24T06:59:18.179Z"
   },
   {
    "duration": 3,
    "start_time": "2023-05-24T06:59:19.461Z"
   },
   {
    "duration": 182,
    "start_time": "2023-05-24T06:59:20.071Z"
   },
   {
    "duration": 35,
    "start_time": "2023-05-24T06:59:22.417Z"
   },
   {
    "duration": 16,
    "start_time": "2023-05-24T06:59:23.053Z"
   },
   {
    "duration": 4,
    "start_time": "2023-05-24T06:59:23.572Z"
   },
   {
    "duration": 4,
    "start_time": "2023-05-24T06:59:24.056Z"
   },
   {
    "duration": 4,
    "start_time": "2023-05-24T06:59:24.477Z"
   },
   {
    "duration": 560,
    "start_time": "2023-05-24T06:59:25.182Z"
   },
   {
    "duration": 653,
    "start_time": "2023-05-24T06:59:26.225Z"
   },
   {
    "duration": 856,
    "start_time": "2023-05-24T06:59:28.886Z"
   },
   {
    "duration": 4,
    "start_time": "2023-05-24T06:59:29.744Z"
   },
   {
    "duration": 7,
    "start_time": "2023-05-24T06:59:30.786Z"
   },
   {
    "duration": 6,
    "start_time": "2023-05-24T06:59:31.568Z"
   },
   {
    "duration": 6,
    "start_time": "2023-05-24T06:59:32.216Z"
   },
   {
    "duration": 17,
    "start_time": "2023-05-24T06:59:32.967Z"
   },
   {
    "duration": 976,
    "start_time": "2023-05-24T08:55:21.885Z"
   },
   {
    "duration": 3,
    "start_time": "2023-05-24T08:55:22.863Z"
   },
   {
    "duration": 7,
    "start_time": "2023-05-24T08:55:24.003Z"
   },
   {
    "duration": 14,
    "start_time": "2023-05-24T08:55:24.690Z"
   },
   {
    "duration": 16,
    "start_time": "2023-05-24T08:55:26.882Z"
   },
   {
    "duration": 20,
    "start_time": "2023-05-24T08:55:27.886Z"
   },
   {
    "duration": 1083,
    "start_time": "2023-05-24T09:00:02.020Z"
   },
   {
    "duration": 5,
    "start_time": "2023-05-24T09:00:03.106Z"
   },
   {
    "duration": 7,
    "start_time": "2023-05-24T09:00:03.407Z"
   },
   {
    "duration": 20,
    "start_time": "2023-05-24T09:00:04.108Z"
   },
   {
    "duration": 114,
    "start_time": "2023-05-24T09:00:04.607Z"
   },
   {
    "duration": 19,
    "start_time": "2023-05-24T09:00:05.822Z"
   },
   {
    "duration": 19,
    "start_time": "2023-05-24T09:00:09.573Z"
   },
   {
    "duration": 103,
    "start_time": "2023-05-24T09:20:14.988Z"
   },
   {
    "duration": 9,
    "start_time": "2023-05-24T09:21:34.017Z"
   },
   {
    "duration": 2,
    "start_time": "2023-05-24T09:29:01.497Z"
   },
   {
    "duration": 10,
    "start_time": "2023-05-24T09:30:09.561Z"
   },
   {
    "duration": 387,
    "start_time": "2023-05-24T09:30:40.386Z"
   },
   {
    "duration": 390,
    "start_time": "2023-05-24T09:30:53.020Z"
   },
   {
    "duration": 3,
    "start_time": "2023-05-24T09:31:05.785Z"
   },
   {
    "duration": 34,
    "start_time": "2023-05-24T09:37:06.689Z"
   },
   {
    "duration": 32,
    "start_time": "2023-05-24T09:37:37.273Z"
   },
   {
    "duration": 85,
    "start_time": "2023-05-24T09:38:25.215Z"
   },
   {
    "duration": 1376,
    "start_time": "2023-05-24T09:39:01.285Z"
   },
   {
    "duration": 11,
    "start_time": "2023-05-24T09:48:44.674Z"
   },
   {
    "duration": 7,
    "start_time": "2023-05-24T09:57:42.865Z"
   },
   {
    "duration": 6,
    "start_time": "2023-05-24T10:24:41.960Z"
   },
   {
    "duration": 6,
    "start_time": "2023-05-24T10:28:41.177Z"
   },
   {
    "duration": 9,
    "start_time": "2023-05-24T10:29:38.993Z"
   },
   {
    "duration": 9,
    "start_time": "2023-05-24T10:35:30.560Z"
   },
   {
    "duration": 8,
    "start_time": "2023-05-24T10:40:47.164Z"
   },
   {
    "duration": 7,
    "start_time": "2023-05-24T10:40:53.665Z"
   },
   {
    "duration": 1421,
    "start_time": "2023-05-24T10:48:43.849Z"
   },
   {
    "duration": 1496,
    "start_time": "2023-05-24T10:50:57.641Z"
   },
   {
    "duration": 1725,
    "start_time": "2023-05-24T10:51:30.576Z"
   },
   {
    "duration": 18,
    "start_time": "2023-05-24T10:52:18.690Z"
   },
   {
    "duration": 18,
    "start_time": "2023-05-24T10:52:20.149Z"
   },
   {
    "duration": 1409,
    "start_time": "2023-05-24T10:52:57.809Z"
   },
   {
    "duration": 1542,
    "start_time": "2023-05-24T10:54:33.108Z"
   },
   {
    "duration": 3058,
    "start_time": "2023-05-24T10:55:04.889Z"
   },
   {
    "duration": 3,
    "start_time": "2023-05-24T10:55:13.261Z"
   },
   {
    "duration": 86,
    "start_time": "2023-05-24T10:55:13.265Z"
   },
   {
    "duration": 12,
    "start_time": "2023-05-24T10:55:13.353Z"
   },
   {
    "duration": 71,
    "start_time": "2023-05-24T10:55:13.367Z"
   },
   {
    "duration": 16,
    "start_time": "2023-05-24T10:55:13.440Z"
   },
   {
    "duration": 46,
    "start_time": "2023-05-24T10:55:13.458Z"
   },
   {
    "duration": 42,
    "start_time": "2023-05-24T10:55:13.506Z"
   },
   {
    "duration": 49,
    "start_time": "2023-05-24T10:55:13.550Z"
   },
   {
    "duration": 45,
    "start_time": "2023-05-24T10:55:13.600Z"
   },
   {
    "duration": 62,
    "start_time": "2023-05-24T10:55:13.647Z"
   },
   {
    "duration": 68,
    "start_time": "2023-05-24T10:55:13.711Z"
   },
   {
    "duration": 36,
    "start_time": "2023-05-24T10:55:13.780Z"
   },
   {
    "duration": 30,
    "start_time": "2023-05-24T10:55:13.817Z"
   },
   {
    "duration": 13,
    "start_time": "2023-05-24T10:55:13.848Z"
   },
   {
    "duration": 18,
    "start_time": "2023-05-24T10:55:13.862Z"
   },
   {
    "duration": 24,
    "start_time": "2023-05-24T10:55:13.882Z"
   },
   {
    "duration": 27,
    "start_time": "2023-05-24T10:55:13.908Z"
   },
   {
    "duration": 42,
    "start_time": "2023-05-24T10:55:13.937Z"
   },
   {
    "duration": 15,
    "start_time": "2023-05-24T10:55:13.981Z"
   },
   {
    "duration": 21,
    "start_time": "2023-05-24T10:55:13.998Z"
   },
   {
    "duration": 172,
    "start_time": "2023-05-24T10:55:14.020Z"
   },
   {
    "duration": 2,
    "start_time": "2023-05-24T10:55:14.194Z"
   },
   {
    "duration": 152,
    "start_time": "2023-05-24T10:55:14.197Z"
   },
   {
    "duration": 3,
    "start_time": "2023-05-24T10:55:14.352Z"
   },
   {
    "duration": 195,
    "start_time": "2023-05-24T10:55:14.357Z"
   },
   {
    "duration": 2,
    "start_time": "2023-05-24T10:55:14.554Z"
   },
   {
    "duration": 199,
    "start_time": "2023-05-24T10:55:14.558Z"
   },
   {
    "duration": 2,
    "start_time": "2023-05-24T10:55:14.761Z"
   },
   {
    "duration": 316,
    "start_time": "2023-05-24T10:55:14.765Z"
   },
   {
    "duration": 27,
    "start_time": "2023-05-24T10:55:15.083Z"
   },
   {
    "duration": 13,
    "start_time": "2023-05-24T10:55:15.111Z"
   },
   {
    "duration": 22,
    "start_time": "2023-05-24T10:55:15.126Z"
   },
   {
    "duration": 8,
    "start_time": "2023-05-24T10:55:15.150Z"
   },
   {
    "duration": 10,
    "start_time": "2023-05-24T10:55:15.159Z"
   },
   {
    "duration": 543,
    "start_time": "2023-05-24T10:55:15.170Z"
   },
   {
    "duration": 559,
    "start_time": "2023-05-24T10:55:15.715Z"
   },
   {
    "duration": 914,
    "start_time": "2023-05-24T10:55:16.276Z"
   },
   {
    "duration": 4,
    "start_time": "2023-05-24T10:55:17.192Z"
   },
   {
    "duration": 25,
    "start_time": "2023-05-24T10:55:17.198Z"
   },
   {
    "duration": 41,
    "start_time": "2023-05-24T10:55:17.225Z"
   },
   {
    "duration": 137,
    "start_time": "2023-05-24T10:55:17.268Z"
   },
   {
    "duration": 18,
    "start_time": "2023-05-24T10:55:17.406Z"
   },
   {
    "duration": 21,
    "start_time": "2023-05-24T10:55:17.425Z"
   },
   {
    "duration": 7,
    "start_time": "2023-05-24T10:55:17.448Z"
   },
   {
    "duration": 2128,
    "start_time": "2023-05-24T10:55:17.456Z"
   },
   {
    "duration": 3,
    "start_time": "2023-05-24T10:55:21.187Z"
   },
   {
    "duration": 53,
    "start_time": "2023-05-24T10:55:21.193Z"
   },
   {
    "duration": 11,
    "start_time": "2023-05-24T10:55:21.248Z"
   },
   {
    "duration": 78,
    "start_time": "2023-05-24T10:55:21.261Z"
   },
   {
    "duration": 12,
    "start_time": "2023-05-24T10:55:21.342Z"
   },
   {
    "duration": 27,
    "start_time": "2023-05-24T10:55:21.355Z"
   },
   {
    "duration": 11,
    "start_time": "2023-05-24T10:55:21.384Z"
   },
   {
    "duration": 25,
    "start_time": "2023-05-24T10:55:21.396Z"
   },
   {
    "duration": 26,
    "start_time": "2023-05-24T10:55:21.423Z"
   },
   {
    "duration": 25,
    "start_time": "2023-05-24T10:55:21.451Z"
   },
   {
    "duration": 26,
    "start_time": "2023-05-24T10:55:21.480Z"
   },
   {
    "duration": 24,
    "start_time": "2023-05-24T10:55:21.508Z"
   },
   {
    "duration": 12,
    "start_time": "2023-05-24T10:55:21.534Z"
   },
   {
    "duration": 28,
    "start_time": "2023-05-24T10:55:21.547Z"
   },
   {
    "duration": 17,
    "start_time": "2023-05-24T10:55:21.577Z"
   },
   {
    "duration": 10,
    "start_time": "2023-05-24T10:55:21.596Z"
   },
   {
    "duration": 18,
    "start_time": "2023-05-24T10:55:21.608Z"
   },
   {
    "duration": 22,
    "start_time": "2023-05-24T10:55:21.628Z"
   },
   {
    "duration": 17,
    "start_time": "2023-05-24T10:55:21.652Z"
   },
   {
    "duration": 7,
    "start_time": "2023-05-24T10:55:21.671Z"
   },
   {
    "duration": 180,
    "start_time": "2023-05-24T10:55:21.680Z"
   },
   {
    "duration": 3,
    "start_time": "2023-05-24T10:55:21.862Z"
   },
   {
    "duration": 145,
    "start_time": "2023-05-24T10:55:21.867Z"
   },
   {
    "duration": 2,
    "start_time": "2023-05-24T10:55:22.014Z"
   },
   {
    "duration": 199,
    "start_time": "2023-05-24T10:55:22.018Z"
   },
   {
    "duration": 2,
    "start_time": "2023-05-24T10:55:22.219Z"
   },
   {
    "duration": 212,
    "start_time": "2023-05-24T10:55:22.223Z"
   },
   {
    "duration": 9,
    "start_time": "2023-05-24T10:55:22.438Z"
   },
   {
    "duration": 246,
    "start_time": "2023-05-24T10:55:22.452Z"
   },
   {
    "duration": 28,
    "start_time": "2023-05-24T10:55:22.700Z"
   },
   {
    "duration": 27,
    "start_time": "2023-05-24T10:55:22.729Z"
   },
   {
    "duration": 8,
    "start_time": "2023-05-24T10:55:22.757Z"
   },
   {
    "duration": 19,
    "start_time": "2023-05-24T10:55:22.766Z"
   },
   {
    "duration": 23,
    "start_time": "2023-05-24T10:55:22.787Z"
   },
   {
    "duration": 591,
    "start_time": "2023-05-24T10:55:22.811Z"
   },
   {
    "duration": 704,
    "start_time": "2023-05-24T10:55:23.404Z"
   },
   {
    "duration": 830,
    "start_time": "2023-05-24T10:55:24.109Z"
   },
   {
    "duration": 6,
    "start_time": "2023-05-24T10:55:24.941Z"
   },
   {
    "duration": 12,
    "start_time": "2023-05-24T10:55:24.949Z"
   },
   {
    "duration": 19,
    "start_time": "2023-05-24T10:55:24.963Z"
   },
   {
    "duration": 19,
    "start_time": "2023-05-24T10:55:24.984Z"
   },
   {
    "duration": 26,
    "start_time": "2023-05-24T10:55:25.004Z"
   },
   {
    "duration": 18,
    "start_time": "2023-05-24T10:55:25.032Z"
   },
   {
    "duration": 10,
    "start_time": "2023-05-24T10:55:25.052Z"
   },
   {
    "duration": 1651,
    "start_time": "2023-05-24T11:10:30.175Z"
   },
   {
    "duration": 1720,
    "start_time": "2023-05-24T12:06:58.853Z"
   },
   {
    "duration": 2601,
    "start_time": "2023-05-24T12:09:10.901Z"
   },
   {
    "duration": 3,
    "start_time": "2023-05-24T12:10:36.474Z"
   },
   {
    "duration": 39,
    "start_time": "2023-05-24T12:10:37.771Z"
   },
   {
    "duration": 11,
    "start_time": "2023-05-24T12:10:38.296Z"
   },
   {
    "duration": 61,
    "start_time": "2023-05-24T12:10:39.326Z"
   },
   {
    "duration": 15,
    "start_time": "2023-05-24T12:10:40.459Z"
   },
   {
    "duration": 32,
    "start_time": "2023-05-24T12:10:40.998Z"
   },
   {
    "duration": 10,
    "start_time": "2023-05-24T12:10:41.514Z"
   },
   {
    "duration": 11,
    "start_time": "2023-05-24T12:10:42.497Z"
   },
   {
    "duration": 14,
    "start_time": "2023-05-24T12:10:43.018Z"
   },
   {
    "duration": 6,
    "start_time": "2023-05-24T12:10:43.506Z"
   },
   {
    "duration": 7,
    "start_time": "2023-05-24T12:10:43.995Z"
   },
   {
    "duration": 6,
    "start_time": "2023-05-24T12:10:44.481Z"
   },
   {
    "duration": 6,
    "start_time": "2023-05-24T12:10:45.390Z"
   },
   {
    "duration": 5,
    "start_time": "2023-05-24T12:10:48.778Z"
   },
   {
    "duration": 9,
    "start_time": "2023-05-24T12:10:49.279Z"
   },
   {
    "duration": 5,
    "start_time": "2023-05-24T12:10:49.705Z"
   },
   {
    "duration": 15,
    "start_time": "2023-05-24T12:10:54.281Z"
   },
   {
    "duration": 29,
    "start_time": "2023-05-24T12:10:55.476Z"
   },
   {
    "duration": 23,
    "start_time": "2023-05-24T12:10:56.086Z"
   },
   {
    "duration": 3,
    "start_time": "2023-05-24T12:11:01.009Z"
   },
   {
    "duration": 203,
    "start_time": "2023-05-24T12:11:03.510Z"
   },
   {
    "duration": 3,
    "start_time": "2023-05-24T12:11:08.679Z"
   },
   {
    "duration": 138,
    "start_time": "2023-05-24T12:11:09.374Z"
   },
   {
    "duration": 2,
    "start_time": "2023-05-24T12:11:14.490Z"
   },
   {
    "duration": 201,
    "start_time": "2023-05-24T12:11:15.973Z"
   },
   {
    "duration": 3,
    "start_time": "2023-05-24T12:11:17.494Z"
   },
   {
    "duration": 216,
    "start_time": "2023-05-24T12:11:18.776Z"
   },
   {
    "duration": 3,
    "start_time": "2023-05-24T12:11:20.784Z"
   },
   {
    "duration": 238,
    "start_time": "2023-05-24T12:11:22.225Z"
   },
   {
    "duration": 40,
    "start_time": "2023-05-24T12:11:25.944Z"
   },
   {
    "duration": 13,
    "start_time": "2023-05-24T12:11:27.484Z"
   },
   {
    "duration": 4,
    "start_time": "2023-05-24T12:11:28.106Z"
   },
   {
    "duration": 7,
    "start_time": "2023-05-24T12:11:29.070Z"
   },
   {
    "duration": 4,
    "start_time": "2023-05-24T12:11:30.179Z"
   },
   {
    "duration": 787,
    "start_time": "2023-05-24T12:11:30.798Z"
   },
   {
    "duration": 16,
    "start_time": "2023-05-24T12:11:39.564Z"
   },
   {
    "duration": 610,
    "start_time": "2023-05-24T12:12:17.706Z"
   },
   {
    "duration": 106,
    "start_time": "2023-05-24T12:12:21.884Z"
   },
   {
    "duration": 173,
    "start_time": "2023-05-24T12:12:42.030Z"
   },
   {
    "duration": 93,
    "start_time": "2023-05-24T12:13:22.195Z"
   },
   {
    "duration": 118,
    "start_time": "2023-05-24T12:13:28.392Z"
   },
   {
    "duration": 104,
    "start_time": "2023-05-24T12:13:32.671Z"
   },
   {
    "duration": 3,
    "start_time": "2023-05-24T12:13:49.473Z"
   },
   {
    "duration": 8,
    "start_time": "2023-05-24T12:13:50.177Z"
   },
   {
    "duration": 15,
    "start_time": "2023-05-24T12:13:50.775Z"
   },
   {
    "duration": 24,
    "start_time": "2023-05-24T12:13:51.508Z"
   },
   {
    "duration": 20,
    "start_time": "2023-05-24T12:13:52.178Z"
   },
   {
    "duration": 9,
    "start_time": "2023-05-24T12:13:57.704Z"
   },
   {
    "duration": 15,
    "start_time": "2023-05-24T12:13:58.769Z"
   },
   {
    "duration": 2877,
    "start_time": "2023-05-24T12:14:00.095Z"
   },
   {
    "duration": 242,
    "start_time": "2023-05-24T12:15:12.205Z"
   },
   {
    "duration": 378,
    "start_time": "2023-05-24T12:15:22.598Z"
   },
   {
    "duration": 1001,
    "start_time": "2023-05-24T12:16:20.769Z"
   },
   {
    "duration": 977,
    "start_time": "2023-05-24T12:16:27.057Z"
   },
   {
    "duration": 4,
    "start_time": "2023-05-24T12:16:34.804Z"
   },
   {
    "duration": 11,
    "start_time": "2023-05-24T12:16:35.482Z"
   },
   {
    "duration": 23,
    "start_time": "2023-05-24T12:16:36.072Z"
   },
   {
    "duration": 15,
    "start_time": "2023-05-24T12:16:36.504Z"
   },
   {
    "duration": 21,
    "start_time": "2023-05-24T12:16:38.079Z"
   },
   {
    "duration": 9,
    "start_time": "2023-05-24T12:16:41.204Z"
   },
   {
    "duration": 10,
    "start_time": "2023-05-24T12:16:41.968Z"
   },
   {
    "duration": 3909,
    "start_time": "2023-05-24T12:16:42.797Z"
   },
   {
    "duration": 1814,
    "start_time": "2023-05-24T12:17:50.517Z"
   },
   {
    "duration": 1984,
    "start_time": "2023-05-24T12:18:14.677Z"
   },
   {
    "duration": 12,
    "start_time": "2023-05-24T12:26:38.368Z"
   },
   {
    "duration": 18,
    "start_time": "2023-05-24T12:26:41.157Z"
   },
   {
    "duration": 0,
    "start_time": "2023-05-24T12:27:28.323Z"
   },
   {
    "duration": 5149,
    "start_time": "2023-05-24T12:27:28.978Z"
   },
   {
    "duration": 0,
    "start_time": "2023-05-24T12:28:11.494Z"
   },
   {
    "duration": 5583,
    "start_time": "2023-05-24T12:28:34.961Z"
   },
   {
    "duration": 37,
    "start_time": "2023-05-24T12:50:02.075Z"
   },
   {
    "duration": 3392,
    "start_time": "2023-05-24T12:50:34.040Z"
   },
   {
    "duration": 14,
    "start_time": "2023-05-24T12:54:17.074Z"
   },
   {
    "duration": 17,
    "start_time": "2023-05-24T12:54:33.363Z"
   },
   {
    "duration": 2779,
    "start_time": "2023-05-24T12:55:36.392Z"
   },
   {
    "duration": 2988,
    "start_time": "2023-05-24T12:55:49.872Z"
   },
   {
    "duration": 7,
    "start_time": "2023-05-24T13:03:23.006Z"
   },
   {
    "duration": 9,
    "start_time": "2023-05-24T13:04:00.003Z"
   },
   {
    "duration": 10,
    "start_time": "2023-05-24T13:04:07.093Z"
   },
   {
    "duration": 5,
    "start_time": "2023-05-24T13:04:14.131Z"
   },
   {
    "duration": 8,
    "start_time": "2023-05-24T13:05:29.961Z"
   },
   {
    "duration": 7,
    "start_time": "2023-05-24T13:11:34.757Z"
   },
   {
    "duration": 6,
    "start_time": "2023-05-24T13:11:38.684Z"
   },
   {
    "duration": 14,
    "start_time": "2023-05-24T13:17:01.847Z"
   },
   {
    "duration": 6,
    "start_time": "2023-05-24T13:17:19.061Z"
   },
   {
    "duration": 16,
    "start_time": "2023-05-24T13:18:09.550Z"
   },
   {
    "duration": 1400,
    "start_time": "2023-05-24T13:18:49.463Z"
   },
   {
    "duration": 19,
    "start_time": "2023-05-24T13:35:35.922Z"
   },
   {
    "duration": 25,
    "start_time": "2023-05-24T13:36:19.344Z"
   },
   {
    "duration": 20,
    "start_time": "2023-05-24T13:36:29.676Z"
   },
   {
    "duration": 23,
    "start_time": "2023-05-24T13:37:12.849Z"
   },
   {
    "duration": 18,
    "start_time": "2023-05-24T13:37:54.805Z"
   },
   {
    "duration": 22,
    "start_time": "2023-05-24T13:38:33.669Z"
   },
   {
    "duration": 5,
    "start_time": "2023-05-24T13:38:46.165Z"
   },
   {
    "duration": 17,
    "start_time": "2023-05-24T13:38:54.519Z"
   },
   {
    "duration": 5,
    "start_time": "2023-05-24T13:39:26.390Z"
   },
   {
    "duration": 7,
    "start_time": "2023-05-24T13:40:34.784Z"
   },
   {
    "duration": 9,
    "start_time": "2023-05-24T13:42:05.661Z"
   },
   {
    "duration": 7,
    "start_time": "2023-05-24T13:42:17.422Z"
   },
   {
    "duration": 14,
    "start_time": "2023-05-24T13:50:26.619Z"
   },
   {
    "duration": 6,
    "start_time": "2023-05-24T13:51:03.462Z"
   },
   {
    "duration": 7,
    "start_time": "2023-05-24T13:51:11.971Z"
   },
   {
    "duration": 10,
    "start_time": "2023-05-24T13:51:34.571Z"
   },
   {
    "duration": 6,
    "start_time": "2023-05-24T13:51:47.911Z"
   },
   {
    "duration": 993,
    "start_time": "2023-05-24T13:55:50.715Z"
   },
   {
    "duration": 10,
    "start_time": "2023-05-24T13:56:20.386Z"
   },
   {
    "duration": 12,
    "start_time": "2023-05-24T13:56:46.112Z"
   },
   {
    "duration": 10,
    "start_time": "2023-05-24T13:56:56.170Z"
   },
   {
    "duration": 9,
    "start_time": "2023-05-24T13:57:05.265Z"
   },
   {
    "duration": 9,
    "start_time": "2023-05-24T13:57:12.869Z"
   },
   {
    "duration": 11,
    "start_time": "2023-05-24T13:57:37.857Z"
   },
   {
    "duration": 11,
    "start_time": "2023-05-24T13:58:58.681Z"
   },
   {
    "duration": 18,
    "start_time": "2023-05-24T14:00:32.984Z"
   },
   {
    "duration": 144,
    "start_time": "2023-05-24T14:01:56.162Z"
   },
   {
    "duration": 89,
    "start_time": "2023-05-24T14:02:08.749Z"
   },
   {
    "duration": 128,
    "start_time": "2023-05-24T14:02:19.287Z"
   },
   {
    "duration": 10,
    "start_time": "2023-05-24T14:02:24.312Z"
   },
   {
    "duration": 13,
    "start_time": "2023-05-24T14:24:38.671Z"
   },
   {
    "duration": 296,
    "start_time": "2023-05-24T14:25:00.294Z"
   },
   {
    "duration": 246,
    "start_time": "2023-05-24T14:25:45.157Z"
   },
   {
    "duration": 9,
    "start_time": "2023-05-24T14:32:22.122Z"
   },
   {
    "duration": 19,
    "start_time": "2023-05-24T14:32:26.775Z"
   },
   {
    "duration": 9,
    "start_time": "2023-05-24T14:32:52.187Z"
   },
   {
    "duration": 4,
    "start_time": "2023-05-24T14:33:05.974Z"
   },
   {
    "duration": 5,
    "start_time": "2023-05-24T14:37:13.413Z"
   },
   {
    "duration": 5,
    "start_time": "2023-05-24T14:37:34.990Z"
   },
   {
    "duration": 5,
    "start_time": "2023-05-24T14:41:25.610Z"
   },
   {
    "duration": 11,
    "start_time": "2023-05-24T14:41:48.964Z"
   },
   {
    "duration": 12,
    "start_time": "2023-05-24T14:41:54.354Z"
   },
   {
    "duration": 3,
    "start_time": "2023-05-24T14:47:21.671Z"
   },
   {
    "duration": 4,
    "start_time": "2023-05-24T14:47:27.971Z"
   },
   {
    "duration": 7,
    "start_time": "2023-05-24T15:21:59.960Z"
   },
   {
    "duration": 7,
    "start_time": "2023-05-24T15:22:05.406Z"
   },
   {
    "duration": 6,
    "start_time": "2023-05-24T15:22:18.353Z"
   },
   {
    "duration": 7,
    "start_time": "2023-05-24T15:22:36.357Z"
   },
   {
    "duration": 288,
    "start_time": "2023-05-24T15:25:36.945Z"
   },
   {
    "duration": 271,
    "start_time": "2023-05-24T15:26:25.570Z"
   },
   {
    "duration": 87,
    "start_time": "2023-05-24T15:28:46.141Z"
   },
   {
    "duration": 592,
    "start_time": "2023-05-24T15:29:06.285Z"
   },
   {
    "duration": 567,
    "start_time": "2023-05-24T15:33:57.904Z"
   },
   {
    "duration": 267,
    "start_time": "2023-05-24T15:34:14.272Z"
   },
   {
    "duration": 3,
    "start_time": "2023-05-24T15:35:25.334Z"
   },
   {
    "duration": 2,
    "start_time": "2023-05-24T15:36:58.237Z"
   },
   {
    "duration": 13,
    "start_time": "2023-05-24T15:40:50.125Z"
   },
   {
    "duration": 3,
    "start_time": "2023-05-24T15:41:02.794Z"
   },
   {
    "duration": 6,
    "start_time": "2023-05-24T15:43:40.254Z"
   },
   {
    "duration": 3,
    "start_time": "2023-05-24T15:48:07.457Z"
   },
   {
    "duration": 91,
    "start_time": "2023-05-24T15:48:07.462Z"
   },
   {
    "duration": 12,
    "start_time": "2023-05-24T15:48:07.555Z"
   },
   {
    "duration": 82,
    "start_time": "2023-05-24T15:48:07.569Z"
   },
   {
    "duration": 12,
    "start_time": "2023-05-24T15:48:07.654Z"
   },
   {
    "duration": 55,
    "start_time": "2023-05-24T15:48:07.669Z"
   },
   {
    "duration": 13,
    "start_time": "2023-05-24T15:48:07.726Z"
   },
   {
    "duration": 45,
    "start_time": "2023-05-24T15:48:07.741Z"
   },
   {
    "duration": 13,
    "start_time": "2023-05-24T15:48:07.789Z"
   },
   {
    "duration": 20,
    "start_time": "2023-05-24T15:48:07.803Z"
   },
   {
    "duration": 11,
    "start_time": "2023-05-24T15:48:07.825Z"
   },
   {
    "duration": 8,
    "start_time": "2023-05-24T15:48:07.838Z"
   },
   {
    "duration": 16,
    "start_time": "2023-05-24T15:48:07.848Z"
   },
   {
    "duration": 6,
    "start_time": "2023-05-24T15:48:07.866Z"
   },
   {
    "duration": 35,
    "start_time": "2023-05-24T15:48:07.873Z"
   },
   {
    "duration": 13,
    "start_time": "2023-05-24T15:48:07.910Z"
   },
   {
    "duration": 27,
    "start_time": "2023-05-24T15:48:07.925Z"
   },
   {
    "duration": 38,
    "start_time": "2023-05-24T15:48:07.954Z"
   },
   {
    "duration": 19,
    "start_time": "2023-05-24T15:48:07.994Z"
   },
   {
    "duration": 10,
    "start_time": "2023-05-24T15:48:08.015Z"
   },
   {
    "duration": 196,
    "start_time": "2023-05-24T15:48:08.028Z"
   },
   {
    "duration": 3,
    "start_time": "2023-05-24T15:48:08.225Z"
   },
   {
    "duration": 168,
    "start_time": "2023-05-24T15:48:08.229Z"
   },
   {
    "duration": 2,
    "start_time": "2023-05-24T15:48:08.399Z"
   },
   {
    "duration": 217,
    "start_time": "2023-05-24T15:48:08.403Z"
   },
   {
    "duration": 3,
    "start_time": "2023-05-24T15:48:08.622Z"
   },
   {
    "duration": 196,
    "start_time": "2023-05-24T15:48:08.626Z"
   },
   {
    "duration": 3,
    "start_time": "2023-05-24T15:48:08.823Z"
   },
   {
    "duration": 199,
    "start_time": "2023-05-24T15:48:08.829Z"
   },
   {
    "duration": 39,
    "start_time": "2023-05-24T15:48:09.030Z"
   },
   {
    "duration": 12,
    "start_time": "2023-05-24T15:48:09.071Z"
   },
   {
    "duration": 12,
    "start_time": "2023-05-24T15:48:09.085Z"
   },
   {
    "duration": 16,
    "start_time": "2023-05-24T15:48:09.099Z"
   },
   {
    "duration": 9,
    "start_time": "2023-05-24T15:48:09.117Z"
   },
   {
    "duration": 569,
    "start_time": "2023-05-24T15:48:09.128Z"
   },
   {
    "duration": 774,
    "start_time": "2023-05-24T15:48:09.698Z"
   },
   {
    "duration": 933,
    "start_time": "2023-05-24T15:48:10.474Z"
   },
   {
    "duration": 4,
    "start_time": "2023-05-24T15:48:11.408Z"
   },
   {
    "duration": 17,
    "start_time": "2023-05-24T15:48:11.414Z"
   },
   {
    "duration": 24,
    "start_time": "2023-05-24T15:48:11.433Z"
   },
   {
    "duration": 16,
    "start_time": "2023-05-24T15:48:11.459Z"
   },
   {
    "duration": 18,
    "start_time": "2023-05-24T15:48:11.477Z"
   },
   {
    "duration": 9,
    "start_time": "2023-05-24T15:48:11.497Z"
   },
   {
    "duration": 12,
    "start_time": "2023-05-24T15:48:11.507Z"
   },
   {
    "duration": 11,
    "start_time": "2023-05-24T15:48:11.545Z"
   },
   {
    "duration": 1581,
    "start_time": "2023-05-24T16:16:27.892Z"
   },
   {
    "duration": 48,
    "start_time": "2023-05-24T16:16:29.475Z"
   },
   {
    "duration": 13,
    "start_time": "2023-05-24T16:16:29.525Z"
   },
   {
    "duration": 43,
    "start_time": "2023-05-24T16:16:29.540Z"
   },
   {
    "duration": 13,
    "start_time": "2023-05-24T16:16:29.585Z"
   },
   {
    "duration": 34,
    "start_time": "2023-05-24T16:16:29.600Z"
   },
   {
    "duration": 12,
    "start_time": "2023-05-24T16:16:29.635Z"
   },
   {
    "duration": 24,
    "start_time": "2023-05-24T16:16:29.650Z"
   },
   {
    "duration": 21,
    "start_time": "2023-05-24T16:16:29.676Z"
   },
   {
    "duration": 11,
    "start_time": "2023-05-24T16:16:29.701Z"
   },
   {
    "duration": 16,
    "start_time": "2023-05-24T16:16:29.714Z"
   },
   {
    "duration": 25,
    "start_time": "2023-05-24T16:16:29.732Z"
   },
   {
    "duration": 43,
    "start_time": "2023-05-24T16:16:29.759Z"
   },
   {
    "duration": 17,
    "start_time": "2023-05-24T16:16:29.804Z"
   },
   {
    "duration": 21,
    "start_time": "2023-05-24T16:16:29.822Z"
   },
   {
    "duration": 7,
    "start_time": "2023-05-24T16:16:29.845Z"
   },
   {
    "duration": 24,
    "start_time": "2023-05-24T16:16:29.853Z"
   },
   {
    "duration": 32,
    "start_time": "2023-05-24T16:16:29.878Z"
   },
   {
    "duration": 17,
    "start_time": "2023-05-24T16:16:29.912Z"
   },
   {
    "duration": 19,
    "start_time": "2023-05-24T16:16:29.931Z"
   },
   {
    "duration": 208,
    "start_time": "2023-05-24T16:16:29.952Z"
   },
   {
    "duration": 17,
    "start_time": "2023-05-24T16:16:30.163Z"
   },
   {
    "duration": 207,
    "start_time": "2023-05-24T16:16:30.183Z"
   },
   {
    "duration": 3,
    "start_time": "2023-05-24T16:16:30.392Z"
   },
   {
    "duration": 218,
    "start_time": "2023-05-24T16:16:30.397Z"
   },
   {
    "duration": 2,
    "start_time": "2023-05-24T16:16:30.617Z"
   },
   {
    "duration": 211,
    "start_time": "2023-05-24T16:16:30.621Z"
   },
   {
    "duration": 3,
    "start_time": "2023-05-24T16:16:30.836Z"
   },
   {
    "duration": 237,
    "start_time": "2023-05-24T16:16:30.841Z"
   },
   {
    "duration": 30,
    "start_time": "2023-05-24T16:16:31.080Z"
   },
   {
    "duration": 26,
    "start_time": "2023-05-24T16:16:31.112Z"
   },
   {
    "duration": 56,
    "start_time": "2023-05-24T16:16:31.140Z"
   },
   {
    "duration": 41,
    "start_time": "2023-05-24T16:16:31.197Z"
   },
   {
    "duration": 55,
    "start_time": "2023-05-24T16:16:31.240Z"
   },
   {
    "duration": 684,
    "start_time": "2023-05-24T16:16:31.296Z"
   },
   {
    "duration": 746,
    "start_time": "2023-05-24T16:16:31.983Z"
   },
   {
    "duration": 917,
    "start_time": "2023-05-24T16:16:32.731Z"
   },
   {
    "duration": 5,
    "start_time": "2023-05-24T16:16:33.650Z"
   },
   {
    "duration": 7,
    "start_time": "2023-05-24T16:16:33.672Z"
   },
   {
    "duration": 36,
    "start_time": "2023-05-24T16:16:33.681Z"
   },
   {
    "duration": 31,
    "start_time": "2023-05-24T16:16:33.718Z"
   },
   {
    "duration": 21,
    "start_time": "2023-05-24T16:16:33.751Z"
   },
   {
    "duration": 11,
    "start_time": "2023-05-24T16:16:33.774Z"
   },
   {
    "duration": 20,
    "start_time": "2023-05-24T16:16:33.787Z"
   },
   {
    "duration": 17,
    "start_time": "2023-05-24T16:16:33.809Z"
   },
   {
    "duration": 9,
    "start_time": "2023-05-24T16:24:29.608Z"
   },
   {
    "duration": 6,
    "start_time": "2023-05-24T16:28:53.694Z"
   },
   {
    "duration": 10,
    "start_time": "2023-05-24T16:29:05.692Z"
   },
   {
    "duration": 9,
    "start_time": "2023-05-24T16:30:05.931Z"
   },
   {
    "duration": 6,
    "start_time": "2023-05-24T16:33:23.332Z"
   },
   {
    "duration": 12,
    "start_time": "2023-05-24T16:33:43.933Z"
   },
   {
    "duration": 1418,
    "start_time": "2023-05-24T17:30:18.766Z"
   },
   {
    "duration": 85,
    "start_time": "2023-05-24T17:30:20.186Z"
   },
   {
    "duration": 11,
    "start_time": "2023-05-24T17:30:20.273Z"
   },
   {
    "duration": 83,
    "start_time": "2023-05-24T17:30:20.286Z"
   },
   {
    "duration": 10,
    "start_time": "2023-05-24T17:30:20.371Z"
   },
   {
    "duration": 57,
    "start_time": "2023-05-24T17:30:20.383Z"
   },
   {
    "duration": 10,
    "start_time": "2023-05-24T17:30:20.441Z"
   },
   {
    "duration": 19,
    "start_time": "2023-05-24T17:30:20.453Z"
   },
   {
    "duration": 35,
    "start_time": "2023-05-24T17:30:20.473Z"
   },
   {
    "duration": 6,
    "start_time": "2023-05-24T17:30:20.511Z"
   },
   {
    "duration": 20,
    "start_time": "2023-05-24T17:30:20.518Z"
   },
   {
    "duration": 12,
    "start_time": "2023-05-24T17:30:20.540Z"
   },
   {
    "duration": 24,
    "start_time": "2023-05-24T17:30:20.554Z"
   },
   {
    "duration": 11,
    "start_time": "2023-05-24T17:30:20.579Z"
   },
   {
    "duration": 15,
    "start_time": "2023-05-24T17:30:20.592Z"
   },
   {
    "duration": 9,
    "start_time": "2023-05-24T17:30:20.609Z"
   },
   {
    "duration": 29,
    "start_time": "2023-05-24T17:30:20.620Z"
   },
   {
    "duration": 30,
    "start_time": "2023-05-24T17:30:20.650Z"
   },
   {
    "duration": 16,
    "start_time": "2023-05-24T17:30:20.681Z"
   },
   {
    "duration": 8,
    "start_time": "2023-05-24T17:30:20.699Z"
   },
   {
    "duration": 182,
    "start_time": "2023-05-24T17:30:20.709Z"
   },
   {
    "duration": 3,
    "start_time": "2023-05-24T17:30:20.893Z"
   },
   {
    "duration": 151,
    "start_time": "2023-05-24T17:30:20.898Z"
   },
   {
    "duration": 3,
    "start_time": "2023-05-24T17:30:21.051Z"
   },
   {
    "duration": 190,
    "start_time": "2023-05-24T17:30:21.055Z"
   },
   {
    "duration": 3,
    "start_time": "2023-05-24T17:30:21.247Z"
   },
   {
    "duration": 191,
    "start_time": "2023-05-24T17:30:21.252Z"
   },
   {
    "duration": 3,
    "start_time": "2023-05-24T17:30:21.447Z"
   },
   {
    "duration": 203,
    "start_time": "2023-05-24T17:30:21.451Z"
   },
   {
    "duration": 27,
    "start_time": "2023-05-24T17:30:21.657Z"
   },
   {
    "duration": 14,
    "start_time": "2023-05-24T17:30:21.686Z"
   },
   {
    "duration": 25,
    "start_time": "2023-05-24T17:30:21.701Z"
   },
   {
    "duration": 8,
    "start_time": "2023-05-24T17:30:21.728Z"
   },
   {
    "duration": 9,
    "start_time": "2023-05-24T17:30:21.738Z"
   },
   {
    "duration": 550,
    "start_time": "2023-05-24T17:30:21.748Z"
   },
   {
    "duration": 612,
    "start_time": "2023-05-24T17:30:22.300Z"
   },
   {
    "duration": 831,
    "start_time": "2023-05-24T17:30:22.914Z"
   },
   {
    "duration": 4,
    "start_time": "2023-05-24T17:30:23.747Z"
   },
   {
    "duration": 10,
    "start_time": "2023-05-24T17:30:23.752Z"
   },
   {
    "duration": 21,
    "start_time": "2023-05-24T17:30:23.764Z"
   },
   {
    "duration": 22,
    "start_time": "2023-05-24T17:30:23.787Z"
   },
   {
    "duration": 25,
    "start_time": "2023-05-24T17:30:23.811Z"
   },
   {
    "duration": 6,
    "start_time": "2023-05-24T17:30:23.837Z"
   },
   {
    "duration": 11,
    "start_time": "2023-05-24T17:30:23.845Z"
   },
   {
    "duration": 19,
    "start_time": "2023-05-24T17:30:23.857Z"
   },
   {
    "duration": 93,
    "start_time": "2023-05-24T17:53:24.996Z"
   },
   {
    "duration": 142,
    "start_time": "2023-05-24T17:56:10.798Z"
   },
   {
    "duration": 166,
    "start_time": "2023-05-24T17:56:50.494Z"
   },
   {
    "duration": 323,
    "start_time": "2023-05-24T17:56:57.757Z"
   },
   {
    "duration": 339,
    "start_time": "2023-05-24T17:57:04.481Z"
   },
   {
    "duration": 153,
    "start_time": "2023-05-24T17:57:11.303Z"
   },
   {
    "duration": 106,
    "start_time": "2023-05-24T17:57:36.591Z"
   },
   {
    "duration": 154,
    "start_time": "2023-05-24T17:57:47.402Z"
   },
   {
    "duration": 185,
    "start_time": "2023-05-24T17:58:00.271Z"
   },
   {
    "duration": 172,
    "start_time": "2023-05-24T17:58:10.365Z"
   },
   {
    "duration": 11,
    "start_time": "2023-05-24T17:59:04.644Z"
   },
   {
    "duration": 9,
    "start_time": "2023-05-24T17:59:33.802Z"
   },
   {
    "duration": 604,
    "start_time": "2023-05-24T17:59:58.883Z"
   },
   {
    "duration": 541,
    "start_time": "2023-05-24T18:00:11.633Z"
   },
   {
    "duration": 520,
    "start_time": "2023-05-24T18:00:24.474Z"
   },
   {
    "duration": 679,
    "start_time": "2023-05-24T18:00:30.855Z"
   },
   {
    "duration": 609,
    "start_time": "2023-05-24T18:45:48.248Z"
   },
   {
    "duration": 566,
    "start_time": "2023-05-24T18:46:17.692Z"
   },
   {
    "duration": 342,
    "start_time": "2023-05-24T18:58:15.144Z"
   },
   {
    "duration": 106,
    "start_time": "2023-05-24T18:58:58.413Z"
   },
   {
    "duration": 202,
    "start_time": "2023-05-24T18:59:11.674Z"
   },
   {
    "duration": 6,
    "start_time": "2023-05-24T18:59:23.236Z"
   },
   {
    "duration": 8,
    "start_time": "2023-05-24T18:59:44.914Z"
   },
   {
    "duration": 129,
    "start_time": "2023-05-24T18:59:53.471Z"
   },
   {
    "duration": 15,
    "start_time": "2023-05-24T19:00:02.047Z"
   },
   {
    "duration": 160,
    "start_time": "2023-05-24T19:00:10.827Z"
   },
   {
    "duration": 9,
    "start_time": "2023-05-24T19:00:18.823Z"
   },
   {
    "duration": 16,
    "start_time": "2023-05-24T19:01:13.061Z"
   },
   {
    "duration": 12,
    "start_time": "2023-05-24T19:01:22.702Z"
   },
   {
    "duration": 19,
    "start_time": "2023-05-24T19:01:34.446Z"
   },
   {
    "duration": 6,
    "start_time": "2023-05-24T19:01:59.942Z"
   },
   {
    "duration": 13,
    "start_time": "2023-05-24T19:02:05.170Z"
   },
   {
    "duration": 11,
    "start_time": "2023-05-24T19:02:14.118Z"
   },
   {
    "duration": 199,
    "start_time": "2023-05-24T19:03:26.468Z"
   },
   {
    "duration": 160,
    "start_time": "2023-05-24T19:03:40.555Z"
   },
   {
    "duration": 159,
    "start_time": "2023-05-24T19:03:46.493Z"
   },
   {
    "duration": 143,
    "start_time": "2023-05-24T19:03:52.534Z"
   },
   {
    "duration": 177,
    "start_time": "2023-05-24T19:04:31.987Z"
   },
   {
    "duration": 182,
    "start_time": "2023-05-24T19:04:55.201Z"
   },
   {
    "duration": 191,
    "start_time": "2023-05-24T19:05:00.595Z"
   },
   {
    "duration": 178,
    "start_time": "2023-05-24T19:05:03.576Z"
   },
   {
    "duration": 2,
    "start_time": "2023-05-24T19:05:23.302Z"
   },
   {
    "duration": 156,
    "start_time": "2023-05-24T19:05:28.858Z"
   },
   {
    "duration": 172,
    "start_time": "2023-05-24T19:05:39.502Z"
   },
   {
    "duration": 161,
    "start_time": "2023-05-24T19:05:52.325Z"
   },
   {
    "duration": 4,
    "start_time": "2023-05-24T19:06:15.061Z"
   },
   {
    "duration": 35,
    "start_time": "2023-05-24T19:06:15.573Z"
   },
   {
    "duration": 10,
    "start_time": "2023-05-24T19:06:15.753Z"
   },
   {
    "duration": 31,
    "start_time": "2023-05-24T19:06:16.090Z"
   },
   {
    "duration": 11,
    "start_time": "2023-05-24T19:06:16.268Z"
   },
   {
    "duration": 48,
    "start_time": "2023-05-24T19:06:16.609Z"
   },
   {
    "duration": 10,
    "start_time": "2023-05-24T19:06:16.783Z"
   },
   {
    "duration": 10,
    "start_time": "2023-05-24T19:06:17.703Z"
   },
   {
    "duration": 11,
    "start_time": "2023-05-24T19:06:17.879Z"
   },
   {
    "duration": 7,
    "start_time": "2023-05-24T19:06:18.500Z"
   },
   {
    "duration": 6,
    "start_time": "2023-05-24T19:06:18.699Z"
   },
   {
    "duration": 6,
    "start_time": "2023-05-24T19:06:18.879Z"
   },
   {
    "duration": 6,
    "start_time": "2023-05-24T19:06:19.285Z"
   },
   {
    "duration": 5,
    "start_time": "2023-05-24T19:06:19.701Z"
   },
   {
    "duration": 9,
    "start_time": "2023-05-24T19:06:20.099Z"
   },
   {
    "duration": 7,
    "start_time": "2023-05-24T19:06:20.449Z"
   },
   {
    "duration": 14,
    "start_time": "2023-05-24T19:06:21.972Z"
   },
   {
    "duration": 22,
    "start_time": "2023-05-24T19:06:22.169Z"
   },
   {
    "duration": 19,
    "start_time": "2023-05-24T19:06:22.545Z"
   },
   {
    "duration": 149,
    "start_time": "2023-05-24T19:06:23.954Z"
   },
   {
    "duration": 14,
    "start_time": "2023-05-24T19:07:40.373Z"
   },
   {
    "duration": 6,
    "start_time": "2023-05-24T19:07:51.286Z"
   },
   {
    "duration": 6,
    "start_time": "2023-05-24T19:08:01.092Z"
   },
   {
    "duration": 8,
    "start_time": "2023-05-24T19:08:12.051Z"
   },
   {
    "duration": 7,
    "start_time": "2023-05-24T19:08:18.254Z"
   },
   {
    "duration": 6,
    "start_time": "2023-05-24T19:08:35.612Z"
   },
   {
    "duration": 6,
    "start_time": "2023-05-24T19:08:58.754Z"
   },
   {
    "duration": 63,
    "start_time": "2023-05-24T19:09:14.660Z"
   },
   {
    "duration": 88,
    "start_time": "2023-05-24T19:09:18.760Z"
   },
   {
    "duration": 6,
    "start_time": "2023-05-24T19:09:52.095Z"
   },
   {
    "duration": 41,
    "start_time": "2023-05-24T19:14:22.004Z"
   },
   {
    "duration": 32,
    "start_time": "2023-05-24T19:14:57.145Z"
   },
   {
    "duration": 5,
    "start_time": "2023-05-24T19:19:01.653Z"
   },
   {
    "duration": 976,
    "start_time": "2023-05-24T19:19:04.393Z"
   },
   {
    "duration": 10,
    "start_time": "2023-05-24T19:19:27.651Z"
   },
   {
    "duration": 15,
    "start_time": "2023-05-24T19:19:28.376Z"
   },
   {
    "duration": 19,
    "start_time": "2023-05-24T19:19:28.942Z"
   },
   {
    "duration": 19,
    "start_time": "2023-05-24T19:19:29.612Z"
   },
   {
    "duration": 5,
    "start_time": "2023-05-24T19:20:40.295Z"
   },
   {
    "duration": 82,
    "start_time": "2023-05-24T19:20:40.302Z"
   },
   {
    "duration": 11,
    "start_time": "2023-05-24T19:20:40.386Z"
   },
   {
    "duration": 45,
    "start_time": "2023-05-24T19:20:40.399Z"
   },
   {
    "duration": 18,
    "start_time": "2023-05-24T19:20:40.446Z"
   },
   {
    "duration": 28,
    "start_time": "2023-05-24T19:20:40.466Z"
   },
   {
    "duration": 11,
    "start_time": "2023-05-24T19:20:40.496Z"
   },
   {
    "duration": 27,
    "start_time": "2023-05-24T19:20:40.508Z"
   },
   {
    "duration": 42,
    "start_time": "2023-05-24T19:20:40.538Z"
   },
   {
    "duration": 9,
    "start_time": "2023-05-24T19:20:40.582Z"
   },
   {
    "duration": 23,
    "start_time": "2023-05-24T19:20:40.593Z"
   },
   {
    "duration": 39,
    "start_time": "2023-05-24T19:20:40.618Z"
   },
   {
    "duration": 15,
    "start_time": "2023-05-24T19:20:40.658Z"
   },
   {
    "duration": 15,
    "start_time": "2023-05-24T19:20:40.675Z"
   },
   {
    "duration": 16,
    "start_time": "2023-05-24T19:20:40.691Z"
   },
   {
    "duration": 9,
    "start_time": "2023-05-24T19:20:40.709Z"
   },
   {
    "duration": 44,
    "start_time": "2023-05-24T19:20:40.720Z"
   },
   {
    "duration": 30,
    "start_time": "2023-05-24T19:20:40.765Z"
   },
   {
    "duration": 15,
    "start_time": "2023-05-24T19:20:40.796Z"
   },
   {
    "duration": 163,
    "start_time": "2023-05-24T19:20:40.812Z"
   },
   {
    "duration": 133,
    "start_time": "2023-05-24T19:20:40.977Z"
   },
   {
    "duration": 21,
    "start_time": "2023-05-24T19:20:41.112Z"
   },
   {
    "duration": 39,
    "start_time": "2023-05-24T19:20:41.135Z"
   },
   {
    "duration": 80,
    "start_time": "2023-05-24T19:20:41.176Z"
   },
   {
    "duration": 187,
    "start_time": "2023-05-24T19:20:41.258Z"
   },
   {
    "duration": 182,
    "start_time": "2023-05-24T19:20:41.447Z"
   },
   {
    "duration": 188,
    "start_time": "2023-05-24T19:20:41.631Z"
   },
   {
    "duration": 31,
    "start_time": "2023-05-24T19:20:41.824Z"
   },
   {
    "duration": 14,
    "start_time": "2023-05-24T19:20:41.860Z"
   },
   {
    "duration": 19,
    "start_time": "2023-05-24T19:20:41.875Z"
   },
   {
    "duration": 4,
    "start_time": "2023-05-24T19:20:41.895Z"
   },
   {
    "duration": 8,
    "start_time": "2023-05-24T19:20:41.901Z"
   },
   {
    "duration": 26,
    "start_time": "2023-05-24T19:20:41.910Z"
   },
   {
    "duration": 560,
    "start_time": "2023-05-24T19:20:41.937Z"
   },
   {
    "duration": 561,
    "start_time": "2023-05-24T19:20:42.499Z"
   },
   {
    "duration": 39,
    "start_time": "2023-05-24T19:20:43.062Z"
   },
   {
    "duration": 44,
    "start_time": "2023-05-24T19:20:43.103Z"
   },
   {
    "duration": 16,
    "start_time": "2023-05-24T19:20:43.148Z"
   },
   {
    "duration": 903,
    "start_time": "2023-05-24T19:20:43.166Z"
   },
   {
    "duration": 2,
    "start_time": "2023-05-24T19:20:44.071Z"
   },
   {
    "duration": 35,
    "start_time": "2023-05-24T19:20:44.074Z"
   },
   {
    "duration": 57,
    "start_time": "2023-05-24T19:20:44.110Z"
   },
   {
    "duration": 21,
    "start_time": "2023-05-24T19:20:44.168Z"
   },
   {
    "duration": 15,
    "start_time": "2023-05-24T19:20:44.190Z"
   },
   {
    "duration": 5,
    "start_time": "2023-05-24T19:20:44.207Z"
   },
   {
    "duration": 18,
    "start_time": "2023-05-24T19:20:44.213Z"
   },
   {
    "duration": 36,
    "start_time": "2023-05-24T19:20:44.236Z"
   },
   {
    "duration": 106,
    "start_time": "2023-05-24T19:41:33.153Z"
   },
   {
    "duration": 152,
    "start_time": "2023-05-24T19:42:07.901Z"
   },
   {
    "duration": 98,
    "start_time": "2023-05-24T19:42:56.692Z"
   },
   {
    "duration": 101,
    "start_time": "2023-05-24T19:44:25.266Z"
   },
   {
    "duration": 6,
    "start_time": "2023-05-24T20:01:34.673Z"
   },
   {
    "duration": 5,
    "start_time": "2023-05-24T20:01:37.353Z"
   },
   {
    "duration": 12,
    "start_time": "2023-05-24T20:01:39.126Z"
   },
   {
    "duration": 1316,
    "start_time": "2023-05-25T06:43:28.269Z"
   },
   {
    "duration": 96,
    "start_time": "2023-05-25T06:43:32.552Z"
   },
   {
    "duration": 11,
    "start_time": "2023-05-25T06:43:33.351Z"
   },
   {
    "duration": 86,
    "start_time": "2023-05-25T06:43:34.675Z"
   },
   {
    "duration": 10,
    "start_time": "2023-05-25T06:43:35.365Z"
   },
   {
    "duration": 68,
    "start_time": "2023-05-25T06:43:36.708Z"
   },
   {
    "duration": 10,
    "start_time": "2023-05-25T06:43:37.377Z"
   },
   {
    "duration": 9,
    "start_time": "2023-05-25T06:43:41.250Z"
   },
   {
    "duration": 10,
    "start_time": "2023-05-25T06:43:41.978Z"
   },
   {
    "duration": 6,
    "start_time": "2023-05-25T06:43:43.799Z"
   },
   {
    "duration": 6,
    "start_time": "2023-05-25T06:43:44.344Z"
   },
   {
    "duration": 5,
    "start_time": "2023-05-25T06:43:44.907Z"
   },
   {
    "duration": 5,
    "start_time": "2023-05-25T06:43:46.047Z"
   },
   {
    "duration": 5,
    "start_time": "2023-05-25T06:43:46.560Z"
   },
   {
    "duration": 8,
    "start_time": "2023-05-25T06:43:51.249Z"
   },
   {
    "duration": 5,
    "start_time": "2023-05-25T06:43:51.872Z"
   },
   {
    "duration": 14,
    "start_time": "2023-05-25T06:43:54.265Z"
   },
   {
    "duration": 19,
    "start_time": "2023-05-25T06:43:54.720Z"
   },
   {
    "duration": 16,
    "start_time": "2023-05-25T06:43:55.187Z"
   },
   {
    "duration": 150,
    "start_time": "2023-05-25T06:44:02.002Z"
   },
   {
    "duration": 8,
    "start_time": "2023-05-25T06:45:04.088Z"
   },
   {
    "duration": 7,
    "start_time": "2023-05-25T06:45:04.642Z"
   },
   {
    "duration": 14,
    "start_time": "2023-05-25T06:45:05.067Z"
   },
   {
    "duration": 6,
    "start_time": "2023-05-25T06:45:05.482Z"
   },
   {
    "duration": 13,
    "start_time": "2023-05-25T06:45:07.567Z"
   },
   {
    "duration": 19,
    "start_time": "2023-05-25T06:45:07.973Z"
   },
   {
    "duration": 14,
    "start_time": "2023-05-25T06:45:08.406Z"
   },
   {
    "duration": 139,
    "start_time": "2023-05-25T06:45:10.779Z"
   },
   {
    "duration": 160,
    "start_time": "2023-05-25T06:45:14.772Z"
   },
   {
    "duration": 104,
    "start_time": "2023-05-25T06:45:16.164Z"
   },
   {
    "duration": 5,
    "start_time": "2023-05-25T06:45:16.913Z"
   },
   {
    "duration": 7,
    "start_time": "2023-05-25T06:45:19.500Z"
   },
   {
    "duration": 64,
    "start_time": "2023-05-25T06:45:20.678Z"
   },
   {
    "duration": 145,
    "start_time": "2023-05-25T06:45:23.698Z"
   },
   {
    "duration": 155,
    "start_time": "2023-05-25T06:45:29.507Z"
   },
   {
    "duration": 156,
    "start_time": "2023-05-25T06:45:32.041Z"
   },
   {
    "duration": 23,
    "start_time": "2023-05-25T06:45:50.899Z"
   },
   {
    "duration": 9,
    "start_time": "2023-05-25T06:45:51.494Z"
   },
   {
    "duration": 12,
    "start_time": "2023-05-25T06:45:55.675Z"
   },
   {
    "duration": 4,
    "start_time": "2023-05-25T06:45:56.348Z"
   },
   {
    "duration": 4,
    "start_time": "2023-05-25T06:45:57.076Z"
   },
   {
    "duration": 4,
    "start_time": "2023-05-25T06:45:57.695Z"
   },
   {
    "duration": 528,
    "start_time": "2023-05-25T06:45:58.979Z"
   },
   {
    "duration": 472,
    "start_time": "2023-05-25T06:45:59.587Z"
   },
   {
    "duration": 29,
    "start_time": "2023-05-25T06:46:02.300Z"
   },
   {
    "duration": 28,
    "start_time": "2023-05-25T06:46:02.957Z"
   },
   {
    "duration": 92,
    "start_time": "2023-05-25T06:46:10.762Z"
   },
   {
    "duration": 770,
    "start_time": "2023-05-25T06:46:11.513Z"
   },
   {
    "duration": 3,
    "start_time": "2023-05-25T06:46:13.749Z"
   },
   {
    "duration": 6,
    "start_time": "2023-05-25T06:46:15.422Z"
   },
   {
    "duration": 18,
    "start_time": "2023-05-25T06:46:16.747Z"
   },
   {
    "duration": 17,
    "start_time": "2023-05-25T06:46:17.280Z"
   },
   {
    "duration": 15,
    "start_time": "2023-05-25T06:46:18.054Z"
   },
   {
    "duration": 6,
    "start_time": "2023-05-25T06:46:24.006Z"
   },
   {
    "duration": 6,
    "start_time": "2023-05-25T06:46:25.481Z"
   },
   {
    "duration": 8,
    "start_time": "2023-05-25T06:46:27.475Z"
   },
   {
    "duration": 3,
    "start_time": "2023-05-25T07:00:29.168Z"
   },
   {
    "duration": 4,
    "start_time": "2023-05-25T07:00:34.663Z"
   },
   {
    "duration": 849,
    "start_time": "2023-05-25T07:00:35.951Z"
   },
   {
    "duration": 2,
    "start_time": "2023-05-25T07:00:37.815Z"
   },
   {
    "duration": 7,
    "start_time": "2023-05-25T07:00:41.209Z"
   },
   {
    "duration": 94,
    "start_time": "2023-05-25T07:00:41.879Z"
   },
   {
    "duration": 15,
    "start_time": "2023-05-25T07:00:42.466Z"
   },
   {
    "duration": 18,
    "start_time": "2023-05-25T07:00:43.053Z"
   },
   {
    "duration": 6,
    "start_time": "2023-05-25T07:48:24.219Z"
   },
   {
    "duration": 5,
    "start_time": "2023-05-25T07:48:29.544Z"
   },
   {
    "duration": 4,
    "start_time": "2023-05-25T08:31:59.442Z"
   },
   {
    "duration": 5,
    "start_time": "2023-05-25T08:32:05.863Z"
   },
   {
    "duration": 10,
    "start_time": "2023-05-25T08:37:44.803Z"
   },
   {
    "duration": 9,
    "start_time": "2023-05-25T09:14:29.754Z"
   },
   {
    "duration": 21,
    "start_time": "2023-05-25T09:16:28.950Z"
   },
   {
    "duration": 6,
    "start_time": "2023-05-25T09:21:04.838Z"
   },
   {
    "duration": 5,
    "start_time": "2023-05-25T09:21:21.595Z"
   },
   {
    "duration": 7,
    "start_time": "2023-05-25T09:23:18.858Z"
   },
   {
    "duration": 5,
    "start_time": "2023-05-25T09:34:48.069Z"
   },
   {
    "duration": 5,
    "start_time": "2023-05-25T09:35:04.810Z"
   },
   {
    "duration": 9,
    "start_time": "2023-05-25T09:48:00.481Z"
   },
   {
    "duration": 5,
    "start_time": "2023-05-25T09:48:46.416Z"
   },
   {
    "duration": 6,
    "start_time": "2023-05-25T09:50:44.896Z"
   },
   {
    "duration": 6,
    "start_time": "2023-05-25T09:51:21.270Z"
   },
   {
    "duration": 5,
    "start_time": "2023-05-25T09:52:52.001Z"
   },
   {
    "duration": 5,
    "start_time": "2023-05-25T09:53:02.136Z"
   },
   {
    "duration": 5,
    "start_time": "2023-05-25T09:53:06.177Z"
   },
   {
    "duration": 17,
    "start_time": "2023-05-25T09:54:56.285Z"
   },
   {
    "duration": 11,
    "start_time": "2023-05-25T09:55:14.485Z"
   },
   {
    "duration": 10,
    "start_time": "2023-05-25T10:00:16.648Z"
   },
   {
    "duration": 10,
    "start_time": "2023-05-25T10:00:18.326Z"
   },
   {
    "duration": 96,
    "start_time": "2023-05-25T10:08:34.743Z"
   },
   {
    "duration": 6,
    "start_time": "2023-05-25T10:09:29.977Z"
   },
   {
    "duration": 4,
    "start_time": "2023-05-25T10:20:40.864Z"
   },
   {
    "duration": 55,
    "start_time": "2023-05-25T10:20:40.871Z"
   },
   {
    "duration": 12,
    "start_time": "2023-05-25T10:20:40.928Z"
   },
   {
    "duration": 40,
    "start_time": "2023-05-25T10:20:40.941Z"
   },
   {
    "duration": 11,
    "start_time": "2023-05-25T10:20:40.984Z"
   },
   {
    "duration": 21,
    "start_time": "2023-05-25T10:20:40.996Z"
   },
   {
    "duration": 12,
    "start_time": "2023-05-25T10:20:41.018Z"
   },
   {
    "duration": 12,
    "start_time": "2023-05-25T10:20:41.031Z"
   },
   {
    "duration": 14,
    "start_time": "2023-05-25T10:20:41.045Z"
   },
   {
    "duration": 38,
    "start_time": "2023-05-25T10:20:41.061Z"
   },
   {
    "duration": 10,
    "start_time": "2023-05-25T10:20:41.102Z"
   },
   {
    "duration": 8,
    "start_time": "2023-05-25T10:20:41.113Z"
   },
   {
    "duration": 14,
    "start_time": "2023-05-25T10:20:41.123Z"
   },
   {
    "duration": 9,
    "start_time": "2023-05-25T10:20:41.139Z"
   },
   {
    "duration": 10,
    "start_time": "2023-05-25T10:20:41.149Z"
   },
   {
    "duration": 5,
    "start_time": "2023-05-25T10:20:41.161Z"
   },
   {
    "duration": 46,
    "start_time": "2023-05-25T10:20:41.167Z"
   },
   {
    "duration": 30,
    "start_time": "2023-05-25T10:20:41.216Z"
   },
   {
    "duration": 53,
    "start_time": "2023-05-25T10:20:41.248Z"
   },
   {
    "duration": 194,
    "start_time": "2023-05-25T10:20:41.303Z"
   },
   {
    "duration": 139,
    "start_time": "2023-05-25T10:20:41.499Z"
   },
   {
    "duration": 6,
    "start_time": "2023-05-25T10:20:41.639Z"
   },
   {
    "duration": 12,
    "start_time": "2023-05-25T10:20:41.647Z"
   },
   {
    "duration": 100,
    "start_time": "2023-05-25T10:20:41.661Z"
   },
   {
    "duration": 193,
    "start_time": "2023-05-25T10:20:41.763Z"
   },
   {
    "duration": 181,
    "start_time": "2023-05-25T10:20:41.958Z"
   },
   {
    "duration": 187,
    "start_time": "2023-05-25T10:20:42.141Z"
   },
   {
    "duration": 25,
    "start_time": "2023-05-25T10:20:42.330Z"
   },
   {
    "duration": 12,
    "start_time": "2023-05-25T10:20:42.360Z"
   },
   {
    "duration": 31,
    "start_time": "2023-05-25T10:20:42.374Z"
   },
   {
    "duration": 4,
    "start_time": "2023-05-25T10:20:42.406Z"
   },
   {
    "duration": 12,
    "start_time": "2023-05-25T10:20:42.412Z"
   },
   {
    "duration": 11,
    "start_time": "2023-05-25T10:20:42.425Z"
   },
   {
    "duration": 612,
    "start_time": "2023-05-25T10:20:42.438Z"
   },
   {
    "duration": 497,
    "start_time": "2023-05-25T10:20:43.052Z"
   },
   {
    "duration": 31,
    "start_time": "2023-05-25T10:20:43.551Z"
   },
   {
    "duration": 39,
    "start_time": "2023-05-25T10:20:43.584Z"
   },
   {
    "duration": 4,
    "start_time": "2023-05-25T10:20:43.625Z"
   },
   {
    "duration": 800,
    "start_time": "2023-05-25T10:20:43.631Z"
   },
   {
    "duration": 2,
    "start_time": "2023-05-25T10:20:44.433Z"
   },
   {
    "duration": 17,
    "start_time": "2023-05-25T10:20:44.437Z"
   },
   {
    "duration": 14,
    "start_time": "2023-05-25T10:20:44.455Z"
   },
   {
    "duration": 32,
    "start_time": "2023-05-25T10:20:44.471Z"
   },
   {
    "duration": 19,
    "start_time": "2023-05-25T10:20:44.505Z"
   },
   {
    "duration": 8,
    "start_time": "2023-05-25T10:20:44.526Z"
   },
   {
    "duration": 15,
    "start_time": "2023-05-25T10:20:44.537Z"
   },
   {
    "duration": 17,
    "start_time": "2023-05-25T10:20:44.554Z"
   },
   {
    "duration": 26,
    "start_time": "2023-05-25T10:20:44.572Z"
   },
   {
    "duration": 12,
    "start_time": "2023-05-25T10:20:44.600Z"
   },
   {
    "duration": 1182,
    "start_time": "2023-05-25T12:02:59.573Z"
   },
   {
    "duration": 38,
    "start_time": "2023-05-25T12:03:00.758Z"
   },
   {
    "duration": 19,
    "start_time": "2023-05-25T12:03:00.798Z"
   },
   {
    "duration": 65,
    "start_time": "2023-05-25T12:03:00.819Z"
   },
   {
    "duration": 12,
    "start_time": "2023-05-25T12:03:00.886Z"
   },
   {
    "duration": 92,
    "start_time": "2023-05-25T12:03:00.900Z"
   },
   {
    "duration": 19,
    "start_time": "2023-05-25T12:03:00.994Z"
   },
   {
    "duration": 27,
    "start_time": "2023-05-25T12:03:01.015Z"
   },
   {
    "duration": 35,
    "start_time": "2023-05-25T12:03:01.044Z"
   },
   {
    "duration": 26,
    "start_time": "2023-05-25T12:03:01.082Z"
   },
   {
    "duration": 40,
    "start_time": "2023-05-25T12:03:01.110Z"
   },
   {
    "duration": 23,
    "start_time": "2023-05-25T12:03:01.152Z"
   },
   {
    "duration": 35,
    "start_time": "2023-05-25T12:03:01.177Z"
   },
   {
    "duration": 21,
    "start_time": "2023-05-25T12:03:01.214Z"
   },
   {
    "duration": 35,
    "start_time": "2023-05-25T12:03:01.237Z"
   },
   {
    "duration": 56,
    "start_time": "2023-05-25T12:03:01.273Z"
   },
   {
    "duration": 49,
    "start_time": "2023-05-25T12:03:01.330Z"
   },
   {
    "duration": 35,
    "start_time": "2023-05-25T12:03:01.381Z"
   },
   {
    "duration": 44,
    "start_time": "2023-05-25T12:03:01.418Z"
   },
   {
    "duration": 179,
    "start_time": "2023-05-25T12:03:01.464Z"
   },
   {
    "duration": 5,
    "start_time": "2023-05-25T12:03:01.645Z"
   },
   {
    "duration": 73,
    "start_time": "2023-05-25T12:03:01.652Z"
   },
   {
    "duration": 111,
    "start_time": "2023-05-25T12:03:01.726Z"
   },
   {
    "duration": 174,
    "start_time": "2023-05-25T12:03:01.839Z"
   },
   {
    "duration": 178,
    "start_time": "2023-05-25T12:03:02.015Z"
   },
   {
    "duration": 187,
    "start_time": "2023-05-25T12:03:02.195Z"
   },
   {
    "duration": 25,
    "start_time": "2023-05-25T12:03:02.384Z"
   },
   {
    "duration": 29,
    "start_time": "2023-05-25T12:03:02.413Z"
   },
   {
    "duration": 35,
    "start_time": "2023-05-25T12:03:02.444Z"
   },
   {
    "duration": 9,
    "start_time": "2023-05-25T12:03:02.480Z"
   },
   {
    "duration": 15,
    "start_time": "2023-05-25T12:03:02.491Z"
   },
   {
    "duration": 11,
    "start_time": "2023-05-25T12:03:02.508Z"
   },
   {
    "duration": 511,
    "start_time": "2023-05-25T12:03:02.521Z"
   },
   {
    "duration": 604,
    "start_time": "2023-05-25T12:03:03.034Z"
   },
   {
    "duration": 39,
    "start_time": "2023-05-25T12:03:03.639Z"
   },
   {
    "duration": 30,
    "start_time": "2023-05-25T12:03:03.679Z"
   },
   {
    "duration": 108,
    "start_time": "2023-05-25T12:03:03.711Z"
   },
   {
    "duration": 0,
    "start_time": "2023-05-25T12:03:03.821Z"
   },
   {
    "duration": 0,
    "start_time": "2023-05-25T12:03:03.822Z"
   },
   {
    "duration": 0,
    "start_time": "2023-05-25T12:03:03.823Z"
   },
   {
    "duration": 0,
    "start_time": "2023-05-25T12:03:03.824Z"
   },
   {
    "duration": 0,
    "start_time": "2023-05-25T12:03:03.825Z"
   },
   {
    "duration": 0,
    "start_time": "2023-05-25T12:03:03.826Z"
   },
   {
    "duration": 0,
    "start_time": "2023-05-25T12:03:03.827Z"
   },
   {
    "duration": 0,
    "start_time": "2023-05-25T12:03:03.828Z"
   },
   {
    "duration": 0,
    "start_time": "2023-05-25T12:03:03.829Z"
   },
   {
    "duration": 0,
    "start_time": "2023-05-25T12:03:03.830Z"
   },
   {
    "duration": 0,
    "start_time": "2023-05-25T12:03:03.831Z"
   },
   {
    "duration": 1210,
    "start_time": "2023-05-25T12:24:31.716Z"
   },
   {
    "duration": 94,
    "start_time": "2023-05-25T12:24:32.929Z"
   },
   {
    "duration": 11,
    "start_time": "2023-05-25T12:24:33.024Z"
   },
   {
    "duration": 194,
    "start_time": "2023-05-25T12:24:33.037Z"
   },
   {
    "duration": 10,
    "start_time": "2023-05-25T12:24:33.232Z"
   },
   {
    "duration": 77,
    "start_time": "2023-05-25T12:24:33.243Z"
   },
   {
    "duration": 18,
    "start_time": "2023-05-25T12:24:33.321Z"
   },
   {
    "duration": 19,
    "start_time": "2023-05-25T12:24:33.340Z"
   },
   {
    "duration": 15,
    "start_time": "2023-05-25T12:24:33.360Z"
   },
   {
    "duration": 27,
    "start_time": "2023-05-25T12:24:33.377Z"
   },
   {
    "duration": 26,
    "start_time": "2023-05-25T12:24:33.406Z"
   },
   {
    "duration": 17,
    "start_time": "2023-05-25T12:24:33.434Z"
   },
   {
    "duration": 23,
    "start_time": "2023-05-25T12:24:33.453Z"
   },
   {
    "duration": 18,
    "start_time": "2023-05-25T12:24:33.478Z"
   },
   {
    "duration": 24,
    "start_time": "2023-05-25T12:24:33.497Z"
   },
   {
    "duration": 8,
    "start_time": "2023-05-25T12:24:33.523Z"
   },
   {
    "duration": 32,
    "start_time": "2023-05-25T12:24:33.532Z"
   },
   {
    "duration": 28,
    "start_time": "2023-05-25T12:24:33.566Z"
   },
   {
    "duration": 23,
    "start_time": "2023-05-25T12:24:33.596Z"
   },
   {
    "duration": 160,
    "start_time": "2023-05-25T12:24:33.620Z"
   },
   {
    "duration": 6,
    "start_time": "2023-05-25T12:24:33.781Z"
   },
   {
    "duration": 21,
    "start_time": "2023-05-25T12:24:33.789Z"
   },
   {
    "duration": 84,
    "start_time": "2023-05-25T12:24:33.812Z"
   },
   {
    "duration": 150,
    "start_time": "2023-05-25T12:24:33.897Z"
   },
   {
    "duration": 164,
    "start_time": "2023-05-25T12:24:34.049Z"
   },
   {
    "duration": 169,
    "start_time": "2023-05-25T12:24:34.214Z"
   },
   {
    "duration": 25,
    "start_time": "2023-05-25T12:24:34.385Z"
   },
   {
    "duration": 10,
    "start_time": "2023-05-25T12:24:34.413Z"
   },
   {
    "duration": 21,
    "start_time": "2023-05-25T12:24:34.425Z"
   },
   {
    "duration": 34,
    "start_time": "2023-05-25T12:24:34.448Z"
   },
   {
    "duration": 8,
    "start_time": "2023-05-25T12:24:34.484Z"
   },
   {
    "duration": 14,
    "start_time": "2023-05-25T12:24:34.493Z"
   },
   {
    "duration": 510,
    "start_time": "2023-05-25T12:24:34.508Z"
   },
   {
    "duration": 627,
    "start_time": "2023-05-25T12:24:35.020Z"
   },
   {
    "duration": 39,
    "start_time": "2023-05-25T12:24:35.650Z"
   },
   {
    "duration": 29,
    "start_time": "2023-05-25T12:24:35.691Z"
   },
   {
    "duration": 116,
    "start_time": "2023-05-25T12:24:35.722Z"
   },
   {
    "duration": 0,
    "start_time": "2023-05-25T12:24:35.840Z"
   },
   {
    "duration": 0,
    "start_time": "2023-05-25T12:24:35.841Z"
   },
   {
    "duration": 0,
    "start_time": "2023-05-25T12:24:35.842Z"
   },
   {
    "duration": 0,
    "start_time": "2023-05-25T12:24:35.843Z"
   },
   {
    "duration": 0,
    "start_time": "2023-05-25T12:24:35.845Z"
   },
   {
    "duration": 0,
    "start_time": "2023-05-25T12:24:35.846Z"
   },
   {
    "duration": 0,
    "start_time": "2023-05-25T12:24:35.848Z"
   },
   {
    "duration": 0,
    "start_time": "2023-05-25T12:24:35.849Z"
   },
   {
    "duration": 0,
    "start_time": "2023-05-25T12:24:35.851Z"
   },
   {
    "duration": 0,
    "start_time": "2023-05-25T12:24:35.852Z"
   },
   {
    "duration": 0,
    "start_time": "2023-05-25T12:24:35.853Z"
   },
   {
    "duration": 3,
    "start_time": "2023-05-25T12:24:45.292Z"
   },
   {
    "duration": 34,
    "start_time": "2023-05-25T12:24:50.704Z"
   },
   {
    "duration": 13,
    "start_time": "2023-05-25T12:24:51.277Z"
   },
   {
    "duration": 41,
    "start_time": "2023-05-25T12:24:52.302Z"
   },
   {
    "duration": 11,
    "start_time": "2023-05-25T12:24:54.613Z"
   },
   {
    "duration": 30,
    "start_time": "2023-05-25T12:24:55.797Z"
   },
   {
    "duration": 11,
    "start_time": "2023-05-25T12:24:58.129Z"
   },
   {
    "duration": 8,
    "start_time": "2023-05-25T12:25:06.021Z"
   },
   {
    "duration": 10,
    "start_time": "2023-05-25T12:25:06.456Z"
   },
   {
    "duration": 6,
    "start_time": "2023-05-25T12:25:08.871Z"
   },
   {
    "duration": 7,
    "start_time": "2023-05-25T12:25:09.500Z"
   },
   {
    "duration": 6,
    "start_time": "2023-05-25T12:25:10.179Z"
   },
   {
    "duration": 6,
    "start_time": "2023-05-25T12:25:11.284Z"
   },
   {
    "duration": 5,
    "start_time": "2023-05-25T12:25:11.852Z"
   },
   {
    "duration": 7,
    "start_time": "2023-05-25T12:25:12.496Z"
   },
   {
    "duration": 4,
    "start_time": "2023-05-25T12:25:12.954Z"
   },
   {
    "duration": 14,
    "start_time": "2023-05-25T12:25:20.497Z"
   },
   {
    "duration": 22,
    "start_time": "2023-05-25T12:25:21.644Z"
   },
   {
    "duration": 22,
    "start_time": "2023-05-25T12:25:22.321Z"
   },
   {
    "duration": 145,
    "start_time": "2023-05-25T12:25:30.899Z"
   },
   {
    "duration": 7,
    "start_time": "2023-05-25T12:25:36.122Z"
   },
   {
    "duration": 7,
    "start_time": "2023-05-25T12:25:36.773Z"
   },
   {
    "duration": 64,
    "start_time": "2023-05-25T12:25:37.351Z"
   },
   {
    "duration": 144,
    "start_time": "2023-05-25T12:25:43.703Z"
   },
   {
    "duration": 161,
    "start_time": "2023-05-25T12:25:47.095Z"
   },
   {
    "duration": 161,
    "start_time": "2023-05-25T12:25:50.146Z"
   },
   {
    "duration": 27,
    "start_time": "2023-05-25T12:25:56.647Z"
   },
   {
    "duration": 12,
    "start_time": "2023-05-25T12:25:57.277Z"
   },
   {
    "duration": 11,
    "start_time": "2023-05-25T12:25:59.694Z"
   },
   {
    "duration": 4,
    "start_time": "2023-05-25T12:26:00.154Z"
   },
   {
    "duration": 4,
    "start_time": "2023-05-25T12:26:01.130Z"
   },
   {
    "duration": 5,
    "start_time": "2023-05-25T12:26:01.694Z"
   },
   {
    "duration": 631,
    "start_time": "2023-05-25T12:26:02.901Z"
   },
   {
    "duration": 558,
    "start_time": "2023-05-25T12:26:03.534Z"
   },
   {
    "duration": 35,
    "start_time": "2023-05-25T12:26:04.094Z"
   },
   {
    "duration": 39,
    "start_time": "2023-05-25T12:26:04.764Z"
   },
   {
    "duration": 9,
    "start_time": "2023-05-25T12:26:10.893Z"
   },
   {
    "duration": 778,
    "start_time": "2023-05-25T12:26:20.479Z"
   },
   {
    "duration": 4,
    "start_time": "2023-05-25T12:27:36.678Z"
   },
   {
    "duration": 4,
    "start_time": "2023-05-25T12:27:43.881Z"
   },
   {
    "duration": 702,
    "start_time": "2023-05-25T12:35:06.894Z"
   },
   {
    "duration": 3,
    "start_time": "2023-05-25T12:35:31.183Z"
   },
   {
    "duration": 4,
    "start_time": "2023-05-25T12:35:34.538Z"
   },
   {
    "duration": 759,
    "start_time": "2023-05-25T12:35:40.758Z"
   },
   {
    "duration": 2,
    "start_time": "2023-05-25T12:35:51.175Z"
   },
   {
    "duration": 6,
    "start_time": "2023-05-25T12:35:53.832Z"
   },
   {
    "duration": 13,
    "start_time": "2023-05-25T12:35:55.324Z"
   },
   {
    "duration": 15,
    "start_time": "2023-05-25T12:35:56.523Z"
   },
   {
    "duration": 18,
    "start_time": "2023-05-25T12:35:57.157Z"
   },
   {
    "duration": 6,
    "start_time": "2023-05-25T12:36:10.398Z"
   },
   {
    "duration": 4,
    "start_time": "2023-05-25T12:36:15.052Z"
   },
   {
    "duration": 10,
    "start_time": "2023-05-25T12:36:16.940Z"
   },
   {
    "duration": 9,
    "start_time": "2023-05-25T12:36:18.072Z"
   },
   {
    "duration": 11,
    "start_time": "2023-05-25T12:36:18.972Z"
   },
   {
    "duration": 10,
    "start_time": "2023-05-25T12:38:11.291Z"
   },
   {
    "duration": 5,
    "start_time": "2023-05-25T12:40:35.612Z"
   },
   {
    "duration": 889,
    "start_time": "2023-05-25T12:40:42.123Z"
   },
   {
    "duration": 2,
    "start_time": "2023-05-25T12:40:43.305Z"
   },
   {
    "duration": 8,
    "start_time": "2023-05-25T12:40:46.741Z"
   },
   {
    "duration": 94,
    "start_time": "2023-05-25T12:40:51.401Z"
   },
   {
    "duration": 13,
    "start_time": "2023-05-25T12:40:51.946Z"
   },
   {
    "duration": 29,
    "start_time": "2023-05-25T12:40:52.682Z"
   },
   {
    "duration": 1218,
    "start_time": "2023-05-25T12:41:48.016Z"
   },
   {
    "duration": 37,
    "start_time": "2023-05-25T12:41:49.236Z"
   },
   {
    "duration": 12,
    "start_time": "2023-05-25T12:41:49.275Z"
   },
   {
    "duration": 33,
    "start_time": "2023-05-25T12:41:49.289Z"
   },
   {
    "duration": 10,
    "start_time": "2023-05-25T12:41:49.324Z"
   },
   {
    "duration": 19,
    "start_time": "2023-05-25T12:41:49.336Z"
   },
   {
    "duration": 10,
    "start_time": "2023-05-25T12:41:49.357Z"
   },
   {
    "duration": 19,
    "start_time": "2023-05-25T12:41:49.380Z"
   },
   {
    "duration": 11,
    "start_time": "2023-05-25T12:41:49.402Z"
   },
   {
    "duration": 6,
    "start_time": "2023-05-25T12:41:49.416Z"
   },
   {
    "duration": 8,
    "start_time": "2023-05-25T12:41:49.423Z"
   },
   {
    "duration": 6,
    "start_time": "2023-05-25T12:41:49.432Z"
   },
   {
    "duration": 40,
    "start_time": "2023-05-25T12:41:49.440Z"
   },
   {
    "duration": 5,
    "start_time": "2023-05-25T12:41:49.482Z"
   },
   {
    "duration": 12,
    "start_time": "2023-05-25T12:41:49.489Z"
   },
   {
    "duration": 10,
    "start_time": "2023-05-25T12:41:49.503Z"
   },
   {
    "duration": 24,
    "start_time": "2023-05-25T12:41:49.515Z"
   },
   {
    "duration": 55,
    "start_time": "2023-05-25T12:41:49.541Z"
   },
   {
    "duration": 17,
    "start_time": "2023-05-25T12:41:49.599Z"
   },
   {
    "duration": 200,
    "start_time": "2023-05-25T12:41:49.618Z"
   },
   {
    "duration": 5,
    "start_time": "2023-05-25T12:41:49.820Z"
   },
   {
    "duration": 17,
    "start_time": "2023-05-25T12:41:49.827Z"
   },
   {
    "duration": 94,
    "start_time": "2023-05-25T12:41:49.845Z"
   },
   {
    "duration": 199,
    "start_time": "2023-05-25T12:41:49.940Z"
   },
   {
    "duration": 199,
    "start_time": "2023-05-25T12:41:50.141Z"
   },
   {
    "duration": 204,
    "start_time": "2023-05-25T12:41:50.341Z"
   },
   {
    "duration": 36,
    "start_time": "2023-05-25T12:41:50.546Z"
   },
   {
    "duration": 14,
    "start_time": "2023-05-25T12:41:50.589Z"
   },
   {
    "duration": 13,
    "start_time": "2023-05-25T12:41:50.604Z"
   },
   {
    "duration": 3,
    "start_time": "2023-05-25T12:41:50.619Z"
   },
   {
    "duration": 16,
    "start_time": "2023-05-25T12:41:50.623Z"
   },
   {
    "duration": 8,
    "start_time": "2023-05-25T12:41:50.640Z"
   },
   {
    "duration": 596,
    "start_time": "2023-05-25T12:41:50.649Z"
   },
   {
    "duration": 691,
    "start_time": "2023-05-25T12:41:51.247Z"
   },
   {
    "duration": 40,
    "start_time": "2023-05-25T12:41:51.940Z"
   },
   {
    "duration": 34,
    "start_time": "2023-05-25T12:41:51.982Z"
   },
   {
    "duration": 4,
    "start_time": "2023-05-25T12:41:52.018Z"
   },
   {
    "duration": 835,
    "start_time": "2023-05-25T12:41:52.024Z"
   },
   {
    "duration": 2,
    "start_time": "2023-05-25T12:41:52.861Z"
   },
   {
    "duration": 18,
    "start_time": "2023-05-25T12:41:52.865Z"
   },
   {
    "duration": 21,
    "start_time": "2023-05-25T12:41:52.885Z"
   },
   {
    "duration": 12,
    "start_time": "2023-05-25T12:41:52.908Z"
   },
   {
    "duration": 26,
    "start_time": "2023-05-25T12:41:52.921Z"
   },
   {
    "duration": 6,
    "start_time": "2023-05-25T12:41:52.949Z"
   },
   {
    "duration": 33,
    "start_time": "2023-05-25T12:41:52.956Z"
   },
   {
    "duration": 12,
    "start_time": "2023-05-25T12:41:52.992Z"
   },
   {
    "duration": 11,
    "start_time": "2023-05-25T12:41:53.007Z"
   },
   {
    "duration": 16,
    "start_time": "2023-05-25T12:41:53.019Z"
   },
   {
    "duration": 4,
    "start_time": "2023-05-25T12:42:35.007Z"
   },
   {
    "duration": 976,
    "start_time": "2023-05-25T12:42:36.541Z"
   },
   {
    "duration": 2,
    "start_time": "2023-05-25T12:42:41.623Z"
   },
   {
    "duration": 6,
    "start_time": "2023-05-25T12:42:43.036Z"
   },
   {
    "duration": 16,
    "start_time": "2023-05-25T12:42:44.299Z"
   },
   {
    "duration": 95,
    "start_time": "2023-05-25T12:42:45.077Z"
   },
   {
    "duration": 24,
    "start_time": "2023-05-25T12:42:45.896Z"
   },
   {
    "duration": 3,
    "start_time": "2023-05-25T12:43:22.494Z"
   },
   {
    "duration": 3,
    "start_time": "2023-05-25T12:43:50.212Z"
   },
   {
    "duration": 4,
    "start_time": "2023-05-25T12:44:14.992Z"
   },
   {
    "duration": 1091,
    "start_time": "2023-05-25T12:45:47.706Z"
   },
   {
    "duration": 38,
    "start_time": "2023-05-25T12:45:48.798Z"
   },
   {
    "duration": 10,
    "start_time": "2023-05-25T12:45:48.838Z"
   },
   {
    "duration": 33,
    "start_time": "2023-05-25T12:45:48.850Z"
   },
   {
    "duration": 10,
    "start_time": "2023-05-25T12:45:48.885Z"
   },
   {
    "duration": 22,
    "start_time": "2023-05-25T12:45:48.897Z"
   },
   {
    "duration": 9,
    "start_time": "2023-05-25T12:45:48.921Z"
   },
   {
    "duration": 31,
    "start_time": "2023-05-25T12:45:48.932Z"
   },
   {
    "duration": 22,
    "start_time": "2023-05-25T12:45:48.965Z"
   },
   {
    "duration": 26,
    "start_time": "2023-05-25T12:45:48.991Z"
   },
   {
    "duration": 13,
    "start_time": "2023-05-25T12:45:49.019Z"
   },
   {
    "duration": 20,
    "start_time": "2023-05-25T12:45:49.033Z"
   },
   {
    "duration": 26,
    "start_time": "2023-05-25T12:45:49.054Z"
   },
   {
    "duration": 24,
    "start_time": "2023-05-25T12:45:49.081Z"
   },
   {
    "duration": 28,
    "start_time": "2023-05-25T12:45:49.107Z"
   },
   {
    "duration": 29,
    "start_time": "2023-05-25T12:45:49.136Z"
   },
   {
    "duration": 22,
    "start_time": "2023-05-25T12:45:49.167Z"
   },
   {
    "duration": 20,
    "start_time": "2023-05-25T12:45:49.190Z"
   },
   {
    "duration": 15,
    "start_time": "2023-05-25T12:45:49.212Z"
   },
   {
    "duration": 183,
    "start_time": "2023-05-25T12:45:49.228Z"
   },
   {
    "duration": 6,
    "start_time": "2023-05-25T12:45:49.413Z"
   },
   {
    "duration": 26,
    "start_time": "2023-05-25T12:45:49.421Z"
   },
   {
    "duration": 79,
    "start_time": "2023-05-25T12:45:49.449Z"
   },
   {
    "duration": 172,
    "start_time": "2023-05-25T12:45:49.530Z"
   },
   {
    "duration": 168,
    "start_time": "2023-05-25T12:45:49.704Z"
   },
   {
    "duration": 172,
    "start_time": "2023-05-25T12:45:49.874Z"
   },
   {
    "duration": 32,
    "start_time": "2023-05-25T12:45:50.048Z"
   },
   {
    "duration": 8,
    "start_time": "2023-05-25T12:45:50.083Z"
   },
   {
    "duration": 33,
    "start_time": "2023-05-25T12:45:50.092Z"
   },
   {
    "duration": 16,
    "start_time": "2023-05-25T12:45:50.127Z"
   },
   {
    "duration": 25,
    "start_time": "2023-05-25T12:45:50.144Z"
   },
   {
    "duration": 24,
    "start_time": "2023-05-25T12:45:50.171Z"
   },
   {
    "duration": 496,
    "start_time": "2023-05-25T12:45:50.196Z"
   },
   {
    "duration": 601,
    "start_time": "2023-05-25T12:45:50.693Z"
   },
   {
    "duration": 32,
    "start_time": "2023-05-25T12:45:51.296Z"
   },
   {
    "duration": 49,
    "start_time": "2023-05-25T12:45:51.329Z"
   },
   {
    "duration": 3,
    "start_time": "2023-05-25T12:45:51.380Z"
   },
   {
    "duration": 800,
    "start_time": "2023-05-25T12:45:51.385Z"
   },
   {
    "duration": 2,
    "start_time": "2023-05-25T12:45:52.187Z"
   },
   {
    "duration": 76,
    "start_time": "2023-05-25T12:45:52.190Z"
   },
   {
    "duration": 49,
    "start_time": "2023-05-25T12:45:52.267Z"
   },
   {
    "duration": 24,
    "start_time": "2023-05-25T12:45:52.318Z"
   },
   {
    "duration": 24,
    "start_time": "2023-05-25T12:45:52.344Z"
   },
   {
    "duration": 19,
    "start_time": "2023-05-25T12:45:52.369Z"
   },
   {
    "duration": 21,
    "start_time": "2023-05-25T12:45:52.390Z"
   },
   {
    "duration": 33,
    "start_time": "2023-05-25T12:45:52.413Z"
   },
   {
    "duration": 32,
    "start_time": "2023-05-25T12:45:52.448Z"
   },
   {
    "duration": 33,
    "start_time": "2023-05-25T12:45:52.482Z"
   },
   {
    "duration": 3,
    "start_time": "2023-05-25T12:46:02.371Z"
   },
   {
    "duration": 35,
    "start_time": "2023-05-25T12:46:03.990Z"
   },
   {
    "duration": 11,
    "start_time": "2023-05-25T12:46:08.005Z"
   },
   {
    "duration": 41,
    "start_time": "2023-05-25T12:46:09.821Z"
   },
   {
    "duration": 10,
    "start_time": "2023-05-25T12:46:12.238Z"
   },
   {
    "duration": 30,
    "start_time": "2023-05-25T12:46:13.726Z"
   },
   {
    "duration": 10,
    "start_time": "2023-05-25T12:46:15.595Z"
   },
   {
    "duration": 10,
    "start_time": "2023-05-25T12:46:30.488Z"
   },
   {
    "duration": 10,
    "start_time": "2023-05-25T12:46:32.081Z"
   },
   {
    "duration": 6,
    "start_time": "2023-05-25T12:46:34.951Z"
   },
   {
    "duration": 6,
    "start_time": "2023-05-25T12:46:35.644Z"
   },
   {
    "duration": 6,
    "start_time": "2023-05-25T12:46:36.327Z"
   },
   {
    "duration": 5,
    "start_time": "2023-05-25T12:46:38.276Z"
   },
   {
    "duration": 6,
    "start_time": "2023-05-25T12:46:40.843Z"
   },
   {
    "duration": 10,
    "start_time": "2023-05-25T12:46:41.506Z"
   },
   {
    "duration": 6,
    "start_time": "2023-05-25T12:46:42.781Z"
   },
   {
    "duration": 14,
    "start_time": "2023-05-25T12:46:46.731Z"
   },
   {
    "duration": 20,
    "start_time": "2023-05-25T12:46:48.044Z"
   },
   {
    "duration": 18,
    "start_time": "2023-05-25T12:46:48.741Z"
   },
   {
    "duration": 140,
    "start_time": "2023-05-25T12:46:54.645Z"
   },
   {
    "duration": 6,
    "start_time": "2023-05-25T12:47:01.422Z"
   },
   {
    "duration": 7,
    "start_time": "2023-05-25T12:47:02.006Z"
   },
   {
    "duration": 63,
    "start_time": "2023-05-25T12:47:02.726Z"
   },
   {
    "duration": 148,
    "start_time": "2023-05-25T12:47:09.716Z"
   },
   {
    "duration": 228,
    "start_time": "2023-05-25T12:47:14.525Z"
   },
   {
    "duration": 168,
    "start_time": "2023-05-25T12:47:20.186Z"
   },
   {
    "duration": 38,
    "start_time": "2023-05-25T12:47:24.837Z"
   },
   {
    "duration": 8,
    "start_time": "2023-05-25T12:47:25.718Z"
   },
   {
    "duration": 12,
    "start_time": "2023-05-25T12:47:32.058Z"
   },
   {
    "duration": 3,
    "start_time": "2023-05-25T12:47:32.722Z"
   },
   {
    "duration": 4,
    "start_time": "2023-05-25T12:47:33.378Z"
   },
   {
    "duration": 4,
    "start_time": "2023-05-25T12:47:33.941Z"
   },
   {
    "duration": 467,
    "start_time": "2023-05-25T12:47:35.985Z"
   },
   {
    "duration": 489,
    "start_time": "2023-05-25T12:47:36.656Z"
   },
   {
    "duration": 40,
    "start_time": "2023-05-25T12:47:38.190Z"
   },
   {
    "duration": 30,
    "start_time": "2023-05-25T12:47:38.984Z"
   },
   {
    "duration": 3,
    "start_time": "2023-05-25T12:47:44.677Z"
   },
   {
    "duration": 831,
    "start_time": "2023-05-25T12:47:46.472Z"
   },
   {
    "duration": 2,
    "start_time": "2023-05-25T12:47:58.844Z"
   },
   {
    "duration": 7,
    "start_time": "2023-05-25T12:48:00.375Z"
   },
   {
    "duration": 103,
    "start_time": "2023-05-25T12:48:01.039Z"
   },
   {
    "duration": 14,
    "start_time": "2023-05-25T12:48:01.708Z"
   },
   {
    "duration": 27,
    "start_time": "2023-05-25T12:48:06.742Z"
   },
   {
    "duration": 6,
    "start_time": "2023-05-25T12:48:13.012Z"
   },
   {
    "duration": 5,
    "start_time": "2023-05-25T12:48:17.028Z"
   },
   {
    "duration": 9,
    "start_time": "2023-05-25T12:48:19.536Z"
   },
   {
    "duration": 10,
    "start_time": "2023-05-25T12:48:20.898Z"
   },
   {
    "duration": 11,
    "start_time": "2023-05-25T12:48:24.189Z"
   },
   {
    "duration": 1149,
    "start_time": "2023-05-25T12:48:50.675Z"
   },
   {
    "duration": 38,
    "start_time": "2023-05-25T12:48:51.826Z"
   },
   {
    "duration": 12,
    "start_time": "2023-05-25T12:48:51.869Z"
   },
   {
    "duration": 37,
    "start_time": "2023-05-25T12:48:51.883Z"
   },
   {
    "duration": 16,
    "start_time": "2023-05-25T12:48:51.922Z"
   },
   {
    "duration": 21,
    "start_time": "2023-05-25T12:48:51.939Z"
   },
   {
    "duration": 11,
    "start_time": "2023-05-25T12:48:51.961Z"
   },
   {
    "duration": 27,
    "start_time": "2023-05-25T12:48:51.974Z"
   },
   {
    "duration": 20,
    "start_time": "2023-05-25T12:48:52.004Z"
   },
   {
    "duration": 13,
    "start_time": "2023-05-25T12:48:52.026Z"
   },
   {
    "duration": 17,
    "start_time": "2023-05-25T12:48:52.041Z"
   },
   {
    "duration": 8,
    "start_time": "2023-05-25T12:48:52.060Z"
   },
   {
    "duration": 50,
    "start_time": "2023-05-25T12:48:52.069Z"
   },
   {
    "duration": 15,
    "start_time": "2023-05-25T12:48:52.121Z"
   },
   {
    "duration": 24,
    "start_time": "2023-05-25T12:48:52.137Z"
   },
   {
    "duration": 9,
    "start_time": "2023-05-25T12:48:52.162Z"
   },
   {
    "duration": 20,
    "start_time": "2023-05-25T12:48:52.173Z"
   },
   {
    "duration": 20,
    "start_time": "2023-05-25T12:48:52.195Z"
   },
   {
    "duration": 16,
    "start_time": "2023-05-25T12:48:52.216Z"
   },
   {
    "duration": 174,
    "start_time": "2023-05-25T12:48:52.234Z"
   },
   {
    "duration": 6,
    "start_time": "2023-05-25T12:48:52.409Z"
   },
   {
    "duration": 11,
    "start_time": "2023-05-25T12:48:52.416Z"
   },
   {
    "duration": 77,
    "start_time": "2023-05-25T12:48:52.428Z"
   },
   {
    "duration": 147,
    "start_time": "2023-05-25T12:48:52.507Z"
   },
   {
    "duration": 175,
    "start_time": "2023-05-25T12:48:52.656Z"
   },
   {
    "duration": 174,
    "start_time": "2023-05-25T12:48:52.832Z"
   },
   {
    "duration": 25,
    "start_time": "2023-05-25T12:48:53.009Z"
   },
   {
    "duration": 10,
    "start_time": "2023-05-25T12:48:53.036Z"
   },
   {
    "duration": 30,
    "start_time": "2023-05-25T12:48:53.048Z"
   },
   {
    "duration": 6,
    "start_time": "2023-05-25T12:48:53.079Z"
   },
   {
    "duration": 5,
    "start_time": "2023-05-25T12:48:53.086Z"
   },
   {
    "duration": 22,
    "start_time": "2023-05-25T12:48:53.093Z"
   },
   {
    "duration": 476,
    "start_time": "2023-05-25T12:48:53.117Z"
   },
   {
    "duration": 576,
    "start_time": "2023-05-25T12:48:53.595Z"
   },
   {
    "duration": 33,
    "start_time": "2023-05-25T12:48:54.173Z"
   },
   {
    "duration": 32,
    "start_time": "2023-05-25T12:48:54.207Z"
   },
   {
    "duration": 3,
    "start_time": "2023-05-25T12:48:54.241Z"
   },
   {
    "duration": 801,
    "start_time": "2023-05-25T12:48:54.245Z"
   },
   {
    "duration": 3,
    "start_time": "2023-05-25T12:48:55.048Z"
   },
   {
    "duration": 31,
    "start_time": "2023-05-25T12:48:55.052Z"
   },
   {
    "duration": 19,
    "start_time": "2023-05-25T12:48:55.085Z"
   },
   {
    "duration": 13,
    "start_time": "2023-05-25T12:48:55.106Z"
   },
   {
    "duration": 27,
    "start_time": "2023-05-25T12:48:55.121Z"
   },
   {
    "duration": 6,
    "start_time": "2023-05-25T12:48:55.149Z"
   },
   {
    "duration": 9,
    "start_time": "2023-05-25T12:48:55.156Z"
   },
   {
    "duration": 18,
    "start_time": "2023-05-25T12:48:55.167Z"
   },
   {
    "duration": 16,
    "start_time": "2023-05-25T12:48:55.187Z"
   },
   {
    "duration": 33,
    "start_time": "2023-05-25T12:48:55.204Z"
   },
   {
    "duration": 1284,
    "start_time": "2023-05-25T17:44:34.312Z"
   },
   {
    "duration": 96,
    "start_time": "2023-05-25T17:44:35.598Z"
   },
   {
    "duration": 24,
    "start_time": "2023-05-25T17:44:35.696Z"
   },
   {
    "duration": 94,
    "start_time": "2023-05-25T17:44:35.722Z"
   },
   {
    "duration": 9,
    "start_time": "2023-05-25T17:44:35.817Z"
   },
   {
    "duration": 80,
    "start_time": "2023-05-25T17:44:35.828Z"
   },
   {
    "duration": 10,
    "start_time": "2023-05-25T17:44:35.909Z"
   },
   {
    "duration": 11,
    "start_time": "2023-05-25T17:44:35.921Z"
   },
   {
    "duration": 8,
    "start_time": "2023-05-25T17:44:35.934Z"
   },
   {
    "duration": 6,
    "start_time": "2023-05-25T17:44:35.944Z"
   },
   {
    "duration": 7,
    "start_time": "2023-05-25T17:44:35.951Z"
   },
   {
    "duration": 5,
    "start_time": "2023-05-25T17:44:35.959Z"
   },
   {
    "duration": 49,
    "start_time": "2023-05-25T17:44:35.966Z"
   },
   {
    "duration": 15,
    "start_time": "2023-05-25T17:44:36.017Z"
   },
   {
    "duration": 16,
    "start_time": "2023-05-25T17:44:36.033Z"
   },
   {
    "duration": 5,
    "start_time": "2023-05-25T17:44:36.051Z"
   },
   {
    "duration": 17,
    "start_time": "2023-05-25T17:44:36.057Z"
   },
   {
    "duration": 67,
    "start_time": "2023-05-25T17:44:36.076Z"
   },
   {
    "duration": 15,
    "start_time": "2023-05-25T17:44:36.145Z"
   },
   {
    "duration": 193,
    "start_time": "2023-05-25T17:44:36.162Z"
   },
   {
    "duration": 8,
    "start_time": "2023-05-25T17:44:36.356Z"
   },
   {
    "duration": 56,
    "start_time": "2023-05-25T17:44:36.365Z"
   },
   {
    "duration": 81,
    "start_time": "2023-05-25T17:44:36.423Z"
   },
   {
    "duration": 156,
    "start_time": "2023-05-25T17:44:36.505Z"
   },
   {
    "duration": 186,
    "start_time": "2023-05-25T17:44:36.662Z"
   },
   {
    "duration": 177,
    "start_time": "2023-05-25T17:44:36.850Z"
   },
   {
    "duration": 25,
    "start_time": "2023-05-25T17:44:37.029Z"
   },
   {
    "duration": 10,
    "start_time": "2023-05-25T17:44:37.057Z"
   },
   {
    "duration": 16,
    "start_time": "2023-05-25T17:44:37.084Z"
   },
   {
    "duration": 34,
    "start_time": "2023-05-25T17:44:37.102Z"
   },
   {
    "duration": 6,
    "start_time": "2023-05-25T17:44:37.137Z"
   },
   {
    "duration": 4,
    "start_time": "2023-05-25T17:44:37.144Z"
   },
   {
    "duration": 506,
    "start_time": "2023-05-25T17:44:37.150Z"
   },
   {
    "duration": 594,
    "start_time": "2023-05-25T17:44:37.658Z"
   },
   {
    "duration": 38,
    "start_time": "2023-05-25T17:44:38.253Z"
   },
   {
    "duration": 32,
    "start_time": "2023-05-25T17:44:38.293Z"
   },
   {
    "duration": 6,
    "start_time": "2023-05-25T17:44:38.327Z"
   },
   {
    "duration": 951,
    "start_time": "2023-05-25T17:44:38.335Z"
   },
   {
    "duration": 7,
    "start_time": "2023-05-25T17:44:39.287Z"
   },
   {
    "duration": 25,
    "start_time": "2023-05-25T17:44:39.299Z"
   },
   {
    "duration": 17,
    "start_time": "2023-05-25T17:44:39.325Z"
   },
   {
    "duration": 13,
    "start_time": "2023-05-25T17:44:39.343Z"
   },
   {
    "duration": 17,
    "start_time": "2023-05-25T17:44:39.357Z"
   },
   {
    "duration": 5,
    "start_time": "2023-05-25T17:44:39.375Z"
   },
   {
    "duration": 22,
    "start_time": "2023-05-25T17:44:39.384Z"
   },
   {
    "duration": 13,
    "start_time": "2023-05-25T17:44:39.411Z"
   },
   {
    "duration": 13,
    "start_time": "2023-05-25T17:44:39.426Z"
   },
   {
    "duration": 8,
    "start_time": "2023-05-25T17:44:39.441Z"
   },
   {
    "duration": 5,
    "start_time": "2023-05-25T17:45:50.329Z"
   },
   {
    "duration": 6,
    "start_time": "2023-05-25T17:46:05.049Z"
   }
  ],
  "kernelspec": {
   "display_name": "Python 3 (ipykernel)",
   "language": "python",
   "name": "python3"
  },
  "language_info": {
   "codemirror_mode": {
    "name": "ipython",
    "version": 3
   },
   "file_extension": ".py",
   "mimetype": "text/x-python",
   "name": "python",
   "nbconvert_exporter": "python",
   "pygments_lexer": "ipython3",
   "version": "3.11.3"
  },
  "toc": {
   "base_numbering": 1,
   "nav_menu": {},
   "number_sections": true,
   "sideBar": true,
   "skip_h1_title": true,
   "title_cell": "Table of Contents",
   "title_sidebar": "Contents",
   "toc_cell": false,
   "toc_position": {},
   "toc_section_display": true,
   "toc_window_display": false
  }
 },
 "nbformat": 4,
 "nbformat_minor": 5
}
