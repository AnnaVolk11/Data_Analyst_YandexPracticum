{
 "cells": [
  {
   "cell_type": "markdown",
   "metadata": {},
   "source": [
    "**Проект по А/B-тестированию**\n",
    "\n",
    "**Задача** — провести оценку результатов A/B-теста. \n",
    "\n",
    "- Оцените корректность проведения теста и проанализируйте его результаты.\n",
    "\n",
    "Чтобы оценить корректность проведения теста:\n",
    "- удостоверьтесь, что нет пересечений с конкурирующим тестом и нет пользователей, участвующих в двух группах теста одновременно;\n",
    "- проверьте равномерность распределения пользователей по тестовым группам и правильность их формирования.\n",
    "\n",
    "\n",
    "**Техническое задание**\n",
    "Название теста: recommender_system_test ;\n",
    "- Группы: А (контрольная), B (новая платёжная воронка);\n",
    "- Дата запуска: 2020-12-07;\n",
    "- Дата остановки набора новых пользователей: 2020-12-21;\n",
    "- Дата остановки: 2021-01-04;\n",
    "- Ожидаемое количество участников теста: 15% новых пользователей из региона EU;\n",
    "- Назначение теста: тестирование изменений, связанных с внедрением улучшенной рекомендательной системы;\n",
    "- Ожидаемый эффект: за 14 дней с момента регистрации в системе пользователи покажут улучшение каждой метрики не менее, чем на 5 процентных пунктов: конверсии в просмотр карточек товаров — событие product_page, просмотры корзины — product_cart, покупки — purchase ."
   ]
  },
  {
   "cell_type": "markdown",
   "metadata": {},
   "source": [
    "**ОТКРЫТИЕ ФАЙЛОВ И УЗУЧЕНИЕ ИНФОРМАЦИИ**"
   ]
  },
  {
   "cell_type": "code",
   "execution_count": 0,
   "metadata": {},
   "outputs": [],
   "source": [
    "#Импорт библиотек\n",
    "import pandas as pd\n",
    "import datetime as dt\n",
    "from datetime import datetime, timedelta\n",
    "\n",
    "import numpy as np\n",
    "from plotly import graph_objects as go\n",
    "import seaborn as sns\n",
    "import matplotlib.pyplot as plt\n",
    "import matplotlib\n",
    "import warnings\n",
    "from statsmodels.stats.proportion import proportions_ztest\n",
    "\n",
    "sns.set()\n",
    "warnings.filterwarnings('ignore')\n",
    "matplotlib.style.use('seaborn-pastel')\n",
    "%config InlineBackend.figure_format = 'retina'"
   ]
  },
  {
   "cell_type": "code",
   "execution_count": 1,
   "metadata": {},
   "outputs": [
    {
     "name": "stdout",
     "output_type": "stream",
     "text": [
      "Requirement already satisfied: kaleido in c:\\users\\annav\\anaconda3\\lib\\site-packages (0.2.1)Note: you may need to restart the kernel to use updated packages.\n",
      "\n"
     ]
    }
   ],
   "source": [
    "pip install -U kaleido"
   ]
  },
  {
   "cell_type": "code",
   "execution_count": 2,
   "metadata": {},
   "outputs": [],
   "source": [
    "df_marketing_events = pd.read_csv('https://code.s3.yandex.net/datasets/ab_project_marketing_events.csv')"
   ]
  },
  {
   "cell_type": "code",
   "execution_count": 3,
   "metadata": {},
   "outputs": [
    {
     "data": {
      "text/html": [
       "<div>\n",
       "<style scoped>\n",
       "    .dataframe tbody tr th:only-of-type {\n",
       "        vertical-align: middle;\n",
       "    }\n",
       "\n",
       "    .dataframe tbody tr th {\n",
       "        vertical-align: top;\n",
       "    }\n",
       "\n",
       "    .dataframe thead th {\n",
       "        text-align: right;\n",
       "    }\n",
       "</style>\n",
       "<table border=\"1\" class=\"dataframe\">\n",
       "  <thead>\n",
       "    <tr style=\"text-align: right;\">\n",
       "      <th></th>\n",
       "      <th>name</th>\n",
       "      <th>regions</th>\n",
       "      <th>start_dt</th>\n",
       "      <th>finish_dt</th>\n",
       "    </tr>\n",
       "  </thead>\n",
       "  <tbody>\n",
       "    <tr>\n",
       "      <th>0</th>\n",
       "      <td>Christmas&amp;New Year Promo</td>\n",
       "      <td>EU, N.America</td>\n",
       "      <td>2020-12-25</td>\n",
       "      <td>2021-01-03</td>\n",
       "    </tr>\n",
       "    <tr>\n",
       "      <th>1</th>\n",
       "      <td>St. Valentine's Day Giveaway</td>\n",
       "      <td>EU, CIS, APAC, N.America</td>\n",
       "      <td>2020-02-14</td>\n",
       "      <td>2020-02-16</td>\n",
       "    </tr>\n",
       "    <tr>\n",
       "      <th>2</th>\n",
       "      <td>St. Patric's Day Promo</td>\n",
       "      <td>EU, N.America</td>\n",
       "      <td>2020-03-17</td>\n",
       "      <td>2020-03-19</td>\n",
       "    </tr>\n",
       "    <tr>\n",
       "      <th>3</th>\n",
       "      <td>Easter Promo</td>\n",
       "      <td>EU, CIS, APAC, N.America</td>\n",
       "      <td>2020-04-12</td>\n",
       "      <td>2020-04-19</td>\n",
       "    </tr>\n",
       "    <tr>\n",
       "      <th>4</th>\n",
       "      <td>4th of July Promo</td>\n",
       "      <td>N.America</td>\n",
       "      <td>2020-07-04</td>\n",
       "      <td>2020-07-11</td>\n",
       "    </tr>\n",
       "  </tbody>\n",
       "</table>\n",
       "</div>"
      ],
      "text/plain": [
       "                           name                   regions    start_dt  \\\n",
       "0      Christmas&New Year Promo             EU, N.America  2020-12-25   \n",
       "1  St. Valentine's Day Giveaway  EU, CIS, APAC, N.America  2020-02-14   \n",
       "2        St. Patric's Day Promo             EU, N.America  2020-03-17   \n",
       "3                  Easter Promo  EU, CIS, APAC, N.America  2020-04-12   \n",
       "4             4th of July Promo                 N.America  2020-07-04   \n",
       "\n",
       "    finish_dt  \n",
       "0  2021-01-03  \n",
       "1  2020-02-16  \n",
       "2  2020-03-19  \n",
       "3  2020-04-19  \n",
       "4  2020-07-11  "
      ]
     },
     "execution_count": 3,
     "metadata": {},
     "output_type": "execute_result"
    }
   ],
   "source": [
    "df_marketing_events.head()"
   ]
  },
  {
   "cell_type": "code",
   "execution_count": 4,
   "metadata": {},
   "outputs": [
    {
     "name": "stdout",
     "output_type": "stream",
     "text": [
      "<class 'pandas.core.frame.DataFrame'>\n",
      "RangeIndex: 14 entries, 0 to 13\n",
      "Data columns (total 4 columns):\n",
      " #   Column     Non-Null Count  Dtype \n",
      "---  ------     --------------  ----- \n",
      " 0   name       14 non-null     object\n",
      " 1   regions    14 non-null     object\n",
      " 2   start_dt   14 non-null     object\n",
      " 3   finish_dt  14 non-null     object\n",
      "dtypes: object(4)\n",
      "memory usage: 580.0+ bytes\n"
     ]
    }
   ],
   "source": [
    "df_marketing_events.info()"
   ]
  },
  {
   "cell_type": "code",
   "execution_count": 5,
   "metadata": {},
   "outputs": [],
   "source": [
    "df_new_users = pd.read_csv('https://code.s3.yandex.net/datasets/final_ab_new_users.csv')"
   ]
  },
  {
   "cell_type": "code",
   "execution_count": 6,
   "metadata": {},
   "outputs": [
    {
     "data": {
      "text/html": [
       "<div>\n",
       "<style scoped>\n",
       "    .dataframe tbody tr th:only-of-type {\n",
       "        vertical-align: middle;\n",
       "    }\n",
       "\n",
       "    .dataframe tbody tr th {\n",
       "        vertical-align: top;\n",
       "    }\n",
       "\n",
       "    .dataframe thead th {\n",
       "        text-align: right;\n",
       "    }\n",
       "</style>\n",
       "<table border=\"1\" class=\"dataframe\">\n",
       "  <thead>\n",
       "    <tr style=\"text-align: right;\">\n",
       "      <th></th>\n",
       "      <th>user_id</th>\n",
       "      <th>first_date</th>\n",
       "      <th>region</th>\n",
       "      <th>device</th>\n",
       "    </tr>\n",
       "  </thead>\n",
       "  <tbody>\n",
       "    <tr>\n",
       "      <th>0</th>\n",
       "      <td>D72A72121175D8BE</td>\n",
       "      <td>2020-12-07</td>\n",
       "      <td>EU</td>\n",
       "      <td>PC</td>\n",
       "    </tr>\n",
       "    <tr>\n",
       "      <th>1</th>\n",
       "      <td>F1C668619DFE6E65</td>\n",
       "      <td>2020-12-07</td>\n",
       "      <td>N.America</td>\n",
       "      <td>Android</td>\n",
       "    </tr>\n",
       "    <tr>\n",
       "      <th>2</th>\n",
       "      <td>2E1BF1D4C37EA01F</td>\n",
       "      <td>2020-12-07</td>\n",
       "      <td>EU</td>\n",
       "      <td>PC</td>\n",
       "    </tr>\n",
       "    <tr>\n",
       "      <th>3</th>\n",
       "      <td>50734A22C0C63768</td>\n",
       "      <td>2020-12-07</td>\n",
       "      <td>EU</td>\n",
       "      <td>iPhone</td>\n",
       "    </tr>\n",
       "    <tr>\n",
       "      <th>4</th>\n",
       "      <td>E1BDDCE0DAFA2679</td>\n",
       "      <td>2020-12-07</td>\n",
       "      <td>N.America</td>\n",
       "      <td>iPhone</td>\n",
       "    </tr>\n",
       "  </tbody>\n",
       "</table>\n",
       "</div>"
      ],
      "text/plain": [
       "            user_id  first_date     region   device\n",
       "0  D72A72121175D8BE  2020-12-07         EU       PC\n",
       "1  F1C668619DFE6E65  2020-12-07  N.America  Android\n",
       "2  2E1BF1D4C37EA01F  2020-12-07         EU       PC\n",
       "3  50734A22C0C63768  2020-12-07         EU   iPhone\n",
       "4  E1BDDCE0DAFA2679  2020-12-07  N.America   iPhone"
      ]
     },
     "execution_count": 6,
     "metadata": {},
     "output_type": "execute_result"
    }
   ],
   "source": [
    "df_new_users.head()"
   ]
  },
  {
   "cell_type": "code",
   "execution_count": 7,
   "metadata": {},
   "outputs": [
    {
     "name": "stdout",
     "output_type": "stream",
     "text": [
      "<class 'pandas.core.frame.DataFrame'>\n",
      "RangeIndex: 61733 entries, 0 to 61732\n",
      "Data columns (total 4 columns):\n",
      " #   Column      Non-Null Count  Dtype \n",
      "---  ------      --------------  ----- \n",
      " 0   user_id     61733 non-null  object\n",
      " 1   first_date  61733 non-null  object\n",
      " 2   region      61733 non-null  object\n",
      " 3   device      61733 non-null  object\n",
      "dtypes: object(4)\n",
      "memory usage: 1.9+ MB\n"
     ]
    }
   ],
   "source": [
    "df_new_users.info()"
   ]
  },
  {
   "cell_type": "code",
   "execution_count": null,
   "metadata": {},
   "outputs": [],
   "source": [
    "df_ab_events = pd.read_csv('https://code.s3.yandex.net/datasets/final_ab_events.csv')"
   ]
  },
  {
   "cell_type": "code",
   "execution_count": null,
   "metadata": {},
   "outputs": [],
   "source": [
    "df_ab_events.head()"
   ]
  },
  {
   "cell_type": "code",
   "execution_count": null,
   "metadata": {},
   "outputs": [],
   "source": [
    "df_ab_events.info()"
   ]
  },
  {
   "cell_type": "code",
   "execution_count": null,
   "metadata": {},
   "outputs": [],
   "source": [
    "df_users = pd.read_csv('https://code.s3.yandex.net/datasets/final_ab_participants.csv')"
   ]
  },
  {
   "cell_type": "code",
   "execution_count": null,
   "metadata": {},
   "outputs": [],
   "source": [
    "df_users.head()"
   ]
  },
  {
   "cell_type": "code",
   "execution_count": null,
   "metadata": {},
   "outputs": [],
   "source": [
    "df_users.info()"
   ]
  },
  {
   "cell_type": "markdown",
   "metadata": {},
   "source": [
    "**ПРЕДОБРАБОТКА ДАННЫХ**"
   ]
  },
  {
   "cell_type": "markdown",
   "metadata": {},
   "source": [
    "**Первая таблица ab_project - календарь маркетинговых событий на 2020 год.**"
   ]
  },
  {
   "cell_type": "code",
   "execution_count": null,
   "metadata": {},
   "outputs": [],
   "source": [
    "# преобразуем столбцы в нужный формат даты\n",
    "df_marketing_events['start_dt'] = pd.to_datetime(df_marketing_events['start_dt'], format='%Y-%m-%d')\n",
    "df_marketing_events['finish_dt'] = pd.to_datetime(df_marketing_events['finish_dt'], format='%Y-%m-%d')\n",
    "df_marketing_events.info()"
   ]
  },
  {
   "cell_type": "code",
   "execution_count": null,
   "metadata": {},
   "outputs": [],
   "source": [
    "# проверим дубликаты \n",
    "df_marketing_events.duplicated().sum()"
   ]
  },
  {
   "cell_type": "code",
   "execution_count": null,
   "metadata": {},
   "outputs": [],
   "source": [
    "# проверим пропуски\n",
    "df_marketing_events.isna().sum()"
   ]
  },
  {
   "cell_type": "code",
   "execution_count": null,
   "metadata": {},
   "outputs": [],
   "source": [
    "# проверим\n",
    "df_marketing_events.head()"
   ]
  },
  {
   "cell_type": "markdown",
   "metadata": {},
   "source": [
    "**Вторая таблица final_ab_new - все пользователи, зарегистрировавшиеся в интернет-магазине в период с 7 по 21 декабря 2020 года.**"
   ]
  },
  {
   "cell_type": "code",
   "execution_count": null,
   "metadata": {},
   "outputs": [],
   "source": [
    "# преобразуем столбцы first_date в нужный формат даты\n",
    "df_new_users['first_date'] = pd.to_datetime(df_new_users['first_date'], format='%Y-%m-%d')\n",
    "df_new_users.info()"
   ]
  },
  {
   "cell_type": "code",
   "execution_count": null,
   "metadata": {},
   "outputs": [],
   "source": [
    "# проверили дубликаты\n",
    "df_new_users.duplicated().sum()"
   ]
  },
  {
   "cell_type": "code",
   "execution_count": null,
   "metadata": {},
   "outputs": [],
   "source": [
    "# проверили пропуски\n",
    "df_new_users.isna().sum()"
   ]
  },
  {
   "cell_type": "code",
   "execution_count": null,
   "metadata": {},
   "outputs": [],
   "source": [
    "# проверяем\n",
    "df_new_users.head()"
   ]
  },
  {
   "cell_type": "markdown",
   "metadata": {},
   "source": [
    "**Третья таблица final_ab_events - все события новых пользователей в период с 7 декабря 2020 по 4 января 2021 года.**"
   ]
  },
  {
   "cell_type": "code",
   "execution_count": null,
   "metadata": {},
   "outputs": [],
   "source": [
    "# преобразуем столбцы event_dt в нужный формат даты\n",
    "df_ab_events['event_dt'] = pd.to_datetime(df_ab_events['event_dt'], format='%Y-%m-%d')\n",
    "df_ab_events.info()"
   ]
  },
  {
   "cell_type": "code",
   "execution_count": null,
   "metadata": {},
   "outputs": [],
   "source": [
    "# Проверяем дубликаты\n",
    "df_ab_events.duplicated().sum()"
   ]
  },
  {
   "cell_type": "code",
   "execution_count": null,
   "metadata": {},
   "outputs": [],
   "source": [
    "# проверим пропуски\n",
    "df_ab_events.isna().sum()"
   ]
  },
  {
   "cell_type": "code",
   "execution_count": null,
   "metadata": {},
   "outputs": [],
   "source": [
    "df_ab_events.head()"
   ]
  },
  {
   "cell_type": "code",
   "execution_count": null,
   "metadata": {},
   "outputs": [],
   "source": [
    "print ('наиболее ранее событие произошло', df_ab_events['event_dt'].min())\n",
    "print ('наиболее позднее событие произошло',df_ab_events['event_dt'].max())"
   ]
  },
  {
   "cell_type": "markdown",
   "metadata": {},
   "source": [
    "События начинаются 2020-12-07 00:00:33 и заканчиваются 2020-12-30 23:36:33. Согласно условиям в final_ab_events хранятся действия новых пользователей в период с 7 декабря 2020 по 4 января 2021 года."
   ]
  },
  {
   "cell_type": "markdown",
   "metadata": {},
   "source": [
    "**Четвертая таблица - таблица участников тестов.**"
   ]
  },
  {
   "cell_type": "code",
   "execution_count": null,
   "metadata": {},
   "outputs": [],
   "source": [
    "df_users.head()"
   ]
  },
  {
   "cell_type": "code",
   "execution_count": null,
   "metadata": {},
   "outputs": [],
   "source": [
    "# проверяем дубликаты\n",
    "df_users.duplicated().sum()"
   ]
  },
  {
   "cell_type": "code",
   "execution_count": null,
   "metadata": {},
   "outputs": [],
   "source": [
    "# проверяем пропуски\n",
    "df_users.isna().sum()"
   ]
  },
  {
   "cell_type": "markdown",
   "metadata": {},
   "source": [
    "**Вывод:**\n",
    "- Столбцы приведены к нужному формату.\n",
    "- Дубликатов нет.\n",
    "- Некоторые названия приведены к нижнему регистру.\n",
    "- Обнаружны пропуски в столбце details в кол-ве 377577 шт., но носят естественный характер (не было покупки, нет и стоимости).\n",
    "- Есть пересечения в событиях, с 25.12.2020 по 03.01.2021 в EU параллельно проводилась акция \"Christmas&New Year Promo\", которая могла как-то повлиять на наш тест."
   ]
  },
  {
   "cell_type": "markdown",
   "metadata": {},
   "source": [
    "**1. Оценка корректности проведения теста**"
   ]
  },
  {
   "cell_type": "code",
   "execution_count": null,
   "metadata": {},
   "outputs": [],
   "source": [
    "# длительность теста\n",
    "print('Анализируемый период, пользователи: ', df_new_users['first_date'].min(), 'по', df_new_users['first_date'].max())"
   ]
  },
  {
   "cell_type": "code",
   "execution_count": null,
   "metadata": {},
   "outputs": [],
   "source": [
    "# по событиям\n",
    "print('Анализируемый период, события: ', df_ab_events['event_dt'].min(), 'по', df_ab_events['event_dt'].max())"
   ]
  },
  {
   "cell_type": "markdown",
   "metadata": {},
   "source": [
    "Дата запуска теста верная 2020-12-07. Исходя из ТЗ, тест должен длиться до 2021-01-04, нет данных за 5 дней, видимо новогодние праздники повлияли."
   ]
  },
  {
   "cell_type": "code",
   "execution_count": null,
   "metadata": {},
   "outputs": [],
   "source": [
    "# оценка пользователей\n",
    "df_users.pivot_table(index='ab_test', columns='group', values='user_id', aggfunc='count')"
   ]
  },
  {
   "cell_type": "markdown",
   "metadata": {},
   "source": [
    "Параллельно проводился тест по интерфейсу interface_eu_test."
   ]
  },
  {
   "cell_type": "code",
   "execution_count": null,
   "metadata": {},
   "outputs": [],
   "source": [
    "# смотрим на пересечение пользователей этих тестов\n",
    "df_pivot_users = df_users.groupby('user_id')['ab_test'].agg('nunique').reset_index()\n",
    "df_pivot_users[df_pivot_users['ab_test'] > 1].shape[0]"
   ]
  },
  {
   "cell_type": "markdown",
   "metadata": {},
   "source": [
    "Пересечение по пользователям, которые принимали участие в двух тестах составляет 1602."
   ]
  },
  {
   "cell_type": "code",
   "execution_count": null,
   "metadata": {},
   "outputs": [],
   "source": [
    "# проверим равномерность распределения пользователей по тестовым группам \n",
    "df_users_clean = df_users[df_users['ab_test'] == 'recommender_system_test']\n",
    "df_users_clean.groupby('group')['user_id'].count()"
   ]
  },
  {
   "cell_type": "code",
   "execution_count": null,
   "metadata": {},
   "outputs": [],
   "source": [
    "print('Общее кол-во пользователей:', df_users_clean.shape[0])"
   ]
  },
  {
   "cell_type": "code",
   "execution_count": null,
   "metadata": {},
   "outputs": [],
   "source": [
    "# проверим тезис из ТЗ: 15% новых пользователей из региона EU\n",
    "# объединим с данными по новым пользователям\n",
    "df_user_test = df_users_clean.merge(df_new_users)\n",
    "\n",
    "df_user_test_cnt = df_user_test[df_user_test['region']=='EU'].shape[0]\n",
    "\n",
    "eu_new_users_cnt = df_new_users[\n",
    "                                (df_new_users['first_date'] >= '2020-12-07') &\n",
    "                                (df_new_users['first_date'] <= '2020-12-21') &\n",
    "                                (df_new_users['region'] == 'EU')].shape[0]\n",
    "df_user_test = df_user_test[df_user_test['region']=='EU']\n",
    "print('Кол-во новых пользователей из региона \"EU\": {:.1%}'.format(df_user_test_cnt/eu_new_users_cnt))"
   ]
  },
  {
   "cell_type": "markdown",
   "metadata": {},
   "source": [
    "**Маркетинговые события**"
   ]
  },
  {
   "cell_type": "code",
   "execution_count": null,
   "metadata": {},
   "outputs": [],
   "source": [
    "df_marketing_events.sort_values(by='start_dt')"
   ]
  },
  {
   "cell_type": "markdown",
   "metadata": {},
   "source": [
    "В наш временной период попадают 2 акции. Акция Christmas&New Year Promo может оказать большее влияние, т.к. даты её проведения попадают в исследуемый период с 12 декабря - по 4 января, плюс эта акция проводится в регионе EU, именно этот регион преобладает в тесте."
   ]
  },
  {
   "cell_type": "markdown",
   "metadata": {},
   "source": [
    "**Проверим нет ли пользователей, участвующих в двух группах одновременно**"
   ]
  },
  {
   "cell_type": "code",
   "execution_count": null,
   "metadata": {},
   "outputs": [],
   "source": [
    "# проверим присутствуют ли пользователи, входящие в обе группы А и В теста recommender_system_test\n",
    "df_users.query('ab_test == \"recommender_system_test\"')['user_id'].duplicated().sum()"
   ]
  },
  {
   "cell_type": "markdown",
   "metadata": {},
   "source": [
    "**Лайфтайм событий**"
   ]
  },
  {
   "cell_type": "code",
   "execution_count": null,
   "metadata": {},
   "outputs": [],
   "source": [
    "# делаем фильтр до 21 декабря\n",
    "new_df_new_users = df_new_users[df_new_users['first_date'] <= \"2020-12-21 00:00:00\"]\n",
    "new_df_new_users['first_date'].max()"
   ]
  },
  {
   "cell_type": "code",
   "execution_count": null,
   "metadata": {},
   "outputs": [],
   "source": [
    "# фильтр по нужному нам тесту\n",
    "recom_users = new_df_new_users[new_df_new_users['user_id'].isin(df_users.query('ab_test == \"recommender_system_test\"')['user_id'])]"
   ]
  },
  {
   "cell_type": "code",
   "execution_count": null,
   "metadata": {},
   "outputs": [],
   "source": [
    "# объединяем таблицы \n",
    "recom_users_ab = recom_users.merge(df_users.query('ab_test == \"recommender_system_test\"'), on='user_id')\n",
    "display(recom_users_ab.user_id.nunique())\n",
    "recom_users_ab = recom_users_ab.merge(df_ab_events, how='left', on='user_id')\n",
    "display(recom_users_ab.user_id.nunique())"
   ]
  },
  {
   "cell_type": "code",
   "execution_count": null,
   "metadata": {},
   "outputs": [],
   "source": [
    "# делаем фильтр в 14 дней\n",
    "\n",
    "#горизонт событий - 14 дней, \n",
    "#последняя дата наблюдения - 4 января, \n",
    "#последняя подходящая для анализа дата (4 января - 14 дней) \n",
    "\n",
    "horizon_days = 14\n",
    "observation_date = datetime(2021, 1, 4).date()\n",
    "last_suitable_acquisition_date = observation_date - timedelta(days = horizon_days - 1)\n",
    "\n",
    "#фильтруем по дате последнего набора пользователей \n",
    "#добавляем лайфтайм пользователя\n",
    "#делаем по нему фильтр в 14 дней \n",
    "display(recom_users_ab.user_id.nunique())\n",
    "test_1 = recom_users_ab\n",
    "ecom_users_ab = recom_users_ab.query('event_dt <= @last_suitable_acquisition_date')\n",
    "display(recom_users_ab.user_id.nunique())\n",
    "recom_users_ab['lifetime'] = (recom_users_ab['event_dt'] - recom_users_ab['first_date']).dt.days\n",
    "recom_users_ab = recom_users_ab.query('lifetime < 14')\n",
    "display(recom_users_ab.user_id.nunique())"
   ]
  },
  {
   "cell_type": "code",
   "execution_count": null,
   "metadata": {},
   "outputs": [],
   "source": [
    "recom_users_ab.lifetime.nunique()"
   ]
  },
  {
   "cell_type": "markdown",
   "metadata": {},
   "source": [
    "Поскольку нас интересуют только пользователи, которых составляет 14 дней с момента регистрации, из датасета исключим пользователей, которые зарегистрировались менее чем за 14 дней до окончания теста."
   ]
  },
  {
   "cell_type": "markdown",
   "metadata": {},
   "source": [
    "**Выводы:**\n",
    "\n",
    "- Есть пользователи, которые появились после остановки набора 2020-12-21.\n",
    "- Исходя из ТЗ, тест должен длиться до 2021-01-04, нет данных за 5 дней, видимо новогодние праздники повлияли.\n",
    "- Параллельно с нашим проводился тест по интерфейсу interface_eu_test.\n",
    "- Пересечение по пользователям, которые принимали участие в 2-х тестах составляет 1602.\n",
    "- Есть пересечения в событиях, с 25.12.2020 по 03.01.2021 в EU параллельно проводилась акция \"Christmas&New Year Promo\", которая могла как-то повлиять на наш тест.\n",
    "- Пересекается. Принимаем решение что пересечение не критично и условие ТЗ выполняется полностью.\n",
    "- Аудитория сформирована правильно, кол-во новых пользователей из \"EU\" 15%.\n",
    "- Также проверила количество пользователей, попавших в обе группы их 0.\n",
    "- Исключила пользователей, которые зарегистрировались менее чем за 14 дней до окончания теста."
   ]
  },
  {
   "cell_type": "markdown",
   "metadata": {},
   "source": [
    "**2. Анализ и оценка метрик**"
   ]
  },
  {
   "cell_type": "markdown",
   "metadata": {},
   "source": [
    "Воронка состоит из 4х этапов:\n",
    "\n",
    "- login - пользователь вошёл на сайт\n",
    "- product_page - посмотрел товар\n",
    "- product_cart - попал в корзину\n",
    "- purchase - совершил покупку"
   ]
  },
  {
   "cell_type": "code",
   "execution_count": null,
   "metadata": {},
   "outputs": [],
   "source": [
    "df_total_users = recom_users_ab.groupby('event_name')['user_id'].nunique().sort_values(ascending=False).to_frame().reset_index()\\\n",
    "        .rename(columns={'user_id': 'total_users'})\n",
    "\n",
    "\n",
    "total_users = recom_users_ab['user_id'].nunique()\n",
    "\n",
    "df_total_users['percent'] = round ((df_total_users['total_users'] / total_users*100),2)\n",
    "df_total_users['percent'] = df_total_users['percent'].astype('str')+'%'\n",
    "df_total_users"
   ]
  },
  {
   "cell_type": "markdown",
   "metadata": {},
   "source": [
    "Только 63 % от всех залогинившихся пользователей посмотрели страницу продукта и около 30% совершили покупку. При этом судя по данным для покупки вовсе не обязательно добавлять товар в корзину.\n",
    "\n",
    "Визуализируем наши расчеты."
   ]
  },
  {
   "cell_type": "code",
   "execution_count": null,
   "metadata": {},
   "outputs": [],
   "source": [
    "fig = go.Figure()\n",
    "\n",
    "fig.add_trace(go.Funnel(\n",
    "    name = 'All Users',\n",
    "    y = df_total_users['event_name'],\n",
    "    x = df_total_users['total_users'],\n",
    "       marker = {\"color\": [\"deepskyblue\", \"lightsalmon\", \"tan\", \"teal\"],\n",
    "               \"line\": {\"width\": [4, 2, 3, 1],\n",
    "               \"color\": [\"wheat\", \"wheat\", \"blue\", \"wheat\"]}},\n",
    "   connector = {\"line\": {\"color\": \"royalblue\", \"dash\": \"dot\", \"width\": 2}}\n",
    "    ))\n",
    "fig.update_layout(title_text = 'Воронка пользователей')\n",
    "fig.show()"
   ]
  },
  {
   "cell_type": "markdown",
   "metadata": {},
   "source": [
    "По количеству всех событий пользователей тоже видно, что из 100% лишь 30% совершают покупку, но корзину посещает лишь 29%."
   ]
  },
  {
   "cell_type": "code",
   "execution_count": null,
   "metadata": {},
   "outputs": [],
   "source": [
    "funnel_A = recom_users_ab.query(\"group == 'A'\").groupby('event_name')['user_id'].nunique().sort_values(ascending=False).to_frame().reset_index()\\\n",
    "        .rename(columns={'user_id': 'count'})\n",
    "funnel_B = recom_users_ab.query(\"group == 'B'\").groupby('event_name')['user_id'].nunique().sort_values(ascending=False).to_frame().reset_index()\\\n",
    "        .rename(columns={'user_id': 'count'})"
   ]
  },
  {
   "cell_type": "code",
   "execution_count": null,
   "metadata": {},
   "outputs": [],
   "source": [
    "funnel_B"
   ]
  },
  {
   "cell_type": "code",
   "execution_count": null,
   "metadata": {},
   "outputs": [],
   "source": [
    "funnel_A"
   ]
  },
  {
   "cell_type": "code",
   "execution_count": null,
   "metadata": {},
   "outputs": [],
   "source": [
    "\n",
    "new_index = {2: 3, 3: 2}\n",
    "funnel_A = funnel_A.rename(new_index).sort_index()\n",
    "funnel_B = funnel_B.rename(new_index).sort_index()\n",
    "\n",
    "fig = go.Figure()\n",
    "\n",
    "fig.add_trace(go.Funnel(\n",
    "    name = 'Group A',\n",
    "    y = funnel_A['event_name'],\n",
    "    x = funnel_A['count'],\n",
    "    ))\n",
    "\n",
    "fig.add_trace(go.Funnel(\n",
    "    name = 'Group B',\n",
    "    y = funnel_B['event_name'],\n",
    "    x = funnel_B['count'],\n",
    "    ))\n",
    "\n",
    "fig.update_layout(title_text = 'Воронка пользователей')\n",
    "fig.show()\n",
    "fig.show()"
   ]
  },
  {
   "cell_type": "markdown",
   "metadata": {},
   "source": [
    "В первую очередь видно, неравномерное распределение пользователей между группами.\n",
    "- немногим менее половины клиентов после авторизации не доходят до карточки товара;\n",
    "- от просмотра страницы покупки на следующий шаг попадают также только около половины пользователей с предыдущего шага."
   ]
  },
  {
   "cell_type": "markdown",
   "metadata": {},
   "source": [
    "Видимо покупку можно совершить не через корзину. Потому что корзину посетили 29%, а заказ оформили 31%. То есть из 100% изначальных лишь 31% завершает покупку.\n",
    "\n",
    "По всей видимости есть пользователи пришедшие \"из вне\". Точнее пользователей с покупками больше чем тех, кто просмотрел корзину."
   ]
  },
  {
   "cell_type": "code",
   "execution_count": null,
   "metadata": {},
   "outputs": [],
   "source": [
    "# очищенные данные по действиям пользователей\n",
    "df_ab_events_clean = df_ab_events[df_ab_events['user_id'].isin(df_users_clean['user_id'])]\n",
    "# создадим фрейм с событиями\n",
    "df_events =  df_ab_events_clean.merge(df_users_clean)\n",
    "# выделим дату\n",
    "df_events['report_dt'] = df_events['event_dt'].dt.date\n",
    "\n",
    "t = df_events.groupby(['user_id', 'report_dt', 'group']).agg(events = ('event_name', 'count'))\n",
    "tt = t.pivot_table(index='report_dt',\n",
    "              columns='group',\n",
    "              values='events',\n",
    "              aggfunc='mean'\n",
    "             ).reset_index()\n",
    "\n",
    "dates_ = pd.date_range(df_events['event_dt'].min(), df_events['event_dt'].max(), freq='D')\n",
    "\n",
    "plt.figure(figsize=(11, 6))\n",
    "plt.ylim((1, 3))\n",
    "plt.title('Динамика среднего кол-ва событий по группам теста')\n",
    "sns.lineplot(x='report_dt', y='A', data=tt, label='A')\n",
    "sns.lineplot(x='report_dt', y='B', data=tt, label='B')\n",
    "plt.xlabel('')\n",
    "plt.ylabel('')\n",
    "plt.xticks(dates_, rotation=45)\n",
    "plt.legend()\n",
    "plt.show()"
   ]
  },
  {
   "cell_type": "markdown",
   "metadata": {},
   "source": [
    "По новой платёжной воронки динамика ниже примерно на четверть."
   ]
  },
  {
   "cell_type": "code",
   "execution_count": null,
   "metadata": {},
   "outputs": [],
   "source": [
    "df_dinamic = df_events.pivot_table(index='report_dt', columns='group', values='user_id', aggfunc='count')\n",
    "plt.figure(figsize = (11,6))\n",
    "fig = sns.lineplot(data=df_dinamic)\n",
    "plt.title('Динамика событий по группам',fontsize=13)\n",
    "plt.xlabel('день',fontsize=13)\n",
    "plt.ylabel('события, шт',fontsize=13)\n",
    "plt.show()"
   ]
  },
  {
   "cell_type": "markdown",
   "metadata": {},
   "source": [
    "Дата остановки набора новых пользователей - 2020-12-21, в этот день совершено больше всего дейсвий, затем график идет на спад. Число событий сильно отличается, если учесть что среднее не так сильно отличается, сильно увеличивается число пользователей."
   ]
  },
  {
   "cell_type": "code",
   "execution_count": null,
   "metadata": {},
   "outputs": [],
   "source": [
    "event_by_user = recom_users_ab.groupby(['group', 'user_id'], as_index=False).agg({'event_name':'count'})\n",
    "\n",
    "for i in ['A', 'B']:\n",
    "    print('Среднее количество событий на пользователя в группе {} составляет {}\\n'.format(\n",
    "        i,\n",
    "        event_by_user.query('group == @i')['event_name'].median()\n",
    "    ))"
   ]
  },
  {
   "cell_type": "code",
   "execution_count": null,
   "metadata": {},
   "outputs": [],
   "source": [
    "event_by_user "
   ]
  },
  {
   "cell_type": "code",
   "execution_count": null,
   "metadata": {},
   "outputs": [],
   "source": [
    "events_by_day = event_by_user.groupby('group')['event_name'].count().reset_index()\n",
    "events_by_day.head()"
   ]
  },
  {
   "cell_type": "code",
   "execution_count": null,
   "metadata": {},
   "outputs": [],
   "source": [
    "fig = go.Figure([go.Bar(x=events_by_day['group'], y=events_by_day['event_name'], text = events_by_day['event_name'],\n",
    "                      textposition='auto')])\n",
    "fig.update_layout(title_text='Гистограмма событий по дням',\n",
    "                 xaxis_title_text='Дата',\n",
    "                 yaxis_title_text='Количество',\n",
    "                 width=700, height=300)\n",
    "\n",
    "fig.show()"
   ]
  },
  {
   "cell_type": "markdown",
   "metadata": {},
   "source": [
    "В среднем в группе А чаще, чем в В встречаются пользователи с количеством событий."
   ]
  },
  {
   "cell_type": "markdown",
   "metadata": {},
   "source": [
    "**3. Анализ A/B теста**"
   ]
  },
  {
   "cell_type": "code",
   "execution_count": null,
   "metadata": {},
   "outputs": [],
   "source": [
    "# поиск аномалий\n",
    "#df_events.groupby('user_id')['group'].count()\n",
    "plt.figure(figsize = (11,6))\n",
    "ax = sns.boxplot(x=df_events.groupby('user_id')['group'].count())\n",
    "plt.title('Распределение событий пользователям')\n",
    "plt.xlabel('Кол-во событий')\n",
    "plt.show()\n",
    "# 95 и 99 перцентиль\n",
    "print( np.percentile(df_events.groupby('user_id')['group'].count(), [95, 99]) )"
   ]
  },
  {
   "cell_type": "markdown",
   "metadata": {},
   "source": [
    "Выбросом будем считать более 15."
   ]
  },
  {
   "cell_type": "code",
   "execution_count": null,
   "metadata": {},
   "outputs": [],
   "source": [
    "# почистим данные\n",
    "#df_bad_user = df_events.groupby('user_id')['group'].count().reset_index()\n",
    "#df_bad_user = df_bad_user[df_bad_user['group'] >= 15]\n",
    "#blackus_list = df_bad_user['user_id'].tolist()\n",
    "#df_events = df_events[~df_events['user_id'].isin(blackus_list)]\n",
    "#print('Столько пользователей исключили из расчёта: ', len(blackus_list) )"
   ]
  },
  {
   "cell_type": "markdown",
   "metadata": {},
   "source": [
    "**Статистическая разница долей z-критерий.**"
   ]
  },
  {
   "cell_type": "code",
   "execution_count": null,
   "metadata": {},
   "outputs": [],
   "source": [
    "def calc_z_test(stage_0,stage_1):\n",
    "    '''\n",
    "    Функция проверяет z-критерием статистическую разницу долей в группах А и В при конверсии от одного этапа к другому.\n",
    "    На вход принимает значения событий из event_name, в последовательности, которой хочешь посчитать тест\n",
    "    '''\n",
    "    alpha = .05 / 3\n",
    "    event_nm0 = stage_0\n",
    "    event_nm1 = stage_1\n",
    "    df_res = df_events.query('event_name == @event_nm0 | event_name == @event_nm1').pivot_table(index = 'group', \n",
    "                                                                                              columns = 'event_name', \n",
    "                                                                                               values = 'user_id',\n",
    "                                                                                               aggfunc = 'nunique')\n",
    "    df_res['rate'] = df_res[event_nm1] / df_res[event_nm0]\n",
    "    cnt0 = df_res[event_nm1].tolist()\n",
    "    cnt1 = df_res[event_nm0].tolist()\n",
    "    \n",
    "    pvalue = proportions_ztest(cnt0, cnt1, value = 0)[1]\n",
    "    print(cnt0, cnt1)\n",
    "    print(f'Изменение воронки {event_nm0} -> {event_nm1}')\n",
    "    print('p-value: {}'.format(pvalue))\n",
    "    if pvalue > alpha:\n",
    "        print('Не удалось отвергнуть нулевую гипотезу: между групп A и B отсутствует разница в конверсии')\n",
    "    else: \n",
    "        print('Нулевая гипотеза отвергается: между группами A и B есть стат.различия в конверсии')\n",
    "    \n",
    "    df_res.reset_index(inplace=True)\n",
    "    before = float(df_res[df_res['group'] == 'A']['rate'])\n",
    "    after = float(df_res[df_res['group'] == 'B']['rate'])\n",
    "    print('Изменение конверсии : {:.2%}'.format((after - before)/before ))"
   ]
  },
  {
   "cell_type": "code",
   "execution_count": null,
   "metadata": {},
   "outputs": [],
   "source": []
  },
  {
   "cell_type": "markdown",
   "metadata": {},
   "source": [
    "Согласно ТЗ рассмотрим по порядку:\n",
    "\n",
    "1. Конверсии в просмотр карточек товаров — событие product_page\n",
    "\n",
    "H0: Между группами A и B нет различий в конверсии в покупку\n",
    "\n",
    "H1: Между группами A и B есть различие конверсии в покупку"
   ]
  },
  {
   "cell_type": "code",
   "execution_count": null,
   "metadata": {},
   "outputs": [],
   "source": [
    "calc_z_test('login', 'product_page')"
   ]
  },
  {
   "cell_type": "markdown",
   "metadata": {},
   "source": [
    "2. Конверсии просмотры корзины — product_cart\n",
    "\n",
    "H0: Между группами A и B нет различий в конверсии в просмотр корзины\n",
    "\n",
    "H1: Между группами A и B есть различие конверсии в просмотр корзины"
   ]
  },
  {
   "cell_type": "code",
   "execution_count": null,
   "metadata": {},
   "outputs": [],
   "source": [
    "calc_z_test('login', 'product_cart')"
   ]
  },
  {
   "cell_type": "markdown",
   "metadata": {},
   "source": [
    "3. Конверсии покупки — purchase\n",
    "\n",
    "H0: Между группами A и B нет различий в конверсии в покупку\n",
    "\n",
    "H1: Между группами A и B есть различие конверсии в покупку"
   ]
  },
  {
   "cell_type": "code",
   "execution_count": null,
   "metadata": {
    "scrolled": true
   },
   "outputs": [],
   "source": [
    "calc_z_test('login', 'purchase')"
   ]
  },
  {
   "cell_type": "markdown",
   "metadata": {},
   "source": [
    "**Общий вывод:**\n",
    "\n",
    "Выводы:\n",
    "\n",
    "Есть пользователи, которые появились после остановки набора 2020-12-21.\n",
    "Исходя из ТЗ, тест должен длиться до 2021-01-04, нет данных за 5 дней, видимо новогодние праздники повлияли.\n",
    "Параллельно с нашим проводился тест по интерфейсу interface_eu_test.\n",
    "Пересечение по пользователям, которые принимали участие в 2-х тестах составляет 1602.\n",
    "Есть пересечения в событиях, с 25.12.2020 по 03.01.2021 в EU параллельно проводилась акция \"Christmas&New Year Promo\", которая могла как-то повлиять на наш тест.\n",
    "Пересекается. Принимаем решение что пересечение не критично и условие ТЗ выполняется полностью.\n",
    "Аудитория сформирована правильно, кол-во новых пользователей из \"EU\" 15%.\n",
    "Также проверила количество пользователей, попавших в обе группы их 0.\n",
    "Исключила пользователей, которые зарегистрировались менее чем за 14 дней до окончания теста.\n",
    "\n",
    "Были выявлены след.нарушения:\n",
    "\n",
    "- Проводилось 2 теста одновременно;\n",
    "- Разница в кол-ве участников;\n",
    "- Исходя из ТЗ, тест должен длиться до 2021-01-04, нет данных за 5 дней, видимо новогодние праздники повлияли.\n",
    "\n",
    "Проверены гипотезы на равенство долей:\n",
    "\n",
    "- конверсии -> между группами A и B есть стат.различия в конверсии;\n",
    "- конверсии -> между групп A и B отсутствует разница в конверсии;\n",
    "- конверсия -> между групп A и B отсутствует разница в конверсии.\n",
    "\n",
    "В результате теста выявлено что новая рекомендательная система не позволила улучшить целевые метрики.\n",
    "\n",
    "При проведении тестирования наблюдаем, что в группу B попало меньше пользователей, чем в группу А. При идеальном делении 50\\50. Также наше тестирование попало под допольно длительную маркетинговую кампанию. Что уже считает некорректным решением при проведении тестирования.\n",
    "\n",
    "Рекомендации:\n",
    "Нужно подумать о \"клиентском пути\" на сайте, дополнительно проанализировать действия и время нахождения клиента на сайте. Довольно странно, что авторизовавшись половина клиентов даже не посмотрела товар. Возможно есть технические проблемы в целом или проблемы на каких - то устройствах."
   ]
  },
  {
   "cell_type": "code",
   "execution_count": null,
   "metadata": {},
   "outputs": [],
   "source": []
  }
 ],
 "metadata": {
  "ExecuteTimeLog": [
   {
    "duration": 1296,
    "start_time": "2023-10-09T18:52:47.630Z"
   },
   {
    "duration": 106,
    "start_time": "2023-10-09T18:52:58.918Z"
   },
   {
    "duration": 12,
    "start_time": "2023-10-09T18:53:06.410Z"
   },
   {
    "duration": 9,
    "start_time": "2023-10-09T18:53:18.148Z"
   },
   {
    "duration": 8,
    "start_time": "2023-10-09T18:53:25.390Z"
   },
   {
    "duration": 200,
    "start_time": "2023-10-09T18:54:52.632Z"
   },
   {
    "duration": 7,
    "start_time": "2023-10-09T18:54:58.462Z"
   },
   {
    "duration": 15,
    "start_time": "2023-10-09T18:55:05.940Z"
   },
   {
    "duration": 786,
    "start_time": "2023-10-09T18:55:30.824Z"
   },
   {
    "duration": 8,
    "start_time": "2023-10-09T18:55:37.518Z"
   },
   {
    "duration": 50,
    "start_time": "2023-10-09T18:55:44.694Z"
   },
   {
    "duration": 110,
    "start_time": "2023-10-09T18:55:51.266Z"
   },
   {
    "duration": 7,
    "start_time": "2023-10-09T18:55:58.294Z"
   },
   {
    "duration": 9,
    "start_time": "2023-10-09T18:56:08.469Z"
   },
   {
    "duration": 12,
    "start_time": "2023-10-09T18:56:54.907Z"
   },
   {
    "duration": 6,
    "start_time": "2023-10-09T18:57:02.611Z"
   },
   {
    "duration": 5,
    "start_time": "2023-10-09T18:57:09.240Z"
   },
   {
    "duration": 8,
    "start_time": "2023-10-09T18:57:16.613Z"
   },
   {
    "duration": 23,
    "start_time": "2023-10-09T18:57:32.387Z"
   },
   {
    "duration": 28,
    "start_time": "2023-10-09T18:57:39.334Z"
   },
   {
    "duration": 10,
    "start_time": "2023-10-09T18:57:47.098Z"
   },
   {
    "duration": 7,
    "start_time": "2023-10-09T18:57:53.412Z"
   },
   {
    "duration": 125,
    "start_time": "2023-10-09T18:58:12.049Z"
   },
   {
    "duration": 137,
    "start_time": "2023-10-09T18:58:18.754Z"
   },
   {
    "duration": 34,
    "start_time": "2023-10-09T18:58:25.059Z"
   },
   {
    "duration": 10,
    "start_time": "2023-10-09T18:58:32.281Z"
   },
   {
    "duration": 6,
    "start_time": "2023-10-09T18:58:42.284Z"
   },
   {
    "duration": 7,
    "start_time": "2023-10-09T18:59:12.806Z"
   },
   {
    "duration": 9,
    "start_time": "2023-10-09T18:59:21.315Z"
   },
   {
    "duration": 7,
    "start_time": "2023-10-09T18:59:28.434Z"
   },
   {
    "duration": 4,
    "start_time": "2023-10-09T19:00:15.056Z"
   },
   {
    "duration": 6,
    "start_time": "2023-10-09T19:00:23.023Z"
   },
   {
    "duration": 25,
    "start_time": "2023-10-09T19:00:41.039Z"
   },
   {
    "duration": 33,
    "start_time": "2023-10-09T19:00:56.387Z"
   },
   {
    "duration": 11,
    "start_time": "2023-10-09T19:01:13.458Z"
   },
   {
    "duration": 4,
    "start_time": "2023-10-09T19:01:22.212Z"
   },
   {
    "duration": 44,
    "start_time": "2023-10-09T19:01:32.308Z"
   },
   {
    "duration": 279,
    "start_time": "2023-10-09T19:02:17.867Z"
   },
   {
    "duration": 21,
    "start_time": "2023-10-09T19:02:41.053Z"
   },
   {
    "duration": 603,
    "start_time": "2023-10-09T19:03:04.605Z"
   },
   {
    "duration": 385,
    "start_time": "2023-10-09T19:03:24.857Z"
   },
   {
    "duration": 223,
    "start_time": "2023-10-09T19:03:55.266Z"
   },
   {
    "duration": 19,
    "start_time": "2023-10-09T19:04:14.886Z"
   },
   {
    "duration": 6,
    "start_time": "2023-10-09T19:05:24.829Z"
   },
   {
    "duration": 24,
    "start_time": "2023-10-09T19:05:49.092Z"
   },
   {
    "duration": 24,
    "start_time": "2023-10-09T19:06:05.835Z"
   },
   {
    "duration": 112,
    "start_time": "2023-10-09T19:06:20.558Z"
   },
   {
    "duration": 22,
    "start_time": "2023-10-09T19:06:45.975Z"
   },
   {
    "duration": 1128,
    "start_time": "2023-10-09T19:07:13.948Z"
   },
   {
    "duration": 49,
    "start_time": "2023-10-09T19:07:15.078Z"
   },
   {
    "duration": 16,
    "start_time": "2023-10-09T19:07:15.129Z"
   },
   {
    "duration": 14,
    "start_time": "2023-10-09T19:07:15.147Z"
   },
   {
    "duration": 13,
    "start_time": "2023-10-09T19:07:15.163Z"
   },
   {
    "duration": 173,
    "start_time": "2023-10-09T19:07:15.178Z"
   },
   {
    "duration": 8,
    "start_time": "2023-10-09T19:07:15.352Z"
   },
   {
    "duration": 20,
    "start_time": "2023-10-09T19:07:15.361Z"
   },
   {
    "duration": 937,
    "start_time": "2023-10-09T19:07:15.382Z"
   },
   {
    "duration": 11,
    "start_time": "2023-10-09T19:07:16.323Z"
   },
   {
    "duration": 70,
    "start_time": "2023-10-09T19:07:16.339Z"
   },
   {
    "duration": 46,
    "start_time": "2023-10-09T19:07:16.410Z"
   },
   {
    "duration": 7,
    "start_time": "2023-10-09T19:07:16.457Z"
   },
   {
    "duration": 12,
    "start_time": "2023-10-09T19:07:16.466Z"
   },
   {
    "duration": 14,
    "start_time": "2023-10-09T19:07:16.480Z"
   },
   {
    "duration": 14,
    "start_time": "2023-10-09T19:07:16.496Z"
   },
   {
    "duration": 12,
    "start_time": "2023-10-09T19:07:16.512Z"
   },
   {
    "duration": 11,
    "start_time": "2023-10-09T19:07:16.525Z"
   },
   {
    "duration": 26,
    "start_time": "2023-10-09T19:07:16.540Z"
   },
   {
    "duration": 30,
    "start_time": "2023-10-09T19:07:16.567Z"
   },
   {
    "duration": 11,
    "start_time": "2023-10-09T19:07:16.598Z"
   },
   {
    "duration": 31,
    "start_time": "2023-10-09T19:07:16.611Z"
   },
   {
    "duration": 236,
    "start_time": "2023-10-09T19:07:16.644Z"
   },
   {
    "duration": 189,
    "start_time": "2023-10-09T19:07:16.882Z"
   },
   {
    "duration": 38,
    "start_time": "2023-10-09T19:07:17.073Z"
   },
   {
    "duration": 9,
    "start_time": "2023-10-09T19:07:17.113Z"
   },
   {
    "duration": 26,
    "start_time": "2023-10-09T19:07:17.123Z"
   },
   {
    "duration": 10,
    "start_time": "2023-10-09T19:07:17.152Z"
   },
   {
    "duration": 15,
    "start_time": "2023-10-09T19:07:17.163Z"
   },
   {
    "duration": 13,
    "start_time": "2023-10-09T19:07:17.180Z"
   },
   {
    "duration": 7,
    "start_time": "2023-10-09T19:07:17.196Z"
   },
   {
    "duration": 34,
    "start_time": "2023-10-09T19:07:17.205Z"
   },
   {
    "duration": 18,
    "start_time": "2023-10-09T19:07:17.241Z"
   },
   {
    "duration": 32,
    "start_time": "2023-10-09T19:07:17.261Z"
   },
   {
    "duration": 10,
    "start_time": "2023-10-09T19:07:17.294Z"
   },
   {
    "duration": 34,
    "start_time": "2023-10-09T19:07:17.306Z"
   },
   {
    "duration": 45,
    "start_time": "2023-10-09T19:07:17.342Z"
   },
   {
    "duration": 235,
    "start_time": "2023-10-09T19:07:17.389Z"
   },
   {
    "duration": 23,
    "start_time": "2023-10-09T19:07:17.625Z"
   },
   {
    "duration": 717,
    "start_time": "2023-10-09T19:07:17.650Z"
   },
   {
    "duration": 413,
    "start_time": "2023-10-09T19:07:18.368Z"
   },
   {
    "duration": 231,
    "start_time": "2023-10-09T19:07:18.783Z"
   },
   {
    "duration": 28,
    "start_time": "2023-10-09T19:07:19.016Z"
   },
   {
    "duration": 6,
    "start_time": "2023-10-09T19:07:19.046Z"
   },
   {
    "duration": 30,
    "start_time": "2023-10-09T19:07:19.054Z"
   },
   {
    "duration": 22,
    "start_time": "2023-10-09T19:07:19.085Z"
   },
   {
    "duration": 52,
    "start_time": "2023-10-09T19:07:19.109Z"
   },
   {
    "duration": 1179,
    "start_time": "2023-10-09T19:56:17.588Z"
   },
   {
    "duration": 100,
    "start_time": "2023-10-09T19:56:18.768Z"
   },
   {
    "duration": 11,
    "start_time": "2023-10-09T19:56:18.870Z"
   },
   {
    "duration": 27,
    "start_time": "2023-10-09T19:56:18.883Z"
   },
   {
    "duration": 26,
    "start_time": "2023-10-09T19:56:18.912Z"
   },
   {
    "duration": 232,
    "start_time": "2023-10-09T19:56:18.939Z"
   },
   {
    "duration": 8,
    "start_time": "2023-10-09T19:56:19.172Z"
   },
   {
    "duration": 44,
    "start_time": "2023-10-09T19:56:19.182Z"
   },
   {
    "duration": 840,
    "start_time": "2023-10-09T19:56:19.227Z"
   },
   {
    "duration": 10,
    "start_time": "2023-10-09T19:56:20.068Z"
   },
   {
    "duration": 99,
    "start_time": "2023-10-09T19:56:20.079Z"
   },
   {
    "duration": 106,
    "start_time": "2023-10-09T19:56:20.180Z"
   },
   {
    "duration": 7,
    "start_time": "2023-10-09T19:56:20.288Z"
   },
   {
    "duration": 26,
    "start_time": "2023-10-09T19:56:20.298Z"
   },
   {
    "duration": 38,
    "start_time": "2023-10-09T19:56:20.325Z"
   },
   {
    "duration": 58,
    "start_time": "2023-10-09T19:56:20.365Z"
   },
   {
    "duration": 35,
    "start_time": "2023-10-09T19:56:20.425Z"
   },
   {
    "duration": 54,
    "start_time": "2023-10-09T19:56:20.462Z"
   },
   {
    "duration": 62,
    "start_time": "2023-10-09T19:56:20.518Z"
   },
   {
    "duration": 50,
    "start_time": "2023-10-09T19:56:20.582Z"
   },
   {
    "duration": 26,
    "start_time": "2023-10-09T19:56:20.634Z"
   },
   {
    "duration": 73,
    "start_time": "2023-10-09T19:56:20.662Z"
   },
   {
    "duration": 173,
    "start_time": "2023-10-09T19:56:20.736Z"
   },
   {
    "duration": 170,
    "start_time": "2023-10-09T19:56:20.911Z"
   },
   {
    "duration": 44,
    "start_time": "2023-10-09T19:56:21.083Z"
   },
   {
    "duration": 34,
    "start_time": "2023-10-09T19:56:21.128Z"
   },
   {
    "duration": 23,
    "start_time": "2023-10-09T19:56:21.163Z"
   },
   {
    "duration": 23,
    "start_time": "2023-10-09T19:56:21.187Z"
   },
   {
    "duration": 19,
    "start_time": "2023-10-09T19:56:21.212Z"
   },
   {
    "duration": 7,
    "start_time": "2023-10-09T19:56:21.232Z"
   },
   {
    "duration": 14,
    "start_time": "2023-10-09T19:56:21.241Z"
   },
   {
    "duration": 8,
    "start_time": "2023-10-09T19:56:21.257Z"
   },
   {
    "duration": 22,
    "start_time": "2023-10-09T19:56:21.267Z"
   },
   {
    "duration": 22,
    "start_time": "2023-10-09T19:56:21.291Z"
   },
   {
    "duration": 7,
    "start_time": "2023-10-09T19:56:21.315Z"
   },
   {
    "duration": 16,
    "start_time": "2023-10-09T19:56:21.323Z"
   },
   {
    "duration": 42,
    "start_time": "2023-10-09T19:56:21.341Z"
   },
   {
    "duration": 1539,
    "start_time": "2023-10-09T19:56:21.385Z"
   },
   {
    "duration": 32,
    "start_time": "2023-10-09T19:56:22.926Z"
   },
   {
    "duration": 695,
    "start_time": "2023-10-09T19:56:22.959Z"
   },
   {
    "duration": 450,
    "start_time": "2023-10-09T19:56:23.658Z"
   },
   {
    "duration": 241,
    "start_time": "2023-10-09T19:56:24.110Z"
   },
   {
    "duration": 18,
    "start_time": "2023-10-09T19:56:24.353Z"
   },
   {
    "duration": 7,
    "start_time": "2023-10-09T19:56:24.374Z"
   },
   {
    "duration": 43,
    "start_time": "2023-10-09T19:56:24.383Z"
   },
   {
    "duration": 28,
    "start_time": "2023-10-09T19:56:24.443Z"
   },
   {
    "duration": 26,
    "start_time": "2023-10-09T19:56:24.473Z"
   },
   {
    "duration": 18,
    "start_time": "2023-10-09T20:05:02.744Z"
   },
   {
    "duration": 6,
    "start_time": "2023-10-09T20:05:15.399Z"
   },
   {
    "duration": 25,
    "start_time": "2023-10-09T20:05:22.098Z"
   },
   {
    "duration": 23,
    "start_time": "2023-10-09T20:05:24.756Z"
   },
   {
    "duration": 25,
    "start_time": "2023-10-09T20:05:27.345Z"
   },
   {
    "duration": 45,
    "start_time": "2023-10-09T20:23:25.707Z"
   },
   {
    "duration": 1310,
    "start_time": "2023-10-09T20:23:34.461Z"
   },
   {
    "duration": 106,
    "start_time": "2023-10-09T20:23:35.772Z"
   },
   {
    "duration": 14,
    "start_time": "2023-10-09T20:23:35.880Z"
   },
   {
    "duration": 11,
    "start_time": "2023-10-09T20:23:35.896Z"
   },
   {
    "duration": 22,
    "start_time": "2023-10-09T20:23:35.908Z"
   },
   {
    "duration": 207,
    "start_time": "2023-10-09T20:23:35.932Z"
   },
   {
    "duration": 8,
    "start_time": "2023-10-09T20:23:36.140Z"
   },
   {
    "duration": 66,
    "start_time": "2023-10-09T20:23:36.149Z"
   },
   {
    "duration": 847,
    "start_time": "2023-10-09T20:23:36.217Z"
   },
   {
    "duration": 10,
    "start_time": "2023-10-09T20:23:37.067Z"
   },
   {
    "duration": 86,
    "start_time": "2023-10-09T20:23:37.078Z"
   },
   {
    "duration": 80,
    "start_time": "2023-10-09T20:23:37.166Z"
   },
   {
    "duration": 7,
    "start_time": "2023-10-09T20:23:37.248Z"
   },
   {
    "duration": 29,
    "start_time": "2023-10-09T20:23:37.257Z"
   },
   {
    "duration": 20,
    "start_time": "2023-10-09T20:23:37.288Z"
   },
   {
    "duration": 12,
    "start_time": "2023-10-09T20:23:37.310Z"
   },
   {
    "duration": 22,
    "start_time": "2023-10-09T20:23:37.323Z"
   },
   {
    "duration": 12,
    "start_time": "2023-10-09T20:23:37.347Z"
   },
   {
    "duration": 30,
    "start_time": "2023-10-09T20:23:37.360Z"
   },
   {
    "duration": 28,
    "start_time": "2023-10-09T20:23:37.392Z"
   },
   {
    "duration": 28,
    "start_time": "2023-10-09T20:23:37.422Z"
   },
   {
    "duration": 16,
    "start_time": "2023-10-09T20:23:37.451Z"
   },
   {
    "duration": 145,
    "start_time": "2023-10-09T20:23:37.469Z"
   },
   {
    "duration": 168,
    "start_time": "2023-10-09T20:23:37.616Z"
   },
   {
    "duration": 42,
    "start_time": "2023-10-09T20:23:37.786Z"
   },
   {
    "duration": 19,
    "start_time": "2023-10-09T20:23:37.830Z"
   },
   {
    "duration": 15,
    "start_time": "2023-10-09T20:23:37.851Z"
   },
   {
    "duration": 10,
    "start_time": "2023-10-09T20:23:37.869Z"
   },
   {
    "duration": 19,
    "start_time": "2023-10-09T20:23:37.880Z"
   },
   {
    "duration": 17,
    "start_time": "2023-10-09T20:23:37.901Z"
   },
   {
    "duration": 28,
    "start_time": "2023-10-09T20:23:37.920Z"
   },
   {
    "duration": 23,
    "start_time": "2023-10-09T20:23:37.949Z"
   },
   {
    "duration": 26,
    "start_time": "2023-10-09T20:23:37.973Z"
   },
   {
    "duration": 24,
    "start_time": "2023-10-09T20:23:38.000Z"
   },
   {
    "duration": 8,
    "start_time": "2023-10-09T20:23:38.025Z"
   },
   {
    "duration": 15,
    "start_time": "2023-10-09T20:23:38.035Z"
   },
   {
    "duration": 67,
    "start_time": "2023-10-09T20:23:38.051Z"
   },
   {
    "duration": 10,
    "start_time": "2023-10-09T20:23:38.119Z"
   },
   {
    "duration": 228,
    "start_time": "2023-10-09T20:23:38.130Z"
   },
   {
    "duration": 21,
    "start_time": "2023-10-09T20:23:38.359Z"
   },
   {
    "duration": 637,
    "start_time": "2023-10-09T20:23:38.382Z"
   },
   {
    "duration": 403,
    "start_time": "2023-10-09T20:23:39.021Z"
   },
   {
    "duration": 232,
    "start_time": "2023-10-09T20:23:39.426Z"
   },
   {
    "duration": 17,
    "start_time": "2023-10-09T20:23:39.660Z"
   },
   {
    "duration": 6,
    "start_time": "2023-10-09T20:23:39.678Z"
   },
   {
    "duration": 30,
    "start_time": "2023-10-09T20:23:39.686Z"
   },
   {
    "duration": 46,
    "start_time": "2023-10-09T20:23:39.717Z"
   },
   {
    "duration": 37,
    "start_time": "2023-10-09T20:23:39.764Z"
   },
   {
    "duration": 10,
    "start_time": "2023-10-10T07:16:52.864Z"
   },
   {
    "duration": 10,
    "start_time": "2023-10-10T07:16:58.847Z"
   },
   {
    "duration": 111,
    "start_time": "2023-10-10T07:17:00.583Z"
   },
   {
    "duration": 9,
    "start_time": "2023-10-10T07:17:00.965Z"
   },
   {
    "duration": 10,
    "start_time": "2023-10-10T07:17:01.334Z"
   },
   {
    "duration": 206,
    "start_time": "2023-10-10T07:17:01.705Z"
   },
   {
    "duration": 8,
    "start_time": "2023-10-10T07:17:02.021Z"
   },
   {
    "duration": 24,
    "start_time": "2023-10-10T07:17:02.319Z"
   },
   {
    "duration": 905,
    "start_time": "2023-10-10T07:17:02.620Z"
   },
   {
    "duration": 8,
    "start_time": "2023-10-10T07:17:03.527Z"
   },
   {
    "duration": 114,
    "start_time": "2023-10-10T07:17:03.536Z"
   },
   {
    "duration": 163,
    "start_time": "2023-10-10T07:17:03.652Z"
   },
   {
    "duration": 8,
    "start_time": "2023-10-10T07:17:03.842Z"
   },
   {
    "duration": 15,
    "start_time": "2023-10-10T07:17:04.097Z"
   },
   {
    "duration": 13,
    "start_time": "2023-10-10T07:17:05.331Z"
   },
   {
    "duration": 5,
    "start_time": "2023-10-10T07:17:05.638Z"
   },
   {
    "duration": 6,
    "start_time": "2023-10-10T07:17:05.924Z"
   },
   {
    "duration": 8,
    "start_time": "2023-10-10T07:17:06.222Z"
   },
   {
    "duration": 24,
    "start_time": "2023-10-10T07:17:06.822Z"
   },
   {
    "duration": 30,
    "start_time": "2023-10-10T07:17:07.143Z"
   },
   {
    "duration": 13,
    "start_time": "2023-10-10T07:17:07.424Z"
   },
   {
    "duration": 8,
    "start_time": "2023-10-10T07:17:07.706Z"
   },
   {
    "duration": 129,
    "start_time": "2023-10-10T07:17:08.278Z"
   },
   {
    "duration": 162,
    "start_time": "2023-10-10T07:17:08.588Z"
   },
   {
    "duration": 43,
    "start_time": "2023-10-10T07:17:08.890Z"
   },
   {
    "duration": 9,
    "start_time": "2023-10-10T07:17:09.196Z"
   },
   {
    "duration": 6,
    "start_time": "2023-10-10T07:17:09.489Z"
   },
   {
    "duration": 7,
    "start_time": "2023-10-10T07:17:10.361Z"
   },
   {
    "duration": 12,
    "start_time": "2023-10-10T07:17:10.685Z"
   },
   {
    "duration": 8,
    "start_time": "2023-10-10T07:17:10.976Z"
   },
   {
    "duration": 5,
    "start_time": "2023-10-10T07:17:12.154Z"
   },
   {
    "duration": 6,
    "start_time": "2023-10-10T07:17:12.803Z"
   },
   {
    "duration": 18,
    "start_time": "2023-10-10T07:17:14.115Z"
   },
   {
    "duration": 25,
    "start_time": "2023-10-10T07:17:14.810Z"
   },
   {
    "duration": 9,
    "start_time": "2023-10-10T07:17:15.798Z"
   },
   {
    "duration": 3,
    "start_time": "2023-10-10T07:17:16.106Z"
   },
   {
    "duration": 40,
    "start_time": "2023-10-10T07:17:16.435Z"
   },
   {
    "duration": 10,
    "start_time": "2023-10-10T07:17:17.414Z"
   },
   {
    "duration": 10,
    "start_time": "2023-10-10T07:18:27.572Z"
   },
   {
    "duration": 51,
    "start_time": "2023-10-10T07:18:28.257Z"
   },
   {
    "duration": 8,
    "start_time": "2023-10-10T07:18:28.507Z"
   },
   {
    "duration": 9,
    "start_time": "2023-10-10T07:18:28.744Z"
   },
   {
    "duration": 144,
    "start_time": "2023-10-10T07:18:28.983Z"
   },
   {
    "duration": 9,
    "start_time": "2023-10-10T07:18:29.245Z"
   },
   {
    "duration": 19,
    "start_time": "2023-10-10T07:18:29.573Z"
   },
   {
    "duration": 840,
    "start_time": "2023-10-10T07:18:29.787Z"
   },
   {
    "duration": 16,
    "start_time": "2023-10-10T07:18:30.629Z"
   },
   {
    "duration": 150,
    "start_time": "2023-10-10T07:18:30.647Z"
   },
   {
    "duration": 76,
    "start_time": "2023-10-10T07:18:30.799Z"
   },
   {
    "duration": 9,
    "start_time": "2023-10-10T07:18:30.877Z"
   },
   {
    "duration": 13,
    "start_time": "2023-10-10T07:18:31.050Z"
   },
   {
    "duration": 12,
    "start_time": "2023-10-10T07:18:32.129Z"
   },
   {
    "duration": 6,
    "start_time": "2023-10-10T07:18:32.391Z"
   },
   {
    "duration": 5,
    "start_time": "2023-10-10T07:18:33.669Z"
   },
   {
    "duration": 18,
    "start_time": "2023-10-10T07:18:33.676Z"
   },
   {
    "duration": 34,
    "start_time": "2023-10-10T07:18:33.696Z"
   },
   {
    "duration": 27,
    "start_time": "2023-10-10T07:18:33.731Z"
   },
   {
    "duration": 13,
    "start_time": "2023-10-10T07:18:33.920Z"
   },
   {
    "duration": 10,
    "start_time": "2023-10-10T07:18:34.154Z"
   },
   {
    "duration": 127,
    "start_time": "2023-10-10T07:18:34.703Z"
   },
   {
    "duration": 173,
    "start_time": "2023-10-10T07:18:34.959Z"
   },
   {
    "duration": 44,
    "start_time": "2023-10-10T07:18:35.243Z"
   },
   {
    "duration": 9,
    "start_time": "2023-10-10T07:18:35.519Z"
   },
   {
    "duration": 6,
    "start_time": "2023-10-10T07:18:35.786Z"
   },
   {
    "duration": 9,
    "start_time": "2023-10-10T07:18:36.601Z"
   },
   {
    "duration": 10,
    "start_time": "2023-10-10T07:18:36.866Z"
   },
   {
    "duration": 7,
    "start_time": "2023-10-10T07:18:37.153Z"
   },
   {
    "duration": 4,
    "start_time": "2023-10-10T07:18:38.347Z"
   },
   {
    "duration": 6,
    "start_time": "2023-10-10T07:18:38.689Z"
   },
   {
    "duration": 17,
    "start_time": "2023-10-10T07:18:39.710Z"
   },
   {
    "duration": 23,
    "start_time": "2023-10-10T07:18:40.411Z"
   },
   {
    "duration": 9,
    "start_time": "2023-10-10T07:18:41.415Z"
   },
   {
    "duration": 4,
    "start_time": "2023-10-10T07:18:44.321Z"
   },
   {
    "duration": 37,
    "start_time": "2023-10-10T07:18:44.837Z"
   },
   {
    "duration": 10,
    "start_time": "2023-10-10T07:18:46.378Z"
   },
   {
    "duration": 38,
    "start_time": "2023-10-10T07:34:34.257Z"
   },
   {
    "duration": 1303,
    "start_time": "2023-10-10T07:34:56.423Z"
   },
   {
    "duration": 54,
    "start_time": "2023-10-10T07:34:57.728Z"
   },
   {
    "duration": 11,
    "start_time": "2023-10-10T07:34:57.784Z"
   },
   {
    "duration": 46,
    "start_time": "2023-10-10T07:34:57.797Z"
   },
   {
    "duration": 178,
    "start_time": "2023-10-10T07:34:57.845Z"
   },
   {
    "duration": 8,
    "start_time": "2023-10-10T07:34:58.025Z"
   },
   {
    "duration": 61,
    "start_time": "2023-10-10T07:34:58.035Z"
   },
   {
    "duration": 1109,
    "start_time": "2023-10-10T07:34:58.098Z"
   },
   {
    "duration": 9,
    "start_time": "2023-10-10T07:34:59.209Z"
   },
   {
    "duration": 84,
    "start_time": "2023-10-10T07:34:59.220Z"
   },
   {
    "duration": 59,
    "start_time": "2023-10-10T07:34:59.306Z"
   },
   {
    "duration": 8,
    "start_time": "2023-10-10T07:34:59.367Z"
   },
   {
    "duration": 36,
    "start_time": "2023-10-10T07:34:59.377Z"
   },
   {
    "duration": 25,
    "start_time": "2023-10-10T07:34:59.415Z"
   },
   {
    "duration": 8,
    "start_time": "2023-10-10T07:34:59.442Z"
   },
   {
    "duration": 17,
    "start_time": "2023-10-10T07:34:59.452Z"
   },
   {
    "duration": 26,
    "start_time": "2023-10-10T07:34:59.471Z"
   },
   {
    "duration": 40,
    "start_time": "2023-10-10T07:34:59.498Z"
   },
   {
    "duration": 30,
    "start_time": "2023-10-10T07:34:59.539Z"
   },
   {
    "duration": 18,
    "start_time": "2023-10-10T07:34:59.572Z"
   },
   {
    "duration": 19,
    "start_time": "2023-10-10T07:34:59.592Z"
   },
   {
    "duration": 151,
    "start_time": "2023-10-10T07:34:59.613Z"
   },
   {
    "duration": 185,
    "start_time": "2023-10-10T07:34:59.766Z"
   },
   {
    "duration": 52,
    "start_time": "2023-10-10T07:34:59.953Z"
   },
   {
    "duration": 64,
    "start_time": "2023-10-10T07:35:00.007Z"
   },
   {
    "duration": 82,
    "start_time": "2023-10-10T07:35:00.073Z"
   },
   {
    "duration": 113,
    "start_time": "2023-10-10T07:35:00.157Z"
   },
   {
    "duration": 100,
    "start_time": "2023-10-10T07:35:00.273Z"
   },
   {
    "duration": 25,
    "start_time": "2023-10-10T07:35:00.375Z"
   },
   {
    "duration": 44,
    "start_time": "2023-10-10T07:35:00.402Z"
   },
   {
    "duration": 45,
    "start_time": "2023-10-10T07:35:00.448Z"
   },
   {
    "duration": 73,
    "start_time": "2023-10-10T07:35:00.495Z"
   },
   {
    "duration": 52,
    "start_time": "2023-10-10T07:35:00.570Z"
   },
   {
    "duration": 27,
    "start_time": "2023-10-10T07:35:00.624Z"
   },
   {
    "duration": 62,
    "start_time": "2023-10-10T07:35:00.653Z"
   },
   {
    "duration": 73,
    "start_time": "2023-10-10T07:35:00.718Z"
   },
   {
    "duration": 111,
    "start_time": "2023-10-10T07:35:00.793Z"
   },
   {
    "duration": 92,
    "start_time": "2023-10-10T07:35:00.906Z"
   },
   {
    "duration": 214,
    "start_time": "2023-10-10T07:35:01.000Z"
   },
   {
    "duration": 36,
    "start_time": "2023-10-10T07:35:01.216Z"
   },
   {
    "duration": 667,
    "start_time": "2023-10-10T07:35:01.254Z"
   },
   {
    "duration": 436,
    "start_time": "2023-10-10T07:35:01.923Z"
   },
   {
    "duration": 221,
    "start_time": "2023-10-10T07:35:02.361Z"
   },
   {
    "duration": 18,
    "start_time": "2023-10-10T07:35:02.584Z"
   },
   {
    "duration": 146,
    "start_time": "2023-10-10T07:35:02.604Z"
   },
   {
    "duration": 92,
    "start_time": "2023-10-10T07:35:02.751Z"
   },
   {
    "duration": 22,
    "start_time": "2023-10-10T07:35:02.845Z"
   },
   {
    "duration": 36,
    "start_time": "2023-10-10T07:35:02.869Z"
   },
   {
    "duration": 10,
    "start_time": "2023-10-10T07:42:58.228Z"
   },
   {
    "duration": 37,
    "start_time": "2023-10-10T07:42:58.736Z"
   },
   {
    "duration": 8,
    "start_time": "2023-10-10T07:42:59.013Z"
   },
   {
    "duration": 9,
    "start_time": "2023-10-10T07:42:59.290Z"
   },
   {
    "duration": 151,
    "start_time": "2023-10-10T07:42:59.588Z"
   },
   {
    "duration": 8,
    "start_time": "2023-10-10T07:42:59.811Z"
   },
   {
    "duration": 19,
    "start_time": "2023-10-10T07:43:00.082Z"
   },
   {
    "duration": 821,
    "start_time": "2023-10-10T07:43:00.338Z"
   },
   {
    "duration": 8,
    "start_time": "2023-10-10T07:43:01.161Z"
   },
   {
    "duration": 135,
    "start_time": "2023-10-10T07:43:01.171Z"
   },
   {
    "duration": 74,
    "start_time": "2023-10-10T07:43:01.308Z"
   },
   {
    "duration": 8,
    "start_time": "2023-10-10T07:43:01.383Z"
   },
   {
    "duration": 12,
    "start_time": "2023-10-10T07:43:01.633Z"
   },
   {
    "duration": 13,
    "start_time": "2023-10-10T07:43:02.636Z"
   },
   {
    "duration": 5,
    "start_time": "2023-10-10T07:43:02.892Z"
   },
   {
    "duration": 6,
    "start_time": "2023-10-10T07:43:03.148Z"
   },
   {
    "duration": 9,
    "start_time": "2023-10-10T07:43:03.395Z"
   },
   {
    "duration": 25,
    "start_time": "2023-10-10T07:43:03.899Z"
   },
   {
    "duration": 38,
    "start_time": "2023-10-10T07:43:04.154Z"
   },
   {
    "duration": 13,
    "start_time": "2023-10-10T07:43:04.417Z"
   },
   {
    "duration": 8,
    "start_time": "2023-10-10T07:43:04.682Z"
   },
   {
    "duration": 122,
    "start_time": "2023-10-10T07:43:05.198Z"
   },
   {
    "duration": 157,
    "start_time": "2023-10-10T07:43:05.438Z"
   },
   {
    "duration": 47,
    "start_time": "2023-10-10T07:43:05.687Z"
   },
   {
    "duration": 9,
    "start_time": "2023-10-10T07:43:05.937Z"
   },
   {
    "duration": 7,
    "start_time": "2023-10-10T07:43:06.177Z"
   },
   {
    "duration": 7,
    "start_time": "2023-10-10T07:43:06.857Z"
   },
   {
    "duration": 11,
    "start_time": "2023-10-10T07:43:07.086Z"
   },
   {
    "duration": 8,
    "start_time": "2023-10-10T07:43:07.322Z"
   },
   {
    "duration": 4,
    "start_time": "2023-10-10T07:43:08.225Z"
   },
   {
    "duration": 7,
    "start_time": "2023-10-10T07:43:08.521Z"
   },
   {
    "duration": 17,
    "start_time": "2023-10-10T07:43:09.326Z"
   },
   {
    "duration": 24,
    "start_time": "2023-10-10T07:43:09.826Z"
   },
   {
    "duration": 9,
    "start_time": "2023-10-10T07:43:10.626Z"
   },
   {
    "duration": 4,
    "start_time": "2023-10-10T07:43:10.875Z"
   },
   {
    "duration": 39,
    "start_time": "2023-10-10T07:43:11.140Z"
   },
   {
    "duration": 11,
    "start_time": "2023-10-10T07:43:11.906Z"
   },
   {
    "duration": 32,
    "start_time": "2023-10-10T07:43:12.876Z"
   },
   {
    "duration": 48,
    "start_time": "2023-10-10T07:43:15.729Z"
   },
   {
    "duration": 24,
    "start_time": "2023-10-10T07:43:16.723Z"
   },
   {
    "duration": 536,
    "start_time": "2023-10-10T07:43:17.632Z"
   },
   {
    "duration": 481,
    "start_time": "2023-10-10T07:43:18.527Z"
   },
   {
    "duration": 225,
    "start_time": "2023-10-10T07:43:19.745Z"
   },
   {
    "duration": 19,
    "start_time": "2023-10-10T07:43:20.348Z"
   },
   {
    "duration": 6,
    "start_time": "2023-10-10T07:43:21.647Z"
   },
   {
    "duration": 28,
    "start_time": "2023-10-10T07:43:22.886Z"
   },
   {
    "duration": 24,
    "start_time": "2023-10-10T07:43:23.496Z"
   },
   {
    "duration": 35,
    "start_time": "2023-10-10T07:43:24.075Z"
   },
   {
    "duration": 115,
    "start_time": "2023-10-10T08:00:15.106Z"
   },
   {
    "duration": 8,
    "start_time": "2023-10-10T08:02:32.716Z"
   },
   {
    "duration": 8,
    "start_time": "2023-10-10T08:02:54.014Z"
   },
   {
    "duration": 10,
    "start_time": "2023-10-10T08:03:14.297Z"
   },
   {
    "duration": 10,
    "start_time": "2023-10-10T08:05:26.563Z"
   },
   {
    "duration": 12,
    "start_time": "2023-10-10T08:09:29.107Z"
   },
   {
    "duration": 10,
    "start_time": "2023-10-10T08:10:52.883Z"
   },
   {
    "duration": 13,
    "start_time": "2023-10-10T08:11:23.092Z"
   },
   {
    "duration": 9,
    "start_time": "2023-10-10T08:11:26.716Z"
   },
   {
    "duration": 9,
    "start_time": "2023-10-10T08:11:29.601Z"
   },
   {
    "duration": 15,
    "start_time": "2023-10-10T08:11:45.412Z"
   },
   {
    "duration": 34,
    "start_time": "2023-10-10T08:11:46.486Z"
   },
   {
    "duration": 8,
    "start_time": "2023-10-10T08:13:28.730Z"
   },
   {
    "duration": 10,
    "start_time": "2023-10-10T08:13:29.317Z"
   },
   {
    "duration": 29,
    "start_time": "2023-10-10T08:13:30.988Z"
   },
   {
    "duration": 10,
    "start_time": "2023-10-10T08:14:06.888Z"
   },
   {
    "duration": 132,
    "start_time": "2023-10-10T08:15:26.462Z"
   },
   {
    "duration": 3,
    "start_time": "2023-10-10T08:16:00.287Z"
   },
   {
    "duration": 121,
    "start_time": "2023-10-10T08:16:11.775Z"
   },
   {
    "duration": 11,
    "start_time": "2023-10-10T08:16:26.517Z"
   },
   {
    "duration": 139,
    "start_time": "2023-10-10T08:16:31.847Z"
   },
   {
    "duration": 10,
    "start_time": "2023-10-10T08:16:32.598Z"
   },
   {
    "duration": 10,
    "start_time": "2023-10-10T08:17:22.925Z"
   },
   {
    "duration": 11,
    "start_time": "2023-10-10T08:17:52.527Z"
   },
   {
    "duration": 11,
    "start_time": "2023-10-10T08:18:32.664Z"
   },
   {
    "duration": 10,
    "start_time": "2023-10-10T08:18:39.150Z"
   },
   {
    "duration": 77,
    "start_time": "2023-10-10T08:18:40.820Z"
   },
   {
    "duration": 8,
    "start_time": "2023-10-10T08:18:41.145Z"
   },
   {
    "duration": 10,
    "start_time": "2023-10-10T08:18:41.424Z"
   },
   {
    "duration": 263,
    "start_time": "2023-10-10T08:18:41.650Z"
   },
   {
    "duration": 8,
    "start_time": "2023-10-10T08:18:41.915Z"
   },
   {
    "duration": 19,
    "start_time": "2023-10-10T08:18:42.042Z"
   },
   {
    "duration": 909,
    "start_time": "2023-10-10T08:18:42.252Z"
   },
   {
    "duration": 8,
    "start_time": "2023-10-10T08:18:43.163Z"
   },
   {
    "duration": 75,
    "start_time": "2023-10-10T08:18:43.173Z"
   },
   {
    "duration": 105,
    "start_time": "2023-10-10T08:18:43.249Z"
   },
   {
    "duration": 7,
    "start_time": "2023-10-10T08:18:43.356Z"
   },
   {
    "duration": 23,
    "start_time": "2023-10-10T08:18:43.364Z"
   },
   {
    "duration": 16,
    "start_time": "2023-10-10T08:18:44.253Z"
   },
   {
    "duration": 6,
    "start_time": "2023-10-10T08:18:44.484Z"
   },
   {
    "duration": 7,
    "start_time": "2023-10-10T08:18:44.720Z"
   },
   {
    "duration": 8,
    "start_time": "2023-10-10T08:18:44.973Z"
   },
   {
    "duration": 24,
    "start_time": "2023-10-10T08:18:45.459Z"
   },
   {
    "duration": 28,
    "start_time": "2023-10-10T08:18:45.714Z"
   },
   {
    "duration": 14,
    "start_time": "2023-10-10T08:18:46.006Z"
   },
   {
    "duration": 12,
    "start_time": "2023-10-10T08:18:46.272Z"
   },
   {
    "duration": 132,
    "start_time": "2023-10-10T08:18:46.802Z"
   },
   {
    "duration": 152,
    "start_time": "2023-10-10T08:18:47.049Z"
   },
   {
    "duration": 45,
    "start_time": "2023-10-10T08:18:47.317Z"
   },
   {
    "duration": 9,
    "start_time": "2023-10-10T08:18:47.567Z"
   },
   {
    "duration": 8,
    "start_time": "2023-10-10T08:18:47.820Z"
   },
   {
    "duration": 10,
    "start_time": "2023-10-10T08:18:48.552Z"
   },
   {
    "duration": 15,
    "start_time": "2023-10-10T08:18:48.813Z"
   },
   {
    "duration": 11,
    "start_time": "2023-10-10T08:18:49.071Z"
   },
   {
    "duration": 4,
    "start_time": "2023-10-10T08:18:50.070Z"
   },
   {
    "duration": 5,
    "start_time": "2023-10-10T08:18:50.312Z"
   },
   {
    "duration": 19,
    "start_time": "2023-10-10T08:18:51.041Z"
   },
   {
    "duration": 24,
    "start_time": "2023-10-10T08:18:51.523Z"
   },
   {
    "duration": 9,
    "start_time": "2023-10-10T08:18:52.271Z"
   },
   {
    "duration": 3,
    "start_time": "2023-10-10T08:18:52.523Z"
   },
   {
    "duration": 40,
    "start_time": "2023-10-10T08:18:52.773Z"
   },
   {
    "duration": 10,
    "start_time": "2023-10-10T08:18:53.553Z"
   },
   {
    "duration": 8,
    "start_time": "2023-10-10T08:18:54.482Z"
   },
   {
    "duration": 8,
    "start_time": "2023-10-10T08:18:54.784Z"
   },
   {
    "duration": 10,
    "start_time": "2023-10-10T08:18:55.095Z"
   },
   {
    "duration": 119,
    "start_time": "2023-10-10T08:18:55.391Z"
   },
   {
    "duration": 13,
    "start_time": "2023-10-10T08:18:55.701Z"
   },
   {
    "duration": 12,
    "start_time": "2023-10-10T08:19:10.686Z"
   },
   {
    "duration": 11,
    "start_time": "2023-10-10T08:19:36.128Z"
   },
   {
    "duration": 12,
    "start_time": "2023-10-10T08:20:29.136Z"
   },
   {
    "duration": 12,
    "start_time": "2023-10-10T08:20:35.676Z"
   },
   {
    "duration": 12,
    "start_time": "2023-10-10T08:20:43.079Z"
   },
   {
    "duration": 45,
    "start_time": "2023-10-10T08:20:44.257Z"
   },
   {
    "duration": 8,
    "start_time": "2023-10-10T08:20:44.467Z"
   },
   {
    "duration": 10,
    "start_time": "2023-10-10T08:20:44.664Z"
   },
   {
    "duration": 184,
    "start_time": "2023-10-10T08:20:44.902Z"
   },
   {
    "duration": 8,
    "start_time": "2023-10-10T08:20:45.318Z"
   },
   {
    "duration": 21,
    "start_time": "2023-10-10T08:20:45.597Z"
   },
   {
    "duration": 2355,
    "start_time": "2023-10-10T08:20:45.864Z"
   },
   {
    "duration": 9,
    "start_time": "2023-10-10T08:20:48.220Z"
   },
   {
    "duration": 74,
    "start_time": "2023-10-10T08:20:48.231Z"
   },
   {
    "duration": 70,
    "start_time": "2023-10-10T08:20:48.308Z"
   },
   {
    "duration": 8,
    "start_time": "2023-10-10T08:20:48.379Z"
   },
   {
    "duration": 32,
    "start_time": "2023-10-10T08:20:48.389Z"
   },
   {
    "duration": 37,
    "start_time": "2023-10-10T08:20:48.423Z"
   },
   {
    "duration": 17,
    "start_time": "2023-10-10T08:20:48.462Z"
   },
   {
    "duration": 7,
    "start_time": "2023-10-10T08:20:48.481Z"
   },
   {
    "duration": 17,
    "start_time": "2023-10-10T08:20:48.491Z"
   },
   {
    "duration": 25,
    "start_time": "2023-10-10T08:20:48.659Z"
   },
   {
    "duration": 29,
    "start_time": "2023-10-10T08:20:48.906Z"
   },
   {
    "duration": 13,
    "start_time": "2023-10-10T08:20:49.161Z"
   },
   {
    "duration": 9,
    "start_time": "2023-10-10T08:20:49.435Z"
   },
   {
    "duration": 125,
    "start_time": "2023-10-10T08:20:49.937Z"
   },
   {
    "duration": 152,
    "start_time": "2023-10-10T08:20:50.182Z"
   },
   {
    "duration": 44,
    "start_time": "2023-10-10T08:20:50.409Z"
   },
   {
    "duration": 9,
    "start_time": "2023-10-10T08:20:50.608Z"
   },
   {
    "duration": 6,
    "start_time": "2023-10-10T08:20:50.822Z"
   },
   {
    "duration": 7,
    "start_time": "2023-10-10T08:20:51.377Z"
   },
   {
    "duration": 9,
    "start_time": "2023-10-10T08:20:51.563Z"
   },
   {
    "duration": 10,
    "start_time": "2023-10-10T08:20:51.750Z"
   },
   {
    "duration": 5,
    "start_time": "2023-10-10T08:20:52.439Z"
   },
   {
    "duration": 7,
    "start_time": "2023-10-10T08:20:52.619Z"
   },
   {
    "duration": 22,
    "start_time": "2023-10-10T08:20:53.148Z"
   },
   {
    "duration": 34,
    "start_time": "2023-10-10T08:20:53.531Z"
   },
   {
    "duration": 14,
    "start_time": "2023-10-10T08:20:54.165Z"
   },
   {
    "duration": 4,
    "start_time": "2023-10-10T08:20:54.378Z"
   },
   {
    "duration": 39,
    "start_time": "2023-10-10T08:20:54.605Z"
   },
   {
    "duration": 10,
    "start_time": "2023-10-10T08:20:55.290Z"
   },
   {
    "duration": 10,
    "start_time": "2023-10-10T08:20:56.075Z"
   },
   {
    "duration": 9,
    "start_time": "2023-10-10T08:20:56.334Z"
   },
   {
    "duration": 11,
    "start_time": "2023-10-10T08:20:56.853Z"
   },
   {
    "duration": 138,
    "start_time": "2023-10-10T08:20:56.887Z"
   },
   {
    "duration": 12,
    "start_time": "2023-10-10T08:20:57.170Z"
   },
   {
    "duration": 10,
    "start_time": "2023-10-10T08:21:15.362Z"
   },
   {
    "duration": 11,
    "start_time": "2023-10-10T08:23:11.086Z"
   },
   {
    "duration": 11,
    "start_time": "2023-10-10T08:23:15.555Z"
   },
   {
    "duration": 10,
    "start_time": "2023-10-10T08:23:23.909Z"
   },
   {
    "duration": 12,
    "start_time": "2023-10-10T08:30:34.763Z"
   },
   {
    "duration": 77,
    "start_time": "2023-10-10T08:30:34.856Z"
   },
   {
    "duration": 10,
    "start_time": "2023-10-10T08:30:35.157Z"
   },
   {
    "duration": 12,
    "start_time": "2023-10-10T08:30:35.416Z"
   },
   {
    "duration": 127,
    "start_time": "2023-10-10T08:30:35.658Z"
   },
   {
    "duration": 9,
    "start_time": "2023-10-10T08:30:35.879Z"
   },
   {
    "duration": 22,
    "start_time": "2023-10-10T08:30:36.105Z"
   },
   {
    "duration": 886,
    "start_time": "2023-10-10T08:30:36.310Z"
   },
   {
    "duration": 9,
    "start_time": "2023-10-10T08:30:37.198Z"
   },
   {
    "duration": 271,
    "start_time": "2023-10-10T08:30:37.209Z"
   },
   {
    "duration": 65,
    "start_time": "2023-10-10T08:30:37.482Z"
   },
   {
    "duration": 7,
    "start_time": "2023-10-10T08:30:37.550Z"
   },
   {
    "duration": 47,
    "start_time": "2023-10-10T08:30:37.559Z"
   },
   {
    "duration": 14,
    "start_time": "2023-10-10T08:30:37.770Z"
   },
   {
    "duration": 5,
    "start_time": "2023-10-10T08:30:37.952Z"
   },
   {
    "duration": 7,
    "start_time": "2023-10-10T08:30:38.125Z"
   },
   {
    "duration": 9,
    "start_time": "2023-10-10T08:30:38.313Z"
   },
   {
    "duration": 30,
    "start_time": "2023-10-10T08:30:38.706Z"
   },
   {
    "duration": 28,
    "start_time": "2023-10-10T08:30:38.896Z"
   },
   {
    "duration": 15,
    "start_time": "2023-10-10T08:30:39.080Z"
   },
   {
    "duration": 11,
    "start_time": "2023-10-10T08:30:39.281Z"
   },
   {
    "duration": 124,
    "start_time": "2023-10-10T08:30:39.757Z"
   },
   {
    "duration": 155,
    "start_time": "2023-10-10T08:30:39.960Z"
   },
   {
    "duration": 45,
    "start_time": "2023-10-10T08:30:40.160Z"
   },
   {
    "duration": 9,
    "start_time": "2023-10-10T08:30:40.373Z"
   },
   {
    "duration": 7,
    "start_time": "2023-10-10T08:30:40.573Z"
   },
   {
    "duration": 7,
    "start_time": "2023-10-10T08:30:41.220Z"
   },
   {
    "duration": 11,
    "start_time": "2023-10-10T08:30:41.459Z"
   },
   {
    "duration": 9,
    "start_time": "2023-10-10T08:30:41.672Z"
   },
   {
    "duration": 5,
    "start_time": "2023-10-10T08:30:42.559Z"
   },
   {
    "duration": 7,
    "start_time": "2023-10-10T08:30:42.775Z"
   },
   {
    "duration": 15,
    "start_time": "2023-10-10T08:30:43.556Z"
   },
   {
    "duration": 33,
    "start_time": "2023-10-10T08:30:44.119Z"
   },
   {
    "duration": 10,
    "start_time": "2023-10-10T08:30:44.953Z"
   },
   {
    "duration": 3,
    "start_time": "2023-10-10T08:30:45.251Z"
   },
   {
    "duration": 40,
    "start_time": "2023-10-10T08:30:47.758Z"
   },
   {
    "duration": 10,
    "start_time": "2023-10-10T08:30:48.660Z"
   },
   {
    "duration": 7,
    "start_time": "2023-10-10T08:30:49.417Z"
   },
   {
    "duration": 8,
    "start_time": "2023-10-10T08:30:49.656Z"
   },
   {
    "duration": 10,
    "start_time": "2023-10-10T08:30:49.885Z"
   },
   {
    "duration": 136,
    "start_time": "2023-10-10T08:30:50.126Z"
   },
   {
    "duration": 10,
    "start_time": "2023-10-10T08:30:50.402Z"
   },
   {
    "duration": 10,
    "start_time": "2023-10-10T08:30:53.757Z"
   },
   {
    "duration": 11,
    "start_time": "2023-10-10T08:31:05.809Z"
   },
   {
    "duration": 1239,
    "start_time": "2023-10-10T08:31:17.357Z"
   },
   {
    "duration": 48,
    "start_time": "2023-10-10T08:31:18.598Z"
   },
   {
    "duration": 11,
    "start_time": "2023-10-10T08:31:18.648Z"
   },
   {
    "duration": 34,
    "start_time": "2023-10-10T08:31:18.661Z"
   },
   {
    "duration": 747,
    "start_time": "2023-10-10T08:31:18.696Z"
   },
   {
    "duration": 8,
    "start_time": "2023-10-10T08:31:19.445Z"
   },
   {
    "duration": 21,
    "start_time": "2023-10-10T08:31:19.454Z"
   },
   {
    "duration": 1315,
    "start_time": "2023-10-10T08:31:19.476Z"
   },
   {
    "duration": 9,
    "start_time": "2023-10-10T08:31:20.793Z"
   },
   {
    "duration": 81,
    "start_time": "2023-10-10T08:31:20.804Z"
   },
   {
    "duration": 59,
    "start_time": "2023-10-10T08:31:20.887Z"
   },
   {
    "duration": 8,
    "start_time": "2023-10-10T08:31:20.948Z"
   },
   {
    "duration": 45,
    "start_time": "2023-10-10T08:31:20.957Z"
   },
   {
    "duration": 41,
    "start_time": "2023-10-10T08:31:21.003Z"
   },
   {
    "duration": 12,
    "start_time": "2023-10-10T08:31:21.045Z"
   },
   {
    "duration": 35,
    "start_time": "2023-10-10T08:31:21.058Z"
   },
   {
    "duration": 28,
    "start_time": "2023-10-10T08:31:21.094Z"
   },
   {
    "duration": 38,
    "start_time": "2023-10-10T08:31:21.124Z"
   },
   {
    "duration": 30,
    "start_time": "2023-10-10T08:31:21.163Z"
   },
   {
    "duration": 12,
    "start_time": "2023-10-10T08:31:21.195Z"
   },
   {
    "duration": 15,
    "start_time": "2023-10-10T08:31:21.208Z"
   },
   {
    "duration": 157,
    "start_time": "2023-10-10T08:31:21.224Z"
   },
   {
    "duration": 182,
    "start_time": "2023-10-10T08:31:21.382Z"
   },
   {
    "duration": 42,
    "start_time": "2023-10-10T08:31:21.566Z"
   },
   {
    "duration": 19,
    "start_time": "2023-10-10T08:31:21.609Z"
   },
   {
    "duration": 20,
    "start_time": "2023-10-10T08:31:21.630Z"
   },
   {
    "duration": 7,
    "start_time": "2023-10-10T08:31:21.653Z"
   },
   {
    "duration": 36,
    "start_time": "2023-10-10T08:31:21.662Z"
   },
   {
    "duration": 10,
    "start_time": "2023-10-10T08:31:21.699Z"
   },
   {
    "duration": 22,
    "start_time": "2023-10-10T08:31:21.711Z"
   },
   {
    "duration": 25,
    "start_time": "2023-10-10T08:31:21.735Z"
   },
   {
    "duration": 41,
    "start_time": "2023-10-10T08:31:21.761Z"
   },
   {
    "duration": 28,
    "start_time": "2023-10-10T08:31:21.803Z"
   },
   {
    "duration": 8,
    "start_time": "2023-10-10T08:31:21.832Z"
   },
   {
    "duration": 13,
    "start_time": "2023-10-10T08:31:21.841Z"
   },
   {
    "duration": 50,
    "start_time": "2023-10-10T08:31:21.856Z"
   },
   {
    "duration": 10,
    "start_time": "2023-10-10T08:31:21.907Z"
   },
   {
    "duration": 17,
    "start_time": "2023-10-10T08:31:21.919Z"
   },
   {
    "duration": 31,
    "start_time": "2023-10-10T08:31:21.938Z"
   },
   {
    "duration": 15,
    "start_time": "2023-10-10T08:31:21.970Z"
   },
   {
    "duration": 134,
    "start_time": "2023-10-10T08:31:21.986Z"
   },
   {
    "duration": 103,
    "start_time": "2023-10-10T08:31:22.121Z"
   },
   {
    "duration": 0,
    "start_time": "2023-10-10T08:31:22.225Z"
   },
   {
    "duration": 1,
    "start_time": "2023-10-10T08:31:22.226Z"
   },
   {
    "duration": 0,
    "start_time": "2023-10-10T08:31:22.228Z"
   },
   {
    "duration": 0,
    "start_time": "2023-10-10T08:31:22.229Z"
   },
   {
    "duration": 0,
    "start_time": "2023-10-10T08:31:22.230Z"
   },
   {
    "duration": 0,
    "start_time": "2023-10-10T08:31:22.231Z"
   },
   {
    "duration": 0,
    "start_time": "2023-10-10T08:31:22.244Z"
   },
   {
    "duration": 0,
    "start_time": "2023-10-10T08:31:22.246Z"
   },
   {
    "duration": 0,
    "start_time": "2023-10-10T08:31:22.246Z"
   },
   {
    "duration": 0,
    "start_time": "2023-10-10T08:31:22.247Z"
   },
   {
    "duration": 2,
    "start_time": "2023-10-10T09:13:52.958Z"
   },
   {
    "duration": 3,
    "start_time": "2023-10-10T09:13:56.067Z"
   },
   {
    "duration": 2,
    "start_time": "2023-10-10T09:13:58.130Z"
   },
   {
    "duration": 3,
    "start_time": "2023-10-10T09:14:06.372Z"
   },
   {
    "duration": 3,
    "start_time": "2023-10-10T09:14:23.123Z"
   },
   {
    "duration": 7,
    "start_time": "2023-10-10T09:14:30.955Z"
   },
   {
    "duration": 9,
    "start_time": "2023-10-10T09:22:31.527Z"
   },
   {
    "duration": 10,
    "start_time": "2023-10-10T09:22:37.699Z"
   },
   {
    "duration": 9,
    "start_time": "2023-10-10T09:22:40.960Z"
   },
   {
    "duration": 161,
    "start_time": "2023-10-10T09:24:39.774Z"
   },
   {
    "duration": 132,
    "start_time": "2023-10-10T09:26:48.379Z"
   },
   {
    "duration": 185,
    "start_time": "2023-10-10T09:26:48.862Z"
   },
   {
    "duration": 138,
    "start_time": "2023-10-10T09:26:59.376Z"
   },
   {
    "duration": 628,
    "start_time": "2023-10-10T09:29:47.281Z"
   },
   {
    "duration": 10,
    "start_time": "2023-10-10T09:31:34.494Z"
   },
   {
    "duration": 1160,
    "start_time": "2023-10-10T09:31:53.534Z"
   },
   {
    "duration": 43,
    "start_time": "2023-10-10T09:31:54.696Z"
   },
   {
    "duration": 11,
    "start_time": "2023-10-10T09:31:54.740Z"
   },
   {
    "duration": 23,
    "start_time": "2023-10-10T09:31:54.753Z"
   },
   {
    "duration": 204,
    "start_time": "2023-10-10T09:31:54.778Z"
   },
   {
    "duration": 8,
    "start_time": "2023-10-10T09:31:54.984Z"
   },
   {
    "duration": 27,
    "start_time": "2023-10-10T09:31:54.993Z"
   },
   {
    "duration": 987,
    "start_time": "2023-10-10T09:31:55.022Z"
   },
   {
    "duration": 8,
    "start_time": "2023-10-10T09:31:56.010Z"
   },
   {
    "duration": 73,
    "start_time": "2023-10-10T09:31:56.021Z"
   },
   {
    "duration": 59,
    "start_time": "2023-10-10T09:31:56.095Z"
   },
   {
    "duration": 7,
    "start_time": "2023-10-10T09:31:56.155Z"
   },
   {
    "duration": 18,
    "start_time": "2023-10-10T09:31:56.163Z"
   },
   {
    "duration": 14,
    "start_time": "2023-10-10T09:31:56.182Z"
   },
   {
    "duration": 12,
    "start_time": "2023-10-10T09:31:56.197Z"
   },
   {
    "duration": 11,
    "start_time": "2023-10-10T09:31:56.210Z"
   },
   {
    "duration": 16,
    "start_time": "2023-10-10T09:31:56.223Z"
   },
   {
    "duration": 39,
    "start_time": "2023-10-10T09:31:56.240Z"
   },
   {
    "duration": 32,
    "start_time": "2023-10-10T09:31:56.282Z"
   },
   {
    "duration": 44,
    "start_time": "2023-10-10T09:31:56.316Z"
   },
   {
    "duration": 30,
    "start_time": "2023-10-10T09:31:56.361Z"
   },
   {
    "duration": 137,
    "start_time": "2023-10-10T09:31:56.393Z"
   },
   {
    "duration": 184,
    "start_time": "2023-10-10T09:31:56.531Z"
   },
   {
    "duration": 51,
    "start_time": "2023-10-10T09:31:56.716Z"
   },
   {
    "duration": 9,
    "start_time": "2023-10-10T09:31:56.769Z"
   },
   {
    "duration": 9,
    "start_time": "2023-10-10T09:31:56.779Z"
   },
   {
    "duration": 6,
    "start_time": "2023-10-10T09:31:56.790Z"
   },
   {
    "duration": 10,
    "start_time": "2023-10-10T09:31:56.800Z"
   },
   {
    "duration": 35,
    "start_time": "2023-10-10T09:31:56.811Z"
   },
   {
    "duration": 14,
    "start_time": "2023-10-10T09:31:56.848Z"
   },
   {
    "duration": 19,
    "start_time": "2023-10-10T09:31:56.863Z"
   },
   {
    "duration": 20,
    "start_time": "2023-10-10T09:31:56.883Z"
   },
   {
    "duration": 22,
    "start_time": "2023-10-10T09:31:56.905Z"
   },
   {
    "duration": 17,
    "start_time": "2023-10-10T09:31:56.928Z"
   },
   {
    "duration": 3,
    "start_time": "2023-10-10T09:31:56.946Z"
   },
   {
    "duration": 44,
    "start_time": "2023-10-10T09:31:56.951Z"
   },
   {
    "duration": 10,
    "start_time": "2023-10-10T09:31:56.996Z"
   },
   {
    "duration": 21,
    "start_time": "2023-10-10T09:31:57.007Z"
   },
   {
    "duration": 34,
    "start_time": "2023-10-10T09:31:57.030Z"
   },
   {
    "duration": 4,
    "start_time": "2023-10-10T09:31:57.066Z"
   },
   {
    "duration": 7,
    "start_time": "2023-10-10T09:31:57.072Z"
   },
   {
    "duration": 5,
    "start_time": "2023-10-10T09:31:57.081Z"
   },
   {
    "duration": 18,
    "start_time": "2023-10-10T09:31:57.087Z"
   },
   {
    "duration": 10,
    "start_time": "2023-10-10T09:31:57.107Z"
   },
   {
    "duration": 165,
    "start_time": "2023-10-10T09:31:57.118Z"
   },
   {
    "duration": 137,
    "start_time": "2023-10-10T09:31:57.285Z"
   },
   {
    "duration": 142,
    "start_time": "2023-10-10T09:31:57.424Z"
   },
   {
    "duration": 630,
    "start_time": "2023-10-10T09:31:57.568Z"
   },
   {
    "duration": 28,
    "start_time": "2023-10-10T09:31:58.199Z"
   },
   {
    "duration": 295,
    "start_time": "2023-10-10T09:31:58.229Z"
   },
   {
    "duration": 31,
    "start_time": "2023-10-10T09:31:58.526Z"
   },
   {
    "duration": 204,
    "start_time": "2023-10-10T09:31:58.559Z"
   },
   {
    "duration": 0,
    "start_time": "2023-10-10T09:31:58.764Z"
   },
   {
    "duration": 0,
    "start_time": "2023-10-10T09:31:58.766Z"
   },
   {
    "duration": 0,
    "start_time": "2023-10-10T09:31:58.767Z"
   },
   {
    "duration": 0,
    "start_time": "2023-10-10T09:31:58.767Z"
   },
   {
    "duration": 0,
    "start_time": "2023-10-10T09:31:58.768Z"
   },
   {
    "duration": 0,
    "start_time": "2023-10-10T09:31:58.769Z"
   },
   {
    "duration": 0,
    "start_time": "2023-10-10T09:31:58.770Z"
   },
   {
    "duration": 11,
    "start_time": "2023-10-10T09:32:34.437Z"
   },
   {
    "duration": 56,
    "start_time": "2023-10-10T09:32:34.981Z"
   },
   {
    "duration": 10,
    "start_time": "2023-10-10T09:32:35.274Z"
   },
   {
    "duration": 10,
    "start_time": "2023-10-10T09:32:35.532Z"
   },
   {
    "duration": 173,
    "start_time": "2023-10-10T09:32:35.798Z"
   },
   {
    "duration": 9,
    "start_time": "2023-10-10T09:32:36.076Z"
   },
   {
    "duration": 19,
    "start_time": "2023-10-10T09:32:36.360Z"
   },
   {
    "duration": 768,
    "start_time": "2023-10-10T09:32:36.624Z"
   },
   {
    "duration": 8,
    "start_time": "2023-10-10T09:32:37.393Z"
   },
   {
    "duration": 82,
    "start_time": "2023-10-10T09:32:37.403Z"
   },
   {
    "duration": 52,
    "start_time": "2023-10-10T09:32:37.487Z"
   },
   {
    "duration": 7,
    "start_time": "2023-10-10T09:32:37.703Z"
   },
   {
    "duration": 12,
    "start_time": "2023-10-10T09:32:37.986Z"
   },
   {
    "duration": 10,
    "start_time": "2023-10-10T09:32:43.526Z"
   },
   {
    "duration": 43,
    "start_time": "2023-10-10T09:32:44.104Z"
   },
   {
    "duration": 8,
    "start_time": "2023-10-10T09:32:44.384Z"
   },
   {
    "duration": 10,
    "start_time": "2023-10-10T09:32:44.666Z"
   },
   {
    "duration": 110,
    "start_time": "2023-10-10T09:32:44.938Z"
   },
   {
    "duration": 8,
    "start_time": "2023-10-10T09:32:45.222Z"
   },
   {
    "duration": 19,
    "start_time": "2023-10-10T09:32:45.520Z"
   },
   {
    "duration": 730,
    "start_time": "2023-10-10T09:32:45.803Z"
   },
   {
    "duration": 11,
    "start_time": "2023-10-10T09:32:46.535Z"
   },
   {
    "duration": 83,
    "start_time": "2023-10-10T09:32:46.548Z"
   },
   {
    "duration": 114,
    "start_time": "2023-10-10T09:32:46.734Z"
   },
   {
    "duration": 7,
    "start_time": "2023-10-10T09:32:47.193Z"
   },
   {
    "duration": 14,
    "start_time": "2023-10-10T09:32:47.499Z"
   },
   {
    "duration": 12,
    "start_time": "2023-10-10T09:32:48.484Z"
   },
   {
    "duration": 6,
    "start_time": "2023-10-10T09:32:48.702Z"
   },
   {
    "duration": 6,
    "start_time": "2023-10-10T09:32:48.963Z"
   },
   {
    "duration": 9,
    "start_time": "2023-10-10T09:32:49.171Z"
   },
   {
    "duration": 27,
    "start_time": "2023-10-10T09:32:49.632Z"
   },
   {
    "duration": 28,
    "start_time": "2023-10-10T09:32:49.893Z"
   },
   {
    "duration": 13,
    "start_time": "2023-10-10T09:32:50.163Z"
   },
   {
    "duration": 8,
    "start_time": "2023-10-10T09:32:50.427Z"
   },
   {
    "duration": 129,
    "start_time": "2023-10-10T09:32:50.964Z"
   },
   {
    "duration": 141,
    "start_time": "2023-10-10T09:32:51.218Z"
   },
   {
    "duration": 43,
    "start_time": "2023-10-10T09:32:51.510Z"
   },
   {
    "duration": 9,
    "start_time": "2023-10-10T09:32:51.780Z"
   },
   {
    "duration": 6,
    "start_time": "2023-10-10T09:32:52.062Z"
   },
   {
    "duration": 7,
    "start_time": "2023-10-10T09:32:52.956Z"
   },
   {
    "duration": 10,
    "start_time": "2023-10-10T09:32:53.255Z"
   },
   {
    "duration": 9,
    "start_time": "2023-10-10T09:32:53.535Z"
   },
   {
    "duration": 4,
    "start_time": "2023-10-10T09:32:54.616Z"
   },
   {
    "duration": 5,
    "start_time": "2023-10-10T09:32:54.905Z"
   },
   {
    "duration": 16,
    "start_time": "2023-10-10T09:32:55.756Z"
   },
   {
    "duration": 28,
    "start_time": "2023-10-10T09:32:56.315Z"
   },
   {
    "duration": 12,
    "start_time": "2023-10-10T09:32:57.108Z"
   },
   {
    "duration": 4,
    "start_time": "2023-10-10T09:32:57.381Z"
   },
   {
    "duration": 43,
    "start_time": "2023-10-10T09:32:57.673Z"
   },
   {
    "duration": 11,
    "start_time": "2023-10-10T09:32:58.516Z"
   },
   {
    "duration": 10,
    "start_time": "2023-10-10T09:32:59.527Z"
   },
   {
    "duration": 2,
    "start_time": "2023-10-10T09:32:59.838Z"
   },
   {
    "duration": 2,
    "start_time": "2023-10-10T09:33:00.166Z"
   },
   {
    "duration": 3,
    "start_time": "2023-10-10T09:33:00.463Z"
   },
   {
    "duration": 3,
    "start_time": "2023-10-10T09:33:00.761Z"
   },
   {
    "duration": 10,
    "start_time": "2023-10-10T09:33:01.648Z"
   },
   {
    "duration": 9,
    "start_time": "2023-10-10T09:33:02.087Z"
   },
   {
    "duration": 191,
    "start_time": "2023-10-10T09:33:02.535Z"
   },
   {
    "duration": 139,
    "start_time": "2023-10-10T09:33:03.706Z"
   },
   {
    "duration": 141,
    "start_time": "2023-10-10T09:33:04.363Z"
   },
   {
    "duration": 719,
    "start_time": "2023-10-10T09:33:04.802Z"
   },
   {
    "duration": 6,
    "start_time": "2023-10-10T09:33:05.523Z"
   },
   {
    "duration": 128,
    "start_time": "2023-10-10T09:33:17.686Z"
   },
   {
    "duration": 22,
    "start_time": "2023-10-10T09:33:18.921Z"
   },
   {
    "duration": 31,
    "start_time": "2023-10-10T09:33:20.263Z"
   },
   {
    "duration": 684,
    "start_time": "2023-10-10T09:34:18.464Z"
   },
   {
    "duration": 47,
    "start_time": "2023-10-10T09:34:33.247Z"
   },
   {
    "duration": 23,
    "start_time": "2023-10-10T09:34:33.296Z"
   },
   {
    "duration": 37,
    "start_time": "2023-10-10T09:34:36.310Z"
   },
   {
    "duration": 3,
    "start_time": "2023-10-10T09:35:26.150Z"
   },
   {
    "duration": 11,
    "start_time": "2023-10-10T09:35:29.322Z"
   },
   {
    "duration": 8,
    "start_time": "2023-10-10T09:35:29.627Z"
   },
   {
    "duration": 2,
    "start_time": "2023-10-10T09:35:29.987Z"
   },
   {
    "duration": 2,
    "start_time": "2023-10-10T09:35:30.389Z"
   },
   {
    "duration": 2,
    "start_time": "2023-10-10T09:35:30.682Z"
   },
   {
    "duration": 3,
    "start_time": "2023-10-10T09:35:31.006Z"
   },
   {
    "duration": 63,
    "start_time": "2023-10-10T09:35:34.067Z"
   },
   {
    "duration": 25,
    "start_time": "2023-10-10T09:35:35.037Z"
   },
   {
    "duration": 34,
    "start_time": "2023-10-10T09:35:35.942Z"
   },
   {
    "duration": 1162,
    "start_time": "2023-10-10T09:35:46.926Z"
   },
   {
    "duration": 49,
    "start_time": "2023-10-10T09:35:48.090Z"
   },
   {
    "duration": 11,
    "start_time": "2023-10-10T09:35:48.140Z"
   },
   {
    "duration": 44,
    "start_time": "2023-10-10T09:35:48.153Z"
   },
   {
    "duration": 127,
    "start_time": "2023-10-10T09:35:48.198Z"
   },
   {
    "duration": 7,
    "start_time": "2023-10-10T09:35:48.327Z"
   },
   {
    "duration": 34,
    "start_time": "2023-10-10T09:35:48.336Z"
   },
   {
    "duration": 899,
    "start_time": "2023-10-10T09:35:48.371Z"
   },
   {
    "duration": 9,
    "start_time": "2023-10-10T09:35:49.272Z"
   },
   {
    "duration": 76,
    "start_time": "2023-10-10T09:35:49.283Z"
   },
   {
    "duration": 50,
    "start_time": "2023-10-10T09:35:49.361Z"
   },
   {
    "duration": 8,
    "start_time": "2023-10-10T09:35:49.412Z"
   },
   {
    "duration": 22,
    "start_time": "2023-10-10T09:35:49.421Z"
   },
   {
    "duration": 28,
    "start_time": "2023-10-10T09:35:49.445Z"
   },
   {
    "duration": 11,
    "start_time": "2023-10-10T09:35:49.475Z"
   },
   {
    "duration": 7,
    "start_time": "2023-10-10T09:35:49.488Z"
   },
   {
    "duration": 19,
    "start_time": "2023-10-10T09:35:49.497Z"
   },
   {
    "duration": 42,
    "start_time": "2023-10-10T09:35:49.517Z"
   },
   {
    "duration": 29,
    "start_time": "2023-10-10T09:35:49.561Z"
   },
   {
    "duration": 13,
    "start_time": "2023-10-10T09:35:49.592Z"
   },
   {
    "duration": 15,
    "start_time": "2023-10-10T09:35:49.607Z"
   },
   {
    "duration": 149,
    "start_time": "2023-10-10T09:35:49.623Z"
   },
   {
    "duration": 186,
    "start_time": "2023-10-10T09:35:49.773Z"
   },
   {
    "duration": 42,
    "start_time": "2023-10-10T09:35:49.961Z"
   },
   {
    "duration": 48,
    "start_time": "2023-10-10T09:35:50.004Z"
   },
   {
    "duration": 71,
    "start_time": "2023-10-10T09:35:50.053Z"
   },
   {
    "duration": 31,
    "start_time": "2023-10-10T09:35:50.126Z"
   },
   {
    "duration": 16,
    "start_time": "2023-10-10T09:35:50.161Z"
   },
   {
    "duration": 37,
    "start_time": "2023-10-10T09:35:50.178Z"
   },
   {
    "duration": 29,
    "start_time": "2023-10-10T09:35:50.216Z"
   },
   {
    "duration": 15,
    "start_time": "2023-10-10T09:35:50.246Z"
   },
   {
    "duration": 50,
    "start_time": "2023-10-10T09:35:50.262Z"
   },
   {
    "duration": 27,
    "start_time": "2023-10-10T09:35:50.314Z"
   },
   {
    "duration": 8,
    "start_time": "2023-10-10T09:35:50.342Z"
   },
   {
    "duration": 13,
    "start_time": "2023-10-10T09:35:50.352Z"
   },
   {
    "duration": 63,
    "start_time": "2023-10-10T09:35:50.366Z"
   },
   {
    "duration": 9,
    "start_time": "2023-10-10T09:35:50.431Z"
   },
   {
    "duration": 23,
    "start_time": "2023-10-10T09:35:50.441Z"
   },
   {
    "duration": 18,
    "start_time": "2023-10-10T09:35:50.466Z"
   },
   {
    "duration": 24,
    "start_time": "2023-10-10T09:35:50.486Z"
   },
   {
    "duration": 22,
    "start_time": "2023-10-10T09:35:50.512Z"
   },
   {
    "duration": 21,
    "start_time": "2023-10-10T09:35:50.535Z"
   },
   {
    "duration": 20,
    "start_time": "2023-10-10T09:35:50.558Z"
   },
   {
    "duration": 23,
    "start_time": "2023-10-10T09:35:50.580Z"
   },
   {
    "duration": 22,
    "start_time": "2023-10-10T09:35:50.604Z"
   },
   {
    "duration": 28,
    "start_time": "2023-10-10T09:35:50.627Z"
   },
   {
    "duration": 19,
    "start_time": "2023-10-10T09:35:50.657Z"
   },
   {
    "duration": 53,
    "start_time": "2023-10-10T09:35:50.677Z"
   },
   {
    "duration": 237,
    "start_time": "2023-10-10T09:35:50.731Z"
   },
   {
    "duration": 21,
    "start_time": "2023-10-10T09:35:50.970Z"
   },
   {
    "duration": 625,
    "start_time": "2023-10-10T09:35:50.993Z"
   },
   {
    "duration": 392,
    "start_time": "2023-10-10T09:35:51.620Z"
   },
   {
    "duration": 217,
    "start_time": "2023-10-10T09:35:52.013Z"
   },
   {
    "duration": 25,
    "start_time": "2023-10-10T09:35:52.231Z"
   },
   {
    "duration": 5,
    "start_time": "2023-10-10T09:35:52.258Z"
   },
   {
    "duration": 32,
    "start_time": "2023-10-10T09:35:52.265Z"
   },
   {
    "duration": 26,
    "start_time": "2023-10-10T09:35:52.300Z"
   },
   {
    "duration": 34,
    "start_time": "2023-10-10T09:35:52.328Z"
   },
   {
    "duration": 192,
    "start_time": "2023-10-10T09:45:10.131Z"
   },
   {
    "duration": 3,
    "start_time": "2023-10-10T09:45:12.646Z"
   },
   {
    "duration": 3,
    "start_time": "2023-10-10T09:45:12.967Z"
   },
   {
    "duration": 2,
    "start_time": "2023-10-10T09:45:13.287Z"
   },
   {
    "duration": 93,
    "start_time": "2023-10-10T09:45:16.483Z"
   },
   {
    "duration": 23,
    "start_time": "2023-10-10T09:45:17.632Z"
   },
   {
    "duration": 492,
    "start_time": "2023-10-10T09:45:18.927Z"
   },
   {
    "duration": 478,
    "start_time": "2023-10-10T09:45:22.909Z"
   },
   {
    "duration": 223,
    "start_time": "2023-10-10T09:45:25.065Z"
   },
   {
    "duration": 20,
    "start_time": "2023-10-10T09:45:25.887Z"
   },
   {
    "duration": 5,
    "start_time": "2023-10-10T09:45:27.567Z"
   },
   {
    "duration": 26,
    "start_time": "2023-10-10T09:45:29.423Z"
   },
   {
    "duration": 25,
    "start_time": "2023-10-10T09:45:30.065Z"
   },
   {
    "duration": 142,
    "start_time": "2023-10-10T09:45:40.141Z"
   },
   {
    "duration": 133,
    "start_time": "2023-10-10T09:45:44.825Z"
   },
   {
    "duration": 11,
    "start_time": "2023-10-10T09:45:48.210Z"
   },
   {
    "duration": 8,
    "start_time": "2023-10-10T09:45:48.464Z"
   },
   {
    "duration": 232,
    "start_time": "2023-10-10T09:45:48.687Z"
   },
   {
    "duration": 202,
    "start_time": "2023-10-10T09:45:48.930Z"
   },
   {
    "duration": 1587,
    "start_time": "2023-10-10T09:45:49.179Z"
   },
   {
    "duration": 0,
    "start_time": "2023-10-10T09:45:50.768Z"
   },
   {
    "duration": 148,
    "start_time": "2023-10-10T09:45:52.227Z"
   },
   {
    "duration": 24,
    "start_time": "2023-10-10T09:45:53.121Z"
   },
   {
    "duration": 42,
    "start_time": "2023-10-10T09:45:54.016Z"
   },
   {
    "duration": 187,
    "start_time": "2023-10-10T09:46:47.421Z"
   },
   {
    "duration": 658,
    "start_time": "2023-10-10T09:46:58.171Z"
   },
   {
    "duration": 1199,
    "start_time": "2023-10-10T09:47:11.074Z"
   },
   {
    "duration": 54,
    "start_time": "2023-10-10T09:47:12.275Z"
   },
   {
    "duration": 12,
    "start_time": "2023-10-10T09:47:12.330Z"
   },
   {
    "duration": 14,
    "start_time": "2023-10-10T09:47:12.344Z"
   },
   {
    "duration": 246,
    "start_time": "2023-10-10T09:47:12.361Z"
   },
   {
    "duration": 8,
    "start_time": "2023-10-10T09:47:12.609Z"
   },
   {
    "duration": 50,
    "start_time": "2023-10-10T09:47:12.618Z"
   },
   {
    "duration": 947,
    "start_time": "2023-10-10T09:47:12.669Z"
   },
   {
    "duration": 10,
    "start_time": "2023-10-10T09:47:13.618Z"
   },
   {
    "duration": 91,
    "start_time": "2023-10-10T09:47:13.630Z"
   },
   {
    "duration": 69,
    "start_time": "2023-10-10T09:47:13.723Z"
   },
   {
    "duration": 7,
    "start_time": "2023-10-10T09:47:13.794Z"
   },
   {
    "duration": 35,
    "start_time": "2023-10-10T09:47:13.803Z"
   },
   {
    "duration": 58,
    "start_time": "2023-10-10T09:47:13.841Z"
   },
   {
    "duration": 26,
    "start_time": "2023-10-10T09:47:13.901Z"
   },
   {
    "duration": 34,
    "start_time": "2023-10-10T09:47:13.929Z"
   },
   {
    "duration": 154,
    "start_time": "2023-10-10T09:47:13.965Z"
   },
   {
    "duration": 117,
    "start_time": "2023-10-10T09:47:14.122Z"
   },
   {
    "duration": 52,
    "start_time": "2023-10-10T09:47:14.241Z"
   },
   {
    "duration": 16,
    "start_time": "2023-10-10T09:47:14.295Z"
   },
   {
    "duration": 18,
    "start_time": "2023-10-10T09:47:14.314Z"
   },
   {
    "duration": 165,
    "start_time": "2023-10-10T09:47:14.334Z"
   },
   {
    "duration": 188,
    "start_time": "2023-10-10T09:47:14.501Z"
   },
   {
    "duration": 54,
    "start_time": "2023-10-10T09:47:14.691Z"
   },
   {
    "duration": 8,
    "start_time": "2023-10-10T09:47:14.747Z"
   },
   {
    "duration": 35,
    "start_time": "2023-10-10T09:47:14.757Z"
   },
   {
    "duration": 41,
    "start_time": "2023-10-10T09:47:14.794Z"
   },
   {
    "duration": 44,
    "start_time": "2023-10-10T09:47:14.836Z"
   },
   {
    "duration": 22,
    "start_time": "2023-10-10T09:47:14.881Z"
   },
   {
    "duration": 20,
    "start_time": "2023-10-10T09:47:14.904Z"
   },
   {
    "duration": 41,
    "start_time": "2023-10-10T09:47:14.926Z"
   },
   {
    "duration": 47,
    "start_time": "2023-10-10T09:47:14.968Z"
   },
   {
    "duration": 93,
    "start_time": "2023-10-10T09:47:15.016Z"
   },
   {
    "duration": 67,
    "start_time": "2023-10-10T09:47:15.110Z"
   },
   {
    "duration": 24,
    "start_time": "2023-10-10T09:47:15.179Z"
   },
   {
    "duration": 185,
    "start_time": "2023-10-10T09:47:15.205Z"
   },
   {
    "duration": 9,
    "start_time": "2023-10-10T09:47:15.392Z"
   },
   {
    "duration": 64,
    "start_time": "2023-10-10T09:47:15.403Z"
   },
   {
    "duration": 114,
    "start_time": "2023-10-10T09:47:15.469Z"
   },
   {
    "duration": 111,
    "start_time": "2023-10-10T09:47:15.585Z"
   },
   {
    "duration": 70,
    "start_time": "2023-10-10T09:47:15.699Z"
   },
   {
    "duration": 19,
    "start_time": "2023-10-10T09:47:15.771Z"
   },
   {
    "duration": 46,
    "start_time": "2023-10-10T09:47:15.792Z"
   },
   {
    "duration": 12,
    "start_time": "2023-10-10T09:47:15.839Z"
   },
   {
    "duration": 181,
    "start_time": "2023-10-10T09:47:15.852Z"
   },
   {
    "duration": 137,
    "start_time": "2023-10-10T09:47:16.035Z"
   },
   {
    "duration": 1847,
    "start_time": "2023-10-10T09:47:16.173Z"
   },
   {
    "duration": 0,
    "start_time": "2023-10-10T09:47:18.021Z"
   },
   {
    "duration": 0,
    "start_time": "2023-10-10T09:47:18.023Z"
   },
   {
    "duration": 0,
    "start_time": "2023-10-10T09:47:18.024Z"
   },
   {
    "duration": 0,
    "start_time": "2023-10-10T09:47:18.025Z"
   },
   {
    "duration": 0,
    "start_time": "2023-10-10T09:47:18.026Z"
   },
   {
    "duration": 0,
    "start_time": "2023-10-10T09:47:18.027Z"
   },
   {
    "duration": 0,
    "start_time": "2023-10-10T09:47:18.028Z"
   },
   {
    "duration": 0,
    "start_time": "2023-10-10T09:47:18.029Z"
   },
   {
    "duration": 0,
    "start_time": "2023-10-10T09:47:18.030Z"
   },
   {
    "duration": 0,
    "start_time": "2023-10-10T09:47:18.031Z"
   },
   {
    "duration": 0,
    "start_time": "2023-10-10T09:47:18.032Z"
   },
   {
    "duration": 214,
    "start_time": "2023-10-10T09:47:38.982Z"
   },
   {
    "duration": 150,
    "start_time": "2023-10-10T09:47:39.364Z"
   },
   {
    "duration": 1353,
    "start_time": "2023-10-10T09:47:42.019Z"
   },
   {
    "duration": 640,
    "start_time": "2023-10-10T09:47:47.901Z"
   },
   {
    "duration": 282,
    "start_time": "2023-10-10T09:47:52.599Z"
   },
   {
    "duration": 21,
    "start_time": "2023-10-10T09:47:53.481Z"
   },
   {
    "duration": 42,
    "start_time": "2023-10-10T09:47:54.422Z"
   },
   {
    "duration": 2,
    "start_time": "2023-10-10T09:48:31.588Z"
   },
   {
    "duration": 10,
    "start_time": "2023-10-10T09:48:39.592Z"
   },
   {
    "duration": 3,
    "start_time": "2023-10-10T09:48:39.831Z"
   },
   {
    "duration": 2,
    "start_time": "2023-10-10T09:48:40.077Z"
   },
   {
    "duration": 3,
    "start_time": "2023-10-10T09:48:40.302Z"
   },
   {
    "duration": 2,
    "start_time": "2023-10-10T09:48:40.533Z"
   },
   {
    "duration": 47,
    "start_time": "2023-10-10T09:48:43.223Z"
   },
   {
    "duration": 30,
    "start_time": "2023-10-10T09:48:44.090Z"
   },
   {
    "duration": 33,
    "start_time": "2023-10-10T09:48:45.030Z"
   },
   {
    "duration": 1225,
    "start_time": "2023-10-10T09:48:53.978Z"
   },
   {
    "duration": 131,
    "start_time": "2023-10-10T09:48:55.205Z"
   },
   {
    "duration": 11,
    "start_time": "2023-10-10T09:48:55.338Z"
   },
   {
    "duration": 17,
    "start_time": "2023-10-10T09:48:55.351Z"
   },
   {
    "duration": 159,
    "start_time": "2023-10-10T09:48:55.370Z"
   },
   {
    "duration": 8,
    "start_time": "2023-10-10T09:48:55.530Z"
   },
   {
    "duration": 42,
    "start_time": "2023-10-10T09:48:55.539Z"
   },
   {
    "duration": 825,
    "start_time": "2023-10-10T09:48:55.582Z"
   },
   {
    "duration": 8,
    "start_time": "2023-10-10T09:48:56.408Z"
   },
   {
    "duration": 71,
    "start_time": "2023-10-10T09:48:56.419Z"
   },
   {
    "duration": 57,
    "start_time": "2023-10-10T09:48:56.492Z"
   },
   {
    "duration": 195,
    "start_time": "2023-10-10T09:48:56.550Z"
   },
   {
    "duration": 37,
    "start_time": "2023-10-10T09:48:56.746Z"
   },
   {
    "duration": 29,
    "start_time": "2023-10-10T09:48:56.785Z"
   },
   {
    "duration": 16,
    "start_time": "2023-10-10T09:48:56.816Z"
   },
   {
    "duration": 12,
    "start_time": "2023-10-10T09:48:56.834Z"
   },
   {
    "duration": 18,
    "start_time": "2023-10-10T09:48:56.847Z"
   },
   {
    "duration": 27,
    "start_time": "2023-10-10T09:48:56.867Z"
   },
   {
    "duration": 27,
    "start_time": "2023-10-10T09:48:56.896Z"
   },
   {
    "duration": 168,
    "start_time": "2023-10-10T09:48:56.924Z"
   },
   {
    "duration": 8,
    "start_time": "2023-10-10T09:48:57.094Z"
   },
   {
    "duration": 146,
    "start_time": "2023-10-10T09:48:57.108Z"
   },
   {
    "duration": 183,
    "start_time": "2023-10-10T09:48:57.255Z"
   },
   {
    "duration": 45,
    "start_time": "2023-10-10T09:48:57.439Z"
   },
   {
    "duration": 18,
    "start_time": "2023-10-10T09:48:57.485Z"
   },
   {
    "duration": 29,
    "start_time": "2023-10-10T09:48:57.504Z"
   },
   {
    "duration": 8,
    "start_time": "2023-10-10T09:48:57.535Z"
   },
   {
    "duration": 28,
    "start_time": "2023-10-10T09:48:57.547Z"
   },
   {
    "duration": 12,
    "start_time": "2023-10-10T09:48:57.576Z"
   },
   {
    "duration": 13,
    "start_time": "2023-10-10T09:48:57.589Z"
   },
   {
    "duration": 9,
    "start_time": "2023-10-10T09:48:57.603Z"
   },
   {
    "duration": 33,
    "start_time": "2023-10-10T09:48:57.613Z"
   },
   {
    "duration": 22,
    "start_time": "2023-10-10T09:48:57.648Z"
   },
   {
    "duration": 7,
    "start_time": "2023-10-10T09:48:57.671Z"
   },
   {
    "duration": 3,
    "start_time": "2023-10-10T09:48:57.680Z"
   },
   {
    "duration": 46,
    "start_time": "2023-10-10T09:48:57.684Z"
   },
   {
    "duration": 10,
    "start_time": "2023-10-10T09:48:57.745Z"
   },
   {
    "duration": 16,
    "start_time": "2023-10-10T09:48:57.756Z"
   },
   {
    "duration": 6,
    "start_time": "2023-10-10T09:48:57.774Z"
   },
   {
    "duration": 20,
    "start_time": "2023-10-10T09:48:57.782Z"
   },
   {
    "duration": 16,
    "start_time": "2023-10-10T09:48:57.803Z"
   },
   {
    "duration": 10,
    "start_time": "2023-10-10T09:48:57.821Z"
   },
   {
    "duration": 10,
    "start_time": "2023-10-10T09:48:57.832Z"
   },
   {
    "duration": 11,
    "start_time": "2023-10-10T09:48:57.843Z"
   },
   {
    "duration": 4,
    "start_time": "2023-10-10T09:48:57.855Z"
   },
   {
    "duration": 4,
    "start_time": "2023-10-10T09:48:57.860Z"
   },
   {
    "duration": 4,
    "start_time": "2023-10-10T09:48:57.865Z"
   },
   {
    "duration": 7,
    "start_time": "2023-10-10T09:48:57.871Z"
   },
   {
    "duration": 197,
    "start_time": "2023-10-10T09:48:57.879Z"
   },
   {
    "duration": 22,
    "start_time": "2023-10-10T09:48:58.078Z"
   },
   {
    "duration": 650,
    "start_time": "2023-10-10T09:48:58.101Z"
   },
   {
    "duration": 408,
    "start_time": "2023-10-10T09:48:58.752Z"
   },
   {
    "duration": 219,
    "start_time": "2023-10-10T09:48:59.162Z"
   },
   {
    "duration": 17,
    "start_time": "2023-10-10T09:48:59.383Z"
   },
   {
    "duration": 6,
    "start_time": "2023-10-10T09:48:59.402Z"
   },
   {
    "duration": 60,
    "start_time": "2023-10-10T09:48:59.409Z"
   },
   {
    "duration": 22,
    "start_time": "2023-10-10T09:48:59.471Z"
   },
   {
    "duration": 21,
    "start_time": "2023-10-10T09:48:59.495Z"
   },
   {
    "duration": 106,
    "start_time": "2023-10-10T09:54:17.806Z"
   },
   {
    "duration": 17,
    "start_time": "2023-10-10T09:54:42.758Z"
   },
   {
    "duration": 12,
    "start_time": "2023-10-10T09:54:48.535Z"
   },
   {
    "duration": 1340,
    "start_time": "2023-10-10T09:55:16.067Z"
   },
   {
    "duration": 17,
    "start_time": "2023-10-10T09:55:30.969Z"
   },
   {
    "duration": 15,
    "start_time": "2023-10-10T09:56:01.623Z"
   },
   {
    "duration": 8,
    "start_time": "2023-10-10T09:56:08.097Z"
   },
   {
    "duration": 170,
    "start_time": "2023-10-10T09:56:08.435Z"
   },
   {
    "duration": 200,
    "start_time": "2023-10-10T09:56:08.770Z"
   },
   {
    "duration": 144,
    "start_time": "2023-10-10T09:56:09.131Z"
   },
   {
    "duration": 708,
    "start_time": "2023-10-10T09:56:09.462Z"
   },
   {
    "duration": 1208,
    "start_time": "2023-10-10T09:56:36.456Z"
   },
   {
    "duration": 47,
    "start_time": "2023-10-10T09:56:37.666Z"
   },
   {
    "duration": 11,
    "start_time": "2023-10-10T09:56:37.715Z"
   },
   {
    "duration": 28,
    "start_time": "2023-10-10T09:56:37.728Z"
   },
   {
    "duration": 216,
    "start_time": "2023-10-10T09:56:37.758Z"
   },
   {
    "duration": 9,
    "start_time": "2023-10-10T09:56:37.977Z"
   },
   {
    "duration": 34,
    "start_time": "2023-10-10T09:56:37.987Z"
   },
   {
    "duration": 1361,
    "start_time": "2023-10-10T09:56:38.023Z"
   },
   {
    "duration": 9,
    "start_time": "2023-10-10T09:56:39.386Z"
   },
   {
    "duration": 79,
    "start_time": "2023-10-10T09:56:39.396Z"
   },
   {
    "duration": 56,
    "start_time": "2023-10-10T09:56:39.476Z"
   },
   {
    "duration": 8,
    "start_time": "2023-10-10T09:56:39.533Z"
   },
   {
    "duration": 36,
    "start_time": "2023-10-10T09:56:39.543Z"
   },
   {
    "duration": 18,
    "start_time": "2023-10-10T09:56:39.583Z"
   },
   {
    "duration": 8,
    "start_time": "2023-10-10T09:56:39.603Z"
   },
   {
    "duration": 13,
    "start_time": "2023-10-10T09:56:39.613Z"
   },
   {
    "duration": 11,
    "start_time": "2023-10-10T09:56:39.628Z"
   },
   {
    "duration": 31,
    "start_time": "2023-10-10T09:56:39.640Z"
   },
   {
    "duration": 29,
    "start_time": "2023-10-10T09:56:39.673Z"
   },
   {
    "duration": 13,
    "start_time": "2023-10-10T09:56:39.704Z"
   },
   {
    "duration": 29,
    "start_time": "2023-10-10T09:56:39.718Z"
   },
   {
    "duration": 145,
    "start_time": "2023-10-10T09:56:39.749Z"
   },
   {
    "duration": 201,
    "start_time": "2023-10-10T09:56:39.895Z"
   },
   {
    "duration": 48,
    "start_time": "2023-10-10T09:56:40.097Z"
   },
   {
    "duration": 9,
    "start_time": "2023-10-10T09:56:40.147Z"
   },
   {
    "duration": 26,
    "start_time": "2023-10-10T09:56:40.158Z"
   },
   {
    "duration": 21,
    "start_time": "2023-10-10T09:56:40.185Z"
   },
   {
    "duration": 23,
    "start_time": "2023-10-10T09:56:40.208Z"
   },
   {
    "duration": 8,
    "start_time": "2023-10-10T09:56:40.232Z"
   },
   {
    "duration": 23,
    "start_time": "2023-10-10T09:56:40.242Z"
   },
   {
    "duration": 10,
    "start_time": "2023-10-10T09:56:40.267Z"
   },
   {
    "duration": 19,
    "start_time": "2023-10-10T09:56:40.279Z"
   },
   {
    "duration": 24,
    "start_time": "2023-10-10T09:56:40.299Z"
   },
   {
    "duration": 9,
    "start_time": "2023-10-10T09:56:40.325Z"
   },
   {
    "duration": 28,
    "start_time": "2023-10-10T09:56:40.335Z"
   },
   {
    "duration": 55,
    "start_time": "2023-10-10T09:56:40.365Z"
   },
   {
    "duration": 11,
    "start_time": "2023-10-10T09:56:40.421Z"
   },
   {
    "duration": 37,
    "start_time": "2023-10-10T09:56:40.433Z"
   },
   {
    "duration": 11,
    "start_time": "2023-10-10T09:56:40.472Z"
   },
   {
    "duration": 12,
    "start_time": "2023-10-10T09:56:40.484Z"
   },
   {
    "duration": 4,
    "start_time": "2023-10-10T09:56:40.500Z"
   },
   {
    "duration": 33,
    "start_time": "2023-10-10T09:56:40.506Z"
   },
   {
    "duration": 29,
    "start_time": "2023-10-10T09:56:40.541Z"
   },
   {
    "duration": 16,
    "start_time": "2023-10-10T09:56:40.571Z"
   },
   {
    "duration": 171,
    "start_time": "2023-10-10T09:56:40.588Z"
   },
   {
    "duration": 135,
    "start_time": "2023-10-10T09:56:40.760Z"
   },
   {
    "duration": 140,
    "start_time": "2023-10-10T09:56:40.896Z"
   },
   {
    "duration": 642,
    "start_time": "2023-10-10T09:56:41.038Z"
   },
   {
    "duration": 1210,
    "start_time": "2023-10-10T10:08:57.465Z"
   },
   {
    "duration": 45,
    "start_time": "2023-10-10T10:08:58.677Z"
   },
   {
    "duration": 10,
    "start_time": "2023-10-10T10:08:58.724Z"
   },
   {
    "duration": 74,
    "start_time": "2023-10-10T10:08:58.736Z"
   },
   {
    "duration": 177,
    "start_time": "2023-10-10T10:08:58.812Z"
   },
   {
    "duration": 8,
    "start_time": "2023-10-10T10:08:58.991Z"
   },
   {
    "duration": 38,
    "start_time": "2023-10-10T10:08:59.001Z"
   },
   {
    "duration": 929,
    "start_time": "2023-10-10T10:08:59.041Z"
   },
   {
    "duration": 10,
    "start_time": "2023-10-10T10:08:59.972Z"
   },
   {
    "duration": 176,
    "start_time": "2023-10-10T10:08:59.983Z"
   },
   {
    "duration": 55,
    "start_time": "2023-10-10T10:09:00.161Z"
   },
   {
    "duration": 8,
    "start_time": "2023-10-10T10:09:00.218Z"
   },
   {
    "duration": 40,
    "start_time": "2023-10-10T10:09:00.227Z"
   },
   {
    "duration": 43,
    "start_time": "2023-10-10T10:09:00.270Z"
   },
   {
    "duration": 38,
    "start_time": "2023-10-10T10:09:00.315Z"
   },
   {
    "duration": 76,
    "start_time": "2023-10-10T10:09:00.355Z"
   },
   {
    "duration": 40,
    "start_time": "2023-10-10T10:09:00.433Z"
   },
   {
    "duration": 96,
    "start_time": "2023-10-10T10:09:00.475Z"
   },
   {
    "duration": 45,
    "start_time": "2023-10-10T10:09:00.573Z"
   },
   {
    "duration": 31,
    "start_time": "2023-10-10T10:09:00.620Z"
   },
   {
    "duration": 61,
    "start_time": "2023-10-10T10:09:00.652Z"
   },
   {
    "duration": 213,
    "start_time": "2023-10-10T10:09:00.714Z"
   },
   {
    "duration": 203,
    "start_time": "2023-10-10T10:09:00.929Z"
   },
   {
    "duration": 50,
    "start_time": "2023-10-10T10:09:01.134Z"
   },
   {
    "duration": 60,
    "start_time": "2023-10-10T10:09:01.186Z"
   },
   {
    "duration": 68,
    "start_time": "2023-10-10T10:09:01.248Z"
   },
   {
    "duration": 60,
    "start_time": "2023-10-10T10:09:01.318Z"
   },
   {
    "duration": 73,
    "start_time": "2023-10-10T10:09:01.379Z"
   },
   {
    "duration": 45,
    "start_time": "2023-10-10T10:09:01.454Z"
   },
   {
    "duration": 64,
    "start_time": "2023-10-10T10:09:01.501Z"
   },
   {
    "duration": 78,
    "start_time": "2023-10-10T10:09:01.566Z"
   },
   {
    "duration": 68,
    "start_time": "2023-10-10T10:09:01.646Z"
   },
   {
    "duration": 70,
    "start_time": "2023-10-10T10:09:01.715Z"
   },
   {
    "duration": 265,
    "start_time": "2023-10-10T10:09:01.787Z"
   },
   {
    "duration": 107,
    "start_time": "2023-10-10T10:09:02.053Z"
   },
   {
    "duration": 113,
    "start_time": "2023-10-10T10:09:02.162Z"
   },
   {
    "duration": 26,
    "start_time": "2023-10-10T10:09:02.277Z"
   },
   {
    "duration": 40,
    "start_time": "2023-10-10T10:09:02.305Z"
   },
   {
    "duration": 119,
    "start_time": "2023-10-10T10:09:02.347Z"
   },
   {
    "duration": 114,
    "start_time": "2023-10-10T10:09:02.468Z"
   },
   {
    "duration": 202,
    "start_time": "2023-10-10T10:09:02.586Z"
   },
   {
    "duration": 97,
    "start_time": "2023-10-10T10:09:02.790Z"
   },
   {
    "duration": 0,
    "start_time": "2023-10-10T10:09:02.889Z"
   },
   {
    "duration": 0,
    "start_time": "2023-10-10T10:09:02.890Z"
   },
   {
    "duration": 0,
    "start_time": "2023-10-10T10:09:02.891Z"
   },
   {
    "duration": 0,
    "start_time": "2023-10-10T10:09:02.891Z"
   },
   {
    "duration": 0,
    "start_time": "2023-10-10T10:09:02.892Z"
   },
   {
    "duration": 0,
    "start_time": "2023-10-10T10:09:02.893Z"
   },
   {
    "duration": 0,
    "start_time": "2023-10-10T10:09:02.895Z"
   },
   {
    "duration": 0,
    "start_time": "2023-10-10T10:09:02.896Z"
   },
   {
    "duration": 0,
    "start_time": "2023-10-10T10:09:02.897Z"
   },
   {
    "duration": 0,
    "start_time": "2023-10-10T10:09:02.898Z"
   },
   {
    "duration": 0,
    "start_time": "2023-10-10T10:09:02.899Z"
   },
   {
    "duration": 0,
    "start_time": "2023-10-10T10:09:02.900Z"
   },
   {
    "duration": 0,
    "start_time": "2023-10-10T10:09:02.901Z"
   },
   {
    "duration": 0,
    "start_time": "2023-10-10T10:09:02.902Z"
   },
   {
    "duration": 0,
    "start_time": "2023-10-10T10:09:02.903Z"
   },
   {
    "duration": 0,
    "start_time": "2023-10-10T10:09:02.904Z"
   },
   {
    "duration": 123,
    "start_time": "2023-10-10T10:11:09.386Z"
   },
   {
    "duration": 12,
    "start_time": "2023-10-10T10:11:12.848Z"
   },
   {
    "duration": 5,
    "start_time": "2023-10-10T10:11:31.891Z"
   },
   {
    "duration": 3,
    "start_time": "2023-10-10T10:11:33.152Z"
   },
   {
    "duration": 10,
    "start_time": "2023-10-10T10:12:00.228Z"
   },
   {
    "duration": 3,
    "start_time": "2023-10-10T10:12:03.220Z"
   },
   {
    "duration": 8,
    "start_time": "2023-10-10T10:12:07.852Z"
   },
   {
    "duration": 9,
    "start_time": "2023-10-10T10:12:08.144Z"
   },
   {
    "duration": 11,
    "start_time": "2023-10-10T10:12:08.436Z"
   },
   {
    "duration": 123,
    "start_time": "2023-10-10T10:12:08.727Z"
   },
   {
    "duration": 11,
    "start_time": "2023-10-10T10:12:09.061Z"
   },
   {
    "duration": 11,
    "start_time": "2023-10-10T10:31:01.841Z"
   },
   {
    "duration": 57,
    "start_time": "2023-10-10T10:31:02.340Z"
   },
   {
    "duration": 9,
    "start_time": "2023-10-10T10:31:02.603Z"
   },
   {
    "duration": 11,
    "start_time": "2023-10-10T10:31:02.864Z"
   },
   {
    "duration": 179,
    "start_time": "2023-10-10T10:31:03.127Z"
   },
   {
    "duration": 8,
    "start_time": "2023-10-10T10:31:03.390Z"
   },
   {
    "duration": 30,
    "start_time": "2023-10-10T10:31:03.644Z"
   },
   {
    "duration": 1068,
    "start_time": "2023-10-10T10:31:03.951Z"
   },
   {
    "duration": 9,
    "start_time": "2023-10-10T10:31:05.022Z"
   },
   {
    "duration": 89,
    "start_time": "2023-10-10T10:31:05.044Z"
   },
   {
    "duration": 61,
    "start_time": "2023-10-10T10:31:05.136Z"
   },
   {
    "duration": 9,
    "start_time": "2023-10-10T10:31:05.199Z"
   },
   {
    "duration": 23,
    "start_time": "2023-10-10T10:31:05.321Z"
   },
   {
    "duration": 13,
    "start_time": "2023-10-10T10:31:06.341Z"
   },
   {
    "duration": 6,
    "start_time": "2023-10-10T10:31:06.581Z"
   },
   {
    "duration": 6,
    "start_time": "2023-10-10T10:31:06.840Z"
   },
   {
    "duration": 9,
    "start_time": "2023-10-10T10:31:07.090Z"
   },
   {
    "duration": 28,
    "start_time": "2023-10-10T10:31:07.610Z"
   },
   {
    "duration": 33,
    "start_time": "2023-10-10T10:31:07.893Z"
   },
   {
    "duration": 16,
    "start_time": "2023-10-10T10:31:08.150Z"
   },
   {
    "duration": 9,
    "start_time": "2023-10-10T10:31:08.406Z"
   },
   {
    "duration": 171,
    "start_time": "2023-10-10T10:31:08.946Z"
   },
   {
    "duration": 190,
    "start_time": "2023-10-10T10:31:09.230Z"
   },
   {
    "duration": 45,
    "start_time": "2023-10-10T10:31:09.503Z"
   },
   {
    "duration": 11,
    "start_time": "2023-10-10T10:31:09.768Z"
   },
   {
    "duration": 8,
    "start_time": "2023-10-10T10:31:10.057Z"
   },
   {
    "duration": 7,
    "start_time": "2023-10-10T10:31:10.958Z"
   },
   {
    "duration": 12,
    "start_time": "2023-10-10T10:31:11.276Z"
   },
   {
    "duration": 8,
    "start_time": "2023-10-10T10:31:11.581Z"
   },
   {
    "duration": 5,
    "start_time": "2023-10-10T10:31:12.852Z"
   },
   {
    "duration": 6,
    "start_time": "2023-10-10T10:31:13.205Z"
   },
   {
    "duration": 25,
    "start_time": "2023-10-10T10:31:14.247Z"
   },
   {
    "duration": 40,
    "start_time": "2023-10-10T10:31:18.145Z"
   },
   {
    "duration": 9,
    "start_time": "2023-10-10T10:31:19.158Z"
   },
   {
    "duration": 3,
    "start_time": "2023-10-10T10:31:19.810Z"
   },
   {
    "duration": 43,
    "start_time": "2023-10-10T10:31:20.130Z"
   },
   {
    "duration": 10,
    "start_time": "2023-10-10T10:31:21.903Z"
   },
   {
    "duration": 9,
    "start_time": "2023-10-10T10:31:23.109Z"
   },
   {
    "duration": 9,
    "start_time": "2023-10-10T10:31:23.587Z"
   },
   {
    "duration": 10,
    "start_time": "2023-10-10T10:31:23.996Z"
   },
   {
    "duration": 134,
    "start_time": "2023-10-10T10:31:24.414Z"
   },
   {
    "duration": 11,
    "start_time": "2023-10-10T10:31:24.968Z"
   },
   {
    "duration": 10,
    "start_time": "2023-10-10T10:32:57.904Z"
   },
   {
    "duration": 10,
    "start_time": "2023-10-10T10:33:11.245Z"
   },
   {
    "duration": 4,
    "start_time": "2023-10-10T10:34:14.960Z"
   },
   {
    "duration": 3,
    "start_time": "2023-10-10T10:34:15.293Z"
   },
   {
    "duration": 3,
    "start_time": "2023-10-10T10:34:15.645Z"
   },
   {
    "duration": 3,
    "start_time": "2023-10-10T10:34:30.368Z"
   },
   {
    "duration": 9,
    "start_time": "2023-10-10T10:34:42.994Z"
   },
   {
    "duration": 9,
    "start_time": "2023-10-10T10:34:43.340Z"
   },
   {
    "duration": 155,
    "start_time": "2023-10-10T10:34:43.752Z"
   },
   {
    "duration": 176,
    "start_time": "2023-10-10T10:34:44.115Z"
   },
   {
    "duration": 134,
    "start_time": "2023-10-10T10:34:44.505Z"
   },
   {
    "duration": 700,
    "start_time": "2023-10-10T10:34:44.922Z"
   },
   {
    "duration": 134,
    "start_time": "2023-10-10T10:36:17.450Z"
   },
   {
    "duration": 160,
    "start_time": "2023-10-10T10:36:28.058Z"
   },
   {
    "duration": 18,
    "start_time": "2023-10-10T10:41:55.189Z"
   },
   {
    "duration": 23,
    "start_time": "2023-10-10T10:42:09.939Z"
   },
   {
    "duration": 16,
    "start_time": "2023-10-10T10:42:17.712Z"
   },
   {
    "duration": 152,
    "start_time": "2023-10-10T10:42:30.850Z"
   },
   {
    "duration": 16301,
    "start_time": "2023-10-10T10:44:04.349Z"
   },
   {
    "duration": 471,
    "start_time": "2023-10-10T10:44:53.346Z"
   },
   {
    "duration": 1224,
    "start_time": "2023-10-10T10:46:05.000Z"
   },
   {
    "duration": 66,
    "start_time": "2023-10-10T10:46:06.226Z"
   },
   {
    "duration": 14,
    "start_time": "2023-10-10T10:46:06.294Z"
   },
   {
    "duration": 41,
    "start_time": "2023-10-10T10:46:06.311Z"
   },
   {
    "duration": 141,
    "start_time": "2023-10-10T10:46:06.353Z"
   },
   {
    "duration": 7,
    "start_time": "2023-10-10T10:46:06.496Z"
   },
   {
    "duration": 33,
    "start_time": "2023-10-10T10:46:06.505Z"
   },
   {
    "duration": 942,
    "start_time": "2023-10-10T10:46:06.539Z"
   },
   {
    "duration": 9,
    "start_time": "2023-10-10T10:46:07.483Z"
   },
   {
    "duration": 84,
    "start_time": "2023-10-10T10:46:07.495Z"
   },
   {
    "duration": 78,
    "start_time": "2023-10-10T10:46:07.582Z"
   },
   {
    "duration": 7,
    "start_time": "2023-10-10T10:46:07.661Z"
   },
   {
    "duration": 24,
    "start_time": "2023-10-10T10:46:07.670Z"
   },
   {
    "duration": 19,
    "start_time": "2023-10-10T10:46:07.695Z"
   },
   {
    "duration": 8,
    "start_time": "2023-10-10T10:46:07.715Z"
   },
   {
    "duration": 18,
    "start_time": "2023-10-10T10:46:07.725Z"
   },
   {
    "duration": 19,
    "start_time": "2023-10-10T10:46:07.745Z"
   },
   {
    "duration": 26,
    "start_time": "2023-10-10T10:46:07.766Z"
   },
   {
    "duration": 29,
    "start_time": "2023-10-10T10:46:07.794Z"
   },
   {
    "duration": 24,
    "start_time": "2023-10-10T10:46:07.825Z"
   },
   {
    "duration": 31,
    "start_time": "2023-10-10T10:46:07.850Z"
   },
   {
    "duration": 142,
    "start_time": "2023-10-10T10:46:07.883Z"
   },
   {
    "duration": 194,
    "start_time": "2023-10-10T10:46:08.027Z"
   },
   {
    "duration": 56,
    "start_time": "2023-10-10T10:46:08.223Z"
   },
   {
    "duration": 14,
    "start_time": "2023-10-10T10:46:08.281Z"
   },
   {
    "duration": 31,
    "start_time": "2023-10-10T10:46:08.297Z"
   },
   {
    "duration": 11,
    "start_time": "2023-10-10T10:46:08.330Z"
   },
   {
    "duration": 23,
    "start_time": "2023-10-10T10:46:08.345Z"
   },
   {
    "duration": 8,
    "start_time": "2023-10-10T10:46:08.369Z"
   },
   {
    "duration": 23,
    "start_time": "2023-10-10T10:46:08.379Z"
   },
   {
    "duration": 15,
    "start_time": "2023-10-10T10:46:08.403Z"
   },
   {
    "duration": 32,
    "start_time": "2023-10-10T10:46:08.419Z"
   },
   {
    "duration": 25,
    "start_time": "2023-10-10T10:46:08.453Z"
   },
   {
    "duration": 10,
    "start_time": "2023-10-10T10:46:08.480Z"
   },
   {
    "duration": 13,
    "start_time": "2023-10-10T10:46:08.492Z"
   },
   {
    "duration": 58,
    "start_time": "2023-10-10T10:46:08.507Z"
   },
   {
    "duration": 15,
    "start_time": "2023-10-10T10:46:08.567Z"
   },
   {
    "duration": 23,
    "start_time": "2023-10-10T10:46:08.584Z"
   },
   {
    "duration": 11,
    "start_time": "2023-10-10T10:46:08.609Z"
   },
   {
    "duration": 13,
    "start_time": "2023-10-10T10:46:08.622Z"
   },
   {
    "duration": 17,
    "start_time": "2023-10-10T10:46:08.637Z"
   },
   {
    "duration": 18,
    "start_time": "2023-10-10T10:46:08.656Z"
   },
   {
    "duration": 35,
    "start_time": "2023-10-10T10:46:08.675Z"
   },
   {
    "duration": 111,
    "start_time": "2023-10-10T10:46:08.711Z"
   },
   {
    "duration": 192,
    "start_time": "2023-10-10T10:46:08.824Z"
   },
   {
    "duration": 140,
    "start_time": "2023-10-10T10:46:09.018Z"
   },
   {
    "duration": 139,
    "start_time": "2023-10-10T10:46:09.160Z"
   },
   {
    "duration": 630,
    "start_time": "2023-10-10T10:46:09.301Z"
   },
   {
    "duration": 1229,
    "start_time": "2023-10-10T10:46:26.279Z"
   },
   {
    "duration": 176,
    "start_time": "2023-10-10T10:46:27.510Z"
   },
   {
    "duration": 11,
    "start_time": "2023-10-10T10:46:27.687Z"
   },
   {
    "duration": 28,
    "start_time": "2023-10-10T10:46:27.701Z"
   },
   {
    "duration": 169,
    "start_time": "2023-10-10T10:46:27.730Z"
   },
   {
    "duration": 7,
    "start_time": "2023-10-10T10:46:27.901Z"
   },
   {
    "duration": 31,
    "start_time": "2023-10-10T10:46:27.910Z"
   },
   {
    "duration": 962,
    "start_time": "2023-10-10T10:46:27.943Z"
   },
   {
    "duration": 9,
    "start_time": "2023-10-10T10:46:28.907Z"
   },
   {
    "duration": 82,
    "start_time": "2023-10-10T10:46:28.919Z"
   },
   {
    "duration": 70,
    "start_time": "2023-10-10T10:46:29.002Z"
   },
   {
    "duration": 8,
    "start_time": "2023-10-10T10:46:29.073Z"
   },
   {
    "duration": 57,
    "start_time": "2023-10-10T10:46:29.082Z"
   },
   {
    "duration": 38,
    "start_time": "2023-10-10T10:46:29.140Z"
   },
   {
    "duration": 24,
    "start_time": "2023-10-10T10:46:29.180Z"
   },
   {
    "duration": 41,
    "start_time": "2023-10-10T10:46:29.205Z"
   },
   {
    "duration": 36,
    "start_time": "2023-10-10T10:46:29.248Z"
   },
   {
    "duration": 32,
    "start_time": "2023-10-10T10:46:29.286Z"
   },
   {
    "duration": 31,
    "start_time": "2023-10-10T10:46:29.320Z"
   },
   {
    "duration": 13,
    "start_time": "2023-10-10T10:46:29.352Z"
   },
   {
    "duration": 11,
    "start_time": "2023-10-10T10:46:29.366Z"
   },
   {
    "duration": 142,
    "start_time": "2023-10-10T10:46:29.378Z"
   },
   {
    "duration": 184,
    "start_time": "2023-10-10T10:46:29.521Z"
   },
   {
    "duration": 49,
    "start_time": "2023-10-10T10:46:29.707Z"
   },
   {
    "duration": 18,
    "start_time": "2023-10-10T10:46:29.757Z"
   },
   {
    "duration": 14,
    "start_time": "2023-10-10T10:46:29.776Z"
   },
   {
    "duration": 21,
    "start_time": "2023-10-10T10:46:29.791Z"
   },
   {
    "duration": 27,
    "start_time": "2023-10-10T10:46:29.816Z"
   },
   {
    "duration": 14,
    "start_time": "2023-10-10T10:46:29.844Z"
   },
   {
    "duration": 11,
    "start_time": "2023-10-10T10:46:29.859Z"
   },
   {
    "duration": 19,
    "start_time": "2023-10-10T10:46:29.871Z"
   },
   {
    "duration": 25,
    "start_time": "2023-10-10T10:46:29.892Z"
   },
   {
    "duration": 22,
    "start_time": "2023-10-10T10:46:29.919Z"
   },
   {
    "duration": 7,
    "start_time": "2023-10-10T10:46:29.945Z"
   },
   {
    "duration": 9,
    "start_time": "2023-10-10T10:46:29.954Z"
   },
   {
    "duration": 49,
    "start_time": "2023-10-10T10:46:29.965Z"
   },
   {
    "duration": 29,
    "start_time": "2023-10-10T10:46:30.015Z"
   },
   {
    "duration": 97,
    "start_time": "2023-10-10T10:46:30.046Z"
   },
   {
    "duration": 25,
    "start_time": "2023-10-10T10:46:30.144Z"
   },
   {
    "duration": 44,
    "start_time": "2023-10-10T10:46:30.170Z"
   },
   {
    "duration": 88,
    "start_time": "2023-10-10T10:46:30.216Z"
   },
   {
    "duration": 132,
    "start_time": "2023-10-10T10:46:30.306Z"
   },
   {
    "duration": 147,
    "start_time": "2023-10-10T10:46:30.439Z"
   },
   {
    "duration": 110,
    "start_time": "2023-10-10T10:46:30.589Z"
   },
   {
    "duration": 225,
    "start_time": "2023-10-10T10:46:30.701Z"
   },
   {
    "duration": 150,
    "start_time": "2023-10-10T10:46:30.928Z"
   },
   {
    "duration": 174,
    "start_time": "2023-10-10T10:46:31.080Z"
   },
   {
    "duration": 739,
    "start_time": "2023-10-10T10:46:31.256Z"
   },
   {
    "duration": 1183,
    "start_time": "2023-10-10T10:48:44.665Z"
   },
   {
    "duration": 48,
    "start_time": "2023-10-10T10:48:45.850Z"
   },
   {
    "duration": 11,
    "start_time": "2023-10-10T10:48:45.899Z"
   },
   {
    "duration": 20,
    "start_time": "2023-10-10T10:48:45.912Z"
   },
   {
    "duration": 175,
    "start_time": "2023-10-10T10:48:45.934Z"
   },
   {
    "duration": 8,
    "start_time": "2023-10-10T10:48:46.110Z"
   },
   {
    "duration": 30,
    "start_time": "2023-10-10T10:48:46.120Z"
   },
   {
    "duration": 786,
    "start_time": "2023-10-10T10:48:46.151Z"
   },
   {
    "duration": 12,
    "start_time": "2023-10-10T10:48:46.939Z"
   },
   {
    "duration": 79,
    "start_time": "2023-10-10T10:48:46.954Z"
   },
   {
    "duration": 64,
    "start_time": "2023-10-10T10:48:47.035Z"
   },
   {
    "duration": 8,
    "start_time": "2023-10-10T10:48:47.100Z"
   },
   {
    "duration": 14,
    "start_time": "2023-10-10T10:48:47.110Z"
   },
   {
    "duration": 20,
    "start_time": "2023-10-10T10:48:47.126Z"
   },
   {
    "duration": 26,
    "start_time": "2023-10-10T10:48:47.147Z"
   },
   {
    "duration": 14,
    "start_time": "2023-10-10T10:48:47.175Z"
   },
   {
    "duration": 36,
    "start_time": "2023-10-10T10:48:47.191Z"
   },
   {
    "duration": 28,
    "start_time": "2023-10-10T10:48:47.228Z"
   },
   {
    "duration": 54,
    "start_time": "2023-10-10T10:48:47.258Z"
   },
   {
    "duration": 14,
    "start_time": "2023-10-10T10:48:47.314Z"
   },
   {
    "duration": 16,
    "start_time": "2023-10-10T10:48:47.330Z"
   },
   {
    "duration": 137,
    "start_time": "2023-10-10T10:48:47.348Z"
   },
   {
    "duration": 182,
    "start_time": "2023-10-10T10:48:47.486Z"
   },
   {
    "duration": 43,
    "start_time": "2023-10-10T10:48:47.669Z"
   },
   {
    "duration": 9,
    "start_time": "2023-10-10T10:48:47.713Z"
   },
   {
    "duration": 22,
    "start_time": "2023-10-10T10:48:47.723Z"
   },
   {
    "duration": 7,
    "start_time": "2023-10-10T10:48:47.747Z"
   },
   {
    "duration": 13,
    "start_time": "2023-10-10T10:48:47.759Z"
   },
   {
    "duration": 8,
    "start_time": "2023-10-10T10:48:47.773Z"
   },
   {
    "duration": 38,
    "start_time": "2023-10-10T10:48:47.782Z"
   },
   {
    "duration": 28,
    "start_time": "2023-10-10T10:48:47.821Z"
   },
   {
    "duration": 30,
    "start_time": "2023-10-10T10:48:47.851Z"
   },
   {
    "duration": 43,
    "start_time": "2023-10-10T10:48:47.882Z"
   },
   {
    "duration": 59,
    "start_time": "2023-10-10T10:48:47.926Z"
   },
   {
    "duration": 28,
    "start_time": "2023-10-10T10:48:47.986Z"
   },
   {
    "duration": 51,
    "start_time": "2023-10-10T10:48:48.015Z"
   },
   {
    "duration": 45,
    "start_time": "2023-10-10T10:48:48.068Z"
   },
   {
    "duration": 37,
    "start_time": "2023-10-10T10:48:48.114Z"
   },
   {
    "duration": 56,
    "start_time": "2023-10-10T10:48:48.153Z"
   },
   {
    "duration": 23,
    "start_time": "2023-10-10T10:48:48.211Z"
   },
   {
    "duration": 31,
    "start_time": "2023-10-10T10:48:48.235Z"
   },
   {
    "duration": 33,
    "start_time": "2023-10-10T10:48:48.267Z"
   },
   {
    "duration": 89,
    "start_time": "2023-10-10T10:48:48.302Z"
   },
   {
    "duration": 79,
    "start_time": "2023-10-10T10:48:48.393Z"
   },
   {
    "duration": 186,
    "start_time": "2023-10-10T10:48:48.474Z"
   },
   {
    "duration": 139,
    "start_time": "2023-10-10T10:48:48.662Z"
   },
   {
    "duration": 145,
    "start_time": "2023-10-10T10:48:48.803Z"
   },
   {
    "duration": 645,
    "start_time": "2023-10-10T10:48:48.950Z"
   },
   {
    "duration": 1252,
    "start_time": "2023-10-10T10:53:06.016Z"
   },
   {
    "duration": 41,
    "start_time": "2023-10-10T10:53:07.270Z"
   },
   {
    "duration": 11,
    "start_time": "2023-10-10T10:53:07.313Z"
   },
   {
    "duration": 58,
    "start_time": "2023-10-10T10:53:07.326Z"
   },
   {
    "duration": 242,
    "start_time": "2023-10-10T10:53:07.386Z"
   },
   {
    "duration": 8,
    "start_time": "2023-10-10T10:53:07.630Z"
   },
   {
    "duration": 56,
    "start_time": "2023-10-10T10:53:07.640Z"
   },
   {
    "duration": 1040,
    "start_time": "2023-10-10T10:53:07.698Z"
   },
   {
    "duration": 19,
    "start_time": "2023-10-10T10:53:08.740Z"
   },
   {
    "duration": 77,
    "start_time": "2023-10-10T10:53:08.762Z"
   },
   {
    "duration": 83,
    "start_time": "2023-10-10T10:53:08.841Z"
   },
   {
    "duration": 8,
    "start_time": "2023-10-10T10:53:08.925Z"
   },
   {
    "duration": 38,
    "start_time": "2023-10-10T10:53:08.934Z"
   },
   {
    "duration": 33,
    "start_time": "2023-10-10T10:53:08.974Z"
   },
   {
    "duration": 25,
    "start_time": "2023-10-10T10:53:09.009Z"
   },
   {
    "duration": 19,
    "start_time": "2023-10-10T10:53:09.036Z"
   },
   {
    "duration": 16,
    "start_time": "2023-10-10T10:53:09.059Z"
   },
   {
    "duration": 37,
    "start_time": "2023-10-10T10:53:09.077Z"
   },
   {
    "duration": 43,
    "start_time": "2023-10-10T10:53:09.115Z"
   },
   {
    "duration": 16,
    "start_time": "2023-10-10T10:53:09.163Z"
   },
   {
    "duration": 10,
    "start_time": "2023-10-10T10:53:09.180Z"
   },
   {
    "duration": 164,
    "start_time": "2023-10-10T10:53:09.192Z"
   },
   {
    "duration": 214,
    "start_time": "2023-10-10T10:53:09.358Z"
   },
   {
    "duration": 44,
    "start_time": "2023-10-10T10:53:09.574Z"
   },
   {
    "duration": 32,
    "start_time": "2023-10-10T10:53:09.619Z"
   },
   {
    "duration": 11,
    "start_time": "2023-10-10T10:53:09.653Z"
   },
   {
    "duration": 26,
    "start_time": "2023-10-10T10:53:09.665Z"
   },
   {
    "duration": 14,
    "start_time": "2023-10-10T10:53:09.695Z"
   },
   {
    "duration": 7,
    "start_time": "2023-10-10T10:53:09.711Z"
   },
   {
    "duration": 13,
    "start_time": "2023-10-10T10:53:09.720Z"
   },
   {
    "duration": 15,
    "start_time": "2023-10-10T10:53:09.734Z"
   },
   {
    "duration": 30,
    "start_time": "2023-10-10T10:53:09.754Z"
   },
   {
    "duration": 30,
    "start_time": "2023-10-10T10:53:09.786Z"
   },
   {
    "duration": 8,
    "start_time": "2023-10-10T10:53:09.818Z"
   },
   {
    "duration": 21,
    "start_time": "2023-10-10T10:53:09.828Z"
   },
   {
    "duration": 72,
    "start_time": "2023-10-10T10:53:09.855Z"
   },
   {
    "duration": 14,
    "start_time": "2023-10-10T10:53:09.929Z"
   },
   {
    "duration": 24,
    "start_time": "2023-10-10T10:53:09.944Z"
   },
   {
    "duration": 2,
    "start_time": "2023-10-10T10:53:09.970Z"
   },
   {
    "duration": 13,
    "start_time": "2023-10-10T10:53:09.973Z"
   },
   {
    "duration": 13,
    "start_time": "2023-10-10T10:53:09.988Z"
   },
   {
    "duration": 33,
    "start_time": "2023-10-10T10:53:10.003Z"
   },
   {
    "duration": 55,
    "start_time": "2023-10-10T10:53:10.038Z"
   },
   {
    "duration": 27,
    "start_time": "2023-10-10T10:53:10.096Z"
   },
   {
    "duration": 196,
    "start_time": "2023-10-10T10:53:10.125Z"
   },
   {
    "duration": 161,
    "start_time": "2023-10-10T10:53:10.323Z"
   },
   {
    "duration": 150,
    "start_time": "2023-10-10T10:53:10.486Z"
   },
   {
    "duration": 730,
    "start_time": "2023-10-10T10:53:10.638Z"
   },
   {
    "duration": 2049393,
    "start_time": "2023-10-10T10:53:11.370Z"
   },
   {
    "duration": 242,
    "start_time": "2023-10-10T11:27:20.765Z"
   },
   {
    "duration": 10216,
    "start_time": "2023-10-10T11:27:21.009Z"
   },
   {
    "duration": 27,
    "start_time": "2023-10-10T11:27:31.227Z"
   },
   {
    "duration": 207,
    "start_time": "2023-10-10T11:27:31.256Z"
   },
   {
    "duration": 0,
    "start_time": "2023-10-10T11:27:31.465Z"
   },
   {
    "duration": 0,
    "start_time": "2023-10-10T11:27:31.467Z"
   },
   {
    "duration": 0,
    "start_time": "2023-10-10T11:27:31.468Z"
   },
   {
    "duration": 0,
    "start_time": "2023-10-10T11:27:31.469Z"
   },
   {
    "duration": 0,
    "start_time": "2023-10-10T11:27:31.470Z"
   },
   {
    "duration": 0,
    "start_time": "2023-10-10T11:27:31.471Z"
   },
   {
    "duration": 0,
    "start_time": "2023-10-10T11:27:31.472Z"
   },
   {
    "duration": 1323,
    "start_time": "2023-10-10T11:39:18.518Z"
   },
   {
    "duration": 96,
    "start_time": "2023-10-10T11:39:19.845Z"
   },
   {
    "duration": 18,
    "start_time": "2023-10-10T11:39:19.943Z"
   },
   {
    "duration": 16,
    "start_time": "2023-10-10T11:39:19.964Z"
   },
   {
    "duration": 264,
    "start_time": "2023-10-10T11:39:19.982Z"
   },
   {
    "duration": 9,
    "start_time": "2023-10-10T11:39:20.248Z"
   },
   {
    "duration": 42,
    "start_time": "2023-10-10T11:39:20.258Z"
   },
   {
    "duration": 1830,
    "start_time": "2023-10-10T11:39:20.302Z"
   },
   {
    "duration": 13,
    "start_time": "2023-10-10T11:39:22.134Z"
   },
   {
    "duration": 98,
    "start_time": "2023-10-10T11:39:22.150Z"
   },
   {
    "duration": 103,
    "start_time": "2023-10-10T11:39:22.249Z"
   },
   {
    "duration": 8,
    "start_time": "2023-10-10T11:39:22.354Z"
   },
   {
    "duration": 32,
    "start_time": "2023-10-10T11:39:22.363Z"
   },
   {
    "duration": 52,
    "start_time": "2023-10-10T11:39:22.397Z"
   },
   {
    "duration": 39,
    "start_time": "2023-10-10T11:39:22.452Z"
   },
   {
    "duration": 51,
    "start_time": "2023-10-10T11:39:22.492Z"
   },
   {
    "duration": 39,
    "start_time": "2023-10-10T11:39:22.545Z"
   },
   {
    "duration": 59,
    "start_time": "2023-10-10T11:39:22.585Z"
   },
   {
    "duration": 53,
    "start_time": "2023-10-10T11:39:22.645Z"
   },
   {
    "duration": 45,
    "start_time": "2023-10-10T11:39:22.699Z"
   },
   {
    "duration": 38,
    "start_time": "2023-10-10T11:39:22.746Z"
   },
   {
    "duration": 182,
    "start_time": "2023-10-10T11:39:22.786Z"
   },
   {
    "duration": 177,
    "start_time": "2023-10-10T11:39:22.970Z"
   },
   {
    "duration": 46,
    "start_time": "2023-10-10T11:39:23.149Z"
   },
   {
    "duration": 8,
    "start_time": "2023-10-10T11:39:23.197Z"
   },
   {
    "duration": 28,
    "start_time": "2023-10-10T11:39:23.207Z"
   },
   {
    "duration": 30,
    "start_time": "2023-10-10T11:39:23.243Z"
   },
   {
    "duration": 42,
    "start_time": "2023-10-10T11:39:23.277Z"
   },
   {
    "duration": 109,
    "start_time": "2023-10-10T11:39:23.321Z"
   },
   {
    "duration": 42,
    "start_time": "2023-10-10T11:39:23.432Z"
   },
   {
    "duration": 59,
    "start_time": "2023-10-10T11:39:23.476Z"
   },
   {
    "duration": 56,
    "start_time": "2023-10-10T11:39:23.537Z"
   },
   {
    "duration": 51,
    "start_time": "2023-10-10T11:39:23.595Z"
   },
   {
    "duration": 32,
    "start_time": "2023-10-10T11:39:23.648Z"
   },
   {
    "duration": 50,
    "start_time": "2023-10-10T11:39:23.682Z"
   },
   {
    "duration": 59,
    "start_time": "2023-10-10T11:39:23.734Z"
   },
   {
    "duration": 9,
    "start_time": "2023-10-10T11:39:23.795Z"
   },
   {
    "duration": 18,
    "start_time": "2023-10-10T11:39:23.806Z"
   },
   {
    "duration": 49,
    "start_time": "2023-10-10T11:39:23.826Z"
   },
   {
    "duration": 41,
    "start_time": "2023-10-10T11:39:23.877Z"
   },
   {
    "duration": 26,
    "start_time": "2023-10-10T11:39:23.920Z"
   },
   {
    "duration": 15,
    "start_time": "2023-10-10T11:39:23.948Z"
   },
   {
    "duration": 29,
    "start_time": "2023-10-10T11:39:23.965Z"
   },
   {
    "duration": 11,
    "start_time": "2023-10-10T11:39:23.995Z"
   },
   {
    "duration": 249,
    "start_time": "2023-10-10T11:39:24.007Z"
   },
   {
    "duration": 198,
    "start_time": "2023-10-10T11:39:24.258Z"
   },
   {
    "duration": 171,
    "start_time": "2023-10-10T11:39:24.459Z"
   },
   {
    "duration": 703,
    "start_time": "2023-10-10T11:39:24.632Z"
   },
   {
    "duration": 7,
    "start_time": "2023-10-10T11:39:25.345Z"
   },
   {
    "duration": 283,
    "start_time": "2023-10-10T11:39:25.354Z"
   },
   {
    "duration": 203,
    "start_time": "2023-10-10T11:39:25.639Z"
   },
   {
    "duration": 31,
    "start_time": "2023-10-10T11:39:25.843Z"
   },
   {
    "duration": 350,
    "start_time": "2023-10-10T11:39:25.876Z"
   },
   {
    "duration": 1,
    "start_time": "2023-10-10T11:39:26.227Z"
   },
   {
    "duration": 0,
    "start_time": "2023-10-10T11:39:26.229Z"
   },
   {
    "duration": 0,
    "start_time": "2023-10-10T11:39:26.230Z"
   },
   {
    "duration": 0,
    "start_time": "2023-10-10T11:39:26.231Z"
   },
   {
    "duration": 0,
    "start_time": "2023-10-10T11:39:26.245Z"
   },
   {
    "duration": 0,
    "start_time": "2023-10-10T11:39:26.246Z"
   },
   {
    "duration": 0,
    "start_time": "2023-10-10T11:39:26.247Z"
   },
   {
    "duration": 3,
    "start_time": "2023-10-10T11:45:54.517Z"
   },
   {
    "duration": 2,
    "start_time": "2023-10-10T11:45:54.846Z"
   },
   {
    "duration": 3,
    "start_time": "2023-10-10T11:45:55.208Z"
   },
   {
    "duration": 155,
    "start_time": "2023-10-10T11:45:55.473Z"
   },
   {
    "duration": 2,
    "start_time": "2023-10-10T11:45:59.608Z"
   },
   {
    "duration": 2,
    "start_time": "2023-10-10T11:46:00.214Z"
   },
   {
    "duration": 3,
    "start_time": "2023-10-10T11:46:00.597Z"
   },
   {
    "duration": 528,
    "start_time": "2023-10-10T11:47:22.304Z"
   },
   {
    "duration": 12,
    "start_time": "2023-10-10T11:47:23.166Z"
   },
   {
    "duration": 14,
    "start_time": "2023-10-10T11:48:12.422Z"
   },
   {
    "duration": 20,
    "start_time": "2023-10-10T11:48:24.634Z"
   },
   {
    "duration": 13,
    "start_time": "2023-10-10T11:49:23.958Z"
   },
   {
    "duration": 75,
    "start_time": "2023-10-10T11:50:40.328Z"
   },
   {
    "duration": 16,
    "start_time": "2023-10-10T11:51:35.381Z"
   },
   {
    "duration": 80,
    "start_time": "2023-10-10T11:51:35.875Z"
   },
   {
    "duration": 563,
    "start_time": "2023-10-10T11:51:46.326Z"
   },
   {
    "duration": 13,
    "start_time": "2023-10-10T11:51:47.126Z"
   },
   {
    "duration": 3,
    "start_time": "2023-10-10T11:52:37.586Z"
   },
   {
    "duration": 3,
    "start_time": "2023-10-10T11:52:41.197Z"
   },
   {
    "duration": 1219,
    "start_time": "2023-10-10T11:52:58.784Z"
   },
   {
    "duration": 55,
    "start_time": "2023-10-10T11:53:00.006Z"
   },
   {
    "duration": 19,
    "start_time": "2023-10-10T11:53:00.063Z"
   },
   {
    "duration": 92,
    "start_time": "2023-10-10T11:53:00.084Z"
   },
   {
    "duration": 293,
    "start_time": "2023-10-10T11:53:00.178Z"
   },
   {
    "duration": 10,
    "start_time": "2023-10-10T11:53:00.473Z"
   },
   {
    "duration": 52,
    "start_time": "2023-10-10T11:53:00.485Z"
   },
   {
    "duration": 1450,
    "start_time": "2023-10-10T11:53:00.539Z"
   },
   {
    "duration": 10,
    "start_time": "2023-10-10T11:53:01.991Z"
   },
   {
    "duration": 163,
    "start_time": "2023-10-10T11:53:02.004Z"
   },
   {
    "duration": 88,
    "start_time": "2023-10-10T11:53:02.169Z"
   },
   {
    "duration": 65,
    "start_time": "2023-10-10T11:53:02.259Z"
   },
   {
    "duration": 96,
    "start_time": "2023-10-10T11:53:02.325Z"
   },
   {
    "duration": 50,
    "start_time": "2023-10-10T11:53:02.422Z"
   },
   {
    "duration": 36,
    "start_time": "2023-10-10T11:53:02.474Z"
   },
   {
    "duration": 26,
    "start_time": "2023-10-10T11:53:02.512Z"
   },
   {
    "duration": 28,
    "start_time": "2023-10-10T11:53:02.539Z"
   },
   {
    "duration": 76,
    "start_time": "2023-10-10T11:53:02.568Z"
   },
   {
    "duration": 35,
    "start_time": "2023-10-10T11:53:02.646Z"
   },
   {
    "duration": 31,
    "start_time": "2023-10-10T11:53:02.683Z"
   },
   {
    "duration": 27,
    "start_time": "2023-10-10T11:53:02.716Z"
   },
   {
    "duration": 212,
    "start_time": "2023-10-10T11:53:02.744Z"
   },
   {
    "duration": 178,
    "start_time": "2023-10-10T11:53:02.958Z"
   },
   {
    "duration": 46,
    "start_time": "2023-10-10T11:53:03.138Z"
   },
   {
    "duration": 36,
    "start_time": "2023-10-10T11:53:03.186Z"
   },
   {
    "duration": 18,
    "start_time": "2023-10-10T11:53:03.224Z"
   },
   {
    "duration": 46,
    "start_time": "2023-10-10T11:53:03.244Z"
   },
   {
    "duration": 18,
    "start_time": "2023-10-10T11:53:03.295Z"
   },
   {
    "duration": 15,
    "start_time": "2023-10-10T11:53:03.315Z"
   },
   {
    "duration": 11,
    "start_time": "2023-10-10T11:53:03.332Z"
   },
   {
    "duration": 17,
    "start_time": "2023-10-10T11:53:03.345Z"
   },
   {
    "duration": 47,
    "start_time": "2023-10-10T11:53:03.363Z"
   },
   {
    "duration": 24,
    "start_time": "2023-10-10T11:53:03.412Z"
   },
   {
    "duration": 7,
    "start_time": "2023-10-10T11:53:03.438Z"
   },
   {
    "duration": 17,
    "start_time": "2023-10-10T11:53:03.447Z"
   },
   {
    "duration": 59,
    "start_time": "2023-10-10T11:53:03.465Z"
   },
   {
    "duration": 9,
    "start_time": "2023-10-10T11:53:03.526Z"
   },
   {
    "duration": 10,
    "start_time": "2023-10-10T11:53:03.537Z"
   },
   {
    "duration": 4,
    "start_time": "2023-10-10T11:53:03.549Z"
   },
   {
    "duration": 10,
    "start_time": "2023-10-10T11:53:03.555Z"
   },
   {
    "duration": 5,
    "start_time": "2023-10-10T11:53:03.567Z"
   },
   {
    "duration": 23,
    "start_time": "2023-10-10T11:53:03.574Z"
   },
   {
    "duration": 20,
    "start_time": "2023-10-10T11:53:03.599Z"
   },
   {
    "duration": 13,
    "start_time": "2023-10-10T11:53:03.621Z"
   },
   {
    "duration": 23,
    "start_time": "2023-10-10T11:53:03.636Z"
   },
   {
    "duration": 5,
    "start_time": "2023-10-10T11:53:03.661Z"
   },
   {
    "duration": 6,
    "start_time": "2023-10-10T11:53:03.667Z"
   },
   {
    "duration": 15,
    "start_time": "2023-10-10T11:53:03.674Z"
   },
   {
    "duration": 9,
    "start_time": "2023-10-10T11:53:03.690Z"
   },
   {
    "duration": 5,
    "start_time": "2023-10-10T11:53:03.701Z"
   },
   {
    "duration": 8,
    "start_time": "2023-10-10T11:53:03.707Z"
   },
   {
    "duration": 11,
    "start_time": "2023-10-10T11:53:03.716Z"
   },
   {
    "duration": 16,
    "start_time": "2023-10-10T11:53:03.729Z"
   },
   {
    "duration": 236,
    "start_time": "2023-10-10T11:53:03.746Z"
   },
   {
    "duration": 22,
    "start_time": "2023-10-10T11:53:03.984Z"
   },
   {
    "duration": 728,
    "start_time": "2023-10-10T11:53:04.008Z"
   },
   {
    "duration": 409,
    "start_time": "2023-10-10T11:53:04.737Z"
   },
   {
    "duration": 225,
    "start_time": "2023-10-10T11:53:05.148Z"
   },
   {
    "duration": 16,
    "start_time": "2023-10-10T11:53:05.375Z"
   },
   {
    "duration": 55,
    "start_time": "2023-10-10T11:53:05.393Z"
   },
   {
    "duration": 72,
    "start_time": "2023-10-10T11:53:05.449Z"
   },
   {
    "duration": 54,
    "start_time": "2023-10-10T11:53:05.523Z"
   },
   {
    "duration": 71,
    "start_time": "2023-10-10T11:53:05.578Z"
   },
   {
    "duration": 1297,
    "start_time": "2023-10-10T12:10:59.490Z"
   },
   {
    "duration": 57,
    "start_time": "2023-10-10T12:11:00.789Z"
   },
   {
    "duration": 51,
    "start_time": "2023-10-10T12:11:00.848Z"
   },
   {
    "duration": 81,
    "start_time": "2023-10-10T12:11:00.902Z"
   },
   {
    "duration": 180,
    "start_time": "2023-10-10T12:11:00.985Z"
   },
   {
    "duration": 23,
    "start_time": "2023-10-10T12:11:01.167Z"
   },
   {
    "duration": 136,
    "start_time": "2023-10-10T12:11:01.192Z"
   },
   {
    "duration": 898,
    "start_time": "2023-10-10T12:11:01.330Z"
   },
   {
    "duration": 16,
    "start_time": "2023-10-10T12:11:02.230Z"
   },
   {
    "duration": 242,
    "start_time": "2023-10-10T12:11:02.249Z"
   },
   {
    "duration": 68,
    "start_time": "2023-10-10T12:11:02.493Z"
   },
   {
    "duration": 8,
    "start_time": "2023-10-10T12:11:02.563Z"
   },
   {
    "duration": 119,
    "start_time": "2023-10-10T12:11:02.572Z"
   },
   {
    "duration": 120,
    "start_time": "2023-10-10T12:11:02.692Z"
   },
   {
    "duration": 175,
    "start_time": "2023-10-10T12:11:02.814Z"
   },
   {
    "duration": 78,
    "start_time": "2023-10-10T12:11:02.991Z"
   },
   {
    "duration": 112,
    "start_time": "2023-10-10T12:11:03.071Z"
   },
   {
    "duration": 57,
    "start_time": "2023-10-10T12:11:03.185Z"
   },
   {
    "duration": 55,
    "start_time": "2023-10-10T12:11:03.244Z"
   },
   {
    "duration": 33,
    "start_time": "2023-10-10T12:11:03.301Z"
   },
   {
    "duration": 15,
    "start_time": "2023-10-10T12:11:03.336Z"
   },
   {
    "duration": 163,
    "start_time": "2023-10-10T12:11:03.353Z"
   },
   {
    "duration": 180,
    "start_time": "2023-10-10T12:11:03.519Z"
   },
   {
    "duration": 45,
    "start_time": "2023-10-10T12:11:03.701Z"
   },
   {
    "duration": 231,
    "start_time": "2023-10-10T12:11:03.748Z"
   },
   {
    "duration": 11,
    "start_time": "2023-10-10T12:11:03.980Z"
   },
   {
    "duration": 10,
    "start_time": "2023-10-10T12:11:03.992Z"
   },
   {
    "duration": 14,
    "start_time": "2023-10-10T12:11:04.006Z"
   },
   {
    "duration": 11,
    "start_time": "2023-10-10T12:11:04.022Z"
   },
   {
    "duration": 21,
    "start_time": "2023-10-10T12:11:04.035Z"
   },
   {
    "duration": 36,
    "start_time": "2023-10-10T12:11:04.058Z"
   },
   {
    "duration": 35,
    "start_time": "2023-10-10T12:11:04.097Z"
   },
   {
    "duration": 33,
    "start_time": "2023-10-10T12:11:04.134Z"
   },
   {
    "duration": 12,
    "start_time": "2023-10-10T12:11:04.172Z"
   },
   {
    "duration": 7,
    "start_time": "2023-10-10T12:11:04.186Z"
   },
   {
    "duration": 70,
    "start_time": "2023-10-10T12:11:04.194Z"
   },
   {
    "duration": 14,
    "start_time": "2023-10-10T12:11:04.266Z"
   },
   {
    "duration": 15,
    "start_time": "2023-10-10T12:11:04.281Z"
   },
   {
    "duration": 7,
    "start_time": "2023-10-10T12:11:04.298Z"
   },
   {
    "duration": 13,
    "start_time": "2023-10-10T12:11:04.306Z"
   },
   {
    "duration": 16,
    "start_time": "2023-10-10T12:11:04.320Z"
   },
   {
    "duration": 6,
    "start_time": "2023-10-10T12:11:04.337Z"
   },
   {
    "duration": 14,
    "start_time": "2023-10-10T12:11:04.344Z"
   },
   {
    "duration": 26,
    "start_time": "2023-10-10T12:11:04.359Z"
   },
   {
    "duration": 23,
    "start_time": "2023-10-10T12:11:04.386Z"
   },
   {
    "duration": 12,
    "start_time": "2023-10-10T12:11:04.411Z"
   },
   {
    "duration": 5,
    "start_time": "2023-10-10T12:11:04.425Z"
   },
   {
    "duration": 6,
    "start_time": "2023-10-10T12:11:04.432Z"
   },
   {
    "duration": 5,
    "start_time": "2023-10-10T12:11:04.439Z"
   },
   {
    "duration": 5,
    "start_time": "2023-10-10T12:11:04.446Z"
   },
   {
    "duration": 9,
    "start_time": "2023-10-10T12:11:04.453Z"
   },
   {
    "duration": 13,
    "start_time": "2023-10-10T12:11:04.463Z"
   },
   {
    "duration": 8,
    "start_time": "2023-10-10T12:11:04.478Z"
   },
   {
    "duration": 297,
    "start_time": "2023-10-10T12:11:04.487Z"
   },
   {
    "duration": 21,
    "start_time": "2023-10-10T12:11:04.786Z"
   },
   {
    "duration": 620,
    "start_time": "2023-10-10T12:11:04.809Z"
   },
   {
    "duration": 407,
    "start_time": "2023-10-10T12:11:05.430Z"
   },
   {
    "duration": 225,
    "start_time": "2023-10-10T12:11:05.845Z"
   },
   {
    "duration": 18,
    "start_time": "2023-10-10T12:11:06.072Z"
   },
   {
    "duration": 7,
    "start_time": "2023-10-10T12:11:06.092Z"
   },
   {
    "duration": 66,
    "start_time": "2023-10-10T12:11:06.100Z"
   },
   {
    "duration": 35,
    "start_time": "2023-10-10T12:11:06.168Z"
   },
   {
    "duration": 21,
    "start_time": "2023-10-10T12:11:06.205Z"
   },
   {
    "duration": 103,
    "start_time": "2023-10-10T12:16:47.528Z"
   },
   {
    "duration": 11,
    "start_time": "2023-10-10T12:18:05.030Z"
   },
   {
    "duration": 198,
    "start_time": "2023-10-10T12:18:50.892Z"
   },
   {
    "duration": 11,
    "start_time": "2023-10-10T12:20:16.201Z"
   },
   {
    "duration": 53,
    "start_time": "2023-10-10T12:20:17.184Z"
   },
   {
    "duration": 8,
    "start_time": "2023-10-10T12:20:17.475Z"
   },
   {
    "duration": 13,
    "start_time": "2023-10-10T12:20:17.706Z"
   },
   {
    "duration": 246,
    "start_time": "2023-10-10T12:20:17.914Z"
   },
   {
    "duration": 8,
    "start_time": "2023-10-10T12:20:18.162Z"
   },
   {
    "duration": 19,
    "start_time": "2023-10-10T12:20:18.311Z"
   },
   {
    "duration": 852,
    "start_time": "2023-10-10T12:20:18.503Z"
   },
   {
    "duration": 10,
    "start_time": "2023-10-10T12:20:19.357Z"
   },
   {
    "duration": 109,
    "start_time": "2023-10-10T12:20:19.368Z"
   },
   {
    "duration": 56,
    "start_time": "2023-10-10T12:20:19.479Z"
   },
   {
    "duration": 7,
    "start_time": "2023-10-10T12:20:19.537Z"
   },
   {
    "duration": 11,
    "start_time": "2023-10-10T12:20:19.676Z"
   },
   {
    "duration": 12,
    "start_time": "2023-10-10T12:20:20.676Z"
   },
   {
    "duration": 6,
    "start_time": "2023-10-10T12:20:20.953Z"
   },
   {
    "duration": 5,
    "start_time": "2023-10-10T12:20:21.236Z"
   },
   {
    "duration": 8,
    "start_time": "2023-10-10T12:20:21.511Z"
   },
   {
    "duration": 27,
    "start_time": "2023-10-10T12:20:22.090Z"
   },
   {
    "duration": 31,
    "start_time": "2023-10-10T12:20:22.397Z"
   },
   {
    "duration": 13,
    "start_time": "2023-10-10T12:20:22.707Z"
   },
   {
    "duration": 9,
    "start_time": "2023-10-10T12:20:23.006Z"
   },
   {
    "duration": 124,
    "start_time": "2023-10-10T12:20:23.602Z"
   },
   {
    "duration": 182,
    "start_time": "2023-10-10T12:20:23.936Z"
   },
   {
    "duration": 57,
    "start_time": "2023-10-10T12:20:24.234Z"
   },
   {
    "duration": 13,
    "start_time": "2023-10-10T12:20:24.521Z"
   },
   {
    "duration": 8,
    "start_time": "2023-10-10T12:20:24.826Z"
   },
   {
    "duration": 7,
    "start_time": "2023-10-10T12:20:25.681Z"
   },
   {
    "duration": 9,
    "start_time": "2023-10-10T12:20:25.959Z"
   },
   {
    "duration": 8,
    "start_time": "2023-10-10T12:20:26.239Z"
   },
   {
    "duration": 5,
    "start_time": "2023-10-10T12:20:27.273Z"
   },
   {
    "duration": 8,
    "start_time": "2023-10-10T12:20:27.557Z"
   },
   {
    "duration": 25,
    "start_time": "2023-10-10T12:20:28.375Z"
   },
   {
    "duration": 25,
    "start_time": "2023-10-10T12:20:28.911Z"
   },
   {
    "duration": 9,
    "start_time": "2023-10-10T12:20:29.733Z"
   },
   {
    "duration": 3,
    "start_time": "2023-10-10T12:20:30.017Z"
   },
   {
    "duration": 45,
    "start_time": "2023-10-10T12:20:30.302Z"
   },
   {
    "duration": 12,
    "start_time": "2023-10-10T12:20:31.124Z"
   },
   {
    "duration": 9,
    "start_time": "2023-10-10T12:20:31.994Z"
   },
   {
    "duration": 3,
    "start_time": "2023-10-10T12:20:32.287Z"
   },
   {
    "duration": 2,
    "start_time": "2023-10-10T12:20:32.563Z"
   },
   {
    "duration": 2,
    "start_time": "2023-10-10T12:20:32.853Z"
   },
   {
    "duration": 3,
    "start_time": "2023-10-10T12:20:33.136Z"
   },
   {
    "duration": 10,
    "start_time": "2023-10-10T12:20:33.711Z"
   },
   {
    "duration": 10,
    "start_time": "2023-10-10T12:20:33.989Z"
   },
   {
    "duration": 3,
    "start_time": "2023-10-10T12:20:34.265Z"
   },
   {
    "duration": 3,
    "start_time": "2023-10-10T12:20:34.545Z"
   },
   {
    "duration": 3,
    "start_time": "2023-10-10T12:20:34.816Z"
   },
   {
    "duration": 3,
    "start_time": "2023-10-10T12:20:35.089Z"
   },
   {
    "duration": 4,
    "start_time": "2023-10-10T12:20:35.365Z"
   },
   {
    "duration": 3,
    "start_time": "2023-10-10T12:20:35.639Z"
   },
   {
    "duration": 3,
    "start_time": "2023-10-10T12:20:36.186Z"
   },
   {
    "duration": 3,
    "start_time": "2023-10-10T12:20:36.493Z"
   },
   {
    "duration": 3,
    "start_time": "2023-10-10T12:20:36.777Z"
   },
   {
    "duration": 207,
    "start_time": "2023-10-10T12:20:37.721Z"
   },
   {
    "duration": 10,
    "start_time": "2023-10-10T12:20:38.358Z"
   },
   {
    "duration": 16,
    "start_time": "2023-10-10T12:20:50.695Z"
   },
   {
    "duration": 2,
    "start_time": "2023-10-10T12:21:03.441Z"
   },
   {
    "duration": 2,
    "start_time": "2023-10-10T12:21:03.786Z"
   },
   {
    "duration": 8,
    "start_time": "2023-10-10T12:21:42.412Z"
   },
   {
    "duration": 3,
    "start_time": "2023-10-10T12:21:42.780Z"
   },
   {
    "duration": 3,
    "start_time": "2023-10-10T12:21:43.075Z"
   },
   {
    "duration": 2,
    "start_time": "2023-10-10T12:21:43.339Z"
   },
   {
    "duration": 3,
    "start_time": "2023-10-10T12:21:43.565Z"
   },
   {
    "duration": 14,
    "start_time": "2023-10-10T12:21:44.094Z"
   },
   {
    "duration": 8,
    "start_time": "2023-10-10T12:21:44.428Z"
   },
   {
    "duration": 161,
    "start_time": "2023-10-10T12:21:44.799Z"
   },
   {
    "duration": 137,
    "start_time": "2023-10-10T12:21:45.165Z"
   },
   {
    "duration": 1311,
    "start_time": "2023-10-10T12:21:45.536Z"
   },
   {
    "duration": 0,
    "start_time": "2023-10-10T12:21:46.848Z"
   },
   {
    "duration": 0,
    "start_time": "2023-10-10T12:21:46.849Z"
   },
   {
    "duration": 0,
    "start_time": "2023-10-10T12:21:46.850Z"
   },
   {
    "duration": 1311,
    "start_time": "2023-10-10T12:22:00.661Z"
   },
   {
    "duration": 48,
    "start_time": "2023-10-10T12:22:01.974Z"
   },
   {
    "duration": 182,
    "start_time": "2023-10-10T12:22:02.024Z"
   },
   {
    "duration": 34,
    "start_time": "2023-10-10T12:22:02.208Z"
   },
   {
    "duration": 236,
    "start_time": "2023-10-10T12:22:02.244Z"
   },
   {
    "duration": 9,
    "start_time": "2023-10-10T12:22:02.481Z"
   },
   {
    "duration": 85,
    "start_time": "2023-10-10T12:22:02.492Z"
   },
   {
    "duration": 1092,
    "start_time": "2023-10-10T12:22:02.579Z"
   },
   {
    "duration": 9,
    "start_time": "2023-10-10T12:22:03.672Z"
   },
   {
    "duration": 90,
    "start_time": "2023-10-10T12:22:03.684Z"
   },
   {
    "duration": 69,
    "start_time": "2023-10-10T12:22:03.775Z"
   },
   {
    "duration": 17,
    "start_time": "2023-10-10T12:22:03.847Z"
   },
   {
    "duration": 13,
    "start_time": "2023-10-10T12:22:03.866Z"
   },
   {
    "duration": 22,
    "start_time": "2023-10-10T12:22:03.880Z"
   },
   {
    "duration": 20,
    "start_time": "2023-10-10T12:22:03.903Z"
   },
   {
    "duration": 37,
    "start_time": "2023-10-10T12:22:03.925Z"
   },
   {
    "duration": 22,
    "start_time": "2023-10-10T12:22:03.964Z"
   },
   {
    "duration": 33,
    "start_time": "2023-10-10T12:22:03.988Z"
   },
   {
    "duration": 47,
    "start_time": "2023-10-10T12:22:04.023Z"
   },
   {
    "duration": 21,
    "start_time": "2023-10-10T12:22:04.071Z"
   },
   {
    "duration": 24,
    "start_time": "2023-10-10T12:22:04.094Z"
   },
   {
    "duration": 208,
    "start_time": "2023-10-10T12:22:04.120Z"
   },
   {
    "duration": 224,
    "start_time": "2023-10-10T12:22:04.330Z"
   },
   {
    "duration": 50,
    "start_time": "2023-10-10T12:22:04.556Z"
   },
   {
    "duration": 21,
    "start_time": "2023-10-10T12:22:04.607Z"
   },
   {
    "duration": 30,
    "start_time": "2023-10-10T12:22:04.629Z"
   },
   {
    "duration": 17,
    "start_time": "2023-10-10T12:22:04.661Z"
   },
   {
    "duration": 16,
    "start_time": "2023-10-10T12:22:04.682Z"
   },
   {
    "duration": 31,
    "start_time": "2023-10-10T12:22:04.699Z"
   },
   {
    "duration": 27,
    "start_time": "2023-10-10T12:22:04.731Z"
   },
   {
    "duration": 22,
    "start_time": "2023-10-10T12:22:04.760Z"
   },
   {
    "duration": 35,
    "start_time": "2023-10-10T12:22:04.784Z"
   },
   {
    "duration": 44,
    "start_time": "2023-10-10T12:22:04.821Z"
   },
   {
    "duration": 9,
    "start_time": "2023-10-10T12:22:04.867Z"
   },
   {
    "duration": 3,
    "start_time": "2023-10-10T12:22:04.877Z"
   },
   {
    "duration": 43,
    "start_time": "2023-10-10T12:22:04.881Z"
   },
   {
    "duration": 33,
    "start_time": "2023-10-10T12:22:04.926Z"
   },
   {
    "duration": 8,
    "start_time": "2023-10-10T12:22:04.961Z"
   },
   {
    "duration": 5,
    "start_time": "2023-10-10T12:22:04.970Z"
   },
   {
    "duration": 9,
    "start_time": "2023-10-10T12:22:04.977Z"
   },
   {
    "duration": 11,
    "start_time": "2023-10-10T12:22:04.988Z"
   },
   {
    "duration": 9,
    "start_time": "2023-10-10T12:22:05.001Z"
   },
   {
    "duration": 27,
    "start_time": "2023-10-10T12:22:05.011Z"
   },
   {
    "duration": 22,
    "start_time": "2023-10-10T12:22:05.039Z"
   },
   {
    "duration": 199,
    "start_time": "2023-10-10T12:22:05.063Z"
   },
   {
    "duration": 160,
    "start_time": "2023-10-10T12:22:05.263Z"
   },
   {
    "duration": 163,
    "start_time": "2023-10-10T12:22:05.425Z"
   },
   {
    "duration": 814,
    "start_time": "2023-10-10T12:22:05.590Z"
   },
   {
    "duration": 26,
    "start_time": "2023-10-10T12:22:06.405Z"
   },
   {
    "duration": 274,
    "start_time": "2023-10-10T12:22:06.433Z"
   },
   {
    "duration": 2,
    "start_time": "2023-10-10T12:22:06.709Z"
   },
   {
    "duration": 22,
    "start_time": "2023-10-10T12:22:06.713Z"
   },
   {
    "duration": 42,
    "start_time": "2023-10-10T12:22:06.737Z"
   },
   {
    "duration": 8,
    "start_time": "2023-10-10T12:22:06.781Z"
   },
   {
    "duration": 6,
    "start_time": "2023-10-10T12:22:06.791Z"
   },
   {
    "duration": 226,
    "start_time": "2023-10-10T12:22:06.799Z"
   },
   {
    "duration": 34,
    "start_time": "2023-10-10T12:22:07.027Z"
   },
   {
    "duration": 229,
    "start_time": "2023-10-10T12:22:07.066Z"
   },
   {
    "duration": 1,
    "start_time": "2023-10-10T12:22:07.296Z"
   },
   {
    "duration": 0,
    "start_time": "2023-10-10T12:22:07.298Z"
   },
   {
    "duration": 0,
    "start_time": "2023-10-10T12:22:07.299Z"
   },
   {
    "duration": 0,
    "start_time": "2023-10-10T12:22:07.300Z"
   },
   {
    "duration": 0,
    "start_time": "2023-10-10T12:22:07.301Z"
   },
   {
    "duration": 1,
    "start_time": "2023-10-10T12:22:07.302Z"
   },
   {
    "duration": 0,
    "start_time": "2023-10-10T12:22:07.303Z"
   },
   {
    "duration": 3,
    "start_time": "2023-10-10T12:23:19.773Z"
   },
   {
    "duration": 2,
    "start_time": "2023-10-10T12:23:22.789Z"
   },
   {
    "duration": 2,
    "start_time": "2023-10-10T12:23:26.536Z"
   },
   {
    "duration": 3,
    "start_time": "2023-10-10T12:23:29.685Z"
   },
   {
    "duration": 2,
    "start_time": "2023-10-10T12:23:31.812Z"
   },
   {
    "duration": 14,
    "start_time": "2023-10-10T12:23:33.856Z"
   },
   {
    "duration": 3,
    "start_time": "2023-10-10T12:23:37.521Z"
   },
   {
    "duration": 3,
    "start_time": "2023-10-10T12:23:38.218Z"
   },
   {
    "duration": 124,
    "start_time": "2023-10-10T12:23:41.217Z"
   },
   {
    "duration": 3,
    "start_time": "2023-10-10T12:23:43.226Z"
   },
   {
    "duration": 10,
    "start_time": "2023-10-10T12:24:16.390Z"
   },
   {
    "duration": 9,
    "start_time": "2023-10-10T12:24:17.356Z"
   },
   {
    "duration": 9,
    "start_time": "2023-10-10T12:24:17.668Z"
   },
   {
    "duration": 10,
    "start_time": "2023-10-10T12:24:18.017Z"
   },
   {
    "duration": 164,
    "start_time": "2023-10-10T12:24:18.558Z"
   },
   {
    "duration": 10,
    "start_time": "2023-10-10T12:24:19.155Z"
   },
   {
    "duration": 13,
    "start_time": "2023-10-10T12:24:26.023Z"
   },
   {
    "duration": 32,
    "start_time": "2023-10-10T12:24:26.493Z"
   },
   {
    "duration": 9,
    "start_time": "2023-10-10T12:24:26.732Z"
   },
   {
    "duration": 10,
    "start_time": "2023-10-10T12:24:26.980Z"
   },
   {
    "duration": 145,
    "start_time": "2023-10-10T12:24:27.221Z"
   },
   {
    "duration": 9,
    "start_time": "2023-10-10T12:24:27.471Z"
   },
   {
    "duration": 21,
    "start_time": "2023-10-10T12:24:27.730Z"
   },
   {
    "duration": 889,
    "start_time": "2023-10-10T12:24:27.963Z"
   },
   {
    "duration": 10,
    "start_time": "2023-10-10T12:24:28.857Z"
   },
   {
    "duration": 71,
    "start_time": "2023-10-10T12:24:28.868Z"
   },
   {
    "duration": 67,
    "start_time": "2023-10-10T12:24:28.940Z"
   },
   {
    "duration": 7,
    "start_time": "2023-10-10T12:24:29.009Z"
   },
   {
    "duration": 14,
    "start_time": "2023-10-10T12:24:29.018Z"
   },
   {
    "duration": 12,
    "start_time": "2023-10-10T12:24:29.870Z"
   },
   {
    "duration": 5,
    "start_time": "2023-10-10T12:24:30.099Z"
   },
   {
    "duration": 76,
    "start_time": "2023-10-10T12:24:30.317Z"
   },
   {
    "duration": 61,
    "start_time": "2023-10-10T12:24:30.541Z"
   },
   {
    "duration": 36,
    "start_time": "2023-10-10T12:24:31.025Z"
   },
   {
    "duration": 29,
    "start_time": "2023-10-10T12:24:31.274Z"
   },
   {
    "duration": 150,
    "start_time": "2023-10-10T12:24:31.511Z"
   },
   {
    "duration": 155,
    "start_time": "2023-10-10T12:24:31.755Z"
   },
   {
    "duration": 157,
    "start_time": "2023-10-10T12:24:32.216Z"
   },
   {
    "duration": 255,
    "start_time": "2023-10-10T12:24:32.476Z"
   },
   {
    "duration": 60,
    "start_time": "2023-10-10T12:24:32.733Z"
   },
   {
    "duration": 8,
    "start_time": "2023-10-10T12:24:32.973Z"
   },
   {
    "duration": 5,
    "start_time": "2023-10-10T12:24:33.212Z"
   },
   {
    "duration": 13,
    "start_time": "2023-10-10T12:24:34.013Z"
   },
   {
    "duration": 21,
    "start_time": "2023-10-10T12:24:34.242Z"
   },
   {
    "duration": 8,
    "start_time": "2023-10-10T12:24:34.503Z"
   },
   {
    "duration": 5,
    "start_time": "2023-10-10T12:24:35.501Z"
   },
   {
    "duration": 6,
    "start_time": "2023-10-10T12:24:35.771Z"
   },
   {
    "duration": 17,
    "start_time": "2023-10-10T12:24:36.506Z"
   },
   {
    "duration": 32,
    "start_time": "2023-10-10T12:24:37.041Z"
   },
   {
    "duration": 8,
    "start_time": "2023-10-10T12:24:37.866Z"
   },
   {
    "duration": 3,
    "start_time": "2023-10-10T12:24:38.194Z"
   },
   {
    "duration": 41,
    "start_time": "2023-10-10T12:24:38.514Z"
   },
   {
    "duration": 11,
    "start_time": "2023-10-10T12:24:39.477Z"
   },
   {
    "duration": 8,
    "start_time": "2023-10-10T12:24:40.363Z"
   },
   {
    "duration": 9,
    "start_time": "2023-10-10T12:24:40.661Z"
   },
   {
    "duration": 11,
    "start_time": "2023-10-10T12:24:40.966Z"
   },
   {
    "duration": 126,
    "start_time": "2023-10-10T12:24:41.257Z"
   },
   {
    "duration": 10,
    "start_time": "2023-10-10T12:24:41.534Z"
   },
   {
    "duration": 2,
    "start_time": "2023-10-10T12:24:42.525Z"
   },
   {
    "duration": 1321,
    "start_time": "2023-10-10T12:24:53.267Z"
   },
   {
    "duration": 32,
    "start_time": "2023-10-10T12:24:54.591Z"
   },
   {
    "duration": 11,
    "start_time": "2023-10-10T12:24:54.625Z"
   },
   {
    "duration": 18,
    "start_time": "2023-10-10T12:24:54.638Z"
   },
   {
    "duration": 150,
    "start_time": "2023-10-10T12:24:54.657Z"
   },
   {
    "duration": 9,
    "start_time": "2023-10-10T12:24:54.809Z"
   },
   {
    "duration": 44,
    "start_time": "2023-10-10T12:24:54.821Z"
   },
   {
    "duration": 1592,
    "start_time": "2023-10-10T12:24:54.868Z"
   },
   {
    "duration": 11,
    "start_time": "2023-10-10T12:24:56.462Z"
   },
   {
    "duration": 88,
    "start_time": "2023-10-10T12:24:56.476Z"
   },
   {
    "duration": 63,
    "start_time": "2023-10-10T12:24:56.566Z"
   },
   {
    "duration": 8,
    "start_time": "2023-10-10T12:24:56.630Z"
   },
   {
    "duration": 21,
    "start_time": "2023-10-10T12:24:56.640Z"
   },
   {
    "duration": 31,
    "start_time": "2023-10-10T12:24:56.664Z"
   },
   {
    "duration": 5,
    "start_time": "2023-10-10T12:24:56.697Z"
   },
   {
    "duration": 7,
    "start_time": "2023-10-10T12:24:56.704Z"
   },
   {
    "duration": 11,
    "start_time": "2023-10-10T12:24:56.712Z"
   },
   {
    "duration": 40,
    "start_time": "2023-10-10T12:24:56.725Z"
   },
   {
    "duration": 48,
    "start_time": "2023-10-10T12:24:56.767Z"
   },
   {
    "duration": 14,
    "start_time": "2023-10-10T12:24:56.817Z"
   },
   {
    "duration": 32,
    "start_time": "2023-10-10T12:24:56.845Z"
   },
   {
    "duration": 161,
    "start_time": "2023-10-10T12:24:56.878Z"
   },
   {
    "duration": 215,
    "start_time": "2023-10-10T12:24:57.040Z"
   },
   {
    "duration": 51,
    "start_time": "2023-10-10T12:24:57.257Z"
   },
   {
    "duration": 9,
    "start_time": "2023-10-10T12:24:57.309Z"
   },
   {
    "duration": 26,
    "start_time": "2023-10-10T12:24:57.320Z"
   },
   {
    "duration": 15,
    "start_time": "2023-10-10T12:24:57.348Z"
   },
   {
    "duration": 14,
    "start_time": "2023-10-10T12:24:57.367Z"
   },
   {
    "duration": 28,
    "start_time": "2023-10-10T12:24:57.382Z"
   },
   {
    "duration": 10,
    "start_time": "2023-10-10T12:24:57.412Z"
   },
   {
    "duration": 38,
    "start_time": "2023-10-10T12:24:57.424Z"
   },
   {
    "duration": 24,
    "start_time": "2023-10-10T12:24:57.464Z"
   },
   {
    "duration": 32,
    "start_time": "2023-10-10T12:24:57.490Z"
   },
   {
    "duration": 9,
    "start_time": "2023-10-10T12:24:57.523Z"
   },
   {
    "duration": 15,
    "start_time": "2023-10-10T12:24:57.533Z"
   },
   {
    "duration": 55,
    "start_time": "2023-10-10T12:24:57.550Z"
   },
   {
    "duration": 10,
    "start_time": "2023-10-10T12:24:57.607Z"
   },
   {
    "duration": 26,
    "start_time": "2023-10-10T12:24:57.619Z"
   },
   {
    "duration": 8,
    "start_time": "2023-10-10T12:24:57.647Z"
   },
   {
    "duration": 16,
    "start_time": "2023-10-10T12:24:57.656Z"
   },
   {
    "duration": 153,
    "start_time": "2023-10-10T12:24:57.673Z"
   },
   {
    "duration": 107,
    "start_time": "2023-10-10T12:24:57.827Z"
   },
   {
    "duration": 0,
    "start_time": "2023-10-10T12:24:57.936Z"
   },
   {
    "duration": 0,
    "start_time": "2023-10-10T12:24:57.945Z"
   },
   {
    "duration": 0,
    "start_time": "2023-10-10T12:24:57.947Z"
   },
   {
    "duration": 0,
    "start_time": "2023-10-10T12:24:57.948Z"
   },
   {
    "duration": 0,
    "start_time": "2023-10-10T12:24:57.949Z"
   },
   {
    "duration": 0,
    "start_time": "2023-10-10T12:24:57.950Z"
   },
   {
    "duration": 0,
    "start_time": "2023-10-10T12:24:57.951Z"
   },
   {
    "duration": 0,
    "start_time": "2023-10-10T12:24:57.952Z"
   },
   {
    "duration": 0,
    "start_time": "2023-10-10T12:24:57.953Z"
   },
   {
    "duration": 0,
    "start_time": "2023-10-10T12:24:57.954Z"
   },
   {
    "duration": 0,
    "start_time": "2023-10-10T12:24:57.955Z"
   },
   {
    "duration": 0,
    "start_time": "2023-10-10T12:24:57.956Z"
   },
   {
    "duration": 0,
    "start_time": "2023-10-10T12:24:57.957Z"
   },
   {
    "duration": 0,
    "start_time": "2023-10-10T12:24:57.958Z"
   },
   {
    "duration": 0,
    "start_time": "2023-10-10T12:24:57.959Z"
   },
   {
    "duration": 0,
    "start_time": "2023-10-10T12:24:57.960Z"
   },
   {
    "duration": 0,
    "start_time": "2023-10-10T12:24:57.962Z"
   },
   {
    "duration": 0,
    "start_time": "2023-10-10T12:24:57.963Z"
   },
   {
    "duration": 0,
    "start_time": "2023-10-10T12:24:57.964Z"
   },
   {
    "duration": 0,
    "start_time": "2023-10-10T12:24:57.965Z"
   },
   {
    "duration": 0,
    "start_time": "2023-10-10T12:24:57.966Z"
   },
   {
    "duration": 0,
    "start_time": "2023-10-10T12:24:57.967Z"
   },
   {
    "duration": 0,
    "start_time": "2023-10-10T12:24:57.968Z"
   },
   {
    "duration": 31,
    "start_time": "2023-10-10T12:26:10.156Z"
   },
   {
    "duration": 3,
    "start_time": "2023-10-10T12:26:12.478Z"
   },
   {
    "duration": 2,
    "start_time": "2023-10-10T12:26:12.867Z"
   },
   {
    "duration": 3,
    "start_time": "2023-10-10T12:26:13.212Z"
   },
   {
    "duration": 2,
    "start_time": "2023-10-10T12:26:13.601Z"
   },
   {
    "duration": 2,
    "start_time": "2023-10-10T12:26:13.959Z"
   },
   {
    "duration": 358,
    "start_time": "2023-10-10T12:27:04.657Z"
   },
   {
    "duration": 121,
    "start_time": "2023-10-10T12:27:05.043Z"
   },
   {
    "duration": 71,
    "start_time": "2023-10-10T12:27:05.434Z"
   },
   {
    "duration": 216,
    "start_time": "2023-10-10T12:28:09.806Z"
   },
   {
    "duration": 16,
    "start_time": "2023-10-10T12:28:10.234Z"
   },
   {
    "duration": 1259,
    "start_time": "2023-10-10T12:30:37.088Z"
   },
   {
    "duration": 43,
    "start_time": "2023-10-10T12:30:38.349Z"
   },
   {
    "duration": 14,
    "start_time": "2023-10-10T12:30:38.394Z"
   },
   {
    "duration": 14,
    "start_time": "2023-10-10T12:30:38.411Z"
   },
   {
    "duration": 155,
    "start_time": "2023-10-10T12:30:38.427Z"
   },
   {
    "duration": 11,
    "start_time": "2023-10-10T12:30:38.584Z"
   },
   {
    "duration": 35,
    "start_time": "2023-10-10T12:30:38.597Z"
   },
   {
    "duration": 1259,
    "start_time": "2023-10-10T12:30:38.634Z"
   },
   {
    "duration": 9,
    "start_time": "2023-10-10T12:30:39.894Z"
   },
   {
    "duration": 88,
    "start_time": "2023-10-10T12:30:39.906Z"
   },
   {
    "duration": 65,
    "start_time": "2023-10-10T12:30:39.995Z"
   },
   {
    "duration": 14,
    "start_time": "2023-10-10T12:30:40.061Z"
   },
   {
    "duration": 37,
    "start_time": "2023-10-10T12:30:40.077Z"
   },
   {
    "duration": 32,
    "start_time": "2023-10-10T12:30:40.115Z"
   },
   {
    "duration": 51,
    "start_time": "2023-10-10T12:30:40.148Z"
   },
   {
    "duration": 48,
    "start_time": "2023-10-10T12:30:40.201Z"
   },
   {
    "duration": 49,
    "start_time": "2023-10-10T12:30:40.252Z"
   },
   {
    "duration": 46,
    "start_time": "2023-10-10T12:30:40.302Z"
   },
   {
    "duration": 43,
    "start_time": "2023-10-10T12:30:40.350Z"
   },
   {
    "duration": 17,
    "start_time": "2023-10-10T12:30:40.395Z"
   },
   {
    "duration": 28,
    "start_time": "2023-10-10T12:30:40.414Z"
   },
   {
    "duration": 169,
    "start_time": "2023-10-10T12:30:40.444Z"
   },
   {
    "duration": 175,
    "start_time": "2023-10-10T12:30:40.615Z"
   },
   {
    "duration": 252,
    "start_time": "2023-10-10T12:30:40.792Z"
   },
   {
    "duration": 8,
    "start_time": "2023-10-10T12:30:41.045Z"
   },
   {
    "duration": 10,
    "start_time": "2023-10-10T12:30:41.055Z"
   },
   {
    "duration": 7,
    "start_time": "2023-10-10T12:30:41.066Z"
   },
   {
    "duration": 45,
    "start_time": "2023-10-10T12:30:41.078Z"
   },
   {
    "duration": 39,
    "start_time": "2023-10-10T12:30:41.124Z"
   },
   {
    "duration": 30,
    "start_time": "2023-10-10T12:30:41.165Z"
   },
   {
    "duration": 36,
    "start_time": "2023-10-10T12:30:41.197Z"
   },
   {
    "duration": 28,
    "start_time": "2023-10-10T12:30:41.234Z"
   },
   {
    "duration": 23,
    "start_time": "2023-10-10T12:30:41.263Z"
   },
   {
    "duration": 15,
    "start_time": "2023-10-10T12:30:41.287Z"
   },
   {
    "duration": 14,
    "start_time": "2023-10-10T12:30:41.303Z"
   },
   {
    "duration": 53,
    "start_time": "2023-10-10T12:30:41.318Z"
   },
   {
    "duration": 10,
    "start_time": "2023-10-10T12:30:41.372Z"
   },
   {
    "duration": 39,
    "start_time": "2023-10-10T12:30:41.384Z"
   },
   {
    "duration": 13,
    "start_time": "2023-10-10T12:30:41.425Z"
   },
   {
    "duration": 20,
    "start_time": "2023-10-10T12:30:41.439Z"
   },
   {
    "duration": 142,
    "start_time": "2023-10-10T12:30:41.461Z"
   },
   {
    "duration": 28,
    "start_time": "2023-10-10T12:30:41.605Z"
   },
   {
    "duration": 10,
    "start_time": "2023-10-10T12:30:41.635Z"
   },
   {
    "duration": 7,
    "start_time": "2023-10-10T12:30:41.646Z"
   },
   {
    "duration": 30,
    "start_time": "2023-10-10T12:30:41.654Z"
   },
   {
    "duration": 18,
    "start_time": "2023-10-10T12:30:41.685Z"
   },
   {
    "duration": 14,
    "start_time": "2023-10-10T12:30:41.705Z"
   },
   {
    "duration": 6,
    "start_time": "2023-10-10T12:30:41.721Z"
   },
   {
    "duration": 6,
    "start_time": "2023-10-10T12:30:41.728Z"
   },
   {
    "duration": 5,
    "start_time": "2023-10-10T12:30:41.736Z"
   },
   {
    "duration": 306,
    "start_time": "2023-10-10T12:30:41.743Z"
   },
   {
    "duration": 110,
    "start_time": "2023-10-10T12:30:42.051Z"
   },
   {
    "duration": 42,
    "start_time": "2023-10-10T12:30:42.163Z"
   },
   {
    "duration": 225,
    "start_time": "2023-10-10T12:30:42.206Z"
   },
   {
    "duration": 18,
    "start_time": "2023-10-10T12:30:42.432Z"
   },
   {
    "duration": 297,
    "start_time": "2023-10-10T12:30:42.452Z"
   },
   {
    "duration": 22,
    "start_time": "2023-10-10T12:30:42.751Z"
   },
   {
    "duration": 659,
    "start_time": "2023-10-10T12:30:42.775Z"
   },
   {
    "duration": 383,
    "start_time": "2023-10-10T12:30:43.436Z"
   },
   {
    "duration": 236,
    "start_time": "2023-10-10T12:30:43.821Z"
   },
   {
    "duration": 21,
    "start_time": "2023-10-10T12:30:44.059Z"
   },
   {
    "duration": 8,
    "start_time": "2023-10-10T12:30:44.086Z"
   },
   {
    "duration": 56,
    "start_time": "2023-10-10T12:30:44.097Z"
   },
   {
    "duration": 29,
    "start_time": "2023-10-10T12:30:44.156Z"
   },
   {
    "duration": 28,
    "start_time": "2023-10-10T12:30:44.187Z"
   },
   {
    "duration": 5,
    "start_time": "2023-10-10T12:37:09.868Z"
   },
   {
    "duration": 11,
    "start_time": "2023-10-10T12:39:50.447Z"
   },
   {
    "duration": 55,
    "start_time": "2023-10-10T12:39:50.794Z"
   },
   {
    "duration": 8,
    "start_time": "2023-10-10T12:39:50.961Z"
   },
   {
    "duration": 10,
    "start_time": "2023-10-10T12:39:51.149Z"
   },
   {
    "duration": 144,
    "start_time": "2023-10-10T12:39:51.342Z"
   },
   {
    "duration": 8,
    "start_time": "2023-10-10T12:39:51.553Z"
   },
   {
    "duration": 19,
    "start_time": "2023-10-10T12:39:51.733Z"
   },
   {
    "duration": 1013,
    "start_time": "2023-10-10T12:39:51.934Z"
   },
   {
    "duration": 8,
    "start_time": "2023-10-10T12:39:52.949Z"
   },
   {
    "duration": 85,
    "start_time": "2023-10-10T12:39:52.958Z"
   },
   {
    "duration": 122,
    "start_time": "2023-10-10T12:39:53.045Z"
   },
   {
    "duration": 9,
    "start_time": "2023-10-10T12:39:53.169Z"
   },
   {
    "duration": 43,
    "start_time": "2023-10-10T12:39:53.182Z"
   },
   {
    "duration": 1211,
    "start_time": "2023-10-10T12:40:00.701Z"
   },
   {
    "duration": 64,
    "start_time": "2023-10-10T12:40:01.914Z"
   },
   {
    "duration": 243,
    "start_time": "2023-10-10T12:40:01.979Z"
   },
   {
    "duration": 98,
    "start_time": "2023-10-10T12:40:02.224Z"
   },
   {
    "duration": 249,
    "start_time": "2023-10-10T12:40:02.326Z"
   },
   {
    "duration": 75,
    "start_time": "2023-10-10T12:40:02.576Z"
   },
   {
    "duration": 110,
    "start_time": "2023-10-10T12:40:02.653Z"
   },
   {
    "duration": 831,
    "start_time": "2023-10-10T12:40:02.766Z"
   },
   {
    "duration": 9,
    "start_time": "2023-10-10T12:40:03.598Z"
   },
   {
    "duration": 100,
    "start_time": "2023-10-10T12:40:03.609Z"
   },
   {
    "duration": 81,
    "start_time": "2023-10-10T12:40:03.711Z"
   },
   {
    "duration": 7,
    "start_time": "2023-10-10T12:40:03.794Z"
   },
   {
    "duration": 23,
    "start_time": "2023-10-10T12:40:03.802Z"
   },
   {
    "duration": 25,
    "start_time": "2023-10-10T12:40:03.826Z"
   },
   {
    "duration": 11,
    "start_time": "2023-10-10T12:40:03.852Z"
   },
   {
    "duration": 8,
    "start_time": "2023-10-10T12:40:03.864Z"
   },
   {
    "duration": 23,
    "start_time": "2023-10-10T12:40:03.874Z"
   },
   {
    "duration": 53,
    "start_time": "2023-10-10T12:40:03.899Z"
   },
   {
    "duration": 27,
    "start_time": "2023-10-10T12:40:03.954Z"
   },
   {
    "duration": 13,
    "start_time": "2023-10-10T12:40:03.982Z"
   },
   {
    "duration": 30,
    "start_time": "2023-10-10T12:40:03.997Z"
   },
   {
    "duration": 198,
    "start_time": "2023-10-10T12:40:04.029Z"
   },
   {
    "duration": 190,
    "start_time": "2023-10-10T12:40:04.229Z"
   },
   {
    "duration": 46,
    "start_time": "2023-10-10T12:40:04.421Z"
   },
   {
    "duration": 23,
    "start_time": "2023-10-10T12:40:04.468Z"
   },
   {
    "duration": 22,
    "start_time": "2023-10-10T12:40:04.493Z"
   },
   {
    "duration": 13,
    "start_time": "2023-10-10T12:40:04.517Z"
   },
   {
    "duration": 15,
    "start_time": "2023-10-10T12:40:04.534Z"
   },
   {
    "duration": 20,
    "start_time": "2023-10-10T12:40:04.550Z"
   },
   {
    "duration": 23,
    "start_time": "2023-10-10T12:40:04.571Z"
   },
   {
    "duration": 24,
    "start_time": "2023-10-10T12:40:04.596Z"
   },
   {
    "duration": 35,
    "start_time": "2023-10-10T12:40:04.622Z"
   },
   {
    "duration": 24,
    "start_time": "2023-10-10T12:40:04.658Z"
   },
   {
    "duration": 8,
    "start_time": "2023-10-10T12:40:04.684Z"
   },
   {
    "duration": 8,
    "start_time": "2023-10-10T12:40:04.693Z"
   },
   {
    "duration": 65,
    "start_time": "2023-10-10T12:40:04.702Z"
   },
   {
    "duration": 10,
    "start_time": "2023-10-10T12:40:04.769Z"
   },
   {
    "duration": 20,
    "start_time": "2023-10-10T12:40:04.781Z"
   },
   {
    "duration": 37,
    "start_time": "2023-10-10T12:40:04.803Z"
   },
   {
    "duration": 21,
    "start_time": "2023-10-10T12:40:04.842Z"
   },
   {
    "duration": 150,
    "start_time": "2023-10-10T12:40:04.865Z"
   },
   {
    "duration": 43,
    "start_time": "2023-10-10T12:40:05.017Z"
   },
   {
    "duration": 6,
    "start_time": "2023-10-10T12:40:05.062Z"
   },
   {
    "duration": 259,
    "start_time": "2023-10-10T12:40:05.069Z"
   },
   {
    "duration": 21,
    "start_time": "2023-10-10T12:40:05.331Z"
   },
   {
    "duration": 651,
    "start_time": "2023-10-10T12:40:05.354Z"
   },
   {
    "duration": 455,
    "start_time": "2023-10-10T12:40:06.007Z"
   },
   {
    "duration": 252,
    "start_time": "2023-10-10T12:40:06.464Z"
   },
   {
    "duration": 26,
    "start_time": "2023-10-10T12:40:06.718Z"
   },
   {
    "duration": 7,
    "start_time": "2023-10-10T12:40:06.746Z"
   },
   {
    "duration": 66,
    "start_time": "2023-10-10T12:40:06.754Z"
   },
   {
    "duration": 27,
    "start_time": "2023-10-10T12:40:06.822Z"
   },
   {
    "duration": 25,
    "start_time": "2023-10-10T12:40:06.852Z"
   },
   {
    "duration": 23,
    "start_time": "2023-10-10T12:52:36.602Z"
   },
   {
    "duration": 7,
    "start_time": "2023-10-10T12:52:51.224Z"
   },
   {
    "duration": 6,
    "start_time": "2023-10-10T12:52:57.459Z"
   },
   {
    "duration": 114,
    "start_time": "2023-10-10T12:53:26.405Z"
   },
   {
    "duration": 8285,
    "start_time": "2023-10-10T12:54:54.769Z"
   },
   {
    "duration": 49,
    "start_time": "2023-10-10T12:55:12.666Z"
   },
   {
    "duration": 9,
    "start_time": "2023-10-10T12:55:12.965Z"
   },
   {
    "duration": 11,
    "start_time": "2023-10-10T12:55:13.185Z"
   },
   {
    "duration": 118,
    "start_time": "2023-10-10T12:55:13.399Z"
   },
   {
    "duration": 8,
    "start_time": "2023-10-10T12:55:13.587Z"
   },
   {
    "duration": 18,
    "start_time": "2023-10-10T12:55:13.774Z"
   },
   {
    "duration": 852,
    "start_time": "2023-10-10T12:55:13.968Z"
   },
   {
    "duration": 8,
    "start_time": "2023-10-10T12:55:14.822Z"
   },
   {
    "duration": 102,
    "start_time": "2023-10-10T12:55:14.831Z"
   },
   {
    "duration": 56,
    "start_time": "2023-10-10T12:55:14.935Z"
   },
   {
    "duration": 7,
    "start_time": "2023-10-10T12:55:14.993Z"
   },
   {
    "duration": 56,
    "start_time": "2023-10-10T12:55:15.067Z"
   },
   {
    "duration": 12,
    "start_time": "2023-10-10T12:55:16.006Z"
   },
   {
    "duration": 7,
    "start_time": "2023-10-10T12:55:16.258Z"
   },
   {
    "duration": 5,
    "start_time": "2023-10-10T12:55:16.497Z"
   },
   {
    "duration": 9,
    "start_time": "2023-10-10T12:55:16.761Z"
   },
   {
    "duration": 26,
    "start_time": "2023-10-10T12:55:17.214Z"
   },
   {
    "duration": 26,
    "start_time": "2023-10-10T12:55:17.477Z"
   },
   {
    "duration": 13,
    "start_time": "2023-10-10T12:55:17.760Z"
   },
   {
    "duration": 9,
    "start_time": "2023-10-10T12:55:18.023Z"
   },
   {
    "duration": 123,
    "start_time": "2023-10-10T12:55:18.565Z"
   },
   {
    "duration": 157,
    "start_time": "2023-10-10T12:55:18.810Z"
   },
   {
    "duration": 45,
    "start_time": "2023-10-10T12:55:19.062Z"
   },
   {
    "duration": 9,
    "start_time": "2023-10-10T12:55:19.297Z"
   },
   {
    "duration": 7,
    "start_time": "2023-10-10T12:55:19.528Z"
   },
   {
    "duration": 8,
    "start_time": "2023-10-10T12:55:20.255Z"
   },
   {
    "duration": 10,
    "start_time": "2023-10-10T12:55:20.491Z"
   },
   {
    "duration": 8,
    "start_time": "2023-10-10T12:55:20.758Z"
   },
   {
    "duration": 4,
    "start_time": "2023-10-10T12:55:21.778Z"
   },
   {
    "duration": 5,
    "start_time": "2023-10-10T12:55:22.061Z"
   },
   {
    "duration": 17,
    "start_time": "2023-10-10T12:55:22.869Z"
   },
   {
    "duration": 26,
    "start_time": "2023-10-10T12:55:23.414Z"
   },
   {
    "duration": 11,
    "start_time": "2023-10-10T12:55:24.285Z"
   },
   {
    "duration": 3,
    "start_time": "2023-10-10T12:55:24.567Z"
   },
   {
    "duration": 37,
    "start_time": "2023-10-10T12:55:24.866Z"
   },
   {
    "duration": 11,
    "start_time": "2023-10-10T12:55:25.862Z"
   },
   {
    "duration": 7,
    "start_time": "2023-10-10T12:55:26.812Z"
   },
   {
    "duration": 10,
    "start_time": "2023-10-10T12:55:27.462Z"
   },
   {
    "duration": 10,
    "start_time": "2023-10-10T12:55:27.727Z"
   },
   {
    "duration": 127,
    "start_time": "2023-10-10T12:55:28.192Z"
   },
   {
    "duration": 36,
    "start_time": "2023-10-10T12:55:28.397Z"
   },
   {
    "duration": 5,
    "start_time": "2023-10-10T12:55:29.926Z"
   },
   {
    "duration": 50,
    "start_time": "2023-10-10T12:55:31.391Z"
   },
   {
    "duration": 22,
    "start_time": "2023-10-10T12:55:32.697Z"
   },
   {
    "duration": 6,
    "start_time": "2023-10-10T12:55:33.186Z"
   },
   {
    "duration": 7,
    "start_time": "2023-10-10T12:55:33.622Z"
   },
   {
    "duration": 32,
    "start_time": "2023-10-10T12:55:34.103Z"
   },
   {
    "duration": 22,
    "start_time": "2023-10-10T12:55:34.679Z"
   },
   {
    "duration": 6,
    "start_time": "2023-10-10T12:57:16.095Z"
   },
   {
    "duration": 21,
    "start_time": "2023-10-10T12:57:16.559Z"
   },
   {
    "duration": 23,
    "start_time": "2023-10-10T12:57:17.601Z"
   },
   {
    "duration": 23,
    "start_time": "2023-10-10T12:57:42.210Z"
   },
   {
    "duration": 1354,
    "start_time": "2023-10-10T13:01:32.080Z"
   },
   {
    "duration": 13,
    "start_time": "2023-10-10T13:02:33.617Z"
   },
   {
    "duration": 3,
    "start_time": "2023-10-10T13:03:05.086Z"
   },
   {
    "duration": 1297,
    "start_time": "2023-10-10T13:03:17.257Z"
   },
   {
    "duration": 2725,
    "start_time": "2023-10-10T13:03:18.557Z"
   },
   {
    "duration": 46,
    "start_time": "2023-10-10T13:03:21.284Z"
   },
   {
    "duration": 14,
    "start_time": "2023-10-10T13:03:21.332Z"
   },
   {
    "duration": 22,
    "start_time": "2023-10-10T13:03:21.349Z"
   },
   {
    "duration": 209,
    "start_time": "2023-10-10T13:03:21.373Z"
   },
   {
    "duration": 9,
    "start_time": "2023-10-10T13:03:21.584Z"
   },
   {
    "duration": 31,
    "start_time": "2023-10-10T13:03:21.594Z"
   },
   {
    "duration": 1099,
    "start_time": "2023-10-10T13:03:21.627Z"
   },
   {
    "duration": 10,
    "start_time": "2023-10-10T13:03:22.727Z"
   },
   {
    "duration": 78,
    "start_time": "2023-10-10T13:03:22.746Z"
   },
   {
    "duration": 92,
    "start_time": "2023-10-10T13:03:22.826Z"
   },
   {
    "duration": 9,
    "start_time": "2023-10-10T13:03:22.920Z"
   },
   {
    "duration": 42,
    "start_time": "2023-10-10T13:03:22.932Z"
   },
   {
    "duration": 31,
    "start_time": "2023-10-10T13:03:22.976Z"
   },
   {
    "duration": 24,
    "start_time": "2023-10-10T13:03:23.008Z"
   },
   {
    "duration": 28,
    "start_time": "2023-10-10T13:03:23.033Z"
   },
   {
    "duration": 39,
    "start_time": "2023-10-10T13:03:23.063Z"
   },
   {
    "duration": 48,
    "start_time": "2023-10-10T13:03:23.105Z"
   },
   {
    "duration": 32,
    "start_time": "2023-10-10T13:03:23.156Z"
   },
   {
    "duration": 55,
    "start_time": "2023-10-10T13:03:23.190Z"
   },
   {
    "duration": 41,
    "start_time": "2023-10-10T13:03:23.247Z"
   },
   {
    "duration": 154,
    "start_time": "2023-10-10T13:03:23.290Z"
   },
   {
    "duration": 208,
    "start_time": "2023-10-10T13:03:23.446Z"
   },
   {
    "duration": 44,
    "start_time": "2023-10-10T13:03:23.657Z"
   },
   {
    "duration": 23,
    "start_time": "2023-10-10T13:03:23.702Z"
   },
   {
    "duration": 29,
    "start_time": "2023-10-10T13:03:23.726Z"
   },
   {
    "duration": 18,
    "start_time": "2023-10-10T13:03:23.757Z"
   },
   {
    "duration": 33,
    "start_time": "2023-10-10T13:03:23.776Z"
   },
   {
    "duration": 48,
    "start_time": "2023-10-10T13:03:23.811Z"
   },
   {
    "duration": 24,
    "start_time": "2023-10-10T13:03:23.861Z"
   },
   {
    "duration": 32,
    "start_time": "2023-10-10T13:03:23.887Z"
   },
   {
    "duration": 57,
    "start_time": "2023-10-10T13:03:23.921Z"
   },
   {
    "duration": 23,
    "start_time": "2023-10-10T13:03:23.980Z"
   },
   {
    "duration": 28,
    "start_time": "2023-10-10T13:03:24.005Z"
   },
   {
    "duration": 26,
    "start_time": "2023-10-10T13:03:24.035Z"
   },
   {
    "duration": 77,
    "start_time": "2023-10-10T13:03:24.063Z"
   },
   {
    "duration": 16,
    "start_time": "2023-10-10T13:03:24.142Z"
   },
   {
    "duration": 10,
    "start_time": "2023-10-10T13:03:24.160Z"
   },
   {
    "duration": 33,
    "start_time": "2023-10-10T13:03:24.172Z"
   },
   {
    "duration": 31,
    "start_time": "2023-10-10T13:03:24.210Z"
   },
   {
    "duration": 180,
    "start_time": "2023-10-10T13:03:24.244Z"
   },
   {
    "duration": 41,
    "start_time": "2023-10-10T13:03:24.426Z"
   },
   {
    "duration": 5,
    "start_time": "2023-10-10T13:03:24.469Z"
   },
   {
    "duration": 244,
    "start_time": "2023-10-10T13:03:24.476Z"
   },
   {
    "duration": 28,
    "start_time": "2023-10-10T13:03:24.722Z"
   },
   {
    "duration": 16,
    "start_time": "2023-10-10T13:03:24.753Z"
   },
   {
    "duration": 55,
    "start_time": "2023-10-10T13:03:24.771Z"
   },
   {
    "duration": 34,
    "start_time": "2023-10-10T13:03:24.827Z"
   },
   {
    "duration": 4,
    "start_time": "2023-10-10T13:03:24.862Z"
   },
   {
    "duration": 647,
    "start_time": "2023-10-10T13:03:24.867Z"
   },
   {
    "duration": 410,
    "start_time": "2023-10-10T13:03:25.516Z"
   },
   {
    "duration": 250,
    "start_time": "2023-10-10T13:03:25.929Z"
   },
   {
    "duration": 19,
    "start_time": "2023-10-10T13:03:26.180Z"
   },
   {
    "duration": 58,
    "start_time": "2023-10-10T13:03:26.201Z"
   },
   {
    "duration": 62,
    "start_time": "2023-10-10T13:03:26.261Z"
   },
   {
    "duration": 31,
    "start_time": "2023-10-10T13:03:26.326Z"
   },
   {
    "duration": 24,
    "start_time": "2023-10-10T13:03:26.359Z"
   },
   {
    "duration": 13,
    "start_time": "2023-10-10T13:06:51.465Z"
   },
   {
    "duration": 22,
    "start_time": "2023-10-10T13:13:11.185Z"
   },
   {
    "duration": 9,
    "start_time": "2023-10-10T13:13:59.193Z"
   },
   {
    "duration": 91,
    "start_time": "2023-10-10T13:14:54.318Z"
   },
   {
    "duration": 11,
    "start_time": "2023-10-10T13:15:23.465Z"
   },
   {
    "duration": 11,
    "start_time": "2023-10-10T13:16:13.795Z"
   },
   {
    "duration": 14,
    "start_time": "2023-10-10T13:17:15.976Z"
   },
   {
    "duration": 13,
    "start_time": "2023-10-10T13:18:06.613Z"
   },
   {
    "duration": 5,
    "start_time": "2023-10-10T13:18:07.844Z"
   },
   {
    "duration": 24,
    "start_time": "2023-10-10T13:18:09.276Z"
   },
   {
    "duration": 7,
    "start_time": "2023-10-10T13:18:09.717Z"
   },
   {
    "duration": 8,
    "start_time": "2023-10-10T13:18:10.088Z"
   },
   {
    "duration": 14,
    "start_time": "2023-10-10T13:18:10.481Z"
   },
   {
    "duration": 18,
    "start_time": "2023-10-10T13:19:07.994Z"
   },
   {
    "duration": 1261,
    "start_time": "2023-10-10T13:20:05.762Z"
   },
   {
    "duration": 2807,
    "start_time": "2023-10-10T13:20:07.025Z"
   },
   {
    "duration": 63,
    "start_time": "2023-10-10T13:20:09.834Z"
   },
   {
    "duration": 12,
    "start_time": "2023-10-10T13:20:09.899Z"
   },
   {
    "duration": 10,
    "start_time": "2023-10-10T13:20:09.913Z"
   },
   {
    "duration": 167,
    "start_time": "2023-10-10T13:20:09.925Z"
   },
   {
    "duration": 8,
    "start_time": "2023-10-10T13:20:10.093Z"
   },
   {
    "duration": 53,
    "start_time": "2023-10-10T13:20:10.102Z"
   },
   {
    "duration": 2892,
    "start_time": "2023-10-10T13:20:10.157Z"
   },
   {
    "duration": 15,
    "start_time": "2023-10-10T13:20:13.051Z"
   },
   {
    "duration": 88,
    "start_time": "2023-10-10T13:20:13.068Z"
   },
   {
    "duration": 60,
    "start_time": "2023-10-10T13:20:13.159Z"
   },
   {
    "duration": 7,
    "start_time": "2023-10-10T13:20:13.221Z"
   },
   {
    "duration": 38,
    "start_time": "2023-10-10T13:20:13.231Z"
   },
   {
    "duration": 32,
    "start_time": "2023-10-10T13:20:13.271Z"
   },
   {
    "duration": 24,
    "start_time": "2023-10-10T13:20:13.305Z"
   },
   {
    "duration": 31,
    "start_time": "2023-10-10T13:20:13.330Z"
   },
   {
    "duration": 17,
    "start_time": "2023-10-10T13:20:13.364Z"
   },
   {
    "duration": 56,
    "start_time": "2023-10-10T13:20:13.383Z"
   },
   {
    "duration": 52,
    "start_time": "2023-10-10T13:20:13.440Z"
   },
   {
    "duration": 21,
    "start_time": "2023-10-10T13:20:13.494Z"
   },
   {
    "duration": 15,
    "start_time": "2023-10-10T13:20:13.517Z"
   },
   {
    "duration": 198,
    "start_time": "2023-10-10T13:20:13.534Z"
   },
   {
    "duration": 303,
    "start_time": "2023-10-10T13:20:13.734Z"
   },
   {
    "duration": 78,
    "start_time": "2023-10-10T13:20:14.039Z"
   },
   {
    "duration": 30,
    "start_time": "2023-10-10T13:20:14.119Z"
   },
   {
    "duration": 27,
    "start_time": "2023-10-10T13:20:14.152Z"
   },
   {
    "duration": 17,
    "start_time": "2023-10-10T13:20:14.181Z"
   },
   {
    "duration": 27,
    "start_time": "2023-10-10T13:20:14.200Z"
   },
   {
    "duration": 34,
    "start_time": "2023-10-10T13:20:14.229Z"
   },
   {
    "duration": 5,
    "start_time": "2023-10-10T13:20:14.265Z"
   },
   {
    "duration": 7,
    "start_time": "2023-10-10T13:20:14.273Z"
   },
   {
    "duration": 31,
    "start_time": "2023-10-10T13:20:14.282Z"
   },
   {
    "duration": 56,
    "start_time": "2023-10-10T13:20:14.315Z"
   },
   {
    "duration": 10,
    "start_time": "2023-10-10T13:20:14.372Z"
   },
   {
    "duration": 4,
    "start_time": "2023-10-10T13:20:14.384Z"
   },
   {
    "duration": 105,
    "start_time": "2023-10-10T13:20:14.390Z"
   },
   {
    "duration": 89,
    "start_time": "2023-10-10T13:20:14.497Z"
   },
   {
    "duration": 85,
    "start_time": "2023-10-10T13:20:14.588Z"
   },
   {
    "duration": 94,
    "start_time": "2023-10-10T13:20:14.674Z"
   },
   {
    "duration": 22,
    "start_time": "2023-10-10T13:20:14.772Z"
   },
   {
    "duration": 158,
    "start_time": "2023-10-10T13:20:14.795Z"
   },
   {
    "duration": 35,
    "start_time": "2023-10-10T13:20:14.955Z"
   },
   {
    "duration": 29,
    "start_time": "2023-10-10T13:20:14.992Z"
   },
   {
    "duration": 116,
    "start_time": "2023-10-10T13:20:15.023Z"
   },
   {
    "duration": 180,
    "start_time": "2023-10-10T13:20:15.141Z"
   },
   {
    "duration": 2,
    "start_time": "2023-10-10T13:20:15.323Z"
   },
   {
    "duration": 56,
    "start_time": "2023-10-10T13:20:15.327Z"
   },
   {
    "duration": 7,
    "start_time": "2023-10-10T13:20:15.385Z"
   },
   {
    "duration": 54,
    "start_time": "2023-10-10T13:20:15.393Z"
   },
   {
    "duration": 23,
    "start_time": "2023-10-10T13:20:15.450Z"
   },
   {
    "duration": 27,
    "start_time": "2023-10-10T13:20:15.475Z"
   },
   {
    "duration": 123,
    "start_time": "2023-10-10T13:20:15.504Z"
   },
   {
    "duration": 0,
    "start_time": "2023-10-10T13:20:15.629Z"
   },
   {
    "duration": 0,
    "start_time": "2023-10-10T13:20:15.631Z"
   },
   {
    "duration": 0,
    "start_time": "2023-10-10T13:20:15.632Z"
   },
   {
    "duration": 0,
    "start_time": "2023-10-10T13:20:15.634Z"
   },
   {
    "duration": 0,
    "start_time": "2023-10-10T13:20:15.635Z"
   },
   {
    "duration": 0,
    "start_time": "2023-10-10T13:20:15.644Z"
   },
   {
    "duration": 0,
    "start_time": "2023-10-10T13:20:15.646Z"
   },
   {
    "duration": 13,
    "start_time": "2023-10-10T13:21:36.857Z"
   },
   {
    "duration": 2806,
    "start_time": "2023-10-10T13:21:37.101Z"
   },
   {
    "duration": 70,
    "start_time": "2023-10-10T13:21:39.910Z"
   },
   {
    "duration": 9,
    "start_time": "2023-10-10T13:21:39.982Z"
   },
   {
    "duration": 49,
    "start_time": "2023-10-10T13:21:39.993Z"
   },
   {
    "duration": 214,
    "start_time": "2023-10-10T13:21:40.045Z"
   },
   {
    "duration": 8,
    "start_time": "2023-10-10T13:21:40.262Z"
   },
   {
    "duration": 24,
    "start_time": "2023-10-10T13:21:42.157Z"
   },
   {
    "duration": 909,
    "start_time": "2023-10-10T13:21:42.475Z"
   },
   {
    "duration": 9,
    "start_time": "2023-10-10T13:21:43.386Z"
   },
   {
    "duration": 92,
    "start_time": "2023-10-10T13:21:43.396Z"
   },
   {
    "duration": 51,
    "start_time": "2023-10-10T13:21:43.490Z"
   },
   {
    "duration": 8,
    "start_time": "2023-10-10T13:21:47.698Z"
   },
   {
    "duration": 13,
    "start_time": "2023-10-10T13:21:47.972Z"
   },
   {
    "duration": 14,
    "start_time": "2023-10-10T13:21:48.919Z"
   },
   {
    "duration": 6,
    "start_time": "2023-10-10T13:21:49.174Z"
   },
   {
    "duration": 7,
    "start_time": "2023-10-10T13:21:49.457Z"
   },
   {
    "duration": 14,
    "start_time": "2023-10-10T13:21:49.742Z"
   },
   {
    "duration": 26,
    "start_time": "2023-10-10T13:21:50.261Z"
   },
   {
    "duration": 46,
    "start_time": "2023-10-10T13:21:50.527Z"
   },
   {
    "duration": 16,
    "start_time": "2023-10-10T13:21:50.801Z"
   },
   {
    "duration": 9,
    "start_time": "2023-10-10T13:21:51.061Z"
   },
   {
    "duration": 141,
    "start_time": "2023-10-10T13:21:51.595Z"
   },
   {
    "duration": 176,
    "start_time": "2023-10-10T13:21:51.864Z"
   },
   {
    "duration": 57,
    "start_time": "2023-10-10T13:21:52.117Z"
   },
   {
    "duration": 9,
    "start_time": "2023-10-10T13:21:52.357Z"
   },
   {
    "duration": 7,
    "start_time": "2023-10-10T13:21:52.585Z"
   },
   {
    "duration": 8,
    "start_time": "2023-10-10T13:21:53.258Z"
   },
   {
    "duration": 9,
    "start_time": "2023-10-10T13:21:53.462Z"
   },
   {
    "duration": 8,
    "start_time": "2023-10-10T13:21:53.671Z"
   },
   {
    "duration": 5,
    "start_time": "2023-10-10T13:21:54.574Z"
   },
   {
    "duration": 7,
    "start_time": "2023-10-10T13:21:54.806Z"
   },
   {
    "duration": 16,
    "start_time": "2023-10-10T13:21:55.585Z"
   },
   {
    "duration": 26,
    "start_time": "2023-10-10T13:21:56.123Z"
   },
   {
    "duration": 9,
    "start_time": "2023-10-10T13:21:56.968Z"
   },
   {
    "duration": 5,
    "start_time": "2023-10-10T13:21:57.257Z"
   },
   {
    "duration": 44,
    "start_time": "2023-10-10T13:21:57.508Z"
   },
   {
    "duration": 10,
    "start_time": "2023-10-10T13:21:58.305Z"
   },
   {
    "duration": 9,
    "start_time": "2023-10-10T13:21:59.123Z"
   },
   {
    "duration": 9,
    "start_time": "2023-10-10T13:21:59.667Z"
   },
   {
    "duration": 10,
    "start_time": "2023-10-10T13:21:59.922Z"
   },
   {
    "duration": 159,
    "start_time": "2023-10-10T13:22:00.180Z"
   },
   {
    "duration": 38,
    "start_time": "2023-10-10T13:22:00.458Z"
   },
   {
    "duration": 5,
    "start_time": "2023-10-10T13:22:00.709Z"
   },
   {
    "duration": 19,
    "start_time": "2023-10-10T13:22:03.103Z"
   },
   {
    "duration": 21,
    "start_time": "2023-10-10T13:22:03.741Z"
   },
   {
    "duration": 3,
    "start_time": "2023-10-10T13:22:04.522Z"
   },
   {
    "duration": 3,
    "start_time": "2023-10-10T13:22:08.411Z"
   },
   {
    "duration": 23,
    "start_time": "2023-10-10T13:22:11.880Z"
   },
   {
    "duration": 7,
    "start_time": "2023-10-10T13:22:12.269Z"
   },
   {
    "duration": 12,
    "start_time": "2023-10-10T13:22:12.643Z"
   },
   {
    "duration": 24,
    "start_time": "2023-10-10T13:22:13.043Z"
   },
   {
    "duration": 2,
    "start_time": "2023-10-10T13:22:13.842Z"
   },
   {
    "duration": 15,
    "start_time": "2023-10-10T13:22:15.325Z"
   },
   {
    "duration": 15,
    "start_time": "2023-10-10T13:22:18.141Z"
   },
   {
    "duration": 14,
    "start_time": "2023-10-10T13:22:27.787Z"
   },
   {
    "duration": 11,
    "start_time": "2023-10-10T13:22:29.217Z"
   },
   {
    "duration": 9,
    "start_time": "2023-10-10T13:22:30.806Z"
   },
   {
    "duration": 13,
    "start_time": "2023-10-10T13:22:32.473Z"
   },
   {
    "duration": 13,
    "start_time": "2023-10-10T13:22:33.358Z"
   },
   {
    "duration": 12,
    "start_time": "2023-10-10T13:22:34.764Z"
   },
   {
    "duration": 641,
    "start_time": "2023-10-10T13:23:42.958Z"
   },
   {
    "duration": 410,
    "start_time": "2023-10-10T13:23:47.417Z"
   },
   {
    "duration": 259,
    "start_time": "2023-10-10T13:23:51.558Z"
   },
   {
    "duration": 23,
    "start_time": "2023-10-10T13:23:52.514Z"
   },
   {
    "duration": 5,
    "start_time": "2023-10-10T13:23:59.858Z"
   },
   {
    "duration": 27,
    "start_time": "2023-10-10T13:24:01.661Z"
   },
   {
    "duration": 24,
    "start_time": "2023-10-10T13:24:02.810Z"
   },
   {
    "duration": 38,
    "start_time": "2023-10-10T13:24:03.842Z"
   },
   {
    "duration": 24,
    "start_time": "2023-10-10T13:25:24.479Z"
   },
   {
    "duration": 543,
    "start_time": "2023-10-10T13:25:42.769Z"
   },
   {
    "duration": 516,
    "start_time": "2023-10-10T13:25:44.063Z"
   },
   {
    "duration": 345,
    "start_time": "2023-10-10T13:25:46.211Z"
   },
   {
    "duration": 20,
    "start_time": "2023-10-10T13:25:47.357Z"
   },
   {
    "duration": 6,
    "start_time": "2023-10-10T13:25:49.020Z"
   },
   {
    "duration": 26,
    "start_time": "2023-10-10T13:25:50.675Z"
   },
   {
    "duration": 26,
    "start_time": "2023-10-10T13:25:51.457Z"
   },
   {
    "duration": 24,
    "start_time": "2023-10-10T13:25:52.165Z"
   },
   {
    "duration": 22,
    "start_time": "2023-10-10T13:37:52.653Z"
   },
   {
    "duration": 15,
    "start_time": "2023-10-10T13:40:50.334Z"
   },
   {
    "duration": 9,
    "start_time": "2023-10-10T13:41:23.493Z"
   },
   {
    "duration": 10,
    "start_time": "2023-10-10T13:42:36.095Z"
   },
   {
    "duration": 12,
    "start_time": "2023-10-10T13:43:00.760Z"
   },
   {
    "duration": 1388,
    "start_time": "2023-10-10T13:43:18.977Z"
   },
   {
    "duration": 1420,
    "start_time": "2023-10-10T13:43:54.482Z"
   },
   {
    "duration": 47,
    "start_time": "2023-10-10T13:44:13.011Z"
   },
   {
    "duration": 94,
    "start_time": "2023-10-10T13:45:26.041Z"
   },
   {
    "duration": 166,
    "start_time": "2023-10-10T13:47:37.564Z"
   },
   {
    "duration": 14,
    "start_time": "2023-10-10T13:52:03.162Z"
   },
   {
    "duration": 1962,
    "start_time": "2023-10-10T13:52:25.896Z"
   },
   {
    "duration": 31,
    "start_time": "2023-10-10T13:52:49.321Z"
   },
   {
    "duration": 33,
    "start_time": "2023-10-10T13:53:07.329Z"
   },
   {
    "duration": 11,
    "start_time": "2023-10-10T14:00:46.960Z"
   },
   {
    "duration": 10,
    "start_time": "2023-10-10T14:02:01.548Z"
   },
   {
    "duration": 12,
    "start_time": "2023-10-10T14:10:33.983Z"
   },
   {
    "duration": 10,
    "start_time": "2023-10-10T14:27:06.133Z"
   },
   {
    "duration": 1240,
    "start_time": "2023-10-10T14:27:25.009Z"
   },
   {
    "duration": 12,
    "start_time": "2023-10-10T14:27:55.258Z"
   },
   {
    "duration": 19,
    "start_time": "2023-10-10T14:28:50.566Z"
   },
   {
    "duration": 87,
    "start_time": "2023-10-10T14:29:41.639Z"
   },
   {
    "duration": 9,
    "start_time": "2023-10-10T14:33:04.423Z"
   },
   {
    "duration": 13,
    "start_time": "2023-10-10T14:33:52.122Z"
   },
   {
    "duration": 12,
    "start_time": "2023-10-10T14:34:11.286Z"
   },
   {
    "duration": 12,
    "start_time": "2023-10-10T14:34:42.296Z"
   },
   {
    "duration": 9,
    "start_time": "2023-10-10T14:34:52.567Z"
   },
   {
    "duration": 14,
    "start_time": "2023-10-10T14:35:28.636Z"
   },
   {
    "duration": 12,
    "start_time": "2023-10-10T14:35:44.714Z"
   },
   {
    "duration": 1254,
    "start_time": "2023-10-10T14:36:38.609Z"
   },
   {
    "duration": 12,
    "start_time": "2023-10-10T14:36:59.810Z"
   },
   {
    "duration": 32,
    "start_time": "2023-10-10T14:38:19.425Z"
   },
   {
    "duration": 10,
    "start_time": "2023-10-10T14:38:19.800Z"
   },
   {
    "duration": 9,
    "start_time": "2023-10-10T14:38:20.179Z"
   },
   {
    "duration": 24,
    "start_time": "2023-10-10T14:38:20.734Z"
   },
   {
    "duration": 1146,
    "start_time": "2023-10-10T14:45:28.046Z"
   },
   {
    "duration": 2466,
    "start_time": "2023-10-10T14:45:29.194Z"
   },
   {
    "duration": 82,
    "start_time": "2023-10-10T14:45:31.662Z"
   },
   {
    "duration": 75,
    "start_time": "2023-10-10T14:45:31.746Z"
   },
   {
    "duration": 86,
    "start_time": "2023-10-10T14:45:31.823Z"
   },
   {
    "duration": 213,
    "start_time": "2023-10-10T14:45:31.910Z"
   },
   {
    "duration": 9,
    "start_time": "2023-10-10T14:45:32.125Z"
   },
   {
    "duration": 69,
    "start_time": "2023-10-10T14:45:32.135Z"
   },
   {
    "duration": 1134,
    "start_time": "2023-10-10T14:45:32.206Z"
   },
   {
    "duration": 8,
    "start_time": "2023-10-10T14:45:33.343Z"
   },
   {
    "duration": 108,
    "start_time": "2023-10-10T14:45:33.353Z"
   },
   {
    "duration": 99,
    "start_time": "2023-10-10T14:45:33.463Z"
   },
   {
    "duration": 7,
    "start_time": "2023-10-10T14:45:33.564Z"
   },
   {
    "duration": 20,
    "start_time": "2023-10-10T14:45:33.572Z"
   },
   {
    "duration": 33,
    "start_time": "2023-10-10T14:45:33.593Z"
   },
   {
    "duration": 40,
    "start_time": "2023-10-10T14:45:33.627Z"
   },
   {
    "duration": 33,
    "start_time": "2023-10-10T14:45:33.668Z"
   },
   {
    "duration": 12,
    "start_time": "2023-10-10T14:45:33.703Z"
   },
   {
    "duration": 31,
    "start_time": "2023-10-10T14:45:33.717Z"
   },
   {
    "duration": 32,
    "start_time": "2023-10-10T14:45:33.750Z"
   },
   {
    "duration": 13,
    "start_time": "2023-10-10T14:45:33.784Z"
   },
   {
    "duration": 27,
    "start_time": "2023-10-10T14:45:33.799Z"
   },
   {
    "duration": 163,
    "start_time": "2023-10-10T14:45:33.828Z"
   },
   {
    "duration": 234,
    "start_time": "2023-10-10T14:45:33.993Z"
   },
   {
    "duration": 69,
    "start_time": "2023-10-10T14:45:34.229Z"
   },
   {
    "duration": 34,
    "start_time": "2023-10-10T14:45:34.300Z"
   },
   {
    "duration": 15,
    "start_time": "2023-10-10T14:45:34.335Z"
   },
   {
    "duration": 46,
    "start_time": "2023-10-10T14:45:34.353Z"
   },
   {
    "duration": 19,
    "start_time": "2023-10-10T14:45:34.401Z"
   },
   {
    "duration": 17,
    "start_time": "2023-10-10T14:45:34.421Z"
   },
   {
    "duration": 9,
    "start_time": "2023-10-10T14:45:34.439Z"
   },
   {
    "duration": 16,
    "start_time": "2023-10-10T14:45:34.450Z"
   },
   {
    "duration": 37,
    "start_time": "2023-10-10T14:45:34.467Z"
   },
   {
    "duration": 32,
    "start_time": "2023-10-10T14:45:34.506Z"
   },
   {
    "duration": 9,
    "start_time": "2023-10-10T14:45:34.539Z"
   },
   {
    "duration": 7,
    "start_time": "2023-10-10T14:45:34.550Z"
   },
   {
    "duration": 69,
    "start_time": "2023-10-10T14:45:34.558Z"
   },
   {
    "duration": 9,
    "start_time": "2023-10-10T14:45:34.629Z"
   },
   {
    "duration": 23,
    "start_time": "2023-10-10T14:45:34.640Z"
   },
   {
    "duration": 25,
    "start_time": "2023-10-10T14:45:34.665Z"
   },
   {
    "duration": 35,
    "start_time": "2023-10-10T14:45:34.691Z"
   },
   {
    "duration": 155,
    "start_time": "2023-10-10T14:45:34.727Z"
   },
   {
    "duration": 29,
    "start_time": "2023-10-10T14:45:34.884Z"
   },
   {
    "duration": 8,
    "start_time": "2023-10-10T14:45:34.914Z"
   },
   {
    "duration": 37,
    "start_time": "2023-10-10T14:45:34.923Z"
   },
   {
    "duration": 171,
    "start_time": "2023-10-10T14:45:34.962Z"
   },
   {
    "duration": 3,
    "start_time": "2023-10-10T14:45:35.135Z"
   },
   {
    "duration": 52,
    "start_time": "2023-10-10T14:45:35.139Z"
   },
   {
    "duration": 12,
    "start_time": "2023-10-10T14:45:35.192Z"
   },
   {
    "duration": 44,
    "start_time": "2023-10-10T14:45:35.206Z"
   },
   {
    "duration": 45,
    "start_time": "2023-10-10T14:45:35.252Z"
   },
   {
    "duration": 40,
    "start_time": "2023-10-10T14:45:35.298Z"
   },
   {
    "duration": 137,
    "start_time": "2023-10-10T14:45:35.339Z"
   },
   {
    "duration": 0,
    "start_time": "2023-10-10T14:45:35.478Z"
   },
   {
    "duration": 0,
    "start_time": "2023-10-10T14:45:35.479Z"
   },
   {
    "duration": 1,
    "start_time": "2023-10-10T14:45:35.480Z"
   },
   {
    "duration": 0,
    "start_time": "2023-10-10T14:45:35.482Z"
   },
   {
    "duration": 0,
    "start_time": "2023-10-10T14:45:35.483Z"
   },
   {
    "duration": 0,
    "start_time": "2023-10-10T14:45:35.484Z"
   },
   {
    "duration": 0,
    "start_time": "2023-10-10T14:45:35.485Z"
   },
   {
    "duration": 0,
    "start_time": "2023-10-10T14:45:35.486Z"
   },
   {
    "duration": 0,
    "start_time": "2023-10-10T14:45:35.488Z"
   },
   {
    "duration": 0,
    "start_time": "2023-10-10T14:45:35.489Z"
   },
   {
    "duration": 0,
    "start_time": "2023-10-10T14:45:35.490Z"
   },
   {
    "duration": 11,
    "start_time": "2023-10-10T14:46:29.578Z"
   },
   {
    "duration": 2462,
    "start_time": "2023-10-10T14:46:29.871Z"
   },
   {
    "duration": 55,
    "start_time": "2023-10-10T14:46:32.336Z"
   },
   {
    "duration": 41,
    "start_time": "2023-10-10T14:46:32.393Z"
   },
   {
    "duration": 33,
    "start_time": "2023-10-10T14:46:32.436Z"
   },
   {
    "duration": 175,
    "start_time": "2023-10-10T14:46:32.471Z"
   },
   {
    "duration": 8,
    "start_time": "2023-10-10T14:46:32.648Z"
   },
   {
    "duration": 18,
    "start_time": "2023-10-10T14:46:34.673Z"
   },
   {
    "duration": 780,
    "start_time": "2023-10-10T14:46:35.180Z"
   },
   {
    "duration": 9,
    "start_time": "2023-10-10T14:46:35.962Z"
   },
   {
    "duration": 100,
    "start_time": "2023-10-10T14:46:35.973Z"
   },
   {
    "duration": 52,
    "start_time": "2023-10-10T14:46:36.371Z"
   },
   {
    "duration": 8,
    "start_time": "2023-10-10T14:46:36.766Z"
   },
   {
    "duration": 14,
    "start_time": "2023-10-10T14:46:37.166Z"
   },
   {
    "duration": 14,
    "start_time": "2023-10-10T14:46:38.816Z"
   },
   {
    "duration": 5,
    "start_time": "2023-10-10T14:46:39.231Z"
   },
   {
    "duration": 6,
    "start_time": "2023-10-10T14:46:39.670Z"
   },
   {
    "duration": 9,
    "start_time": "2023-10-10T14:46:40.067Z"
   },
   {
    "duration": 25,
    "start_time": "2023-10-10T14:46:40.828Z"
   },
   {
    "duration": 30,
    "start_time": "2023-10-10T14:46:41.215Z"
   },
   {
    "duration": 14,
    "start_time": "2023-10-10T14:46:41.566Z"
   },
   {
    "duration": 8,
    "start_time": "2023-10-10T14:46:41.902Z"
   },
   {
    "duration": 125,
    "start_time": "2023-10-10T14:46:42.594Z"
   },
   {
    "duration": 160,
    "start_time": "2023-10-10T14:46:42.939Z"
   },
   {
    "duration": 42,
    "start_time": "2023-10-10T14:46:43.321Z"
   },
   {
    "duration": 9,
    "start_time": "2023-10-10T14:46:43.689Z"
   },
   {
    "duration": 7,
    "start_time": "2023-10-10T14:46:44.065Z"
   },
   {
    "duration": 7,
    "start_time": "2023-10-10T14:46:45.095Z"
   },
   {
    "duration": 9,
    "start_time": "2023-10-10T14:46:45.427Z"
   },
   {
    "duration": 8,
    "start_time": "2023-10-10T14:46:45.794Z"
   },
   {
    "duration": 5,
    "start_time": "2023-10-10T14:46:47.162Z"
   },
   {
    "duration": 7,
    "start_time": "2023-10-10T14:46:47.495Z"
   },
   {
    "duration": 16,
    "start_time": "2023-10-10T14:46:48.514Z"
   },
   {
    "duration": 23,
    "start_time": "2023-10-10T14:46:49.197Z"
   },
   {
    "duration": 9,
    "start_time": "2023-10-10T14:46:50.282Z"
   },
   {
    "duration": 3,
    "start_time": "2023-10-10T14:46:50.631Z"
   },
   {
    "duration": 41,
    "start_time": "2023-10-10T14:46:50.970Z"
   },
   {
    "duration": 10,
    "start_time": "2023-10-10T14:46:51.999Z"
   },
   {
    "duration": 8,
    "start_time": "2023-10-10T14:46:53.086Z"
   },
   {
    "duration": 10,
    "start_time": "2023-10-10T14:46:53.772Z"
   },
   {
    "duration": 15,
    "start_time": "2023-10-10T14:46:54.119Z"
   },
   {
    "duration": 126,
    "start_time": "2023-10-10T14:46:55.119Z"
   },
   {
    "duration": 33,
    "start_time": "2023-10-10T14:46:55.830Z"
   },
   {
    "duration": 4,
    "start_time": "2023-10-10T14:46:56.394Z"
   },
   {
    "duration": 20,
    "start_time": "2023-10-10T14:47:00.261Z"
   },
   {
    "duration": 15,
    "start_time": "2023-10-10T14:47:01.166Z"
   },
   {
    "duration": 3,
    "start_time": "2023-10-10T14:47:01.886Z"
   },
   {
    "duration": 22,
    "start_time": "2023-10-10T14:47:27.469Z"
   },
   {
    "duration": 6,
    "start_time": "2023-10-10T14:47:27.780Z"
   },
   {
    "duration": 8,
    "start_time": "2023-10-10T14:47:28.847Z"
   },
   {
    "duration": 37,
    "start_time": "2023-10-10T14:47:28.856Z"
   },
   {
    "duration": 3,
    "start_time": "2023-10-10T14:47:29.160Z"
   },
   {
    "duration": 15,
    "start_time": "2023-10-10T14:47:31.937Z"
   },
   {
    "duration": 589,
    "start_time": "2023-10-10T14:47:42.282Z"
   },
   {
    "duration": 430,
    "start_time": "2023-10-10T14:47:44.019Z"
   },
   {
    "duration": 21,
    "start_time": "2023-10-10T14:47:45.604Z"
   },
   {
    "duration": 9,
    "start_time": "2023-10-10T14:47:45.974Z"
   },
   {
    "duration": 8,
    "start_time": "2023-10-10T14:47:46.391Z"
   },
   {
    "duration": 19,
    "start_time": "2023-10-10T14:47:46.762Z"
   },
   {
    "duration": 206,
    "start_time": "2023-10-10T14:47:48.330Z"
   },
   {
    "duration": 19,
    "start_time": "2023-10-10T14:47:49.408Z"
   },
   {
    "duration": 5,
    "start_time": "2023-10-10T14:47:50.922Z"
   },
   {
    "duration": 23,
    "start_time": "2023-10-10T14:47:52.509Z"
   },
   {
    "duration": 23,
    "start_time": "2023-10-10T14:47:53.179Z"
   },
   {
    "duration": 22,
    "start_time": "2023-10-10T14:47:53.867Z"
   },
   {
    "duration": 1315,
    "start_time": "2023-10-10T19:05:21.706Z"
   },
   {
    "duration": 12411,
    "start_time": "2023-10-10T19:05:23.024Z"
   },
   {
    "duration": 127,
    "start_time": "2023-10-10T19:05:35.439Z"
   },
   {
    "duration": 109,
    "start_time": "2023-10-10T19:05:35.569Z"
   },
   {
    "duration": 217,
    "start_time": "2023-10-10T19:05:35.681Z"
   },
   {
    "duration": 190,
    "start_time": "2023-10-10T19:05:35.901Z"
   },
   {
    "duration": 23,
    "start_time": "2023-10-10T19:05:36.093Z"
   },
   {
    "duration": 59,
    "start_time": "2023-10-10T19:05:36.118Z"
   },
   {
    "duration": 871,
    "start_time": "2023-10-10T19:05:36.178Z"
   },
   {
    "duration": 11,
    "start_time": "2023-10-10T19:05:37.051Z"
   },
   {
    "duration": 343,
    "start_time": "2023-10-10T19:05:37.063Z"
   },
   {
    "duration": 135,
    "start_time": "2023-10-10T19:05:37.408Z"
   },
   {
    "duration": 11,
    "start_time": "2023-10-10T19:05:37.545Z"
   },
   {
    "duration": 35,
    "start_time": "2023-10-10T19:05:37.561Z"
   },
   {
    "duration": 20,
    "start_time": "2023-10-10T19:05:37.597Z"
   },
   {
    "duration": 10,
    "start_time": "2023-10-10T19:05:37.619Z"
   },
   {
    "duration": 22,
    "start_time": "2023-10-10T19:05:37.631Z"
   },
   {
    "duration": 290,
    "start_time": "2023-10-10T19:05:37.654Z"
   },
   {
    "duration": 235,
    "start_time": "2023-10-10T19:05:37.946Z"
   },
   {
    "duration": 59,
    "start_time": "2023-10-10T19:05:38.183Z"
   },
   {
    "duration": 22,
    "start_time": "2023-10-10T19:05:38.244Z"
   },
   {
    "duration": 35,
    "start_time": "2023-10-10T19:05:38.268Z"
   },
   {
    "duration": 269,
    "start_time": "2023-10-10T19:05:38.305Z"
   },
   {
    "duration": 302,
    "start_time": "2023-10-10T19:05:38.580Z"
   },
   {
    "duration": 71,
    "start_time": "2023-10-10T19:05:38.885Z"
   },
   {
    "duration": 12,
    "start_time": "2023-10-10T19:05:38.958Z"
   },
   {
    "duration": 33,
    "start_time": "2023-10-10T19:05:38.972Z"
   },
   {
    "duration": 12,
    "start_time": "2023-10-10T19:05:39.009Z"
   },
   {
    "duration": 18,
    "start_time": "2023-10-10T19:05:39.023Z"
   },
   {
    "duration": 14,
    "start_time": "2023-10-10T19:05:39.044Z"
   },
   {
    "duration": 45,
    "start_time": "2023-10-10T19:05:39.061Z"
   },
   {
    "duration": 9,
    "start_time": "2023-10-10T19:05:39.108Z"
   },
   {
    "duration": 48,
    "start_time": "2023-10-10T19:05:39.120Z"
   },
   {
    "duration": 60,
    "start_time": "2023-10-10T19:05:39.171Z"
   },
   {
    "duration": 13,
    "start_time": "2023-10-10T19:05:39.233Z"
   },
   {
    "duration": 4,
    "start_time": "2023-10-10T19:05:39.248Z"
   },
   {
    "duration": 84,
    "start_time": "2023-10-10T19:05:39.254Z"
   },
   {
    "duration": 12,
    "start_time": "2023-10-10T19:05:39.340Z"
   },
   {
    "duration": 12,
    "start_time": "2023-10-10T19:05:39.354Z"
   },
   {
    "duration": 34,
    "start_time": "2023-10-10T19:05:39.369Z"
   },
   {
    "duration": 13,
    "start_time": "2023-10-10T19:05:39.407Z"
   },
   {
    "duration": 233,
    "start_time": "2023-10-10T19:05:39.422Z"
   },
   {
    "duration": 70,
    "start_time": "2023-10-10T19:05:39.657Z"
   },
   {
    "duration": 813,
    "start_time": "2023-10-10T19:05:39.729Z"
   },
   {
    "duration": 1427,
    "start_time": "2023-10-10T19:05:40.544Z"
   },
   {
    "duration": 2654,
    "start_time": "2023-10-10T19:05:41.973Z"
   },
   {
    "duration": 6,
    "start_time": "2023-10-10T19:05:44.629Z"
   },
   {
    "duration": 84,
    "start_time": "2023-10-10T19:05:44.638Z"
   },
   {
    "duration": 77,
    "start_time": "2023-10-10T19:05:44.724Z"
   },
   {
    "duration": 47,
    "start_time": "2023-10-10T19:05:44.804Z"
   },
   {
    "duration": 51,
    "start_time": "2023-10-10T19:05:44.854Z"
   },
   {
    "duration": 17,
    "start_time": "2023-10-10T19:05:44.907Z"
   },
   {
    "duration": 721,
    "start_time": "2023-10-10T19:05:44.927Z"
   },
   {
    "duration": 491,
    "start_time": "2023-10-10T19:05:45.650Z"
   },
   {
    "duration": 26,
    "start_time": "2023-10-10T19:05:46.143Z"
   },
   {
    "duration": 32,
    "start_time": "2023-10-10T19:05:46.171Z"
   },
   {
    "duration": 23,
    "start_time": "2023-10-10T19:05:46.204Z"
   },
   {
    "duration": 100,
    "start_time": "2023-10-10T19:05:46.229Z"
   },
   {
    "duration": 244,
    "start_time": "2023-10-10T19:05:46.331Z"
   },
   {
    "duration": 36,
    "start_time": "2023-10-10T19:05:46.578Z"
   },
   {
    "duration": 9,
    "start_time": "2023-10-10T19:05:46.617Z"
   },
   {
    "duration": 51,
    "start_time": "2023-10-10T19:05:46.628Z"
   },
   {
    "duration": 42,
    "start_time": "2023-10-10T19:05:46.681Z"
   },
   {
    "duration": 37,
    "start_time": "2023-10-10T19:05:46.725Z"
   },
   {
    "duration": 151,
    "start_time": "2023-10-10T19:08:10.866Z"
   },
   {
    "duration": 33,
    "start_time": "2023-10-10T19:08:11.962Z"
   },
   {
    "duration": 13,
    "start_time": "2023-10-10T19:15:26.881Z"
   },
   {
    "duration": 1652,
    "start_time": "2023-10-10T19:15:56.181Z"
   },
   {
    "duration": 8800,
    "start_time": "2023-10-10T19:15:57.835Z"
   },
   {
    "duration": 83,
    "start_time": "2023-10-10T19:16:06.637Z"
   },
   {
    "duration": 13,
    "start_time": "2023-10-10T19:16:06.722Z"
   },
   {
    "duration": 31,
    "start_time": "2023-10-10T19:16:06.737Z"
   },
   {
    "duration": 251,
    "start_time": "2023-10-10T19:16:06.770Z"
   },
   {
    "duration": 7,
    "start_time": "2023-10-10T19:16:07.022Z"
   },
   {
    "duration": 54,
    "start_time": "2023-10-10T19:16:07.030Z"
   },
   {
    "duration": 1007,
    "start_time": "2023-10-10T19:16:07.097Z"
   },
   {
    "duration": 8,
    "start_time": "2023-10-10T19:16:08.107Z"
   },
   {
    "duration": 93,
    "start_time": "2023-10-10T19:16:08.116Z"
   },
   {
    "duration": 91,
    "start_time": "2023-10-10T19:16:08.212Z"
   },
   {
    "duration": 1150,
    "start_time": "2023-10-10T19:16:13.985Z"
   },
   {
    "duration": 2690,
    "start_time": "2023-10-10T19:16:15.137Z"
   },
   {
    "duration": 80,
    "start_time": "2023-10-10T19:16:17.829Z"
   },
   {
    "duration": 12,
    "start_time": "2023-10-10T19:16:17.910Z"
   },
   {
    "duration": 9,
    "start_time": "2023-10-10T19:16:17.924Z"
   },
   {
    "duration": 222,
    "start_time": "2023-10-10T19:16:17.934Z"
   },
   {
    "duration": 28,
    "start_time": "2023-10-10T19:16:18.168Z"
   },
   {
    "duration": 16,
    "start_time": "2023-10-10T19:16:18.198Z"
   },
   {
    "duration": 808,
    "start_time": "2023-10-10T19:16:18.216Z"
   },
   {
    "duration": 8,
    "start_time": "2023-10-10T19:16:19.026Z"
   },
   {
    "duration": 82,
    "start_time": "2023-10-10T19:16:19.049Z"
   },
   {
    "duration": 84,
    "start_time": "2023-10-10T19:16:19.132Z"
   },
   {
    "duration": 7,
    "start_time": "2023-10-10T19:16:19.217Z"
   },
   {
    "duration": 32,
    "start_time": "2023-10-10T19:16:19.228Z"
   },
   {
    "duration": 21,
    "start_time": "2023-10-10T19:16:19.262Z"
   },
   {
    "duration": 9,
    "start_time": "2023-10-10T19:16:19.285Z"
   },
   {
    "duration": 8,
    "start_time": "2023-10-10T19:16:19.295Z"
   },
   {
    "duration": 29,
    "start_time": "2023-10-10T19:16:19.305Z"
   },
   {
    "duration": 53,
    "start_time": "2023-10-10T19:16:19.335Z"
   },
   {
    "duration": 31,
    "start_time": "2023-10-10T19:16:19.389Z"
   },
   {
    "duration": 12,
    "start_time": "2023-10-10T19:16:19.422Z"
   },
   {
    "duration": 60,
    "start_time": "2023-10-10T19:16:19.436Z"
   },
   {
    "duration": 195,
    "start_time": "2023-10-10T19:16:19.501Z"
   },
   {
    "duration": 198,
    "start_time": "2023-10-10T19:16:19.697Z"
   },
   {
    "duration": 39,
    "start_time": "2023-10-10T19:16:19.897Z"
   },
   {
    "duration": 14,
    "start_time": "2023-10-10T19:16:19.939Z"
   },
   {
    "duration": 15,
    "start_time": "2023-10-10T19:16:19.955Z"
   },
   {
    "duration": 8,
    "start_time": "2023-10-10T19:16:19.971Z"
   },
   {
    "duration": 17,
    "start_time": "2023-10-10T19:16:19.981Z"
   },
   {
    "duration": 27,
    "start_time": "2023-10-10T19:16:19.999Z"
   },
   {
    "duration": 100,
    "start_time": "2023-10-10T19:16:20.027Z"
   },
   {
    "duration": 59,
    "start_time": "2023-10-10T19:16:20.129Z"
   },
   {
    "duration": 32,
    "start_time": "2023-10-10T19:16:20.196Z"
   },
   {
    "duration": 70,
    "start_time": "2023-10-10T19:16:20.230Z"
   },
   {
    "duration": 10,
    "start_time": "2023-10-10T19:16:20.301Z"
   },
   {
    "duration": 6,
    "start_time": "2023-10-10T19:16:20.312Z"
   },
   {
    "duration": 89,
    "start_time": "2023-10-10T19:16:20.320Z"
   },
   {
    "duration": 14,
    "start_time": "2023-10-10T19:16:20.410Z"
   },
   {
    "duration": 43,
    "start_time": "2023-10-10T19:16:20.425Z"
   },
   {
    "duration": 49,
    "start_time": "2023-10-10T19:16:20.469Z"
   },
   {
    "duration": 13,
    "start_time": "2023-10-10T19:16:20.523Z"
   },
   {
    "duration": 186,
    "start_time": "2023-10-10T19:16:20.538Z"
   },
   {
    "duration": 65,
    "start_time": "2023-10-10T19:16:20.725Z"
   },
   {
    "duration": 6,
    "start_time": "2023-10-10T19:16:20.801Z"
   },
   {
    "duration": 28,
    "start_time": "2023-10-10T19:16:20.808Z"
   },
   {
    "duration": 270,
    "start_time": "2023-10-10T19:16:20.837Z"
   },
   {
    "duration": 2,
    "start_time": "2023-10-10T19:16:21.109Z"
   },
   {
    "duration": 21,
    "start_time": "2023-10-10T19:16:21.113Z"
   },
   {
    "duration": 40,
    "start_time": "2023-10-10T19:16:21.136Z"
   },
   {
    "duration": 8,
    "start_time": "2023-10-10T19:16:21.177Z"
   },
   {
    "duration": 32,
    "start_time": "2023-10-10T19:16:21.192Z"
   },
   {
    "duration": 38,
    "start_time": "2023-10-10T19:16:21.226Z"
   },
   {
    "duration": 729,
    "start_time": "2023-10-10T19:16:21.271Z"
   },
   {
    "duration": 476,
    "start_time": "2023-10-10T19:16:22.005Z"
   },
   {
    "duration": 34,
    "start_time": "2023-10-10T19:16:22.482Z"
   },
   {
    "duration": 9,
    "start_time": "2023-10-10T19:16:22.518Z"
   },
   {
    "duration": 51,
    "start_time": "2023-10-10T19:16:22.529Z"
   },
   {
    "duration": 39,
    "start_time": "2023-10-10T19:16:22.582Z"
   },
   {
    "duration": 348,
    "start_time": "2023-10-10T19:16:22.622Z"
   },
   {
    "duration": 2,
    "start_time": "2023-10-10T19:16:22.972Z"
   },
   {
    "duration": 7,
    "start_time": "2023-10-10T19:16:22.975Z"
   },
   {
    "duration": 109,
    "start_time": "2023-10-10T19:16:22.983Z"
   },
   {
    "duration": 28,
    "start_time": "2023-10-10T19:16:23.097Z"
   },
   {
    "duration": 45,
    "start_time": "2023-10-10T19:16:23.127Z"
   },
   {
    "duration": 22,
    "start_time": "2023-10-10T19:18:38.582Z"
   },
   {
    "duration": 22,
    "start_time": "2023-10-10T19:18:52.453Z"
   },
   {
    "duration": 1555,
    "start_time": "2023-10-10T19:21:25.543Z"
   },
   {
    "duration": 0,
    "start_time": "2023-10-10T19:21:27.099Z"
   },
   {
    "duration": 6,
    "start_time": "2023-10-10T19:21:27.213Z"
   },
   {
    "duration": 34,
    "start_time": "2023-10-10T19:22:36.577Z"
   },
   {
    "duration": 20,
    "start_time": "2023-10-10T19:22:38.256Z"
   },
   {
    "duration": 14,
    "start_time": "2023-10-10T19:22:38.685Z"
   },
   {
    "duration": 13,
    "start_time": "2023-10-10T19:22:40.615Z"
   },
   {
    "duration": 43,
    "start_time": "2023-10-10T19:27:40.433Z"
   },
   {
    "duration": 18,
    "start_time": "2023-10-10T19:27:41.134Z"
   },
   {
    "duration": 19,
    "start_time": "2023-10-10T19:27:41.844Z"
   },
   {
    "duration": 1436,
    "start_time": "2023-10-10T19:27:42.489Z"
   },
   {
    "duration": 10,
    "start_time": "2023-10-10T19:28:46.419Z"
   },
   {
    "duration": 23,
    "start_time": "2023-10-10T19:29:04.249Z"
   },
   {
    "duration": 1259,
    "start_time": "2023-10-10T19:29:29.217Z"
   },
   {
    "duration": 2649,
    "start_time": "2023-10-10T19:29:30.489Z"
   },
   {
    "duration": 116,
    "start_time": "2023-10-10T19:29:33.140Z"
   },
   {
    "duration": 22,
    "start_time": "2023-10-10T19:29:33.258Z"
   },
   {
    "duration": 36,
    "start_time": "2023-10-10T19:29:33.281Z"
   },
   {
    "duration": 157,
    "start_time": "2023-10-10T19:29:33.319Z"
   },
   {
    "duration": 10,
    "start_time": "2023-10-10T19:29:33.477Z"
   },
   {
    "duration": 33,
    "start_time": "2023-10-10T19:29:33.489Z"
   },
   {
    "duration": 1086,
    "start_time": "2023-10-10T19:29:33.524Z"
   },
   {
    "duration": 7,
    "start_time": "2023-10-10T19:29:34.612Z"
   },
   {
    "duration": 89,
    "start_time": "2023-10-10T19:29:34.621Z"
   },
   {
    "duration": 79,
    "start_time": "2023-10-10T19:29:34.713Z"
   },
   {
    "duration": 12,
    "start_time": "2023-10-10T19:29:34.793Z"
   },
   {
    "duration": 19,
    "start_time": "2023-10-10T19:29:34.806Z"
   },
   {
    "duration": 11,
    "start_time": "2023-10-10T19:29:34.826Z"
   },
   {
    "duration": 12,
    "start_time": "2023-10-10T19:29:34.844Z"
   },
   {
    "duration": 6,
    "start_time": "2023-10-10T19:29:34.858Z"
   },
   {
    "duration": 15,
    "start_time": "2023-10-10T19:29:34.865Z"
   },
   {
    "duration": 31,
    "start_time": "2023-10-10T19:29:34.884Z"
   },
   {
    "duration": 60,
    "start_time": "2023-10-10T19:29:34.916Z"
   },
   {
    "duration": 18,
    "start_time": "2023-10-10T19:29:34.981Z"
   },
   {
    "duration": 18,
    "start_time": "2023-10-10T19:29:35.002Z"
   },
   {
    "duration": 185,
    "start_time": "2023-10-10T19:29:35.021Z"
   },
   {
    "duration": 172,
    "start_time": "2023-10-10T19:29:35.208Z"
   },
   {
    "duration": 44,
    "start_time": "2023-10-10T19:29:35.381Z"
   },
   {
    "duration": 8,
    "start_time": "2023-10-10T19:29:35.426Z"
   },
   {
    "duration": 35,
    "start_time": "2023-10-10T19:29:35.435Z"
   },
   {
    "duration": 23,
    "start_time": "2023-10-10T19:29:35.476Z"
   },
   {
    "duration": 9,
    "start_time": "2023-10-10T19:29:35.500Z"
   },
   {
    "duration": 6,
    "start_time": "2023-10-10T19:29:35.510Z"
   },
   {
    "duration": 4,
    "start_time": "2023-10-10T19:29:35.517Z"
   },
   {
    "duration": 7,
    "start_time": "2023-10-10T19:29:35.522Z"
   },
   {
    "duration": 42,
    "start_time": "2023-10-10T19:29:35.530Z"
   },
   {
    "duration": 36,
    "start_time": "2023-10-10T19:29:35.573Z"
   },
   {
    "duration": 8,
    "start_time": "2023-10-10T19:29:35.610Z"
   },
   {
    "duration": 3,
    "start_time": "2023-10-10T19:29:35.619Z"
   },
   {
    "duration": 59,
    "start_time": "2023-10-10T19:29:35.623Z"
   },
   {
    "duration": 26,
    "start_time": "2023-10-10T19:29:35.683Z"
   },
   {
    "duration": 8,
    "start_time": "2023-10-10T19:29:35.713Z"
   },
   {
    "duration": 11,
    "start_time": "2023-10-10T19:29:35.723Z"
   },
   {
    "duration": 31,
    "start_time": "2023-10-10T19:29:35.735Z"
   },
   {
    "duration": 158,
    "start_time": "2023-10-10T19:29:35.767Z"
   },
   {
    "duration": 45,
    "start_time": "2023-10-10T19:29:35.927Z"
   },
   {
    "duration": 6,
    "start_time": "2023-10-10T19:29:35.973Z"
   },
   {
    "duration": 27,
    "start_time": "2023-10-10T19:29:35.981Z"
   },
   {
    "duration": 193,
    "start_time": "2023-10-10T19:29:36.009Z"
   },
   {
    "duration": 3,
    "start_time": "2023-10-10T19:29:36.204Z"
   },
   {
    "duration": 15,
    "start_time": "2023-10-10T19:29:36.208Z"
   },
   {
    "duration": 54,
    "start_time": "2023-10-10T19:29:36.224Z"
   },
   {
    "duration": 11,
    "start_time": "2023-10-10T19:29:36.280Z"
   },
   {
    "duration": 16,
    "start_time": "2023-10-10T19:29:36.292Z"
   },
   {
    "duration": 17,
    "start_time": "2023-10-10T19:29:36.310Z"
   },
   {
    "duration": 28,
    "start_time": "2023-10-10T19:29:36.329Z"
   },
   {
    "duration": 842,
    "start_time": "2023-10-10T19:29:36.358Z"
   },
   {
    "duration": 691,
    "start_time": "2023-10-10T19:29:37.201Z"
   },
   {
    "duration": 31,
    "start_time": "2023-10-10T19:29:37.893Z"
   },
   {
    "duration": 35,
    "start_time": "2023-10-10T19:29:37.925Z"
   },
   {
    "duration": 24,
    "start_time": "2023-10-10T19:29:37.961Z"
   },
   {
    "duration": 48,
    "start_time": "2023-10-10T19:29:37.986Z"
   },
   {
    "duration": 344,
    "start_time": "2023-10-10T19:29:38.036Z"
   },
   {
    "duration": 9,
    "start_time": "2023-10-10T19:29:38.396Z"
   },
   {
    "duration": 6,
    "start_time": "2023-10-10T19:29:38.407Z"
   },
   {
    "duration": 45,
    "start_time": "2023-10-10T19:29:38.415Z"
   },
   {
    "duration": 31,
    "start_time": "2023-10-10T19:29:38.484Z"
   },
   {
    "duration": 36,
    "start_time": "2023-10-10T19:29:38.517Z"
   },
   {
    "duration": 30,
    "start_time": "2023-10-10T19:30:01.784Z"
   },
   {
    "duration": 2696,
    "start_time": "2023-10-10T19:30:02.101Z"
   },
   {
    "duration": 59,
    "start_time": "2023-10-10T19:30:04.799Z"
   },
   {
    "duration": 137,
    "start_time": "2023-10-10T19:30:04.860Z"
   },
   {
    "duration": 24,
    "start_time": "2023-10-10T19:30:04.999Z"
   },
   {
    "duration": 185,
    "start_time": "2023-10-10T19:30:07.587Z"
   },
   {
    "duration": 11,
    "start_time": "2023-10-10T19:30:10.902Z"
   },
   {
    "duration": 48,
    "start_time": "2023-10-10T19:30:11.353Z"
   },
   {
    "duration": 874,
    "start_time": "2023-10-10T19:30:11.757Z"
   },
   {
    "duration": 31,
    "start_time": "2023-10-10T19:30:12.633Z"
   },
   {
    "duration": 112,
    "start_time": "2023-10-10T19:30:12.665Z"
   },
   {
    "duration": 123,
    "start_time": "2023-10-10T19:30:12.878Z"
   },
   {
    "duration": 12,
    "start_time": "2023-10-10T19:30:13.332Z"
   },
   {
    "duration": 12,
    "start_time": "2023-10-10T19:30:13.697Z"
   },
   {
    "duration": 11,
    "start_time": "2023-10-10T19:30:15.397Z"
   },
   {
    "duration": 6,
    "start_time": "2023-10-10T19:30:15.802Z"
   },
   {
    "duration": 6,
    "start_time": "2023-10-10T19:30:16.217Z"
   },
   {
    "duration": 10,
    "start_time": "2023-10-10T19:30:16.619Z"
   },
   {
    "duration": 28,
    "start_time": "2023-10-10T19:30:17.393Z"
   },
   {
    "duration": 61,
    "start_time": "2023-10-10T19:30:17.714Z"
   },
   {
    "duration": 30,
    "start_time": "2023-10-10T19:30:18.067Z"
   },
   {
    "duration": 22,
    "start_time": "2023-10-10T19:30:18.454Z"
   },
   {
    "duration": 230,
    "start_time": "2023-10-10T19:30:19.158Z"
   },
   {
    "duration": 248,
    "start_time": "2023-10-10T19:30:19.528Z"
   },
   {
    "duration": 48,
    "start_time": "2023-10-10T19:30:19.880Z"
   },
   {
    "duration": 8,
    "start_time": "2023-10-10T19:30:20.218Z"
   },
   {
    "duration": 6,
    "start_time": "2023-10-10T19:30:20.611Z"
   },
   {
    "duration": 7,
    "start_time": "2023-10-10T19:30:21.626Z"
   },
   {
    "duration": 8,
    "start_time": "2023-10-10T19:30:22.007Z"
   },
   {
    "duration": 9,
    "start_time": "2023-10-10T19:30:22.415Z"
   },
   {
    "duration": 7,
    "start_time": "2023-10-10T19:30:24.065Z"
   },
   {
    "duration": 12,
    "start_time": "2023-10-10T19:30:24.668Z"
   },
   {
    "duration": 22,
    "start_time": "2023-10-10T19:30:26.411Z"
   },
   {
    "duration": 24,
    "start_time": "2023-10-10T19:30:27.309Z"
   },
   {
    "duration": 20,
    "start_time": "2023-10-10T19:30:28.651Z"
   },
   {
    "duration": 5,
    "start_time": "2023-10-10T19:30:29.066Z"
   },
   {
    "duration": 42,
    "start_time": "2023-10-10T19:30:29.492Z"
   },
   {
    "duration": 12,
    "start_time": "2023-10-10T19:30:32.804Z"
   },
   {
    "duration": 8,
    "start_time": "2023-10-10T19:30:42.293Z"
   },
   {
    "duration": 39,
    "start_time": "2023-10-10T19:30:47.349Z"
   },
   {
    "duration": 14,
    "start_time": "2023-10-10T19:30:47.893Z"
   },
   {
    "duration": 137,
    "start_time": "2023-10-10T19:30:48.292Z"
   },
   {
    "duration": 48,
    "start_time": "2023-10-10T19:30:48.721Z"
   },
   {
    "duration": 18,
    "start_time": "2023-10-10T19:30:49.760Z"
   },
   {
    "duration": 28,
    "start_time": "2023-10-10T19:30:55.720Z"
   },
   {
    "duration": 45,
    "start_time": "2023-10-10T19:30:56.651Z"
   },
   {
    "duration": 10,
    "start_time": "2023-10-10T19:30:57.282Z"
   },
   {
    "duration": 4,
    "start_time": "2023-10-10T19:31:07.438Z"
   },
   {
    "duration": 18,
    "start_time": "2023-10-10T19:31:07.912Z"
   },
   {
    "duration": 8,
    "start_time": "2023-10-10T19:31:08.497Z"
   },
   {
    "duration": 18,
    "start_time": "2023-10-10T19:31:09.062Z"
   },
   {
    "duration": 11,
    "start_time": "2023-10-10T19:31:09.701Z"
   },
   {
    "duration": 2,
    "start_time": "2023-10-10T19:31:43.298Z"
   },
   {
    "duration": 640,
    "start_time": "2023-10-10T19:31:56.636Z"
   },
   {
    "duration": 510,
    "start_time": "2023-10-10T19:31:58.005Z"
   },
   {
    "duration": 21,
    "start_time": "2023-10-10T19:32:00.005Z"
   },
   {
    "duration": 17,
    "start_time": "2023-10-10T19:32:01.039Z"
   },
   {
    "duration": 25,
    "start_time": "2023-10-10T19:32:01.665Z"
   },
   {
    "duration": 23,
    "start_time": "2023-10-10T19:32:02.397Z"
   },
   {
    "duration": 278,
    "start_time": "2023-10-10T19:32:05.148Z"
   },
   {
    "duration": 2,
    "start_time": "2023-10-10T19:32:09.025Z"
   },
   {
    "duration": 32,
    "start_time": "2023-10-10T19:32:11.669Z"
   },
   {
    "duration": 49,
    "start_time": "2023-10-10T19:32:14.259Z"
   },
   {
    "duration": 32,
    "start_time": "2023-10-10T19:32:15.089Z"
   },
   {
    "duration": 20,
    "start_time": "2023-10-10T19:32:16.098Z"
   },
   {
    "duration": 1276,
    "start_time": "2023-10-10T19:34:02.019Z"
   },
   {
    "duration": 2539,
    "start_time": "2023-10-10T19:34:03.297Z"
   },
   {
    "duration": 91,
    "start_time": "2023-10-10T19:34:05.838Z"
   },
   {
    "duration": 33,
    "start_time": "2023-10-10T19:34:05.931Z"
   },
   {
    "duration": 40,
    "start_time": "2023-10-10T19:34:05.965Z"
   },
   {
    "duration": 450,
    "start_time": "2023-10-10T19:34:06.006Z"
   },
   {
    "duration": 12,
    "start_time": "2023-10-10T19:34:06.464Z"
   },
   {
    "duration": 45,
    "start_time": "2023-10-10T19:34:06.477Z"
   },
   {
    "duration": 885,
    "start_time": "2023-10-10T19:34:06.524Z"
   },
   {
    "duration": 9,
    "start_time": "2023-10-10T19:34:07.412Z"
   },
   {
    "duration": 95,
    "start_time": "2023-10-10T19:34:07.423Z"
   },
   {
    "duration": 88,
    "start_time": "2023-10-10T19:34:07.519Z"
   },
   {
    "duration": 9,
    "start_time": "2023-10-10T19:34:07.609Z"
   },
   {
    "duration": 16,
    "start_time": "2023-10-10T19:34:07.620Z"
   },
   {
    "duration": 59,
    "start_time": "2023-10-10T19:34:07.638Z"
   },
   {
    "duration": 9,
    "start_time": "2023-10-10T19:34:07.699Z"
   },
   {
    "duration": 34,
    "start_time": "2023-10-10T19:34:07.710Z"
   },
   {
    "duration": 42,
    "start_time": "2023-10-10T19:34:07.746Z"
   },
   {
    "duration": 111,
    "start_time": "2023-10-10T19:34:07.789Z"
   },
   {
    "duration": 99,
    "start_time": "2023-10-10T19:34:07.901Z"
   },
   {
    "duration": 18,
    "start_time": "2023-10-10T19:34:08.002Z"
   },
   {
    "duration": 11,
    "start_time": "2023-10-10T19:34:08.021Z"
   },
   {
    "duration": 183,
    "start_time": "2023-10-10T19:34:08.033Z"
   },
   {
    "duration": 181,
    "start_time": "2023-10-10T19:34:08.217Z"
   },
   {
    "duration": 62,
    "start_time": "2023-10-10T19:34:08.400Z"
   },
   {
    "duration": 20,
    "start_time": "2023-10-10T19:34:08.465Z"
   },
   {
    "duration": 11,
    "start_time": "2023-10-10T19:34:08.496Z"
   },
   {
    "duration": 6,
    "start_time": "2023-10-10T19:34:08.511Z"
   },
   {
    "duration": 11,
    "start_time": "2023-10-10T19:34:08.519Z"
   },
   {
    "duration": 6,
    "start_time": "2023-10-10T19:34:08.531Z"
   },
   {
    "duration": 8,
    "start_time": "2023-10-10T19:34:08.552Z"
   },
   {
    "duration": 11,
    "start_time": "2023-10-10T19:34:08.561Z"
   },
   {
    "duration": 36,
    "start_time": "2023-10-10T19:34:08.573Z"
   },
   {
    "duration": 21,
    "start_time": "2023-10-10T19:34:08.611Z"
   },
   {
    "duration": 39,
    "start_time": "2023-10-10T19:34:08.633Z"
   },
   {
    "duration": 4,
    "start_time": "2023-10-10T19:34:08.680Z"
   },
   {
    "duration": 46,
    "start_time": "2023-10-10T19:34:08.687Z"
   },
   {
    "duration": 33,
    "start_time": "2023-10-10T19:34:08.734Z"
   },
   {
    "duration": 21,
    "start_time": "2023-10-10T19:34:08.768Z"
   },
   {
    "duration": 22,
    "start_time": "2023-10-10T19:34:08.792Z"
   },
   {
    "duration": 12,
    "start_time": "2023-10-10T19:34:08.815Z"
   },
   {
    "duration": 180,
    "start_time": "2023-10-10T19:34:08.828Z"
   },
   {
    "duration": 67,
    "start_time": "2023-10-10T19:34:09.009Z"
   },
   {
    "duration": 11,
    "start_time": "2023-10-10T19:34:09.082Z"
   },
   {
    "duration": 19,
    "start_time": "2023-10-10T19:34:09.094Z"
   },
   {
    "duration": 199,
    "start_time": "2023-10-10T19:34:09.114Z"
   },
   {
    "duration": 2,
    "start_time": "2023-10-10T19:34:09.314Z"
   },
   {
    "duration": 32,
    "start_time": "2023-10-10T19:34:09.317Z"
   },
   {
    "duration": 11,
    "start_time": "2023-10-10T19:34:09.351Z"
   },
   {
    "duration": 12,
    "start_time": "2023-10-10T19:34:09.366Z"
   },
   {
    "duration": 34,
    "start_time": "2023-10-10T19:34:09.379Z"
   },
   {
    "duration": 721,
    "start_time": "2023-10-10T19:34:09.414Z"
   },
   {
    "duration": 459,
    "start_time": "2023-10-10T19:34:10.154Z"
   },
   {
    "duration": 47,
    "start_time": "2023-10-10T19:34:10.614Z"
   },
   {
    "duration": 18,
    "start_time": "2023-10-10T19:34:10.662Z"
   },
   {
    "duration": 25,
    "start_time": "2023-10-10T19:34:10.681Z"
   },
   {
    "duration": 24,
    "start_time": "2023-10-10T19:34:10.707Z"
   },
   {
    "duration": 283,
    "start_time": "2023-10-10T19:34:10.733Z"
   },
   {
    "duration": 4,
    "start_time": "2023-10-10T19:34:11.018Z"
   },
   {
    "duration": 6,
    "start_time": "2023-10-10T19:34:11.024Z"
   },
   {
    "duration": 64,
    "start_time": "2023-10-10T19:34:11.032Z"
   },
   {
    "duration": 23,
    "start_time": "2023-10-10T19:34:11.098Z"
   },
   {
    "duration": 25,
    "start_time": "2023-10-10T19:34:11.122Z"
   },
   {
    "duration": 1296,
    "start_time": "2023-10-10T21:05:12.629Z"
   },
   {
    "duration": 9106,
    "start_time": "2023-10-10T21:05:13.927Z"
   },
   {
    "duration": 73,
    "start_time": "2023-10-10T21:05:23.035Z"
   },
   {
    "duration": 23,
    "start_time": "2023-10-10T21:05:23.111Z"
   },
   {
    "duration": 22,
    "start_time": "2023-10-10T21:05:23.137Z"
   },
   {
    "duration": 172,
    "start_time": "2023-10-10T21:05:23.162Z"
   },
   {
    "duration": 9,
    "start_time": "2023-10-10T21:05:23.336Z"
   },
   {
    "duration": 30,
    "start_time": "2023-10-10T21:05:23.347Z"
   },
   {
    "duration": 833,
    "start_time": "2023-10-10T21:05:23.379Z"
   },
   {
    "duration": 14,
    "start_time": "2023-10-10T21:05:24.216Z"
   },
   {
    "duration": 115,
    "start_time": "2023-10-10T21:05:24.233Z"
   },
   {
    "duration": 91,
    "start_time": "2023-10-10T21:05:24.350Z"
   },
   {
    "duration": 10,
    "start_time": "2023-10-10T21:05:24.443Z"
   },
   {
    "duration": 14,
    "start_time": "2023-10-10T21:05:24.455Z"
   },
   {
    "duration": 27,
    "start_time": "2023-10-10T21:05:24.471Z"
   },
   {
    "duration": 23,
    "start_time": "2023-10-10T21:05:24.503Z"
   },
   {
    "duration": 23,
    "start_time": "2023-10-10T21:05:24.534Z"
   },
   {
    "duration": 16,
    "start_time": "2023-10-10T21:05:24.559Z"
   },
   {
    "duration": 44,
    "start_time": "2023-10-10T21:05:24.577Z"
   },
   {
    "duration": 64,
    "start_time": "2023-10-10T21:05:24.623Z"
   },
   {
    "duration": 26,
    "start_time": "2023-10-10T21:05:24.701Z"
   },
   {
    "duration": 26,
    "start_time": "2023-10-10T21:05:24.730Z"
   },
   {
    "duration": 204,
    "start_time": "2023-10-10T21:05:24.759Z"
   },
   {
    "duration": 257,
    "start_time": "2023-10-10T21:05:24.966Z"
   },
   {
    "duration": 72,
    "start_time": "2023-10-10T21:05:25.225Z"
   },
   {
    "duration": 12,
    "start_time": "2023-10-10T21:05:25.301Z"
   },
   {
    "duration": 16,
    "start_time": "2023-10-10T21:05:25.315Z"
   },
   {
    "duration": 19,
    "start_time": "2023-10-10T21:05:25.338Z"
   },
   {
    "duration": 27,
    "start_time": "2023-10-10T21:05:25.359Z"
   },
   {
    "duration": 34,
    "start_time": "2023-10-10T21:05:25.387Z"
   },
   {
    "duration": 11,
    "start_time": "2023-10-10T21:05:25.423Z"
   },
   {
    "duration": 23,
    "start_time": "2023-10-10T21:05:25.437Z"
   },
   {
    "duration": 52,
    "start_time": "2023-10-10T21:05:25.463Z"
   },
   {
    "duration": 34,
    "start_time": "2023-10-10T21:05:25.517Z"
   },
   {
    "duration": 14,
    "start_time": "2023-10-10T21:05:25.553Z"
   },
   {
    "duration": 22,
    "start_time": "2023-10-10T21:05:25.570Z"
   },
   {
    "duration": 61,
    "start_time": "2023-10-10T21:05:25.605Z"
   },
   {
    "duration": 67,
    "start_time": "2023-10-10T21:05:25.668Z"
   },
   {
    "duration": 30,
    "start_time": "2023-10-10T21:05:25.738Z"
   },
   {
    "duration": 21,
    "start_time": "2023-10-10T21:05:25.771Z"
   },
   {
    "duration": 34,
    "start_time": "2023-10-10T21:05:25.795Z"
   },
   {
    "duration": 194,
    "start_time": "2023-10-10T21:05:25.831Z"
   },
   {
    "duration": 35,
    "start_time": "2023-10-10T21:05:26.027Z"
   },
   {
    "duration": 5,
    "start_time": "2023-10-10T21:05:26.064Z"
   },
   {
    "duration": 54,
    "start_time": "2023-10-10T21:05:26.070Z"
   },
   {
    "duration": 964,
    "start_time": "2023-10-10T21:05:26.126Z"
   },
   {
    "duration": 4,
    "start_time": "2023-10-10T21:05:27.092Z"
   },
   {
    "duration": 39,
    "start_time": "2023-10-10T21:05:27.098Z"
   },
   {
    "duration": 68,
    "start_time": "2023-10-10T21:05:27.139Z"
   },
   {
    "duration": 9,
    "start_time": "2023-10-10T21:05:27.215Z"
   },
   {
    "duration": 16,
    "start_time": "2023-10-10T21:05:27.227Z"
   },
   {
    "duration": 744,
    "start_time": "2023-10-10T21:05:27.245Z"
   },
   {
    "duration": 497,
    "start_time": "2023-10-10T21:05:27.991Z"
   },
   {
    "duration": 44,
    "start_time": "2023-10-10T21:05:28.490Z"
   },
   {
    "duration": 14,
    "start_time": "2023-10-10T21:05:28.536Z"
   },
   {
    "duration": 32,
    "start_time": "2023-10-10T21:05:28.552Z"
   },
   {
    "duration": 40,
    "start_time": "2023-10-10T21:05:28.586Z"
   },
   {
    "duration": 262,
    "start_time": "2023-10-10T21:05:28.629Z"
   },
   {
    "duration": 8,
    "start_time": "2023-10-10T21:05:28.901Z"
   },
   {
    "duration": 62,
    "start_time": "2023-10-10T21:05:28.914Z"
   },
   {
    "duration": 86,
    "start_time": "2023-10-10T21:05:28.978Z"
   },
   {
    "duration": 27,
    "start_time": "2023-10-10T21:05:29.065Z"
   },
   {
    "duration": 30,
    "start_time": "2023-10-10T21:05:29.094Z"
   },
   {
    "duration": 15,
    "start_time": "2023-10-10T21:05:40.853Z"
   },
   {
    "duration": 31,
    "start_time": "2023-10-10T21:05:44.097Z"
   }
  ],
  "kernelspec": {
   "display_name": "Python 3 (ipykernel)",
   "language": "python",
   "name": "python3"
  },
  "language_info": {
   "codemirror_mode": {
    "name": "ipython",
    "version": 3
   },
   "file_extension": ".py",
   "mimetype": "text/x-python",
   "name": "python",
   "nbconvert_exporter": "python",
   "pygments_lexer": "ipython3",
   "version": "3.11.3"
  },
  "toc": {
   "base_numbering": 1,
   "nav_menu": {},
   "number_sections": true,
   "sideBar": true,
   "skip_h1_title": true,
   "title_cell": "Table of Contents",
   "title_sidebar": "Contents",
   "toc_cell": false,
   "toc_position": {
    "height": "calc(100% - 180px)",
    "left": "10px",
    "top": "150px",
    "width": "165px"
   },
   "toc_section_display": true,
   "toc_window_display": true
  }
 },
 "nbformat": 4,
 "nbformat_minor": 2
}
